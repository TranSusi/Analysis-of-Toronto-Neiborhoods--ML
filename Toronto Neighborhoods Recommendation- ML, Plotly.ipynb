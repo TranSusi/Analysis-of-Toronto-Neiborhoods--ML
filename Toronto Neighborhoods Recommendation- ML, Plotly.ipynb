{
 "cells": [
  {
   "cell_type": "markdown",
   "metadata": {},
   "source": [
    "# Toronto Neighbourhoods Analysis using ML, Plotly\n"
   ]
  },
  {
   "cell_type": "markdown",
   "metadata": {},
   "source": [
    "## I- Introduction\n",
    "- Inspiration from an article ‘Should I Stay or Should I Go? ’ International Students Decision-Making About Staying in Canada’[https://link.springer.com/article/10.1007/s12134-021-00825-1 1]. This article recalls the similar question for Vietnamese students who study and live in Finland- the country I am in now or other country- Should I stay here or return home? What the awesome factors here I need and can not get it if I get home? Are these factors really what I need?\n",
    "\n",
    "### 1.\tProblem \n",
    "The City of Toronto has 140 neighbourhoods spanning 6 districts. As a new immigrant, a vital question to answer is “What neighbourhood do I settle in?”. The purpose of this project is to group Toronto neighbourhoods in order of desirability using Machine Learning and Data Visualization techniques.\n",
    "\n",
    "### 2.\tBasis\n",
    "There are several factors to consider when settling down in any location. For this project, I performed my analysis using the following criteria:\n",
    "•\t-**Total number of Essential Venues** in each neighbourhood\n",
    "•\t-**Primary and Secondary Benchmarks**: Primary benchmarks considered were Unemployment rate, Crime rate and COVID-19 rates for each neighbourhood while the Secondary benchmark was housing price for a one-bedroom apartment in each neighbourhood.\n",
    "\n",
    "\n",
    "\n"
   ]
  },
  {
   "cell_type": "markdown",
   "metadata": {
    "deletable": false,
    "editable": false
   },
   "source": [
    "## Contents\n",
    "\n",
    "[1. Import Libraries](#1.-Import-Libraries)\n",
    "\n",
    "[2. Import Neighbourhoods Datasets](#2.-Import-Neighbourhoods-Datasets)\n",
    "\n",
    "[3. Data Cleaning](#3.-Data-Cleaning)   \n",
    "\n",
    "[4. Data Exploration](#4.-Data-Exploration)\n",
    "\n",
    "[5. Toronto Neighbourhoods Venues Data Mining](#5.-Toronto-Neighbourhoods-Venues-Data-Mining)\n",
    "\n",
    "[6. Analyzing Toronto Neighbourhoods & Venues](#6.-Analyzing-Toronto-Neighbourhoods-&-Venues)\n",
    "\n",
    "[7. Machine Learning Algorithm (k-Means)](#7.-Machine-Learning-Algorithm-(k-Means))\n",
    "\n",
    "[8. Clustering Neighbourhoods by Total number of Essential Venues](#8.-Clustering-Neighbourhoods-by-Total-number-of-Essential-Venues)\n",
    "\n",
    "[9. Visualizing Toronto Neighbourhoods Clusters](#9.-Visualizing-Toronto-Neighbourhoods-Clusters)\n",
    "\n",
    "[10. Import and Clean Primary Benchmarks Datasets](#10.-Import-and-Clean-Primary-Benchmarks-Datasets)\n",
    "\n",
    "[11. Clustering Neighbourhoods by Primary Benchmarks](#11.-Clustering-Neighbourhoods-by-Primary-Benchmarks)\n",
    "\n",
    "[12. Clustering using Secondary Benchmark (Housing Prices)](#12.-Clustering-using-Secondary-Benchmark-(Housing-Prices))\n",
    "\n",
    "[13. Final Results and Visualizations](#13.-Final-Results-and-Visualizations)"
   ]
  },
  {
   "cell_type": "markdown",
   "metadata": {
    "deletable": false,
    "editable": false
   },
   "source": [
    "## 1. Import Libraries"
   ]
  },
  {
   "cell_type": "markdown",
   "metadata": {},
   "source": [
    "Import below needed libraries. The hardest library to install is geocoder. Follow steps from following link to install that:https://medium.com/analytics-vidhya/fastest-way-to-install-geopandas-in-jupyter-notebook-on-windows-8f734e11fa2b\n",
    "Initializing via using dictionaries:\n"
   ]
  },
  {
   "cell_type": "code",
   "execution_count": null,
   "metadata": {},
   "outputs": [],
   "source": [
    "import numpy as np \n",
    "import pandas as pd  # For data analysis tasks\n",
    "pd.set_option('display.max_columns', None) #set_option(): isplay-related options for user to adjust.\n",
    "                                           #  sets the maximum number of rows and columns displayed when a frame is pretty-printed\n",
    "pd.set_option('display.max_rows', None)\n",
    "pd.options.display.float_format = '{:,.2f}'.format #Display Pandas dataframe of floats using a format string \n",
    "from pandas.io.json import json_normalize  # convert JSON file into a pandas dataframe\n",
    "                                           # 'Normalize' is semi-structured JSON data into a flat table\n",
    "\n",
    "from sklearn.cluster import KMeans\n",
    "\n",
    "import geocoder  # Use geocoder to Geocoder to convert physical address to latitude and longitude.\n",
    "import plotly.express as px # to visualize a variety of data types. Use function 'px'.\n",
    "import geopandas as gpd # to work with geospatial data \n",
    "import chart_studio\n",
    "import chart_studio.plotly as py # to export Plotly to Chart Studio\n",
    "import plotly.graph_objects as go # to contains all class definitions for the objects that make up the plots we see \n",
    "import plotly.io as pio # Plotly renderer, a low-level interface for displaying, reading and writing figures.\n",
    "import matplotlib.pyplot as plt # for visualizations\n",
    "import datapane as dp # to build interactive reports for the end-users in seconds\n",
    "from plotly.subplots import make_subplots # to make multiple Plotly plots in one instance, to construct figures with arbitrary subplots.\n",
    "\n",
    "import plotly.offline as pyo # to make a standalone saved locally and opened in your web browser.\n",
    "pyo.init_notebook_mode()     # Set notebook mode to work in offline, \n",
    "\n",
    "print('Libraries imported.')"
   ]
  },
  {
   "cell_type": "markdown",
   "metadata": {
    "deletable": false,
    "editable": false
   },
   "source": [
    "## 2. Import Neighbourhoods Datasets"
   ]
  },
  {
   "cell_type": "markdown",
   "metadata": {},
   "source": [
    "140 Toronto neighbourhoods and IDs of their Neighbourhoods  were imported to the notebook. The GeoJSON file was also imported and converted to a Pandas dataframe."
   ]
  },
  {
   "cell_type": "code",
   "execution_count": null,
   "metadata": {},
   "outputs": [],
   "source": [
    "toronto_df = pd.read_excel(\n",
    "    r'\\C:\\Users\\ttpli\\Toronto COVID19_Neighbour.xlsx',\n",
    "    sheet_name='All Cases and Rates by Neighbou') # Get sheet names of 'All Cases and Rates by Neighbou'  \n",
    "                                                # from the wholeworkbook 'Toronto COVID19_Neighbour'\n",
    "toronto_geo = r'\\C:\\Users\\ttpli\\Neighbourhoods.geojson.xlsx',  \n",
    "\n",
    "print('Datasets downloaded')"
   ]
  },
  {
   "cell_type": "markdown",
   "metadata": {},
   "source": [
    "## 3. Data Cleaning"
   ]
  },
  {
   "cell_type": "markdown",
   "metadata": {},
   "source": [
    "1- Missing values were removed and become empty now. They are not the most important data so the dat of 140 neighbourhoods is fine  and not be affected. The relevant data here are **Neighbourhood ID and Name columns**. \n",
    "2- **Neighbourhood ID** is the primary key"
   ]
  },
  {
   "cell_type": "markdown",
   "metadata": {},
   "source": [
    "### Cleaning Neighbourhoods dataset"
   ]
  },
  {
   "cell_type": "code",
   "execution_count": 3,
   "metadata": {},
   "outputs": [
    {
     "data": {
      "text/html": [
       "<div>\n",
       "<style scoped>\n",
       "    .dataframe tbody tr th:only-of-type {\n",
       "        vertical-align: middle;\n",
       "    }\n",
       "\n",
       "    .dataframe tbody tr th {\n",
       "        vertical-align: top;\n",
       "    }\n",
       "\n",
       "    .dataframe thead th {\n",
       "        text-align: right;\n",
       "    }\n",
       "</style>\n",
       "<table border=\"1\" class=\"dataframe\">\n",
       "  <thead>\n",
       "    <tr style=\"text-align: right;\">\n",
       "      <th></th>\n",
       "      <th>Neighbourhood ID</th>\n",
       "      <th>Neighbourhood Name</th>\n",
       "    </tr>\n",
       "  </thead>\n",
       "  <tbody>\n",
       "    <tr>\n",
       "      <th>0</th>\n",
       "      <td>138</td>\n",
       "      <td>Eglinton East</td>\n",
       "    </tr>\n",
       "    <tr>\n",
       "      <th>1</th>\n",
       "      <td>47</td>\n",
       "      <td>Don Valley Village</td>\n",
       "    </tr>\n",
       "    <tr>\n",
       "      <th>2</th>\n",
       "      <td>38</td>\n",
       "      <td>Lansing-Westgate</td>\n",
       "    </tr>\n",
       "    <tr>\n",
       "      <th>3</th>\n",
       "      <td>9</td>\n",
       "      <td>Edenbridge-Humber Valley</td>\n",
       "    </tr>\n",
       "    <tr>\n",
       "      <th>4</th>\n",
       "      <td>44</td>\n",
       "      <td>Flemingdon Park</td>\n",
       "    </tr>\n",
       "  </tbody>\n",
       "</table>\n",
       "</div>"
      ],
      "text/plain": [
       "   Neighbourhood ID        Neighbourhood Name\n",
       "0               138             Eglinton East\n",
       "1                47        Don Valley Village\n",
       "2                38          Lansing-Westgate\n",
       "3                 9  Edenbridge-Humber Valley\n",
       "4                44           Flemingdon Park"
      ]
     },
     "execution_count": 3,
     "metadata": {},
     "output_type": "execute_result"
    }
   ],
   "source": [
    "toronto_df.dropna(axis=0, inplace=True) # dropna() removes the rows that contains NULL values\n",
    "toronto_df = toronto_df.astype({\"Neighbourhood ID\": int}) # Change \"Neighbourhood ID\" to Integer data type\n",
    "toronto_df.head() # Display top 5 rows"
   ]
  },
  {
   "cell_type": "markdown",
   "metadata": {},
   "source": [
    "### Cleaning Geopandas Dataframe"
   ]
  },
  {
   "cell_type": "code",
   "execution_count": 4,
   "metadata": {},
   "outputs": [
    {
     "data": {
      "text/html": [
       "<div>\n",
       "<style scoped>\n",
       "    .dataframe tbody tr th:only-of-type {\n",
       "        vertical-align: middle;\n",
       "    }\n",
       "\n",
       "    .dataframe tbody tr th {\n",
       "        vertical-align: top;\n",
       "    }\n",
       "\n",
       "    .dataframe thead th {\n",
       "        text-align: right;\n",
       "    }\n",
       "</style>\n",
       "<table border=\"1\" class=\"dataframe\">\n",
       "  <thead>\n",
       "    <tr style=\"text-align: right;\">\n",
       "      <th></th>\n",
       "      <th>_id</th>\n",
       "      <th>AREA_ID</th>\n",
       "      <th>AREA_ATTR_ID</th>\n",
       "      <th>PARENT_AREA_ID</th>\n",
       "      <th>AREA_SHORT_CODE</th>\n",
       "      <th>AREA_LONG_CODE</th>\n",
       "      <th>AREA_NAME</th>\n",
       "      <th>AREA_DESC</th>\n",
       "      <th>X</th>\n",
       "      <th>Y</th>\n",
       "      <th>LONGITUDE</th>\n",
       "      <th>LATITUDE</th>\n",
       "      <th>OBJECTID</th>\n",
       "      <th>Shape__Area</th>\n",
       "      <th>Shape__Length</th>\n",
       "      <th>geometry</th>\n",
       "    </tr>\n",
       "  </thead>\n",
       "  <tbody>\n",
       "    <tr>\n",
       "      <th>0</th>\n",
       "      <td>8261</td>\n",
       "      <td>25886861</td>\n",
       "      <td>25926662</td>\n",
       "      <td>49885</td>\n",
       "      <td>94</td>\n",
       "      <td>94</td>\n",
       "      <td>Wychwood (94)</td>\n",
       "      <td>Wychwood (94)</td>\n",
       "      <td>None</td>\n",
       "      <td>None</td>\n",
       "      <td>-79.43</td>\n",
       "      <td>43.68</td>\n",
       "      <td>16491505</td>\n",
       "      <td>3,217,959.61</td>\n",
       "      <td>7,515.78</td>\n",
       "      <td>POLYGON ((-79.43592 43.68015, -79.43492 43.680...</td>\n",
       "    </tr>\n",
       "    <tr>\n",
       "      <th>1</th>\n",
       "      <td>8262</td>\n",
       "      <td>25886820</td>\n",
       "      <td>25926663</td>\n",
       "      <td>49885</td>\n",
       "      <td>100</td>\n",
       "      <td>100</td>\n",
       "      <td>Yonge-Eglinton (100)</td>\n",
       "      <td>Yonge-Eglinton (100)</td>\n",
       "      <td>None</td>\n",
       "      <td>None</td>\n",
       "      <td>-79.40</td>\n",
       "      <td>43.70</td>\n",
       "      <td>16491521</td>\n",
       "      <td>3,160,333.99</td>\n",
       "      <td>7,872.02</td>\n",
       "      <td>POLYGON ((-79.41096 43.70408, -79.40962 43.704...</td>\n",
       "    </tr>\n",
       "    <tr>\n",
       "      <th>2</th>\n",
       "      <td>8263</td>\n",
       "      <td>25886834</td>\n",
       "      <td>25926664</td>\n",
       "      <td>49885</td>\n",
       "      <td>97</td>\n",
       "      <td>97</td>\n",
       "      <td>Yonge-St.Clair (97)</td>\n",
       "      <td>Yonge-St.Clair (97)</td>\n",
       "      <td>None</td>\n",
       "      <td>None</td>\n",
       "      <td>-79.40</td>\n",
       "      <td>43.69</td>\n",
       "      <td>16491537</td>\n",
       "      <td>2,222,464.27</td>\n",
       "      <td>8,130.41</td>\n",
       "      <td>POLYGON ((-79.39119 43.68108, -79.39141 43.680...</td>\n",
       "    </tr>\n",
       "    <tr>\n",
       "      <th>3</th>\n",
       "      <td>8264</td>\n",
       "      <td>25886593</td>\n",
       "      <td>25926665</td>\n",
       "      <td>49885</td>\n",
       "      <td>27</td>\n",
       "      <td>27</td>\n",
       "      <td>York University Heights (27)</td>\n",
       "      <td>York University Heights (27)</td>\n",
       "      <td>None</td>\n",
       "      <td>None</td>\n",
       "      <td>-79.49</td>\n",
       "      <td>43.77</td>\n",
       "      <td>16491553</td>\n",
       "      <td>25,418,210.12</td>\n",
       "      <td>25,632.34</td>\n",
       "      <td>POLYGON ((-79.50529 43.75987, -79.50488 43.759...</td>\n",
       "    </tr>\n",
       "    <tr>\n",
       "      <th>4</th>\n",
       "      <td>8265</td>\n",
       "      <td>25886688</td>\n",
       "      <td>25926666</td>\n",
       "      <td>49885</td>\n",
       "      <td>31</td>\n",
       "      <td>31</td>\n",
       "      <td>Yorkdale-Glen Park (31)</td>\n",
       "      <td>Yorkdale-Glen Park (31)</td>\n",
       "      <td>None</td>\n",
       "      <td>None</td>\n",
       "      <td>-79.46</td>\n",
       "      <td>43.71</td>\n",
       "      <td>16491569</td>\n",
       "      <td>11,566,687.56</td>\n",
       "      <td>13,953.41</td>\n",
       "      <td>POLYGON ((-79.43969 43.70561, -79.44011 43.705...</td>\n",
       "    </tr>\n",
       "  </tbody>\n",
       "</table>\n",
       "</div>"
      ],
      "text/plain": [
       "    _id   AREA_ID  AREA_ATTR_ID  PARENT_AREA_ID  AREA_SHORT_CODE  \\\n",
       "0  8261  25886861      25926662           49885               94   \n",
       "1  8262  25886820      25926663           49885              100   \n",
       "2  8263  25886834      25926664           49885               97   \n",
       "3  8264  25886593      25926665           49885               27   \n",
       "4  8265  25886688      25926666           49885               31   \n",
       "\n",
       "   AREA_LONG_CODE                     AREA_NAME                     AREA_DESC  \\\n",
       "0              94                 Wychwood (94)                 Wychwood (94)   \n",
       "1             100          Yonge-Eglinton (100)          Yonge-Eglinton (100)   \n",
       "2              97           Yonge-St.Clair (97)           Yonge-St.Clair (97)   \n",
       "3              27  York University Heights (27)  York University Heights (27)   \n",
       "4              31       Yorkdale-Glen Park (31)       Yorkdale-Glen Park (31)   \n",
       "\n",
       "      X     Y  LONGITUDE  LATITUDE  OBJECTID   Shape__Area  Shape__Length  \\\n",
       "0  None  None     -79.43     43.68  16491505  3,217,959.61       7,515.78   \n",
       "1  None  None     -79.40     43.70  16491521  3,160,333.99       7,872.02   \n",
       "2  None  None     -79.40     43.69  16491537  2,222,464.27       8,130.41   \n",
       "3  None  None     -79.49     43.77  16491553 25,418,210.12      25,632.34   \n",
       "4  None  None     -79.46     43.71  16491569 11,566,687.56      13,953.41   \n",
       "\n",
       "                                            geometry  \n",
       "0  POLYGON ((-79.43592 43.68015, -79.43492 43.680...  \n",
       "1  POLYGON ((-79.41096 43.70408, -79.40962 43.704...  \n",
       "2  POLYGON ((-79.39119 43.68108, -79.39141 43.680...  \n",
       "3  POLYGON ((-79.50529 43.75987, -79.50488 43.759...  \n",
       "4  POLYGON ((-79.43969 43.70561, -79.44011 43.705...  "
      ]
     },
     "execution_count": 4,
     "metadata": {},
     "output_type": "execute_result"
    }
   ],
   "source": [
    "toronto_gdf = gpd.read_file(toronto_geo) # Read GEOJSON file to a Geopandas dataframe\n",
    "toronto_gdf.head() # Display initial dataframe to see what outcome is"
   ]
  },
  {
   "cell_type": "code",
   "execution_count": 5,
   "metadata": {},
   "outputs": [
    {
     "data": {
      "text/html": [
       "<div>\n",
       "<style scoped>\n",
       "    .dataframe tbody tr th:only-of-type {\n",
       "        vertical-align: middle;\n",
       "    }\n",
       "\n",
       "    .dataframe tbody tr th {\n",
       "        vertical-align: top;\n",
       "    }\n",
       "\n",
       "    .dataframe thead th {\n",
       "        text-align: right;\n",
       "    }\n",
       "</style>\n",
       "<table border=\"1\" class=\"dataframe\">\n",
       "  <thead>\n",
       "    <tr style=\"text-align: right;\">\n",
       "      <th></th>\n",
       "      <th>Neighbourhood ID</th>\n",
       "      <th>LONGITUDE</th>\n",
       "      <th>LATITUDE</th>\n",
       "      <th>Shape__Area</th>\n",
       "      <th>Shape__Length</th>\n",
       "      <th>geometry</th>\n",
       "    </tr>\n",
       "  </thead>\n",
       "  <tbody>\n",
       "    <tr>\n",
       "      <th>0</th>\n",
       "      <td>94</td>\n",
       "      <td>-79.43</td>\n",
       "      <td>43.68</td>\n",
       "      <td>3,217,959.61</td>\n",
       "      <td>7,515.78</td>\n",
       "      <td>POLYGON ((-79.43592 43.68015, -79.43492 43.680...</td>\n",
       "    </tr>\n",
       "    <tr>\n",
       "      <th>1</th>\n",
       "      <td>100</td>\n",
       "      <td>-79.40</td>\n",
       "      <td>43.70</td>\n",
       "      <td>3,160,333.99</td>\n",
       "      <td>7,872.02</td>\n",
       "      <td>POLYGON ((-79.41096 43.70408, -79.40962 43.704...</td>\n",
       "    </tr>\n",
       "    <tr>\n",
       "      <th>2</th>\n",
       "      <td>97</td>\n",
       "      <td>-79.40</td>\n",
       "      <td>43.69</td>\n",
       "      <td>2,222,464.27</td>\n",
       "      <td>8,130.41</td>\n",
       "      <td>POLYGON ((-79.39119 43.68108, -79.39141 43.680...</td>\n",
       "    </tr>\n",
       "    <tr>\n",
       "      <th>3</th>\n",
       "      <td>27</td>\n",
       "      <td>-79.49</td>\n",
       "      <td>43.77</td>\n",
       "      <td>25,418,210.12</td>\n",
       "      <td>25,632.34</td>\n",
       "      <td>POLYGON ((-79.50529 43.75987, -79.50488 43.759...</td>\n",
       "    </tr>\n",
       "    <tr>\n",
       "      <th>4</th>\n",
       "      <td>31</td>\n",
       "      <td>-79.46</td>\n",
       "      <td>43.71</td>\n",
       "      <td>11,566,687.56</td>\n",
       "      <td>13,953.41</td>\n",
       "      <td>POLYGON ((-79.43969 43.70561, -79.44011 43.705...</td>\n",
       "    </tr>\n",
       "  </tbody>\n",
       "</table>\n",
       "</div>"
      ],
      "text/plain": [
       "   Neighbourhood ID  LONGITUDE  LATITUDE   Shape__Area  Shape__Length  \\\n",
       "0                94     -79.43     43.68  3,217,959.61       7,515.78   \n",
       "1               100     -79.40     43.70  3,160,333.99       7,872.02   \n",
       "2                97     -79.40     43.69  2,222,464.27       8,130.41   \n",
       "3                27     -79.49     43.77 25,418,210.12      25,632.34   \n",
       "4                31     -79.46     43.71 11,566,687.56      13,953.41   \n",
       "\n",
       "                                            geometry  \n",
       "0  POLYGON ((-79.43592 43.68015, -79.43492 43.680...  \n",
       "1  POLYGON ((-79.41096 43.70408, -79.40962 43.704...  \n",
       "2  POLYGON ((-79.39119 43.68108, -79.39141 43.680...  \n",
       "3  POLYGON ((-79.50529 43.75987, -79.50488 43.759...  \n",
       "4  POLYGON ((-79.43969 43.70561, -79.44011 43.705...  "
      ]
     },
     "execution_count": 5,
     "metadata": {},
     "output_type": "execute_result"
    }
   ],
   "source": [
    "toronto_gdf = toronto_gdf.iloc[:, 5:]  # Slice dataframe for only relevant attributes\n",
    "toronto_gdf.rename(columns={'AREA_LONG_CODE': 'Neighbourhood ID'},\n",
    "                   inplace=True)  # Rename Area_Long_Code as it is same as Neighbourhood ID\n",
    "toronto_gdf.drop(labels=['AREA_DESC', 'OBJECTID', 'X', 'Y', 'AREA_NAME'],\n",
    "                 axis=1, inplace=True) # Drop irrelevant columns\n",
    "toronto_gdf.head() # Display top 5 rows"
   ]
  },
  {
   "cell_type": "markdown",
   "metadata": {
    "deletable": false,
    "editable": false
   },
   "source": [
    "### Merge Geopandas and Neighbourhoods Dataset\n",
    "The Geopandas dataframe and the Neighbourhoods dataset were merged into one Geopandas dataframe. This dataframe was very important for map visualizations on Plotly"
   ]
  },
  {
   "cell_type": "code",
   "execution_count": null,
   "metadata": {},
   "outputs": [],
   "source": [
    "toronto_gdf=toronto_gdf.merge(toronto_df,\n",
    "                              on='Neighbourhood ID') # Merge(dataframe.merge(right, how, on,\n",
    "                            #left_on, right_on, left_index, right_index, sort, suffixes, copy, indicator, validate))\n",
    "cols = toronto_gdf.columns.tolist() # tolist() method is toconvert a Dataframe Column(a Pandas Series) to a List.\n",
    "cols = cols[-1:] + cols[:-1] # Shift last column of dataframe to first column\n",
    "toronto_gdf=toronto_gdf[cols] # Reorder columns in the Geopandas dataframe\n",
    "toronto_gdf.head() # Display top 5 rows"
   ]
  },
  {
   "cell_type": "markdown",
   "metadata": {
    "deletable": false,
    "editable": false
   },
   "source": [
    "## 4. Data Exploration"
   ]
  },
  {
   "cell_type": "markdown",
   "metadata": {
    "deletable": false,
    "editable": false
   },
   "source": [
    "In this section, I used Geopy library to obtain the coordinates for Toronto and made a scatter map of all the 140 neighbourhoods."
   ]
  },
  {
   "cell_type": "code",
   "execution_count": null,
   "metadata": {},
   "outputs": [],
   "source": [
    "Using library Geopy to get suitable coordinates ofrom addresses or place names. Then I make a scatter map of these places."
   ]
  },
  {
   "cell_type": "code",
   "execution_count": 7,
   "metadata": {},
   "outputs": [
    {
     "name": "stdout",
     "output_type": "stream",
     "text": [
      "43.6534817 -79.3839347\n"
     ]
    }
   ],
   "source": [
    "from geopy.geocoders import Nominatim # match address with coordinates(latitude and longitude)\n",
    "\n",
    "address = 'Toronto' # Place name that we needs to get coordinates\n",
    "geolocator = Nominatim(user_agent=\"toronto_explorer\") # User_Agent argument, an http request header \n",
    "                                                      # needs to be set to your application name\n",
    "location = geolocator.geocode(address) #geocode(): convert a list fo address into a map\n",
    "tor_lat = location.latitude # store longitude value\n",
    "tor_lon = location.longitude # store latitude value\n",
    "\n",
    "print(tor_lat,tor_lon )"
   ]
  },
  {
   "cell_type": "code",
   "execution_count": 8,
   "metadata": {
    "hide_input": true
   },
   "outputs": [],
   "source": [
    "mapbox_accesstoken='pk.eyJ1IjoiZXhhbXBsZXMiLCJhIjoiY2lqbmpqazdlMDBsdnRva284cWd3bm11byJ9.V6Hg2oYJwMAxeoR9GEzkAA'\n"
   ]
  },
  {
   "cell_type": "code",
   "execution_count": null,
   "metadata": {
    "scrolled": false
   },
   "outputs": [],
   "source": [
    "accesstoken = mapbox_accesstoken  \n",
    "\n",
    "# Scatter Mapbox Initialization from Plotly Express\n",
    "tor_map = px.scatter_mapbox(toronto_gdf, # gdf: Geopandas dataframe\n",
    "                            lat=\"LATITUDE\", \n",
    "                            lon=\"LONGITUDE\", \n",
    "                            hover_name=\"Neighbourhood Name\",\n",
    "                            hover_data=[\"Neighbourhood ID\"], # Add data to hover frame\n",
    "                            color_discrete_sequence=[\"blue\"], \n",
    "                            center={\n",
    "                                'lat': tor_lat,\n",
    "                                'lon': tor_lon\n",
    "                            },\n",
    "                            zoom=9, \n",
    "                            height=400,\n",
    "                            title=\"Map of Toronto and its 140 Neighbourhoods\")\n",
    "tor_map.update_layout(margin={\"r\": 0, \"t\": 30, \"l\": 0, \"b\": 0}) # set margins of plot\n",
    "tor_map.update_layout(mapbox_style=\"streets\",\n",
    "                      mapbox=dict(bearing=-15, accesstoken=MAPBOX_ACCESSTOKEN))\n",
    "\n",
    "tor_map.show() # Render map"
   ]
  },
  {
   "cell_type": "markdown",
   "metadata": {
    "deletable": false,
    "editable": false
   },
   "source": [
    "## 5. Toronto Neighbourhoods Venues Data Mining"
   ]
  },
  {
   "cell_type": "markdown",
   "metadata": {},
   "source": [
    "## 5. Data Mining of the venues\n"
   ]
  },
  {
   "cell_type": "code",
   "execution_count": null,
   "metadata": {},
   "outputs": [],
   "source": [
    "To get Topn 100 venues of each neighbourhood, API from Foursquare and my user credentials are used. My credentials are stored into variables:CLIENT_ID, CLIENT_SECRET, LIMIT  "
   ]
  },
  {
   "cell_type": "code",
   "execution_count": 10,
   "metadata": {},
   "outputs": [],
   "source": [
    "Foursquare website ID, Secret Key, API version, API limit value"
   ]
  },
  {
   "cell_type": "code",
   "execution_count": 11,
   "metadata": {
    "hide_input": true
   },
   "outputs": [],
   "source": [
    "CLIENT_ID = 'PJK5H0PHLZOLSB3TJVS44YE5PQDTFS44BZP3WIDP31HS1REN' \n",
    "CLIENT_SECRET = 'PSPH5UCW1Y5OTU44JQI5BGBM31MQULBMEJJ2NPGZJZ0HT2X4' \n",
    "VERSION = '20220629' # Foursquare API version format = YYYYMMDD\n",
    "LIMIT = 100 "
   ]
  },
  {
   "cell_type": "markdown",
   "metadata": {
    "deletable": false,
    "editable": false
   },
   "source": [
    "### Define Function to obtain all Venues in each neighbourhood"
   ]
  },
  {
   "cell_type": "code",
   "execution_count": null,
   "metadata": {},
   "outputs": [],
   "source": [
    "### Function to get venues/places"
   ]
  },
  {
   "cell_type": "code",
   "execution_count": 12,
   "metadata": {},
   "outputs": [],
   "source": [
    "def getNearbyVenues(names, latitudes, longitudes, radius=500):\n",
    "\n",
    "    venues_list = []\n",
    "    for name, lat, lng in zip(names, latitudes, longitudes):\n",
    "\n",
    "        # create the API request URL\n",
    "        url = 'https://api.foursquare.com/v2/venues/explore?&client_id={}&client_secret={}&v={}&ll={},{}&radius={}&limit={}'.format(\n",
    "            CLIENT_ID, CLIENT_SECRET, VERSION, lat, lng, radius, LIMIT)\n",
    "\n",
    "        # GET request: response.json(), requests.get(url, params={key: value}, args)\n",
    "        results = requests.get(url).json()[\"response\"]['groups'][0]['items']\n",
    "\n",
    "        # return relevant information for every nearby venue\n",
    "        venues_list.append([(name, lat, lng, v['venue']['name'],\n",
    "                             v['venue']['categories'][0]['name'])\n",
    "                            for v in results])\n",
    "\n",
    "    nearby_venues = pd.DataFrame(\n",
    "        [item for venue_list in venues_list for item in venue_list])\n",
    "    nearby_venues.columns = ['Neighbourhood Name', 'Neighbourhood Latitude',\n",
    "        'Neighbourhood Longitude', 'Venue', 'Venue Category']\n",
    "\n",
    "    return (nearby_venues)"
   ]
  },
  {
   "cell_type": "code",
   "execution_count": 13,
   "metadata": {
    "scrolled": false
   },
   "outputs": [
    {
     "data": {
      "text/html": [
       "<div>\n",
       "<style scoped>\n",
       "    .dataframe tbody tr th:only-of-type {\n",
       "        vertical-align: middle;\n",
       "    }\n",
       "\n",
       "    .dataframe tbody tr th {\n",
       "        vertical-align: top;\n",
       "    }\n",
       "\n",
       "    .dataframe thead th {\n",
       "        text-align: right;\n",
       "    }\n",
       "</style>\n",
       "<table border=\"1\" class=\"dataframe\">\n",
       "  <thead>\n",
       "    <tr style=\"text-align: right;\">\n",
       "      <th></th>\n",
       "      <th>Neighbourhood Name</th>\n",
       "      <th>Neighbourhood Latitude</th>\n",
       "      <th>Neighbourhood Longitude</th>\n",
       "      <th>Venue</th>\n",
       "      <th>Venue Category</th>\n",
       "    </tr>\n",
       "  </thead>\n",
       "  <tbody>\n",
       "    <tr>\n",
       "      <th>0</th>\n",
       "      <td>Wychwood</td>\n",
       "      <td>43.68</td>\n",
       "      <td>-79.43</td>\n",
       "      <td>Wychwood Barns Farmers' Market</td>\n",
       "      <td>Farmers Market</td>\n",
       "    </tr>\n",
       "    <tr>\n",
       "      <th>1</th>\n",
       "      <td>Wychwood</td>\n",
       "      <td>43.68</td>\n",
       "      <td>-79.43</td>\n",
       "      <td>Wychwood Barns</td>\n",
       "      <td>Event Space</td>\n",
       "    </tr>\n",
       "    <tr>\n",
       "      <th>2</th>\n",
       "      <td>Wychwood</td>\n",
       "      <td>43.68</td>\n",
       "      <td>-79.43</td>\n",
       "      <td>Hillcrest Park</td>\n",
       "      <td>Park</td>\n",
       "    </tr>\n",
       "    <tr>\n",
       "      <th>3</th>\n",
       "      <td>Wychwood</td>\n",
       "      <td>43.68</td>\n",
       "      <td>-79.43</td>\n",
       "      <td>Annabelle Pasta Bar</td>\n",
       "      <td>Italian Restaurant</td>\n",
       "    </tr>\n",
       "    <tr>\n",
       "      <th>4</th>\n",
       "      <td>Wychwood</td>\n",
       "      <td>43.68</td>\n",
       "      <td>-79.43</td>\n",
       "      <td>Bob Coffee Bar</td>\n",
       "      <td>Coffee Shop</td>\n",
       "    </tr>\n",
       "  </tbody>\n",
       "</table>\n",
       "</div>"
      ],
      "text/plain": [
       "  Neighbourhood Name  Neighbourhood Latitude  Neighbourhood Longitude  \\\n",
       "0           Wychwood                   43.68                   -79.43   \n",
       "1           Wychwood                   43.68                   -79.43   \n",
       "2           Wychwood                   43.68                   -79.43   \n",
       "3           Wychwood                   43.68                   -79.43   \n",
       "4           Wychwood                   43.68                   -79.43   \n",
       "\n",
       "                            Venue      Venue Category  \n",
       "0  Wychwood Barns Farmers' Market      Farmers Market  \n",
       "1                  Wychwood Barns         Event Space  \n",
       "2                  Hillcrest Park                Park  \n",
       "3             Annabelle Pasta Bar  Italian Restaurant  \n",
       "4                  Bob Coffee Bar         Coffee Shop  "
      ]
     },
     "execution_count": 13,
     "metadata": {},
     "output_type": "execute_result"
    }
   ],
   "source": [
    "# Use the function created above to obtain Venues and Venue Catgories for each Neighbourhood\n",
    "toronto_venues = getNearbyVenues(names=toronto_gdf['Neighbourhood Name'],\n",
    "                                 latitudes=toronto_gdf['LATITUDE'],\n",
    "                                 longitudes=toronto_gdf['LONGITUDE'])\n",
    "toronto_venues.head()"
   ]
  },
  {
   "cell_type": "code",
   "execution_count": 14,
   "metadata": {},
   "outputs": [
    {
     "name": "stdout",
     "output_type": "stream",
     "text": [
      "138 unique neighbourhoods were returned with >1 venues\n",
      "2117 venues were returned\n"
     ]
    }
   ],
   "source": [
    "print('{} unique neighbourhoods were returned with >1 venues'.format(\n",
    "    toronto_venues['Neighbourhood Name'].nunique()))\n",
    "print('{} venues were returned'.format(toronto_venues.shape[0]))"
   ]
  },
  {
   "cell_type": "markdown",
   "metadata": {
    "deletable": false,
    "editable": false
   },
   "source": [
    "Juat only 138 neighbourhoods were returned. Using \"Left Join\" to check which neighbourhoods were not returned. They are St.Andrew-Windfields and Willowridge-Martingrove-Richview."
   ]
  },
  {
   "cell_type": "markdown",
   "metadata": {
    "deletable": false,
    "editable": false
   },
   "source": [
    "### Data Mining Result"
   ]
  },
  {
   "cell_type": "code",
   "execution_count": 16,
   "metadata": {},
   "outputs": [
    {
     "name": "stdout",
     "output_type": "stream",
     "text": [
      "There are 291 unique categories.\n",
      "The least number of venues for a Neighbourhood is 1.\n",
      "The most number of venues for a Neighbourhood is 100.\n",
      "These are the neighbourhoods with least venues:\n",
      "18     Brookhaven-Amesbury\n",
      "54           Humber Summit\n",
      "61            Kennedy Park\n",
      "64          Kingsway South\n",
      "86        Newtonbrook West\n",
      "112    Stonegate-Queensway\n",
      "128        Willowdale East\n",
      "Name: Neighbourhood Name, dtype: object \n"
     ]
    }
   ],
   "source": [
    "tor_count = toronto_venues.groupby(\n",
    "    'Neighbourhood Name').count()  # Group Neighbourhoods and return count of all venues\n",
    "tor_count.reset_index(inplace=True)\n",
    "print('There are {} unique categories.'.format(\n",
    "    len(toronto_venues['Venue Category'].unique())))\n",
    "print('The least number of venues for a Neighbourhood is {}.'.format(\n",
    "    tor_count['Venue Category'].min()))\n",
    "print('The most number of venues for a Neighbourhood is {}.'.format(\n",
    "    tor_count['Venue Category'].max()))\n",
    "print('These are the neighbourhoods with least venues:\\n{} '.format(\n",
    "    tor_count['Neighbourhood Name'][tor_count['Venue Category'] == 1]))"
   ]
  },
  {
   "cell_type": "markdown",
   "metadata": {
    "deletable": false,
    "editable": false
   },
   "source": [
    "## 6. Analyzing Toronto Neighbourhoods & Venues"
   ]
  },
  {
   "cell_type": "markdown",
   "metadata": {
    "deletable": false,
    "editable": false
   },
   "source": [
    "### One-hot Encoding\n",
    "It is used to convert venue categories to numerical formats for each neighbourhood"
   ]
  },
  {
   "cell_type": "code",
   "execution_count": 17,
   "metadata": {},
   "outputs": [
    {
     "data": {
      "text/html": [
       "<div>\n",
       "<style scoped>\n",
       "    .dataframe tbody tr th:only-of-type {\n",
       "        vertical-align: middle;\n",
       "    }\n",
       "\n",
       "    .dataframe tbody tr th {\n",
       "        vertical-align: top;\n",
       "    }\n",
       "\n",
       "    .dataframe thead th {\n",
       "        text-align: right;\n",
       "    }\n",
       "</style>\n",
       "<table border=\"1\" class=\"dataframe\">\n",
       "  <thead>\n",
       "    <tr style=\"text-align: right;\">\n",
       "      <th></th>\n",
       "      <th>Neighbourhood Name</th>\n",
       "      <th>African Restaurant</th>\n",
       "      <th>Airport Service</th>\n",
       "      <th>American Restaurant</th>\n",
       "      <th>Amphitheater</th>\n",
       "      <th>Animal Shelter</th>\n",
       "      <th>Antique Shop</th>\n",
       "      <th>Arcade</th>\n",
       "      <th>Argentinian Restaurant</th>\n",
       "      <th>Art Gallery</th>\n",
       "      <th>Art Museum</th>\n",
       "      <th>Arts &amp; Crafts Store</th>\n",
       "      <th>Asian Restaurant</th>\n",
       "      <th>Astrologer</th>\n",
       "      <th>Athletics &amp; Sports</th>\n",
       "      <th>Auto Dealership</th>\n",
       "      <th>Auto Workshop</th>\n",
       "      <th>Automotive Shop</th>\n",
       "      <th>BBQ Joint</th>\n",
       "      <th>Bagel Shop</th>\n",
       "      <th>Bakery</th>\n",
       "      <th>Bank</th>\n",
       "      <th>Bar</th>\n",
       "      <th>Baseball Field</th>\n",
       "      <th>Basketball Court</th>\n",
       "      <th>Beach</th>\n",
       "      <th>Beer Bar</th>\n",
       "      <th>Beer Store</th>\n",
       "      <th>Belgian Restaurant</th>\n",
       "      <th>Bike Shop</th>\n",
       "      <th>Bistro</th>\n",
       "      <th>Boat or Ferry</th>\n",
       "      <th>Bookstore</th>\n",
       "      <th>Botanical Garden</th>\n",
       "      <th>Boutique</th>\n",
       "      <th>Bowling Alley</th>\n",
       "      <th>Brazilian Restaurant</th>\n",
       "      <th>Breakfast Spot</th>\n",
       "      <th>Brewery</th>\n",
       "      <th>Bridal Shop</th>\n",
       "      <th>Bubble Tea Shop</th>\n",
       "      <th>Buffet</th>\n",
       "      <th>Building</th>\n",
       "      <th>Burger Joint</th>\n",
       "      <th>Burrito Place</th>\n",
       "      <th>Bus Line</th>\n",
       "      <th>Bus Station</th>\n",
       "      <th>Bus Stop</th>\n",
       "      <th>Business Service</th>\n",
       "      <th>Butcher</th>\n",
       "      <th>Café</th>\n",
       "      <th>Cajun / Creole Restaurant</th>\n",
       "      <th>Camera Store</th>\n",
       "      <th>Campground</th>\n",
       "      <th>Candy Store</th>\n",
       "      <th>Cantonese Restaurant</th>\n",
       "      <th>Caribbean Restaurant</th>\n",
       "      <th>Castle</th>\n",
       "      <th>Cheese Shop</th>\n",
       "      <th>Chinese Restaurant</th>\n",
       "      <th>Chiropractor</th>\n",
       "      <th>Chocolate Shop</th>\n",
       "      <th>Churrascaria</th>\n",
       "      <th>Clothing Store</th>\n",
       "      <th>Cocktail Bar</th>\n",
       "      <th>Coffee Shop</th>\n",
       "      <th>College Arts Building</th>\n",
       "      <th>College Gym</th>\n",
       "      <th>College Quad</th>\n",
       "      <th>College Rec Center</th>\n",
       "      <th>College Stadium</th>\n",
       "      <th>Comfort Food Restaurant</th>\n",
       "      <th>Comic Shop</th>\n",
       "      <th>Concert Hall</th>\n",
       "      <th>Construction &amp; Landscaping</th>\n",
       "      <th>Convenience Store</th>\n",
       "      <th>Cosmetics Shop</th>\n",
       "      <th>Costume Shop</th>\n",
       "      <th>Cuban Restaurant</th>\n",
       "      <th>Cupcake Shop</th>\n",
       "      <th>Curling Ice</th>\n",
       "      <th>Dance Studio</th>\n",
       "      <th>Deli / Bodega</th>\n",
       "      <th>Department Store</th>\n",
       "      <th>Dessert Shop</th>\n",
       "      <th>Dim Sum Restaurant</th>\n",
       "      <th>Diner</th>\n",
       "      <th>Discount Store</th>\n",
       "      <th>Dive Bar</th>\n",
       "      <th>Doctor's Office</th>\n",
       "      <th>Dog Run</th>\n",
       "      <th>Donut Shop</th>\n",
       "      <th>Dumpling Restaurant</th>\n",
       "      <th>Eastern European Restaurant</th>\n",
       "      <th>Egyptian Restaurant</th>\n",
       "      <th>Electronics Store</th>\n",
       "      <th>Elementary School</th>\n",
       "      <th>Ethiopian Restaurant</th>\n",
       "      <th>Event Space</th>\n",
       "      <th>Falafel Restaurant</th>\n",
       "      <th>Farm</th>\n",
       "      <th>Farmers Market</th>\n",
       "      <th>Fast Food Restaurant</th>\n",
       "      <th>Field</th>\n",
       "      <th>Filipino Restaurant</th>\n",
       "      <th>Fish &amp; Chips Shop</th>\n",
       "      <th>Fish Market</th>\n",
       "      <th>Flea Market</th>\n",
       "      <th>Flower Shop</th>\n",
       "      <th>Food</th>\n",
       "      <th>Food &amp; Drink Shop</th>\n",
       "      <th>Food Court</th>\n",
       "      <th>Food Truck</th>\n",
       "      <th>French Restaurant</th>\n",
       "      <th>Fried Chicken Joint</th>\n",
       "      <th>Frozen Yogurt Shop</th>\n",
       "      <th>Fruit &amp; Vegetable Store</th>\n",
       "      <th>Furniture / Home Store</th>\n",
       "      <th>Gaming Cafe</th>\n",
       "      <th>Garden</th>\n",
       "      <th>Garden Center</th>\n",
       "      <th>Gas Station</th>\n",
       "      <th>Gastropub</th>\n",
       "      <th>Gay Bar</th>\n",
       "      <th>General Entertainment</th>\n",
       "      <th>General Travel</th>\n",
       "      <th>German Restaurant</th>\n",
       "      <th>Gift Shop</th>\n",
       "      <th>Golf Driving Range</th>\n",
       "      <th>Gourmet Shop</th>\n",
       "      <th>Government Building</th>\n",
       "      <th>Greek Restaurant</th>\n",
       "      <th>Grocery Store</th>\n",
       "      <th>Gym</th>\n",
       "      <th>Gym / Fitness Center</th>\n",
       "      <th>Gym Pool</th>\n",
       "      <th>Hakka Restaurant</th>\n",
       "      <th>Halal Restaurant</th>\n",
       "      <th>Harbor / Marina</th>\n",
       "      <th>Hardware Store</th>\n",
       "      <th>Health &amp; Beauty Service</th>\n",
       "      <th>Historic Site</th>\n",
       "      <th>History Museum</th>\n",
       "      <th>Hobby Shop</th>\n",
       "      <th>Hockey Arena</th>\n",
       "      <th>Hockey Field</th>\n",
       "      <th>Home Service</th>\n",
       "      <th>Hookah Bar</th>\n",
       "      <th>Hostel</th>\n",
       "      <th>Hotel</th>\n",
       "      <th>Hotel Bar</th>\n",
       "      <th>Hotpot Restaurant</th>\n",
       "      <th>IT Services</th>\n",
       "      <th>Ice Cream Shop</th>\n",
       "      <th>Indian Chinese Restaurant</th>\n",
       "      <th>Indian Restaurant</th>\n",
       "      <th>Indie Theater</th>\n",
       "      <th>Indonesian Restaurant</th>\n",
       "      <th>Indoor Play Area</th>\n",
       "      <th>Intersection</th>\n",
       "      <th>Italian Restaurant</th>\n",
       "      <th>Japanese Restaurant</th>\n",
       "      <th>Jazz Club</th>\n",
       "      <th>Jewelry Store</th>\n",
       "      <th>Juice Bar</th>\n",
       "      <th>Karaoke Bar</th>\n",
       "      <th>Kids Store</th>\n",
       "      <th>Korean Restaurant</th>\n",
       "      <th>Lake</th>\n",
       "      <th>Latin American Restaurant</th>\n",
       "      <th>Library</th>\n",
       "      <th>Light Rail Station</th>\n",
       "      <th>Lingerie Store</th>\n",
       "      <th>Liquor Store</th>\n",
       "      <th>Locksmith</th>\n",
       "      <th>Lounge</th>\n",
       "      <th>Malay Restaurant</th>\n",
       "      <th>Market</th>\n",
       "      <th>Martial Arts School</th>\n",
       "      <th>Massage Studio</th>\n",
       "      <th>Mediterranean Restaurant</th>\n",
       "      <th>Men's Store</th>\n",
       "      <th>Metro Station</th>\n",
       "      <th>Mexican Restaurant</th>\n",
       "      <th>Middle Eastern Restaurant</th>\n",
       "      <th>Miscellaneous Shop</th>\n",
       "      <th>Mobile Phone Shop</th>\n",
       "      <th>Modern European Restaurant</th>\n",
       "      <th>Motorcycle Shop</th>\n",
       "      <th>Movie Theater</th>\n",
       "      <th>Moving Target</th>\n",
       "      <th>Museum</th>\n",
       "      <th>Music Venue</th>\n",
       "      <th>Nail Salon</th>\n",
       "      <th>Neighborhood</th>\n",
       "      <th>New American Restaurant</th>\n",
       "      <th>Nightclub</th>\n",
       "      <th>Noodle House</th>\n",
       "      <th>North Indian Restaurant</th>\n",
       "      <th>Optical Shop</th>\n",
       "      <th>Organic Grocery</th>\n",
       "      <th>Other Great Outdoors</th>\n",
       "      <th>Pakistani Restaurant</th>\n",
       "      <th>Paper / Office Supplies Store</th>\n",
       "      <th>Park</th>\n",
       "      <th>Pastry Shop</th>\n",
       "      <th>Performing Arts Venue</th>\n",
       "      <th>Persian Restaurant</th>\n",
       "      <th>Pet Store</th>\n",
       "      <th>Pharmacy</th>\n",
       "      <th>Photography Lab</th>\n",
       "      <th>Photography Studio</th>\n",
       "      <th>Pie Shop</th>\n",
       "      <th>Pizza Place</th>\n",
       "      <th>Platform</th>\n",
       "      <th>Playground</th>\n",
       "      <th>Plaza</th>\n",
       "      <th>Poke Place</th>\n",
       "      <th>Pool</th>\n",
       "      <th>Pool Hall</th>\n",
       "      <th>Portuguese Restaurant</th>\n",
       "      <th>Poutine Place</th>\n",
       "      <th>Pub</th>\n",
       "      <th>Racetrack</th>\n",
       "      <th>Ramen Restaurant</th>\n",
       "      <th>Record Shop</th>\n",
       "      <th>Rental Car Location</th>\n",
       "      <th>Residential Building (Apartment / Condo)</th>\n",
       "      <th>Restaurant</th>\n",
       "      <th>River</th>\n",
       "      <th>Road</th>\n",
       "      <th>Rock Climbing Spot</th>\n",
       "      <th>Rock Club</th>\n",
       "      <th>Salad Place</th>\n",
       "      <th>Salon / Barbershop</th>\n",
       "      <th>Sandwich Place</th>\n",
       "      <th>Scenic Lookout</th>\n",
       "      <th>School</th>\n",
       "      <th>Science Museum</th>\n",
       "      <th>Seafood Restaurant</th>\n",
       "      <th>Shoe Repair</th>\n",
       "      <th>Shoe Store</th>\n",
       "      <th>Shopping Mall</th>\n",
       "      <th>Shopping Plaza</th>\n",
       "      <th>Skating Rink</th>\n",
       "      <th>Smoke Shop</th>\n",
       "      <th>Snack Place</th>\n",
       "      <th>Soccer Field</th>\n",
       "      <th>Social Club</th>\n",
       "      <th>South American Restaurant</th>\n",
       "      <th>South Indian Restaurant</th>\n",
       "      <th>Spa</th>\n",
       "      <th>Speakeasy</th>\n",
       "      <th>Sporting Goods Shop</th>\n",
       "      <th>Sports Bar</th>\n",
       "      <th>Sri Lankan Restaurant</th>\n",
       "      <th>Steakhouse</th>\n",
       "      <th>Storage Facility</th>\n",
       "      <th>Supermarket</th>\n",
       "      <th>Sushi Restaurant</th>\n",
       "      <th>Swiss Restaurant</th>\n",
       "      <th>Syrian Restaurant</th>\n",
       "      <th>Taco Place</th>\n",
       "      <th>Taiwanese Restaurant</th>\n",
       "      <th>Tapas Restaurant</th>\n",
       "      <th>Tattoo Parlor</th>\n",
       "      <th>Tea Room</th>\n",
       "      <th>Tennis Court</th>\n",
       "      <th>Thai Restaurant</th>\n",
       "      <th>Theater</th>\n",
       "      <th>Theme Park</th>\n",
       "      <th>Theme Park Ride / Attraction</th>\n",
       "      <th>Thrift / Vintage Store</th>\n",
       "      <th>Tibetan Restaurant</th>\n",
       "      <th>Toy / Game Store</th>\n",
       "      <th>Trail</th>\n",
       "      <th>Train Station</th>\n",
       "      <th>Tram Station</th>\n",
       "      <th>Tree</th>\n",
       "      <th>Turkish Restaurant</th>\n",
       "      <th>Vegetarian / Vegan Restaurant</th>\n",
       "      <th>Video Game Store</th>\n",
       "      <th>Video Store</th>\n",
       "      <th>Vietnamese Restaurant</th>\n",
       "      <th>Warehouse Store</th>\n",
       "      <th>Wine Bar</th>\n",
       "      <th>Wine Shop</th>\n",
       "      <th>Wings Joint</th>\n",
       "      <th>Women's Store</th>\n",
       "      <th>Yoga Studio</th>\n",
       "      <th>Zoo</th>\n",
       "      <th>Zoo Exhibit</th>\n",
       "    </tr>\n",
       "  </thead>\n",
       "  <tbody>\n",
       "    <tr>\n",
       "      <th>0</th>\n",
       "      <td>Wychwood</td>\n",
       "      <td>0</td>\n",
       "      <td>0</td>\n",
       "      <td>0</td>\n",
       "      <td>0</td>\n",
       "      <td>0</td>\n",
       "      <td>0</td>\n",
       "      <td>0</td>\n",
       "      <td>0</td>\n",
       "      <td>0</td>\n",
       "      <td>0</td>\n",
       "      <td>0</td>\n",
       "      <td>0</td>\n",
       "      <td>0</td>\n",
       "      <td>0</td>\n",
       "      <td>0</td>\n",
       "      <td>0</td>\n",
       "      <td>0</td>\n",
       "      <td>0</td>\n",
       "      <td>0</td>\n",
       "      <td>0</td>\n",
       "      <td>0</td>\n",
       "      <td>0</td>\n",
       "      <td>0</td>\n",
       "      <td>0</td>\n",
       "      <td>0</td>\n",
       "      <td>0</td>\n",
       "      <td>0</td>\n",
       "      <td>0</td>\n",
       "      <td>0</td>\n",
       "      <td>0</td>\n",
       "      <td>0</td>\n",
       "      <td>0</td>\n",
       "      <td>0</td>\n",
       "      <td>0</td>\n",
       "      <td>0</td>\n",
       "      <td>0</td>\n",
       "      <td>0</td>\n",
       "      <td>0</td>\n",
       "      <td>0</td>\n",
       "      <td>0</td>\n",
       "      <td>0</td>\n",
       "      <td>0</td>\n",
       "      <td>0</td>\n",
       "      <td>0</td>\n",
       "      <td>0</td>\n",
       "      <td>0</td>\n",
       "      <td>0</td>\n",
       "      <td>0</td>\n",
       "      <td>0</td>\n",
       "      <td>0</td>\n",
       "      <td>0</td>\n",
       "      <td>0</td>\n",
       "      <td>0</td>\n",
       "      <td>0</td>\n",
       "      <td>0</td>\n",
       "      <td>0</td>\n",
       "      <td>0</td>\n",
       "      <td>0</td>\n",
       "      <td>0</td>\n",
       "      <td>0</td>\n",
       "      <td>0</td>\n",
       "      <td>0</td>\n",
       "      <td>0</td>\n",
       "      <td>0</td>\n",
       "      <td>0</td>\n",
       "      <td>0</td>\n",
       "      <td>0</td>\n",
       "      <td>0</td>\n",
       "      <td>0</td>\n",
       "      <td>0</td>\n",
       "      <td>0</td>\n",
       "      <td>0</td>\n",
       "      <td>0</td>\n",
       "      <td>0</td>\n",
       "      <td>0</td>\n",
       "      <td>0</td>\n",
       "      <td>0</td>\n",
       "      <td>0</td>\n",
       "      <td>0</td>\n",
       "      <td>0</td>\n",
       "      <td>0</td>\n",
       "      <td>0</td>\n",
       "      <td>0</td>\n",
       "      <td>0</td>\n",
       "      <td>0</td>\n",
       "      <td>0</td>\n",
       "      <td>0</td>\n",
       "      <td>0</td>\n",
       "      <td>0</td>\n",
       "      <td>0</td>\n",
       "      <td>0</td>\n",
       "      <td>0</td>\n",
       "      <td>0</td>\n",
       "      <td>0</td>\n",
       "      <td>0</td>\n",
       "      <td>0</td>\n",
       "      <td>0</td>\n",
       "      <td>0</td>\n",
       "      <td>0</td>\n",
       "      <td>0</td>\n",
       "      <td>1</td>\n",
       "      <td>0</td>\n",
       "      <td>0</td>\n",
       "      <td>0</td>\n",
       "      <td>0</td>\n",
       "      <td>0</td>\n",
       "      <td>0</td>\n",
       "      <td>0</td>\n",
       "      <td>0</td>\n",
       "      <td>0</td>\n",
       "      <td>0</td>\n",
       "      <td>0</td>\n",
       "      <td>0</td>\n",
       "      <td>0</td>\n",
       "      <td>0</td>\n",
       "      <td>0</td>\n",
       "      <td>0</td>\n",
       "      <td>0</td>\n",
       "      <td>0</td>\n",
       "      <td>0</td>\n",
       "      <td>0</td>\n",
       "      <td>0</td>\n",
       "      <td>0</td>\n",
       "      <td>0</td>\n",
       "      <td>0</td>\n",
       "      <td>0</td>\n",
       "      <td>0</td>\n",
       "      <td>0</td>\n",
       "      <td>0</td>\n",
       "      <td>0</td>\n",
       "      <td>0</td>\n",
       "      <td>0</td>\n",
       "      <td>0</td>\n",
       "      <td>0</td>\n",
       "      <td>0</td>\n",
       "      <td>0</td>\n",
       "      <td>0</td>\n",
       "      <td>0</td>\n",
       "      <td>0</td>\n",
       "      <td>0</td>\n",
       "      <td>0</td>\n",
       "      <td>0</td>\n",
       "      <td>0</td>\n",
       "      <td>0</td>\n",
       "      <td>0</td>\n",
       "      <td>0</td>\n",
       "      <td>0</td>\n",
       "      <td>0</td>\n",
       "      <td>0</td>\n",
       "      <td>0</td>\n",
       "      <td>0</td>\n",
       "      <td>0</td>\n",
       "      <td>0</td>\n",
       "      <td>0</td>\n",
       "      <td>0</td>\n",
       "      <td>0</td>\n",
       "      <td>0</td>\n",
       "      <td>0</td>\n",
       "      <td>0</td>\n",
       "      <td>0</td>\n",
       "      <td>0</td>\n",
       "      <td>0</td>\n",
       "      <td>0</td>\n",
       "      <td>0</td>\n",
       "      <td>0</td>\n",
       "      <td>0</td>\n",
       "      <td>0</td>\n",
       "      <td>0</td>\n",
       "      <td>0</td>\n",
       "      <td>0</td>\n",
       "      <td>0</td>\n",
       "      <td>0</td>\n",
       "      <td>0</td>\n",
       "      <td>0</td>\n",
       "      <td>0</td>\n",
       "      <td>0</td>\n",
       "      <td>0</td>\n",
       "      <td>0</td>\n",
       "      <td>0</td>\n",
       "      <td>0</td>\n",
       "      <td>0</td>\n",
       "      <td>0</td>\n",
       "      <td>0</td>\n",
       "      <td>0</td>\n",
       "      <td>0</td>\n",
       "      <td>0</td>\n",
       "      <td>0</td>\n",
       "      <td>0</td>\n",
       "      <td>0</td>\n",
       "      <td>0</td>\n",
       "      <td>0</td>\n",
       "      <td>0</td>\n",
       "      <td>0</td>\n",
       "      <td>0</td>\n",
       "      <td>0</td>\n",
       "      <td>0</td>\n",
       "      <td>0</td>\n",
       "      <td>0</td>\n",
       "      <td>0</td>\n",
       "      <td>0</td>\n",
       "      <td>0</td>\n",
       "      <td>0</td>\n",
       "      <td>0</td>\n",
       "      <td>0</td>\n",
       "      <td>0</td>\n",
       "      <td>0</td>\n",
       "      <td>0</td>\n",
       "      <td>0</td>\n",
       "      <td>0</td>\n",
       "      <td>0</td>\n",
       "      <td>0</td>\n",
       "      <td>0</td>\n",
       "      <td>0</td>\n",
       "      <td>0</td>\n",
       "      <td>0</td>\n",
       "      <td>0</td>\n",
       "      <td>0</td>\n",
       "      <td>0</td>\n",
       "      <td>0</td>\n",
       "      <td>0</td>\n",
       "      <td>0</td>\n",
       "      <td>0</td>\n",
       "      <td>0</td>\n",
       "      <td>0</td>\n",
       "      <td>0</td>\n",
       "      <td>0</td>\n",
       "      <td>0</td>\n",
       "      <td>0</td>\n",
       "      <td>0</td>\n",
       "      <td>0</td>\n",
       "      <td>0</td>\n",
       "      <td>0</td>\n",
       "      <td>0</td>\n",
       "      <td>0</td>\n",
       "      <td>0</td>\n",
       "      <td>0</td>\n",
       "      <td>0</td>\n",
       "      <td>0</td>\n",
       "      <td>0</td>\n",
       "      <td>0</td>\n",
       "      <td>0</td>\n",
       "      <td>0</td>\n",
       "      <td>0</td>\n",
       "      <td>0</td>\n",
       "      <td>0</td>\n",
       "      <td>0</td>\n",
       "      <td>0</td>\n",
       "      <td>0</td>\n",
       "      <td>0</td>\n",
       "      <td>0</td>\n",
       "      <td>0</td>\n",
       "      <td>0</td>\n",
       "      <td>0</td>\n",
       "      <td>0</td>\n",
       "      <td>0</td>\n",
       "      <td>0</td>\n",
       "      <td>0</td>\n",
       "      <td>0</td>\n",
       "      <td>0</td>\n",
       "      <td>0</td>\n",
       "      <td>0</td>\n",
       "      <td>0</td>\n",
       "      <td>0</td>\n",
       "      <td>0</td>\n",
       "      <td>0</td>\n",
       "      <td>0</td>\n",
       "      <td>0</td>\n",
       "      <td>0</td>\n",
       "      <td>0</td>\n",
       "      <td>0</td>\n",
       "      <td>0</td>\n",
       "      <td>0</td>\n",
       "      <td>0</td>\n",
       "      <td>0</td>\n",
       "      <td>0</td>\n",
       "      <td>0</td>\n",
       "      <td>0</td>\n",
       "      <td>0</td>\n",
       "      <td>0</td>\n",
       "      <td>0</td>\n",
       "      <td>0</td>\n",
       "      <td>0</td>\n",
       "      <td>0</td>\n",
       "      <td>0</td>\n",
       "      <td>0</td>\n",
       "      <td>0</td>\n",
       "      <td>0</td>\n",
       "      <td>0</td>\n",
       "      <td>0</td>\n",
       "      <td>0</td>\n",
       "      <td>0</td>\n",
       "    </tr>\n",
       "    <tr>\n",
       "      <th>1</th>\n",
       "      <td>Wychwood</td>\n",
       "      <td>0</td>\n",
       "      <td>0</td>\n",
       "      <td>0</td>\n",
       "      <td>0</td>\n",
       "      <td>0</td>\n",
       "      <td>0</td>\n",
       "      <td>0</td>\n",
       "      <td>0</td>\n",
       "      <td>0</td>\n",
       "      <td>0</td>\n",
       "      <td>0</td>\n",
       "      <td>0</td>\n",
       "      <td>0</td>\n",
       "      <td>0</td>\n",
       "      <td>0</td>\n",
       "      <td>0</td>\n",
       "      <td>0</td>\n",
       "      <td>0</td>\n",
       "      <td>0</td>\n",
       "      <td>0</td>\n",
       "      <td>0</td>\n",
       "      <td>0</td>\n",
       "      <td>0</td>\n",
       "      <td>0</td>\n",
       "      <td>0</td>\n",
       "      <td>0</td>\n",
       "      <td>0</td>\n",
       "      <td>0</td>\n",
       "      <td>0</td>\n",
       "      <td>0</td>\n",
       "      <td>0</td>\n",
       "      <td>0</td>\n",
       "      <td>0</td>\n",
       "      <td>0</td>\n",
       "      <td>0</td>\n",
       "      <td>0</td>\n",
       "      <td>0</td>\n",
       "      <td>0</td>\n",
       "      <td>0</td>\n",
       "      <td>0</td>\n",
       "      <td>0</td>\n",
       "      <td>0</td>\n",
       "      <td>0</td>\n",
       "      <td>0</td>\n",
       "      <td>0</td>\n",
       "      <td>0</td>\n",
       "      <td>0</td>\n",
       "      <td>0</td>\n",
       "      <td>0</td>\n",
       "      <td>0</td>\n",
       "      <td>0</td>\n",
       "      <td>0</td>\n",
       "      <td>0</td>\n",
       "      <td>0</td>\n",
       "      <td>0</td>\n",
       "      <td>0</td>\n",
       "      <td>0</td>\n",
       "      <td>0</td>\n",
       "      <td>0</td>\n",
       "      <td>0</td>\n",
       "      <td>0</td>\n",
       "      <td>0</td>\n",
       "      <td>0</td>\n",
       "      <td>0</td>\n",
       "      <td>0</td>\n",
       "      <td>0</td>\n",
       "      <td>0</td>\n",
       "      <td>0</td>\n",
       "      <td>0</td>\n",
       "      <td>0</td>\n",
       "      <td>0</td>\n",
       "      <td>0</td>\n",
       "      <td>0</td>\n",
       "      <td>0</td>\n",
       "      <td>0</td>\n",
       "      <td>0</td>\n",
       "      <td>0</td>\n",
       "      <td>0</td>\n",
       "      <td>0</td>\n",
       "      <td>0</td>\n",
       "      <td>0</td>\n",
       "      <td>0</td>\n",
       "      <td>0</td>\n",
       "      <td>0</td>\n",
       "      <td>0</td>\n",
       "      <td>0</td>\n",
       "      <td>0</td>\n",
       "      <td>0</td>\n",
       "      <td>0</td>\n",
       "      <td>0</td>\n",
       "      <td>0</td>\n",
       "      <td>0</td>\n",
       "      <td>0</td>\n",
       "      <td>0</td>\n",
       "      <td>0</td>\n",
       "      <td>0</td>\n",
       "      <td>0</td>\n",
       "      <td>1</td>\n",
       "      <td>0</td>\n",
       "      <td>0</td>\n",
       "      <td>0</td>\n",
       "      <td>0</td>\n",
       "      <td>0</td>\n",
       "      <td>0</td>\n",
       "      <td>0</td>\n",
       "      <td>0</td>\n",
       "      <td>0</td>\n",
       "      <td>0</td>\n",
       "      <td>0</td>\n",
       "      <td>0</td>\n",
       "      <td>0</td>\n",
       "      <td>0</td>\n",
       "      <td>0</td>\n",
       "      <td>0</td>\n",
       "      <td>0</td>\n",
       "      <td>0</td>\n",
       "      <td>0</td>\n",
       "      <td>0</td>\n",
       "      <td>0</td>\n",
       "      <td>0</td>\n",
       "      <td>0</td>\n",
       "      <td>0</td>\n",
       "      <td>0</td>\n",
       "      <td>0</td>\n",
       "      <td>0</td>\n",
       "      <td>0</td>\n",
       "      <td>0</td>\n",
       "      <td>0</td>\n",
       "      <td>0</td>\n",
       "      <td>0</td>\n",
       "      <td>0</td>\n",
       "      <td>0</td>\n",
       "      <td>0</td>\n",
       "      <td>0</td>\n",
       "      <td>0</td>\n",
       "      <td>0</td>\n",
       "      <td>0</td>\n",
       "      <td>0</td>\n",
       "      <td>0</td>\n",
       "      <td>0</td>\n",
       "      <td>0</td>\n",
       "      <td>0</td>\n",
       "      <td>0</td>\n",
       "      <td>0</td>\n",
       "      <td>0</td>\n",
       "      <td>0</td>\n",
       "      <td>0</td>\n",
       "      <td>0</td>\n",
       "      <td>0</td>\n",
       "      <td>0</td>\n",
       "      <td>0</td>\n",
       "      <td>0</td>\n",
       "      <td>0</td>\n",
       "      <td>0</td>\n",
       "      <td>0</td>\n",
       "      <td>0</td>\n",
       "      <td>0</td>\n",
       "      <td>0</td>\n",
       "      <td>0</td>\n",
       "      <td>0</td>\n",
       "      <td>0</td>\n",
       "      <td>0</td>\n",
       "      <td>0</td>\n",
       "      <td>0</td>\n",
       "      <td>0</td>\n",
       "      <td>0</td>\n",
       "      <td>0</td>\n",
       "      <td>0</td>\n",
       "      <td>0</td>\n",
       "      <td>0</td>\n",
       "      <td>0</td>\n",
       "      <td>0</td>\n",
       "      <td>0</td>\n",
       "      <td>0</td>\n",
       "      <td>0</td>\n",
       "      <td>0</td>\n",
       "      <td>0</td>\n",
       "      <td>0</td>\n",
       "      <td>0</td>\n",
       "      <td>0</td>\n",
       "      <td>0</td>\n",
       "      <td>0</td>\n",
       "      <td>0</td>\n",
       "      <td>0</td>\n",
       "      <td>0</td>\n",
       "      <td>0</td>\n",
       "      <td>0</td>\n",
       "      <td>0</td>\n",
       "      <td>0</td>\n",
       "      <td>0</td>\n",
       "      <td>0</td>\n",
       "      <td>0</td>\n",
       "      <td>0</td>\n",
       "      <td>0</td>\n",
       "      <td>0</td>\n",
       "      <td>0</td>\n",
       "      <td>0</td>\n",
       "      <td>0</td>\n",
       "      <td>0</td>\n",
       "      <td>0</td>\n",
       "      <td>0</td>\n",
       "      <td>0</td>\n",
       "      <td>0</td>\n",
       "      <td>0</td>\n",
       "      <td>0</td>\n",
       "      <td>0</td>\n",
       "      <td>0</td>\n",
       "      <td>0</td>\n",
       "      <td>0</td>\n",
       "      <td>0</td>\n",
       "      <td>0</td>\n",
       "      <td>0</td>\n",
       "      <td>0</td>\n",
       "      <td>0</td>\n",
       "      <td>0</td>\n",
       "      <td>0</td>\n",
       "      <td>0</td>\n",
       "      <td>0</td>\n",
       "      <td>0</td>\n",
       "      <td>0</td>\n",
       "      <td>0</td>\n",
       "      <td>0</td>\n",
       "      <td>0</td>\n",
       "      <td>0</td>\n",
       "      <td>0</td>\n",
       "      <td>0</td>\n",
       "      <td>0</td>\n",
       "      <td>0</td>\n",
       "      <td>0</td>\n",
       "      <td>0</td>\n",
       "      <td>0</td>\n",
       "      <td>0</td>\n",
       "      <td>0</td>\n",
       "      <td>0</td>\n",
       "      <td>0</td>\n",
       "      <td>0</td>\n",
       "      <td>0</td>\n",
       "      <td>0</td>\n",
       "      <td>0</td>\n",
       "      <td>0</td>\n",
       "      <td>0</td>\n",
       "      <td>0</td>\n",
       "      <td>0</td>\n",
       "      <td>0</td>\n",
       "      <td>0</td>\n",
       "      <td>0</td>\n",
       "      <td>0</td>\n",
       "      <td>0</td>\n",
       "      <td>0</td>\n",
       "      <td>0</td>\n",
       "      <td>0</td>\n",
       "      <td>0</td>\n",
       "      <td>0</td>\n",
       "      <td>0</td>\n",
       "      <td>0</td>\n",
       "      <td>0</td>\n",
       "      <td>0</td>\n",
       "      <td>0</td>\n",
       "      <td>0</td>\n",
       "      <td>0</td>\n",
       "      <td>0</td>\n",
       "      <td>0</td>\n",
       "      <td>0</td>\n",
       "      <td>0</td>\n",
       "      <td>0</td>\n",
       "      <td>0</td>\n",
       "      <td>0</td>\n",
       "      <td>0</td>\n",
       "      <td>0</td>\n",
       "      <td>0</td>\n",
       "      <td>0</td>\n",
       "      <td>0</td>\n",
       "      <td>0</td>\n",
       "      <td>0</td>\n",
       "      <td>0</td>\n",
       "      <td>0</td>\n",
       "      <td>0</td>\n",
       "      <td>0</td>\n",
       "      <td>0</td>\n",
       "      <td>0</td>\n",
       "      <td>0</td>\n",
       "      <td>0</td>\n",
       "      <td>0</td>\n",
       "      <td>0</td>\n",
       "      <td>0</td>\n",
       "      <td>0</td>\n",
       "      <td>0</td>\n",
       "      <td>0</td>\n",
       "      <td>0</td>\n",
       "      <td>0</td>\n",
       "      <td>0</td>\n",
       "    </tr>\n",
       "    <tr>\n",
       "      <th>2</th>\n",
       "      <td>Wychwood</td>\n",
       "      <td>0</td>\n",
       "      <td>0</td>\n",
       "      <td>0</td>\n",
       "      <td>0</td>\n",
       "      <td>0</td>\n",
       "      <td>0</td>\n",
       "      <td>0</td>\n",
       "      <td>0</td>\n",
       "      <td>0</td>\n",
       "      <td>0</td>\n",
       "      <td>0</td>\n",
       "      <td>0</td>\n",
       "      <td>0</td>\n",
       "      <td>0</td>\n",
       "      <td>0</td>\n",
       "      <td>0</td>\n",
       "      <td>0</td>\n",
       "      <td>0</td>\n",
       "      <td>0</td>\n",
       "      <td>0</td>\n",
       "      <td>0</td>\n",
       "      <td>0</td>\n",
       "      <td>0</td>\n",
       "      <td>0</td>\n",
       "      <td>0</td>\n",
       "      <td>0</td>\n",
       "      <td>0</td>\n",
       "      <td>0</td>\n",
       "      <td>0</td>\n",
       "      <td>0</td>\n",
       "      <td>0</td>\n",
       "      <td>0</td>\n",
       "      <td>0</td>\n",
       "      <td>0</td>\n",
       "      <td>0</td>\n",
       "      <td>0</td>\n",
       "      <td>0</td>\n",
       "      <td>0</td>\n",
       "      <td>0</td>\n",
       "      <td>0</td>\n",
       "      <td>0</td>\n",
       "      <td>0</td>\n",
       "      <td>0</td>\n",
       "      <td>0</td>\n",
       "      <td>0</td>\n",
       "      <td>0</td>\n",
       "      <td>0</td>\n",
       "      <td>0</td>\n",
       "      <td>0</td>\n",
       "      <td>0</td>\n",
       "      <td>0</td>\n",
       "      <td>0</td>\n",
       "      <td>0</td>\n",
       "      <td>0</td>\n",
       "      <td>0</td>\n",
       "      <td>0</td>\n",
       "      <td>0</td>\n",
       "      <td>0</td>\n",
       "      <td>0</td>\n",
       "      <td>0</td>\n",
       "      <td>0</td>\n",
       "      <td>0</td>\n",
       "      <td>0</td>\n",
       "      <td>0</td>\n",
       "      <td>0</td>\n",
       "      <td>0</td>\n",
       "      <td>0</td>\n",
       "      <td>0</td>\n",
       "      <td>0</td>\n",
       "      <td>0</td>\n",
       "      <td>0</td>\n",
       "      <td>0</td>\n",
       "      <td>0</td>\n",
       "      <td>0</td>\n",
       "      <td>0</td>\n",
       "      <td>0</td>\n",
       "      <td>0</td>\n",
       "      <td>0</td>\n",
       "      <td>0</td>\n",
       "      <td>0</td>\n",
       "      <td>0</td>\n",
       "      <td>0</td>\n",
       "      <td>0</td>\n",
       "      <td>0</td>\n",
       "      <td>0</td>\n",
       "      <td>0</td>\n",
       "      <td>0</td>\n",
       "      <td>0</td>\n",
       "      <td>0</td>\n",
       "      <td>0</td>\n",
       "      <td>0</td>\n",
       "      <td>0</td>\n",
       "      <td>0</td>\n",
       "      <td>0</td>\n",
       "      <td>0</td>\n",
       "      <td>0</td>\n",
       "      <td>0</td>\n",
       "      <td>0</td>\n",
       "      <td>0</td>\n",
       "      <td>0</td>\n",
       "      <td>0</td>\n",
       "      <td>0</td>\n",
       "      <td>0</td>\n",
       "      <td>0</td>\n",
       "      <td>0</td>\n",
       "      <td>0</td>\n",
       "      <td>0</td>\n",
       "      <td>0</td>\n",
       "      <td>0</td>\n",
       "      <td>0</td>\n",
       "      <td>0</td>\n",
       "      <td>0</td>\n",
       "      <td>0</td>\n",
       "      <td>0</td>\n",
       "      <td>0</td>\n",
       "      <td>0</td>\n",
       "      <td>0</td>\n",
       "      <td>0</td>\n",
       "      <td>0</td>\n",
       "      <td>0</td>\n",
       "      <td>0</td>\n",
       "      <td>0</td>\n",
       "      <td>0</td>\n",
       "      <td>0</td>\n",
       "      <td>0</td>\n",
       "      <td>0</td>\n",
       "      <td>0</td>\n",
       "      <td>0</td>\n",
       "      <td>0</td>\n",
       "      <td>0</td>\n",
       "      <td>0</td>\n",
       "      <td>0</td>\n",
       "      <td>0</td>\n",
       "      <td>0</td>\n",
       "      <td>0</td>\n",
       "      <td>0</td>\n",
       "      <td>0</td>\n",
       "      <td>0</td>\n",
       "      <td>0</td>\n",
       "      <td>0</td>\n",
       "      <td>0</td>\n",
       "      <td>0</td>\n",
       "      <td>0</td>\n",
       "      <td>0</td>\n",
       "      <td>0</td>\n",
       "      <td>0</td>\n",
       "      <td>0</td>\n",
       "      <td>0</td>\n",
       "      <td>0</td>\n",
       "      <td>0</td>\n",
       "      <td>0</td>\n",
       "      <td>0</td>\n",
       "      <td>0</td>\n",
       "      <td>0</td>\n",
       "      <td>0</td>\n",
       "      <td>0</td>\n",
       "      <td>0</td>\n",
       "      <td>0</td>\n",
       "      <td>0</td>\n",
       "      <td>0</td>\n",
       "      <td>0</td>\n",
       "      <td>0</td>\n",
       "      <td>0</td>\n",
       "      <td>0</td>\n",
       "      <td>0</td>\n",
       "      <td>0</td>\n",
       "      <td>0</td>\n",
       "      <td>0</td>\n",
       "      <td>0</td>\n",
       "      <td>0</td>\n",
       "      <td>0</td>\n",
       "      <td>0</td>\n",
       "      <td>0</td>\n",
       "      <td>0</td>\n",
       "      <td>0</td>\n",
       "      <td>0</td>\n",
       "      <td>0</td>\n",
       "      <td>0</td>\n",
       "      <td>0</td>\n",
       "      <td>0</td>\n",
       "      <td>0</td>\n",
       "      <td>0</td>\n",
       "      <td>0</td>\n",
       "      <td>0</td>\n",
       "      <td>0</td>\n",
       "      <td>0</td>\n",
       "      <td>0</td>\n",
       "      <td>0</td>\n",
       "      <td>0</td>\n",
       "      <td>0</td>\n",
       "      <td>0</td>\n",
       "      <td>0</td>\n",
       "      <td>0</td>\n",
       "      <td>0</td>\n",
       "      <td>0</td>\n",
       "      <td>0</td>\n",
       "      <td>0</td>\n",
       "      <td>0</td>\n",
       "      <td>0</td>\n",
       "      <td>0</td>\n",
       "      <td>0</td>\n",
       "      <td>0</td>\n",
       "      <td>0</td>\n",
       "      <td>1</td>\n",
       "      <td>0</td>\n",
       "      <td>0</td>\n",
       "      <td>0</td>\n",
       "      <td>0</td>\n",
       "      <td>0</td>\n",
       "      <td>0</td>\n",
       "      <td>0</td>\n",
       "      <td>0</td>\n",
       "      <td>0</td>\n",
       "      <td>0</td>\n",
       "      <td>0</td>\n",
       "      <td>0</td>\n",
       "      <td>0</td>\n",
       "      <td>0</td>\n",
       "      <td>0</td>\n",
       "      <td>0</td>\n",
       "      <td>0</td>\n",
       "      <td>0</td>\n",
       "      <td>0</td>\n",
       "      <td>0</td>\n",
       "      <td>0</td>\n",
       "      <td>0</td>\n",
       "      <td>0</td>\n",
       "      <td>0</td>\n",
       "      <td>0</td>\n",
       "      <td>0</td>\n",
       "      <td>0</td>\n",
       "      <td>0</td>\n",
       "      <td>0</td>\n",
       "      <td>0</td>\n",
       "      <td>0</td>\n",
       "      <td>0</td>\n",
       "      <td>0</td>\n",
       "      <td>0</td>\n",
       "      <td>0</td>\n",
       "      <td>0</td>\n",
       "      <td>0</td>\n",
       "      <td>0</td>\n",
       "      <td>0</td>\n",
       "      <td>0</td>\n",
       "      <td>0</td>\n",
       "      <td>0</td>\n",
       "      <td>0</td>\n",
       "      <td>0</td>\n",
       "      <td>0</td>\n",
       "      <td>0</td>\n",
       "      <td>0</td>\n",
       "      <td>0</td>\n",
       "      <td>0</td>\n",
       "      <td>0</td>\n",
       "      <td>0</td>\n",
       "      <td>0</td>\n",
       "      <td>0</td>\n",
       "      <td>0</td>\n",
       "      <td>0</td>\n",
       "      <td>0</td>\n",
       "      <td>0</td>\n",
       "      <td>0</td>\n",
       "      <td>0</td>\n",
       "      <td>0</td>\n",
       "      <td>0</td>\n",
       "      <td>0</td>\n",
       "      <td>0</td>\n",
       "      <td>0</td>\n",
       "      <td>0</td>\n",
       "      <td>0</td>\n",
       "      <td>0</td>\n",
       "      <td>0</td>\n",
       "      <td>0</td>\n",
       "      <td>0</td>\n",
       "      <td>0</td>\n",
       "      <td>0</td>\n",
       "      <td>0</td>\n",
       "      <td>0</td>\n",
       "      <td>0</td>\n",
       "      <td>0</td>\n",
       "      <td>0</td>\n",
       "      <td>0</td>\n",
       "      <td>0</td>\n",
       "      <td>0</td>\n",
       "      <td>0</td>\n",
       "      <td>0</td>\n",
       "      <td>0</td>\n",
       "      <td>0</td>\n",
       "      <td>0</td>\n",
       "      <td>0</td>\n",
       "      <td>0</td>\n",
       "    </tr>\n",
       "    <tr>\n",
       "      <th>3</th>\n",
       "      <td>Wychwood</td>\n",
       "      <td>0</td>\n",
       "      <td>0</td>\n",
       "      <td>0</td>\n",
       "      <td>0</td>\n",
       "      <td>0</td>\n",
       "      <td>0</td>\n",
       "      <td>0</td>\n",
       "      <td>0</td>\n",
       "      <td>0</td>\n",
       "      <td>0</td>\n",
       "      <td>0</td>\n",
       "      <td>0</td>\n",
       "      <td>0</td>\n",
       "      <td>0</td>\n",
       "      <td>0</td>\n",
       "      <td>0</td>\n",
       "      <td>0</td>\n",
       "      <td>0</td>\n",
       "      <td>0</td>\n",
       "      <td>0</td>\n",
       "      <td>0</td>\n",
       "      <td>0</td>\n",
       "      <td>0</td>\n",
       "      <td>0</td>\n",
       "      <td>0</td>\n",
       "      <td>0</td>\n",
       "      <td>0</td>\n",
       "      <td>0</td>\n",
       "      <td>0</td>\n",
       "      <td>0</td>\n",
       "      <td>0</td>\n",
       "      <td>0</td>\n",
       "      <td>0</td>\n",
       "      <td>0</td>\n",
       "      <td>0</td>\n",
       "      <td>0</td>\n",
       "      <td>0</td>\n",
       "      <td>0</td>\n",
       "      <td>0</td>\n",
       "      <td>0</td>\n",
       "      <td>0</td>\n",
       "      <td>0</td>\n",
       "      <td>0</td>\n",
       "      <td>0</td>\n",
       "      <td>0</td>\n",
       "      <td>0</td>\n",
       "      <td>0</td>\n",
       "      <td>0</td>\n",
       "      <td>0</td>\n",
       "      <td>0</td>\n",
       "      <td>0</td>\n",
       "      <td>0</td>\n",
       "      <td>0</td>\n",
       "      <td>0</td>\n",
       "      <td>0</td>\n",
       "      <td>0</td>\n",
       "      <td>0</td>\n",
       "      <td>0</td>\n",
       "      <td>0</td>\n",
       "      <td>0</td>\n",
       "      <td>0</td>\n",
       "      <td>0</td>\n",
       "      <td>0</td>\n",
       "      <td>0</td>\n",
       "      <td>0</td>\n",
       "      <td>0</td>\n",
       "      <td>0</td>\n",
       "      <td>0</td>\n",
       "      <td>0</td>\n",
       "      <td>0</td>\n",
       "      <td>0</td>\n",
       "      <td>0</td>\n",
       "      <td>0</td>\n",
       "      <td>0</td>\n",
       "      <td>0</td>\n",
       "      <td>0</td>\n",
       "      <td>0</td>\n",
       "      <td>0</td>\n",
       "      <td>0</td>\n",
       "      <td>0</td>\n",
       "      <td>0</td>\n",
       "      <td>0</td>\n",
       "      <td>0</td>\n",
       "      <td>0</td>\n",
       "      <td>0</td>\n",
       "      <td>0</td>\n",
       "      <td>0</td>\n",
       "      <td>0</td>\n",
       "      <td>0</td>\n",
       "      <td>0</td>\n",
       "      <td>0</td>\n",
       "      <td>0</td>\n",
       "      <td>0</td>\n",
       "      <td>0</td>\n",
       "      <td>0</td>\n",
       "      <td>0</td>\n",
       "      <td>0</td>\n",
       "      <td>0</td>\n",
       "      <td>0</td>\n",
       "      <td>0</td>\n",
       "      <td>0</td>\n",
       "      <td>0</td>\n",
       "      <td>0</td>\n",
       "      <td>0</td>\n",
       "      <td>0</td>\n",
       "      <td>0</td>\n",
       "      <td>0</td>\n",
       "      <td>0</td>\n",
       "      <td>0</td>\n",
       "      <td>0</td>\n",
       "      <td>0</td>\n",
       "      <td>0</td>\n",
       "      <td>0</td>\n",
       "      <td>0</td>\n",
       "      <td>0</td>\n",
       "      <td>0</td>\n",
       "      <td>0</td>\n",
       "      <td>0</td>\n",
       "      <td>0</td>\n",
       "      <td>0</td>\n",
       "      <td>0</td>\n",
       "      <td>0</td>\n",
       "      <td>0</td>\n",
       "      <td>0</td>\n",
       "      <td>0</td>\n",
       "      <td>0</td>\n",
       "      <td>0</td>\n",
       "      <td>0</td>\n",
       "      <td>0</td>\n",
       "      <td>0</td>\n",
       "      <td>0</td>\n",
       "      <td>0</td>\n",
       "      <td>0</td>\n",
       "      <td>0</td>\n",
       "      <td>0</td>\n",
       "      <td>0</td>\n",
       "      <td>0</td>\n",
       "      <td>0</td>\n",
       "      <td>0</td>\n",
       "      <td>0</td>\n",
       "      <td>0</td>\n",
       "      <td>0</td>\n",
       "      <td>0</td>\n",
       "      <td>0</td>\n",
       "      <td>0</td>\n",
       "      <td>0</td>\n",
       "      <td>0</td>\n",
       "      <td>0</td>\n",
       "      <td>0</td>\n",
       "      <td>0</td>\n",
       "      <td>0</td>\n",
       "      <td>0</td>\n",
       "      <td>0</td>\n",
       "      <td>0</td>\n",
       "      <td>0</td>\n",
       "      <td>0</td>\n",
       "      <td>0</td>\n",
       "      <td>0</td>\n",
       "      <td>0</td>\n",
       "      <td>1</td>\n",
       "      <td>0</td>\n",
       "      <td>0</td>\n",
       "      <td>0</td>\n",
       "      <td>0</td>\n",
       "      <td>0</td>\n",
       "      <td>0</td>\n",
       "      <td>0</td>\n",
       "      <td>0</td>\n",
       "      <td>0</td>\n",
       "      <td>0</td>\n",
       "      <td>0</td>\n",
       "      <td>0</td>\n",
       "      <td>0</td>\n",
       "      <td>0</td>\n",
       "      <td>0</td>\n",
       "      <td>0</td>\n",
       "      <td>0</td>\n",
       "      <td>0</td>\n",
       "      <td>0</td>\n",
       "      <td>0</td>\n",
       "      <td>0</td>\n",
       "      <td>0</td>\n",
       "      <td>0</td>\n",
       "      <td>0</td>\n",
       "      <td>0</td>\n",
       "      <td>0</td>\n",
       "      <td>0</td>\n",
       "      <td>0</td>\n",
       "      <td>0</td>\n",
       "      <td>0</td>\n",
       "      <td>0</td>\n",
       "      <td>0</td>\n",
       "      <td>0</td>\n",
       "      <td>0</td>\n",
       "      <td>0</td>\n",
       "      <td>0</td>\n",
       "      <td>0</td>\n",
       "      <td>0</td>\n",
       "      <td>0</td>\n",
       "      <td>0</td>\n",
       "      <td>0</td>\n",
       "      <td>0</td>\n",
       "      <td>0</td>\n",
       "      <td>0</td>\n",
       "      <td>0</td>\n",
       "      <td>0</td>\n",
       "      <td>0</td>\n",
       "      <td>0</td>\n",
       "      <td>0</td>\n",
       "      <td>0</td>\n",
       "      <td>0</td>\n",
       "      <td>0</td>\n",
       "      <td>0</td>\n",
       "      <td>0</td>\n",
       "      <td>0</td>\n",
       "      <td>0</td>\n",
       "      <td>0</td>\n",
       "      <td>0</td>\n",
       "      <td>0</td>\n",
       "      <td>0</td>\n",
       "      <td>0</td>\n",
       "      <td>0</td>\n",
       "      <td>0</td>\n",
       "      <td>0</td>\n",
       "      <td>0</td>\n",
       "      <td>0</td>\n",
       "      <td>0</td>\n",
       "      <td>0</td>\n",
       "      <td>0</td>\n",
       "      <td>0</td>\n",
       "      <td>0</td>\n",
       "      <td>0</td>\n",
       "      <td>0</td>\n",
       "      <td>0</td>\n",
       "      <td>0</td>\n",
       "      <td>0</td>\n",
       "      <td>0</td>\n",
       "      <td>0</td>\n",
       "      <td>0</td>\n",
       "      <td>0</td>\n",
       "      <td>0</td>\n",
       "      <td>0</td>\n",
       "      <td>0</td>\n",
       "      <td>0</td>\n",
       "      <td>0</td>\n",
       "      <td>0</td>\n",
       "      <td>0</td>\n",
       "      <td>0</td>\n",
       "      <td>0</td>\n",
       "      <td>0</td>\n",
       "      <td>0</td>\n",
       "      <td>0</td>\n",
       "      <td>0</td>\n",
       "      <td>0</td>\n",
       "      <td>0</td>\n",
       "      <td>0</td>\n",
       "      <td>0</td>\n",
       "      <td>0</td>\n",
       "      <td>0</td>\n",
       "      <td>0</td>\n",
       "      <td>0</td>\n",
       "      <td>0</td>\n",
       "      <td>0</td>\n",
       "      <td>0</td>\n",
       "      <td>0</td>\n",
       "      <td>0</td>\n",
       "      <td>0</td>\n",
       "      <td>0</td>\n",
       "      <td>0</td>\n",
       "      <td>0</td>\n",
       "      <td>0</td>\n",
       "      <td>0</td>\n",
       "      <td>0</td>\n",
       "      <td>0</td>\n",
       "      <td>0</td>\n",
       "      <td>0</td>\n",
       "      <td>0</td>\n",
       "      <td>0</td>\n",
       "      <td>0</td>\n",
       "      <td>0</td>\n",
       "      <td>0</td>\n",
       "      <td>0</td>\n",
       "      <td>0</td>\n",
       "      <td>0</td>\n",
       "      <td>0</td>\n",
       "      <td>0</td>\n",
       "      <td>0</td>\n",
       "      <td>0</td>\n",
       "      <td>0</td>\n",
       "      <td>0</td>\n",
       "      <td>0</td>\n",
       "    </tr>\n",
       "    <tr>\n",
       "      <th>4</th>\n",
       "      <td>Wychwood</td>\n",
       "      <td>0</td>\n",
       "      <td>0</td>\n",
       "      <td>0</td>\n",
       "      <td>0</td>\n",
       "      <td>0</td>\n",
       "      <td>0</td>\n",
       "      <td>0</td>\n",
       "      <td>0</td>\n",
       "      <td>0</td>\n",
       "      <td>0</td>\n",
       "      <td>0</td>\n",
       "      <td>0</td>\n",
       "      <td>0</td>\n",
       "      <td>0</td>\n",
       "      <td>0</td>\n",
       "      <td>0</td>\n",
       "      <td>0</td>\n",
       "      <td>0</td>\n",
       "      <td>0</td>\n",
       "      <td>0</td>\n",
       "      <td>0</td>\n",
       "      <td>0</td>\n",
       "      <td>0</td>\n",
       "      <td>0</td>\n",
       "      <td>0</td>\n",
       "      <td>0</td>\n",
       "      <td>0</td>\n",
       "      <td>0</td>\n",
       "      <td>0</td>\n",
       "      <td>0</td>\n",
       "      <td>0</td>\n",
       "      <td>0</td>\n",
       "      <td>0</td>\n",
       "      <td>0</td>\n",
       "      <td>0</td>\n",
       "      <td>0</td>\n",
       "      <td>0</td>\n",
       "      <td>0</td>\n",
       "      <td>0</td>\n",
       "      <td>0</td>\n",
       "      <td>0</td>\n",
       "      <td>0</td>\n",
       "      <td>0</td>\n",
       "      <td>0</td>\n",
       "      <td>0</td>\n",
       "      <td>0</td>\n",
       "      <td>0</td>\n",
       "      <td>0</td>\n",
       "      <td>0</td>\n",
       "      <td>0</td>\n",
       "      <td>0</td>\n",
       "      <td>0</td>\n",
       "      <td>0</td>\n",
       "      <td>0</td>\n",
       "      <td>0</td>\n",
       "      <td>0</td>\n",
       "      <td>0</td>\n",
       "      <td>0</td>\n",
       "      <td>0</td>\n",
       "      <td>0</td>\n",
       "      <td>0</td>\n",
       "      <td>0</td>\n",
       "      <td>0</td>\n",
       "      <td>0</td>\n",
       "      <td>1</td>\n",
       "      <td>0</td>\n",
       "      <td>0</td>\n",
       "      <td>0</td>\n",
       "      <td>0</td>\n",
       "      <td>0</td>\n",
       "      <td>0</td>\n",
       "      <td>0</td>\n",
       "      <td>0</td>\n",
       "      <td>0</td>\n",
       "      <td>0</td>\n",
       "      <td>0</td>\n",
       "      <td>0</td>\n",
       "      <td>0</td>\n",
       "      <td>0</td>\n",
       "      <td>0</td>\n",
       "      <td>0</td>\n",
       "      <td>0</td>\n",
       "      <td>0</td>\n",
       "      <td>0</td>\n",
       "      <td>0</td>\n",
       "      <td>0</td>\n",
       "      <td>0</td>\n",
       "      <td>0</td>\n",
       "      <td>0</td>\n",
       "      <td>0</td>\n",
       "      <td>0</td>\n",
       "      <td>0</td>\n",
       "      <td>0</td>\n",
       "      <td>0</td>\n",
       "      <td>0</td>\n",
       "      <td>0</td>\n",
       "      <td>0</td>\n",
       "      <td>0</td>\n",
       "      <td>0</td>\n",
       "      <td>0</td>\n",
       "      <td>0</td>\n",
       "      <td>0</td>\n",
       "      <td>0</td>\n",
       "      <td>0</td>\n",
       "      <td>0</td>\n",
       "      <td>0</td>\n",
       "      <td>0</td>\n",
       "      <td>0</td>\n",
       "      <td>0</td>\n",
       "      <td>0</td>\n",
       "      <td>0</td>\n",
       "      <td>0</td>\n",
       "      <td>0</td>\n",
       "      <td>0</td>\n",
       "      <td>0</td>\n",
       "      <td>0</td>\n",
       "      <td>0</td>\n",
       "      <td>0</td>\n",
       "      <td>0</td>\n",
       "      <td>0</td>\n",
       "      <td>0</td>\n",
       "      <td>0</td>\n",
       "      <td>0</td>\n",
       "      <td>0</td>\n",
       "      <td>0</td>\n",
       "      <td>0</td>\n",
       "      <td>0</td>\n",
       "      <td>0</td>\n",
       "      <td>0</td>\n",
       "      <td>0</td>\n",
       "      <td>0</td>\n",
       "      <td>0</td>\n",
       "      <td>0</td>\n",
       "      <td>0</td>\n",
       "      <td>0</td>\n",
       "      <td>0</td>\n",
       "      <td>0</td>\n",
       "      <td>0</td>\n",
       "      <td>0</td>\n",
       "      <td>0</td>\n",
       "      <td>0</td>\n",
       "      <td>0</td>\n",
       "      <td>0</td>\n",
       "      <td>0</td>\n",
       "      <td>0</td>\n",
       "      <td>0</td>\n",
       "      <td>0</td>\n",
       "      <td>0</td>\n",
       "      <td>0</td>\n",
       "      <td>0</td>\n",
       "      <td>0</td>\n",
       "      <td>0</td>\n",
       "      <td>0</td>\n",
       "      <td>0</td>\n",
       "      <td>0</td>\n",
       "      <td>0</td>\n",
       "      <td>0</td>\n",
       "      <td>0</td>\n",
       "      <td>0</td>\n",
       "      <td>0</td>\n",
       "      <td>0</td>\n",
       "      <td>0</td>\n",
       "      <td>0</td>\n",
       "      <td>0</td>\n",
       "      <td>0</td>\n",
       "      <td>0</td>\n",
       "      <td>0</td>\n",
       "      <td>0</td>\n",
       "      <td>0</td>\n",
       "      <td>0</td>\n",
       "      <td>0</td>\n",
       "      <td>0</td>\n",
       "      <td>0</td>\n",
       "      <td>0</td>\n",
       "      <td>0</td>\n",
       "      <td>0</td>\n",
       "      <td>0</td>\n",
       "      <td>0</td>\n",
       "      <td>0</td>\n",
       "      <td>0</td>\n",
       "      <td>0</td>\n",
       "      <td>0</td>\n",
       "      <td>0</td>\n",
       "      <td>0</td>\n",
       "      <td>0</td>\n",
       "      <td>0</td>\n",
       "      <td>0</td>\n",
       "      <td>0</td>\n",
       "      <td>0</td>\n",
       "      <td>0</td>\n",
       "      <td>0</td>\n",
       "      <td>0</td>\n",
       "      <td>0</td>\n",
       "      <td>0</td>\n",
       "      <td>0</td>\n",
       "      <td>0</td>\n",
       "      <td>0</td>\n",
       "      <td>0</td>\n",
       "      <td>0</td>\n",
       "      <td>0</td>\n",
       "      <td>0</td>\n",
       "      <td>0</td>\n",
       "      <td>0</td>\n",
       "      <td>0</td>\n",
       "      <td>0</td>\n",
       "      <td>0</td>\n",
       "      <td>0</td>\n",
       "      <td>0</td>\n",
       "      <td>0</td>\n",
       "      <td>0</td>\n",
       "      <td>0</td>\n",
       "      <td>0</td>\n",
       "      <td>0</td>\n",
       "      <td>0</td>\n",
       "      <td>0</td>\n",
       "      <td>0</td>\n",
       "      <td>0</td>\n",
       "      <td>0</td>\n",
       "      <td>0</td>\n",
       "      <td>0</td>\n",
       "      <td>0</td>\n",
       "      <td>0</td>\n",
       "      <td>0</td>\n",
       "      <td>0</td>\n",
       "      <td>0</td>\n",
       "      <td>0</td>\n",
       "      <td>0</td>\n",
       "      <td>0</td>\n",
       "      <td>0</td>\n",
       "      <td>0</td>\n",
       "      <td>0</td>\n",
       "      <td>0</td>\n",
       "      <td>0</td>\n",
       "      <td>0</td>\n",
       "      <td>0</td>\n",
       "      <td>0</td>\n",
       "      <td>0</td>\n",
       "      <td>0</td>\n",
       "      <td>0</td>\n",
       "      <td>0</td>\n",
       "      <td>0</td>\n",
       "      <td>0</td>\n",
       "      <td>0</td>\n",
       "      <td>0</td>\n",
       "      <td>0</td>\n",
       "      <td>0</td>\n",
       "      <td>0</td>\n",
       "      <td>0</td>\n",
       "      <td>0</td>\n",
       "      <td>0</td>\n",
       "      <td>0</td>\n",
       "      <td>0</td>\n",
       "      <td>0</td>\n",
       "      <td>0</td>\n",
       "      <td>0</td>\n",
       "      <td>0</td>\n",
       "      <td>0</td>\n",
       "      <td>0</td>\n",
       "      <td>0</td>\n",
       "      <td>0</td>\n",
       "      <td>0</td>\n",
       "      <td>0</td>\n",
       "      <td>0</td>\n",
       "      <td>0</td>\n",
       "      <td>0</td>\n",
       "      <td>0</td>\n",
       "      <td>0</td>\n",
       "      <td>0</td>\n",
       "      <td>0</td>\n",
       "      <td>0</td>\n",
       "      <td>0</td>\n",
       "      <td>0</td>\n",
       "      <td>0</td>\n",
       "      <td>0</td>\n",
       "      <td>0</td>\n",
       "      <td>0</td>\n",
       "      <td>0</td>\n",
       "      <td>0</td>\n",
       "      <td>0</td>\n",
       "      <td>0</td>\n",
       "      <td>0</td>\n",
       "      <td>0</td>\n",
       "      <td>0</td>\n",
       "      <td>0</td>\n",
       "      <td>0</td>\n",
       "      <td>0</td>\n",
       "      <td>0</td>\n",
       "      <td>0</td>\n",
       "      <td>0</td>\n",
       "      <td>0</td>\n",
       "      <td>0</td>\n",
       "    </tr>\n",
       "  </tbody>\n",
       "</table>\n",
       "</div>"
      ],
      "text/plain": [
       "  Neighbourhood Name  African Restaurant  Airport Service  \\\n",
       "0           Wychwood                   0                0   \n",
       "1           Wychwood                   0                0   \n",
       "2           Wychwood                   0                0   \n",
       "3           Wychwood                   0                0   \n",
       "4           Wychwood                   0                0   \n",
       "\n",
       "   American Restaurant  Amphitheater  Animal Shelter  Antique Shop  Arcade  \\\n",
       "0                    0             0               0             0       0   \n",
       "1                    0             0               0             0       0   \n",
       "2                    0             0               0             0       0   \n",
       "3                    0             0               0             0       0   \n",
       "4                    0             0               0             0       0   \n",
       "\n",
       "   Argentinian Restaurant  Art Gallery  Art Museum  Arts & Crafts Store  \\\n",
       "0                       0            0           0                    0   \n",
       "1                       0            0           0                    0   \n",
       "2                       0            0           0                    0   \n",
       "3                       0            0           0                    0   \n",
       "4                       0            0           0                    0   \n",
       "\n",
       "   Asian Restaurant  Astrologer  Athletics & Sports  Auto Dealership  \\\n",
       "0                 0           0                   0                0   \n",
       "1                 0           0                   0                0   \n",
       "2                 0           0                   0                0   \n",
       "3                 0           0                   0                0   \n",
       "4                 0           0                   0                0   \n",
       "\n",
       "   Auto Workshop  Automotive Shop  BBQ Joint  Bagel Shop  Bakery  Bank  Bar  \\\n",
       "0              0                0          0           0       0     0    0   \n",
       "1              0                0          0           0       0     0    0   \n",
       "2              0                0          0           0       0     0    0   \n",
       "3              0                0          0           0       0     0    0   \n",
       "4              0                0          0           0       0     0    0   \n",
       "\n",
       "   Baseball Field  Basketball Court  Beach  Beer Bar  Beer Store  \\\n",
       "0               0                 0      0         0           0   \n",
       "1               0                 0      0         0           0   \n",
       "2               0                 0      0         0           0   \n",
       "3               0                 0      0         0           0   \n",
       "4               0                 0      0         0           0   \n",
       "\n",
       "   Belgian Restaurant  Bike Shop  Bistro  Boat or Ferry  Bookstore  \\\n",
       "0                   0          0       0              0          0   \n",
       "1                   0          0       0              0          0   \n",
       "2                   0          0       0              0          0   \n",
       "3                   0          0       0              0          0   \n",
       "4                   0          0       0              0          0   \n",
       "\n",
       "   Botanical Garden  Boutique  Bowling Alley  Brazilian Restaurant  \\\n",
       "0                 0         0              0                     0   \n",
       "1                 0         0              0                     0   \n",
       "2                 0         0              0                     0   \n",
       "3                 0         0              0                     0   \n",
       "4                 0         0              0                     0   \n",
       "\n",
       "   Breakfast Spot  Brewery  Bridal Shop  Bubble Tea Shop  Buffet  Building  \\\n",
       "0               0        0            0                0       0         0   \n",
       "1               0        0            0                0       0         0   \n",
       "2               0        0            0                0       0         0   \n",
       "3               0        0            0                0       0         0   \n",
       "4               0        0            0                0       0         0   \n",
       "\n",
       "   Burger Joint  Burrito Place  Bus Line  Bus Station  Bus Stop  \\\n",
       "0             0              0         0            0         0   \n",
       "1             0              0         0            0         0   \n",
       "2             0              0         0            0         0   \n",
       "3             0              0         0            0         0   \n",
       "4             0              0         0            0         0   \n",
       "\n",
       "   Business Service  Butcher  Café  Cajun / Creole Restaurant  Camera Store  \\\n",
       "0                 0        0     0                          0             0   \n",
       "1                 0        0     0                          0             0   \n",
       "2                 0        0     0                          0             0   \n",
       "3                 0        0     0                          0             0   \n",
       "4                 0        0     0                          0             0   \n",
       "\n",
       "   Campground  Candy Store  Cantonese Restaurant  Caribbean Restaurant  \\\n",
       "0           0            0                     0                     0   \n",
       "1           0            0                     0                     0   \n",
       "2           0            0                     0                     0   \n",
       "3           0            0                     0                     0   \n",
       "4           0            0                     0                     0   \n",
       "\n",
       "   Castle  Cheese Shop  Chinese Restaurant  Chiropractor  Chocolate Shop  \\\n",
       "0       0            0                   0             0               0   \n",
       "1       0            0                   0             0               0   \n",
       "2       0            0                   0             0               0   \n",
       "3       0            0                   0             0               0   \n",
       "4       0            0                   0             0               0   \n",
       "\n",
       "   Churrascaria  Clothing Store  Cocktail Bar  Coffee Shop  \\\n",
       "0             0               0             0            0   \n",
       "1             0               0             0            0   \n",
       "2             0               0             0            0   \n",
       "3             0               0             0            0   \n",
       "4             0               0             0            1   \n",
       "\n",
       "   College Arts Building  College Gym  College Quad  College Rec Center  \\\n",
       "0                      0            0             0                   0   \n",
       "1                      0            0             0                   0   \n",
       "2                      0            0             0                   0   \n",
       "3                      0            0             0                   0   \n",
       "4                      0            0             0                   0   \n",
       "\n",
       "   College Stadium  Comfort Food Restaurant  Comic Shop  Concert Hall  \\\n",
       "0                0                        0           0             0   \n",
       "1                0                        0           0             0   \n",
       "2                0                        0           0             0   \n",
       "3                0                        0           0             0   \n",
       "4                0                        0           0             0   \n",
       "\n",
       "   Construction & Landscaping  Convenience Store  Cosmetics Shop  \\\n",
       "0                           0                  0               0   \n",
       "1                           0                  0               0   \n",
       "2                           0                  0               0   \n",
       "3                           0                  0               0   \n",
       "4                           0                  0               0   \n",
       "\n",
       "   Costume Shop  Cuban Restaurant  Cupcake Shop  Curling Ice  Dance Studio  \\\n",
       "0             0                 0             0            0             0   \n",
       "1             0                 0             0            0             0   \n",
       "2             0                 0             0            0             0   \n",
       "3             0                 0             0            0             0   \n",
       "4             0                 0             0            0             0   \n",
       "\n",
       "   Deli / Bodega  Department Store  Dessert Shop  Dim Sum Restaurant  Diner  \\\n",
       "0              0                 0             0                   0      0   \n",
       "1              0                 0             0                   0      0   \n",
       "2              0                 0             0                   0      0   \n",
       "3              0                 0             0                   0      0   \n",
       "4              0                 0             0                   0      0   \n",
       "\n",
       "   Discount Store  Dive Bar  Doctor's Office  Dog Run  Donut Shop  \\\n",
       "0               0         0                0        0           0   \n",
       "1               0         0                0        0           0   \n",
       "2               0         0                0        0           0   \n",
       "3               0         0                0        0           0   \n",
       "4               0         0                0        0           0   \n",
       "\n",
       "   Dumpling Restaurant  Eastern European Restaurant  Egyptian Restaurant  \\\n",
       "0                    0                            0                    0   \n",
       "1                    0                            0                    0   \n",
       "2                    0                            0                    0   \n",
       "3                    0                            0                    0   \n",
       "4                    0                            0                    0   \n",
       "\n",
       "   Electronics Store  Elementary School  Ethiopian Restaurant  Event Space  \\\n",
       "0                  0                  0                     0            0   \n",
       "1                  0                  0                     0            1   \n",
       "2                  0                  0                     0            0   \n",
       "3                  0                  0                     0            0   \n",
       "4                  0                  0                     0            0   \n",
       "\n",
       "   Falafel Restaurant  Farm  Farmers Market  Fast Food Restaurant  Field  \\\n",
       "0                   0     0               1                     0      0   \n",
       "1                   0     0               0                     0      0   \n",
       "2                   0     0               0                     0      0   \n",
       "3                   0     0               0                     0      0   \n",
       "4                   0     0               0                     0      0   \n",
       "\n",
       "   Filipino Restaurant  Fish & Chips Shop  Fish Market  Flea Market  \\\n",
       "0                    0                  0            0            0   \n",
       "1                    0                  0            0            0   \n",
       "2                    0                  0            0            0   \n",
       "3                    0                  0            0            0   \n",
       "4                    0                  0            0            0   \n",
       "\n",
       "   Flower Shop  Food  Food & Drink Shop  Food Court  Food Truck  \\\n",
       "0            0     0                  0           0           0   \n",
       "1            0     0                  0           0           0   \n",
       "2            0     0                  0           0           0   \n",
       "3            0     0                  0           0           0   \n",
       "4            0     0                  0           0           0   \n",
       "\n",
       "   French Restaurant  Fried Chicken Joint  Frozen Yogurt Shop  \\\n",
       "0                  0                    0                   0   \n",
       "1                  0                    0                   0   \n",
       "2                  0                    0                   0   \n",
       "3                  0                    0                   0   \n",
       "4                  0                    0                   0   \n",
       "\n",
       "   Fruit & Vegetable Store  Furniture / Home Store  Gaming Cafe  Garden  \\\n",
       "0                        0                       0            0       0   \n",
       "1                        0                       0            0       0   \n",
       "2                        0                       0            0       0   \n",
       "3                        0                       0            0       0   \n",
       "4                        0                       0            0       0   \n",
       "\n",
       "   Garden Center  Gas Station  Gastropub  Gay Bar  General Entertainment  \\\n",
       "0              0            0          0        0                      0   \n",
       "1              0            0          0        0                      0   \n",
       "2              0            0          0        0                      0   \n",
       "3              0            0          0        0                      0   \n",
       "4              0            0          0        0                      0   \n",
       "\n",
       "   General Travel  German Restaurant  Gift Shop  Golf Driving Range  \\\n",
       "0               0                  0          0                   0   \n",
       "1               0                  0          0                   0   \n",
       "2               0                  0          0                   0   \n",
       "3               0                  0          0                   0   \n",
       "4               0                  0          0                   0   \n",
       "\n",
       "   Gourmet Shop  Government Building  Greek Restaurant  Grocery Store  Gym  \\\n",
       "0             0                    0                 0              0    0   \n",
       "1             0                    0                 0              0    0   \n",
       "2             0                    0                 0              0    0   \n",
       "3             0                    0                 0              0    0   \n",
       "4             0                    0                 0              0    0   \n",
       "\n",
       "   Gym / Fitness Center  Gym Pool  Hakka Restaurant  Halal Restaurant  \\\n",
       "0                     0         0                 0                 0   \n",
       "1                     0         0                 0                 0   \n",
       "2                     0         0                 0                 0   \n",
       "3                     0         0                 0                 0   \n",
       "4                     0         0                 0                 0   \n",
       "\n",
       "   Harbor / Marina  Hardware Store  Health & Beauty Service  Historic Site  \\\n",
       "0                0               0                        0              0   \n",
       "1                0               0                        0              0   \n",
       "2                0               0                        0              0   \n",
       "3                0               0                        0              0   \n",
       "4                0               0                        0              0   \n",
       "\n",
       "   History Museum  Hobby Shop  Hockey Arena  Hockey Field  Home Service  \\\n",
       "0               0           0             0             0             0   \n",
       "1               0           0             0             0             0   \n",
       "2               0           0             0             0             0   \n",
       "3               0           0             0             0             0   \n",
       "4               0           0             0             0             0   \n",
       "\n",
       "   Hookah Bar  Hostel  Hotel  Hotel Bar  Hotpot Restaurant  IT Services  \\\n",
       "0           0       0      0          0                  0            0   \n",
       "1           0       0      0          0                  0            0   \n",
       "2           0       0      0          0                  0            0   \n",
       "3           0       0      0          0                  0            0   \n",
       "4           0       0      0          0                  0            0   \n",
       "\n",
       "   Ice Cream Shop  Indian Chinese Restaurant  Indian Restaurant  \\\n",
       "0               0                          0                  0   \n",
       "1               0                          0                  0   \n",
       "2               0                          0                  0   \n",
       "3               0                          0                  0   \n",
       "4               0                          0                  0   \n",
       "\n",
       "   Indie Theater  Indonesian Restaurant  Indoor Play Area  Intersection  \\\n",
       "0              0                      0                 0             0   \n",
       "1              0                      0                 0             0   \n",
       "2              0                      0                 0             0   \n",
       "3              0                      0                 0             0   \n",
       "4              0                      0                 0             0   \n",
       "\n",
       "   Italian Restaurant  Japanese Restaurant  Jazz Club  Jewelry Store  \\\n",
       "0                   0                    0          0              0   \n",
       "1                   0                    0          0              0   \n",
       "2                   0                    0          0              0   \n",
       "3                   1                    0          0              0   \n",
       "4                   0                    0          0              0   \n",
       "\n",
       "   Juice Bar  Karaoke Bar  Kids Store  Korean Restaurant  Lake  \\\n",
       "0          0            0           0                  0     0   \n",
       "1          0            0           0                  0     0   \n",
       "2          0            0           0                  0     0   \n",
       "3          0            0           0                  0     0   \n",
       "4          0            0           0                  0     0   \n",
       "\n",
       "   Latin American Restaurant  Library  Light Rail Station  Lingerie Store  \\\n",
       "0                          0        0                   0               0   \n",
       "1                          0        0                   0               0   \n",
       "2                          0        0                   0               0   \n",
       "3                          0        0                   0               0   \n",
       "4                          0        0                   0               0   \n",
       "\n",
       "   Liquor Store  Locksmith  Lounge  Malay Restaurant  Market  \\\n",
       "0             0          0       0                 0       0   \n",
       "1             0          0       0                 0       0   \n",
       "2             0          0       0                 0       0   \n",
       "3             0          0       0                 0       0   \n",
       "4             0          0       0                 0       0   \n",
       "\n",
       "   Martial Arts School  Massage Studio  Mediterranean Restaurant  Men's Store  \\\n",
       "0                    0               0                         0            0   \n",
       "1                    0               0                         0            0   \n",
       "2                    0               0                         0            0   \n",
       "3                    0               0                         0            0   \n",
       "4                    0               0                         0            0   \n",
       "\n",
       "   Metro Station  Mexican Restaurant  Middle Eastern Restaurant  \\\n",
       "0              0                   0                          0   \n",
       "1              0                   0                          0   \n",
       "2              0                   0                          0   \n",
       "3              0                   0                          0   \n",
       "4              0                   0                          0   \n",
       "\n",
       "   Miscellaneous Shop  Mobile Phone Shop  Modern European Restaurant  \\\n",
       "0                   0                  0                           0   \n",
       "1                   0                  0                           0   \n",
       "2                   0                  0                           0   \n",
       "3                   0                  0                           0   \n",
       "4                   0                  0                           0   \n",
       "\n",
       "   Motorcycle Shop  Movie Theater  Moving Target  Museum  Music Venue  \\\n",
       "0                0              0              0       0            0   \n",
       "1                0              0              0       0            0   \n",
       "2                0              0              0       0            0   \n",
       "3                0              0              0       0            0   \n",
       "4                0              0              0       0            0   \n",
       "\n",
       "   Nail Salon  Neighborhood  New American Restaurant  Nightclub  Noodle House  \\\n",
       "0           0             0                        0          0             0   \n",
       "1           0             0                        0          0             0   \n",
       "2           0             0                        0          0             0   \n",
       "3           0             0                        0          0             0   \n",
       "4           0             0                        0          0             0   \n",
       "\n",
       "   North Indian Restaurant  Optical Shop  Organic Grocery  \\\n",
       "0                        0             0                0   \n",
       "1                        0             0                0   \n",
       "2                        0             0                0   \n",
       "3                        0             0                0   \n",
       "4                        0             0                0   \n",
       "\n",
       "   Other Great Outdoors  Pakistani Restaurant  Paper / Office Supplies Store  \\\n",
       "0                     0                     0                              0   \n",
       "1                     0                     0                              0   \n",
       "2                     0                     0                              0   \n",
       "3                     0                     0                              0   \n",
       "4                     0                     0                              0   \n",
       "\n",
       "   Park  Pastry Shop  Performing Arts Venue  Persian Restaurant  Pet Store  \\\n",
       "0     0            0                      0                   0          0   \n",
       "1     0            0                      0                   0          0   \n",
       "2     1            0                      0                   0          0   \n",
       "3     0            0                      0                   0          0   \n",
       "4     0            0                      0                   0          0   \n",
       "\n",
       "   Pharmacy  Photography Lab  Photography Studio  Pie Shop  Pizza Place  \\\n",
       "0         0                0                   0         0            0   \n",
       "1         0                0                   0         0            0   \n",
       "2         0                0                   0         0            0   \n",
       "3         0                0                   0         0            0   \n",
       "4         0                0                   0         0            0   \n",
       "\n",
       "   Platform  Playground  Plaza  Poke Place  Pool  Pool Hall  \\\n",
       "0         0           0      0           0     0          0   \n",
       "1         0           0      0           0     0          0   \n",
       "2         0           0      0           0     0          0   \n",
       "3         0           0      0           0     0          0   \n",
       "4         0           0      0           0     0          0   \n",
       "\n",
       "   Portuguese Restaurant  Poutine Place  Pub  Racetrack  Ramen Restaurant  \\\n",
       "0                      0              0    0          0                 0   \n",
       "1                      0              0    0          0                 0   \n",
       "2                      0              0    0          0                 0   \n",
       "3                      0              0    0          0                 0   \n",
       "4                      0              0    0          0                 0   \n",
       "\n",
       "   Record Shop  Rental Car Location  Residential Building (Apartment / Condo)  \\\n",
       "0            0                    0                                         0   \n",
       "1            0                    0                                         0   \n",
       "2            0                    0                                         0   \n",
       "3            0                    0                                         0   \n",
       "4            0                    0                                         0   \n",
       "\n",
       "   Restaurant  River  Road  Rock Climbing Spot  Rock Club  Salad Place  \\\n",
       "0           0      0     0                   0          0            0   \n",
       "1           0      0     0                   0          0            0   \n",
       "2           0      0     0                   0          0            0   \n",
       "3           0      0     0                   0          0            0   \n",
       "4           0      0     0                   0          0            0   \n",
       "\n",
       "   Salon / Barbershop  Sandwich Place  Scenic Lookout  School  Science Museum  \\\n",
       "0                   0               0               0       0               0   \n",
       "1                   0               0               0       0               0   \n",
       "2                   0               0               0       0               0   \n",
       "3                   0               0               0       0               0   \n",
       "4                   0               0               0       0               0   \n",
       "\n",
       "   Seafood Restaurant  Shoe Repair  Shoe Store  Shopping Mall  Shopping Plaza  \\\n",
       "0                   0            0           0              0               0   \n",
       "1                   0            0           0              0               0   \n",
       "2                   0            0           0              0               0   \n",
       "3                   0            0           0              0               0   \n",
       "4                   0            0           0              0               0   \n",
       "\n",
       "   Skating Rink  Smoke Shop  Snack Place  Soccer Field  Social Club  \\\n",
       "0             0           0            0             0            0   \n",
       "1             0           0            0             0            0   \n",
       "2             0           0            0             0            0   \n",
       "3             0           0            0             0            0   \n",
       "4             0           0            0             0            0   \n",
       "\n",
       "   South American Restaurant  South Indian Restaurant  Spa  Speakeasy  \\\n",
       "0                          0                        0    0          0   \n",
       "1                          0                        0    0          0   \n",
       "2                          0                        0    0          0   \n",
       "3                          0                        0    0          0   \n",
       "4                          0                        0    0          0   \n",
       "\n",
       "   Sporting Goods Shop  Sports Bar  Sri Lankan Restaurant  Steakhouse  \\\n",
       "0                    0           0                      0           0   \n",
       "1                    0           0                      0           0   \n",
       "2                    0           0                      0           0   \n",
       "3                    0           0                      0           0   \n",
       "4                    0           0                      0           0   \n",
       "\n",
       "   Storage Facility  Supermarket  Sushi Restaurant  Swiss Restaurant  \\\n",
       "0                 0            0                 0                 0   \n",
       "1                 0            0                 0                 0   \n",
       "2                 0            0                 0                 0   \n",
       "3                 0            0                 0                 0   \n",
       "4                 0            0                 0                 0   \n",
       "\n",
       "   Syrian Restaurant  Taco Place  Taiwanese Restaurant  Tapas Restaurant  \\\n",
       "0                  0           0                     0                 0   \n",
       "1                  0           0                     0                 0   \n",
       "2                  0           0                     0                 0   \n",
       "3                  0           0                     0                 0   \n",
       "4                  0           0                     0                 0   \n",
       "\n",
       "   Tattoo Parlor  Tea Room  Tennis Court  Thai Restaurant  Theater  \\\n",
       "0              0         0             0                0        0   \n",
       "1              0         0             0                0        0   \n",
       "2              0         0             0                0        0   \n",
       "3              0         0             0                0        0   \n",
       "4              0         0             0                0        0   \n",
       "\n",
       "   Theme Park  Theme Park Ride / Attraction  Thrift / Vintage Store  \\\n",
       "0           0                             0                       0   \n",
       "1           0                             0                       0   \n",
       "2           0                             0                       0   \n",
       "3           0                             0                       0   \n",
       "4           0                             0                       0   \n",
       "\n",
       "   Tibetan Restaurant  Toy / Game Store  Trail  Train Station  Tram Station  \\\n",
       "0                   0                 0      0              0             0   \n",
       "1                   0                 0      0              0             0   \n",
       "2                   0                 0      0              0             0   \n",
       "3                   0                 0      0              0             0   \n",
       "4                   0                 0      0              0             0   \n",
       "\n",
       "   Tree  Turkish Restaurant  Vegetarian / Vegan Restaurant  Video Game Store  \\\n",
       "0     0                   0                              0                 0   \n",
       "1     0                   0                              0                 0   \n",
       "2     0                   0                              0                 0   \n",
       "3     0                   0                              0                 0   \n",
       "4     0                   0                              0                 0   \n",
       "\n",
       "   Video Store  Vietnamese Restaurant  Warehouse Store  Wine Bar  Wine Shop  \\\n",
       "0            0                      0                0         0          0   \n",
       "1            0                      0                0         0          0   \n",
       "2            0                      0                0         0          0   \n",
       "3            0                      0                0         0          0   \n",
       "4            0                      0                0         0          0   \n",
       "\n",
       "   Wings Joint  Women's Store  Yoga Studio  Zoo  Zoo Exhibit  \n",
       "0            0              0            0    0            0  \n",
       "1            0              0            0    0            0  \n",
       "2            0              0            0    0            0  \n",
       "3            0              0            0    0            0  \n",
       "4            0              0            0    0            0  "
      ]
     },
     "execution_count": 17,
     "metadata": {},
     "output_type": "execute_result"
    }
   ],
   "source": [
    "# One hot encoding\n",
    "toronto_onehot = pd.get_dummies(toronto_venues[['Venue Category']],\n",
    "                                prefix=\"\",\n",
    "                                prefix_sep=\"\") # Remove Prefix 'Venue Category' from column names\n",
    "\n",
    "# Put columns of  neighborhood name back to dataframe\n",
    "toronto_onehot['Neighbourhood Name'] = toronto_venues['Neighbourhood Name']\n",
    "\n",
    "# Switch neighborhood column to the first column\n",
    "neigh = toronto_onehot['Neighbourhood Name']\n",
    "toronto_onehot.drop(labels=['Neighbourhood Name'], axis=1, inplace=True)\n",
    "toronto_onehot.insert(0, 'Neighbourhood Name', neigh)\n",
    "toronto_onehot.head()"
   ]
  },
  {
   "cell_type": "code",
   "execution_count": 18,
   "metadata": {
    "scrolled": true
   },
   "outputs": [
    {
     "data": {
      "text/html": [
       "<div>\n",
       "<style scoped>\n",
       "    .dataframe tbody tr th:only-of-type {\n",
       "        vertical-align: middle;\n",
       "    }\n",
       "\n",
       "    .dataframe tbody tr th {\n",
       "        vertical-align: top;\n",
       "    }\n",
       "\n",
       "    .dataframe thead th {\n",
       "        text-align: right;\n",
       "    }\n",
       "</style>\n",
       "<table border=\"1\" class=\"dataframe\">\n",
       "  <thead>\n",
       "    <tr style=\"text-align: right;\">\n",
       "      <th></th>\n",
       "      <th>Neighbourhood Name</th>\n",
       "      <th>African Restaurant</th>\n",
       "      <th>Airport Service</th>\n",
       "      <th>American Restaurant</th>\n",
       "      <th>Amphitheater</th>\n",
       "      <th>Animal Shelter</th>\n",
       "      <th>Antique Shop</th>\n",
       "      <th>Arcade</th>\n",
       "      <th>Argentinian Restaurant</th>\n",
       "      <th>Art Gallery</th>\n",
       "      <th>Art Museum</th>\n",
       "      <th>Arts &amp; Crafts Store</th>\n",
       "      <th>Asian Restaurant</th>\n",
       "      <th>Astrologer</th>\n",
       "      <th>Athletics &amp; Sports</th>\n",
       "      <th>Auto Dealership</th>\n",
       "      <th>Auto Workshop</th>\n",
       "      <th>Automotive Shop</th>\n",
       "      <th>BBQ Joint</th>\n",
       "      <th>Bagel Shop</th>\n",
       "      <th>Bakery</th>\n",
       "      <th>Bank</th>\n",
       "      <th>Bar</th>\n",
       "      <th>Baseball Field</th>\n",
       "      <th>Basketball Court</th>\n",
       "      <th>Beach</th>\n",
       "      <th>Beer Bar</th>\n",
       "      <th>Beer Store</th>\n",
       "      <th>Belgian Restaurant</th>\n",
       "      <th>Bike Shop</th>\n",
       "      <th>Bistro</th>\n",
       "      <th>Boat or Ferry</th>\n",
       "      <th>Bookstore</th>\n",
       "      <th>Botanical Garden</th>\n",
       "      <th>Boutique</th>\n",
       "      <th>Bowling Alley</th>\n",
       "      <th>Brazilian Restaurant</th>\n",
       "      <th>Breakfast Spot</th>\n",
       "      <th>Brewery</th>\n",
       "      <th>Bridal Shop</th>\n",
       "      <th>Bubble Tea Shop</th>\n",
       "      <th>Buffet</th>\n",
       "      <th>Building</th>\n",
       "      <th>Burger Joint</th>\n",
       "      <th>Burrito Place</th>\n",
       "      <th>Bus Line</th>\n",
       "      <th>Bus Station</th>\n",
       "      <th>Bus Stop</th>\n",
       "      <th>Business Service</th>\n",
       "      <th>Butcher</th>\n",
       "      <th>Café</th>\n",
       "      <th>Cajun / Creole Restaurant</th>\n",
       "      <th>Camera Store</th>\n",
       "      <th>Campground</th>\n",
       "      <th>Candy Store</th>\n",
       "      <th>Cantonese Restaurant</th>\n",
       "      <th>Caribbean Restaurant</th>\n",
       "      <th>Castle</th>\n",
       "      <th>Cheese Shop</th>\n",
       "      <th>Chinese Restaurant</th>\n",
       "      <th>Chiropractor</th>\n",
       "      <th>Chocolate Shop</th>\n",
       "      <th>Churrascaria</th>\n",
       "      <th>Clothing Store</th>\n",
       "      <th>Cocktail Bar</th>\n",
       "      <th>Coffee Shop</th>\n",
       "      <th>College Arts Building</th>\n",
       "      <th>College Gym</th>\n",
       "      <th>College Quad</th>\n",
       "      <th>College Rec Center</th>\n",
       "      <th>College Stadium</th>\n",
       "      <th>Comfort Food Restaurant</th>\n",
       "      <th>Comic Shop</th>\n",
       "      <th>Concert Hall</th>\n",
       "      <th>Construction &amp; Landscaping</th>\n",
       "      <th>Convenience Store</th>\n",
       "      <th>Cosmetics Shop</th>\n",
       "      <th>Costume Shop</th>\n",
       "      <th>Cuban Restaurant</th>\n",
       "      <th>Cupcake Shop</th>\n",
       "      <th>Curling Ice</th>\n",
       "      <th>Dance Studio</th>\n",
       "      <th>Deli / Bodega</th>\n",
       "      <th>Department Store</th>\n",
       "      <th>Dessert Shop</th>\n",
       "      <th>Dim Sum Restaurant</th>\n",
       "      <th>Diner</th>\n",
       "      <th>Discount Store</th>\n",
       "      <th>Dive Bar</th>\n",
       "      <th>Doctor's Office</th>\n",
       "      <th>Dog Run</th>\n",
       "      <th>Donut Shop</th>\n",
       "      <th>Dumpling Restaurant</th>\n",
       "      <th>Eastern European Restaurant</th>\n",
       "      <th>Egyptian Restaurant</th>\n",
       "      <th>Electronics Store</th>\n",
       "      <th>Elementary School</th>\n",
       "      <th>Ethiopian Restaurant</th>\n",
       "      <th>Event Space</th>\n",
       "      <th>Falafel Restaurant</th>\n",
       "      <th>Farm</th>\n",
       "      <th>Farmers Market</th>\n",
       "      <th>Fast Food Restaurant</th>\n",
       "      <th>Field</th>\n",
       "      <th>Filipino Restaurant</th>\n",
       "      <th>Fish &amp; Chips Shop</th>\n",
       "      <th>Fish Market</th>\n",
       "      <th>Flea Market</th>\n",
       "      <th>Flower Shop</th>\n",
       "      <th>Food</th>\n",
       "      <th>Food &amp; Drink Shop</th>\n",
       "      <th>Food Court</th>\n",
       "      <th>Food Truck</th>\n",
       "      <th>French Restaurant</th>\n",
       "      <th>Fried Chicken Joint</th>\n",
       "      <th>Frozen Yogurt Shop</th>\n",
       "      <th>Fruit &amp; Vegetable Store</th>\n",
       "      <th>Furniture / Home Store</th>\n",
       "      <th>Gaming Cafe</th>\n",
       "      <th>Garden</th>\n",
       "      <th>Garden Center</th>\n",
       "      <th>Gas Station</th>\n",
       "      <th>Gastropub</th>\n",
       "      <th>Gay Bar</th>\n",
       "      <th>General Entertainment</th>\n",
       "      <th>General Travel</th>\n",
       "      <th>German Restaurant</th>\n",
       "      <th>Gift Shop</th>\n",
       "      <th>Golf Driving Range</th>\n",
       "      <th>Gourmet Shop</th>\n",
       "      <th>Government Building</th>\n",
       "      <th>Greek Restaurant</th>\n",
       "      <th>Grocery Store</th>\n",
       "      <th>Gym</th>\n",
       "      <th>Gym / Fitness Center</th>\n",
       "      <th>Gym Pool</th>\n",
       "      <th>Hakka Restaurant</th>\n",
       "      <th>Halal Restaurant</th>\n",
       "      <th>Harbor / Marina</th>\n",
       "      <th>Hardware Store</th>\n",
       "      <th>Health &amp; Beauty Service</th>\n",
       "      <th>Historic Site</th>\n",
       "      <th>History Museum</th>\n",
       "      <th>Hobby Shop</th>\n",
       "      <th>Hockey Arena</th>\n",
       "      <th>Hockey Field</th>\n",
       "      <th>Home Service</th>\n",
       "      <th>Hookah Bar</th>\n",
       "      <th>Hostel</th>\n",
       "      <th>Hotel</th>\n",
       "      <th>Hotel Bar</th>\n",
       "      <th>Hotpot Restaurant</th>\n",
       "      <th>IT Services</th>\n",
       "      <th>Ice Cream Shop</th>\n",
       "      <th>Indian Chinese Restaurant</th>\n",
       "      <th>Indian Restaurant</th>\n",
       "      <th>Indie Theater</th>\n",
       "      <th>Indonesian Restaurant</th>\n",
       "      <th>Indoor Play Area</th>\n",
       "      <th>Intersection</th>\n",
       "      <th>Italian Restaurant</th>\n",
       "      <th>Japanese Restaurant</th>\n",
       "      <th>Jazz Club</th>\n",
       "      <th>Jewelry Store</th>\n",
       "      <th>Juice Bar</th>\n",
       "      <th>Karaoke Bar</th>\n",
       "      <th>Kids Store</th>\n",
       "      <th>Korean Restaurant</th>\n",
       "      <th>Lake</th>\n",
       "      <th>Latin American Restaurant</th>\n",
       "      <th>Library</th>\n",
       "      <th>Light Rail Station</th>\n",
       "      <th>Lingerie Store</th>\n",
       "      <th>Liquor Store</th>\n",
       "      <th>Locksmith</th>\n",
       "      <th>Lounge</th>\n",
       "      <th>Malay Restaurant</th>\n",
       "      <th>Market</th>\n",
       "      <th>Martial Arts School</th>\n",
       "      <th>Massage Studio</th>\n",
       "      <th>Mediterranean Restaurant</th>\n",
       "      <th>Men's Store</th>\n",
       "      <th>Metro Station</th>\n",
       "      <th>Mexican Restaurant</th>\n",
       "      <th>Middle Eastern Restaurant</th>\n",
       "      <th>Miscellaneous Shop</th>\n",
       "      <th>Mobile Phone Shop</th>\n",
       "      <th>Modern European Restaurant</th>\n",
       "      <th>Motorcycle Shop</th>\n",
       "      <th>Movie Theater</th>\n",
       "      <th>Moving Target</th>\n",
       "      <th>Museum</th>\n",
       "      <th>Music Venue</th>\n",
       "      <th>Nail Salon</th>\n",
       "      <th>Neighborhood</th>\n",
       "      <th>New American Restaurant</th>\n",
       "      <th>Nightclub</th>\n",
       "      <th>Noodle House</th>\n",
       "      <th>North Indian Restaurant</th>\n",
       "      <th>Optical Shop</th>\n",
       "      <th>Organic Grocery</th>\n",
       "      <th>Other Great Outdoors</th>\n",
       "      <th>Pakistani Restaurant</th>\n",
       "      <th>Paper / Office Supplies Store</th>\n",
       "      <th>Park</th>\n",
       "      <th>Pastry Shop</th>\n",
       "      <th>Performing Arts Venue</th>\n",
       "      <th>Persian Restaurant</th>\n",
       "      <th>Pet Store</th>\n",
       "      <th>Pharmacy</th>\n",
       "      <th>Photography Lab</th>\n",
       "      <th>Photography Studio</th>\n",
       "      <th>Pie Shop</th>\n",
       "      <th>Pizza Place</th>\n",
       "      <th>Platform</th>\n",
       "      <th>Playground</th>\n",
       "      <th>Plaza</th>\n",
       "      <th>Poke Place</th>\n",
       "      <th>Pool</th>\n",
       "      <th>Pool Hall</th>\n",
       "      <th>Portuguese Restaurant</th>\n",
       "      <th>Poutine Place</th>\n",
       "      <th>Pub</th>\n",
       "      <th>Racetrack</th>\n",
       "      <th>Ramen Restaurant</th>\n",
       "      <th>Record Shop</th>\n",
       "      <th>Rental Car Location</th>\n",
       "      <th>Residential Building (Apartment / Condo)</th>\n",
       "      <th>Restaurant</th>\n",
       "      <th>River</th>\n",
       "      <th>Road</th>\n",
       "      <th>Rock Climbing Spot</th>\n",
       "      <th>Rock Club</th>\n",
       "      <th>Salad Place</th>\n",
       "      <th>Salon / Barbershop</th>\n",
       "      <th>Sandwich Place</th>\n",
       "      <th>Scenic Lookout</th>\n",
       "      <th>School</th>\n",
       "      <th>Science Museum</th>\n",
       "      <th>Seafood Restaurant</th>\n",
       "      <th>Shoe Repair</th>\n",
       "      <th>Shoe Store</th>\n",
       "      <th>Shopping Mall</th>\n",
       "      <th>Shopping Plaza</th>\n",
       "      <th>Skating Rink</th>\n",
       "      <th>Smoke Shop</th>\n",
       "      <th>Snack Place</th>\n",
       "      <th>Soccer Field</th>\n",
       "      <th>Social Club</th>\n",
       "      <th>South American Restaurant</th>\n",
       "      <th>South Indian Restaurant</th>\n",
       "      <th>Spa</th>\n",
       "      <th>Speakeasy</th>\n",
       "      <th>Sporting Goods Shop</th>\n",
       "      <th>Sports Bar</th>\n",
       "      <th>Sri Lankan Restaurant</th>\n",
       "      <th>Steakhouse</th>\n",
       "      <th>Storage Facility</th>\n",
       "      <th>Supermarket</th>\n",
       "      <th>Sushi Restaurant</th>\n",
       "      <th>Swiss Restaurant</th>\n",
       "      <th>Syrian Restaurant</th>\n",
       "      <th>Taco Place</th>\n",
       "      <th>Taiwanese Restaurant</th>\n",
       "      <th>Tapas Restaurant</th>\n",
       "      <th>Tattoo Parlor</th>\n",
       "      <th>Tea Room</th>\n",
       "      <th>Tennis Court</th>\n",
       "      <th>Thai Restaurant</th>\n",
       "      <th>Theater</th>\n",
       "      <th>Theme Park</th>\n",
       "      <th>Theme Park Ride / Attraction</th>\n",
       "      <th>Thrift / Vintage Store</th>\n",
       "      <th>Tibetan Restaurant</th>\n",
       "      <th>Toy / Game Store</th>\n",
       "      <th>Trail</th>\n",
       "      <th>Train Station</th>\n",
       "      <th>Tram Station</th>\n",
       "      <th>Tree</th>\n",
       "      <th>Turkish Restaurant</th>\n",
       "      <th>Vegetarian / Vegan Restaurant</th>\n",
       "      <th>Video Game Store</th>\n",
       "      <th>Video Store</th>\n",
       "      <th>Vietnamese Restaurant</th>\n",
       "      <th>Warehouse Store</th>\n",
       "      <th>Wine Bar</th>\n",
       "      <th>Wine Shop</th>\n",
       "      <th>Wings Joint</th>\n",
       "      <th>Women's Store</th>\n",
       "      <th>Yoga Studio</th>\n",
       "      <th>Zoo</th>\n",
       "      <th>Zoo Exhibit</th>\n",
       "    </tr>\n",
       "  </thead>\n",
       "  <tbody>\n",
       "    <tr>\n",
       "      <th>0</th>\n",
       "      <td>Agincourt North</td>\n",
       "      <td>0</td>\n",
       "      <td>0</td>\n",
       "      <td>0</td>\n",
       "      <td>0</td>\n",
       "      <td>0</td>\n",
       "      <td>0</td>\n",
       "      <td>0</td>\n",
       "      <td>0</td>\n",
       "      <td>0</td>\n",
       "      <td>0</td>\n",
       "      <td>0</td>\n",
       "      <td>0</td>\n",
       "      <td>0</td>\n",
       "      <td>0</td>\n",
       "      <td>0</td>\n",
       "      <td>0</td>\n",
       "      <td>0</td>\n",
       "      <td>0</td>\n",
       "      <td>0</td>\n",
       "      <td>1</td>\n",
       "      <td>1</td>\n",
       "      <td>0</td>\n",
       "      <td>0</td>\n",
       "      <td>0</td>\n",
       "      <td>0</td>\n",
       "      <td>0</td>\n",
       "      <td>1</td>\n",
       "      <td>0</td>\n",
       "      <td>0</td>\n",
       "      <td>0</td>\n",
       "      <td>0</td>\n",
       "      <td>0</td>\n",
       "      <td>0</td>\n",
       "      <td>0</td>\n",
       "      <td>0</td>\n",
       "      <td>0</td>\n",
       "      <td>0</td>\n",
       "      <td>0</td>\n",
       "      <td>0</td>\n",
       "      <td>0</td>\n",
       "      <td>0</td>\n",
       "      <td>0</td>\n",
       "      <td>0</td>\n",
       "      <td>0</td>\n",
       "      <td>0</td>\n",
       "      <td>0</td>\n",
       "      <td>0</td>\n",
       "      <td>0</td>\n",
       "      <td>0</td>\n",
       "      <td>0</td>\n",
       "      <td>0</td>\n",
       "      <td>0</td>\n",
       "      <td>0</td>\n",
       "      <td>0</td>\n",
       "      <td>0</td>\n",
       "      <td>0</td>\n",
       "      <td>0</td>\n",
       "      <td>0</td>\n",
       "      <td>1</td>\n",
       "      <td>0</td>\n",
       "      <td>0</td>\n",
       "      <td>0</td>\n",
       "      <td>1</td>\n",
       "      <td>0</td>\n",
       "      <td>0</td>\n",
       "      <td>0</td>\n",
       "      <td>0</td>\n",
       "      <td>0</td>\n",
       "      <td>0</td>\n",
       "      <td>0</td>\n",
       "      <td>0</td>\n",
       "      <td>0</td>\n",
       "      <td>0</td>\n",
       "      <td>0</td>\n",
       "      <td>1</td>\n",
       "      <td>0</td>\n",
       "      <td>0</td>\n",
       "      <td>0</td>\n",
       "      <td>0</td>\n",
       "      <td>0</td>\n",
       "      <td>0</td>\n",
       "      <td>0</td>\n",
       "      <td>0</td>\n",
       "      <td>0</td>\n",
       "      <td>0</td>\n",
       "      <td>0</td>\n",
       "      <td>1</td>\n",
       "      <td>0</td>\n",
       "      <td>0</td>\n",
       "      <td>0</td>\n",
       "      <td>0</td>\n",
       "      <td>0</td>\n",
       "      <td>0</td>\n",
       "      <td>0</td>\n",
       "      <td>0</td>\n",
       "      <td>0</td>\n",
       "      <td>0</td>\n",
       "      <td>0</td>\n",
       "      <td>0</td>\n",
       "      <td>0</td>\n",
       "      <td>0</td>\n",
       "      <td>1</td>\n",
       "      <td>0</td>\n",
       "      <td>0</td>\n",
       "      <td>0</td>\n",
       "      <td>0</td>\n",
       "      <td>0</td>\n",
       "      <td>0</td>\n",
       "      <td>0</td>\n",
       "      <td>0</td>\n",
       "      <td>0</td>\n",
       "      <td>0</td>\n",
       "      <td>0</td>\n",
       "      <td>1</td>\n",
       "      <td>1</td>\n",
       "      <td>0</td>\n",
       "      <td>0</td>\n",
       "      <td>0</td>\n",
       "      <td>0</td>\n",
       "      <td>0</td>\n",
       "      <td>0</td>\n",
       "      <td>0</td>\n",
       "      <td>0</td>\n",
       "      <td>0</td>\n",
       "      <td>0</td>\n",
       "      <td>0</td>\n",
       "      <td>0</td>\n",
       "      <td>0</td>\n",
       "      <td>0</td>\n",
       "      <td>0</td>\n",
       "      <td>0</td>\n",
       "      <td>0</td>\n",
       "      <td>0</td>\n",
       "      <td>0</td>\n",
       "      <td>0</td>\n",
       "      <td>0</td>\n",
       "      <td>0</td>\n",
       "      <td>0</td>\n",
       "      <td>0</td>\n",
       "      <td>0</td>\n",
       "      <td>0</td>\n",
       "      <td>0</td>\n",
       "      <td>0</td>\n",
       "      <td>0</td>\n",
       "      <td>0</td>\n",
       "      <td>0</td>\n",
       "      <td>0</td>\n",
       "      <td>0</td>\n",
       "      <td>0</td>\n",
       "      <td>0</td>\n",
       "      <td>0</td>\n",
       "      <td>0</td>\n",
       "      <td>0</td>\n",
       "      <td>0</td>\n",
       "      <td>0</td>\n",
       "      <td>0</td>\n",
       "      <td>0</td>\n",
       "      <td>0</td>\n",
       "      <td>0</td>\n",
       "      <td>0</td>\n",
       "      <td>1</td>\n",
       "      <td>0</td>\n",
       "      <td>0</td>\n",
       "      <td>0</td>\n",
       "      <td>0</td>\n",
       "      <td>0</td>\n",
       "      <td>0</td>\n",
       "      <td>0</td>\n",
       "      <td>0</td>\n",
       "      <td>0</td>\n",
       "      <td>0</td>\n",
       "      <td>0</td>\n",
       "      <td>1</td>\n",
       "      <td>0</td>\n",
       "      <td>0</td>\n",
       "      <td>0</td>\n",
       "      <td>0</td>\n",
       "      <td>0</td>\n",
       "      <td>0</td>\n",
       "      <td>0</td>\n",
       "      <td>0</td>\n",
       "      <td>0</td>\n",
       "      <td>0</td>\n",
       "      <td>0</td>\n",
       "      <td>0</td>\n",
       "      <td>0</td>\n",
       "      <td>0</td>\n",
       "      <td>0</td>\n",
       "      <td>0</td>\n",
       "      <td>0</td>\n",
       "      <td>0</td>\n",
       "      <td>0</td>\n",
       "      <td>0</td>\n",
       "      <td>0</td>\n",
       "      <td>0</td>\n",
       "      <td>0</td>\n",
       "      <td>0</td>\n",
       "      <td>0</td>\n",
       "      <td>0</td>\n",
       "      <td>0</td>\n",
       "      <td>0</td>\n",
       "      <td>0</td>\n",
       "      <td>0</td>\n",
       "      <td>1</td>\n",
       "      <td>0</td>\n",
       "      <td>0</td>\n",
       "      <td>0</td>\n",
       "      <td>0</td>\n",
       "      <td>1</td>\n",
       "      <td>0</td>\n",
       "      <td>0</td>\n",
       "      <td>0</td>\n",
       "      <td>1</td>\n",
       "      <td>0</td>\n",
       "      <td>0</td>\n",
       "      <td>0</td>\n",
       "      <td>0</td>\n",
       "      <td>0</td>\n",
       "      <td>0</td>\n",
       "      <td>0</td>\n",
       "      <td>0</td>\n",
       "      <td>0</td>\n",
       "      <td>0</td>\n",
       "      <td>0</td>\n",
       "      <td>0</td>\n",
       "      <td>0</td>\n",
       "      <td>0</td>\n",
       "      <td>0</td>\n",
       "      <td>0</td>\n",
       "      <td>0</td>\n",
       "      <td>0</td>\n",
       "      <td>0</td>\n",
       "      <td>0</td>\n",
       "      <td>0</td>\n",
       "      <td>1</td>\n",
       "      <td>0</td>\n",
       "      <td>0</td>\n",
       "      <td>0</td>\n",
       "      <td>0</td>\n",
       "      <td>0</td>\n",
       "      <td>0</td>\n",
       "      <td>0</td>\n",
       "      <td>0</td>\n",
       "      <td>0</td>\n",
       "      <td>0</td>\n",
       "      <td>0</td>\n",
       "      <td>0</td>\n",
       "      <td>0</td>\n",
       "      <td>0</td>\n",
       "      <td>0</td>\n",
       "      <td>0</td>\n",
       "      <td>0</td>\n",
       "      <td>0</td>\n",
       "      <td>0</td>\n",
       "      <td>0</td>\n",
       "      <td>0</td>\n",
       "      <td>0</td>\n",
       "      <td>0</td>\n",
       "      <td>0</td>\n",
       "      <td>0</td>\n",
       "      <td>0</td>\n",
       "      <td>0</td>\n",
       "      <td>0</td>\n",
       "      <td>0</td>\n",
       "      <td>0</td>\n",
       "      <td>0</td>\n",
       "      <td>0</td>\n",
       "      <td>0</td>\n",
       "      <td>0</td>\n",
       "      <td>0</td>\n",
       "      <td>0</td>\n",
       "      <td>0</td>\n",
       "      <td>0</td>\n",
       "      <td>0</td>\n",
       "      <td>0</td>\n",
       "      <td>0</td>\n",
       "      <td>0</td>\n",
       "      <td>0</td>\n",
       "      <td>0</td>\n",
       "      <td>0</td>\n",
       "      <td>0</td>\n",
       "      <td>0</td>\n",
       "      <td>1</td>\n",
       "      <td>0</td>\n",
       "      <td>0</td>\n",
       "      <td>0</td>\n",
       "      <td>1</td>\n",
       "      <td>0</td>\n",
       "      <td>0</td>\n",
       "      <td>0</td>\n",
       "      <td>0</td>\n",
       "    </tr>\n",
       "    <tr>\n",
       "      <th>1</th>\n",
       "      <td>Agincourt South-Malvern West</td>\n",
       "      <td>0</td>\n",
       "      <td>0</td>\n",
       "      <td>0</td>\n",
       "      <td>0</td>\n",
       "      <td>0</td>\n",
       "      <td>0</td>\n",
       "      <td>0</td>\n",
       "      <td>0</td>\n",
       "      <td>0</td>\n",
       "      <td>0</td>\n",
       "      <td>0</td>\n",
       "      <td>1</td>\n",
       "      <td>0</td>\n",
       "      <td>0</td>\n",
       "      <td>0</td>\n",
       "      <td>0</td>\n",
       "      <td>0</td>\n",
       "      <td>1</td>\n",
       "      <td>0</td>\n",
       "      <td>0</td>\n",
       "      <td>1</td>\n",
       "      <td>1</td>\n",
       "      <td>0</td>\n",
       "      <td>0</td>\n",
       "      <td>0</td>\n",
       "      <td>0</td>\n",
       "      <td>0</td>\n",
       "      <td>0</td>\n",
       "      <td>0</td>\n",
       "      <td>0</td>\n",
       "      <td>0</td>\n",
       "      <td>0</td>\n",
       "      <td>0</td>\n",
       "      <td>0</td>\n",
       "      <td>0</td>\n",
       "      <td>0</td>\n",
       "      <td>0</td>\n",
       "      <td>0</td>\n",
       "      <td>0</td>\n",
       "      <td>0</td>\n",
       "      <td>0</td>\n",
       "      <td>0</td>\n",
       "      <td>0</td>\n",
       "      <td>0</td>\n",
       "      <td>0</td>\n",
       "      <td>0</td>\n",
       "      <td>0</td>\n",
       "      <td>0</td>\n",
       "      <td>0</td>\n",
       "      <td>0</td>\n",
       "      <td>0</td>\n",
       "      <td>0</td>\n",
       "      <td>0</td>\n",
       "      <td>0</td>\n",
       "      <td>1</td>\n",
       "      <td>0</td>\n",
       "      <td>0</td>\n",
       "      <td>0</td>\n",
       "      <td>6</td>\n",
       "      <td>0</td>\n",
       "      <td>0</td>\n",
       "      <td>0</td>\n",
       "      <td>0</td>\n",
       "      <td>0</td>\n",
       "      <td>0</td>\n",
       "      <td>0</td>\n",
       "      <td>0</td>\n",
       "      <td>0</td>\n",
       "      <td>0</td>\n",
       "      <td>0</td>\n",
       "      <td>0</td>\n",
       "      <td>0</td>\n",
       "      <td>0</td>\n",
       "      <td>0</td>\n",
       "      <td>0</td>\n",
       "      <td>0</td>\n",
       "      <td>0</td>\n",
       "      <td>0</td>\n",
       "      <td>0</td>\n",
       "      <td>0</td>\n",
       "      <td>0</td>\n",
       "      <td>0</td>\n",
       "      <td>0</td>\n",
       "      <td>0</td>\n",
       "      <td>1</td>\n",
       "      <td>0</td>\n",
       "      <td>0</td>\n",
       "      <td>0</td>\n",
       "      <td>0</td>\n",
       "      <td>0</td>\n",
       "      <td>0</td>\n",
       "      <td>0</td>\n",
       "      <td>0</td>\n",
       "      <td>0</td>\n",
       "      <td>0</td>\n",
       "      <td>0</td>\n",
       "      <td>0</td>\n",
       "      <td>0</td>\n",
       "      <td>0</td>\n",
       "      <td>0</td>\n",
       "      <td>0</td>\n",
       "      <td>0</td>\n",
       "      <td>0</td>\n",
       "      <td>1</td>\n",
       "      <td>0</td>\n",
       "      <td>0</td>\n",
       "      <td>0</td>\n",
       "      <td>0</td>\n",
       "      <td>0</td>\n",
       "      <td>0</td>\n",
       "      <td>0</td>\n",
       "      <td>0</td>\n",
       "      <td>0</td>\n",
       "      <td>0</td>\n",
       "      <td>0</td>\n",
       "      <td>0</td>\n",
       "      <td>0</td>\n",
       "      <td>0</td>\n",
       "      <td>0</td>\n",
       "      <td>0</td>\n",
       "      <td>0</td>\n",
       "      <td>0</td>\n",
       "      <td>0</td>\n",
       "      <td>0</td>\n",
       "      <td>0</td>\n",
       "      <td>0</td>\n",
       "      <td>0</td>\n",
       "      <td>0</td>\n",
       "      <td>0</td>\n",
       "      <td>0</td>\n",
       "      <td>0</td>\n",
       "      <td>0</td>\n",
       "      <td>0</td>\n",
       "      <td>0</td>\n",
       "      <td>0</td>\n",
       "      <td>0</td>\n",
       "      <td>0</td>\n",
       "      <td>0</td>\n",
       "      <td>0</td>\n",
       "      <td>0</td>\n",
       "      <td>0</td>\n",
       "      <td>0</td>\n",
       "      <td>0</td>\n",
       "      <td>0</td>\n",
       "      <td>0</td>\n",
       "      <td>0</td>\n",
       "      <td>0</td>\n",
       "      <td>0</td>\n",
       "      <td>0</td>\n",
       "      <td>0</td>\n",
       "      <td>0</td>\n",
       "      <td>0</td>\n",
       "      <td>0</td>\n",
       "      <td>0</td>\n",
       "      <td>0</td>\n",
       "      <td>0</td>\n",
       "      <td>0</td>\n",
       "      <td>0</td>\n",
       "      <td>0</td>\n",
       "      <td>0</td>\n",
       "      <td>0</td>\n",
       "      <td>0</td>\n",
       "      <td>0</td>\n",
       "      <td>0</td>\n",
       "      <td>0</td>\n",
       "      <td>0</td>\n",
       "      <td>0</td>\n",
       "      <td>0</td>\n",
       "      <td>0</td>\n",
       "      <td>0</td>\n",
       "      <td>0</td>\n",
       "      <td>0</td>\n",
       "      <td>0</td>\n",
       "      <td>0</td>\n",
       "      <td>0</td>\n",
       "      <td>1</td>\n",
       "      <td>0</td>\n",
       "      <td>0</td>\n",
       "      <td>0</td>\n",
       "      <td>1</td>\n",
       "      <td>0</td>\n",
       "      <td>0</td>\n",
       "      <td>0</td>\n",
       "      <td>0</td>\n",
       "      <td>0</td>\n",
       "      <td>0</td>\n",
       "      <td>0</td>\n",
       "      <td>1</td>\n",
       "      <td>0</td>\n",
       "      <td>0</td>\n",
       "      <td>0</td>\n",
       "      <td>0</td>\n",
       "      <td>0</td>\n",
       "      <td>0</td>\n",
       "      <td>0</td>\n",
       "      <td>0</td>\n",
       "      <td>1</td>\n",
       "      <td>0</td>\n",
       "      <td>0</td>\n",
       "      <td>0</td>\n",
       "      <td>0</td>\n",
       "      <td>0</td>\n",
       "      <td>0</td>\n",
       "      <td>0</td>\n",
       "      <td>0</td>\n",
       "      <td>0</td>\n",
       "      <td>0</td>\n",
       "      <td>0</td>\n",
       "      <td>0</td>\n",
       "      <td>0</td>\n",
       "      <td>0</td>\n",
       "      <td>0</td>\n",
       "      <td>0</td>\n",
       "      <td>0</td>\n",
       "      <td>0</td>\n",
       "      <td>0</td>\n",
       "      <td>0</td>\n",
       "      <td>0</td>\n",
       "      <td>1</td>\n",
       "      <td>0</td>\n",
       "      <td>0</td>\n",
       "      <td>0</td>\n",
       "      <td>0</td>\n",
       "      <td>0</td>\n",
       "      <td>0</td>\n",
       "      <td>0</td>\n",
       "      <td>0</td>\n",
       "      <td>1</td>\n",
       "      <td>0</td>\n",
       "      <td>0</td>\n",
       "      <td>0</td>\n",
       "      <td>0</td>\n",
       "      <td>0</td>\n",
       "      <td>0</td>\n",
       "      <td>0</td>\n",
       "      <td>0</td>\n",
       "      <td>0</td>\n",
       "      <td>0</td>\n",
       "      <td>1</td>\n",
       "      <td>0</td>\n",
       "      <td>0</td>\n",
       "      <td>2</td>\n",
       "      <td>0</td>\n",
       "      <td>0</td>\n",
       "      <td>0</td>\n",
       "      <td>0</td>\n",
       "      <td>0</td>\n",
       "      <td>0</td>\n",
       "      <td>0</td>\n",
       "      <td>0</td>\n",
       "      <td>0</td>\n",
       "      <td>0</td>\n",
       "      <td>0</td>\n",
       "      <td>0</td>\n",
       "      <td>0</td>\n",
       "      <td>0</td>\n",
       "      <td>0</td>\n",
       "      <td>0</td>\n",
       "      <td>0</td>\n",
       "      <td>0</td>\n",
       "      <td>0</td>\n",
       "      <td>0</td>\n",
       "      <td>0</td>\n",
       "      <td>0</td>\n",
       "      <td>0</td>\n",
       "      <td>0</td>\n",
       "      <td>0</td>\n",
       "      <td>0</td>\n",
       "      <td>0</td>\n",
       "      <td>0</td>\n",
       "      <td>0</td>\n",
       "      <td>0</td>\n",
       "      <td>0</td>\n",
       "      <td>0</td>\n",
       "      <td>0</td>\n",
       "      <td>0</td>\n",
       "      <td>0</td>\n",
       "      <td>0</td>\n",
       "      <td>0</td>\n",
       "      <td>0</td>\n",
       "      <td>0</td>\n",
       "      <td>0</td>\n",
       "      <td>0</td>\n",
       "      <td>0</td>\n",
       "      <td>0</td>\n",
       "      <td>0</td>\n",
       "      <td>0</td>\n",
       "      <td>0</td>\n",
       "      <td>0</td>\n",
       "      <td>0</td>\n",
       "      <td>0</td>\n",
       "    </tr>\n",
       "    <tr>\n",
       "      <th>2</th>\n",
       "      <td>Alderwood</td>\n",
       "      <td>0</td>\n",
       "      <td>0</td>\n",
       "      <td>0</td>\n",
       "      <td>0</td>\n",
       "      <td>0</td>\n",
       "      <td>0</td>\n",
       "      <td>0</td>\n",
       "      <td>0</td>\n",
       "      <td>0</td>\n",
       "      <td>0</td>\n",
       "      <td>0</td>\n",
       "      <td>0</td>\n",
       "      <td>0</td>\n",
       "      <td>0</td>\n",
       "      <td>0</td>\n",
       "      <td>0</td>\n",
       "      <td>0</td>\n",
       "      <td>0</td>\n",
       "      <td>0</td>\n",
       "      <td>0</td>\n",
       "      <td>0</td>\n",
       "      <td>0</td>\n",
       "      <td>0</td>\n",
       "      <td>0</td>\n",
       "      <td>0</td>\n",
       "      <td>0</td>\n",
       "      <td>0</td>\n",
       "      <td>0</td>\n",
       "      <td>0</td>\n",
       "      <td>0</td>\n",
       "      <td>0</td>\n",
       "      <td>0</td>\n",
       "      <td>0</td>\n",
       "      <td>0</td>\n",
       "      <td>0</td>\n",
       "      <td>0</td>\n",
       "      <td>0</td>\n",
       "      <td>0</td>\n",
       "      <td>0</td>\n",
       "      <td>0</td>\n",
       "      <td>0</td>\n",
       "      <td>0</td>\n",
       "      <td>0</td>\n",
       "      <td>0</td>\n",
       "      <td>0</td>\n",
       "      <td>0</td>\n",
       "      <td>0</td>\n",
       "      <td>0</td>\n",
       "      <td>0</td>\n",
       "      <td>0</td>\n",
       "      <td>0</td>\n",
       "      <td>0</td>\n",
       "      <td>0</td>\n",
       "      <td>0</td>\n",
       "      <td>0</td>\n",
       "      <td>0</td>\n",
       "      <td>0</td>\n",
       "      <td>0</td>\n",
       "      <td>0</td>\n",
       "      <td>0</td>\n",
       "      <td>0</td>\n",
       "      <td>0</td>\n",
       "      <td>0</td>\n",
       "      <td>0</td>\n",
       "      <td>1</td>\n",
       "      <td>0</td>\n",
       "      <td>0</td>\n",
       "      <td>0</td>\n",
       "      <td>0</td>\n",
       "      <td>0</td>\n",
       "      <td>0</td>\n",
       "      <td>0</td>\n",
       "      <td>0</td>\n",
       "      <td>0</td>\n",
       "      <td>1</td>\n",
       "      <td>0</td>\n",
       "      <td>0</td>\n",
       "      <td>0</td>\n",
       "      <td>0</td>\n",
       "      <td>0</td>\n",
       "      <td>0</td>\n",
       "      <td>0</td>\n",
       "      <td>0</td>\n",
       "      <td>0</td>\n",
       "      <td>0</td>\n",
       "      <td>0</td>\n",
       "      <td>0</td>\n",
       "      <td>0</td>\n",
       "      <td>0</td>\n",
       "      <td>0</td>\n",
       "      <td>0</td>\n",
       "      <td>0</td>\n",
       "      <td>0</td>\n",
       "      <td>0</td>\n",
       "      <td>0</td>\n",
       "      <td>0</td>\n",
       "      <td>0</td>\n",
       "      <td>0</td>\n",
       "      <td>0</td>\n",
       "      <td>0</td>\n",
       "      <td>0</td>\n",
       "      <td>0</td>\n",
       "      <td>0</td>\n",
       "      <td>0</td>\n",
       "      <td>0</td>\n",
       "      <td>0</td>\n",
       "      <td>0</td>\n",
       "      <td>0</td>\n",
       "      <td>0</td>\n",
       "      <td>0</td>\n",
       "      <td>0</td>\n",
       "      <td>0</td>\n",
       "      <td>0</td>\n",
       "      <td>0</td>\n",
       "      <td>0</td>\n",
       "      <td>0</td>\n",
       "      <td>0</td>\n",
       "      <td>0</td>\n",
       "      <td>0</td>\n",
       "      <td>0</td>\n",
       "      <td>0</td>\n",
       "      <td>0</td>\n",
       "      <td>0</td>\n",
       "      <td>0</td>\n",
       "      <td>0</td>\n",
       "      <td>0</td>\n",
       "      <td>0</td>\n",
       "      <td>0</td>\n",
       "      <td>0</td>\n",
       "      <td>0</td>\n",
       "      <td>0</td>\n",
       "      <td>0</td>\n",
       "      <td>0</td>\n",
       "      <td>0</td>\n",
       "      <td>0</td>\n",
       "      <td>0</td>\n",
       "      <td>0</td>\n",
       "      <td>0</td>\n",
       "      <td>0</td>\n",
       "      <td>0</td>\n",
       "      <td>0</td>\n",
       "      <td>0</td>\n",
       "      <td>0</td>\n",
       "      <td>0</td>\n",
       "      <td>0</td>\n",
       "      <td>0</td>\n",
       "      <td>0</td>\n",
       "      <td>0</td>\n",
       "      <td>0</td>\n",
       "      <td>0</td>\n",
       "      <td>0</td>\n",
       "      <td>0</td>\n",
       "      <td>0</td>\n",
       "      <td>0</td>\n",
       "      <td>0</td>\n",
       "      <td>0</td>\n",
       "      <td>0</td>\n",
       "      <td>0</td>\n",
       "      <td>0</td>\n",
       "      <td>0</td>\n",
       "      <td>0</td>\n",
       "      <td>0</td>\n",
       "      <td>0</td>\n",
       "      <td>0</td>\n",
       "      <td>0</td>\n",
       "      <td>0</td>\n",
       "      <td>0</td>\n",
       "      <td>0</td>\n",
       "      <td>0</td>\n",
       "      <td>0</td>\n",
       "      <td>0</td>\n",
       "      <td>0</td>\n",
       "      <td>0</td>\n",
       "      <td>0</td>\n",
       "      <td>0</td>\n",
       "      <td>0</td>\n",
       "      <td>0</td>\n",
       "      <td>0</td>\n",
       "      <td>0</td>\n",
       "      <td>0</td>\n",
       "      <td>0</td>\n",
       "      <td>0</td>\n",
       "      <td>0</td>\n",
       "      <td>0</td>\n",
       "      <td>0</td>\n",
       "      <td>0</td>\n",
       "      <td>0</td>\n",
       "      <td>0</td>\n",
       "      <td>0</td>\n",
       "      <td>0</td>\n",
       "      <td>0</td>\n",
       "      <td>0</td>\n",
       "      <td>0</td>\n",
       "      <td>0</td>\n",
       "      <td>0</td>\n",
       "      <td>0</td>\n",
       "      <td>0</td>\n",
       "      <td>0</td>\n",
       "      <td>0</td>\n",
       "      <td>0</td>\n",
       "      <td>0</td>\n",
       "      <td>0</td>\n",
       "      <td>0</td>\n",
       "      <td>0</td>\n",
       "      <td>0</td>\n",
       "      <td>0</td>\n",
       "      <td>0</td>\n",
       "      <td>0</td>\n",
       "      <td>1</td>\n",
       "      <td>0</td>\n",
       "      <td>0</td>\n",
       "      <td>0</td>\n",
       "      <td>2</td>\n",
       "      <td>0</td>\n",
       "      <td>0</td>\n",
       "      <td>0</td>\n",
       "      <td>0</td>\n",
       "      <td>0</td>\n",
       "      <td>0</td>\n",
       "      <td>0</td>\n",
       "      <td>0</td>\n",
       "      <td>0</td>\n",
       "      <td>0</td>\n",
       "      <td>0</td>\n",
       "      <td>0</td>\n",
       "      <td>0</td>\n",
       "      <td>0</td>\n",
       "      <td>0</td>\n",
       "      <td>0</td>\n",
       "      <td>0</td>\n",
       "      <td>0</td>\n",
       "      <td>0</td>\n",
       "      <td>0</td>\n",
       "      <td>0</td>\n",
       "      <td>0</td>\n",
       "      <td>0</td>\n",
       "      <td>0</td>\n",
       "      <td>0</td>\n",
       "      <td>0</td>\n",
       "      <td>0</td>\n",
       "      <td>0</td>\n",
       "      <td>0</td>\n",
       "      <td>0</td>\n",
       "      <td>0</td>\n",
       "      <td>0</td>\n",
       "      <td>0</td>\n",
       "      <td>0</td>\n",
       "      <td>0</td>\n",
       "      <td>0</td>\n",
       "      <td>0</td>\n",
       "      <td>0</td>\n",
       "      <td>0</td>\n",
       "      <td>0</td>\n",
       "      <td>0</td>\n",
       "      <td>0</td>\n",
       "      <td>0</td>\n",
       "      <td>0</td>\n",
       "      <td>0</td>\n",
       "      <td>0</td>\n",
       "      <td>0</td>\n",
       "      <td>0</td>\n",
       "      <td>0</td>\n",
       "      <td>0</td>\n",
       "      <td>0</td>\n",
       "      <td>0</td>\n",
       "      <td>0</td>\n",
       "      <td>0</td>\n",
       "      <td>0</td>\n",
       "      <td>0</td>\n",
       "      <td>0</td>\n",
       "      <td>0</td>\n",
       "      <td>0</td>\n",
       "      <td>0</td>\n",
       "      <td>0</td>\n",
       "      <td>0</td>\n",
       "      <td>0</td>\n",
       "      <td>0</td>\n",
       "      <td>0</td>\n",
       "      <td>0</td>\n",
       "      <td>0</td>\n",
       "      <td>0</td>\n",
       "      <td>0</td>\n",
       "      <td>0</td>\n",
       "      <td>0</td>\n",
       "      <td>0</td>\n",
       "      <td>0</td>\n",
       "      <td>0</td>\n",
       "      <td>0</td>\n",
       "      <td>0</td>\n",
       "      <td>0</td>\n",
       "      <td>0</td>\n",
       "    </tr>\n",
       "    <tr>\n",
       "      <th>3</th>\n",
       "      <td>Annex</td>\n",
       "      <td>0</td>\n",
       "      <td>0</td>\n",
       "      <td>0</td>\n",
       "      <td>0</td>\n",
       "      <td>0</td>\n",
       "      <td>0</td>\n",
       "      <td>0</td>\n",
       "      <td>0</td>\n",
       "      <td>0</td>\n",
       "      <td>0</td>\n",
       "      <td>0</td>\n",
       "      <td>0</td>\n",
       "      <td>0</td>\n",
       "      <td>0</td>\n",
       "      <td>0</td>\n",
       "      <td>0</td>\n",
       "      <td>0</td>\n",
       "      <td>1</td>\n",
       "      <td>0</td>\n",
       "      <td>0</td>\n",
       "      <td>0</td>\n",
       "      <td>0</td>\n",
       "      <td>0</td>\n",
       "      <td>0</td>\n",
       "      <td>0</td>\n",
       "      <td>0</td>\n",
       "      <td>0</td>\n",
       "      <td>0</td>\n",
       "      <td>0</td>\n",
       "      <td>0</td>\n",
       "      <td>0</td>\n",
       "      <td>0</td>\n",
       "      <td>0</td>\n",
       "      <td>0</td>\n",
       "      <td>0</td>\n",
       "      <td>0</td>\n",
       "      <td>0</td>\n",
       "      <td>0</td>\n",
       "      <td>0</td>\n",
       "      <td>0</td>\n",
       "      <td>0</td>\n",
       "      <td>0</td>\n",
       "      <td>1</td>\n",
       "      <td>0</td>\n",
       "      <td>0</td>\n",
       "      <td>0</td>\n",
       "      <td>0</td>\n",
       "      <td>0</td>\n",
       "      <td>0</td>\n",
       "      <td>2</td>\n",
       "      <td>0</td>\n",
       "      <td>0</td>\n",
       "      <td>0</td>\n",
       "      <td>0</td>\n",
       "      <td>0</td>\n",
       "      <td>0</td>\n",
       "      <td>0</td>\n",
       "      <td>1</td>\n",
       "      <td>0</td>\n",
       "      <td>0</td>\n",
       "      <td>0</td>\n",
       "      <td>0</td>\n",
       "      <td>0</td>\n",
       "      <td>0</td>\n",
       "      <td>1</td>\n",
       "      <td>0</td>\n",
       "      <td>0</td>\n",
       "      <td>0</td>\n",
       "      <td>0</td>\n",
       "      <td>0</td>\n",
       "      <td>0</td>\n",
       "      <td>0</td>\n",
       "      <td>0</td>\n",
       "      <td>0</td>\n",
       "      <td>0</td>\n",
       "      <td>0</td>\n",
       "      <td>0</td>\n",
       "      <td>0</td>\n",
       "      <td>0</td>\n",
       "      <td>0</td>\n",
       "      <td>0</td>\n",
       "      <td>0</td>\n",
       "      <td>0</td>\n",
       "      <td>0</td>\n",
       "      <td>0</td>\n",
       "      <td>0</td>\n",
       "      <td>0</td>\n",
       "      <td>0</td>\n",
       "      <td>0</td>\n",
       "      <td>0</td>\n",
       "      <td>1</td>\n",
       "      <td>0</td>\n",
       "      <td>0</td>\n",
       "      <td>0</td>\n",
       "      <td>0</td>\n",
       "      <td>0</td>\n",
       "      <td>0</td>\n",
       "      <td>0</td>\n",
       "      <td>0</td>\n",
       "      <td>0</td>\n",
       "      <td>0</td>\n",
       "      <td>0</td>\n",
       "      <td>0</td>\n",
       "      <td>0</td>\n",
       "      <td>0</td>\n",
       "      <td>0</td>\n",
       "      <td>0</td>\n",
       "      <td>0</td>\n",
       "      <td>0</td>\n",
       "      <td>0</td>\n",
       "      <td>0</td>\n",
       "      <td>0</td>\n",
       "      <td>1</td>\n",
       "      <td>0</td>\n",
       "      <td>0</td>\n",
       "      <td>0</td>\n",
       "      <td>0</td>\n",
       "      <td>0</td>\n",
       "      <td>0</td>\n",
       "      <td>0</td>\n",
       "      <td>0</td>\n",
       "      <td>0</td>\n",
       "      <td>0</td>\n",
       "      <td>0</td>\n",
       "      <td>0</td>\n",
       "      <td>0</td>\n",
       "      <td>0</td>\n",
       "      <td>0</td>\n",
       "      <td>0</td>\n",
       "      <td>0</td>\n",
       "      <td>0</td>\n",
       "      <td>0</td>\n",
       "      <td>0</td>\n",
       "      <td>0</td>\n",
       "      <td>0</td>\n",
       "      <td>0</td>\n",
       "      <td>0</td>\n",
       "      <td>0</td>\n",
       "      <td>0</td>\n",
       "      <td>0</td>\n",
       "      <td>0</td>\n",
       "      <td>0</td>\n",
       "      <td>0</td>\n",
       "      <td>0</td>\n",
       "      <td>0</td>\n",
       "      <td>0</td>\n",
       "      <td>0</td>\n",
       "      <td>0</td>\n",
       "      <td>0</td>\n",
       "      <td>0</td>\n",
       "      <td>0</td>\n",
       "      <td>0</td>\n",
       "      <td>0</td>\n",
       "      <td>0</td>\n",
       "      <td>1</td>\n",
       "      <td>0</td>\n",
       "      <td>0</td>\n",
       "      <td>0</td>\n",
       "      <td>0</td>\n",
       "      <td>0</td>\n",
       "      <td>0</td>\n",
       "      <td>0</td>\n",
       "      <td>0</td>\n",
       "      <td>0</td>\n",
       "      <td>0</td>\n",
       "      <td>0</td>\n",
       "      <td>0</td>\n",
       "      <td>0</td>\n",
       "      <td>0</td>\n",
       "      <td>0</td>\n",
       "      <td>0</td>\n",
       "      <td>0</td>\n",
       "      <td>1</td>\n",
       "      <td>0</td>\n",
       "      <td>0</td>\n",
       "      <td>0</td>\n",
       "      <td>0</td>\n",
       "      <td>0</td>\n",
       "      <td>0</td>\n",
       "      <td>0</td>\n",
       "      <td>0</td>\n",
       "      <td>0</td>\n",
       "      <td>0</td>\n",
       "      <td>1</td>\n",
       "      <td>0</td>\n",
       "      <td>0</td>\n",
       "      <td>0</td>\n",
       "      <td>0</td>\n",
       "      <td>0</td>\n",
       "      <td>0</td>\n",
       "      <td>0</td>\n",
       "      <td>0</td>\n",
       "      <td>0</td>\n",
       "      <td>0</td>\n",
       "      <td>0</td>\n",
       "      <td>0</td>\n",
       "      <td>0</td>\n",
       "      <td>0</td>\n",
       "      <td>0</td>\n",
       "      <td>0</td>\n",
       "      <td>0</td>\n",
       "      <td>0</td>\n",
       "      <td>0</td>\n",
       "      <td>2</td>\n",
       "      <td>0</td>\n",
       "      <td>0</td>\n",
       "      <td>0</td>\n",
       "      <td>1</td>\n",
       "      <td>1</td>\n",
       "      <td>0</td>\n",
       "      <td>0</td>\n",
       "      <td>0</td>\n",
       "      <td>1</td>\n",
       "      <td>0</td>\n",
       "      <td>0</td>\n",
       "      <td>0</td>\n",
       "      <td>0</td>\n",
       "      <td>0</td>\n",
       "      <td>0</td>\n",
       "      <td>0</td>\n",
       "      <td>0</td>\n",
       "      <td>2</td>\n",
       "      <td>0</td>\n",
       "      <td>0</td>\n",
       "      <td>0</td>\n",
       "      <td>0</td>\n",
       "      <td>0</td>\n",
       "      <td>0</td>\n",
       "      <td>0</td>\n",
       "      <td>0</td>\n",
       "      <td>0</td>\n",
       "      <td>0</td>\n",
       "      <td>0</td>\n",
       "      <td>0</td>\n",
       "      <td>2</td>\n",
       "      <td>0</td>\n",
       "      <td>0</td>\n",
       "      <td>0</td>\n",
       "      <td>0</td>\n",
       "      <td>1</td>\n",
       "      <td>0</td>\n",
       "      <td>0</td>\n",
       "      <td>0</td>\n",
       "      <td>0</td>\n",
       "      <td>0</td>\n",
       "      <td>0</td>\n",
       "      <td>0</td>\n",
       "      <td>1</td>\n",
       "      <td>0</td>\n",
       "      <td>0</td>\n",
       "      <td>0</td>\n",
       "      <td>0</td>\n",
       "      <td>0</td>\n",
       "      <td>0</td>\n",
       "      <td>0</td>\n",
       "      <td>0</td>\n",
       "      <td>0</td>\n",
       "      <td>0</td>\n",
       "      <td>0</td>\n",
       "      <td>0</td>\n",
       "      <td>0</td>\n",
       "      <td>0</td>\n",
       "      <td>0</td>\n",
       "      <td>0</td>\n",
       "      <td>0</td>\n",
       "      <td>0</td>\n",
       "      <td>0</td>\n",
       "      <td>0</td>\n",
       "      <td>0</td>\n",
       "      <td>0</td>\n",
       "      <td>0</td>\n",
       "      <td>0</td>\n",
       "      <td>0</td>\n",
       "      <td>0</td>\n",
       "      <td>0</td>\n",
       "      <td>0</td>\n",
       "      <td>0</td>\n",
       "      <td>0</td>\n",
       "      <td>0</td>\n",
       "      <td>0</td>\n",
       "      <td>0</td>\n",
       "      <td>0</td>\n",
       "      <td>0</td>\n",
       "      <td>0</td>\n",
       "      <td>0</td>\n",
       "      <td>0</td>\n",
       "      <td>0</td>\n",
       "      <td>0</td>\n",
       "      <td>0</td>\n",
       "      <td>0</td>\n",
       "      <td>0</td>\n",
       "    </tr>\n",
       "    <tr>\n",
       "      <th>4</th>\n",
       "      <td>Banbury-Don Mills</td>\n",
       "      <td>0</td>\n",
       "      <td>0</td>\n",
       "      <td>0</td>\n",
       "      <td>0</td>\n",
       "      <td>0</td>\n",
       "      <td>0</td>\n",
       "      <td>0</td>\n",
       "      <td>0</td>\n",
       "      <td>0</td>\n",
       "      <td>0</td>\n",
       "      <td>0</td>\n",
       "      <td>0</td>\n",
       "      <td>0</td>\n",
       "      <td>0</td>\n",
       "      <td>0</td>\n",
       "      <td>0</td>\n",
       "      <td>0</td>\n",
       "      <td>0</td>\n",
       "      <td>0</td>\n",
       "      <td>0</td>\n",
       "      <td>1</td>\n",
       "      <td>0</td>\n",
       "      <td>0</td>\n",
       "      <td>0</td>\n",
       "      <td>0</td>\n",
       "      <td>0</td>\n",
       "      <td>0</td>\n",
       "      <td>0</td>\n",
       "      <td>0</td>\n",
       "      <td>0</td>\n",
       "      <td>0</td>\n",
       "      <td>0</td>\n",
       "      <td>0</td>\n",
       "      <td>1</td>\n",
       "      <td>0</td>\n",
       "      <td>0</td>\n",
       "      <td>0</td>\n",
       "      <td>0</td>\n",
       "      <td>0</td>\n",
       "      <td>0</td>\n",
       "      <td>0</td>\n",
       "      <td>0</td>\n",
       "      <td>0</td>\n",
       "      <td>0</td>\n",
       "      <td>0</td>\n",
       "      <td>0</td>\n",
       "      <td>0</td>\n",
       "      <td>0</td>\n",
       "      <td>0</td>\n",
       "      <td>0</td>\n",
       "      <td>0</td>\n",
       "      <td>0</td>\n",
       "      <td>0</td>\n",
       "      <td>0</td>\n",
       "      <td>1</td>\n",
       "      <td>0</td>\n",
       "      <td>0</td>\n",
       "      <td>0</td>\n",
       "      <td>0</td>\n",
       "      <td>0</td>\n",
       "      <td>1</td>\n",
       "      <td>0</td>\n",
       "      <td>1</td>\n",
       "      <td>0</td>\n",
       "      <td>2</td>\n",
       "      <td>0</td>\n",
       "      <td>0</td>\n",
       "      <td>0</td>\n",
       "      <td>0</td>\n",
       "      <td>0</td>\n",
       "      <td>0</td>\n",
       "      <td>0</td>\n",
       "      <td>0</td>\n",
       "      <td>0</td>\n",
       "      <td>0</td>\n",
       "      <td>0</td>\n",
       "      <td>0</td>\n",
       "      <td>0</td>\n",
       "      <td>0</td>\n",
       "      <td>0</td>\n",
       "      <td>0</td>\n",
       "      <td>0</td>\n",
       "      <td>0</td>\n",
       "      <td>0</td>\n",
       "      <td>0</td>\n",
       "      <td>0</td>\n",
       "      <td>0</td>\n",
       "      <td>0</td>\n",
       "      <td>0</td>\n",
       "      <td>0</td>\n",
       "      <td>0</td>\n",
       "      <td>0</td>\n",
       "      <td>0</td>\n",
       "      <td>0</td>\n",
       "      <td>0</td>\n",
       "      <td>0</td>\n",
       "      <td>0</td>\n",
       "      <td>0</td>\n",
       "      <td>0</td>\n",
       "      <td>0</td>\n",
       "      <td>0</td>\n",
       "      <td>0</td>\n",
       "      <td>0</td>\n",
       "      <td>0</td>\n",
       "      <td>0</td>\n",
       "      <td>0</td>\n",
       "      <td>0</td>\n",
       "      <td>0</td>\n",
       "      <td>0</td>\n",
       "      <td>0</td>\n",
       "      <td>0</td>\n",
       "      <td>0</td>\n",
       "      <td>0</td>\n",
       "      <td>0</td>\n",
       "      <td>0</td>\n",
       "      <td>0</td>\n",
       "      <td>0</td>\n",
       "      <td>0</td>\n",
       "      <td>0</td>\n",
       "      <td>0</td>\n",
       "      <td>0</td>\n",
       "      <td>0</td>\n",
       "      <td>0</td>\n",
       "      <td>0</td>\n",
       "      <td>0</td>\n",
       "      <td>0</td>\n",
       "      <td>0</td>\n",
       "      <td>0</td>\n",
       "      <td>2</td>\n",
       "      <td>0</td>\n",
       "      <td>0</td>\n",
       "      <td>0</td>\n",
       "      <td>0</td>\n",
       "      <td>0</td>\n",
       "      <td>0</td>\n",
       "      <td>0</td>\n",
       "      <td>0</td>\n",
       "      <td>0</td>\n",
       "      <td>0</td>\n",
       "      <td>1</td>\n",
       "      <td>0</td>\n",
       "      <td>0</td>\n",
       "      <td>0</td>\n",
       "      <td>0</td>\n",
       "      <td>0</td>\n",
       "      <td>0</td>\n",
       "      <td>0</td>\n",
       "      <td>0</td>\n",
       "      <td>0</td>\n",
       "      <td>0</td>\n",
       "      <td>0</td>\n",
       "      <td>0</td>\n",
       "      <td>0</td>\n",
       "      <td>0</td>\n",
       "      <td>0</td>\n",
       "      <td>0</td>\n",
       "      <td>0</td>\n",
       "      <td>0</td>\n",
       "      <td>1</td>\n",
       "      <td>1</td>\n",
       "      <td>0</td>\n",
       "      <td>0</td>\n",
       "      <td>0</td>\n",
       "      <td>0</td>\n",
       "      <td>0</td>\n",
       "      <td>0</td>\n",
       "      <td>0</td>\n",
       "      <td>0</td>\n",
       "      <td>0</td>\n",
       "      <td>0</td>\n",
       "      <td>0</td>\n",
       "      <td>0</td>\n",
       "      <td>1</td>\n",
       "      <td>0</td>\n",
       "      <td>0</td>\n",
       "      <td>0</td>\n",
       "      <td>0</td>\n",
       "      <td>0</td>\n",
       "      <td>0</td>\n",
       "      <td>0</td>\n",
       "      <td>0</td>\n",
       "      <td>0</td>\n",
       "      <td>0</td>\n",
       "      <td>0</td>\n",
       "      <td>0</td>\n",
       "      <td>0</td>\n",
       "      <td>0</td>\n",
       "      <td>0</td>\n",
       "      <td>1</td>\n",
       "      <td>0</td>\n",
       "      <td>0</td>\n",
       "      <td>0</td>\n",
       "      <td>0</td>\n",
       "      <td>0</td>\n",
       "      <td>0</td>\n",
       "      <td>0</td>\n",
       "      <td>0</td>\n",
       "      <td>0</td>\n",
       "      <td>0</td>\n",
       "      <td>0</td>\n",
       "      <td>0</td>\n",
       "      <td>0</td>\n",
       "      <td>0</td>\n",
       "      <td>0</td>\n",
       "      <td>0</td>\n",
       "      <td>0</td>\n",
       "      <td>0</td>\n",
       "      <td>1</td>\n",
       "      <td>1</td>\n",
       "      <td>0</td>\n",
       "      <td>0</td>\n",
       "      <td>0</td>\n",
       "      <td>2</td>\n",
       "      <td>0</td>\n",
       "      <td>0</td>\n",
       "      <td>0</td>\n",
       "      <td>0</td>\n",
       "      <td>0</td>\n",
       "      <td>0</td>\n",
       "      <td>0</td>\n",
       "      <td>0</td>\n",
       "      <td>0</td>\n",
       "      <td>0</td>\n",
       "      <td>0</td>\n",
       "      <td>0</td>\n",
       "      <td>0</td>\n",
       "      <td>0</td>\n",
       "      <td>0</td>\n",
       "      <td>0</td>\n",
       "      <td>0</td>\n",
       "      <td>0</td>\n",
       "      <td>0</td>\n",
       "      <td>0</td>\n",
       "      <td>0</td>\n",
       "      <td>1</td>\n",
       "      <td>0</td>\n",
       "      <td>0</td>\n",
       "      <td>0</td>\n",
       "      <td>0</td>\n",
       "      <td>0</td>\n",
       "      <td>2</td>\n",
       "      <td>1</td>\n",
       "      <td>0</td>\n",
       "      <td>0</td>\n",
       "      <td>0</td>\n",
       "      <td>0</td>\n",
       "      <td>0</td>\n",
       "      <td>0</td>\n",
       "      <td>0</td>\n",
       "      <td>0</td>\n",
       "      <td>0</td>\n",
       "      <td>0</td>\n",
       "      <td>0</td>\n",
       "      <td>0</td>\n",
       "      <td>0</td>\n",
       "      <td>0</td>\n",
       "      <td>0</td>\n",
       "      <td>0</td>\n",
       "      <td>0</td>\n",
       "      <td>0</td>\n",
       "      <td>0</td>\n",
       "      <td>0</td>\n",
       "      <td>0</td>\n",
       "      <td>0</td>\n",
       "      <td>0</td>\n",
       "      <td>0</td>\n",
       "      <td>0</td>\n",
       "      <td>0</td>\n",
       "      <td>0</td>\n",
       "      <td>0</td>\n",
       "      <td>0</td>\n",
       "      <td>0</td>\n",
       "      <td>0</td>\n",
       "      <td>0</td>\n",
       "      <td>0</td>\n",
       "      <td>0</td>\n",
       "      <td>0</td>\n",
       "      <td>0</td>\n",
       "      <td>0</td>\n",
       "      <td>0</td>\n",
       "      <td>0</td>\n",
       "      <td>0</td>\n",
       "      <td>0</td>\n",
       "      <td>0</td>\n",
       "      <td>0</td>\n",
       "      <td>0</td>\n",
       "      <td>0</td>\n",
       "      <td>1</td>\n",
       "      <td>0</td>\n",
       "      <td>0</td>\n",
       "      <td>0</td>\n",
       "    </tr>\n",
       "  </tbody>\n",
       "</table>\n",
       "</div>"
      ],
      "text/plain": [
       "             Neighbourhood Name  African Restaurant  Airport Service  \\\n",
       "0               Agincourt North                   0                0   \n",
       "1  Agincourt South-Malvern West                   0                0   \n",
       "2                     Alderwood                   0                0   \n",
       "3                         Annex                   0                0   \n",
       "4             Banbury-Don Mills                   0                0   \n",
       "\n",
       "   American Restaurant  Amphitheater  Animal Shelter  Antique Shop  Arcade  \\\n",
       "0                    0             0               0             0       0   \n",
       "1                    0             0               0             0       0   \n",
       "2                    0             0               0             0       0   \n",
       "3                    0             0               0             0       0   \n",
       "4                    0             0               0             0       0   \n",
       "\n",
       "   Argentinian Restaurant  Art Gallery  Art Museum  Arts & Crafts Store  \\\n",
       "0                       0            0           0                    0   \n",
       "1                       0            0           0                    0   \n",
       "2                       0            0           0                    0   \n",
       "3                       0            0           0                    0   \n",
       "4                       0            0           0                    0   \n",
       "\n",
       "   Asian Restaurant  Astrologer  Athletics & Sports  Auto Dealership  \\\n",
       "0                 0           0                   0                0   \n",
       "1                 1           0                   0                0   \n",
       "2                 0           0                   0                0   \n",
       "3                 0           0                   0                0   \n",
       "4                 0           0                   0                0   \n",
       "\n",
       "   Auto Workshop  Automotive Shop  BBQ Joint  Bagel Shop  Bakery  Bank  Bar  \\\n",
       "0              0                0          0           0       1     1    0   \n",
       "1              0                0          1           0       0     1    1   \n",
       "2              0                0          0           0       0     0    0   \n",
       "3              0                0          1           0       0     0    0   \n",
       "4              0                0          0           0       0     1    0   \n",
       "\n",
       "   Baseball Field  Basketball Court  Beach  Beer Bar  Beer Store  \\\n",
       "0               0                 0      0         0           1   \n",
       "1               0                 0      0         0           0   \n",
       "2               0                 0      0         0           0   \n",
       "3               0                 0      0         0           0   \n",
       "4               0                 0      0         0           0   \n",
       "\n",
       "   Belgian Restaurant  Bike Shop  Bistro  Boat or Ferry  Bookstore  \\\n",
       "0                   0          0       0              0          0   \n",
       "1                   0          0       0              0          0   \n",
       "2                   0          0       0              0          0   \n",
       "3                   0          0       0              0          0   \n",
       "4                   0          0       0              0          0   \n",
       "\n",
       "   Botanical Garden  Boutique  Bowling Alley  Brazilian Restaurant  \\\n",
       "0                 0         0              0                     0   \n",
       "1                 0         0              0                     0   \n",
       "2                 0         0              0                     0   \n",
       "3                 0         0              0                     0   \n",
       "4                 0         1              0                     0   \n",
       "\n",
       "   Breakfast Spot  Brewery  Bridal Shop  Bubble Tea Shop  Buffet  Building  \\\n",
       "0               0        0            0                0       0         0   \n",
       "1               0        0            0                0       0         0   \n",
       "2               0        0            0                0       0         0   \n",
       "3               0        0            0                0       0         0   \n",
       "4               0        0            0                0       0         0   \n",
       "\n",
       "   Burger Joint  Burrito Place  Bus Line  Bus Station  Bus Stop  \\\n",
       "0             0              0         0            0         0   \n",
       "1             0              0         0            0         0   \n",
       "2             0              0         0            0         0   \n",
       "3             1              0         0            0         0   \n",
       "4             0              0         0            0         0   \n",
       "\n",
       "   Business Service  Butcher  Café  Cajun / Creole Restaurant  Camera Store  \\\n",
       "0                 0        0     0                          0             0   \n",
       "1                 0        0     0                          0             0   \n",
       "2                 0        0     0                          0             0   \n",
       "3                 0        0     2                          0             0   \n",
       "4                 0        0     0                          0             0   \n",
       "\n",
       "   Campground  Candy Store  Cantonese Restaurant  Caribbean Restaurant  \\\n",
       "0           0            0                     0                     0   \n",
       "1           0            0                     1                     0   \n",
       "2           0            0                     0                     0   \n",
       "3           0            0                     0                     0   \n",
       "4           0            0                     1                     0   \n",
       "\n",
       "   Castle  Cheese Shop  Chinese Restaurant  Chiropractor  Chocolate Shop  \\\n",
       "0       0            0                   1             0               0   \n",
       "1       0            0                   6             0               0   \n",
       "2       0            0                   0             0               0   \n",
       "3       0            1                   0             0               0   \n",
       "4       0            0                   0             0               1   \n",
       "\n",
       "   Churrascaria  Clothing Store  Cocktail Bar  Coffee Shop  \\\n",
       "0             0               1             0            0   \n",
       "1             0               0             0            0   \n",
       "2             0               0             0            1   \n",
       "3             0               0             0            1   \n",
       "4             0               1             0            2   \n",
       "\n",
       "   College Arts Building  College Gym  College Quad  College Rec Center  \\\n",
       "0                      0            0             0                   0   \n",
       "1                      0            0             0                   0   \n",
       "2                      0            0             0                   0   \n",
       "3                      0            0             0                   0   \n",
       "4                      0            0             0                   0   \n",
       "\n",
       "   College Stadium  Comfort Food Restaurant  Comic Shop  Concert Hall  \\\n",
       "0                0                        0           0             0   \n",
       "1                0                        0           0             0   \n",
       "2                0                        0           0             0   \n",
       "3                0                        0           0             0   \n",
       "4                0                        0           0             0   \n",
       "\n",
       "   Construction & Landscaping  Convenience Store  Cosmetics Shop  \\\n",
       "0                           0                  1               0   \n",
       "1                           0                  0               0   \n",
       "2                           0                  1               0   \n",
       "3                           0                  0               0   \n",
       "4                           0                  0               0   \n",
       "\n",
       "   Costume Shop  Cuban Restaurant  Cupcake Shop  Curling Ice  Dance Studio  \\\n",
       "0             0                 0             0            0             0   \n",
       "1             0                 0             0            0             0   \n",
       "2             0                 0             0            0             0   \n",
       "3             0                 0             0            0             0   \n",
       "4             0                 0             0            0             0   \n",
       "\n",
       "   Deli / Bodega  Department Store  Dessert Shop  Dim Sum Restaurant  Diner  \\\n",
       "0              0                 0             0                   0      0   \n",
       "1              0                 0             0                   1      0   \n",
       "2              0                 0             0                   0      0   \n",
       "3              0                 0             0                   0      0   \n",
       "4              0                 0             0                   0      0   \n",
       "\n",
       "   Discount Store  Dive Bar  Doctor's Office  Dog Run  Donut Shop  \\\n",
       "0               1         0                0        0           0   \n",
       "1               0         0                0        0           0   \n",
       "2               0         0                0        0           0   \n",
       "3               0         0                0        0           1   \n",
       "4               0         0                0        0           0   \n",
       "\n",
       "   Dumpling Restaurant  Eastern European Restaurant  Egyptian Restaurant  \\\n",
       "0                    0                            0                    0   \n",
       "1                    0                            0                    0   \n",
       "2                    0                            0                    0   \n",
       "3                    0                            0                    0   \n",
       "4                    0                            0                    0   \n",
       "\n",
       "   Electronics Store  Elementary School  Ethiopian Restaurant  Event Space  \\\n",
       "0                  0                  0                     0            0   \n",
       "1                  0                  0                     0            0   \n",
       "2                  0                  0                     0            0   \n",
       "3                  0                  0                     0            0   \n",
       "4                  0                  0                     0            0   \n",
       "\n",
       "   Falafel Restaurant  Farm  Farmers Market  Fast Food Restaurant  Field  \\\n",
       "0                   0     0               0                     1      0   \n",
       "1                   0     0               0                     0      0   \n",
       "2                   0     0               0                     0      0   \n",
       "3                   0     0               0                     0      0   \n",
       "4                   0     0               0                     0      0   \n",
       "\n",
       "   Filipino Restaurant  Fish & Chips Shop  Fish Market  Flea Market  \\\n",
       "0                    0                  0            0            0   \n",
       "1                    1                  0            0            0   \n",
       "2                    0                  0            0            0   \n",
       "3                    0                  0            0            0   \n",
       "4                    0                  0            0            0   \n",
       "\n",
       "   Flower Shop  Food  Food & Drink Shop  Food Court  Food Truck  \\\n",
       "0            0     0                  0           0           0   \n",
       "1            0     0                  0           0           0   \n",
       "2            0     0                  0           0           0   \n",
       "3            0     0                  0           0           0   \n",
       "4            0     0                  0           0           0   \n",
       "\n",
       "   French Restaurant  Fried Chicken Joint  Frozen Yogurt Shop  \\\n",
       "0                  0                    1                   1   \n",
       "1                  0                    0                   0   \n",
       "2                  0                    0                   0   \n",
       "3                  1                    0                   0   \n",
       "4                  0                    0                   0   \n",
       "\n",
       "   Fruit & Vegetable Store  Furniture / Home Store  Gaming Cafe  Garden  \\\n",
       "0                        0                       0            0       0   \n",
       "1                        0                       0            0       0   \n",
       "2                        0                       0            0       0   \n",
       "3                        0                       0            0       0   \n",
       "4                        0                       0            0       0   \n",
       "\n",
       "   Garden Center  Gas Station  Gastropub  Gay Bar  General Entertainment  \\\n",
       "0              0            0          0        0                      0   \n",
       "1              0            0          0        0                      0   \n",
       "2              0            0          0        0                      0   \n",
       "3              0            0          0        0                      0   \n",
       "4              0            0          0        0                      0   \n",
       "\n",
       "   General Travel  German Restaurant  Gift Shop  Golf Driving Range  \\\n",
       "0               0                  0          0                   0   \n",
       "1               0                  0          0                   0   \n",
       "2               0                  0          0                   0   \n",
       "3               0                  0          0                   0   \n",
       "4               0                  0          0                   0   \n",
       "\n",
       "   Gourmet Shop  Government Building  Greek Restaurant  Grocery Store  Gym  \\\n",
       "0             0                    0                 0              0    0   \n",
       "1             0                    0                 0              0    0   \n",
       "2             0                    0                 0              0    0   \n",
       "3             0                    0                 0              0    0   \n",
       "4             2                    0                 0              0    0   \n",
       "\n",
       "   Gym / Fitness Center  Gym Pool  Hakka Restaurant  Halal Restaurant  \\\n",
       "0                     0         0                 0                 0   \n",
       "1                     0         0                 0                 0   \n",
       "2                     0         0                 0                 0   \n",
       "3                     0         0                 0                 0   \n",
       "4                     0         0                 0                 0   \n",
       "\n",
       "   Harbor / Marina  Hardware Store  Health & Beauty Service  Historic Site  \\\n",
       "0                0               0                        0              0   \n",
       "1                0               0                        0              0   \n",
       "2                0               0                        0              0   \n",
       "3                0               0                        0              0   \n",
       "4                0               0                        1              0   \n",
       "\n",
       "   History Museum  Hobby Shop  Hockey Arena  Hockey Field  Home Service  \\\n",
       "0               0           0             0             0             0   \n",
       "1               0           0             0             0             0   \n",
       "2               0           0             0             0             0   \n",
       "3               0           0             0             0             0   \n",
       "4               0           0             0             0             0   \n",
       "\n",
       "   Hookah Bar  Hostel  Hotel  Hotel Bar  Hotpot Restaurant  IT Services  \\\n",
       "0           0       0      0          0                  0            0   \n",
       "1           0       0      0          0                  0            0   \n",
       "2           0       0      0          0                  0            0   \n",
       "3           0       0      0          0                  0            0   \n",
       "4           0       0      0          0                  0            0   \n",
       "\n",
       "   Ice Cream Shop  Indian Chinese Restaurant  Indian Restaurant  \\\n",
       "0               0                          0                  0   \n",
       "1               0                          0                  0   \n",
       "2               0                          0                  0   \n",
       "3               0                          0                  1   \n",
       "4               0                          0                  0   \n",
       "\n",
       "   Indie Theater  Indonesian Restaurant  Indoor Play Area  Intersection  \\\n",
       "0              0                      0                 0             0   \n",
       "1              0                      0                 0             0   \n",
       "2              0                      0                 0             0   \n",
       "3              0                      0                 0             0   \n",
       "4              0                      0                 0             1   \n",
       "\n",
       "   Italian Restaurant  Japanese Restaurant  Jazz Club  Jewelry Store  \\\n",
       "0                   0                    1          0              0   \n",
       "1                   0                    0          0              0   \n",
       "2                   0                    0          0              0   \n",
       "3                   0                    0          0              0   \n",
       "4                   1                    0          0              0   \n",
       "\n",
       "   Juice Bar  Karaoke Bar  Kids Store  Korean Restaurant  Lake  \\\n",
       "0          0            0           0                  0     0   \n",
       "1          0            0           0                  0     0   \n",
       "2          0            0           0                  0     0   \n",
       "3          0            0           0                  0     0   \n",
       "4          0            0           0                  0     0   \n",
       "\n",
       "   Latin American Restaurant  Library  Light Rail Station  Lingerie Store  \\\n",
       "0                          0        0                   0               0   \n",
       "1                          0        0                   0               0   \n",
       "2                          0        0                   0               0   \n",
       "3                          0        0                   0               0   \n",
       "4                          0        0                   0               0   \n",
       "\n",
       "   Liquor Store  Locksmith  Lounge  Malay Restaurant  Market  \\\n",
       "0             1          0       0                 0       0   \n",
       "1             0          0       0                 1       0   \n",
       "2             0          0       0                 0       0   \n",
       "3             1          0       0                 0       0   \n",
       "4             1          0       0                 0       0   \n",
       "\n",
       "   Martial Arts School  Massage Studio  Mediterranean Restaurant  Men's Store  \\\n",
       "0                    0               0                         0            0   \n",
       "1                    0               0                         1            0   \n",
       "2                    0               0                         0            0   \n",
       "3                    0               0                         0            0   \n",
       "4                    0               0                         0            0   \n",
       "\n",
       "   Metro Station  Mexican Restaurant  Middle Eastern Restaurant  \\\n",
       "0              0                   0                          0   \n",
       "1              0                   0                          0   \n",
       "2              0                   0                          0   \n",
       "3              0                   0                          1   \n",
       "4              0                   0                          0   \n",
       "\n",
       "   Miscellaneous Shop  Mobile Phone Shop  Modern European Restaurant  \\\n",
       "0                   0                  0                           0   \n",
       "1                   0                  0                           0   \n",
       "2                   0                  0                           0   \n",
       "3                   0                  0                           0   \n",
       "4                   0                  0                           0   \n",
       "\n",
       "   Motorcycle Shop  Movie Theater  Moving Target  Museum  Music Venue  \\\n",
       "0                0              0              0       0            0   \n",
       "1                1              0              0       0            0   \n",
       "2                0              0              0       0            0   \n",
       "3                0              0              0       0            0   \n",
       "4                0              1              0       0            0   \n",
       "\n",
       "   Nail Salon  Neighborhood  New American Restaurant  Nightclub  Noodle House  \\\n",
       "0           0             0                        0          0             0   \n",
       "1           0             0                        0          0             1   \n",
       "2           0             0                        0          0             0   \n",
       "3           0             0                        0          0             0   \n",
       "4           0             0                        0          0             0   \n",
       "\n",
       "   North Indian Restaurant  Optical Shop  Organic Grocery  \\\n",
       "0                        0             0                0   \n",
       "1                        0             0                0   \n",
       "2                        0             0                0   \n",
       "3                        0             0                0   \n",
       "4                        0             0                0   \n",
       "\n",
       "   Other Great Outdoors  Pakistani Restaurant  Paper / Office Supplies Store  \\\n",
       "0                     0                     0                              0   \n",
       "1                     0                     0                              0   \n",
       "2                     0                     0                              0   \n",
       "3                     0                     0                              0   \n",
       "4                     0                     0                              0   \n",
       "\n",
       "   Park  Pastry Shop  Performing Arts Venue  Persian Restaurant  Pet Store  \\\n",
       "0     1            0                      0                   0          0   \n",
       "1     0            0                      0                   0          0   \n",
       "2     0            0                      0                   0          0   \n",
       "3     2            0                      0                   0          1   \n",
       "4     0            0                      0                   0          1   \n",
       "\n",
       "   Pharmacy  Photography Lab  Photography Studio  Pie Shop  Pizza Place  \\\n",
       "0         1                0                   0         0            1   \n",
       "1         0                0                   0         0            0   \n",
       "2         1                0                   0         0            2   \n",
       "3         1                0                   0         0            1   \n",
       "4         1                0                   0         0            2   \n",
       "\n",
       "   Platform  Playground  Plaza  Poke Place  Pool  Pool Hall  \\\n",
       "0         0           0      0           0     0          0   \n",
       "1         0           0      0           0     0          1   \n",
       "2         0           0      0           0     0          0   \n",
       "3         0           0      0           0     0          0   \n",
       "4         0           0      0           0     0          0   \n",
       "\n",
       "   Portuguese Restaurant  Poutine Place  Pub  Racetrack  Ramen Restaurant  \\\n",
       "0                      0              0    0          0                 0   \n",
       "1                      0              0    0          0                 0   \n",
       "2                      0              0    0          0                 0   \n",
       "3                      0              0    2          0                 0   \n",
       "4                      0              0    0          0                 0   \n",
       "\n",
       "   Record Shop  Rental Car Location  Residential Building (Apartment / Condo)  \\\n",
       "0            0                    0                                         0   \n",
       "1            0                    0                                         0   \n",
       "2            0                    0                                         0   \n",
       "3            0                    0                                         0   \n",
       "4            0                    0                                         0   \n",
       "\n",
       "   Restaurant  River  Road  Rock Climbing Spot  Rock Club  Salad Place  \\\n",
       "0           0      0     0                   0          0            0   \n",
       "1           1      0     0                   0          0            0   \n",
       "2           0      0     0                   0          0            0   \n",
       "3           0      0     0                   0          0            0   \n",
       "4           0      0     0                   0          0            0   \n",
       "\n",
       "   Salon / Barbershop  Sandwich Place  Scenic Lookout  School  Science Museum  \\\n",
       "0                   0               1               0       0               0   \n",
       "1                   0               0               0       0               0   \n",
       "2                   0               0               0       0               0   \n",
       "3                   0               2               0       0               0   \n",
       "4                   0               1               0       0               0   \n",
       "\n",
       "   Seafood Restaurant  Shoe Repair  Shoe Store  Shopping Mall  Shopping Plaza  \\\n",
       "0                   0            0           0              0               0   \n",
       "1                   1            0           0              2               0   \n",
       "2                   0            0           0              0               0   \n",
       "3                   0            1           0              0               0   \n",
       "4                   0            0           2              1               0   \n",
       "\n",
       "   Skating Rink  Smoke Shop  Snack Place  Soccer Field  Social Club  \\\n",
       "0             0           0            0             0            0   \n",
       "1             0           0            0             0            0   \n",
       "2             0           0            0             0            0   \n",
       "3             0           0            0             0            1   \n",
       "4             0           0            0             0            0   \n",
       "\n",
       "   South American Restaurant  South Indian Restaurant  Spa  Speakeasy  \\\n",
       "0                          0                        0    0          0   \n",
       "1                          0                        0    0          0   \n",
       "2                          0                        0    0          0   \n",
       "3                          0                        0    0          0   \n",
       "4                          0                        0    0          0   \n",
       "\n",
       "   Sporting Goods Shop  Sports Bar  Sri Lankan Restaurant  Steakhouse  \\\n",
       "0                    0           0                      0           0   \n",
       "1                    0           0                      0           0   \n",
       "2                    0           0                      0           0   \n",
       "3                    0           0                      0           0   \n",
       "4                    0           0                      0           0   \n",
       "\n",
       "   Storage Facility  Supermarket  Sushi Restaurant  Swiss Restaurant  \\\n",
       "0                 0            0                 0                 0   \n",
       "1                 0            0                 0                 0   \n",
       "2                 0            0                 0                 0   \n",
       "3                 0            0                 0                 0   \n",
       "4                 0            0                 0                 0   \n",
       "\n",
       "   Syrian Restaurant  Taco Place  Taiwanese Restaurant  Tapas Restaurant  \\\n",
       "0                  0           0                     0                 0   \n",
       "1                  0           0                     0                 0   \n",
       "2                  0           0                     0                 0   \n",
       "3                  0           0                     0                 0   \n",
       "4                  0           0                     0                 0   \n",
       "\n",
       "   Tattoo Parlor  Tea Room  Tennis Court  Thai Restaurant  Theater  \\\n",
       "0              0         0             0                0        0   \n",
       "1              0         0             0                0        0   \n",
       "2              0         0             0                0        0   \n",
       "3              0         0             0                0        0   \n",
       "4              0         0             0                0        0   \n",
       "\n",
       "   Theme Park  Theme Park Ride / Attraction  Thrift / Vintage Store  \\\n",
       "0           0                             0                       0   \n",
       "1           0                             0                       0   \n",
       "2           0                             0                       0   \n",
       "3           0                             0                       0   \n",
       "4           0                             0                       0   \n",
       "\n",
       "   Tibetan Restaurant  Toy / Game Store  Trail  Train Station  Tram Station  \\\n",
       "0                   0                 0      0              0             0   \n",
       "1                   0                 0      0              0             0   \n",
       "2                   0                 0      0              0             0   \n",
       "3                   0                 0      0              0             0   \n",
       "4                   0                 0      0              0             0   \n",
       "\n",
       "   Tree  Turkish Restaurant  Vegetarian / Vegan Restaurant  Video Game Store  \\\n",
       "0     0                   0                              0                 0   \n",
       "1     0                   0                              0                 0   \n",
       "2     0                   0                              0                 0   \n",
       "3     0                   0                              0                 0   \n",
       "4     0                   0                              0                 0   \n",
       "\n",
       "   Video Store  Vietnamese Restaurant  Warehouse Store  Wine Bar  Wine Shop  \\\n",
       "0            0                      1                0         0          0   \n",
       "1            0                      0                0         0          0   \n",
       "2            0                      0                0         0          0   \n",
       "3            0                      0                0         0          0   \n",
       "4            0                      0                0         0          0   \n",
       "\n",
       "   Wings Joint  Women's Store  Yoga Studio  Zoo  Zoo Exhibit  \n",
       "0            1              0            0    0            0  \n",
       "1            0              0            0    0            0  \n",
       "2            0              0            0    0            0  \n",
       "3            0              0            0    0            0  \n",
       "4            0              1            0    0            0  "
      ]
     },
     "execution_count": 18,
     "metadata": {},
     "output_type": "execute_result"
    }
   ],
   "source": [
    "# Group up, then sum up Venue categories for each neighbourhood\n",
    "toronto_grouped = toronto_onehot.groupby('Neighbourhood Name').sum().reset_index()\n",
    "toronto_grouped.head()"
   ]
  },
  {
   "cell_type": "markdown",
   "metadata": {
    "deletable": false,
    "editable": false
   },
   "source": [
    "### Analysis of Top Venues \n",
    "The target of this part is to get categories of vanues with the highest frequency"
   ]
  },
  {
   "cell_type": "code",
   "execution_count": 19,
   "metadata": {
    "scrolled": true
   },
   "outputs": [
    {
     "data": {
      "text/html": [
       "<div>\n",
       "<style scoped>\n",
       "    .dataframe tbody tr th:only-of-type {\n",
       "        vertical-align: middle;\n",
       "    }\n",
       "\n",
       "    .dataframe tbody tr th {\n",
       "        vertical-align: top;\n",
       "    }\n",
       "\n",
       "    .dataframe thead th {\n",
       "        text-align: right;\n",
       "    }\n",
       "</style>\n",
       "<table border=\"1\" class=\"dataframe\">\n",
       "  <thead>\n",
       "    <tr style=\"text-align: right;\">\n",
       "      <th></th>\n",
       "      <th>Neighbourhood Name</th>\n",
       "      <th>African Restaurant</th>\n",
       "      <th>Airport Service</th>\n",
       "      <th>American Restaurant</th>\n",
       "      <th>Amphitheater</th>\n",
       "      <th>Animal Shelter</th>\n",
       "      <th>Antique Shop</th>\n",
       "      <th>Arcade</th>\n",
       "      <th>Argentinian Restaurant</th>\n",
       "      <th>Art Gallery</th>\n",
       "      <th>Art Museum</th>\n",
       "      <th>Arts &amp; Crafts Store</th>\n",
       "      <th>Asian Restaurant</th>\n",
       "      <th>Astrologer</th>\n",
       "      <th>Athletics &amp; Sports</th>\n",
       "      <th>Auto Dealership</th>\n",
       "      <th>Auto Workshop</th>\n",
       "      <th>Automotive Shop</th>\n",
       "      <th>BBQ Joint</th>\n",
       "      <th>Bagel Shop</th>\n",
       "      <th>Bakery</th>\n",
       "      <th>Bank</th>\n",
       "      <th>Bar</th>\n",
       "      <th>Baseball Field</th>\n",
       "      <th>Basketball Court</th>\n",
       "      <th>Beach</th>\n",
       "      <th>Beer Bar</th>\n",
       "      <th>Beer Store</th>\n",
       "      <th>Belgian Restaurant</th>\n",
       "      <th>Bike Shop</th>\n",
       "      <th>Bistro</th>\n",
       "      <th>Boat or Ferry</th>\n",
       "      <th>Bookstore</th>\n",
       "      <th>Botanical Garden</th>\n",
       "      <th>Boutique</th>\n",
       "      <th>Bowling Alley</th>\n",
       "      <th>Brazilian Restaurant</th>\n",
       "      <th>Breakfast Spot</th>\n",
       "      <th>Brewery</th>\n",
       "      <th>Bridal Shop</th>\n",
       "      <th>Bubble Tea Shop</th>\n",
       "      <th>Buffet</th>\n",
       "      <th>Building</th>\n",
       "      <th>Burger Joint</th>\n",
       "      <th>Burrito Place</th>\n",
       "      <th>Bus Line</th>\n",
       "      <th>Bus Station</th>\n",
       "      <th>Bus Stop</th>\n",
       "      <th>Business Service</th>\n",
       "      <th>Butcher</th>\n",
       "      <th>Café</th>\n",
       "      <th>Cajun / Creole Restaurant</th>\n",
       "      <th>Camera Store</th>\n",
       "      <th>Campground</th>\n",
       "      <th>Candy Store</th>\n",
       "      <th>Cantonese Restaurant</th>\n",
       "      <th>Caribbean Restaurant</th>\n",
       "      <th>Castle</th>\n",
       "      <th>Cheese Shop</th>\n",
       "      <th>Chinese Restaurant</th>\n",
       "      <th>Chiropractor</th>\n",
       "      <th>Chocolate Shop</th>\n",
       "      <th>Churrascaria</th>\n",
       "      <th>Clothing Store</th>\n",
       "      <th>Cocktail Bar</th>\n",
       "      <th>Coffee Shop</th>\n",
       "      <th>College Arts Building</th>\n",
       "      <th>College Gym</th>\n",
       "      <th>College Quad</th>\n",
       "      <th>College Rec Center</th>\n",
       "      <th>College Stadium</th>\n",
       "      <th>Comfort Food Restaurant</th>\n",
       "      <th>Comic Shop</th>\n",
       "      <th>Concert Hall</th>\n",
       "      <th>Construction &amp; Landscaping</th>\n",
       "      <th>Convenience Store</th>\n",
       "      <th>Cosmetics Shop</th>\n",
       "      <th>Costume Shop</th>\n",
       "      <th>Cuban Restaurant</th>\n",
       "      <th>Cupcake Shop</th>\n",
       "      <th>Curling Ice</th>\n",
       "      <th>Dance Studio</th>\n",
       "      <th>Deli / Bodega</th>\n",
       "      <th>Department Store</th>\n",
       "      <th>Dessert Shop</th>\n",
       "      <th>Dim Sum Restaurant</th>\n",
       "      <th>Diner</th>\n",
       "      <th>Discount Store</th>\n",
       "      <th>Dive Bar</th>\n",
       "      <th>Doctor's Office</th>\n",
       "      <th>Dog Run</th>\n",
       "      <th>Donut Shop</th>\n",
       "      <th>Dumpling Restaurant</th>\n",
       "      <th>Eastern European Restaurant</th>\n",
       "      <th>Egyptian Restaurant</th>\n",
       "      <th>Electronics Store</th>\n",
       "      <th>Elementary School</th>\n",
       "      <th>Ethiopian Restaurant</th>\n",
       "      <th>Event Space</th>\n",
       "      <th>Falafel Restaurant</th>\n",
       "      <th>Farm</th>\n",
       "      <th>Farmers Market</th>\n",
       "      <th>Fast Food Restaurant</th>\n",
       "      <th>Field</th>\n",
       "      <th>Filipino Restaurant</th>\n",
       "      <th>Fish &amp; Chips Shop</th>\n",
       "      <th>Fish Market</th>\n",
       "      <th>Flea Market</th>\n",
       "      <th>Flower Shop</th>\n",
       "      <th>Food</th>\n",
       "      <th>Food &amp; Drink Shop</th>\n",
       "      <th>Food Court</th>\n",
       "      <th>Food Truck</th>\n",
       "      <th>French Restaurant</th>\n",
       "      <th>Fried Chicken Joint</th>\n",
       "      <th>Frozen Yogurt Shop</th>\n",
       "      <th>Fruit &amp; Vegetable Store</th>\n",
       "      <th>Furniture / Home Store</th>\n",
       "      <th>Gaming Cafe</th>\n",
       "      <th>Garden</th>\n",
       "      <th>Garden Center</th>\n",
       "      <th>Gas Station</th>\n",
       "      <th>Gastropub</th>\n",
       "      <th>Gay Bar</th>\n",
       "      <th>General Entertainment</th>\n",
       "      <th>General Travel</th>\n",
       "      <th>German Restaurant</th>\n",
       "      <th>Gift Shop</th>\n",
       "      <th>Golf Driving Range</th>\n",
       "      <th>Gourmet Shop</th>\n",
       "      <th>Government Building</th>\n",
       "      <th>Greek Restaurant</th>\n",
       "      <th>Grocery Store</th>\n",
       "      <th>Gym</th>\n",
       "      <th>Gym / Fitness Center</th>\n",
       "      <th>Gym Pool</th>\n",
       "      <th>Hakka Restaurant</th>\n",
       "      <th>Halal Restaurant</th>\n",
       "      <th>Harbor / Marina</th>\n",
       "      <th>Hardware Store</th>\n",
       "      <th>Health &amp; Beauty Service</th>\n",
       "      <th>Historic Site</th>\n",
       "      <th>History Museum</th>\n",
       "      <th>Hobby Shop</th>\n",
       "      <th>Hockey Arena</th>\n",
       "      <th>Hockey Field</th>\n",
       "      <th>Home Service</th>\n",
       "      <th>Hookah Bar</th>\n",
       "      <th>Hostel</th>\n",
       "      <th>Hotel</th>\n",
       "      <th>Hotel Bar</th>\n",
       "      <th>Hotpot Restaurant</th>\n",
       "      <th>IT Services</th>\n",
       "      <th>Ice Cream Shop</th>\n",
       "      <th>Indian Chinese Restaurant</th>\n",
       "      <th>Indian Restaurant</th>\n",
       "      <th>Indie Theater</th>\n",
       "      <th>Indonesian Restaurant</th>\n",
       "      <th>Indoor Play Area</th>\n",
       "      <th>Intersection</th>\n",
       "      <th>Italian Restaurant</th>\n",
       "      <th>Japanese Restaurant</th>\n",
       "      <th>Jazz Club</th>\n",
       "      <th>Jewelry Store</th>\n",
       "      <th>Juice Bar</th>\n",
       "      <th>Karaoke Bar</th>\n",
       "      <th>Kids Store</th>\n",
       "      <th>Korean Restaurant</th>\n",
       "      <th>Lake</th>\n",
       "      <th>Latin American Restaurant</th>\n",
       "      <th>Library</th>\n",
       "      <th>Light Rail Station</th>\n",
       "      <th>Lingerie Store</th>\n",
       "      <th>Liquor Store</th>\n",
       "      <th>Locksmith</th>\n",
       "      <th>Lounge</th>\n",
       "      <th>Malay Restaurant</th>\n",
       "      <th>Market</th>\n",
       "      <th>Martial Arts School</th>\n",
       "      <th>Massage Studio</th>\n",
       "      <th>Mediterranean Restaurant</th>\n",
       "      <th>Men's Store</th>\n",
       "      <th>Metro Station</th>\n",
       "      <th>Mexican Restaurant</th>\n",
       "      <th>Middle Eastern Restaurant</th>\n",
       "      <th>Miscellaneous Shop</th>\n",
       "      <th>Mobile Phone Shop</th>\n",
       "      <th>Modern European Restaurant</th>\n",
       "      <th>Motorcycle Shop</th>\n",
       "      <th>Movie Theater</th>\n",
       "      <th>Moving Target</th>\n",
       "      <th>Museum</th>\n",
       "      <th>Music Venue</th>\n",
       "      <th>Nail Salon</th>\n",
       "      <th>Neighborhood</th>\n",
       "      <th>New American Restaurant</th>\n",
       "      <th>Nightclub</th>\n",
       "      <th>Noodle House</th>\n",
       "      <th>North Indian Restaurant</th>\n",
       "      <th>Optical Shop</th>\n",
       "      <th>Organic Grocery</th>\n",
       "      <th>Other Great Outdoors</th>\n",
       "      <th>Pakistani Restaurant</th>\n",
       "      <th>Paper / Office Supplies Store</th>\n",
       "      <th>Park</th>\n",
       "      <th>Pastry Shop</th>\n",
       "      <th>Performing Arts Venue</th>\n",
       "      <th>Persian Restaurant</th>\n",
       "      <th>Pet Store</th>\n",
       "      <th>Pharmacy</th>\n",
       "      <th>Photography Lab</th>\n",
       "      <th>Photography Studio</th>\n",
       "      <th>Pie Shop</th>\n",
       "      <th>Pizza Place</th>\n",
       "      <th>Platform</th>\n",
       "      <th>Playground</th>\n",
       "      <th>Plaza</th>\n",
       "      <th>Poke Place</th>\n",
       "      <th>Pool</th>\n",
       "      <th>Pool Hall</th>\n",
       "      <th>Portuguese Restaurant</th>\n",
       "      <th>Poutine Place</th>\n",
       "      <th>Pub</th>\n",
       "      <th>Racetrack</th>\n",
       "      <th>Ramen Restaurant</th>\n",
       "      <th>Record Shop</th>\n",
       "      <th>Rental Car Location</th>\n",
       "      <th>Residential Building (Apartment / Condo)</th>\n",
       "      <th>Restaurant</th>\n",
       "      <th>River</th>\n",
       "      <th>Road</th>\n",
       "      <th>Rock Climbing Spot</th>\n",
       "      <th>Rock Club</th>\n",
       "      <th>Salad Place</th>\n",
       "      <th>Salon / Barbershop</th>\n",
       "      <th>Sandwich Place</th>\n",
       "      <th>Scenic Lookout</th>\n",
       "      <th>School</th>\n",
       "      <th>Science Museum</th>\n",
       "      <th>Seafood Restaurant</th>\n",
       "      <th>Shoe Repair</th>\n",
       "      <th>Shoe Store</th>\n",
       "      <th>Shopping Mall</th>\n",
       "      <th>Shopping Plaza</th>\n",
       "      <th>Skating Rink</th>\n",
       "      <th>Smoke Shop</th>\n",
       "      <th>Snack Place</th>\n",
       "      <th>Soccer Field</th>\n",
       "      <th>Social Club</th>\n",
       "      <th>South American Restaurant</th>\n",
       "      <th>South Indian Restaurant</th>\n",
       "      <th>Spa</th>\n",
       "      <th>Speakeasy</th>\n",
       "      <th>Sporting Goods Shop</th>\n",
       "      <th>Sports Bar</th>\n",
       "      <th>Sri Lankan Restaurant</th>\n",
       "      <th>Steakhouse</th>\n",
       "      <th>Storage Facility</th>\n",
       "      <th>Supermarket</th>\n",
       "      <th>Sushi Restaurant</th>\n",
       "      <th>Swiss Restaurant</th>\n",
       "      <th>Syrian Restaurant</th>\n",
       "      <th>Taco Place</th>\n",
       "      <th>Taiwanese Restaurant</th>\n",
       "      <th>Tapas Restaurant</th>\n",
       "      <th>Tattoo Parlor</th>\n",
       "      <th>Tea Room</th>\n",
       "      <th>Tennis Court</th>\n",
       "      <th>Thai Restaurant</th>\n",
       "      <th>Theater</th>\n",
       "      <th>Theme Park</th>\n",
       "      <th>Theme Park Ride / Attraction</th>\n",
       "      <th>Thrift / Vintage Store</th>\n",
       "      <th>Tibetan Restaurant</th>\n",
       "      <th>Toy / Game Store</th>\n",
       "      <th>Trail</th>\n",
       "      <th>Train Station</th>\n",
       "      <th>Tram Station</th>\n",
       "      <th>Tree</th>\n",
       "      <th>Turkish Restaurant</th>\n",
       "      <th>Vegetarian / Vegan Restaurant</th>\n",
       "      <th>Video Game Store</th>\n",
       "      <th>Video Store</th>\n",
       "      <th>Vietnamese Restaurant</th>\n",
       "      <th>Warehouse Store</th>\n",
       "      <th>Wine Bar</th>\n",
       "      <th>Wine Shop</th>\n",
       "      <th>Wings Joint</th>\n",
       "      <th>Women's Store</th>\n",
       "      <th>Yoga Studio</th>\n",
       "      <th>Zoo</th>\n",
       "      <th>Zoo Exhibit</th>\n",
       "    </tr>\n",
       "  </thead>\n",
       "  <tbody>\n",
       "    <tr>\n",
       "      <th>0</th>\n",
       "      <td>Agincourt North</td>\n",
       "      <td>0</td>\n",
       "      <td>0</td>\n",
       "      <td>0</td>\n",
       "      <td>0</td>\n",
       "      <td>0</td>\n",
       "      <td>0</td>\n",
       "      <td>0</td>\n",
       "      <td>0</td>\n",
       "      <td>0</td>\n",
       "      <td>0</td>\n",
       "      <td>0</td>\n",
       "      <td>0</td>\n",
       "      <td>0</td>\n",
       "      <td>0</td>\n",
       "      <td>0</td>\n",
       "      <td>0</td>\n",
       "      <td>0</td>\n",
       "      <td>0</td>\n",
       "      <td>0</td>\n",
       "      <td>1</td>\n",
       "      <td>1</td>\n",
       "      <td>0</td>\n",
       "      <td>0</td>\n",
       "      <td>0</td>\n",
       "      <td>0</td>\n",
       "      <td>0</td>\n",
       "      <td>1</td>\n",
       "      <td>0</td>\n",
       "      <td>0</td>\n",
       "      <td>0</td>\n",
       "      <td>0</td>\n",
       "      <td>0</td>\n",
       "      <td>0</td>\n",
       "      <td>0</td>\n",
       "      <td>0</td>\n",
       "      <td>0</td>\n",
       "      <td>0</td>\n",
       "      <td>0</td>\n",
       "      <td>0</td>\n",
       "      <td>0</td>\n",
       "      <td>0</td>\n",
       "      <td>0</td>\n",
       "      <td>0</td>\n",
       "      <td>0</td>\n",
       "      <td>0</td>\n",
       "      <td>0</td>\n",
       "      <td>0</td>\n",
       "      <td>0</td>\n",
       "      <td>0</td>\n",
       "      <td>0</td>\n",
       "      <td>0</td>\n",
       "      <td>0</td>\n",
       "      <td>0</td>\n",
       "      <td>0</td>\n",
       "      <td>0</td>\n",
       "      <td>0</td>\n",
       "      <td>0</td>\n",
       "      <td>0</td>\n",
       "      <td>1</td>\n",
       "      <td>0</td>\n",
       "      <td>0</td>\n",
       "      <td>0</td>\n",
       "      <td>1</td>\n",
       "      <td>0</td>\n",
       "      <td>0</td>\n",
       "      <td>0</td>\n",
       "      <td>0</td>\n",
       "      <td>0</td>\n",
       "      <td>0</td>\n",
       "      <td>0</td>\n",
       "      <td>0</td>\n",
       "      <td>0</td>\n",
       "      <td>0</td>\n",
       "      <td>0</td>\n",
       "      <td>1</td>\n",
       "      <td>0</td>\n",
       "      <td>0</td>\n",
       "      <td>0</td>\n",
       "      <td>0</td>\n",
       "      <td>0</td>\n",
       "      <td>0</td>\n",
       "      <td>0</td>\n",
       "      <td>0</td>\n",
       "      <td>0</td>\n",
       "      <td>0</td>\n",
       "      <td>0</td>\n",
       "      <td>1</td>\n",
       "      <td>0</td>\n",
       "      <td>0</td>\n",
       "      <td>0</td>\n",
       "      <td>0</td>\n",
       "      <td>0</td>\n",
       "      <td>0</td>\n",
       "      <td>0</td>\n",
       "      <td>0</td>\n",
       "      <td>0</td>\n",
       "      <td>0</td>\n",
       "      <td>0</td>\n",
       "      <td>0</td>\n",
       "      <td>0</td>\n",
       "      <td>0</td>\n",
       "      <td>1</td>\n",
       "      <td>0</td>\n",
       "      <td>0</td>\n",
       "      <td>0</td>\n",
       "      <td>0</td>\n",
       "      <td>0</td>\n",
       "      <td>0</td>\n",
       "      <td>0</td>\n",
       "      <td>0</td>\n",
       "      <td>0</td>\n",
       "      <td>0</td>\n",
       "      <td>0</td>\n",
       "      <td>1</td>\n",
       "      <td>1</td>\n",
       "      <td>0</td>\n",
       "      <td>0</td>\n",
       "      <td>0</td>\n",
       "      <td>0</td>\n",
       "      <td>0</td>\n",
       "      <td>0</td>\n",
       "      <td>0</td>\n",
       "      <td>0</td>\n",
       "      <td>0</td>\n",
       "      <td>0</td>\n",
       "      <td>0</td>\n",
       "      <td>0</td>\n",
       "      <td>0</td>\n",
       "      <td>0</td>\n",
       "      <td>0</td>\n",
       "      <td>0</td>\n",
       "      <td>0</td>\n",
       "      <td>0</td>\n",
       "      <td>0</td>\n",
       "      <td>0</td>\n",
       "      <td>0</td>\n",
       "      <td>0</td>\n",
       "      <td>0</td>\n",
       "      <td>0</td>\n",
       "      <td>0</td>\n",
       "      <td>0</td>\n",
       "      <td>0</td>\n",
       "      <td>0</td>\n",
       "      <td>0</td>\n",
       "      <td>0</td>\n",
       "      <td>0</td>\n",
       "      <td>0</td>\n",
       "      <td>0</td>\n",
       "      <td>0</td>\n",
       "      <td>0</td>\n",
       "      <td>0</td>\n",
       "      <td>0</td>\n",
       "      <td>0</td>\n",
       "      <td>0</td>\n",
       "      <td>0</td>\n",
       "      <td>0</td>\n",
       "      <td>0</td>\n",
       "      <td>0</td>\n",
       "      <td>0</td>\n",
       "      <td>0</td>\n",
       "      <td>1</td>\n",
       "      <td>0</td>\n",
       "      <td>0</td>\n",
       "      <td>0</td>\n",
       "      <td>0</td>\n",
       "      <td>0</td>\n",
       "      <td>0</td>\n",
       "      <td>0</td>\n",
       "      <td>0</td>\n",
       "      <td>0</td>\n",
       "      <td>0</td>\n",
       "      <td>0</td>\n",
       "      <td>1</td>\n",
       "      <td>0</td>\n",
       "      <td>0</td>\n",
       "      <td>0</td>\n",
       "      <td>0</td>\n",
       "      <td>0</td>\n",
       "      <td>0</td>\n",
       "      <td>0</td>\n",
       "      <td>0</td>\n",
       "      <td>0</td>\n",
       "      <td>0</td>\n",
       "      <td>0</td>\n",
       "      <td>0</td>\n",
       "      <td>0</td>\n",
       "      <td>0</td>\n",
       "      <td>0</td>\n",
       "      <td>0</td>\n",
       "      <td>0</td>\n",
       "      <td>0</td>\n",
       "      <td>0</td>\n",
       "      <td>0</td>\n",
       "      <td>0</td>\n",
       "      <td>0</td>\n",
       "      <td>0</td>\n",
       "      <td>0</td>\n",
       "      <td>0</td>\n",
       "      <td>0</td>\n",
       "      <td>0</td>\n",
       "      <td>0</td>\n",
       "      <td>0</td>\n",
       "      <td>0</td>\n",
       "      <td>1</td>\n",
       "      <td>0</td>\n",
       "      <td>0</td>\n",
       "      <td>0</td>\n",
       "      <td>0</td>\n",
       "      <td>1</td>\n",
       "      <td>0</td>\n",
       "      <td>0</td>\n",
       "      <td>0</td>\n",
       "      <td>1</td>\n",
       "      <td>0</td>\n",
       "      <td>0</td>\n",
       "      <td>0</td>\n",
       "      <td>0</td>\n",
       "      <td>0</td>\n",
       "      <td>0</td>\n",
       "      <td>0</td>\n",
       "      <td>0</td>\n",
       "      <td>0</td>\n",
       "      <td>0</td>\n",
       "      <td>0</td>\n",
       "      <td>0</td>\n",
       "      <td>0</td>\n",
       "      <td>0</td>\n",
       "      <td>0</td>\n",
       "      <td>0</td>\n",
       "      <td>0</td>\n",
       "      <td>0</td>\n",
       "      <td>0</td>\n",
       "      <td>0</td>\n",
       "      <td>0</td>\n",
       "      <td>1</td>\n",
       "      <td>0</td>\n",
       "      <td>0</td>\n",
       "      <td>0</td>\n",
       "      <td>0</td>\n",
       "      <td>0</td>\n",
       "      <td>0</td>\n",
       "      <td>0</td>\n",
       "      <td>0</td>\n",
       "      <td>0</td>\n",
       "      <td>0</td>\n",
       "      <td>0</td>\n",
       "      <td>0</td>\n",
       "      <td>0</td>\n",
       "      <td>0</td>\n",
       "      <td>0</td>\n",
       "      <td>0</td>\n",
       "      <td>0</td>\n",
       "      <td>0</td>\n",
       "      <td>0</td>\n",
       "      <td>0</td>\n",
       "      <td>0</td>\n",
       "      <td>0</td>\n",
       "      <td>0</td>\n",
       "      <td>0</td>\n",
       "      <td>0</td>\n",
       "      <td>0</td>\n",
       "      <td>0</td>\n",
       "      <td>0</td>\n",
       "      <td>0</td>\n",
       "      <td>0</td>\n",
       "      <td>0</td>\n",
       "      <td>0</td>\n",
       "      <td>0</td>\n",
       "      <td>0</td>\n",
       "      <td>0</td>\n",
       "      <td>0</td>\n",
       "      <td>0</td>\n",
       "      <td>0</td>\n",
       "      <td>0</td>\n",
       "      <td>0</td>\n",
       "      <td>0</td>\n",
       "      <td>0</td>\n",
       "      <td>0</td>\n",
       "      <td>0</td>\n",
       "      <td>0</td>\n",
       "      <td>0</td>\n",
       "      <td>0</td>\n",
       "      <td>1</td>\n",
       "      <td>0</td>\n",
       "      <td>0</td>\n",
       "      <td>0</td>\n",
       "      <td>1</td>\n",
       "      <td>0</td>\n",
       "      <td>0</td>\n",
       "      <td>0</td>\n",
       "      <td>0</td>\n",
       "    </tr>\n",
       "    <tr>\n",
       "      <th>1</th>\n",
       "      <td>Agincourt South-Malvern West</td>\n",
       "      <td>0</td>\n",
       "      <td>0</td>\n",
       "      <td>0</td>\n",
       "      <td>0</td>\n",
       "      <td>0</td>\n",
       "      <td>0</td>\n",
       "      <td>0</td>\n",
       "      <td>0</td>\n",
       "      <td>0</td>\n",
       "      <td>0</td>\n",
       "      <td>0</td>\n",
       "      <td>1</td>\n",
       "      <td>0</td>\n",
       "      <td>0</td>\n",
       "      <td>0</td>\n",
       "      <td>0</td>\n",
       "      <td>0</td>\n",
       "      <td>1</td>\n",
       "      <td>0</td>\n",
       "      <td>0</td>\n",
       "      <td>1</td>\n",
       "      <td>1</td>\n",
       "      <td>0</td>\n",
       "      <td>0</td>\n",
       "      <td>0</td>\n",
       "      <td>0</td>\n",
       "      <td>0</td>\n",
       "      <td>0</td>\n",
       "      <td>0</td>\n",
       "      <td>0</td>\n",
       "      <td>0</td>\n",
       "      <td>0</td>\n",
       "      <td>0</td>\n",
       "      <td>0</td>\n",
       "      <td>0</td>\n",
       "      <td>0</td>\n",
       "      <td>0</td>\n",
       "      <td>0</td>\n",
       "      <td>0</td>\n",
       "      <td>0</td>\n",
       "      <td>0</td>\n",
       "      <td>0</td>\n",
       "      <td>0</td>\n",
       "      <td>0</td>\n",
       "      <td>0</td>\n",
       "      <td>0</td>\n",
       "      <td>0</td>\n",
       "      <td>0</td>\n",
       "      <td>0</td>\n",
       "      <td>0</td>\n",
       "      <td>0</td>\n",
       "      <td>0</td>\n",
       "      <td>0</td>\n",
       "      <td>0</td>\n",
       "      <td>1</td>\n",
       "      <td>0</td>\n",
       "      <td>0</td>\n",
       "      <td>0</td>\n",
       "      <td>6</td>\n",
       "      <td>0</td>\n",
       "      <td>0</td>\n",
       "      <td>0</td>\n",
       "      <td>0</td>\n",
       "      <td>0</td>\n",
       "      <td>0</td>\n",
       "      <td>0</td>\n",
       "      <td>0</td>\n",
       "      <td>0</td>\n",
       "      <td>0</td>\n",
       "      <td>0</td>\n",
       "      <td>0</td>\n",
       "      <td>0</td>\n",
       "      <td>0</td>\n",
       "      <td>0</td>\n",
       "      <td>0</td>\n",
       "      <td>0</td>\n",
       "      <td>0</td>\n",
       "      <td>0</td>\n",
       "      <td>0</td>\n",
       "      <td>0</td>\n",
       "      <td>0</td>\n",
       "      <td>0</td>\n",
       "      <td>0</td>\n",
       "      <td>0</td>\n",
       "      <td>1</td>\n",
       "      <td>0</td>\n",
       "      <td>0</td>\n",
       "      <td>0</td>\n",
       "      <td>0</td>\n",
       "      <td>0</td>\n",
       "      <td>0</td>\n",
       "      <td>0</td>\n",
       "      <td>0</td>\n",
       "      <td>0</td>\n",
       "      <td>0</td>\n",
       "      <td>0</td>\n",
       "      <td>0</td>\n",
       "      <td>0</td>\n",
       "      <td>0</td>\n",
       "      <td>0</td>\n",
       "      <td>0</td>\n",
       "      <td>0</td>\n",
       "      <td>0</td>\n",
       "      <td>1</td>\n",
       "      <td>0</td>\n",
       "      <td>0</td>\n",
       "      <td>0</td>\n",
       "      <td>0</td>\n",
       "      <td>0</td>\n",
       "      <td>0</td>\n",
       "      <td>0</td>\n",
       "      <td>0</td>\n",
       "      <td>0</td>\n",
       "      <td>0</td>\n",
       "      <td>0</td>\n",
       "      <td>0</td>\n",
       "      <td>0</td>\n",
       "      <td>0</td>\n",
       "      <td>0</td>\n",
       "      <td>0</td>\n",
       "      <td>0</td>\n",
       "      <td>0</td>\n",
       "      <td>0</td>\n",
       "      <td>0</td>\n",
       "      <td>0</td>\n",
       "      <td>0</td>\n",
       "      <td>0</td>\n",
       "      <td>0</td>\n",
       "      <td>0</td>\n",
       "      <td>0</td>\n",
       "      <td>0</td>\n",
       "      <td>0</td>\n",
       "      <td>0</td>\n",
       "      <td>0</td>\n",
       "      <td>0</td>\n",
       "      <td>0</td>\n",
       "      <td>0</td>\n",
       "      <td>0</td>\n",
       "      <td>0</td>\n",
       "      <td>0</td>\n",
       "      <td>0</td>\n",
       "      <td>0</td>\n",
       "      <td>0</td>\n",
       "      <td>0</td>\n",
       "      <td>0</td>\n",
       "      <td>0</td>\n",
       "      <td>0</td>\n",
       "      <td>0</td>\n",
       "      <td>0</td>\n",
       "      <td>0</td>\n",
       "      <td>0</td>\n",
       "      <td>0</td>\n",
       "      <td>0</td>\n",
       "      <td>0</td>\n",
       "      <td>0</td>\n",
       "      <td>0</td>\n",
       "      <td>0</td>\n",
       "      <td>0</td>\n",
       "      <td>0</td>\n",
       "      <td>0</td>\n",
       "      <td>0</td>\n",
       "      <td>0</td>\n",
       "      <td>0</td>\n",
       "      <td>0</td>\n",
       "      <td>0</td>\n",
       "      <td>0</td>\n",
       "      <td>0</td>\n",
       "      <td>0</td>\n",
       "      <td>0</td>\n",
       "      <td>0</td>\n",
       "      <td>0</td>\n",
       "      <td>0</td>\n",
       "      <td>0</td>\n",
       "      <td>0</td>\n",
       "      <td>0</td>\n",
       "      <td>1</td>\n",
       "      <td>0</td>\n",
       "      <td>0</td>\n",
       "      <td>0</td>\n",
       "      <td>1</td>\n",
       "      <td>0</td>\n",
       "      <td>0</td>\n",
       "      <td>0</td>\n",
       "      <td>0</td>\n",
       "      <td>0</td>\n",
       "      <td>0</td>\n",
       "      <td>0</td>\n",
       "      <td>1</td>\n",
       "      <td>0</td>\n",
       "      <td>0</td>\n",
       "      <td>0</td>\n",
       "      <td>0</td>\n",
       "      <td>0</td>\n",
       "      <td>0</td>\n",
       "      <td>0</td>\n",
       "      <td>0</td>\n",
       "      <td>1</td>\n",
       "      <td>0</td>\n",
       "      <td>0</td>\n",
       "      <td>0</td>\n",
       "      <td>0</td>\n",
       "      <td>0</td>\n",
       "      <td>0</td>\n",
       "      <td>0</td>\n",
       "      <td>0</td>\n",
       "      <td>0</td>\n",
       "      <td>0</td>\n",
       "      <td>0</td>\n",
       "      <td>0</td>\n",
       "      <td>0</td>\n",
       "      <td>0</td>\n",
       "      <td>0</td>\n",
       "      <td>0</td>\n",
       "      <td>0</td>\n",
       "      <td>0</td>\n",
       "      <td>0</td>\n",
       "      <td>0</td>\n",
       "      <td>0</td>\n",
       "      <td>1</td>\n",
       "      <td>0</td>\n",
       "      <td>0</td>\n",
       "      <td>0</td>\n",
       "      <td>0</td>\n",
       "      <td>0</td>\n",
       "      <td>0</td>\n",
       "      <td>0</td>\n",
       "      <td>0</td>\n",
       "      <td>1</td>\n",
       "      <td>0</td>\n",
       "      <td>0</td>\n",
       "      <td>0</td>\n",
       "      <td>0</td>\n",
       "      <td>0</td>\n",
       "      <td>0</td>\n",
       "      <td>0</td>\n",
       "      <td>0</td>\n",
       "      <td>0</td>\n",
       "      <td>0</td>\n",
       "      <td>1</td>\n",
       "      <td>0</td>\n",
       "      <td>0</td>\n",
       "      <td>2</td>\n",
       "      <td>0</td>\n",
       "      <td>0</td>\n",
       "      <td>0</td>\n",
       "      <td>0</td>\n",
       "      <td>0</td>\n",
       "      <td>0</td>\n",
       "      <td>0</td>\n",
       "      <td>0</td>\n",
       "      <td>0</td>\n",
       "      <td>0</td>\n",
       "      <td>0</td>\n",
       "      <td>0</td>\n",
       "      <td>0</td>\n",
       "      <td>0</td>\n",
       "      <td>0</td>\n",
       "      <td>0</td>\n",
       "      <td>0</td>\n",
       "      <td>0</td>\n",
       "      <td>0</td>\n",
       "      <td>0</td>\n",
       "      <td>0</td>\n",
       "      <td>0</td>\n",
       "      <td>0</td>\n",
       "      <td>0</td>\n",
       "      <td>0</td>\n",
       "      <td>0</td>\n",
       "      <td>0</td>\n",
       "      <td>0</td>\n",
       "      <td>0</td>\n",
       "      <td>0</td>\n",
       "      <td>0</td>\n",
       "      <td>0</td>\n",
       "      <td>0</td>\n",
       "      <td>0</td>\n",
       "      <td>0</td>\n",
       "      <td>0</td>\n",
       "      <td>0</td>\n",
       "      <td>0</td>\n",
       "      <td>0</td>\n",
       "      <td>0</td>\n",
       "      <td>0</td>\n",
       "      <td>0</td>\n",
       "      <td>0</td>\n",
       "      <td>0</td>\n",
       "      <td>0</td>\n",
       "      <td>0</td>\n",
       "      <td>0</td>\n",
       "      <td>0</td>\n",
       "      <td>0</td>\n",
       "    </tr>\n",
       "    <tr>\n",
       "      <th>2</th>\n",
       "      <td>Alderwood</td>\n",
       "      <td>0</td>\n",
       "      <td>0</td>\n",
       "      <td>0</td>\n",
       "      <td>0</td>\n",
       "      <td>0</td>\n",
       "      <td>0</td>\n",
       "      <td>0</td>\n",
       "      <td>0</td>\n",
       "      <td>0</td>\n",
       "      <td>0</td>\n",
       "      <td>0</td>\n",
       "      <td>0</td>\n",
       "      <td>0</td>\n",
       "      <td>0</td>\n",
       "      <td>0</td>\n",
       "      <td>0</td>\n",
       "      <td>0</td>\n",
       "      <td>0</td>\n",
       "      <td>0</td>\n",
       "      <td>0</td>\n",
       "      <td>0</td>\n",
       "      <td>0</td>\n",
       "      <td>0</td>\n",
       "      <td>0</td>\n",
       "      <td>0</td>\n",
       "      <td>0</td>\n",
       "      <td>0</td>\n",
       "      <td>0</td>\n",
       "      <td>0</td>\n",
       "      <td>0</td>\n",
       "      <td>0</td>\n",
       "      <td>0</td>\n",
       "      <td>0</td>\n",
       "      <td>0</td>\n",
       "      <td>0</td>\n",
       "      <td>0</td>\n",
       "      <td>0</td>\n",
       "      <td>0</td>\n",
       "      <td>0</td>\n",
       "      <td>0</td>\n",
       "      <td>0</td>\n",
       "      <td>0</td>\n",
       "      <td>0</td>\n",
       "      <td>0</td>\n",
       "      <td>0</td>\n",
       "      <td>0</td>\n",
       "      <td>0</td>\n",
       "      <td>0</td>\n",
       "      <td>0</td>\n",
       "      <td>0</td>\n",
       "      <td>0</td>\n",
       "      <td>0</td>\n",
       "      <td>0</td>\n",
       "      <td>0</td>\n",
       "      <td>0</td>\n",
       "      <td>0</td>\n",
       "      <td>0</td>\n",
       "      <td>0</td>\n",
       "      <td>0</td>\n",
       "      <td>0</td>\n",
       "      <td>0</td>\n",
       "      <td>0</td>\n",
       "      <td>0</td>\n",
       "      <td>0</td>\n",
       "      <td>1</td>\n",
       "      <td>0</td>\n",
       "      <td>0</td>\n",
       "      <td>0</td>\n",
       "      <td>0</td>\n",
       "      <td>0</td>\n",
       "      <td>0</td>\n",
       "      <td>0</td>\n",
       "      <td>0</td>\n",
       "      <td>0</td>\n",
       "      <td>1</td>\n",
       "      <td>0</td>\n",
       "      <td>0</td>\n",
       "      <td>0</td>\n",
       "      <td>0</td>\n",
       "      <td>0</td>\n",
       "      <td>0</td>\n",
       "      <td>0</td>\n",
       "      <td>0</td>\n",
       "      <td>0</td>\n",
       "      <td>0</td>\n",
       "      <td>0</td>\n",
       "      <td>0</td>\n",
       "      <td>0</td>\n",
       "      <td>0</td>\n",
       "      <td>0</td>\n",
       "      <td>0</td>\n",
       "      <td>0</td>\n",
       "      <td>0</td>\n",
       "      <td>0</td>\n",
       "      <td>0</td>\n",
       "      <td>0</td>\n",
       "      <td>0</td>\n",
       "      <td>0</td>\n",
       "      <td>0</td>\n",
       "      <td>0</td>\n",
       "      <td>0</td>\n",
       "      <td>0</td>\n",
       "      <td>0</td>\n",
       "      <td>0</td>\n",
       "      <td>0</td>\n",
       "      <td>0</td>\n",
       "      <td>0</td>\n",
       "      <td>0</td>\n",
       "      <td>0</td>\n",
       "      <td>0</td>\n",
       "      <td>0</td>\n",
       "      <td>0</td>\n",
       "      <td>0</td>\n",
       "      <td>0</td>\n",
       "      <td>0</td>\n",
       "      <td>0</td>\n",
       "      <td>0</td>\n",
       "      <td>0</td>\n",
       "      <td>0</td>\n",
       "      <td>0</td>\n",
       "      <td>0</td>\n",
       "      <td>0</td>\n",
       "      <td>0</td>\n",
       "      <td>0</td>\n",
       "      <td>0</td>\n",
       "      <td>0</td>\n",
       "      <td>0</td>\n",
       "      <td>0</td>\n",
       "      <td>0</td>\n",
       "      <td>0</td>\n",
       "      <td>0</td>\n",
       "      <td>0</td>\n",
       "      <td>0</td>\n",
       "      <td>0</td>\n",
       "      <td>0</td>\n",
       "      <td>0</td>\n",
       "      <td>0</td>\n",
       "      <td>0</td>\n",
       "      <td>0</td>\n",
       "      <td>0</td>\n",
       "      <td>0</td>\n",
       "      <td>0</td>\n",
       "      <td>0</td>\n",
       "      <td>0</td>\n",
       "      <td>0</td>\n",
       "      <td>0</td>\n",
       "      <td>0</td>\n",
       "      <td>0</td>\n",
       "      <td>0</td>\n",
       "      <td>0</td>\n",
       "      <td>0</td>\n",
       "      <td>0</td>\n",
       "      <td>0</td>\n",
       "      <td>0</td>\n",
       "      <td>0</td>\n",
       "      <td>0</td>\n",
       "      <td>0</td>\n",
       "      <td>0</td>\n",
       "      <td>0</td>\n",
       "      <td>0</td>\n",
       "      <td>0</td>\n",
       "      <td>0</td>\n",
       "      <td>0</td>\n",
       "      <td>0</td>\n",
       "      <td>0</td>\n",
       "      <td>0</td>\n",
       "      <td>0</td>\n",
       "      <td>0</td>\n",
       "      <td>0</td>\n",
       "      <td>0</td>\n",
       "      <td>0</td>\n",
       "      <td>0</td>\n",
       "      <td>0</td>\n",
       "      <td>0</td>\n",
       "      <td>0</td>\n",
       "      <td>0</td>\n",
       "      <td>0</td>\n",
       "      <td>0</td>\n",
       "      <td>0</td>\n",
       "      <td>0</td>\n",
       "      <td>0</td>\n",
       "      <td>0</td>\n",
       "      <td>0</td>\n",
       "      <td>0</td>\n",
       "      <td>0</td>\n",
       "      <td>0</td>\n",
       "      <td>0</td>\n",
       "      <td>0</td>\n",
       "      <td>0</td>\n",
       "      <td>0</td>\n",
       "      <td>0</td>\n",
       "      <td>0</td>\n",
       "      <td>0</td>\n",
       "      <td>0</td>\n",
       "      <td>0</td>\n",
       "      <td>0</td>\n",
       "      <td>0</td>\n",
       "      <td>0</td>\n",
       "      <td>0</td>\n",
       "      <td>0</td>\n",
       "      <td>0</td>\n",
       "      <td>0</td>\n",
       "      <td>0</td>\n",
       "      <td>0</td>\n",
       "      <td>0</td>\n",
       "      <td>0</td>\n",
       "      <td>0</td>\n",
       "      <td>0</td>\n",
       "      <td>1</td>\n",
       "      <td>0</td>\n",
       "      <td>0</td>\n",
       "      <td>0</td>\n",
       "      <td>2</td>\n",
       "      <td>0</td>\n",
       "      <td>0</td>\n",
       "      <td>0</td>\n",
       "      <td>0</td>\n",
       "      <td>0</td>\n",
       "      <td>0</td>\n",
       "      <td>0</td>\n",
       "      <td>0</td>\n",
       "      <td>0</td>\n",
       "      <td>0</td>\n",
       "      <td>0</td>\n",
       "      <td>0</td>\n",
       "      <td>0</td>\n",
       "      <td>0</td>\n",
       "      <td>0</td>\n",
       "      <td>0</td>\n",
       "      <td>0</td>\n",
       "      <td>0</td>\n",
       "      <td>0</td>\n",
       "      <td>0</td>\n",
       "      <td>0</td>\n",
       "      <td>0</td>\n",
       "      <td>0</td>\n",
       "      <td>0</td>\n",
       "      <td>0</td>\n",
       "      <td>0</td>\n",
       "      <td>0</td>\n",
       "      <td>0</td>\n",
       "      <td>0</td>\n",
       "      <td>0</td>\n",
       "      <td>0</td>\n",
       "      <td>0</td>\n",
       "      <td>0</td>\n",
       "      <td>0</td>\n",
       "      <td>0</td>\n",
       "      <td>0</td>\n",
       "      <td>0</td>\n",
       "      <td>0</td>\n",
       "      <td>0</td>\n",
       "      <td>0</td>\n",
       "      <td>0</td>\n",
       "      <td>0</td>\n",
       "      <td>0</td>\n",
       "      <td>0</td>\n",
       "      <td>0</td>\n",
       "      <td>0</td>\n",
       "      <td>0</td>\n",
       "      <td>0</td>\n",
       "      <td>0</td>\n",
       "      <td>0</td>\n",
       "      <td>0</td>\n",
       "      <td>0</td>\n",
       "      <td>0</td>\n",
       "      <td>0</td>\n",
       "      <td>0</td>\n",
       "      <td>0</td>\n",
       "      <td>0</td>\n",
       "      <td>0</td>\n",
       "      <td>0</td>\n",
       "      <td>0</td>\n",
       "      <td>0</td>\n",
       "      <td>0</td>\n",
       "      <td>0</td>\n",
       "      <td>0</td>\n",
       "      <td>0</td>\n",
       "      <td>0</td>\n",
       "      <td>0</td>\n",
       "      <td>0</td>\n",
       "      <td>0</td>\n",
       "      <td>0</td>\n",
       "      <td>0</td>\n",
       "      <td>0</td>\n",
       "      <td>0</td>\n",
       "      <td>0</td>\n",
       "      <td>0</td>\n",
       "      <td>0</td>\n",
       "      <td>0</td>\n",
       "      <td>0</td>\n",
       "    </tr>\n",
       "    <tr>\n",
       "      <th>3</th>\n",
       "      <td>Annex</td>\n",
       "      <td>0</td>\n",
       "      <td>0</td>\n",
       "      <td>0</td>\n",
       "      <td>0</td>\n",
       "      <td>0</td>\n",
       "      <td>0</td>\n",
       "      <td>0</td>\n",
       "      <td>0</td>\n",
       "      <td>0</td>\n",
       "      <td>0</td>\n",
       "      <td>0</td>\n",
       "      <td>0</td>\n",
       "      <td>0</td>\n",
       "      <td>0</td>\n",
       "      <td>0</td>\n",
       "      <td>0</td>\n",
       "      <td>0</td>\n",
       "      <td>1</td>\n",
       "      <td>0</td>\n",
       "      <td>0</td>\n",
       "      <td>0</td>\n",
       "      <td>0</td>\n",
       "      <td>0</td>\n",
       "      <td>0</td>\n",
       "      <td>0</td>\n",
       "      <td>0</td>\n",
       "      <td>0</td>\n",
       "      <td>0</td>\n",
       "      <td>0</td>\n",
       "      <td>0</td>\n",
       "      <td>0</td>\n",
       "      <td>0</td>\n",
       "      <td>0</td>\n",
       "      <td>0</td>\n",
       "      <td>0</td>\n",
       "      <td>0</td>\n",
       "      <td>0</td>\n",
       "      <td>0</td>\n",
       "      <td>0</td>\n",
       "      <td>0</td>\n",
       "      <td>0</td>\n",
       "      <td>0</td>\n",
       "      <td>1</td>\n",
       "      <td>0</td>\n",
       "      <td>0</td>\n",
       "      <td>0</td>\n",
       "      <td>0</td>\n",
       "      <td>0</td>\n",
       "      <td>0</td>\n",
       "      <td>2</td>\n",
       "      <td>0</td>\n",
       "      <td>0</td>\n",
       "      <td>0</td>\n",
       "      <td>0</td>\n",
       "      <td>0</td>\n",
       "      <td>0</td>\n",
       "      <td>0</td>\n",
       "      <td>1</td>\n",
       "      <td>0</td>\n",
       "      <td>0</td>\n",
       "      <td>0</td>\n",
       "      <td>0</td>\n",
       "      <td>0</td>\n",
       "      <td>0</td>\n",
       "      <td>1</td>\n",
       "      <td>0</td>\n",
       "      <td>0</td>\n",
       "      <td>0</td>\n",
       "      <td>0</td>\n",
       "      <td>0</td>\n",
       "      <td>0</td>\n",
       "      <td>0</td>\n",
       "      <td>0</td>\n",
       "      <td>0</td>\n",
       "      <td>0</td>\n",
       "      <td>0</td>\n",
       "      <td>0</td>\n",
       "      <td>0</td>\n",
       "      <td>0</td>\n",
       "      <td>0</td>\n",
       "      <td>0</td>\n",
       "      <td>0</td>\n",
       "      <td>0</td>\n",
       "      <td>0</td>\n",
       "      <td>0</td>\n",
       "      <td>0</td>\n",
       "      <td>0</td>\n",
       "      <td>0</td>\n",
       "      <td>0</td>\n",
       "      <td>0</td>\n",
       "      <td>1</td>\n",
       "      <td>0</td>\n",
       "      <td>0</td>\n",
       "      <td>0</td>\n",
       "      <td>0</td>\n",
       "      <td>0</td>\n",
       "      <td>0</td>\n",
       "      <td>0</td>\n",
       "      <td>0</td>\n",
       "      <td>0</td>\n",
       "      <td>0</td>\n",
       "      <td>0</td>\n",
       "      <td>0</td>\n",
       "      <td>0</td>\n",
       "      <td>0</td>\n",
       "      <td>0</td>\n",
       "      <td>0</td>\n",
       "      <td>0</td>\n",
       "      <td>0</td>\n",
       "      <td>0</td>\n",
       "      <td>0</td>\n",
       "      <td>0</td>\n",
       "      <td>1</td>\n",
       "      <td>0</td>\n",
       "      <td>0</td>\n",
       "      <td>0</td>\n",
       "      <td>0</td>\n",
       "      <td>0</td>\n",
       "      <td>0</td>\n",
       "      <td>0</td>\n",
       "      <td>0</td>\n",
       "      <td>0</td>\n",
       "      <td>0</td>\n",
       "      <td>0</td>\n",
       "      <td>0</td>\n",
       "      <td>0</td>\n",
       "      <td>0</td>\n",
       "      <td>0</td>\n",
       "      <td>0</td>\n",
       "      <td>0</td>\n",
       "      <td>0</td>\n",
       "      <td>0</td>\n",
       "      <td>0</td>\n",
       "      <td>0</td>\n",
       "      <td>0</td>\n",
       "      <td>0</td>\n",
       "      <td>0</td>\n",
       "      <td>0</td>\n",
       "      <td>0</td>\n",
       "      <td>0</td>\n",
       "      <td>0</td>\n",
       "      <td>0</td>\n",
       "      <td>0</td>\n",
       "      <td>0</td>\n",
       "      <td>0</td>\n",
       "      <td>0</td>\n",
       "      <td>0</td>\n",
       "      <td>0</td>\n",
       "      <td>0</td>\n",
       "      <td>0</td>\n",
       "      <td>0</td>\n",
       "      <td>0</td>\n",
       "      <td>0</td>\n",
       "      <td>0</td>\n",
       "      <td>1</td>\n",
       "      <td>0</td>\n",
       "      <td>0</td>\n",
       "      <td>0</td>\n",
       "      <td>0</td>\n",
       "      <td>0</td>\n",
       "      <td>0</td>\n",
       "      <td>0</td>\n",
       "      <td>0</td>\n",
       "      <td>0</td>\n",
       "      <td>0</td>\n",
       "      <td>0</td>\n",
       "      <td>0</td>\n",
       "      <td>0</td>\n",
       "      <td>0</td>\n",
       "      <td>0</td>\n",
       "      <td>0</td>\n",
       "      <td>0</td>\n",
       "      <td>1</td>\n",
       "      <td>0</td>\n",
       "      <td>0</td>\n",
       "      <td>0</td>\n",
       "      <td>0</td>\n",
       "      <td>0</td>\n",
       "      <td>0</td>\n",
       "      <td>0</td>\n",
       "      <td>0</td>\n",
       "      <td>0</td>\n",
       "      <td>0</td>\n",
       "      <td>1</td>\n",
       "      <td>0</td>\n",
       "      <td>0</td>\n",
       "      <td>0</td>\n",
       "      <td>0</td>\n",
       "      <td>0</td>\n",
       "      <td>0</td>\n",
       "      <td>0</td>\n",
       "      <td>0</td>\n",
       "      <td>0</td>\n",
       "      <td>0</td>\n",
       "      <td>0</td>\n",
       "      <td>0</td>\n",
       "      <td>0</td>\n",
       "      <td>0</td>\n",
       "      <td>0</td>\n",
       "      <td>0</td>\n",
       "      <td>0</td>\n",
       "      <td>0</td>\n",
       "      <td>0</td>\n",
       "      <td>2</td>\n",
       "      <td>0</td>\n",
       "      <td>0</td>\n",
       "      <td>0</td>\n",
       "      <td>1</td>\n",
       "      <td>1</td>\n",
       "      <td>0</td>\n",
       "      <td>0</td>\n",
       "      <td>0</td>\n",
       "      <td>1</td>\n",
       "      <td>0</td>\n",
       "      <td>0</td>\n",
       "      <td>0</td>\n",
       "      <td>0</td>\n",
       "      <td>0</td>\n",
       "      <td>0</td>\n",
       "      <td>0</td>\n",
       "      <td>0</td>\n",
       "      <td>2</td>\n",
       "      <td>0</td>\n",
       "      <td>0</td>\n",
       "      <td>0</td>\n",
       "      <td>0</td>\n",
       "      <td>0</td>\n",
       "      <td>0</td>\n",
       "      <td>0</td>\n",
       "      <td>0</td>\n",
       "      <td>0</td>\n",
       "      <td>0</td>\n",
       "      <td>0</td>\n",
       "      <td>0</td>\n",
       "      <td>2</td>\n",
       "      <td>0</td>\n",
       "      <td>0</td>\n",
       "      <td>0</td>\n",
       "      <td>0</td>\n",
       "      <td>1</td>\n",
       "      <td>0</td>\n",
       "      <td>0</td>\n",
       "      <td>0</td>\n",
       "      <td>0</td>\n",
       "      <td>0</td>\n",
       "      <td>0</td>\n",
       "      <td>0</td>\n",
       "      <td>1</td>\n",
       "      <td>0</td>\n",
       "      <td>0</td>\n",
       "      <td>0</td>\n",
       "      <td>0</td>\n",
       "      <td>0</td>\n",
       "      <td>0</td>\n",
       "      <td>0</td>\n",
       "      <td>0</td>\n",
       "      <td>0</td>\n",
       "      <td>0</td>\n",
       "      <td>0</td>\n",
       "      <td>0</td>\n",
       "      <td>0</td>\n",
       "      <td>0</td>\n",
       "      <td>0</td>\n",
       "      <td>0</td>\n",
       "      <td>0</td>\n",
       "      <td>0</td>\n",
       "      <td>0</td>\n",
       "      <td>0</td>\n",
       "      <td>0</td>\n",
       "      <td>0</td>\n",
       "      <td>0</td>\n",
       "      <td>0</td>\n",
       "      <td>0</td>\n",
       "      <td>0</td>\n",
       "      <td>0</td>\n",
       "      <td>0</td>\n",
       "      <td>0</td>\n",
       "      <td>0</td>\n",
       "      <td>0</td>\n",
       "      <td>0</td>\n",
       "      <td>0</td>\n",
       "      <td>0</td>\n",
       "      <td>0</td>\n",
       "      <td>0</td>\n",
       "      <td>0</td>\n",
       "      <td>0</td>\n",
       "      <td>0</td>\n",
       "      <td>0</td>\n",
       "      <td>0</td>\n",
       "      <td>0</td>\n",
       "      <td>0</td>\n",
       "    </tr>\n",
       "    <tr>\n",
       "      <th>4</th>\n",
       "      <td>Banbury-Don Mills</td>\n",
       "      <td>0</td>\n",
       "      <td>0</td>\n",
       "      <td>0</td>\n",
       "      <td>0</td>\n",
       "      <td>0</td>\n",
       "      <td>0</td>\n",
       "      <td>0</td>\n",
       "      <td>0</td>\n",
       "      <td>0</td>\n",
       "      <td>0</td>\n",
       "      <td>0</td>\n",
       "      <td>0</td>\n",
       "      <td>0</td>\n",
       "      <td>0</td>\n",
       "      <td>0</td>\n",
       "      <td>0</td>\n",
       "      <td>0</td>\n",
       "      <td>0</td>\n",
       "      <td>0</td>\n",
       "      <td>0</td>\n",
       "      <td>1</td>\n",
       "      <td>0</td>\n",
       "      <td>0</td>\n",
       "      <td>0</td>\n",
       "      <td>0</td>\n",
       "      <td>0</td>\n",
       "      <td>0</td>\n",
       "      <td>0</td>\n",
       "      <td>0</td>\n",
       "      <td>0</td>\n",
       "      <td>0</td>\n",
       "      <td>0</td>\n",
       "      <td>0</td>\n",
       "      <td>1</td>\n",
       "      <td>0</td>\n",
       "      <td>0</td>\n",
       "      <td>0</td>\n",
       "      <td>0</td>\n",
       "      <td>0</td>\n",
       "      <td>0</td>\n",
       "      <td>0</td>\n",
       "      <td>0</td>\n",
       "      <td>0</td>\n",
       "      <td>0</td>\n",
       "      <td>0</td>\n",
       "      <td>0</td>\n",
       "      <td>0</td>\n",
       "      <td>0</td>\n",
       "      <td>0</td>\n",
       "      <td>0</td>\n",
       "      <td>0</td>\n",
       "      <td>0</td>\n",
       "      <td>0</td>\n",
       "      <td>0</td>\n",
       "      <td>1</td>\n",
       "      <td>0</td>\n",
       "      <td>0</td>\n",
       "      <td>0</td>\n",
       "      <td>0</td>\n",
       "      <td>0</td>\n",
       "      <td>1</td>\n",
       "      <td>0</td>\n",
       "      <td>1</td>\n",
       "      <td>0</td>\n",
       "      <td>2</td>\n",
       "      <td>0</td>\n",
       "      <td>0</td>\n",
       "      <td>0</td>\n",
       "      <td>0</td>\n",
       "      <td>0</td>\n",
       "      <td>0</td>\n",
       "      <td>0</td>\n",
       "      <td>0</td>\n",
       "      <td>0</td>\n",
       "      <td>0</td>\n",
       "      <td>0</td>\n",
       "      <td>0</td>\n",
       "      <td>0</td>\n",
       "      <td>0</td>\n",
       "      <td>0</td>\n",
       "      <td>0</td>\n",
       "      <td>0</td>\n",
       "      <td>0</td>\n",
       "      <td>0</td>\n",
       "      <td>0</td>\n",
       "      <td>0</td>\n",
       "      <td>0</td>\n",
       "      <td>0</td>\n",
       "      <td>0</td>\n",
       "      <td>0</td>\n",
       "      <td>0</td>\n",
       "      <td>0</td>\n",
       "      <td>0</td>\n",
       "      <td>0</td>\n",
       "      <td>0</td>\n",
       "      <td>0</td>\n",
       "      <td>0</td>\n",
       "      <td>0</td>\n",
       "      <td>0</td>\n",
       "      <td>0</td>\n",
       "      <td>0</td>\n",
       "      <td>0</td>\n",
       "      <td>0</td>\n",
       "      <td>0</td>\n",
       "      <td>0</td>\n",
       "      <td>0</td>\n",
       "      <td>0</td>\n",
       "      <td>0</td>\n",
       "      <td>0</td>\n",
       "      <td>0</td>\n",
       "      <td>0</td>\n",
       "      <td>0</td>\n",
       "      <td>0</td>\n",
       "      <td>0</td>\n",
       "      <td>0</td>\n",
       "      <td>0</td>\n",
       "      <td>0</td>\n",
       "      <td>0</td>\n",
       "      <td>0</td>\n",
       "      <td>0</td>\n",
       "      <td>0</td>\n",
       "      <td>0</td>\n",
       "      <td>0</td>\n",
       "      <td>0</td>\n",
       "      <td>0</td>\n",
       "      <td>0</td>\n",
       "      <td>0</td>\n",
       "      <td>0</td>\n",
       "      <td>2</td>\n",
       "      <td>0</td>\n",
       "      <td>0</td>\n",
       "      <td>0</td>\n",
       "      <td>0</td>\n",
       "      <td>0</td>\n",
       "      <td>0</td>\n",
       "      <td>0</td>\n",
       "      <td>0</td>\n",
       "      <td>0</td>\n",
       "      <td>0</td>\n",
       "      <td>1</td>\n",
       "      <td>0</td>\n",
       "      <td>0</td>\n",
       "      <td>0</td>\n",
       "      <td>0</td>\n",
       "      <td>0</td>\n",
       "      <td>0</td>\n",
       "      <td>0</td>\n",
       "      <td>0</td>\n",
       "      <td>0</td>\n",
       "      <td>0</td>\n",
       "      <td>0</td>\n",
       "      <td>0</td>\n",
       "      <td>0</td>\n",
       "      <td>0</td>\n",
       "      <td>0</td>\n",
       "      <td>0</td>\n",
       "      <td>0</td>\n",
       "      <td>0</td>\n",
       "      <td>1</td>\n",
       "      <td>1</td>\n",
       "      <td>0</td>\n",
       "      <td>0</td>\n",
       "      <td>0</td>\n",
       "      <td>0</td>\n",
       "      <td>0</td>\n",
       "      <td>0</td>\n",
       "      <td>0</td>\n",
       "      <td>0</td>\n",
       "      <td>0</td>\n",
       "      <td>0</td>\n",
       "      <td>0</td>\n",
       "      <td>0</td>\n",
       "      <td>1</td>\n",
       "      <td>0</td>\n",
       "      <td>0</td>\n",
       "      <td>0</td>\n",
       "      <td>0</td>\n",
       "      <td>0</td>\n",
       "      <td>0</td>\n",
       "      <td>0</td>\n",
       "      <td>0</td>\n",
       "      <td>0</td>\n",
       "      <td>0</td>\n",
       "      <td>0</td>\n",
       "      <td>0</td>\n",
       "      <td>0</td>\n",
       "      <td>0</td>\n",
       "      <td>0</td>\n",
       "      <td>1</td>\n",
       "      <td>0</td>\n",
       "      <td>0</td>\n",
       "      <td>0</td>\n",
       "      <td>0</td>\n",
       "      <td>0</td>\n",
       "      <td>0</td>\n",
       "      <td>0</td>\n",
       "      <td>0</td>\n",
       "      <td>0</td>\n",
       "      <td>0</td>\n",
       "      <td>0</td>\n",
       "      <td>0</td>\n",
       "      <td>0</td>\n",
       "      <td>0</td>\n",
       "      <td>0</td>\n",
       "      <td>0</td>\n",
       "      <td>0</td>\n",
       "      <td>0</td>\n",
       "      <td>1</td>\n",
       "      <td>1</td>\n",
       "      <td>0</td>\n",
       "      <td>0</td>\n",
       "      <td>0</td>\n",
       "      <td>2</td>\n",
       "      <td>0</td>\n",
       "      <td>0</td>\n",
       "      <td>0</td>\n",
       "      <td>0</td>\n",
       "      <td>0</td>\n",
       "      <td>0</td>\n",
       "      <td>0</td>\n",
       "      <td>0</td>\n",
       "      <td>0</td>\n",
       "      <td>0</td>\n",
       "      <td>0</td>\n",
       "      <td>0</td>\n",
       "      <td>0</td>\n",
       "      <td>0</td>\n",
       "      <td>0</td>\n",
       "      <td>0</td>\n",
       "      <td>0</td>\n",
       "      <td>0</td>\n",
       "      <td>0</td>\n",
       "      <td>0</td>\n",
       "      <td>0</td>\n",
       "      <td>1</td>\n",
       "      <td>0</td>\n",
       "      <td>0</td>\n",
       "      <td>0</td>\n",
       "      <td>0</td>\n",
       "      <td>0</td>\n",
       "      <td>2</td>\n",
       "      <td>1</td>\n",
       "      <td>0</td>\n",
       "      <td>0</td>\n",
       "      <td>0</td>\n",
       "      <td>0</td>\n",
       "      <td>0</td>\n",
       "      <td>0</td>\n",
       "      <td>0</td>\n",
       "      <td>0</td>\n",
       "      <td>0</td>\n",
       "      <td>0</td>\n",
       "      <td>0</td>\n",
       "      <td>0</td>\n",
       "      <td>0</td>\n",
       "      <td>0</td>\n",
       "      <td>0</td>\n",
       "      <td>0</td>\n",
       "      <td>0</td>\n",
       "      <td>0</td>\n",
       "      <td>0</td>\n",
       "      <td>0</td>\n",
       "      <td>0</td>\n",
       "      <td>0</td>\n",
       "      <td>0</td>\n",
       "      <td>0</td>\n",
       "      <td>0</td>\n",
       "      <td>0</td>\n",
       "      <td>0</td>\n",
       "      <td>0</td>\n",
       "      <td>0</td>\n",
       "      <td>0</td>\n",
       "      <td>0</td>\n",
       "      <td>0</td>\n",
       "      <td>0</td>\n",
       "      <td>0</td>\n",
       "      <td>0</td>\n",
       "      <td>0</td>\n",
       "      <td>0</td>\n",
       "      <td>0</td>\n",
       "      <td>0</td>\n",
       "      <td>0</td>\n",
       "      <td>0</td>\n",
       "      <td>0</td>\n",
       "      <td>0</td>\n",
       "      <td>0</td>\n",
       "      <td>0</td>\n",
       "      <td>1</td>\n",
       "      <td>0</td>\n",
       "      <td>0</td>\n",
       "      <td>0</td>\n",
       "    </tr>\n",
       "  </tbody>\n",
       "</table>\n",
       "</div>"
      ],
      "text/plain": [
       "             Neighbourhood Name  African Restaurant  Airport Service  \\\n",
       "0               Agincourt North                   0                0   \n",
       "1  Agincourt South-Malvern West                   0                0   \n",
       "2                     Alderwood                   0                0   \n",
       "3                         Annex                   0                0   \n",
       "4             Banbury-Don Mills                   0                0   \n",
       "\n",
       "   American Restaurant  Amphitheater  Animal Shelter  Antique Shop  Arcade  \\\n",
       "0                    0             0               0             0       0   \n",
       "1                    0             0               0             0       0   \n",
       "2                    0             0               0             0       0   \n",
       "3                    0             0               0             0       0   \n",
       "4                    0             0               0             0       0   \n",
       "\n",
       "   Argentinian Restaurant  Art Gallery  Art Museum  Arts & Crafts Store  \\\n",
       "0                       0            0           0                    0   \n",
       "1                       0            0           0                    0   \n",
       "2                       0            0           0                    0   \n",
       "3                       0            0           0                    0   \n",
       "4                       0            0           0                    0   \n",
       "\n",
       "   Asian Restaurant  Astrologer  Athletics & Sports  Auto Dealership  \\\n",
       "0                 0           0                   0                0   \n",
       "1                 1           0                   0                0   \n",
       "2                 0           0                   0                0   \n",
       "3                 0           0                   0                0   \n",
       "4                 0           0                   0                0   \n",
       "\n",
       "   Auto Workshop  Automotive Shop  BBQ Joint  Bagel Shop  Bakery  Bank  Bar  \\\n",
       "0              0                0          0           0       1     1    0   \n",
       "1              0                0          1           0       0     1    1   \n",
       "2              0                0          0           0       0     0    0   \n",
       "3              0                0          1           0       0     0    0   \n",
       "4              0                0          0           0       0     1    0   \n",
       "\n",
       "   Baseball Field  Basketball Court  Beach  Beer Bar  Beer Store  \\\n",
       "0               0                 0      0         0           1   \n",
       "1               0                 0      0         0           0   \n",
       "2               0                 0      0         0           0   \n",
       "3               0                 0      0         0           0   \n",
       "4               0                 0      0         0           0   \n",
       "\n",
       "   Belgian Restaurant  Bike Shop  Bistro  Boat or Ferry  Bookstore  \\\n",
       "0                   0          0       0              0          0   \n",
       "1                   0          0       0              0          0   \n",
       "2                   0          0       0              0          0   \n",
       "3                   0          0       0              0          0   \n",
       "4                   0          0       0              0          0   \n",
       "\n",
       "   Botanical Garden  Boutique  Bowling Alley  Brazilian Restaurant  \\\n",
       "0                 0         0              0                     0   \n",
       "1                 0         0              0                     0   \n",
       "2                 0         0              0                     0   \n",
       "3                 0         0              0                     0   \n",
       "4                 0         1              0                     0   \n",
       "\n",
       "   Breakfast Spot  Brewery  Bridal Shop  Bubble Tea Shop  Buffet  Building  \\\n",
       "0               0        0            0                0       0         0   \n",
       "1               0        0            0                0       0         0   \n",
       "2               0        0            0                0       0         0   \n",
       "3               0        0            0                0       0         0   \n",
       "4               0        0            0                0       0         0   \n",
       "\n",
       "   Burger Joint  Burrito Place  Bus Line  Bus Station  Bus Stop  \\\n",
       "0             0              0         0            0         0   \n",
       "1             0              0         0            0         0   \n",
       "2             0              0         0            0         0   \n",
       "3             1              0         0            0         0   \n",
       "4             0              0         0            0         0   \n",
       "\n",
       "   Business Service  Butcher  Café  Cajun / Creole Restaurant  Camera Store  \\\n",
       "0                 0        0     0                          0             0   \n",
       "1                 0        0     0                          0             0   \n",
       "2                 0        0     0                          0             0   \n",
       "3                 0        0     2                          0             0   \n",
       "4                 0        0     0                          0             0   \n",
       "\n",
       "   Campground  Candy Store  Cantonese Restaurant  Caribbean Restaurant  \\\n",
       "0           0            0                     0                     0   \n",
       "1           0            0                     1                     0   \n",
       "2           0            0                     0                     0   \n",
       "3           0            0                     0                     0   \n",
       "4           0            0                     1                     0   \n",
       "\n",
       "   Castle  Cheese Shop  Chinese Restaurant  Chiropractor  Chocolate Shop  \\\n",
       "0       0            0                   1             0               0   \n",
       "1       0            0                   6             0               0   \n",
       "2       0            0                   0             0               0   \n",
       "3       0            1                   0             0               0   \n",
       "4       0            0                   0             0               1   \n",
       "\n",
       "   Churrascaria  Clothing Store  Cocktail Bar  Coffee Shop  \\\n",
       "0             0               1             0            0   \n",
       "1             0               0             0            0   \n",
       "2             0               0             0            1   \n",
       "3             0               0             0            1   \n",
       "4             0               1             0            2   \n",
       "\n",
       "   College Arts Building  College Gym  College Quad  College Rec Center  \\\n",
       "0                      0            0             0                   0   \n",
       "1                      0            0             0                   0   \n",
       "2                      0            0             0                   0   \n",
       "3                      0            0             0                   0   \n",
       "4                      0            0             0                   0   \n",
       "\n",
       "   College Stadium  Comfort Food Restaurant  Comic Shop  Concert Hall  \\\n",
       "0                0                        0           0             0   \n",
       "1                0                        0           0             0   \n",
       "2                0                        0           0             0   \n",
       "3                0                        0           0             0   \n",
       "4                0                        0           0             0   \n",
       "\n",
       "   Construction & Landscaping  Convenience Store  Cosmetics Shop  \\\n",
       "0                           0                  1               0   \n",
       "1                           0                  0               0   \n",
       "2                           0                  1               0   \n",
       "3                           0                  0               0   \n",
       "4                           0                  0               0   \n",
       "\n",
       "   Costume Shop  Cuban Restaurant  Cupcake Shop  Curling Ice  Dance Studio  \\\n",
       "0             0                 0             0            0             0   \n",
       "1             0                 0             0            0             0   \n",
       "2             0                 0             0            0             0   \n",
       "3             0                 0             0            0             0   \n",
       "4             0                 0             0            0             0   \n",
       "\n",
       "   Deli / Bodega  Department Store  Dessert Shop  Dim Sum Restaurant  Diner  \\\n",
       "0              0                 0             0                   0      0   \n",
       "1              0                 0             0                   1      0   \n",
       "2              0                 0             0                   0      0   \n",
       "3              0                 0             0                   0      0   \n",
       "4              0                 0             0                   0      0   \n",
       "\n",
       "   Discount Store  Dive Bar  Doctor's Office  Dog Run  Donut Shop  \\\n",
       "0               1         0                0        0           0   \n",
       "1               0         0                0        0           0   \n",
       "2               0         0                0        0           0   \n",
       "3               0         0                0        0           1   \n",
       "4               0         0                0        0           0   \n",
       "\n",
       "   Dumpling Restaurant  Eastern European Restaurant  Egyptian Restaurant  \\\n",
       "0                    0                            0                    0   \n",
       "1                    0                            0                    0   \n",
       "2                    0                            0                    0   \n",
       "3                    0                            0                    0   \n",
       "4                    0                            0                    0   \n",
       "\n",
       "   Electronics Store  Elementary School  Ethiopian Restaurant  Event Space  \\\n",
       "0                  0                  0                     0            0   \n",
       "1                  0                  0                     0            0   \n",
       "2                  0                  0                     0            0   \n",
       "3                  0                  0                     0            0   \n",
       "4                  0                  0                     0            0   \n",
       "\n",
       "   Falafel Restaurant  Farm  Farmers Market  Fast Food Restaurant  Field  \\\n",
       "0                   0     0               0                     1      0   \n",
       "1                   0     0               0                     0      0   \n",
       "2                   0     0               0                     0      0   \n",
       "3                   0     0               0                     0      0   \n",
       "4                   0     0               0                     0      0   \n",
       "\n",
       "   Filipino Restaurant  Fish & Chips Shop  Fish Market  Flea Market  \\\n",
       "0                    0                  0            0            0   \n",
       "1                    1                  0            0            0   \n",
       "2                    0                  0            0            0   \n",
       "3                    0                  0            0            0   \n",
       "4                    0                  0            0            0   \n",
       "\n",
       "   Flower Shop  Food  Food & Drink Shop  Food Court  Food Truck  \\\n",
       "0            0     0                  0           0           0   \n",
       "1            0     0                  0           0           0   \n",
       "2            0     0                  0           0           0   \n",
       "3            0     0                  0           0           0   \n",
       "4            0     0                  0           0           0   \n",
       "\n",
       "   French Restaurant  Fried Chicken Joint  Frozen Yogurt Shop  \\\n",
       "0                  0                    1                   1   \n",
       "1                  0                    0                   0   \n",
       "2                  0                    0                   0   \n",
       "3                  1                    0                   0   \n",
       "4                  0                    0                   0   \n",
       "\n",
       "   Fruit & Vegetable Store  Furniture / Home Store  Gaming Cafe  Garden  \\\n",
       "0                        0                       0            0       0   \n",
       "1                        0                       0            0       0   \n",
       "2                        0                       0            0       0   \n",
       "3                        0                       0            0       0   \n",
       "4                        0                       0            0       0   \n",
       "\n",
       "   Garden Center  Gas Station  Gastropub  Gay Bar  General Entertainment  \\\n",
       "0              0            0          0        0                      0   \n",
       "1              0            0          0        0                      0   \n",
       "2              0            0          0        0                      0   \n",
       "3              0            0          0        0                      0   \n",
       "4              0            0          0        0                      0   \n",
       "\n",
       "   General Travel  German Restaurant  Gift Shop  Golf Driving Range  \\\n",
       "0               0                  0          0                   0   \n",
       "1               0                  0          0                   0   \n",
       "2               0                  0          0                   0   \n",
       "3               0                  0          0                   0   \n",
       "4               0                  0          0                   0   \n",
       "\n",
       "   Gourmet Shop  Government Building  Greek Restaurant  Grocery Store  Gym  \\\n",
       "0             0                    0                 0              0    0   \n",
       "1             0                    0                 0              0    0   \n",
       "2             0                    0                 0              0    0   \n",
       "3             0                    0                 0              0    0   \n",
       "4             2                    0                 0              0    0   \n",
       "\n",
       "   Gym / Fitness Center  Gym Pool  Hakka Restaurant  Halal Restaurant  \\\n",
       "0                     0         0                 0                 0   \n",
       "1                     0         0                 0                 0   \n",
       "2                     0         0                 0                 0   \n",
       "3                     0         0                 0                 0   \n",
       "4                     0         0                 0                 0   \n",
       "\n",
       "   Harbor / Marina  Hardware Store  Health & Beauty Service  Historic Site  \\\n",
       "0                0               0                        0              0   \n",
       "1                0               0                        0              0   \n",
       "2                0               0                        0              0   \n",
       "3                0               0                        0              0   \n",
       "4                0               0                        1              0   \n",
       "\n",
       "   History Museum  Hobby Shop  Hockey Arena  Hockey Field  Home Service  \\\n",
       "0               0           0             0             0             0   \n",
       "1               0           0             0             0             0   \n",
       "2               0           0             0             0             0   \n",
       "3               0           0             0             0             0   \n",
       "4               0           0             0             0             0   \n",
       "\n",
       "   Hookah Bar  Hostel  Hotel  Hotel Bar  Hotpot Restaurant  IT Services  \\\n",
       "0           0       0      0          0                  0            0   \n",
       "1           0       0      0          0                  0            0   \n",
       "2           0       0      0          0                  0            0   \n",
       "3           0       0      0          0                  0            0   \n",
       "4           0       0      0          0                  0            0   \n",
       "\n",
       "   Ice Cream Shop  Indian Chinese Restaurant  Indian Restaurant  \\\n",
       "0               0                          0                  0   \n",
       "1               0                          0                  0   \n",
       "2               0                          0                  0   \n",
       "3               0                          0                  1   \n",
       "4               0                          0                  0   \n",
       "\n",
       "   Indie Theater  Indonesian Restaurant  Indoor Play Area  Intersection  \\\n",
       "0              0                      0                 0             0   \n",
       "1              0                      0                 0             0   \n",
       "2              0                      0                 0             0   \n",
       "3              0                      0                 0             0   \n",
       "4              0                      0                 0             1   \n",
       "\n",
       "   Italian Restaurant  Japanese Restaurant  Jazz Club  Jewelry Store  \\\n",
       "0                   0                    1          0              0   \n",
       "1                   0                    0          0              0   \n",
       "2                   0                    0          0              0   \n",
       "3                   0                    0          0              0   \n",
       "4                   1                    0          0              0   \n",
       "\n",
       "   Juice Bar  Karaoke Bar  Kids Store  Korean Restaurant  Lake  \\\n",
       "0          0            0           0                  0     0   \n",
       "1          0            0           0                  0     0   \n",
       "2          0            0           0                  0     0   \n",
       "3          0            0           0                  0     0   \n",
       "4          0            0           0                  0     0   \n",
       "\n",
       "   Latin American Restaurant  Library  Light Rail Station  Lingerie Store  \\\n",
       "0                          0        0                   0               0   \n",
       "1                          0        0                   0               0   \n",
       "2                          0        0                   0               0   \n",
       "3                          0        0                   0               0   \n",
       "4                          0        0                   0               0   \n",
       "\n",
       "   Liquor Store  Locksmith  Lounge  Malay Restaurant  Market  \\\n",
       "0             1          0       0                 0       0   \n",
       "1             0          0       0                 1       0   \n",
       "2             0          0       0                 0       0   \n",
       "3             1          0       0                 0       0   \n",
       "4             1          0       0                 0       0   \n",
       "\n",
       "   Martial Arts School  Massage Studio  Mediterranean Restaurant  Men's Store  \\\n",
       "0                    0               0                         0            0   \n",
       "1                    0               0                         1            0   \n",
       "2                    0               0                         0            0   \n",
       "3                    0               0                         0            0   \n",
       "4                    0               0                         0            0   \n",
       "\n",
       "   Metro Station  Mexican Restaurant  Middle Eastern Restaurant  \\\n",
       "0              0                   0                          0   \n",
       "1              0                   0                          0   \n",
       "2              0                   0                          0   \n",
       "3              0                   0                          1   \n",
       "4              0                   0                          0   \n",
       "\n",
       "   Miscellaneous Shop  Mobile Phone Shop  Modern European Restaurant  \\\n",
       "0                   0                  0                           0   \n",
       "1                   0                  0                           0   \n",
       "2                   0                  0                           0   \n",
       "3                   0                  0                           0   \n",
       "4                   0                  0                           0   \n",
       "\n",
       "   Motorcycle Shop  Movie Theater  Moving Target  Museum  Music Venue  \\\n",
       "0                0              0              0       0            0   \n",
       "1                1              0              0       0            0   \n",
       "2                0              0              0       0            0   \n",
       "3                0              0              0       0            0   \n",
       "4                0              1              0       0            0   \n",
       "\n",
       "   Nail Salon  Neighborhood  New American Restaurant  Nightclub  Noodle House  \\\n",
       "0           0             0                        0          0             0   \n",
       "1           0             0                        0          0             1   \n",
       "2           0             0                        0          0             0   \n",
       "3           0             0                        0          0             0   \n",
       "4           0             0                        0          0             0   \n",
       "\n",
       "   North Indian Restaurant  Optical Shop  Organic Grocery  \\\n",
       "0                        0             0                0   \n",
       "1                        0             0                0   \n",
       "2                        0             0                0   \n",
       "3                        0             0                0   \n",
       "4                        0             0                0   \n",
       "\n",
       "   Other Great Outdoors  Pakistani Restaurant  Paper / Office Supplies Store  \\\n",
       "0                     0                     0                              0   \n",
       "1                     0                     0                              0   \n",
       "2                     0                     0                              0   \n",
       "3                     0                     0                              0   \n",
       "4                     0                     0                              0   \n",
       "\n",
       "   Park  Pastry Shop  Performing Arts Venue  Persian Restaurant  Pet Store  \\\n",
       "0     1            0                      0                   0          0   \n",
       "1     0            0                      0                   0          0   \n",
       "2     0            0                      0                   0          0   \n",
       "3     2            0                      0                   0          1   \n",
       "4     0            0                      0                   0          1   \n",
       "\n",
       "   Pharmacy  Photography Lab  Photography Studio  Pie Shop  Pizza Place  \\\n",
       "0         1                0                   0         0            1   \n",
       "1         0                0                   0         0            0   \n",
       "2         1                0                   0         0            2   \n",
       "3         1                0                   0         0            1   \n",
       "4         1                0                   0         0            2   \n",
       "\n",
       "   Platform  Playground  Plaza  Poke Place  Pool  Pool Hall  \\\n",
       "0         0           0      0           0     0          0   \n",
       "1         0           0      0           0     0          1   \n",
       "2         0           0      0           0     0          0   \n",
       "3         0           0      0           0     0          0   \n",
       "4         0           0      0           0     0          0   \n",
       "\n",
       "   Portuguese Restaurant  Poutine Place  Pub  Racetrack  Ramen Restaurant  \\\n",
       "0                      0              0    0          0                 0   \n",
       "1                      0              0    0          0                 0   \n",
       "2                      0              0    0          0                 0   \n",
       "3                      0              0    2          0                 0   \n",
       "4                      0              0    0          0                 0   \n",
       "\n",
       "   Record Shop  Rental Car Location  Residential Building (Apartment / Condo)  \\\n",
       "0            0                    0                                         0   \n",
       "1            0                    0                                         0   \n",
       "2            0                    0                                         0   \n",
       "3            0                    0                                         0   \n",
       "4            0                    0                                         0   \n",
       "\n",
       "   Restaurant  River  Road  Rock Climbing Spot  Rock Club  Salad Place  \\\n",
       "0           0      0     0                   0          0            0   \n",
       "1           1      0     0                   0          0            0   \n",
       "2           0      0     0                   0          0            0   \n",
       "3           0      0     0                   0          0            0   \n",
       "4           0      0     0                   0          0            0   \n",
       "\n",
       "   Salon / Barbershop  Sandwich Place  Scenic Lookout  School  Science Museum  \\\n",
       "0                   0               1               0       0               0   \n",
       "1                   0               0               0       0               0   \n",
       "2                   0               0               0       0               0   \n",
       "3                   0               2               0       0               0   \n",
       "4                   0               1               0       0               0   \n",
       "\n",
       "   Seafood Restaurant  Shoe Repair  Shoe Store  Shopping Mall  Shopping Plaza  \\\n",
       "0                   0            0           0              0               0   \n",
       "1                   1            0           0              2               0   \n",
       "2                   0            0           0              0               0   \n",
       "3                   0            1           0              0               0   \n",
       "4                   0            0           2              1               0   \n",
       "\n",
       "   Skating Rink  Smoke Shop  Snack Place  Soccer Field  Social Club  \\\n",
       "0             0           0            0             0            0   \n",
       "1             0           0            0             0            0   \n",
       "2             0           0            0             0            0   \n",
       "3             0           0            0             0            1   \n",
       "4             0           0            0             0            0   \n",
       "\n",
       "   South American Restaurant  South Indian Restaurant  Spa  Speakeasy  \\\n",
       "0                          0                        0    0          0   \n",
       "1                          0                        0    0          0   \n",
       "2                          0                        0    0          0   \n",
       "3                          0                        0    0          0   \n",
       "4                          0                        0    0          0   \n",
       "\n",
       "   Sporting Goods Shop  Sports Bar  Sri Lankan Restaurant  Steakhouse  \\\n",
       "0                    0           0                      0           0   \n",
       "1                    0           0                      0           0   \n",
       "2                    0           0                      0           0   \n",
       "3                    0           0                      0           0   \n",
       "4                    0           0                      0           0   \n",
       "\n",
       "   Storage Facility  Supermarket  Sushi Restaurant  Swiss Restaurant  \\\n",
       "0                 0            0                 0                 0   \n",
       "1                 0            0                 0                 0   \n",
       "2                 0            0                 0                 0   \n",
       "3                 0            0                 0                 0   \n",
       "4                 0            0                 0                 0   \n",
       "\n",
       "   Syrian Restaurant  Taco Place  Taiwanese Restaurant  Tapas Restaurant  \\\n",
       "0                  0           0                     0                 0   \n",
       "1                  0           0                     0                 0   \n",
       "2                  0           0                     0                 0   \n",
       "3                  0           0                     0                 0   \n",
       "4                  0           0                     0                 0   \n",
       "\n",
       "   Tattoo Parlor  Tea Room  Tennis Court  Thai Restaurant  Theater  \\\n",
       "0              0         0             0                0        0   \n",
       "1              0         0             0                0        0   \n",
       "2              0         0             0                0        0   \n",
       "3              0         0             0                0        0   \n",
       "4              0         0             0                0        0   \n",
       "\n",
       "   Theme Park  Theme Park Ride / Attraction  Thrift / Vintage Store  \\\n",
       "0           0                             0                       0   \n",
       "1           0                             0                       0   \n",
       "2           0                             0                       0   \n",
       "3           0                             0                       0   \n",
       "4           0                             0                       0   \n",
       "\n",
       "   Tibetan Restaurant  Toy / Game Store  Trail  Train Station  Tram Station  \\\n",
       "0                   0                 0      0              0             0   \n",
       "1                   0                 0      0              0             0   \n",
       "2                   0                 0      0              0             0   \n",
       "3                   0                 0      0              0             0   \n",
       "4                   0                 0      0              0             0   \n",
       "\n",
       "   Tree  Turkish Restaurant  Vegetarian / Vegan Restaurant  Video Game Store  \\\n",
       "0     0                   0                              0                 0   \n",
       "1     0                   0                              0                 0   \n",
       "2     0                   0                              0                 0   \n",
       "3     0                   0                              0                 0   \n",
       "4     0                   0                              0                 0   \n",
       "\n",
       "   Video Store  Vietnamese Restaurant  Warehouse Store  Wine Bar  Wine Shop  \\\n",
       "0            0                      1                0         0          0   \n",
       "1            0                      0                0         0          0   \n",
       "2            0                      0                0         0          0   \n",
       "3            0                      0                0         0          0   \n",
       "4            0                      0                0         0          0   \n",
       "\n",
       "   Wings Joint  Women's Store  Yoga Studio  Zoo  Zoo Exhibit  \n",
       "0            1              0            0    0            0  \n",
       "1            0              0            0    0            0  \n",
       "2            0              0            0    0            0  \n",
       "3            0              0            0    0            0  \n",
       "4            0              1            0    0            0  "
      ]
     },
     "execution_count": 19,
     "metadata": {},
     "output_type": "execute_result"
    }
   ],
   "source": [
    "# Coppy the toronto_grouped dataframe for further analysis\n",
    "tem = toronto_grouped.copy(deep=True)  \n",
    "# Avoid changes being made to the original dataframe\n",
    "tem.head()"
   ]
  },
  {
   "cell_type": "code",
   "execution_count": 20,
   "metadata": {},
   "outputs": [
    {
     "data": {
      "text/html": [
       "<div>\n",
       "<style scoped>\n",
       "    .dataframe tbody tr th:only-of-type {\n",
       "        vertical-align: middle;\n",
       "    }\n",
       "\n",
       "    .dataframe tbody tr th {\n",
       "        vertical-align: top;\n",
       "    }\n",
       "\n",
       "    .dataframe thead th {\n",
       "        text-align: right;\n",
       "    }\n",
       "</style>\n",
       "<table border=\"1\" class=\"dataframe\">\n",
       "  <thead>\n",
       "    <tr style=\"text-align: right;\">\n",
       "      <th></th>\n",
       "      <th>Venues</th>\n",
       "      <th>Total</th>\n",
       "    </tr>\n",
       "  </thead>\n",
       "  <tbody>\n",
       "    <tr>\n",
       "      <th>64</th>\n",
       "      <td>Coffee Shop</td>\n",
       "      <td>157</td>\n",
       "    </tr>\n",
       "    <tr>\n",
       "      <th>203</th>\n",
       "      <td>Park</td>\n",
       "      <td>84</td>\n",
       "    </tr>\n",
       "    <tr>\n",
       "      <th>49</th>\n",
       "      <td>Café</td>\n",
       "      <td>82</td>\n",
       "    </tr>\n",
       "    <tr>\n",
       "      <th>212</th>\n",
       "      <td>Pizza Place</td>\n",
       "      <td>79</td>\n",
       "    </tr>\n",
       "    <tr>\n",
       "      <th>234</th>\n",
       "      <td>Sandwich Place</td>\n",
       "      <td>62</td>\n",
       "    </tr>\n",
       "  </tbody>\n",
       "</table>\n",
       "</div>"
      ],
      "text/plain": [
       "             Venues  Total\n",
       "64      Coffee Shop    157\n",
       "203            Park     84\n",
       "49             Café     82\n",
       "212     Pizza Place     79\n",
       "234  Sandwich Place     62"
      ]
     },
     "execution_count": 20,
     "metadata": {},
     "output_type": "execute_result"
    }
   ],
   "source": [
    "# Transpose the dataframe above by removing the Neighbourhood name\n",
    "tem.rename(columns={'Neighbourhood Name':''},inplace=True)\n",
    "tem=tem.set_index('').T # Transpose function\n",
    "tem.reset_index(inplace=True) #set Dataframe index\n",
    "tem.rename(columns={'index':'Venues','Neighbourhood Name':''},inplace=True) # Rename columns\n",
    "tem['Total'] = tem.sum(axis=1) # Sum of venue catrgories\n",
    "tem=tem[['Venues','Total']] # Slice dataframe to show only relevant columns\n",
    "tem=tem.sort_values(by='Total', ascending=False) # Sort out venue categories in descending order\n",
    "tem.head() # Display top 5 rows"
   ]
  },
  {
   "cell_type": "markdown",
   "metadata": {},
   "source": [
    "### Visualizing Top Venues \n",
    "Using Plotly Express Library. Choosing legend value to seperate a category."
   ]
  },
  {
   "cell_type": "code",
   "execution_count": 21,
   "metadata": {},
   "outputs": [
    {
     "data": {
      "text/html": [
       "<div>\n",
       "<style scoped>\n",
       "    .dataframe tbody tr th:only-of-type {\n",
       "        vertical-align: middle;\n",
       "    }\n",
       "\n",
       "    .dataframe tbody tr th {\n",
       "        vertical-align: top;\n",
       "    }\n",
       "\n",
       "    .dataframe thead th {\n",
       "        text-align: right;\n",
       "    }\n",
       "</style>\n",
       "<table border=\"1\" class=\"dataframe\">\n",
       "  <thead>\n",
       "    <tr style=\"text-align: right;\">\n",
       "      <th></th>\n",
       "      <th>Neighbourhood Name</th>\n",
       "      <th>Total</th>\n",
       "    </tr>\n",
       "  </thead>\n",
       "  <tbody>\n",
       "    <tr>\n",
       "      <th>23</th>\n",
       "      <td>Church-Yonge Corridor</td>\n",
       "      <td>100</td>\n",
       "    </tr>\n",
       "    <tr>\n",
       "      <th>6</th>\n",
       "      <td>Bay Street Corridor</td>\n",
       "      <td>76</td>\n",
       "    </tr>\n",
       "    <tr>\n",
       "      <th>83</th>\n",
       "      <td>Mount Pleasant West</td>\n",
       "      <td>72</td>\n",
       "    </tr>\n",
       "    <tr>\n",
       "      <th>34</th>\n",
       "      <td>Dufferin Grove</td>\n",
       "      <td>68</td>\n",
       "    </tr>\n",
       "    <tr>\n",
       "      <th>59</th>\n",
       "      <td>Junction Area</td>\n",
       "      <td>58</td>\n",
       "    </tr>\n",
       "    <tr>\n",
       "      <th>62</th>\n",
       "      <td>Kensington-Chinatown</td>\n",
       "      <td>58</td>\n",
       "    </tr>\n",
       "    <tr>\n",
       "      <th>135</th>\n",
       "      <td>Yonge-St.Clair</td>\n",
       "      <td>55</td>\n",
       "    </tr>\n",
       "    <tr>\n",
       "      <th>19</th>\n",
       "      <td>Cabbagetown-South St. James Town</td>\n",
       "      <td>51</td>\n",
       "    </tr>\n",
       "    <tr>\n",
       "      <th>97</th>\n",
       "      <td>Playter Estates-Danforth</td>\n",
       "      <td>51</td>\n",
       "    </tr>\n",
       "    <tr>\n",
       "      <th>68</th>\n",
       "      <td>Lawrence Park North</td>\n",
       "      <td>48</td>\n",
       "    </tr>\n",
       "  </tbody>\n",
       "</table>\n",
       "</div>"
      ],
      "text/plain": [
       "                   Neighbourhood Name  Total\n",
       "23              Church-Yonge Corridor    100\n",
       "6                 Bay Street Corridor     76\n",
       "83                Mount Pleasant West     72\n",
       "34                     Dufferin Grove     68\n",
       "59                      Junction Area     58\n",
       "62               Kensington-Chinatown     58\n",
       "135                    Yonge-St.Clair     55\n",
       "19   Cabbagetown-South St. James Town     51\n",
       "97           Playter Estates-Danforth     51\n",
       "68                Lawrence Park North     48"
      ]
     },
     "execution_count": 21,
     "metadata": {},
     "output_type": "execute_result"
    }
   ],
   "source": [
    "# make a copy of the toronto_grouped dataframe again\n",
    "tem2=toronto_grouped.copy(deep=True)\n",
    "tem2['Total']=tem2.sum(axis=1)\n",
    "tem2=tem2[['Neighbourhood Name','Total']] # Slice dataframe\n",
    "tem2=tem2.sort_values(by='Total', ascending=False) # Sort Neighbourhood name in descending order\n",
    "tem2.head(10)"
   ]
  },
  {
   "cell_type": "code",
   "execution_count": 22,
   "metadata": {},
   "outputs": [
    {
     "data": {
      "application/vnd.plotly.v1+json": {
       "config": {
        "plotlyServerURL": "https://plotly.com"
       },
       "data": [
        {
         "alignmentgroup": "True",
         "hovertemplate": "Neighbourhood Name=%{x}<br>Total=%{y}<extra></extra>",
         "legendgroup": "Church-Yonge Corridor",
         "marker": {
          "color": "#636efa"
         },
         "name": "Church-Yonge Corridor",
         "offsetgroup": "Church-Yonge Corridor",
         "orientation": "v",
         "showlegend": true,
         "textposition": "auto",
         "type": "bar",
         "x": [
          "Church-Yonge Corridor"
         ],
         "xaxis": "x",
         "y": [
          100
         ],
         "yaxis": "y"
        },
        {
         "alignmentgroup": "True",
         "hovertemplate": "Neighbourhood Name=%{x}<br>Total=%{y}<extra></extra>",
         "legendgroup": "Bay Street Corridor",
         "marker": {
          "color": "#EF553B"
         },
         "name": "Bay Street Corridor",
         "offsetgroup": "Bay Street Corridor",
         "orientation": "v",
         "showlegend": true,
         "textposition": "auto",
         "type": "bar",
         "x": [
          "Bay Street Corridor"
         ],
         "xaxis": "x",
         "y": [
          76
         ],
         "yaxis": "y"
        },
        {
         "alignmentgroup": "True",
         "hovertemplate": "Neighbourhood Name=%{x}<br>Total=%{y}<extra></extra>",
         "legendgroup": "Mount Pleasant West",
         "marker": {
          "color": "#00cc96"
         },
         "name": "Mount Pleasant West",
         "offsetgroup": "Mount Pleasant West",
         "orientation": "v",
         "showlegend": true,
         "textposition": "auto",
         "type": "bar",
         "x": [
          "Mount Pleasant West"
         ],
         "xaxis": "x",
         "y": [
          72
         ],
         "yaxis": "y"
        },
        {
         "alignmentgroup": "True",
         "hovertemplate": "Neighbourhood Name=%{x}<br>Total=%{y}<extra></extra>",
         "legendgroup": "Dufferin Grove",
         "marker": {
          "color": "#ab63fa"
         },
         "name": "Dufferin Grove",
         "offsetgroup": "Dufferin Grove",
         "orientation": "v",
         "showlegend": true,
         "textposition": "auto",
         "type": "bar",
         "x": [
          "Dufferin Grove"
         ],
         "xaxis": "x",
         "y": [
          68
         ],
         "yaxis": "y"
        },
        {
         "alignmentgroup": "True",
         "hovertemplate": "Neighbourhood Name=%{x}<br>Total=%{y}<extra></extra>",
         "legendgroup": "Junction Area",
         "marker": {
          "color": "#FFA15A"
         },
         "name": "Junction Area",
         "offsetgroup": "Junction Area",
         "orientation": "v",
         "showlegend": true,
         "textposition": "auto",
         "type": "bar",
         "x": [
          "Junction Area"
         ],
         "xaxis": "x",
         "y": [
          58
         ],
         "yaxis": "y"
        },
        {
         "alignmentgroup": "True",
         "hovertemplate": "Neighbourhood Name=%{x}<br>Total=%{y}<extra></extra>",
         "legendgroup": "Kensington-Chinatown",
         "marker": {
          "color": "#19d3f3"
         },
         "name": "Kensington-Chinatown",
         "offsetgroup": "Kensington-Chinatown",
         "orientation": "v",
         "showlegend": true,
         "textposition": "auto",
         "type": "bar",
         "x": [
          "Kensington-Chinatown"
         ],
         "xaxis": "x",
         "y": [
          58
         ],
         "yaxis": "y"
        },
        {
         "alignmentgroup": "True",
         "hovertemplate": "Neighbourhood Name=%{x}<br>Total=%{y}<extra></extra>",
         "legendgroup": "Yonge-St.Clair",
         "marker": {
          "color": "#FF6692"
         },
         "name": "Yonge-St.Clair",
         "offsetgroup": "Yonge-St.Clair",
         "orientation": "v",
         "showlegend": true,
         "textposition": "auto",
         "type": "bar",
         "x": [
          "Yonge-St.Clair"
         ],
         "xaxis": "x",
         "y": [
          55
         ],
         "yaxis": "y"
        },
        {
         "alignmentgroup": "True",
         "hovertemplate": "Neighbourhood Name=%{x}<br>Total=%{y}<extra></extra>",
         "legendgroup": "Cabbagetown-South St. James Town",
         "marker": {
          "color": "#B6E880"
         },
         "name": "Cabbagetown-South St. James Town",
         "offsetgroup": "Cabbagetown-South St. James Town",
         "orientation": "v",
         "showlegend": true,
         "textposition": "auto",
         "type": "bar",
         "x": [
          "Cabbagetown-South St. James Town"
         ],
         "xaxis": "x",
         "y": [
          51
         ],
         "yaxis": "y"
        },
        {
         "alignmentgroup": "True",
         "hovertemplate": "Neighbourhood Name=%{x}<br>Total=%{y}<extra></extra>",
         "legendgroup": "Playter Estates-Danforth",
         "marker": {
          "color": "#FF97FF"
         },
         "name": "Playter Estates-Danforth",
         "offsetgroup": "Playter Estates-Danforth",
         "orientation": "v",
         "showlegend": true,
         "textposition": "auto",
         "type": "bar",
         "x": [
          "Playter Estates-Danforth"
         ],
         "xaxis": "x",
         "y": [
          51
         ],
         "yaxis": "y"
        }
       ],
       "layout": {
        "barmode": "relative",
        "legend": {
         "title": {
          "text": "Neighbourhood Name"
         },
         "tracegroupgap": 0
        },
        "margin": {
         "b": 0,
         "l": 0,
         "r": 0,
         "t": 30
        },
        "template": {
         "data": {
          "bar": [
           {
            "error_x": {
             "color": "#2a3f5f"
            },
            "error_y": {
             "color": "#2a3f5f"
            },
            "marker": {
             "line": {
              "color": "#E5ECF6",
              "width": 0.5
             }
            },
            "type": "bar"
           }
          ],
          "barpolar": [
           {
            "marker": {
             "line": {
              "color": "#E5ECF6",
              "width": 0.5
             }
            },
            "type": "barpolar"
           }
          ],
          "carpet": [
           {
            "aaxis": {
             "endlinecolor": "#2a3f5f",
             "gridcolor": "white",
             "linecolor": "white",
             "minorgridcolor": "white",
             "startlinecolor": "#2a3f5f"
            },
            "baxis": {
             "endlinecolor": "#2a3f5f",
             "gridcolor": "white",
             "linecolor": "white",
             "minorgridcolor": "white",
             "startlinecolor": "#2a3f5f"
            },
            "type": "carpet"
           }
          ],
          "choropleth": [
           {
            "colorbar": {
             "outlinewidth": 0,
             "ticks": ""
            },
            "type": "choropleth"
           }
          ],
          "contour": [
           {
            "colorbar": {
             "outlinewidth": 0,
             "ticks": ""
            },
            "colorscale": [
             [
              0,
              "#0d0887"
             ],
             [
              0.1111111111111111,
              "#46039f"
             ],
             [
              0.2222222222222222,
              "#7201a8"
             ],
             [
              0.3333333333333333,
              "#9c179e"
             ],
             [
              0.4444444444444444,
              "#bd3786"
             ],
             [
              0.5555555555555556,
              "#d8576b"
             ],
             [
              0.6666666666666666,
              "#ed7953"
             ],
             [
              0.7777777777777778,
              "#fb9f3a"
             ],
             [
              0.8888888888888888,
              "#fdca26"
             ],
             [
              1,
              "#f0f921"
             ]
            ],
            "type": "contour"
           }
          ],
          "contourcarpet": [
           {
            "colorbar": {
             "outlinewidth": 0,
             "ticks": ""
            },
            "type": "contourcarpet"
           }
          ],
          "heatmap": [
           {
            "colorbar": {
             "outlinewidth": 0,
             "ticks": ""
            },
            "colorscale": [
             [
              0,
              "#0d0887"
             ],
             [
              0.1111111111111111,
              "#46039f"
             ],
             [
              0.2222222222222222,
              "#7201a8"
             ],
             [
              0.3333333333333333,
              "#9c179e"
             ],
             [
              0.4444444444444444,
              "#bd3786"
             ],
             [
              0.5555555555555556,
              "#d8576b"
             ],
             [
              0.6666666666666666,
              "#ed7953"
             ],
             [
              0.7777777777777778,
              "#fb9f3a"
             ],
             [
              0.8888888888888888,
              "#fdca26"
             ],
             [
              1,
              "#f0f921"
             ]
            ],
            "type": "heatmap"
           }
          ],
          "heatmapgl": [
           {
            "colorbar": {
             "outlinewidth": 0,
             "ticks": ""
            },
            "colorscale": [
             [
              0,
              "#0d0887"
             ],
             [
              0.1111111111111111,
              "#46039f"
             ],
             [
              0.2222222222222222,
              "#7201a8"
             ],
             [
              0.3333333333333333,
              "#9c179e"
             ],
             [
              0.4444444444444444,
              "#bd3786"
             ],
             [
              0.5555555555555556,
              "#d8576b"
             ],
             [
              0.6666666666666666,
              "#ed7953"
             ],
             [
              0.7777777777777778,
              "#fb9f3a"
             ],
             [
              0.8888888888888888,
              "#fdca26"
             ],
             [
              1,
              "#f0f921"
             ]
            ],
            "type": "heatmapgl"
           }
          ],
          "histogram": [
           {
            "marker": {
             "colorbar": {
              "outlinewidth": 0,
              "ticks": ""
             }
            },
            "type": "histogram"
           }
          ],
          "histogram2d": [
           {
            "colorbar": {
             "outlinewidth": 0,
             "ticks": ""
            },
            "colorscale": [
             [
              0,
              "#0d0887"
             ],
             [
              0.1111111111111111,
              "#46039f"
             ],
             [
              0.2222222222222222,
              "#7201a8"
             ],
             [
              0.3333333333333333,
              "#9c179e"
             ],
             [
              0.4444444444444444,
              "#bd3786"
             ],
             [
              0.5555555555555556,
              "#d8576b"
             ],
             [
              0.6666666666666666,
              "#ed7953"
             ],
             [
              0.7777777777777778,
              "#fb9f3a"
             ],
             [
              0.8888888888888888,
              "#fdca26"
             ],
             [
              1,
              "#f0f921"
             ]
            ],
            "type": "histogram2d"
           }
          ],
          "histogram2dcontour": [
           {
            "colorbar": {
             "outlinewidth": 0,
             "ticks": ""
            },
            "colorscale": [
             [
              0,
              "#0d0887"
             ],
             [
              0.1111111111111111,
              "#46039f"
             ],
             [
              0.2222222222222222,
              "#7201a8"
             ],
             [
              0.3333333333333333,
              "#9c179e"
             ],
             [
              0.4444444444444444,
              "#bd3786"
             ],
             [
              0.5555555555555556,
              "#d8576b"
             ],
             [
              0.6666666666666666,
              "#ed7953"
             ],
             [
              0.7777777777777778,
              "#fb9f3a"
             ],
             [
              0.8888888888888888,
              "#fdca26"
             ],
             [
              1,
              "#f0f921"
             ]
            ],
            "type": "histogram2dcontour"
           }
          ],
          "mesh3d": [
           {
            "colorbar": {
             "outlinewidth": 0,
             "ticks": ""
            },
            "type": "mesh3d"
           }
          ],
          "parcoords": [
           {
            "line": {
             "colorbar": {
              "outlinewidth": 0,
              "ticks": ""
             }
            },
            "type": "parcoords"
           }
          ],
          "pie": [
           {
            "automargin": true,
            "type": "pie"
           }
          ],
          "scatter": [
           {
            "marker": {
             "colorbar": {
              "outlinewidth": 0,
              "ticks": ""
             }
            },
            "type": "scatter"
           }
          ],
          "scatter3d": [
           {
            "line": {
             "colorbar": {
              "outlinewidth": 0,
              "ticks": ""
             }
            },
            "marker": {
             "colorbar": {
              "outlinewidth": 0,
              "ticks": ""
             }
            },
            "type": "scatter3d"
           }
          ],
          "scattercarpet": [
           {
            "marker": {
             "colorbar": {
              "outlinewidth": 0,
              "ticks": ""
             }
            },
            "type": "scattercarpet"
           }
          ],
          "scattergeo": [
           {
            "marker": {
             "colorbar": {
              "outlinewidth": 0,
              "ticks": ""
             }
            },
            "type": "scattergeo"
           }
          ],
          "scattergl": [
           {
            "marker": {
             "colorbar": {
              "outlinewidth": 0,
              "ticks": ""
             }
            },
            "type": "scattergl"
           }
          ],
          "scattermapbox": [
           {
            "marker": {
             "colorbar": {
              "outlinewidth": 0,
              "ticks": ""
             }
            },
            "type": "scattermapbox"
           }
          ],
          "scatterpolar": [
           {
            "marker": {
             "colorbar": {
              "outlinewidth": 0,
              "ticks": ""
             }
            },
            "type": "scatterpolar"
           }
          ],
          "scatterpolargl": [
           {
            "marker": {
             "colorbar": {
              "outlinewidth": 0,
              "ticks": ""
             }
            },
            "type": "scatterpolargl"
           }
          ],
          "scatterternary": [
           {
            "marker": {
             "colorbar": {
              "outlinewidth": 0,
              "ticks": ""
             }
            },
            "type": "scatterternary"
           }
          ],
          "surface": [
           {
            "colorbar": {
             "outlinewidth": 0,
             "ticks": ""
            },
            "colorscale": [
             [
              0,
              "#0d0887"
             ],
             [
              0.1111111111111111,
              "#46039f"
             ],
             [
              0.2222222222222222,
              "#7201a8"
             ],
             [
              0.3333333333333333,
              "#9c179e"
             ],
             [
              0.4444444444444444,
              "#bd3786"
             ],
             [
              0.5555555555555556,
              "#d8576b"
             ],
             [
              0.6666666666666666,
              "#ed7953"
             ],
             [
              0.7777777777777778,
              "#fb9f3a"
             ],
             [
              0.8888888888888888,
              "#fdca26"
             ],
             [
              1,
              "#f0f921"
             ]
            ],
            "type": "surface"
           }
          ],
          "table": [
           {
            "cells": {
             "fill": {
              "color": "#EBF0F8"
             },
             "line": {
              "color": "white"
             }
            },
            "header": {
             "fill": {
              "color": "#C8D4E3"
             },
             "line": {
              "color": "white"
             }
            },
            "type": "table"
           }
          ]
         },
         "layout": {
          "annotationdefaults": {
           "arrowcolor": "#2a3f5f",
           "arrowhead": 0,
           "arrowwidth": 1
          },
          "coloraxis": {
           "colorbar": {
            "outlinewidth": 0,
            "ticks": ""
           }
          },
          "colorscale": {
           "diverging": [
            [
             0,
             "#8e0152"
            ],
            [
             0.1,
             "#c51b7d"
            ],
            [
             0.2,
             "#de77ae"
            ],
            [
             0.3,
             "#f1b6da"
            ],
            [
             0.4,
             "#fde0ef"
            ],
            [
             0.5,
             "#f7f7f7"
            ],
            [
             0.6,
             "#e6f5d0"
            ],
            [
             0.7,
             "#b8e186"
            ],
            [
             0.8,
             "#7fbc41"
            ],
            [
             0.9,
             "#4d9221"
            ],
            [
             1,
             "#276419"
            ]
           ],
           "sequential": [
            [
             0,
             "#0d0887"
            ],
            [
             0.1111111111111111,
             "#46039f"
            ],
            [
             0.2222222222222222,
             "#7201a8"
            ],
            [
             0.3333333333333333,
             "#9c179e"
            ],
            [
             0.4444444444444444,
             "#bd3786"
            ],
            [
             0.5555555555555556,
             "#d8576b"
            ],
            [
             0.6666666666666666,
             "#ed7953"
            ],
            [
             0.7777777777777778,
             "#fb9f3a"
            ],
            [
             0.8888888888888888,
             "#fdca26"
            ],
            [
             1,
             "#f0f921"
            ]
           ],
           "sequentialminus": [
            [
             0,
             "#0d0887"
            ],
            [
             0.1111111111111111,
             "#46039f"
            ],
            [
             0.2222222222222222,
             "#7201a8"
            ],
            [
             0.3333333333333333,
             "#9c179e"
            ],
            [
             0.4444444444444444,
             "#bd3786"
            ],
            [
             0.5555555555555556,
             "#d8576b"
            ],
            [
             0.6666666666666666,
             "#ed7953"
            ],
            [
             0.7777777777777778,
             "#fb9f3a"
            ],
            [
             0.8888888888888888,
             "#fdca26"
            ],
            [
             1,
             "#f0f921"
            ]
           ]
          },
          "colorway": [
           "#636efa",
           "#EF553B",
           "#00cc96",
           "#ab63fa",
           "#FFA15A",
           "#19d3f3",
           "#FF6692",
           "#B6E880",
           "#FF97FF",
           "#FECB52"
          ],
          "font": {
           "color": "#2a3f5f"
          },
          "geo": {
           "bgcolor": "white",
           "lakecolor": "white",
           "landcolor": "#E5ECF6",
           "showlakes": true,
           "showland": true,
           "subunitcolor": "white"
          },
          "hoverlabel": {
           "align": "left"
          },
          "hovermode": "closest",
          "mapbox": {
           "style": "light"
          },
          "paper_bgcolor": "white",
          "plot_bgcolor": "#E5ECF6",
          "polar": {
           "angularaxis": {
            "gridcolor": "white",
            "linecolor": "white",
            "ticks": ""
           },
           "bgcolor": "#E5ECF6",
           "radialaxis": {
            "gridcolor": "white",
            "linecolor": "white",
            "ticks": ""
           }
          },
          "scene": {
           "xaxis": {
            "backgroundcolor": "#E5ECF6",
            "gridcolor": "white",
            "gridwidth": 2,
            "linecolor": "white",
            "showbackground": true,
            "ticks": "",
            "zerolinecolor": "white"
           },
           "yaxis": {
            "backgroundcolor": "#E5ECF6",
            "gridcolor": "white",
            "gridwidth": 2,
            "linecolor": "white",
            "showbackground": true,
            "ticks": "",
            "zerolinecolor": "white"
           },
           "zaxis": {
            "backgroundcolor": "#E5ECF6",
            "gridcolor": "white",
            "gridwidth": 2,
            "linecolor": "white",
            "showbackground": true,
            "ticks": "",
            "zerolinecolor": "white"
           }
          },
          "shapedefaults": {
           "line": {
            "color": "#2a3f5f"
           }
          },
          "ternary": {
           "aaxis": {
            "gridcolor": "white",
            "linecolor": "white",
            "ticks": ""
           },
           "baxis": {
            "gridcolor": "white",
            "linecolor": "white",
            "ticks": ""
           },
           "bgcolor": "#E5ECF6",
           "caxis": {
            "gridcolor": "white",
            "linecolor": "white",
            "ticks": ""
           }
          },
          "title": {
           "x": 0.05
          },
          "xaxis": {
           "automargin": true,
           "gridcolor": "white",
           "linecolor": "white",
           "ticks": "",
           "title": {
            "standoff": 15
           },
           "zerolinecolor": "white",
           "zerolinewidth": 2
          },
          "yaxis": {
           "automargin": true,
           "gridcolor": "white",
           "linecolor": "white",
           "ticks": "",
           "title": {
            "standoff": 15
           },
           "zerolinecolor": "white",
           "zerolinewidth": 2
          }
         }
        },
        "title": {
         "text": "Toronto Neighbourhoods with most venues"
        },
        "xaxis": {
         "anchor": "y",
         "categoryarray": [
          "Church-Yonge Corridor",
          "Bay Street Corridor",
          "Mount Pleasant West",
          "Dufferin Grove",
          "Junction Area",
          "Kensington-Chinatown",
          "Yonge-St.Clair",
          "Cabbagetown-South St. James Town",
          "Playter Estates-Danforth"
         ],
         "categoryorder": "array",
         "domain": [
          0,
          1
         ],
         "showticklabels": false,
         "title": {
          "text": "Neighbourhood Name"
         }
        },
        "yaxis": {
         "anchor": "x",
         "domain": [
          0,
          1
         ],
         "title": {
          "text": "Total"
         }
        }
       }
      },
      "text/html": [
       "<div>                            <div id=\"aa6e385b-ec94-487c-bf11-9c45231ce593\" class=\"plotly-graph-div\" style=\"height:525px; width:100%;\"></div>            <script type=\"text/javascript\">                require([\"plotly\"], function(Plotly) {                    window.PLOTLYENV=window.PLOTLYENV || {};                                    if (document.getElementById(\"aa6e385b-ec94-487c-bf11-9c45231ce593\")) {                    Plotly.newPlot(                        \"aa6e385b-ec94-487c-bf11-9c45231ce593\",                        [{\"alignmentgroup\": \"True\", \"hovertemplate\": \"Neighbourhood Name=%{x}<br>Total=%{y}<extra></extra>\", \"legendgroup\": \"Church-Yonge Corridor\", \"marker\": {\"color\": \"#636efa\"}, \"name\": \"Church-Yonge Corridor\", \"offsetgroup\": \"Church-Yonge Corridor\", \"orientation\": \"v\", \"showlegend\": true, \"textposition\": \"auto\", \"type\": \"bar\", \"x\": [\"Church-Yonge Corridor\"], \"xaxis\": \"x\", \"y\": [100], \"yaxis\": \"y\"}, {\"alignmentgroup\": \"True\", \"hovertemplate\": \"Neighbourhood Name=%{x}<br>Total=%{y}<extra></extra>\", \"legendgroup\": \"Bay Street Corridor\", \"marker\": {\"color\": \"#EF553B\"}, \"name\": \"Bay Street Corridor\", \"offsetgroup\": \"Bay Street Corridor\", \"orientation\": \"v\", \"showlegend\": true, \"textposition\": \"auto\", \"type\": \"bar\", \"x\": [\"Bay Street Corridor\"], \"xaxis\": \"x\", \"y\": [76], \"yaxis\": \"y\"}, {\"alignmentgroup\": \"True\", \"hovertemplate\": \"Neighbourhood Name=%{x}<br>Total=%{y}<extra></extra>\", \"legendgroup\": \"Mount Pleasant West\", \"marker\": {\"color\": \"#00cc96\"}, \"name\": \"Mount Pleasant West\", \"offsetgroup\": \"Mount Pleasant West\", \"orientation\": \"v\", \"showlegend\": true, \"textposition\": \"auto\", \"type\": \"bar\", \"x\": [\"Mount Pleasant West\"], \"xaxis\": \"x\", \"y\": [72], \"yaxis\": \"y\"}, {\"alignmentgroup\": \"True\", \"hovertemplate\": \"Neighbourhood Name=%{x}<br>Total=%{y}<extra></extra>\", \"legendgroup\": \"Dufferin Grove\", \"marker\": {\"color\": \"#ab63fa\"}, \"name\": \"Dufferin Grove\", \"offsetgroup\": \"Dufferin Grove\", \"orientation\": \"v\", \"showlegend\": true, \"textposition\": \"auto\", \"type\": \"bar\", \"x\": [\"Dufferin Grove\"], \"xaxis\": \"x\", \"y\": [68], \"yaxis\": \"y\"}, {\"alignmentgroup\": \"True\", \"hovertemplate\": \"Neighbourhood Name=%{x}<br>Total=%{y}<extra></extra>\", \"legendgroup\": \"Junction Area\", \"marker\": {\"color\": \"#FFA15A\"}, \"name\": \"Junction Area\", \"offsetgroup\": \"Junction Area\", \"orientation\": \"v\", \"showlegend\": true, \"textposition\": \"auto\", \"type\": \"bar\", \"x\": [\"Junction Area\"], \"xaxis\": \"x\", \"y\": [58], \"yaxis\": \"y\"}, {\"alignmentgroup\": \"True\", \"hovertemplate\": \"Neighbourhood Name=%{x}<br>Total=%{y}<extra></extra>\", \"legendgroup\": \"Kensington-Chinatown\", \"marker\": {\"color\": \"#19d3f3\"}, \"name\": \"Kensington-Chinatown\", \"offsetgroup\": \"Kensington-Chinatown\", \"orientation\": \"v\", \"showlegend\": true, \"textposition\": \"auto\", \"type\": \"bar\", \"x\": [\"Kensington-Chinatown\"], \"xaxis\": \"x\", \"y\": [58], \"yaxis\": \"y\"}, {\"alignmentgroup\": \"True\", \"hovertemplate\": \"Neighbourhood Name=%{x}<br>Total=%{y}<extra></extra>\", \"legendgroup\": \"Yonge-St.Clair\", \"marker\": {\"color\": \"#FF6692\"}, \"name\": \"Yonge-St.Clair\", \"offsetgroup\": \"Yonge-St.Clair\", \"orientation\": \"v\", \"showlegend\": true, \"textposition\": \"auto\", \"type\": \"bar\", \"x\": [\"Yonge-St.Clair\"], \"xaxis\": \"x\", \"y\": [55], \"yaxis\": \"y\"}, {\"alignmentgroup\": \"True\", \"hovertemplate\": \"Neighbourhood Name=%{x}<br>Total=%{y}<extra></extra>\", \"legendgroup\": \"Cabbagetown-South St. James Town\", \"marker\": {\"color\": \"#B6E880\"}, \"name\": \"Cabbagetown-South St. James Town\", \"offsetgroup\": \"Cabbagetown-South St. James Town\", \"orientation\": \"v\", \"showlegend\": true, \"textposition\": \"auto\", \"type\": \"bar\", \"x\": [\"Cabbagetown-South St. James Town\"], \"xaxis\": \"x\", \"y\": [51], \"yaxis\": \"y\"}, {\"alignmentgroup\": \"True\", \"hovertemplate\": \"Neighbourhood Name=%{x}<br>Total=%{y}<extra></extra>\", \"legendgroup\": \"Playter Estates-Danforth\", \"marker\": {\"color\": \"#FF97FF\"}, \"name\": \"Playter Estates-Danforth\", \"offsetgroup\": \"Playter Estates-Danforth\", \"orientation\": \"v\", \"showlegend\": true, \"textposition\": \"auto\", \"type\": \"bar\", \"x\": [\"Playter Estates-Danforth\"], \"xaxis\": \"x\", \"y\": [51], \"yaxis\": \"y\"}],                        {\"barmode\": \"relative\", \"legend\": {\"title\": {\"text\": \"Neighbourhood Name\"}, \"tracegroupgap\": 0}, \"margin\": {\"b\": 0, \"l\": 0, \"r\": 0, \"t\": 30}, \"template\": {\"data\": {\"bar\": [{\"error_x\": {\"color\": \"#2a3f5f\"}, \"error_y\": {\"color\": \"#2a3f5f\"}, \"marker\": {\"line\": {\"color\": \"#E5ECF6\", \"width\": 0.5}}, \"type\": \"bar\"}], \"barpolar\": [{\"marker\": {\"line\": {\"color\": \"#E5ECF6\", \"width\": 0.5}}, \"type\": \"barpolar\"}], \"carpet\": [{\"aaxis\": {\"endlinecolor\": \"#2a3f5f\", \"gridcolor\": \"white\", \"linecolor\": \"white\", \"minorgridcolor\": \"white\", \"startlinecolor\": \"#2a3f5f\"}, \"baxis\": {\"endlinecolor\": \"#2a3f5f\", \"gridcolor\": \"white\", \"linecolor\": \"white\", \"minorgridcolor\": \"white\", \"startlinecolor\": \"#2a3f5f\"}, \"type\": \"carpet\"}], \"choropleth\": [{\"colorbar\": {\"outlinewidth\": 0, \"ticks\": \"\"}, \"type\": \"choropleth\"}], \"contour\": [{\"colorbar\": {\"outlinewidth\": 0, \"ticks\": \"\"}, \"colorscale\": [[0.0, \"#0d0887\"], [0.1111111111111111, \"#46039f\"], [0.2222222222222222, \"#7201a8\"], [0.3333333333333333, \"#9c179e\"], [0.4444444444444444, \"#bd3786\"], [0.5555555555555556, \"#d8576b\"], [0.6666666666666666, \"#ed7953\"], [0.7777777777777778, \"#fb9f3a\"], [0.8888888888888888, \"#fdca26\"], [1.0, \"#f0f921\"]], \"type\": \"contour\"}], \"contourcarpet\": [{\"colorbar\": {\"outlinewidth\": 0, \"ticks\": \"\"}, \"type\": \"contourcarpet\"}], \"heatmap\": [{\"colorbar\": {\"outlinewidth\": 0, \"ticks\": \"\"}, \"colorscale\": [[0.0, \"#0d0887\"], [0.1111111111111111, \"#46039f\"], [0.2222222222222222, \"#7201a8\"], [0.3333333333333333, \"#9c179e\"], [0.4444444444444444, \"#bd3786\"], [0.5555555555555556, \"#d8576b\"], [0.6666666666666666, \"#ed7953\"], [0.7777777777777778, \"#fb9f3a\"], [0.8888888888888888, \"#fdca26\"], [1.0, \"#f0f921\"]], \"type\": \"heatmap\"}], \"heatmapgl\": [{\"colorbar\": {\"outlinewidth\": 0, \"ticks\": \"\"}, \"colorscale\": [[0.0, \"#0d0887\"], [0.1111111111111111, \"#46039f\"], [0.2222222222222222, \"#7201a8\"], [0.3333333333333333, \"#9c179e\"], [0.4444444444444444, \"#bd3786\"], [0.5555555555555556, \"#d8576b\"], [0.6666666666666666, \"#ed7953\"], [0.7777777777777778, \"#fb9f3a\"], [0.8888888888888888, \"#fdca26\"], [1.0, \"#f0f921\"]], \"type\": \"heatmapgl\"}], \"histogram\": [{\"marker\": {\"colorbar\": {\"outlinewidth\": 0, \"ticks\": \"\"}}, \"type\": \"histogram\"}], \"histogram2d\": [{\"colorbar\": {\"outlinewidth\": 0, \"ticks\": \"\"}, \"colorscale\": [[0.0, \"#0d0887\"], [0.1111111111111111, \"#46039f\"], [0.2222222222222222, \"#7201a8\"], [0.3333333333333333, \"#9c179e\"], [0.4444444444444444, \"#bd3786\"], [0.5555555555555556, \"#d8576b\"], [0.6666666666666666, \"#ed7953\"], [0.7777777777777778, \"#fb9f3a\"], [0.8888888888888888, \"#fdca26\"], [1.0, \"#f0f921\"]], \"type\": \"histogram2d\"}], \"histogram2dcontour\": [{\"colorbar\": {\"outlinewidth\": 0, \"ticks\": \"\"}, \"colorscale\": [[0.0, \"#0d0887\"], [0.1111111111111111, \"#46039f\"], [0.2222222222222222, \"#7201a8\"], [0.3333333333333333, \"#9c179e\"], [0.4444444444444444, \"#bd3786\"], [0.5555555555555556, \"#d8576b\"], [0.6666666666666666, \"#ed7953\"], [0.7777777777777778, \"#fb9f3a\"], [0.8888888888888888, \"#fdca26\"], [1.0, \"#f0f921\"]], \"type\": \"histogram2dcontour\"}], \"mesh3d\": [{\"colorbar\": {\"outlinewidth\": 0, \"ticks\": \"\"}, \"type\": \"mesh3d\"}], \"parcoords\": [{\"line\": {\"colorbar\": {\"outlinewidth\": 0, \"ticks\": \"\"}}, \"type\": \"parcoords\"}], \"pie\": [{\"automargin\": true, \"type\": \"pie\"}], \"scatter\": [{\"marker\": {\"colorbar\": {\"outlinewidth\": 0, \"ticks\": \"\"}}, \"type\": \"scatter\"}], \"scatter3d\": [{\"line\": {\"colorbar\": {\"outlinewidth\": 0, \"ticks\": \"\"}}, \"marker\": {\"colorbar\": {\"outlinewidth\": 0, \"ticks\": \"\"}}, \"type\": \"scatter3d\"}], \"scattercarpet\": [{\"marker\": {\"colorbar\": {\"outlinewidth\": 0, \"ticks\": \"\"}}, \"type\": \"scattercarpet\"}], \"scattergeo\": [{\"marker\": {\"colorbar\": {\"outlinewidth\": 0, \"ticks\": \"\"}}, \"type\": \"scattergeo\"}], \"scattergl\": [{\"marker\": {\"colorbar\": {\"outlinewidth\": 0, \"ticks\": \"\"}}, \"type\": \"scattergl\"}], \"scattermapbox\": [{\"marker\": {\"colorbar\": {\"outlinewidth\": 0, \"ticks\": \"\"}}, \"type\": \"scattermapbox\"}], \"scatterpolar\": [{\"marker\": {\"colorbar\": {\"outlinewidth\": 0, \"ticks\": \"\"}}, \"type\": \"scatterpolar\"}], \"scatterpolargl\": [{\"marker\": {\"colorbar\": {\"outlinewidth\": 0, \"ticks\": \"\"}}, \"type\": \"scatterpolargl\"}], \"scatterternary\": [{\"marker\": {\"colorbar\": {\"outlinewidth\": 0, \"ticks\": \"\"}}, \"type\": \"scatterternary\"}], \"surface\": [{\"colorbar\": {\"outlinewidth\": 0, \"ticks\": \"\"}, \"colorscale\": [[0.0, \"#0d0887\"], [0.1111111111111111, \"#46039f\"], [0.2222222222222222, \"#7201a8\"], [0.3333333333333333, \"#9c179e\"], [0.4444444444444444, \"#bd3786\"], [0.5555555555555556, \"#d8576b\"], [0.6666666666666666, \"#ed7953\"], [0.7777777777777778, \"#fb9f3a\"], [0.8888888888888888, \"#fdca26\"], [1.0, \"#f0f921\"]], \"type\": \"surface\"}], \"table\": [{\"cells\": {\"fill\": {\"color\": \"#EBF0F8\"}, \"line\": {\"color\": \"white\"}}, \"header\": {\"fill\": {\"color\": \"#C8D4E3\"}, \"line\": {\"color\": \"white\"}}, \"type\": \"table\"}]}, \"layout\": {\"annotationdefaults\": {\"arrowcolor\": \"#2a3f5f\", \"arrowhead\": 0, \"arrowwidth\": 1}, \"coloraxis\": {\"colorbar\": {\"outlinewidth\": 0, \"ticks\": \"\"}}, \"colorscale\": {\"diverging\": [[0, \"#8e0152\"], [0.1, \"#c51b7d\"], [0.2, \"#de77ae\"], [0.3, \"#f1b6da\"], [0.4, \"#fde0ef\"], [0.5, \"#f7f7f7\"], [0.6, \"#e6f5d0\"], [0.7, \"#b8e186\"], [0.8, \"#7fbc41\"], [0.9, \"#4d9221\"], [1, \"#276419\"]], \"sequential\": [[0.0, \"#0d0887\"], [0.1111111111111111, \"#46039f\"], [0.2222222222222222, \"#7201a8\"], [0.3333333333333333, \"#9c179e\"], [0.4444444444444444, \"#bd3786\"], [0.5555555555555556, \"#d8576b\"], [0.6666666666666666, \"#ed7953\"], [0.7777777777777778, \"#fb9f3a\"], [0.8888888888888888, \"#fdca26\"], [1.0, \"#f0f921\"]], \"sequentialminus\": [[0.0, \"#0d0887\"], [0.1111111111111111, \"#46039f\"], [0.2222222222222222, \"#7201a8\"], [0.3333333333333333, \"#9c179e\"], [0.4444444444444444, \"#bd3786\"], [0.5555555555555556, \"#d8576b\"], [0.6666666666666666, \"#ed7953\"], [0.7777777777777778, \"#fb9f3a\"], [0.8888888888888888, \"#fdca26\"], [1.0, \"#f0f921\"]]}, \"colorway\": [\"#636efa\", \"#EF553B\", \"#00cc96\", \"#ab63fa\", \"#FFA15A\", \"#19d3f3\", \"#FF6692\", \"#B6E880\", \"#FF97FF\", \"#FECB52\"], \"font\": {\"color\": \"#2a3f5f\"}, \"geo\": {\"bgcolor\": \"white\", \"lakecolor\": \"white\", \"landcolor\": \"#E5ECF6\", \"showlakes\": true, \"showland\": true, \"subunitcolor\": \"white\"}, \"hoverlabel\": {\"align\": \"left\"}, \"hovermode\": \"closest\", \"mapbox\": {\"style\": \"light\"}, \"paper_bgcolor\": \"white\", \"plot_bgcolor\": \"#E5ECF6\", \"polar\": {\"angularaxis\": {\"gridcolor\": \"white\", \"linecolor\": \"white\", \"ticks\": \"\"}, \"bgcolor\": \"#E5ECF6\", \"radialaxis\": {\"gridcolor\": \"white\", \"linecolor\": \"white\", \"ticks\": \"\"}}, \"scene\": {\"xaxis\": {\"backgroundcolor\": \"#E5ECF6\", \"gridcolor\": \"white\", \"gridwidth\": 2, \"linecolor\": \"white\", \"showbackground\": true, \"ticks\": \"\", \"zerolinecolor\": \"white\"}, \"yaxis\": {\"backgroundcolor\": \"#E5ECF6\", \"gridcolor\": \"white\", \"gridwidth\": 2, \"linecolor\": \"white\", \"showbackground\": true, \"ticks\": \"\", \"zerolinecolor\": \"white\"}, \"zaxis\": {\"backgroundcolor\": \"#E5ECF6\", \"gridcolor\": \"white\", \"gridwidth\": 2, \"linecolor\": \"white\", \"showbackground\": true, \"ticks\": \"\", \"zerolinecolor\": \"white\"}}, \"shapedefaults\": {\"line\": {\"color\": \"#2a3f5f\"}}, \"ternary\": {\"aaxis\": {\"gridcolor\": \"white\", \"linecolor\": \"white\", \"ticks\": \"\"}, \"baxis\": {\"gridcolor\": \"white\", \"linecolor\": \"white\", \"ticks\": \"\"}, \"bgcolor\": \"#E5ECF6\", \"caxis\": {\"gridcolor\": \"white\", \"linecolor\": \"white\", \"ticks\": \"\"}}, \"title\": {\"x\": 0.05}, \"xaxis\": {\"automargin\": true, \"gridcolor\": \"white\", \"linecolor\": \"white\", \"ticks\": \"\", \"title\": {\"standoff\": 15}, \"zerolinecolor\": \"white\", \"zerolinewidth\": 2}, \"yaxis\": {\"automargin\": true, \"gridcolor\": \"white\", \"linecolor\": \"white\", \"ticks\": \"\", \"title\": {\"standoff\": 15}, \"zerolinecolor\": \"white\", \"zerolinewidth\": 2}}}, \"title\": {\"text\": \"Toronto Neighbourhoods with most venues\"}, \"xaxis\": {\"anchor\": \"y\", \"categoryarray\": [\"Church-Yonge Corridor\", \"Bay Street Corridor\", \"Mount Pleasant West\", \"Dufferin Grove\", \"Junction Area\", \"Kensington-Chinatown\", \"Yonge-St.Clair\", \"Cabbagetown-South St. James Town\", \"Playter Estates-Danforth\"], \"categoryorder\": \"array\", \"domain\": [0.0, 1.0], \"showticklabels\": false, \"title\": {\"text\": \"Neighbourhood Name\"}}, \"yaxis\": {\"anchor\": \"x\", \"domain\": [0.0, 1.0], \"title\": {\"text\": \"Total\"}}},                        {\"responsive\": true}                    ).then(function(){\n",
       "                            \n",
       "var gd = document.getElementById('aa6e385b-ec94-487c-bf11-9c45231ce593');\n",
       "var x = new MutationObserver(function (mutations, observer) {{\n",
       "        var display = window.getComputedStyle(gd).display;\n",
       "        if (!display || display === 'none') {{\n",
       "            console.log([gd, 'removed!']);\n",
       "            Plotly.purge(gd);\n",
       "            observer.disconnect();\n",
       "        }}\n",
       "}});\n",
       "\n",
       "// Listen for the removal of the full notebook cells\n",
       "var notebookContainer = gd.closest('#notebook-container');\n",
       "if (notebookContainer) {{\n",
       "    x.observe(notebookContainer, {childList: true});\n",
       "}}\n",
       "\n",
       "// Listen for the clearing of the current output cell\n",
       "var outputEl = gd.closest('.output');\n",
       "if (outputEl) {{\n",
       "    x.observe(outputEl, {childList: true});\n",
       "}}\n",
       "\n",
       "                        })                };                });            </script>        </div>"
      ]
     },
     "metadata": {},
     "output_type": "display_data"
    }
   ],
   "source": [
    "topvenues_barchart = px.bar(tem2.query(\"Total>48\"),\n",
    "                            x=\"Neighbourhood Name\",\n",
    "                            y=\"Total\", \n",
    "                            color=\"Neighbourhood Name\")\n",
    "\n",
    "topvenues_barchart.update_layout(title = 'Toronto Neighbourhoods with most venues',\n",
    "                         margin={\"r\":0,\"t\":30,\"l\":0,\"b\":0})\n",
    "\n",
    "topvenues_barchart.update_xaxes(showticklabels=False) # Removed tick labels as it was too long\n",
    "topvenues_barchart.show() # Display plot"
   ]
  },
  {
   "cell_type": "markdown",
   "metadata": {
    "deletable": false,
    "editable": false
   },
   "source": [
    "### Extracting Relevant/Essential Venue Categories\n",
    "Extract all **essential venues** from the larger dataset 'toronto_grouped'. These venues includes features: Restaurants, Bus Station, Bus Stop, Convenience Store, Bank, Train Station, Park, Playground, School, Discount Store, Metro Station, Shopping Malls"
   ]
  },
  {
   "cell_type": "code",
   "execution_count": 23,
   "metadata": {},
   "outputs": [
    {
     "data": {
      "text/html": [
       "<div>\n",
       "<style scoped>\n",
       "    .dataframe tbody tr th:only-of-type {\n",
       "        vertical-align: middle;\n",
       "    }\n",
       "\n",
       "    .dataframe tbody tr th {\n",
       "        vertical-align: top;\n",
       "    }\n",
       "\n",
       "    .dataframe thead th {\n",
       "        text-align: right;\n",
       "    }\n",
       "</style>\n",
       "<table border=\"1\" class=\"dataframe\">\n",
       "  <thead>\n",
       "    <tr style=\"text-align: right;\">\n",
       "      <th></th>\n",
       "      <th>Neighbourhood Name</th>\n",
       "      <th>African Restaurant</th>\n",
       "      <th>American Restaurant</th>\n",
       "      <th>Argentinian Restaurant</th>\n",
       "      <th>Asian Restaurant</th>\n",
       "      <th>Belgian Restaurant</th>\n",
       "      <th>Brazilian Restaurant</th>\n",
       "      <th>Cajun / Creole Restaurant</th>\n",
       "      <th>Cantonese Restaurant</th>\n",
       "      <th>Caribbean Restaurant</th>\n",
       "      <th>Chinese Restaurant</th>\n",
       "      <th>Comfort Food Restaurant</th>\n",
       "      <th>Cuban Restaurant</th>\n",
       "      <th>Dim Sum Restaurant</th>\n",
       "      <th>Dumpling Restaurant</th>\n",
       "      <th>Eastern European Restaurant</th>\n",
       "      <th>Egyptian Restaurant</th>\n",
       "      <th>Ethiopian Restaurant</th>\n",
       "      <th>Falafel Restaurant</th>\n",
       "      <th>Fast Food Restaurant</th>\n",
       "      <th>Filipino Restaurant</th>\n",
       "      <th>French Restaurant</th>\n",
       "      <th>German Restaurant</th>\n",
       "      <th>Greek Restaurant</th>\n",
       "      <th>Hakka Restaurant</th>\n",
       "      <th>Halal Restaurant</th>\n",
       "      <th>Hotpot Restaurant</th>\n",
       "      <th>Indian Chinese Restaurant</th>\n",
       "      <th>Indian Restaurant</th>\n",
       "      <th>Indonesian Restaurant</th>\n",
       "      <th>Italian Restaurant</th>\n",
       "      <th>Japanese Restaurant</th>\n",
       "      <th>Korean Restaurant</th>\n",
       "      <th>Latin American Restaurant</th>\n",
       "      <th>Malay Restaurant</th>\n",
       "      <th>Mediterranean Restaurant</th>\n",
       "      <th>Mexican Restaurant</th>\n",
       "      <th>Middle Eastern Restaurant</th>\n",
       "      <th>Modern European Restaurant</th>\n",
       "      <th>New American Restaurant</th>\n",
       "      <th>North Indian Restaurant</th>\n",
       "      <th>Pakistani Restaurant</th>\n",
       "      <th>Persian Restaurant</th>\n",
       "      <th>Portuguese Restaurant</th>\n",
       "      <th>Ramen Restaurant</th>\n",
       "      <th>Restaurant</th>\n",
       "      <th>Seafood Restaurant</th>\n",
       "      <th>South American Restaurant</th>\n",
       "      <th>South Indian Restaurant</th>\n",
       "      <th>Sri Lankan Restaurant</th>\n",
       "      <th>Sushi Restaurant</th>\n",
       "      <th>Swiss Restaurant</th>\n",
       "      <th>Syrian Restaurant</th>\n",
       "      <th>Taiwanese Restaurant</th>\n",
       "      <th>Tapas Restaurant</th>\n",
       "      <th>Thai Restaurant</th>\n",
       "      <th>Tibetan Restaurant</th>\n",
       "      <th>Turkish Restaurant</th>\n",
       "      <th>Vegetarian / Vegan Restaurant</th>\n",
       "      <th>Vietnamese Restaurant</th>\n",
       "    </tr>\n",
       "  </thead>\n",
       "  <tbody>\n",
       "    <tr>\n",
       "      <th>0</th>\n",
       "      <td>Agincourt North</td>\n",
       "      <td>0</td>\n",
       "      <td>0</td>\n",
       "      <td>0</td>\n",
       "      <td>0</td>\n",
       "      <td>0</td>\n",
       "      <td>0</td>\n",
       "      <td>0</td>\n",
       "      <td>0</td>\n",
       "      <td>0</td>\n",
       "      <td>1</td>\n",
       "      <td>0</td>\n",
       "      <td>0</td>\n",
       "      <td>0</td>\n",
       "      <td>0</td>\n",
       "      <td>0</td>\n",
       "      <td>0</td>\n",
       "      <td>0</td>\n",
       "      <td>0</td>\n",
       "      <td>1</td>\n",
       "      <td>0</td>\n",
       "      <td>0</td>\n",
       "      <td>0</td>\n",
       "      <td>0</td>\n",
       "      <td>0</td>\n",
       "      <td>0</td>\n",
       "      <td>0</td>\n",
       "      <td>0</td>\n",
       "      <td>0</td>\n",
       "      <td>0</td>\n",
       "      <td>0</td>\n",
       "      <td>1</td>\n",
       "      <td>0</td>\n",
       "      <td>0</td>\n",
       "      <td>0</td>\n",
       "      <td>0</td>\n",
       "      <td>0</td>\n",
       "      <td>0</td>\n",
       "      <td>0</td>\n",
       "      <td>0</td>\n",
       "      <td>0</td>\n",
       "      <td>0</td>\n",
       "      <td>0</td>\n",
       "      <td>0</td>\n",
       "      <td>0</td>\n",
       "      <td>0</td>\n",
       "      <td>0</td>\n",
       "      <td>0</td>\n",
       "      <td>0</td>\n",
       "      <td>0</td>\n",
       "      <td>0</td>\n",
       "      <td>0</td>\n",
       "      <td>0</td>\n",
       "      <td>0</td>\n",
       "      <td>0</td>\n",
       "      <td>0</td>\n",
       "      <td>0</td>\n",
       "      <td>0</td>\n",
       "      <td>0</td>\n",
       "      <td>1</td>\n",
       "    </tr>\n",
       "    <tr>\n",
       "      <th>1</th>\n",
       "      <td>Agincourt South-Malvern West</td>\n",
       "      <td>0</td>\n",
       "      <td>0</td>\n",
       "      <td>0</td>\n",
       "      <td>1</td>\n",
       "      <td>0</td>\n",
       "      <td>0</td>\n",
       "      <td>0</td>\n",
       "      <td>1</td>\n",
       "      <td>0</td>\n",
       "      <td>6</td>\n",
       "      <td>0</td>\n",
       "      <td>0</td>\n",
       "      <td>1</td>\n",
       "      <td>0</td>\n",
       "      <td>0</td>\n",
       "      <td>0</td>\n",
       "      <td>0</td>\n",
       "      <td>0</td>\n",
       "      <td>0</td>\n",
       "      <td>1</td>\n",
       "      <td>0</td>\n",
       "      <td>0</td>\n",
       "      <td>0</td>\n",
       "      <td>0</td>\n",
       "      <td>0</td>\n",
       "      <td>0</td>\n",
       "      <td>0</td>\n",
       "      <td>0</td>\n",
       "      <td>0</td>\n",
       "      <td>0</td>\n",
       "      <td>0</td>\n",
       "      <td>0</td>\n",
       "      <td>0</td>\n",
       "      <td>1</td>\n",
       "      <td>1</td>\n",
       "      <td>0</td>\n",
       "      <td>0</td>\n",
       "      <td>0</td>\n",
       "      <td>0</td>\n",
       "      <td>0</td>\n",
       "      <td>0</td>\n",
       "      <td>0</td>\n",
       "      <td>0</td>\n",
       "      <td>0</td>\n",
       "      <td>1</td>\n",
       "      <td>1</td>\n",
       "      <td>0</td>\n",
       "      <td>0</td>\n",
       "      <td>0</td>\n",
       "      <td>0</td>\n",
       "      <td>0</td>\n",
       "      <td>0</td>\n",
       "      <td>0</td>\n",
       "      <td>0</td>\n",
       "      <td>0</td>\n",
       "      <td>0</td>\n",
       "      <td>0</td>\n",
       "      <td>0</td>\n",
       "      <td>0</td>\n",
       "    </tr>\n",
       "    <tr>\n",
       "      <th>2</th>\n",
       "      <td>Alderwood</td>\n",
       "      <td>0</td>\n",
       "      <td>0</td>\n",
       "      <td>0</td>\n",
       "      <td>0</td>\n",
       "      <td>0</td>\n",
       "      <td>0</td>\n",
       "      <td>0</td>\n",
       "      <td>0</td>\n",
       "      <td>0</td>\n",
       "      <td>0</td>\n",
       "      <td>0</td>\n",
       "      <td>0</td>\n",
       "      <td>0</td>\n",
       "      <td>0</td>\n",
       "      <td>0</td>\n",
       "      <td>0</td>\n",
       "      <td>0</td>\n",
       "      <td>0</td>\n",
       "      <td>0</td>\n",
       "      <td>0</td>\n",
       "      <td>0</td>\n",
       "      <td>0</td>\n",
       "      <td>0</td>\n",
       "      <td>0</td>\n",
       "      <td>0</td>\n",
       "      <td>0</td>\n",
       "      <td>0</td>\n",
       "      <td>0</td>\n",
       "      <td>0</td>\n",
       "      <td>0</td>\n",
       "      <td>0</td>\n",
       "      <td>0</td>\n",
       "      <td>0</td>\n",
       "      <td>0</td>\n",
       "      <td>0</td>\n",
       "      <td>0</td>\n",
       "      <td>0</td>\n",
       "      <td>0</td>\n",
       "      <td>0</td>\n",
       "      <td>0</td>\n",
       "      <td>0</td>\n",
       "      <td>0</td>\n",
       "      <td>0</td>\n",
       "      <td>0</td>\n",
       "      <td>0</td>\n",
       "      <td>0</td>\n",
       "      <td>0</td>\n",
       "      <td>0</td>\n",
       "      <td>0</td>\n",
       "      <td>0</td>\n",
       "      <td>0</td>\n",
       "      <td>0</td>\n",
       "      <td>0</td>\n",
       "      <td>0</td>\n",
       "      <td>0</td>\n",
       "      <td>0</td>\n",
       "      <td>0</td>\n",
       "      <td>0</td>\n",
       "      <td>0</td>\n",
       "    </tr>\n",
       "    <tr>\n",
       "      <th>3</th>\n",
       "      <td>Annex</td>\n",
       "      <td>0</td>\n",
       "      <td>0</td>\n",
       "      <td>0</td>\n",
       "      <td>0</td>\n",
       "      <td>0</td>\n",
       "      <td>0</td>\n",
       "      <td>0</td>\n",
       "      <td>0</td>\n",
       "      <td>0</td>\n",
       "      <td>0</td>\n",
       "      <td>0</td>\n",
       "      <td>0</td>\n",
       "      <td>0</td>\n",
       "      <td>0</td>\n",
       "      <td>0</td>\n",
       "      <td>0</td>\n",
       "      <td>0</td>\n",
       "      <td>0</td>\n",
       "      <td>0</td>\n",
       "      <td>0</td>\n",
       "      <td>1</td>\n",
       "      <td>0</td>\n",
       "      <td>0</td>\n",
       "      <td>0</td>\n",
       "      <td>0</td>\n",
       "      <td>0</td>\n",
       "      <td>0</td>\n",
       "      <td>1</td>\n",
       "      <td>0</td>\n",
       "      <td>0</td>\n",
       "      <td>0</td>\n",
       "      <td>0</td>\n",
       "      <td>0</td>\n",
       "      <td>0</td>\n",
       "      <td>0</td>\n",
       "      <td>0</td>\n",
       "      <td>1</td>\n",
       "      <td>0</td>\n",
       "      <td>0</td>\n",
       "      <td>0</td>\n",
       "      <td>0</td>\n",
       "      <td>0</td>\n",
       "      <td>0</td>\n",
       "      <td>0</td>\n",
       "      <td>0</td>\n",
       "      <td>0</td>\n",
       "      <td>0</td>\n",
       "      <td>0</td>\n",
       "      <td>0</td>\n",
       "      <td>0</td>\n",
       "      <td>0</td>\n",
       "      <td>0</td>\n",
       "      <td>0</td>\n",
       "      <td>0</td>\n",
       "      <td>0</td>\n",
       "      <td>0</td>\n",
       "      <td>0</td>\n",
       "      <td>0</td>\n",
       "      <td>0</td>\n",
       "    </tr>\n",
       "    <tr>\n",
       "      <th>4</th>\n",
       "      <td>Banbury-Don Mills</td>\n",
       "      <td>0</td>\n",
       "      <td>0</td>\n",
       "      <td>0</td>\n",
       "      <td>0</td>\n",
       "      <td>0</td>\n",
       "      <td>0</td>\n",
       "      <td>0</td>\n",
       "      <td>1</td>\n",
       "      <td>0</td>\n",
       "      <td>0</td>\n",
       "      <td>0</td>\n",
       "      <td>0</td>\n",
       "      <td>0</td>\n",
       "      <td>0</td>\n",
       "      <td>0</td>\n",
       "      <td>0</td>\n",
       "      <td>0</td>\n",
       "      <td>0</td>\n",
       "      <td>0</td>\n",
       "      <td>0</td>\n",
       "      <td>0</td>\n",
       "      <td>0</td>\n",
       "      <td>0</td>\n",
       "      <td>0</td>\n",
       "      <td>0</td>\n",
       "      <td>0</td>\n",
       "      <td>0</td>\n",
       "      <td>0</td>\n",
       "      <td>0</td>\n",
       "      <td>1</td>\n",
       "      <td>0</td>\n",
       "      <td>0</td>\n",
       "      <td>0</td>\n",
       "      <td>0</td>\n",
       "      <td>0</td>\n",
       "      <td>0</td>\n",
       "      <td>0</td>\n",
       "      <td>0</td>\n",
       "      <td>0</td>\n",
       "      <td>0</td>\n",
       "      <td>0</td>\n",
       "      <td>0</td>\n",
       "      <td>0</td>\n",
       "      <td>0</td>\n",
       "      <td>0</td>\n",
       "      <td>0</td>\n",
       "      <td>0</td>\n",
       "      <td>0</td>\n",
       "      <td>0</td>\n",
       "      <td>0</td>\n",
       "      <td>0</td>\n",
       "      <td>0</td>\n",
       "      <td>0</td>\n",
       "      <td>0</td>\n",
       "      <td>0</td>\n",
       "      <td>0</td>\n",
       "      <td>0</td>\n",
       "      <td>0</td>\n",
       "      <td>0</td>\n",
       "    </tr>\n",
       "  </tbody>\n",
       "</table>\n",
       "</div>"
      ],
      "text/plain": [
       "             Neighbourhood Name  African Restaurant  American Restaurant  \\\n",
       "0               Agincourt North                   0                    0   \n",
       "1  Agincourt South-Malvern West                   0                    0   \n",
       "2                     Alderwood                   0                    0   \n",
       "3                         Annex                   0                    0   \n",
       "4             Banbury-Don Mills                   0                    0   \n",
       "\n",
       "   Argentinian Restaurant  Asian Restaurant  Belgian Restaurant  \\\n",
       "0                       0                 0                   0   \n",
       "1                       0                 1                   0   \n",
       "2                       0                 0                   0   \n",
       "3                       0                 0                   0   \n",
       "4                       0                 0                   0   \n",
       "\n",
       "   Brazilian Restaurant  Cajun / Creole Restaurant  Cantonese Restaurant  \\\n",
       "0                     0                          0                     0   \n",
       "1                     0                          0                     1   \n",
       "2                     0                          0                     0   \n",
       "3                     0                          0                     0   \n",
       "4                     0                          0                     1   \n",
       "\n",
       "   Caribbean Restaurant  Chinese Restaurant  Comfort Food Restaurant  \\\n",
       "0                     0                   1                        0   \n",
       "1                     0                   6                        0   \n",
       "2                     0                   0                        0   \n",
       "3                     0                   0                        0   \n",
       "4                     0                   0                        0   \n",
       "\n",
       "   Cuban Restaurant  Dim Sum Restaurant  Dumpling Restaurant  \\\n",
       "0                 0                   0                    0   \n",
       "1                 0                   1                    0   \n",
       "2                 0                   0                    0   \n",
       "3                 0                   0                    0   \n",
       "4                 0                   0                    0   \n",
       "\n",
       "   Eastern European Restaurant  Egyptian Restaurant  Ethiopian Restaurant  \\\n",
       "0                            0                    0                     0   \n",
       "1                            0                    0                     0   \n",
       "2                            0                    0                     0   \n",
       "3                            0                    0                     0   \n",
       "4                            0                    0                     0   \n",
       "\n",
       "   Falafel Restaurant  Fast Food Restaurant  Filipino Restaurant  \\\n",
       "0                   0                     1                    0   \n",
       "1                   0                     0                    1   \n",
       "2                   0                     0                    0   \n",
       "3                   0                     0                    0   \n",
       "4                   0                     0                    0   \n",
       "\n",
       "   French Restaurant  German Restaurant  Greek Restaurant  Hakka Restaurant  \\\n",
       "0                  0                  0                 0                 0   \n",
       "1                  0                  0                 0                 0   \n",
       "2                  0                  0                 0                 0   \n",
       "3                  1                  0                 0                 0   \n",
       "4                  0                  0                 0                 0   \n",
       "\n",
       "   Halal Restaurant  Hotpot Restaurant  Indian Chinese Restaurant  \\\n",
       "0                 0                  0                          0   \n",
       "1                 0                  0                          0   \n",
       "2                 0                  0                          0   \n",
       "3                 0                  0                          0   \n",
       "4                 0                  0                          0   \n",
       "\n",
       "   Indian Restaurant  Indonesian Restaurant  Italian Restaurant  \\\n",
       "0                  0                      0                   0   \n",
       "1                  0                      0                   0   \n",
       "2                  0                      0                   0   \n",
       "3                  1                      0                   0   \n",
       "4                  0                      0                   1   \n",
       "\n",
       "   Japanese Restaurant  Korean Restaurant  Latin American Restaurant  \\\n",
       "0                    1                  0                          0   \n",
       "1                    0                  0                          0   \n",
       "2                    0                  0                          0   \n",
       "3                    0                  0                          0   \n",
       "4                    0                  0                          0   \n",
       "\n",
       "   Malay Restaurant  Mediterranean Restaurant  Mexican Restaurant  \\\n",
       "0                 0                         0                   0   \n",
       "1                 1                         1                   0   \n",
       "2                 0                         0                   0   \n",
       "3                 0                         0                   0   \n",
       "4                 0                         0                   0   \n",
       "\n",
       "   Middle Eastern Restaurant  Modern European Restaurant  \\\n",
       "0                          0                           0   \n",
       "1                          0                           0   \n",
       "2                          0                           0   \n",
       "3                          1                           0   \n",
       "4                          0                           0   \n",
       "\n",
       "   New American Restaurant  North Indian Restaurant  Pakistani Restaurant  \\\n",
       "0                        0                        0                     0   \n",
       "1                        0                        0                     0   \n",
       "2                        0                        0                     0   \n",
       "3                        0                        0                     0   \n",
       "4                        0                        0                     0   \n",
       "\n",
       "   Persian Restaurant  Portuguese Restaurant  Ramen Restaurant  Restaurant  \\\n",
       "0                   0                      0                 0           0   \n",
       "1                   0                      0                 0           1   \n",
       "2                   0                      0                 0           0   \n",
       "3                   0                      0                 0           0   \n",
       "4                   0                      0                 0           0   \n",
       "\n",
       "   Seafood Restaurant  South American Restaurant  South Indian Restaurant  \\\n",
       "0                   0                          0                        0   \n",
       "1                   1                          0                        0   \n",
       "2                   0                          0                        0   \n",
       "3                   0                          0                        0   \n",
       "4                   0                          0                        0   \n",
       "\n",
       "   Sri Lankan Restaurant  Sushi Restaurant  Swiss Restaurant  \\\n",
       "0                      0                 0                 0   \n",
       "1                      0                 0                 0   \n",
       "2                      0                 0                 0   \n",
       "3                      0                 0                 0   \n",
       "4                      0                 0                 0   \n",
       "\n",
       "   Syrian Restaurant  Taiwanese Restaurant  Tapas Restaurant  Thai Restaurant  \\\n",
       "0                  0                     0                 0                0   \n",
       "1                  0                     0                 0                0   \n",
       "2                  0                     0                 0                0   \n",
       "3                  0                     0                 0                0   \n",
       "4                  0                     0                 0                0   \n",
       "\n",
       "   Tibetan Restaurant  Turkish Restaurant  Vegetarian / Vegan Restaurant  \\\n",
       "0                   0                   0                              0   \n",
       "1                   0                   0                              0   \n",
       "2                   0                   0                              0   \n",
       "3                   0                   0                              0   \n",
       "4                   0                   0                              0   \n",
       "\n",
       "   Vietnamese Restaurant  \n",
       "0                      1  \n",
       "1                      0  \n",
       "2                      0  \n",
       "3                      0  \n",
       "4                      0  "
      ]
     },
     "execution_count": 23,
     "metadata": {},
     "output_type": "execute_result"
    }
   ],
   "source": [
    "# Filter all Restaurant sub-categories into one dataframe 'temp'\n",
    "temp=toronto_grouped[toronto_grouped.filter(regex='Restaurant|Neighbourhood Name').columns].copy(deep=True)\n",
    "temp.head()"
   ]
  },
  {
   "cell_type": "code",
   "execution_count": 25,
   "metadata": {},
   "outputs": [
    {
     "data": {
      "text/html": [
       "<div>\n",
       "<style scoped>\n",
       "    .dataframe tbody tr th:only-of-type {\n",
       "        vertical-align: middle;\n",
       "    }\n",
       "\n",
       "    .dataframe tbody tr th {\n",
       "        vertical-align: top;\n",
       "    }\n",
       "\n",
       "    .dataframe thead th {\n",
       "        text-align: right;\n",
       "    }\n",
       "</style>\n",
       "<table border=\"1\" class=\"dataframe\">\n",
       "  <thead>\n",
       "    <tr style=\"text-align: right;\">\n",
       "      <th></th>\n",
       "      <th>Neighbourhood Name</th>\n",
       "      <th>Bus Station</th>\n",
       "      <th>Bus Stop</th>\n",
       "      <th>Convenience Store</th>\n",
       "      <th>Bank</th>\n",
       "      <th>Train Station</th>\n",
       "      <th>Park</th>\n",
       "      <th>Playground</th>\n",
       "      <th>School</th>\n",
       "      <th>Discount Store</th>\n",
       "      <th>Metro Station</th>\n",
       "      <th>Shopping Mall</th>\n",
       "      <th>Restaurant</th>\n",
       "    </tr>\n",
       "  </thead>\n",
       "  <tbody>\n",
       "    <tr>\n",
       "      <th>0</th>\n",
       "      <td>Agincourt North</td>\n",
       "      <td>0</td>\n",
       "      <td>0</td>\n",
       "      <td>1</td>\n",
       "      <td>1</td>\n",
       "      <td>0</td>\n",
       "      <td>1</td>\n",
       "      <td>0</td>\n",
       "      <td>0</td>\n",
       "      <td>1</td>\n",
       "      <td>0</td>\n",
       "      <td>0</td>\n",
       "      <td>4</td>\n",
       "    </tr>\n",
       "    <tr>\n",
       "      <th>1</th>\n",
       "      <td>Agincourt South-Malvern West</td>\n",
       "      <td>0</td>\n",
       "      <td>0</td>\n",
       "      <td>0</td>\n",
       "      <td>1</td>\n",
       "      <td>0</td>\n",
       "      <td>0</td>\n",
       "      <td>0</td>\n",
       "      <td>0</td>\n",
       "      <td>0</td>\n",
       "      <td>0</td>\n",
       "      <td>2</td>\n",
       "      <td>14</td>\n",
       "    </tr>\n",
       "    <tr>\n",
       "      <th>2</th>\n",
       "      <td>Alderwood</td>\n",
       "      <td>0</td>\n",
       "      <td>0</td>\n",
       "      <td>1</td>\n",
       "      <td>0</td>\n",
       "      <td>0</td>\n",
       "      <td>0</td>\n",
       "      <td>0</td>\n",
       "      <td>0</td>\n",
       "      <td>0</td>\n",
       "      <td>0</td>\n",
       "      <td>0</td>\n",
       "      <td>0</td>\n",
       "    </tr>\n",
       "    <tr>\n",
       "      <th>3</th>\n",
       "      <td>Annex</td>\n",
       "      <td>0</td>\n",
       "      <td>0</td>\n",
       "      <td>0</td>\n",
       "      <td>0</td>\n",
       "      <td>0</td>\n",
       "      <td>2</td>\n",
       "      <td>0</td>\n",
       "      <td>0</td>\n",
       "      <td>0</td>\n",
       "      <td>0</td>\n",
       "      <td>0</td>\n",
       "      <td>3</td>\n",
       "    </tr>\n",
       "    <tr>\n",
       "      <th>4</th>\n",
       "      <td>Banbury-Don Mills</td>\n",
       "      <td>0</td>\n",
       "      <td>0</td>\n",
       "      <td>0</td>\n",
       "      <td>1</td>\n",
       "      <td>0</td>\n",
       "      <td>0</td>\n",
       "      <td>0</td>\n",
       "      <td>0</td>\n",
       "      <td>0</td>\n",
       "      <td>0</td>\n",
       "      <td>1</td>\n",
       "      <td>2</td>\n",
       "    </tr>\n",
       "  </tbody>\n",
       "</table>\n",
       "</div>"
      ],
      "text/plain": [
       "             Neighbourhood Name  Bus Station  Bus Stop  Convenience Store  \\\n",
       "0               Agincourt North            0         0                  1   \n",
       "1  Agincourt South-Malvern West            0         0                  0   \n",
       "2                     Alderwood            0         0                  1   \n",
       "3                         Annex            0         0                  0   \n",
       "4             Banbury-Don Mills            0         0                  0   \n",
       "\n",
       "   Bank  Train Station  Park  Playground  School  Discount Store  \\\n",
       "0     1              0     1           0       0               1   \n",
       "1     1              0     0           0       0               0   \n",
       "2     0              0     0           0       0               0   \n",
       "3     0              0     2           0       0               0   \n",
       "4     1              0     0           0       0               0   \n",
       "\n",
       "   Metro Station  Shopping Mall  Restaurant  \n",
       "0              0              0           4  \n",
       "1              0              2          14  \n",
       "2              0              0           0  \n",
       "3              0              0           3  \n",
       "4              0              1           2  "
      ]
     },
     "execution_count": 25,
     "metadata": {},
     "output_type": "execute_result"
    }
   ],
   "source": [
    "temp['Restaurant'] = temp.sum(axis=1) # Obtain sum of all restaurants per neighbourhood\n",
    "temp=temp[['Neighbourhood Name', 'Restaurant']] # Slice dataframe \n",
    "# Extract the rest of  essential venue categories to one dataframe\n",
    "toronto_venues_sorted = toronto_grouped.loc[:,\n",
    "                                            ('Neighbourhood Name',\n",
    "                                             'Bus Station', 'Bus Stop',\n",
    "                                             'Convenience Store', 'Bank',\n",
    "                                             'Train Station', 'Park',\n",
    "                                             'Playground', 'School',\n",
    "                                             'Discount Store', 'Metro Station',\n",
    "                                             'Shopping Mall')]\n",
    "\n",
    "# Merge Restaurants and other essential venue categories \n",
    "toronto_venues_sorted = toronto_venues_sorted.merge(temp,\n",
    "                                                    on='Neighbourhood Name')\n",
    "toronto_venues_sorted.head() # Display 1st 5 rows"
   ]
  },
  {
   "cell_type": "markdown",
   "metadata": {
    "deletable": false,
    "editable": false
   },
   "source": [
    "### Analysis of  Neighbourhoods and essential venue categories"
   ]
  },
  {
   "cell_type": "code",
   "execution_count": 26,
   "metadata": {},
   "outputs": [
    {
     "data": {
      "text/html": [
       "<div>\n",
       "<style scoped>\n",
       "    .dataframe tbody tr th:only-of-type {\n",
       "        vertical-align: middle;\n",
       "    }\n",
       "\n",
       "    .dataframe tbody tr th {\n",
       "        vertical-align: top;\n",
       "    }\n",
       "\n",
       "    .dataframe thead th {\n",
       "        text-align: right;\n",
       "    }\n",
       "</style>\n",
       "<table border=\"1\" class=\"dataframe\">\n",
       "  <thead>\n",
       "    <tr style=\"text-align: right;\">\n",
       "      <th></th>\n",
       "      <th>Neighbourhood Name</th>\n",
       "      <th>Total</th>\n",
       "    </tr>\n",
       "  </thead>\n",
       "  <tbody>\n",
       "    <tr>\n",
       "      <th>83</th>\n",
       "      <td>Mount Pleasant West</td>\n",
       "      <td>28</td>\n",
       "    </tr>\n",
       "    <tr>\n",
       "      <th>23</th>\n",
       "      <td>Church-Yonge Corridor</td>\n",
       "      <td>27</td>\n",
       "    </tr>\n",
       "    <tr>\n",
       "      <th>135</th>\n",
       "      <td>Yonge-St.Clair</td>\n",
       "      <td>23</td>\n",
       "    </tr>\n",
       "    <tr>\n",
       "      <th>6</th>\n",
       "      <td>Bay Street Corridor</td>\n",
       "      <td>23</td>\n",
       "    </tr>\n",
       "    <tr>\n",
       "      <th>62</th>\n",
       "      <td>Kensington-Chinatown</td>\n",
       "      <td>20</td>\n",
       "    </tr>\n",
       "  </tbody>\n",
       "</table>\n",
       "</div>"
      ],
      "text/plain": [
       "        Neighbourhood Name  Total\n",
       "83     Mount Pleasant West     28\n",
       "23   Church-Yonge Corridor     27\n",
       "135         Yonge-St.Clair     23\n",
       "6      Bay Street Corridor     23\n",
       "62    Kensington-Chinatown     20"
      ]
     },
     "execution_count": 26,
     "metadata": {},
     "output_type": "execute_result"
    }
   ],
   "source": [
    "# Calulate total number of essential venues per neighbourhood\n",
    "toronto_venues_sorted['Total']=toronto_venues_sorted.sum(axis=1)\n",
    "# Create new dataframe to store all neighbourhoods and their total number of essential venues\n",
    "total_venues=toronto_venues_sorted[['Neighbourhood Name','Total']]\n",
    "total_venues.sort_values(by=['Total'], ascending=False).head()"
   ]
  },
  {
   "cell_type": "markdown",
   "metadata": {
    "deletable": false,
    "editable": false
   },
   "source": [
    "## 7. K-Means"
   ]
  },
  {
   "cell_type": "markdown",
   "metadata": {
    "deletable": false,
    "editable": false
   },
   "source": [
    "_**K-Means**_ is an Unsupervised Machine Learning algorithm that groups data into k number of clusters that groupss the neighbourhoods into “k” (with similar characteristics or qualities).Steps that algorithm works:\n",
    "* (i) Determines most optimal k (i.e. no of clusters)\n",
    "* (ii)Initializes k such that initial means are randomly generated within the data domain\n",
    "* (iii)Creates k clusters by associating every observation with the nearest mean\n",
    "* (iv)The centroid of each of the k clusters becomes the new mean\n",
    " Steps (iii and iv) are repeated until convergence is reached such that all data points belong to a cluster that are significantly distinct from one another\n"
   ]
  },
  {
   "cell_type": "markdown",
   "metadata": {
    "deletable": false,
    "editable": false
   },
   "source": [
    "### Optimum number of Clusters (Elbow Method)\n",
    "In this method, the dataset is fit with the k-means model for a range of values (1-10). The distortions for each value of k is stored and then plotted on a line chart. The point of inflection is a good indication that the model fits best at that point."
   ]
  },
  {
   "cell_type": "code",
   "execution_count": 27,
   "metadata": {},
   "outputs": [
    {
     "data": {
      "image/png": "[encoded data removed]",
      "text/plain": [
       "<Figure size 1152x576 with 1 Axes>"
      ]
     },
     "metadata": {
      "needs_background": "light"
     },
     "output_type": "display_data"
    }
   ],
   "source": [
    "# Create a new dataframe and drop 'Neighbourhood name' \n",
    "# for only numerical values\n",
    "venues_clustering = total_venues.drop('Neighbourhood Name', 1).copy(deep=True)\n",
    "distortions = [] # Store results on distortions in a list\n",
    "K = range(1, 10) # Initialize k\n",
    "for k in K:\n",
    "    kmeanModel = KMeans(n_clusters=k) # Initialize kMeans model\n",
    "    kmeanModel.fit(venues_clustering) # Fit model to dataset\n",
    "    distortions.append(kmeanModel.inertia_) # Append distortions to list for each k value\n",
    "# use matplotlib to plot function\n",
    "plt.figure(figsize=(16, 8))\n",
    "plt.plot(K, distortions, 'bx-')\n",
    "plt.xlabel('k')\n",
    "plt.ylabel('Distortion')\n",
    "plt.title('The Elbow Method showing the optimal k')\n",
    "plt.show()"
   ]
  },
  {
   "cell_type": "code",
   "execution_count": 28,
   "metadata": {},
   "outputs": [
    {
     "name": "stdout",
     "output_type": "stream",
     "text": [
      "The optimum number of clusters is: 3\n"
     ]
    }
   ],
   "source": [
    "# KneeLocator is used to compute the point of inflection\n",
    "# especially when it is difficult to locate the point of inflection from the curve above\n",
    "from kneed import KneeLocator\n",
    "kl = KneeLocator(range(1, 10),\n",
    "                 distortions,\n",
    "                 curve=\"convex\",\n",
    "                 direction=\"decreasing\")\n",
    "print('The optimum number of clusters is: ' + str(kl.elbow))"
   ]
  },
  {
   "cell_type": "markdown",
   "metadata": {
    "deletable": false,
    "editable": false
   },
   "source": [
    "## 8. Clustering Neighbourhoods by Total number of Essential Venues"
   ]
  },
  {
   "cell_type": "markdown",
   "metadata": {
    "deletable": false,
    "editable": false
   },
   "source": [
    "The optimum number of clusters is from the Elbow method.Based on the number of essential venues, the neighbourhoods were grouped into 3 clusters using k-means algorithm "
   ]
  },
  {
   "cell_type": "code",
   "execution_count": 29,
   "metadata": {},
   "outputs": [
    {
     "data": {
      "text/html": [
       "<div>\n",
       "<style scoped>\n",
       "    .dataframe tbody tr th:only-of-type {\n",
       "        vertical-align: middle;\n",
       "    }\n",
       "\n",
       "    .dataframe tbody tr th {\n",
       "        vertical-align: top;\n",
       "    }\n",
       "\n",
       "    .dataframe thead th {\n",
       "        text-align: right;\n",
       "    }\n",
       "</style>\n",
       "<table border=\"1\" class=\"dataframe\">\n",
       "  <thead>\n",
       "    <tr style=\"text-align: right;\">\n",
       "      <th></th>\n",
       "      <th>Neighbourhood Name</th>\n",
       "      <th>Total</th>\n",
       "      <th>Cluster Labels</th>\n",
       "      <th>Neighbourhood ID</th>\n",
       "      <th>LONGITUDE</th>\n",
       "      <th>LATITUDE</th>\n",
       "      <th>Shape__Area</th>\n",
       "      <th>Shape__Length</th>\n",
       "      <th>geometry</th>\n",
       "    </tr>\n",
       "  </thead>\n",
       "  <tbody>\n",
       "    <tr>\n",
       "      <th>0</th>\n",
       "      <td>Agincourt North</td>\n",
       "      <td>8</td>\n",
       "      <td>2</td>\n",
       "      <td>129</td>\n",
       "      <td>-79.27</td>\n",
       "      <td>43.81</td>\n",
       "      <td>13,951,450.04</td>\n",
       "      <td>17,159.74</td>\n",
       "      <td>POLYGON ((-79.24213 43.80247, -79.24319 43.802...</td>\n",
       "    </tr>\n",
       "    <tr>\n",
       "      <th>1</th>\n",
       "      <td>Agincourt South-Malvern West</td>\n",
       "      <td>17</td>\n",
       "      <td>1</td>\n",
       "      <td>128</td>\n",
       "      <td>-79.27</td>\n",
       "      <td>43.79</td>\n",
       "      <td>15,117,359.77</td>\n",
       "      <td>21,320.85</td>\n",
       "      <td>POLYGON ((-79.25498 43.78122, -79.25797 43.780...</td>\n",
       "    </tr>\n",
       "    <tr>\n",
       "      <th>2</th>\n",
       "      <td>Alderwood</td>\n",
       "      <td>1</td>\n",
       "      <td>0</td>\n",
       "      <td>20</td>\n",
       "      <td>-79.54</td>\n",
       "      <td>43.60</td>\n",
       "      <td>9,502,179.58</td>\n",
       "      <td>12,667.01</td>\n",
       "      <td>POLYGON ((-79.54866 43.59022, -79.54876 43.590...</td>\n",
       "    </tr>\n",
       "    <tr>\n",
       "      <th>3</th>\n",
       "      <td>Annex</td>\n",
       "      <td>5</td>\n",
       "      <td>2</td>\n",
       "      <td>95</td>\n",
       "      <td>-79.40</td>\n",
       "      <td>43.67</td>\n",
       "      <td>5,337,191.83</td>\n",
       "      <td>10,513.88</td>\n",
       "      <td>POLYGON ((-79.39414 43.66872, -79.39588 43.668...</td>\n",
       "    </tr>\n",
       "    <tr>\n",
       "      <th>4</th>\n",
       "      <td>Banbury-Don Mills</td>\n",
       "      <td>4</td>\n",
       "      <td>0</td>\n",
       "      <td>42</td>\n",
       "      <td>-79.35</td>\n",
       "      <td>43.74</td>\n",
       "      <td>19,248,965.98</td>\n",
       "      <td>25,141.57</td>\n",
       "      <td>POLYGON ((-79.33055 43.73979, -79.33044 43.739...</td>\n",
       "    </tr>\n",
       "  </tbody>\n",
       "</table>\n",
       "</div>"
      ],
      "text/plain": [
       "             Neighbourhood Name  Total  Cluster Labels  Neighbourhood ID  \\\n",
       "0               Agincourt North      8               2               129   \n",
       "1  Agincourt South-Malvern West     17               1               128   \n",
       "2                     Alderwood      1               0                20   \n",
       "3                         Annex      5               2                95   \n",
       "4             Banbury-Don Mills      4               0                42   \n",
       "\n",
       "   LONGITUDE  LATITUDE   Shape__Area  Shape__Length  \\\n",
       "0     -79.27     43.81 13,951,450.04      17,159.74   \n",
       "1     -79.27     43.79 15,117,359.77      21,320.85   \n",
       "2     -79.54     43.60  9,502,179.58      12,667.01   \n",
       "3     -79.40     43.67  5,337,191.83      10,513.88   \n",
       "4     -79.35     43.74 19,248,965.98      25,141.57   \n",
       "\n",
       "                                            geometry  \n",
       "0  POLYGON ((-79.24213 43.80247, -79.24319 43.802...  \n",
       "1  POLYGON ((-79.25498 43.78122, -79.25797 43.780...  \n",
       "2  POLYGON ((-79.54866 43.59022, -79.54876 43.590...  \n",
       "3  POLYGON ((-79.39414 43.66872, -79.39588 43.668...  \n",
       "4  POLYGON ((-79.33055 43.73979, -79.33044 43.739...  "
      ]
     },
     "execution_count": 29,
     "metadata": {},
     "output_type": "execute_result"
    }
   ],
   "source": [
    "# Run k-means clustering by initializing number of clusters and fitting the model\n",
    "kmeans = KMeans(n_clusters=3, random_state=0).fit(venues_clustering)\n",
    "\n",
    "# Add clustering labels to original dataframe\n",
    "total_venues.insert(2, 'Cluster Labels', kmeans.labels_)\n",
    "\n",
    "# Coppy the original geopandas dataframe\n",
    "toronto_venues_map = toronto_gdf.copy(deep=True)\n",
    "\n",
    "# Merge total_venues data with Geopandas dataframe, toronto_venues_map\n",
    "toronto_venues_map = pd.merge(total_venues.set_index('Neighbourhood Name'),\n",
    "                              toronto_venues_map,\n",
    "                              how='outer',\n",
    "                              on='Neighbourhood Name')\n",
    "\n",
    "# The next line of code was used to fill in Cluster label values for the 2 neighbourhoods \n",
    "# that had no venues from Section 5. Venues in Cluster 0 had the least number of venues.\n",
    "toronto_venues_map.fillna(value=0, inplace=True)\n",
    "# Convert Cluster Labels and Total values to interger type\n",
    "toronto_venues_map['Cluster Labels'] = toronto_venues_map[\n",
    "    'Cluster Labels'].astype('int64')\n",
    "toronto_venues_map['Total'] = toronto_venues_map['Total'].astype('int64')\n",
    "toronto_venues_map.head() # Display first 5 rows"
   ]
  },
  {
   "cell_type": "markdown",
   "metadata": {
    "deletable": false,
    "editable": false
   },
   "source": [
    "## 9. Visualizing Toronto Neighbourhoods Clusters"
   ]
  },
  {
   "cell_type": "markdown",
   "metadata": {
    "deletable": false,
    "editable": false
   },
   "source": [
    "Based on result of the clustering attempt described above, the 140 Toronto neighbourhoods were visualized with the aids of Sunburst and Choropleth Maps using Plotly Express."
   ]
  },
  {
   "cell_type": "code",
   "execution_count": 30,
   "metadata": {
    "scrolled": true
   },
   "outputs": [
    {
     "data": {
      "text/html": [
       "<div>\n",
       "<style scoped>\n",
       "    .dataframe tbody tr th:only-of-type {\n",
       "        vertical-align: middle;\n",
       "    }\n",
       "\n",
       "    .dataframe tbody tr th {\n",
       "        vertical-align: top;\n",
       "    }\n",
       "\n",
       "    .dataframe thead th {\n",
       "        text-align: right;\n",
       "    }\n",
       "</style>\n",
       "<table border=\"1\" class=\"dataframe\">\n",
       "  <thead>\n",
       "    <tr style=\"text-align: right;\">\n",
       "      <th></th>\n",
       "      <th>Neighbourhood Name</th>\n",
       "      <th>Neighbourhood ID</th>\n",
       "      <th>Total Essential Venues</th>\n",
       "      <th>District</th>\n",
       "    </tr>\n",
       "  </thead>\n",
       "  <tbody>\n",
       "    <tr>\n",
       "      <th>0</th>\n",
       "      <td>Agincourt North</td>\n",
       "      <td>129</td>\n",
       "      <td>8</td>\n",
       "      <td>Scarborough</td>\n",
       "    </tr>\n",
       "    <tr>\n",
       "      <th>1</th>\n",
       "      <td>Agincourt South-Malvern West</td>\n",
       "      <td>128</td>\n",
       "      <td>17</td>\n",
       "      <td>Scarborough</td>\n",
       "    </tr>\n",
       "    <tr>\n",
       "      <th>2</th>\n",
       "      <td>Alderwood</td>\n",
       "      <td>20</td>\n",
       "      <td>1</td>\n",
       "      <td>Etobicoke</td>\n",
       "    </tr>\n",
       "    <tr>\n",
       "      <th>3</th>\n",
       "      <td>Annex</td>\n",
       "      <td>95</td>\n",
       "      <td>5</td>\n",
       "      <td>Old Toronto</td>\n",
       "    </tr>\n",
       "    <tr>\n",
       "      <th>4</th>\n",
       "      <td>Banbury-Don Mills</td>\n",
       "      <td>42</td>\n",
       "      <td>4</td>\n",
       "      <td>North York</td>\n",
       "    </tr>\n",
       "  </tbody>\n",
       "</table>\n",
       "</div>"
      ],
      "text/plain": [
       "             Neighbourhood Name  Neighbourhood ID  Total Essential Venues  \\\n",
       "0               Agincourt North               129                       8   \n",
       "1  Agincourt South-Malvern West               128                      17   \n",
       "2                     Alderwood                20                       1   \n",
       "3                         Annex                95                       5   \n",
       "4             Banbury-Don Mills                42                       4   \n",
       "\n",
       "      District  \n",
       "0  Scarborough  \n",
       "1  Scarborough  \n",
       "2    Etobicoke  \n",
       "3  Old Toronto  \n",
       "4   North York  "
      ]
     },
     "execution_count": 30,
     "metadata": {},
     "output_type": "execute_result"
    }
   ],
   "source": [
    "# Obtain all Toronto districts from an exisitng dataset.\n",
    "districts = pd.read_excel(r'C:\\Users\\Osas\\Downloads\\Data analysis\\Capstone\\Housing.xlsx',sheet_name='Sheet2')\n",
    "# Drop Neighbourhood Name column\n",
    "districts = districts.drop(labels='Neighbourhood Name', axis=1)\n",
    "essential_venues = toronto_venues_map[['Neighbourhood Name', 'Neighbourhood ID', 'Total']].copy(deep=True)\n",
    "essential_venues = essential_venues.rename(columns={'Total': 'Total Essential Venues'})\n",
    "# Merge districts and essential venues dataframe\n",
    "essential_venues = pd.merge(essential_venues, districts, on='Neighbourhood ID')\n",
    "essential_venues.head()"
   ]
  },
  {
   "cell_type": "markdown",
   "metadata": {
    "deletable": false,
    "editable": false
   },
   "source": [
    "### Sunburst Chart for Toronto Neighbourhoods and Districts\n",
    "Using Plotly library. The chart is clickable to ex pand, explore districts."
   ]
  },
  {
   "cell_type": "code",
   "execution_count": 32,
   "metadata": {},
   "outputs": [
    {
     "data": {
      "application/vnd.plotly.v1+json": {
       "config": {
        "plotlyServerURL": "https://plotly.com"
       },
       "data": [
        {
         "branchvalues": "total",
         "domain": {
          "x": [
           0,
           1
          ],
          "y": [
           0,
           1
          ]
         },
         "hovertemplate": "<b>%{hovertext}</b><br><br>labels=%{label}<br>Total Essential Venues=%{value}<br>parent=%{parent}<br>id=%{id}<extra></extra>",
         "hovertext": [
          "Agincourt North",
          "Agincourt South-Malvern West",
          "Alderwood",
          "Annex",
          "Banbury-Don Mills",
          "Bathurst Manor",
          "Bay Street Corridor",
          "Bayview Village",
          "Bayview Woods-Steeles",
          "Bedford Park-Nortown",
          "Beechborough-Greenbrook",
          "Bendale",
          "Birchcliffe-Cliffside",
          "Black Creek",
          "Blake-Jones",
          "Briar Hill-Belgravia",
          "Bridle Path-Sunnybrook-York Mills",
          "Broadview North",
          "Brookhaven-Amesbury",
          "Cabbagetown-South St. James Town",
          "Caledonia-Fairbank",
          "Casa Loma",
          "Centennial Scarborough",
          "Church-Yonge Corridor",
          "Clairlea-Birchmount",
          "Clanton Park",
          "Cliffcrest",
          "Corso Italia-Davenport",
          "Danforth",
          "Danforth East York",
          "Don Valley Village",
          "Dorset Park",
          "Dovercourt-Wallace Emerson-Junction",
          "Downsview-Roding-CFB",
          "Dufferin Grove",
          "East End-Danforth",
          "Edenbridge-Humber Valley",
          "Eglinton East",
          "Elms-Old Rexdale",
          "Englemount-Lawrence",
          "Eringate-Centennial-West Deane",
          "Etobicoke West Mall",
          "Flemingdon Park",
          "Forest Hill North",
          "Forest Hill South",
          "Glenfield-Jane Heights",
          "Greenwood-Coxwell",
          "Guildwood",
          "Henry Farm",
          "High Park North",
          "High Park-Swansea",
          "Highland Creek",
          "Hillcrest Village",
          "Humber Heights-Westmount",
          "Humber Summit",
          "Humbermede",
          "Humewood-Cedarvale",
          "Ionview",
          "Islington-City Centre West",
          "Junction Area",
          "Keelesdale-Eglinton West",
          "Kennedy Park",
          "Kensington-Chinatown",
          "Kingsview Village-The Westway",
          "Kingsway South",
          "L'Amoreaux",
          "Lambton Baby Point",
          "Lansing-Westgate",
          "Lawrence Park North",
          "Lawrence Park South",
          "Leaside-Bennington",
          "Little Portugal",
          "Long Branch",
          "Malvern",
          "Maple Leaf",
          "Markland Wood",
          "Milliken",
          "Mimico (includes Humber Bay Shores)",
          "Morningside",
          "Moss Park",
          "Mount Dennis",
          "Mount Olive-Silverstone-Jamestown",
          "Mount Pleasant East",
          "Mount Pleasant West",
          "New Toronto",
          "Newtonbrook East",
          "Newtonbrook West",
          "Niagara",
          "North Riverdale",
          "North St. James Town",
          "O'Connor-Parkview",
          "Oakridge",
          "Oakwood Village",
          "Old East York",
          "Palmerston-Little Italy",
          "Parkwoods-Donalda",
          "Pelmo Park-Humberlea",
          "Playter Estates-Danforth",
          "Pleasant View",
          "Princess-Rosethorn",
          "Regent Park",
          "Rexdale-Kipling",
          "Rockcliffe-Smythe",
          "Roncesvalles",
          "Rosedale-Moore Park",
          "Rouge",
          "Runnymede-Bloor West Village",
          "Rustic",
          "Scarborough Village",
          "South Parkdale",
          "South Riverdale",
          "St.Andrew-Windfields",
          "Steeles",
          "Stonegate-Queensway",
          "Tam O'Shanter-Sullivan",
          "Taylor-Massey",
          "The Beaches",
          "Thistletown-Beaumond Heights",
          "Thorncliffe Park",
          "Trinity-Bellwoods",
          "University",
          "Victoria Village",
          "Waterfront Communities-The Island",
          "West Hill",
          "West Humber-Clairville",
          "Westminster-Branson",
          "Weston",
          "Weston-Pelham Park",
          "Wexford/Maryvale",
          "Willowdale East",
          "Willowdale West",
          "Willowridge-Martingrove-Richview",
          "Woburn",
          "Woodbine Corridor",
          "Woodbine-Lumsden",
          "Wychwood",
          "Yonge-Eglinton",
          "Yonge-St.Clair",
          "York University Heights",
          "Yorkdale-Glen Park",
          "(?)",
          "(?)",
          "(?)",
          "(?)",
          "(?)",
          "(?)"
         ],
         "ids": [
          "Scarborough/Agincourt North",
          "Scarborough/Agincourt South-Malvern West",
          "Etobicoke/Alderwood",
          "Old Toronto/Annex",
          "North York/Banbury-Don Mills",
          "North York/Bathurst Manor",
          "Old Toronto/Bay Street Corridor",
          "North York/Bayview Village",
          "North York/Bayview Woods-Steeles",
          "North York/Bedford Park-Nortown",
          "York/Beechborough-Greenbrook",
          "Scarborough/Bendale",
          "Scarborough/Birchcliffe-Cliffside",
          "North York/Black Creek",
          "Old Toronto/Blake-Jones",
          "York/Briar Hill-Belgravia",
          "North York/Bridle Path-Sunnybrook-York Mills",
          "East York/Broadview North",
          "North York/Brookhaven-Amesbury",
          "Old Toronto/Cabbagetown-South St. James Town",
          "York/Caledonia-Fairbank",
          "Old Toronto/Casa Loma",
          "Scarborough/Centennial Scarborough",
          "Old Toronto/Church-Yonge Corridor",
          "Scarborough/Clairlea-Birchmount",
          "North York/Clanton Park",
          "Scarborough/Cliffcrest",
          "Old Toronto/Corso Italia-Davenport",
          "Old Toronto/Danforth",
          "East York/Danforth East York",
          "North York/Don Valley Village",
          "Scarborough/Dorset Park",
          "Old Toronto/Dovercourt-Wallace Emerson-Junction",
          "North York/Downsview-Roding-CFB",
          "Old Toronto/Dufferin Grove",
          "Old Toronto/East End-Danforth",
          "Etobicoke/Edenbridge-Humber Valley",
          "Scarborough/Eglinton East",
          "Etobicoke/Elms-Old Rexdale",
          "North York/Englemount-Lawrence",
          "Etobicoke/Eringate-Centennial-West Deane",
          "Etobicoke/Etobicoke West Mall",
          "North York/Flemingdon Park",
          "Old Toronto/Forest Hill North",
          "Old Toronto/Forest Hill South",
          "North York/Glenfield-Jane Heights",
          "Old Toronto/Greenwood-Coxwell",
          "Scarborough/Guildwood",
          "North York/Henry Farm",
          "Old Toronto/High Park North",
          "Old Toronto/High Park-Swansea",
          "Scarborough/Highland Creek",
          "North York/Hillcrest Village",
          "Etobicoke/Humber Heights-Westmount",
          "North York/Humber Summit",
          "North York/Humbermede",
          "York/Humewood-Cedarvale",
          "Scarborough/Ionview",
          "Etobicoke/Islington-City Centre West",
          "Old Toronto/Junction Area",
          "York/Keelesdale-Eglinton West",
          "Scarborough/Kennedy Park",
          "Old Toronto/Kensington-Chinatown",
          "Etobicoke/Kingsview Village-The Westway",
          "Etobicoke/Kingsway South",
          "Scarborough/L'Amoreaux",
          "York/Lambton Baby Point",
          "North York/Lansing-Westgate",
          "Old Toronto/Lawrence Park North",
          "Old Toronto/Lawrence Park South",
          "East York/Leaside-Bennington",
          "Old Toronto/Little Portugal",
          "Etobicoke/Long Branch",
          "Scarborough/Malvern",
          "North York/Maple Leaf",
          "Etobicoke/Markland Wood",
          "Scarborough/Milliken",
          "Etobicoke/Mimico (includes Humber Bay Shores)",
          "Scarborough/Morningside",
          "Old Toronto/Moss Park",
          "York/Mount Dennis",
          "Etobicoke/Mount Olive-Silverstone-Jamestown",
          "Old Toronto/Mount Pleasant East",
          "Old Toronto/Mount Pleasant West",
          "Etobicoke/New Toronto",
          "North York/Newtonbrook East",
          "North York/Newtonbrook West",
          "Old Toronto/Niagara",
          "Old Toronto/North Riverdale",
          "Old Toronto/North St. James Town",
          "East York/O'Connor-Parkview",
          "Scarborough/Oakridge",
          "York/Oakwood Village",
          "East York/Old East York",
          "Old Toronto/Palmerston-Little Italy",
          "North York/Parkwoods-Donalda",
          "North York/Pelmo Park-Humberlea",
          "Old Toronto/Playter Estates-Danforth",
          "North York/Pleasant View",
          "Etobicoke/Princess-Rosethorn",
          "Old Toronto/Regent Park",
          "Etobicoke/Rexdale-Kipling",
          "York/Rockcliffe-Smythe",
          "Old Toronto/Roncesvalles",
          "Old Toronto/Rosedale-Moore Park",
          "Scarborough/Rouge",
          "Old Toronto/Runnymede-Bloor West Village",
          "North York/Rustic",
          "Scarborough/Scarborough Village",
          "Old Toronto/South Parkdale",
          "Old Toronto/South Riverdale",
          "North York/St.Andrew-Windfields",
          "Scarborough/Steeles",
          "Etobicoke/Stonegate-Queensway",
          "Scarborough/Tam O'Shanter-Sullivan",
          "East York/Taylor-Massey",
          "Old Toronto/The Beaches",
          "Etobicoke/Thistletown-Beaumond Heights",
          "East York/Thorncliffe Park",
          "Old Toronto/Trinity-Bellwoods",
          "Old Toronto/University",
          "North York/Victoria Village",
          "Old Toronto/Waterfront Communities-The Island",
          "Scarborough/West Hill",
          "Etobicoke/West Humber-Clairville",
          "North York/Westminster-Branson",
          "York/Weston",
          "Old Toronto/Weston-Pelham Park",
          "Scarborough/Wexford/Maryvale",
          "North York/Willowdale East",
          "North York/Willowdale West",
          "Etobicoke/Willowridge-Martingrove-Richview",
          "Scarborough/Woburn",
          "Old Toronto/Woodbine Corridor",
          "East York/Woodbine-Lumsden",
          "Old Toronto/Wychwood",
          "Old Toronto/Yonge-Eglinton",
          "Old Toronto/Yonge-St.Clair",
          "North York/York University Heights",
          "North York/Yorkdale-Glen Park",
          "East York",
          "Etobicoke",
          "North York",
          "Old Toronto",
          "Scarborough",
          "York"
         ],
         "labels": [
          "Agincourt North",
          "Agincourt South-Malvern West",
          "Alderwood",
          "Annex",
          "Banbury-Don Mills",
          "Bathurst Manor",
          "Bay Street Corridor",
          "Bayview Village",
          "Bayview Woods-Steeles",
          "Bedford Park-Nortown",
          "Beechborough-Greenbrook",
          "Bendale",
          "Birchcliffe-Cliffside",
          "Black Creek",
          "Blake-Jones",
          "Briar Hill-Belgravia",
          "Bridle Path-Sunnybrook-York Mills",
          "Broadview North",
          "Brookhaven-Amesbury",
          "Cabbagetown-South St. James Town",
          "Caledonia-Fairbank",
          "Casa Loma",
          "Centennial Scarborough",
          "Church-Yonge Corridor",
          "Clairlea-Birchmount",
          "Clanton Park",
          "Cliffcrest",
          "Corso Italia-Davenport",
          "Danforth",
          "Danforth East York",
          "Don Valley Village",
          "Dorset Park",
          "Dovercourt-Wallace Emerson-Junction",
          "Downsview-Roding-CFB",
          "Dufferin Grove",
          "East End-Danforth",
          "Edenbridge-Humber Valley",
          "Eglinton East",
          "Elms-Old Rexdale",
          "Englemount-Lawrence",
          "Eringate-Centennial-West Deane",
          "Etobicoke West Mall",
          "Flemingdon Park",
          "Forest Hill North",
          "Forest Hill South",
          "Glenfield-Jane Heights",
          "Greenwood-Coxwell",
          "Guildwood",
          "Henry Farm",
          "High Park North",
          "High Park-Swansea",
          "Highland Creek",
          "Hillcrest Village",
          "Humber Heights-Westmount",
          "Humber Summit",
          "Humbermede",
          "Humewood-Cedarvale",
          "Ionview",
          "Islington-City Centre West",
          "Junction Area",
          "Keelesdale-Eglinton West",
          "Kennedy Park",
          "Kensington-Chinatown",
          "Kingsview Village-The Westway",
          "Kingsway South",
          "L'Amoreaux",
          "Lambton Baby Point",
          "Lansing-Westgate",
          "Lawrence Park North",
          "Lawrence Park South",
          "Leaside-Bennington",
          "Little Portugal",
          "Long Branch",
          "Malvern",
          "Maple Leaf",
          "Markland Wood",
          "Milliken",
          "Mimico (includes Humber Bay Shores)",
          "Morningside",
          "Moss Park",
          "Mount Dennis",
          "Mount Olive-Silverstone-Jamestown",
          "Mount Pleasant East",
          "Mount Pleasant West",
          "New Toronto",
          "Newtonbrook East",
          "Newtonbrook West",
          "Niagara",
          "North Riverdale",
          "North St. James Town",
          "O'Connor-Parkview",
          "Oakridge",
          "Oakwood Village",
          "Old East York",
          "Palmerston-Little Italy",
          "Parkwoods-Donalda",
          "Pelmo Park-Humberlea",
          "Playter Estates-Danforth",
          "Pleasant View",
          "Princess-Rosethorn",
          "Regent Park",
          "Rexdale-Kipling",
          "Rockcliffe-Smythe",
          "Roncesvalles",
          "Rosedale-Moore Park",
          "Rouge",
          "Runnymede-Bloor West Village",
          "Rustic",
          "Scarborough Village",
          "South Parkdale",
          "South Riverdale",
          "St.Andrew-Windfields",
          "Steeles",
          "Stonegate-Queensway",
          "Tam O'Shanter-Sullivan",
          "Taylor-Massey",
          "The Beaches",
          "Thistletown-Beaumond Heights",
          "Thorncliffe Park",
          "Trinity-Bellwoods",
          "University",
          "Victoria Village",
          "Waterfront Communities-The Island",
          "West Hill",
          "West Humber-Clairville",
          "Westminster-Branson",
          "Weston",
          "Weston-Pelham Park",
          "Wexford/Maryvale",
          "Willowdale East",
          "Willowdale West",
          "Willowridge-Martingrove-Richview",
          "Woburn",
          "Woodbine Corridor",
          "Woodbine-Lumsden",
          "Wychwood",
          "Yonge-Eglinton",
          "Yonge-St.Clair",
          "York University Heights",
          "Yorkdale-Glen Park",
          "East York",
          "Etobicoke",
          "North York",
          "Old Toronto",
          "Scarborough",
          "York"
         ],
         "name": "",
         "parents": [
          "Scarborough",
          "Scarborough",
          "Etobicoke",
          "Old Toronto",
          "North York",
          "North York",
          "Old Toronto",
          "North York",
          "North York",
          "North York",
          "York",
          "Scarborough",
          "Scarborough",
          "North York",
          "Old Toronto",
          "York",
          "North York",
          "East York",
          "North York",
          "Old Toronto",
          "York",
          "Old Toronto",
          "Scarborough",
          "Old Toronto",
          "Scarborough",
          "North York",
          "Scarborough",
          "Old Toronto",
          "Old Toronto",
          "East York",
          "North York",
          "Scarborough",
          "Old Toronto",
          "North York",
          "Old Toronto",
          "Old Toronto",
          "Etobicoke",
          "Scarborough",
          "Etobicoke",
          "North York",
          "Etobicoke",
          "Etobicoke",
          "North York",
          "Old Toronto",
          "Old Toronto",
          "North York",
          "Old Toronto",
          "Scarborough",
          "North York",
          "Old Toronto",
          "Old Toronto",
          "Scarborough",
          "North York",
          "Etobicoke",
          "North York",
          "North York",
          "York",
          "Scarborough",
          "Etobicoke",
          "Old Toronto",
          "York",
          "Scarborough",
          "Old Toronto",
          "Etobicoke",
          "Etobicoke",
          "Scarborough",
          "York",
          "North York",
          "Old Toronto",
          "Old Toronto",
          "East York",
          "Old Toronto",
          "Etobicoke",
          "Scarborough",
          "North York",
          "Etobicoke",
          "Scarborough",
          "Etobicoke",
          "Scarborough",
          "Old Toronto",
          "York",
          "Etobicoke",
          "Old Toronto",
          "Old Toronto",
          "Etobicoke",
          "North York",
          "North York",
          "Old Toronto",
          "Old Toronto",
          "Old Toronto",
          "East York",
          "Scarborough",
          "York",
          "East York",
          "Old Toronto",
          "North York",
          "North York",
          "Old Toronto",
          "North York",
          "Etobicoke",
          "Old Toronto",
          "Etobicoke",
          "York",
          "Old Toronto",
          "Old Toronto",
          "Scarborough",
          "Old Toronto",
          "North York",
          "Scarborough",
          "Old Toronto",
          "Old Toronto",
          "North York",
          "Scarborough",
          "Etobicoke",
          "Scarborough",
          "East York",
          "Old Toronto",
          "Etobicoke",
          "East York",
          "Old Toronto",
          "Old Toronto",
          "North York",
          "Old Toronto",
          "Scarborough",
          "Etobicoke",
          "North York",
          "York",
          "Old Toronto",
          "Scarborough",
          "North York",
          "North York",
          "Etobicoke",
          "Scarborough",
          "Old Toronto",
          "East York",
          "Old Toronto",
          "Old Toronto",
          "Old Toronto",
          "North York",
          "North York",
          "",
          "",
          "",
          "",
          "",
          ""
         ],
         "type": "sunburst",
         "values": [
          8,
          17,
          1,
          5,
          4,
          3,
          23,
          0,
          1,
          8,
          2,
          4,
          0,
          1,
          2,
          4,
          1,
          2,
          1,
          16,
          1,
          4,
          1,
          27,
          3,
          2,
          3,
          15,
          10,
          3,
          4,
          3,
          4,
          1,
          17,
          6,
          3,
          2,
          1,
          2,
          3,
          0,
          6,
          6,
          3,
          2,
          20,
          1,
          1,
          5,
          1,
          2,
          1,
          1,
          0,
          0,
          2,
          2,
          9,
          9,
          2,
          0,
          20,
          0,
          0,
          7,
          1,
          1,
          17,
          1,
          6,
          13,
          6,
          2,
          2,
          3,
          2,
          0,
          4,
          12,
          6,
          2,
          8,
          28,
          5,
          0,
          0,
          5,
          3,
          6,
          1,
          4,
          4,
          1,
          4,
          1,
          0,
          19,
          7,
          1,
          8,
          1,
          4,
          11,
          2,
          3,
          7,
          1,
          1,
          14,
          0,
          0,
          7,
          0,
          6,
          1,
          12,
          9,
          7,
          7,
          9,
          3,
          0,
          2,
          4,
          1,
          3,
          7,
          4,
          0,
          1,
          0,
          3,
          2,
          4,
          2,
          15,
          23,
          5,
          10,
          25,
          49,
          70,
          428,
          91,
          29
         ]
        }
       ],
       "layout": {
        "legend": {
         "tracegroupgap": 0
        },
        "margin": {
         "b": 0,
         "l": 0,
         "r": 0,
         "t": 40
        },
        "template": {
         "data": {
          "bar": [
           {
            "error_x": {
             "color": "#2a3f5f"
            },
            "error_y": {
             "color": "#2a3f5f"
            },
            "marker": {
             "line": {
              "color": "#E5ECF6",
              "width": 0.5
             }
            },
            "type": "bar"
           }
          ],
          "barpolar": [
           {
            "marker": {
             "line": {
              "color": "#E5ECF6",
              "width": 0.5
             }
            },
            "type": "barpolar"
           }
          ],
          "carpet": [
           {
            "aaxis": {
             "endlinecolor": "#2a3f5f",
             "gridcolor": "white",
             "linecolor": "white",
             "minorgridcolor": "white",
             "startlinecolor": "#2a3f5f"
            },
            "baxis": {
             "endlinecolor": "#2a3f5f",
             "gridcolor": "white",
             "linecolor": "white",
             "minorgridcolor": "white",
             "startlinecolor": "#2a3f5f"
            },
            "type": "carpet"
           }
          ],
          "choropleth": [
           {
            "colorbar": {
             "outlinewidth": 0,
             "ticks": ""
            },
            "type": "choropleth"
           }
          ],
          "contour": [
           {
            "colorbar": {
             "outlinewidth": 0,
             "ticks": ""
            },
            "colorscale": [
             [
              0,
              "#0d0887"
             ],
             [
              0.1111111111111111,
              "#46039f"
             ],
             [
              0.2222222222222222,
              "#7201a8"
             ],
             [
              0.3333333333333333,
              "#9c179e"
             ],
             [
              0.4444444444444444,
              "#bd3786"
             ],
             [
              0.5555555555555556,
              "#d8576b"
             ],
             [
              0.6666666666666666,
              "#ed7953"
             ],
             [
              0.7777777777777778,
              "#fb9f3a"
             ],
             [
              0.8888888888888888,
              "#fdca26"
             ],
             [
              1,
              "#f0f921"
             ]
            ],
            "type": "contour"
           }
          ],
          "contourcarpet": [
           {
            "colorbar": {
             "outlinewidth": 0,
             "ticks": ""
            },
            "type": "contourcarpet"
           }
          ],
          "heatmap": [
           {
            "colorbar": {
             "outlinewidth": 0,
             "ticks": ""
            },
            "colorscale": [
             [
              0,
              "#0d0887"
             ],
             [
              0.1111111111111111,
              "#46039f"
             ],
             [
              0.2222222222222222,
              "#7201a8"
             ],
             [
              0.3333333333333333,
              "#9c179e"
             ],
             [
              0.4444444444444444,
              "#bd3786"
             ],
             [
              0.5555555555555556,
              "#d8576b"
             ],
             [
              0.6666666666666666,
              "#ed7953"
             ],
             [
              0.7777777777777778,
              "#fb9f3a"
             ],
             [
              0.8888888888888888,
              "#fdca26"
             ],
             [
              1,
              "#f0f921"
             ]
            ],
            "type": "heatmap"
           }
          ],
          "heatmapgl": [
           {
            "colorbar": {
             "outlinewidth": 0,
             "ticks": ""
            },
            "colorscale": [
             [
              0,
              "#0d0887"
             ],
             [
              0.1111111111111111,
              "#46039f"
             ],
             [
              0.2222222222222222,
              "#7201a8"
             ],
             [
              0.3333333333333333,
              "#9c179e"
             ],
             [
              0.4444444444444444,
              "#bd3786"
             ],
             [
              0.5555555555555556,
              "#d8576b"
             ],
             [
              0.6666666666666666,
              "#ed7953"
             ],
             [
              0.7777777777777778,
              "#fb9f3a"
             ],
             [
              0.8888888888888888,
              "#fdca26"
             ],
             [
              1,
              "#f0f921"
             ]
            ],
            "type": "heatmapgl"
           }
          ],
          "histogram": [
           {
            "marker": {
             "colorbar": {
              "outlinewidth": 0,
              "ticks": ""
             }
            },
            "type": "histogram"
           }
          ],
          "histogram2d": [
           {
            "colorbar": {
             "outlinewidth": 0,
             "ticks": ""
            },
            "colorscale": [
             [
              0,
              "#0d0887"
             ],
             [
              0.1111111111111111,
              "#46039f"
             ],
             [
              0.2222222222222222,
              "#7201a8"
             ],
             [
              0.3333333333333333,
              "#9c179e"
             ],
             [
              0.4444444444444444,
              "#bd3786"
             ],
             [
              0.5555555555555556,
              "#d8576b"
             ],
             [
              0.6666666666666666,
              "#ed7953"
             ],
             [
              0.7777777777777778,
              "#fb9f3a"
             ],
             [
              0.8888888888888888,
              "#fdca26"
             ],
             [
              1,
              "#f0f921"
             ]
            ],
            "type": "histogram2d"
           }
          ],
          "histogram2dcontour": [
           {
            "colorbar": {
             "outlinewidth": 0,
             "ticks": ""
            },
            "colorscale": [
             [
              0,
              "#0d0887"
             ],
             [
              0.1111111111111111,
              "#46039f"
             ],
             [
              0.2222222222222222,
              "#7201a8"
             ],
             [
              0.3333333333333333,
              "#9c179e"
             ],
             [
              0.4444444444444444,
              "#bd3786"
             ],
             [
              0.5555555555555556,
              "#d8576b"
             ],
             [
              0.6666666666666666,
              "#ed7953"
             ],
             [
              0.7777777777777778,
              "#fb9f3a"
             ],
             [
              0.8888888888888888,
              "#fdca26"
             ],
             [
              1,
              "#f0f921"
             ]
            ],
            "type": "histogram2dcontour"
           }
          ],
          "mesh3d": [
           {
            "colorbar": {
             "outlinewidth": 0,
             "ticks": ""
            },
            "type": "mesh3d"
           }
          ],
          "parcoords": [
           {
            "line": {
             "colorbar": {
              "outlinewidth": 0,
              "ticks": ""
             }
            },
            "type": "parcoords"
           }
          ],
          "pie": [
           {
            "automargin": true,
            "type": "pie"
           }
          ],
          "scatter": [
           {
            "marker": {
             "colorbar": {
              "outlinewidth": 0,
              "ticks": ""
             }
            },
            "type": "scatter"
           }
          ],
          "scatter3d": [
           {
            "line": {
             "colorbar": {
              "outlinewidth": 0,
              "ticks": ""
             }
            },
            "marker": {
             "colorbar": {
              "outlinewidth": 0,
              "ticks": ""
             }
            },
            "type": "scatter3d"
           }
          ],
          "scattercarpet": [
           {
            "marker": {
             "colorbar": {
              "outlinewidth": 0,
              "ticks": ""
             }
            },
            "type": "scattercarpet"
           }
          ],
          "scattergeo": [
           {
            "marker": {
             "colorbar": {
              "outlinewidth": 0,
              "ticks": ""
             }
            },
            "type": "scattergeo"
           }
          ],
          "scattergl": [
           {
            "marker": {
             "colorbar": {
              "outlinewidth": 0,
              "ticks": ""
             }
            },
            "type": "scattergl"
           }
          ],
          "scattermapbox": [
           {
            "marker": {
             "colorbar": {
              "outlinewidth": 0,
              "ticks": ""
             }
            },
            "type": "scattermapbox"
           }
          ],
          "scatterpolar": [
           {
            "marker": {
             "colorbar": {
              "outlinewidth": 0,
              "ticks": ""
             }
            },
            "type": "scatterpolar"
           }
          ],
          "scatterpolargl": [
           {
            "marker": {
             "colorbar": {
              "outlinewidth": 0,
              "ticks": ""
             }
            },
            "type": "scatterpolargl"
           }
          ],
          "scatterternary": [
           {
            "marker": {
             "colorbar": {
              "outlinewidth": 0,
              "ticks": ""
             }
            },
            "type": "scatterternary"
           }
          ],
          "surface": [
           {
            "colorbar": {
             "outlinewidth": 0,
             "ticks": ""
            },
            "colorscale": [
             [
              0,
              "#0d0887"
             ],
             [
              0.1111111111111111,
              "#46039f"
             ],
             [
              0.2222222222222222,
              "#7201a8"
             ],
             [
              0.3333333333333333,
              "#9c179e"
             ],
             [
              0.4444444444444444,
              "#bd3786"
             ],
             [
              0.5555555555555556,
              "#d8576b"
             ],
             [
              0.6666666666666666,
              "#ed7953"
             ],
             [
              0.7777777777777778,
              "#fb9f3a"
             ],
             [
              0.8888888888888888,
              "#fdca26"
             ],
             [
              1,
              "#f0f921"
             ]
            ],
            "type": "surface"
           }
          ],
          "table": [
           {
            "cells": {
             "fill": {
              "color": "#EBF0F8"
             },
             "line": {
              "color": "white"
             }
            },
            "header": {
             "fill": {
              "color": "#C8D4E3"
             },
             "line": {
              "color": "white"
             }
            },
            "type": "table"
           }
          ]
         },
         "layout": {
          "annotationdefaults": {
           "arrowcolor": "#2a3f5f",
           "arrowhead": 0,
           "arrowwidth": 1
          },
          "coloraxis": {
           "colorbar": {
            "outlinewidth": 0,
            "ticks": ""
           }
          },
          "colorscale": {
           "diverging": [
            [
             0,
             "#8e0152"
            ],
            [
             0.1,
             "#c51b7d"
            ],
            [
             0.2,
             "#de77ae"
            ],
            [
             0.3,
             "#f1b6da"
            ],
            [
             0.4,
             "#fde0ef"
            ],
            [
             0.5,
             "#f7f7f7"
            ],
            [
             0.6,
             "#e6f5d0"
            ],
            [
             0.7,
             "#b8e186"
            ],
            [
             0.8,
             "#7fbc41"
            ],
            [
             0.9,
             "#4d9221"
            ],
            [
             1,
             "#276419"
            ]
           ],
           "sequential": [
            [
             0,
             "#0d0887"
            ],
            [
             0.1111111111111111,
             "#46039f"
            ],
            [
             0.2222222222222222,
             "#7201a8"
            ],
            [
             0.3333333333333333,
             "#9c179e"
            ],
            [
             0.4444444444444444,
             "#bd3786"
            ],
            [
             0.5555555555555556,
             "#d8576b"
            ],
            [
             0.6666666666666666,
             "#ed7953"
            ],
            [
             0.7777777777777778,
             "#fb9f3a"
            ],
            [
             0.8888888888888888,
             "#fdca26"
            ],
            [
             1,
             "#f0f921"
            ]
           ],
           "sequentialminus": [
            [
             0,
             "#0d0887"
            ],
            [
             0.1111111111111111,
             "#46039f"
            ],
            [
             0.2222222222222222,
             "#7201a8"
            ],
            [
             0.3333333333333333,
             "#9c179e"
            ],
            [
             0.4444444444444444,
             "#bd3786"
            ],
            [
             0.5555555555555556,
             "#d8576b"
            ],
            [
             0.6666666666666666,
             "#ed7953"
            ],
            [
             0.7777777777777778,
             "#fb9f3a"
            ],
            [
             0.8888888888888888,
             "#fdca26"
            ],
            [
             1,
             "#f0f921"
            ]
           ]
          },
          "colorway": [
           "#636efa",
           "#EF553B",
           "#00cc96",
           "#ab63fa",
           "#FFA15A",
           "#19d3f3",
           "#FF6692",
           "#B6E880",
           "#FF97FF",
           "#FECB52"
          ],
          "font": {
           "color": "#2a3f5f"
          },
          "geo": {
           "bgcolor": "white",
           "lakecolor": "white",
           "landcolor": "#E5ECF6",
           "showlakes": true,
           "showland": true,
           "subunitcolor": "white"
          },
          "hoverlabel": {
           "align": "left"
          },
          "hovermode": "closest",
          "mapbox": {
           "style": "light"
          },
          "paper_bgcolor": "white",
          "plot_bgcolor": "#E5ECF6",
          "polar": {
           "angularaxis": {
            "gridcolor": "white",
            "linecolor": "white",
            "ticks": ""
           },
           "bgcolor": "#E5ECF6",
           "radialaxis": {
            "gridcolor": "white",
            "linecolor": "white",
            "ticks": ""
           }
          },
          "scene": {
           "xaxis": {
            "backgroundcolor": "#E5ECF6",
            "gridcolor": "white",
            "gridwidth": 2,
            "linecolor": "white",
            "showbackground": true,
            "ticks": "",
            "zerolinecolor": "white"
           },
           "yaxis": {
            "backgroundcolor": "#E5ECF6",
            "gridcolor": "white",
            "gridwidth": 2,
            "linecolor": "white",
            "showbackground": true,
            "ticks": "",
            "zerolinecolor": "white"
           },
           "zaxis": {
            "backgroundcolor": "#E5ECF6",
            "gridcolor": "white",
            "gridwidth": 2,
            "linecolor": "white",
            "showbackground": true,
            "ticks": "",
            "zerolinecolor": "white"
           }
          },
          "shapedefaults": {
           "line": {
            "color": "#2a3f5f"
           }
          },
          "ternary": {
           "aaxis": {
            "gridcolor": "white",
            "linecolor": "white",
            "ticks": ""
           },
           "baxis": {
            "gridcolor": "white",
            "linecolor": "white",
            "ticks": ""
           },
           "bgcolor": "#E5ECF6",
           "caxis": {
            "gridcolor": "white",
            "linecolor": "white",
            "ticks": ""
           }
          },
          "title": {
           "x": 0.05
          },
          "xaxis": {
           "automargin": true,
           "gridcolor": "white",
           "linecolor": "white",
           "ticks": "",
           "title": {
            "standoff": 15
           },
           "zerolinecolor": "white",
           "zerolinewidth": 2
          },
          "yaxis": {
           "automargin": true,
           "gridcolor": "white",
           "linecolor": "white",
           "ticks": "",
           "title": {
            "standoff": 15
           },
           "zerolinecolor": "white",
           "zerolinewidth": 2
          }
         }
        },
        "title": {
         "text": "Toronto Neighbourhoods and Districts showing Essential Venues"
        }
       }
      },
      "text/html": [
       "<div>                            <div id=\"610d1255-860d-43fe-a136-27af85fd02af\" class=\"plotly-graph-div\" style=\"height:525px; width:100%;\"></div>            <script type=\"text/javascript\">                require([\"plotly\"], function(Plotly) {                    window.PLOTLYENV=window.PLOTLYENV || {};                                    if (document.getElementById(\"610d1255-860d-43fe-a136-27af85fd02af\")) {                    Plotly.newPlot(                        \"610d1255-860d-43fe-a136-27af85fd02af\",                        [{\"branchvalues\": \"total\", \"domain\": {\"x\": [0.0, 1.0], \"y\": [0.0, 1.0]}, \"hovertemplate\": \"<b>%{hovertext}</b><br><br>labels=%{label}<br>Total Essential Venues=%{value}<br>parent=%{parent}<br>id=%{id}<extra></extra>\", \"hovertext\": [\"Agincourt North\", \"Agincourt South-Malvern West\", \"Alderwood\", \"Annex\", \"Banbury-Don Mills\", \"Bathurst Manor\", \"Bay Street Corridor\", \"Bayview Village\", \"Bayview Woods-Steeles\", \"Bedford Park-Nortown\", \"Beechborough-Greenbrook\", \"Bendale\", \"Birchcliffe-Cliffside\", \"Black Creek\", \"Blake-Jones\", \"Briar Hill-Belgravia\", \"Bridle Path-Sunnybrook-York Mills\", \"Broadview North\", \"Brookhaven-Amesbury\", \"Cabbagetown-South St. James Town\", \"Caledonia-Fairbank\", \"Casa Loma\", \"Centennial Scarborough\", \"Church-Yonge Corridor\", \"Clairlea-Birchmount\", \"Clanton Park\", \"Cliffcrest\", \"Corso Italia-Davenport\", \"Danforth\", \"Danforth East York\", \"Don Valley Village\", \"Dorset Park\", \"Dovercourt-Wallace Emerson-Junction\", \"Downsview-Roding-CFB\", \"Dufferin Grove\", \"East End-Danforth\", \"Edenbridge-Humber Valley\", \"Eglinton East\", \"Elms-Old Rexdale\", \"Englemount-Lawrence\", \"Eringate-Centennial-West Deane\", \"Etobicoke West Mall\", \"Flemingdon Park\", \"Forest Hill North\", \"Forest Hill South\", \"Glenfield-Jane Heights\", \"Greenwood-Coxwell\", \"Guildwood\", \"Henry Farm\", \"High Park North\", \"High Park-Swansea\", \"Highland Creek\", \"Hillcrest Village\", \"Humber Heights-Westmount\", \"Humber Summit\", \"Humbermede\", \"Humewood-Cedarvale\", \"Ionview\", \"Islington-City Centre West\", \"Junction Area\", \"Keelesdale-Eglinton West\", \"Kennedy Park\", \"Kensington-Chinatown\", \"Kingsview Village-The Westway\", \"Kingsway South\", \"L'Amoreaux\", \"Lambton Baby Point\", \"Lansing-Westgate\", \"Lawrence Park North\", \"Lawrence Park South\", \"Leaside-Bennington\", \"Little Portugal\", \"Long Branch\", \"Malvern\", \"Maple Leaf\", \"Markland Wood\", \"Milliken\", \"Mimico (includes Humber Bay Shores)\", \"Morningside\", \"Moss Park\", \"Mount Dennis\", \"Mount Olive-Silverstone-Jamestown\", \"Mount Pleasant East\", \"Mount Pleasant West\", \"New Toronto\", \"Newtonbrook East\", \"Newtonbrook West\", \"Niagara\", \"North Riverdale\", \"North St. James Town\", \"O'Connor-Parkview\", \"Oakridge\", \"Oakwood Village\", \"Old East York\", \"Palmerston-Little Italy\", \"Parkwoods-Donalda\", \"Pelmo Park-Humberlea\", \"Playter Estates-Danforth\", \"Pleasant View\", \"Princess-Rosethorn\", \"Regent Park\", \"Rexdale-Kipling\", \"Rockcliffe-Smythe\", \"Roncesvalles\", \"Rosedale-Moore Park\", \"Rouge\", \"Runnymede-Bloor West Village\", \"Rustic\", \"Scarborough Village\", \"South Parkdale\", \"South Riverdale\", \"St.Andrew-Windfields\", \"Steeles\", \"Stonegate-Queensway\", \"Tam O'Shanter-Sullivan\", \"Taylor-Massey\", \"The Beaches\", \"Thistletown-Beaumond Heights\", \"Thorncliffe Park\", \"Trinity-Bellwoods\", \"University\", \"Victoria Village\", \"Waterfront Communities-The Island\", \"West Hill\", \"West Humber-Clairville\", \"Westminster-Branson\", \"Weston\", \"Weston-Pelham Park\", \"Wexford/Maryvale\", \"Willowdale East\", \"Willowdale West\", \"Willowridge-Martingrove-Richview\", \"Woburn\", \"Woodbine Corridor\", \"Woodbine-Lumsden\", \"Wychwood\", \"Yonge-Eglinton\", \"Yonge-St.Clair\", \"York University Heights\", \"Yorkdale-Glen Park\", \"(?)\", \"(?)\", \"(?)\", \"(?)\", \"(?)\", \"(?)\"], \"ids\": [\"Scarborough/Agincourt North\", \"Scarborough/Agincourt South-Malvern West\", \"Etobicoke/Alderwood\", \"Old Toronto/Annex\", \"North York/Banbury-Don Mills\", \"North York/Bathurst Manor\", \"Old Toronto/Bay Street Corridor\", \"North York/Bayview Village\", \"North York/Bayview Woods-Steeles\", \"North York/Bedford Park-Nortown\", \"York/Beechborough-Greenbrook\", \"Scarborough/Bendale\", \"Scarborough/Birchcliffe-Cliffside\", \"North York/Black Creek\", \"Old Toronto/Blake-Jones\", \"York/Briar Hill-Belgravia\", \"North York/Bridle Path-Sunnybrook-York Mills\", \"East York/Broadview North\", \"North York/Brookhaven-Amesbury\", \"Old Toronto/Cabbagetown-South St. James Town\", \"York/Caledonia-Fairbank\", \"Old Toronto/Casa Loma\", \"Scarborough/Centennial Scarborough\", \"Old Toronto/Church-Yonge Corridor\", \"Scarborough/Clairlea-Birchmount\", \"North York/Clanton Park\", \"Scarborough/Cliffcrest\", \"Old Toronto/Corso Italia-Davenport\", \"Old Toronto/Danforth\", \"East York/Danforth East York\", \"North York/Don Valley Village\", \"Scarborough/Dorset Park\", \"Old Toronto/Dovercourt-Wallace Emerson-Junction\", \"North York/Downsview-Roding-CFB\", \"Old Toronto/Dufferin Grove\", \"Old Toronto/East End-Danforth\", \"Etobicoke/Edenbridge-Humber Valley\", \"Scarborough/Eglinton East\", \"Etobicoke/Elms-Old Rexdale\", \"North York/Englemount-Lawrence\", \"Etobicoke/Eringate-Centennial-West Deane\", \"Etobicoke/Etobicoke West Mall\", \"North York/Flemingdon Park\", \"Old Toronto/Forest Hill North\", \"Old Toronto/Forest Hill South\", \"North York/Glenfield-Jane Heights\", \"Old Toronto/Greenwood-Coxwell\", \"Scarborough/Guildwood\", \"North York/Henry Farm\", \"Old Toronto/High Park North\", \"Old Toronto/High Park-Swansea\", \"Scarborough/Highland Creek\", \"North York/Hillcrest Village\", \"Etobicoke/Humber Heights-Westmount\", \"North York/Humber Summit\", \"North York/Humbermede\", \"York/Humewood-Cedarvale\", \"Scarborough/Ionview\", \"Etobicoke/Islington-City Centre West\", \"Old Toronto/Junction Area\", \"York/Keelesdale-Eglinton West\", \"Scarborough/Kennedy Park\", \"Old Toronto/Kensington-Chinatown\", \"Etobicoke/Kingsview Village-The Westway\", \"Etobicoke/Kingsway South\", \"Scarborough/L'Amoreaux\", \"York/Lambton Baby Point\", \"North York/Lansing-Westgate\", \"Old Toronto/Lawrence Park North\", \"Old Toronto/Lawrence Park South\", \"East York/Leaside-Bennington\", \"Old Toronto/Little Portugal\", \"Etobicoke/Long Branch\", \"Scarborough/Malvern\", \"North York/Maple Leaf\", \"Etobicoke/Markland Wood\", \"Scarborough/Milliken\", \"Etobicoke/Mimico (includes Humber Bay Shores)\", \"Scarborough/Morningside\", \"Old Toronto/Moss Park\", \"York/Mount Dennis\", \"Etobicoke/Mount Olive-Silverstone-Jamestown\", \"Old Toronto/Mount Pleasant East\", \"Old Toronto/Mount Pleasant West\", \"Etobicoke/New Toronto\", \"North York/Newtonbrook East\", \"North York/Newtonbrook West\", \"Old Toronto/Niagara\", \"Old Toronto/North Riverdale\", \"Old Toronto/North St. James Town\", \"East York/O'Connor-Parkview\", \"Scarborough/Oakridge\", \"York/Oakwood Village\", \"East York/Old East York\", \"Old Toronto/Palmerston-Little Italy\", \"North York/Parkwoods-Donalda\", \"North York/Pelmo Park-Humberlea\", \"Old Toronto/Playter Estates-Danforth\", \"North York/Pleasant View\", \"Etobicoke/Princess-Rosethorn\", \"Old Toronto/Regent Park\", \"Etobicoke/Rexdale-Kipling\", \"York/Rockcliffe-Smythe\", \"Old Toronto/Roncesvalles\", \"Old Toronto/Rosedale-Moore Park\", \"Scarborough/Rouge\", \"Old Toronto/Runnymede-Bloor West Village\", \"North York/Rustic\", \"Scarborough/Scarborough Village\", \"Old Toronto/South Parkdale\", \"Old Toronto/South Riverdale\", \"North York/St.Andrew-Windfields\", \"Scarborough/Steeles\", \"Etobicoke/Stonegate-Queensway\", \"Scarborough/Tam O'Shanter-Sullivan\", \"East York/Taylor-Massey\", \"Old Toronto/The Beaches\", \"Etobicoke/Thistletown-Beaumond Heights\", \"East York/Thorncliffe Park\", \"Old Toronto/Trinity-Bellwoods\", \"Old Toronto/University\", \"North York/Victoria Village\", \"Old Toronto/Waterfront Communities-The Island\", \"Scarborough/West Hill\", \"Etobicoke/West Humber-Clairville\", \"North York/Westminster-Branson\", \"York/Weston\", \"Old Toronto/Weston-Pelham Park\", \"Scarborough/Wexford/Maryvale\", \"North York/Willowdale East\", \"North York/Willowdale West\", \"Etobicoke/Willowridge-Martingrove-Richview\", \"Scarborough/Woburn\", \"Old Toronto/Woodbine Corridor\", \"East York/Woodbine-Lumsden\", \"Old Toronto/Wychwood\", \"Old Toronto/Yonge-Eglinton\", \"Old Toronto/Yonge-St.Clair\", \"North York/York University Heights\", \"North York/Yorkdale-Glen Park\", \"East York\", \"Etobicoke\", \"North York\", \"Old Toronto\", \"Scarborough\", \"York\"], \"labels\": [\"Agincourt North\", \"Agincourt South-Malvern West\", \"Alderwood\", \"Annex\", \"Banbury-Don Mills\", \"Bathurst Manor\", \"Bay Street Corridor\", \"Bayview Village\", \"Bayview Woods-Steeles\", \"Bedford Park-Nortown\", \"Beechborough-Greenbrook\", \"Bendale\", \"Birchcliffe-Cliffside\", \"Black Creek\", \"Blake-Jones\", \"Briar Hill-Belgravia\", \"Bridle Path-Sunnybrook-York Mills\", \"Broadview North\", \"Brookhaven-Amesbury\", \"Cabbagetown-South St. James Town\", \"Caledonia-Fairbank\", \"Casa Loma\", \"Centennial Scarborough\", \"Church-Yonge Corridor\", \"Clairlea-Birchmount\", \"Clanton Park\", \"Cliffcrest\", \"Corso Italia-Davenport\", \"Danforth\", \"Danforth East York\", \"Don Valley Village\", \"Dorset Park\", \"Dovercourt-Wallace Emerson-Junction\", \"Downsview-Roding-CFB\", \"Dufferin Grove\", \"East End-Danforth\", \"Edenbridge-Humber Valley\", \"Eglinton East\", \"Elms-Old Rexdale\", \"Englemount-Lawrence\", \"Eringate-Centennial-West Deane\", \"Etobicoke West Mall\", \"Flemingdon Park\", \"Forest Hill North\", \"Forest Hill South\", \"Glenfield-Jane Heights\", \"Greenwood-Coxwell\", \"Guildwood\", \"Henry Farm\", \"High Park North\", \"High Park-Swansea\", \"Highland Creek\", \"Hillcrest Village\", \"Humber Heights-Westmount\", \"Humber Summit\", \"Humbermede\", \"Humewood-Cedarvale\", \"Ionview\", \"Islington-City Centre West\", \"Junction Area\", \"Keelesdale-Eglinton West\", \"Kennedy Park\", \"Kensington-Chinatown\", \"Kingsview Village-The Westway\", \"Kingsway South\", \"L'Amoreaux\", \"Lambton Baby Point\", \"Lansing-Westgate\", \"Lawrence Park North\", \"Lawrence Park South\", \"Leaside-Bennington\", \"Little Portugal\", \"Long Branch\", \"Malvern\", \"Maple Leaf\", \"Markland Wood\", \"Milliken\", \"Mimico (includes Humber Bay Shores)\", \"Morningside\", \"Moss Park\", \"Mount Dennis\", \"Mount Olive-Silverstone-Jamestown\", \"Mount Pleasant East\", \"Mount Pleasant West\", \"New Toronto\", \"Newtonbrook East\", \"Newtonbrook West\", \"Niagara\", \"North Riverdale\", \"North St. James Town\", \"O'Connor-Parkview\", \"Oakridge\", \"Oakwood Village\", \"Old East York\", \"Palmerston-Little Italy\", \"Parkwoods-Donalda\", \"Pelmo Park-Humberlea\", \"Playter Estates-Danforth\", \"Pleasant View\", \"Princess-Rosethorn\", \"Regent Park\", \"Rexdale-Kipling\", \"Rockcliffe-Smythe\", \"Roncesvalles\", \"Rosedale-Moore Park\", \"Rouge\", \"Runnymede-Bloor West Village\", \"Rustic\", \"Scarborough Village\", \"South Parkdale\", \"South Riverdale\", \"St.Andrew-Windfields\", \"Steeles\", \"Stonegate-Queensway\", \"Tam O'Shanter-Sullivan\", \"Taylor-Massey\", \"The Beaches\", \"Thistletown-Beaumond Heights\", \"Thorncliffe Park\", \"Trinity-Bellwoods\", \"University\", \"Victoria Village\", \"Waterfront Communities-The Island\", \"West Hill\", \"West Humber-Clairville\", \"Westminster-Branson\", \"Weston\", \"Weston-Pelham Park\", \"Wexford/Maryvale\", \"Willowdale East\", \"Willowdale West\", \"Willowridge-Martingrove-Richview\", \"Woburn\", \"Woodbine Corridor\", \"Woodbine-Lumsden\", \"Wychwood\", \"Yonge-Eglinton\", \"Yonge-St.Clair\", \"York University Heights\", \"Yorkdale-Glen Park\", \"East York\", \"Etobicoke\", \"North York\", \"Old Toronto\", \"Scarborough\", \"York\"], \"name\": \"\", \"parents\": [\"Scarborough\", \"Scarborough\", \"Etobicoke\", \"Old Toronto\", \"North York\", \"North York\", \"Old Toronto\", \"North York\", \"North York\", \"North York\", \"York\", \"Scarborough\", \"Scarborough\", \"North York\", \"Old Toronto\", \"York\", \"North York\", \"East York\", \"North York\", \"Old Toronto\", \"York\", \"Old Toronto\", \"Scarborough\", \"Old Toronto\", \"Scarborough\", \"North York\", \"Scarborough\", \"Old Toronto\", \"Old Toronto\", \"East York\", \"North York\", \"Scarborough\", \"Old Toronto\", \"North York\", \"Old Toronto\", \"Old Toronto\", \"Etobicoke\", \"Scarborough\", \"Etobicoke\", \"North York\", \"Etobicoke\", \"Etobicoke\", \"North York\", \"Old Toronto\", \"Old Toronto\", \"North York\", \"Old Toronto\", \"Scarborough\", \"North York\", \"Old Toronto\", \"Old Toronto\", \"Scarborough\", \"North York\", \"Etobicoke\", \"North York\", \"North York\", \"York\", \"Scarborough\", \"Etobicoke\", \"Old Toronto\", \"York\", \"Scarborough\", \"Old Toronto\", \"Etobicoke\", \"Etobicoke\", \"Scarborough\", \"York\", \"North York\", \"Old Toronto\", \"Old Toronto\", \"East York\", \"Old Toronto\", \"Etobicoke\", \"Scarborough\", \"North York\", \"Etobicoke\", \"Scarborough\", \"Etobicoke\", \"Scarborough\", \"Old Toronto\", \"York\", \"Etobicoke\", \"Old Toronto\", \"Old Toronto\", \"Etobicoke\", \"North York\", \"North York\", \"Old Toronto\", \"Old Toronto\", \"Old Toronto\", \"East York\", \"Scarborough\", \"York\", \"East York\", \"Old Toronto\", \"North York\", \"North York\", \"Old Toronto\", \"North York\", \"Etobicoke\", \"Old Toronto\", \"Etobicoke\", \"York\", \"Old Toronto\", \"Old Toronto\", \"Scarborough\", \"Old Toronto\", \"North York\", \"Scarborough\", \"Old Toronto\", \"Old Toronto\", \"North York\", \"Scarborough\", \"Etobicoke\", \"Scarborough\", \"East York\", \"Old Toronto\", \"Etobicoke\", \"East York\", \"Old Toronto\", \"Old Toronto\", \"North York\", \"Old Toronto\", \"Scarborough\", \"Etobicoke\", \"North York\", \"York\", \"Old Toronto\", \"Scarborough\", \"North York\", \"North York\", \"Etobicoke\", \"Scarborough\", \"Old Toronto\", \"East York\", \"Old Toronto\", \"Old Toronto\", \"Old Toronto\", \"North York\", \"North York\", \"\", \"\", \"\", \"\", \"\", \"\"], \"type\": \"sunburst\", \"values\": [8, 17, 1, 5, 4, 3, 23, 0, 1, 8, 2, 4, 0, 1, 2, 4, 1, 2, 1, 16, 1, 4, 1, 27, 3, 2, 3, 15, 10, 3, 4, 3, 4, 1, 17, 6, 3, 2, 1, 2, 3, 0, 6, 6, 3, 2, 20, 1, 1, 5, 1, 2, 1, 1, 0, 0, 2, 2, 9, 9, 2, 0, 20, 0, 0, 7, 1, 1, 17, 1, 6, 13, 6, 2, 2, 3, 2, 0, 4, 12, 6, 2, 8, 28, 5, 0, 0, 5, 3, 6, 1, 4, 4, 1, 4, 1, 0, 19, 7, 1, 8, 1, 4, 11, 2, 3, 7, 1, 1, 14, 0, 0, 7, 0, 6, 1, 12, 9, 7, 7, 9, 3, 0, 2, 4, 1, 3, 7, 4, 0, 1, 0, 3, 2, 4, 2, 15, 23, 5, 10, 25, 49, 70, 428, 91, 29]}],                        {\"legend\": {\"tracegroupgap\": 0}, \"margin\": {\"b\": 0, \"l\": 0, \"r\": 0, \"t\": 40}, \"template\": {\"data\": {\"bar\": [{\"error_x\": {\"color\": \"#2a3f5f\"}, \"error_y\": {\"color\": \"#2a3f5f\"}, \"marker\": {\"line\": {\"color\": \"#E5ECF6\", \"width\": 0.5}}, \"type\": \"bar\"}], \"barpolar\": [{\"marker\": {\"line\": {\"color\": \"#E5ECF6\", \"width\": 0.5}}, \"type\": \"barpolar\"}], \"carpet\": [{\"aaxis\": {\"endlinecolor\": \"#2a3f5f\", \"gridcolor\": \"white\", \"linecolor\": \"white\", \"minorgridcolor\": \"white\", \"startlinecolor\": \"#2a3f5f\"}, \"baxis\": {\"endlinecolor\": \"#2a3f5f\", \"gridcolor\": \"white\", \"linecolor\": \"white\", \"minorgridcolor\": \"white\", \"startlinecolor\": \"#2a3f5f\"}, \"type\": \"carpet\"}], \"choropleth\": [{\"colorbar\": {\"outlinewidth\": 0, \"ticks\": \"\"}, \"type\": \"choropleth\"}], \"contour\": [{\"colorbar\": {\"outlinewidth\": 0, \"ticks\": \"\"}, \"colorscale\": [[0.0, \"#0d0887\"], [0.1111111111111111, \"#46039f\"], [0.2222222222222222, \"#7201a8\"], [0.3333333333333333, \"#9c179e\"], [0.4444444444444444, \"#bd3786\"], [0.5555555555555556, \"#d8576b\"], [0.6666666666666666, \"#ed7953\"], [0.7777777777777778, \"#fb9f3a\"], [0.8888888888888888, \"#fdca26\"], [1.0, \"#f0f921\"]], \"type\": \"contour\"}], \"contourcarpet\": [{\"colorbar\": {\"outlinewidth\": 0, \"ticks\": \"\"}, \"type\": \"contourcarpet\"}], \"heatmap\": [{\"colorbar\": {\"outlinewidth\": 0, \"ticks\": \"\"}, \"colorscale\": [[0.0, \"#0d0887\"], [0.1111111111111111, \"#46039f\"], [0.2222222222222222, \"#7201a8\"], [0.3333333333333333, \"#9c179e\"], [0.4444444444444444, \"#bd3786\"], [0.5555555555555556, \"#d8576b\"], [0.6666666666666666, \"#ed7953\"], [0.7777777777777778, \"#fb9f3a\"], [0.8888888888888888, \"#fdca26\"], [1.0, \"#f0f921\"]], \"type\": \"heatmap\"}], \"heatmapgl\": [{\"colorbar\": {\"outlinewidth\": 0, \"ticks\": \"\"}, \"colorscale\": [[0.0, \"#0d0887\"], [0.1111111111111111, \"#46039f\"], [0.2222222222222222, \"#7201a8\"], [0.3333333333333333, \"#9c179e\"], [0.4444444444444444, \"#bd3786\"], [0.5555555555555556, \"#d8576b\"], [0.6666666666666666, \"#ed7953\"], [0.7777777777777778, \"#fb9f3a\"], [0.8888888888888888, \"#fdca26\"], [1.0, \"#f0f921\"]], \"type\": \"heatmapgl\"}], \"histogram\": [{\"marker\": {\"colorbar\": {\"outlinewidth\": 0, \"ticks\": \"\"}}, \"type\": \"histogram\"}], \"histogram2d\": [{\"colorbar\": {\"outlinewidth\": 0, \"ticks\": \"\"}, \"colorscale\": [[0.0, \"#0d0887\"], [0.1111111111111111, \"#46039f\"], [0.2222222222222222, \"#7201a8\"], [0.3333333333333333, \"#9c179e\"], [0.4444444444444444, \"#bd3786\"], [0.5555555555555556, \"#d8576b\"], [0.6666666666666666, \"#ed7953\"], [0.7777777777777778, \"#fb9f3a\"], [0.8888888888888888, \"#fdca26\"], [1.0, \"#f0f921\"]], \"type\": \"histogram2d\"}], \"histogram2dcontour\": [{\"colorbar\": {\"outlinewidth\": 0, \"ticks\": \"\"}, \"colorscale\": [[0.0, \"#0d0887\"], [0.1111111111111111, \"#46039f\"], [0.2222222222222222, \"#7201a8\"], [0.3333333333333333, \"#9c179e\"], [0.4444444444444444, \"#bd3786\"], [0.5555555555555556, \"#d8576b\"], [0.6666666666666666, \"#ed7953\"], [0.7777777777777778, \"#fb9f3a\"], [0.8888888888888888, \"#fdca26\"], [1.0, \"#f0f921\"]], \"type\": \"histogram2dcontour\"}], \"mesh3d\": [{\"colorbar\": {\"outlinewidth\": 0, \"ticks\": \"\"}, \"type\": \"mesh3d\"}], \"parcoords\": [{\"line\": {\"colorbar\": {\"outlinewidth\": 0, \"ticks\": \"\"}}, \"type\": \"parcoords\"}], \"pie\": [{\"automargin\": true, \"type\": \"pie\"}], \"scatter\": [{\"marker\": {\"colorbar\": {\"outlinewidth\": 0, \"ticks\": \"\"}}, \"type\": \"scatter\"}], \"scatter3d\": [{\"line\": {\"colorbar\": {\"outlinewidth\": 0, \"ticks\": \"\"}}, \"marker\": {\"colorbar\": {\"outlinewidth\": 0, \"ticks\": \"\"}}, \"type\": \"scatter3d\"}], \"scattercarpet\": [{\"marker\": {\"colorbar\": {\"outlinewidth\": 0, \"ticks\": \"\"}}, \"type\": \"scattercarpet\"}], \"scattergeo\": [{\"marker\": {\"colorbar\": {\"outlinewidth\": 0, \"ticks\": \"\"}}, \"type\": \"scattergeo\"}], \"scattergl\": [{\"marker\": {\"colorbar\": {\"outlinewidth\": 0, \"ticks\": \"\"}}, \"type\": \"scattergl\"}], \"scattermapbox\": [{\"marker\": {\"colorbar\": {\"outlinewidth\": 0, \"ticks\": \"\"}}, \"type\": \"scattermapbox\"}], \"scatterpolar\": [{\"marker\": {\"colorbar\": {\"outlinewidth\": 0, \"ticks\": \"\"}}, \"type\": \"scatterpolar\"}], \"scatterpolargl\": [{\"marker\": {\"colorbar\": {\"outlinewidth\": 0, \"ticks\": \"\"}}, \"type\": \"scatterpolargl\"}], \"scatterternary\": [{\"marker\": {\"colorbar\": {\"outlinewidth\": 0, \"ticks\": \"\"}}, \"type\": \"scatterternary\"}], \"surface\": [{\"colorbar\": {\"outlinewidth\": 0, \"ticks\": \"\"}, \"colorscale\": [[0.0, \"#0d0887\"], [0.1111111111111111, \"#46039f\"], [0.2222222222222222, \"#7201a8\"], [0.3333333333333333, \"#9c179e\"], [0.4444444444444444, \"#bd3786\"], [0.5555555555555556, \"#d8576b\"], [0.6666666666666666, \"#ed7953\"], [0.7777777777777778, \"#fb9f3a\"], [0.8888888888888888, \"#fdca26\"], [1.0, \"#f0f921\"]], \"type\": \"surface\"}], \"table\": [{\"cells\": {\"fill\": {\"color\": \"#EBF0F8\"}, \"line\": {\"color\": \"white\"}}, \"header\": {\"fill\": {\"color\": \"#C8D4E3\"}, \"line\": {\"color\": \"white\"}}, \"type\": \"table\"}]}, \"layout\": {\"annotationdefaults\": {\"arrowcolor\": \"#2a3f5f\", \"arrowhead\": 0, \"arrowwidth\": 1}, \"coloraxis\": {\"colorbar\": {\"outlinewidth\": 0, \"ticks\": \"\"}}, \"colorscale\": {\"diverging\": [[0, \"#8e0152\"], [0.1, \"#c51b7d\"], [0.2, \"#de77ae\"], [0.3, \"#f1b6da\"], [0.4, \"#fde0ef\"], [0.5, \"#f7f7f7\"], [0.6, \"#e6f5d0\"], [0.7, \"#b8e186\"], [0.8, \"#7fbc41\"], [0.9, \"#4d9221\"], [1, \"#276419\"]], \"sequential\": [[0.0, \"#0d0887\"], [0.1111111111111111, \"#46039f\"], [0.2222222222222222, \"#7201a8\"], [0.3333333333333333, \"#9c179e\"], [0.4444444444444444, \"#bd3786\"], [0.5555555555555556, \"#d8576b\"], [0.6666666666666666, \"#ed7953\"], [0.7777777777777778, \"#fb9f3a\"], [0.8888888888888888, \"#fdca26\"], [1.0, \"#f0f921\"]], \"sequentialminus\": [[0.0, \"#0d0887\"], [0.1111111111111111, \"#46039f\"], [0.2222222222222222, \"#7201a8\"], [0.3333333333333333, \"#9c179e\"], [0.4444444444444444, \"#bd3786\"], [0.5555555555555556, \"#d8576b\"], [0.6666666666666666, \"#ed7953\"], [0.7777777777777778, \"#fb9f3a\"], [0.8888888888888888, \"#fdca26\"], [1.0, \"#f0f921\"]]}, \"colorway\": [\"#636efa\", \"#EF553B\", \"#00cc96\", \"#ab63fa\", \"#FFA15A\", \"#19d3f3\", \"#FF6692\", \"#B6E880\", \"#FF97FF\", \"#FECB52\"], \"font\": {\"color\": \"#2a3f5f\"}, \"geo\": {\"bgcolor\": \"white\", \"lakecolor\": \"white\", \"landcolor\": \"#E5ECF6\", \"showlakes\": true, \"showland\": true, \"subunitcolor\": \"white\"}, \"hoverlabel\": {\"align\": \"left\"}, \"hovermode\": \"closest\", \"mapbox\": {\"style\": \"light\"}, \"paper_bgcolor\": \"white\", \"plot_bgcolor\": \"#E5ECF6\", \"polar\": {\"angularaxis\": {\"gridcolor\": \"white\", \"linecolor\": \"white\", \"ticks\": \"\"}, \"bgcolor\": \"#E5ECF6\", \"radialaxis\": {\"gridcolor\": \"white\", \"linecolor\": \"white\", \"ticks\": \"\"}}, \"scene\": {\"xaxis\": {\"backgroundcolor\": \"#E5ECF6\", \"gridcolor\": \"white\", \"gridwidth\": 2, \"linecolor\": \"white\", \"showbackground\": true, \"ticks\": \"\", \"zerolinecolor\": \"white\"}, \"yaxis\": {\"backgroundcolor\": \"#E5ECF6\", \"gridcolor\": \"white\", \"gridwidth\": 2, \"linecolor\": \"white\", \"showbackground\": true, \"ticks\": \"\", \"zerolinecolor\": \"white\"}, \"zaxis\": {\"backgroundcolor\": \"#E5ECF6\", \"gridcolor\": \"white\", \"gridwidth\": 2, \"linecolor\": \"white\", \"showbackground\": true, \"ticks\": \"\", \"zerolinecolor\": \"white\"}}, \"shapedefaults\": {\"line\": {\"color\": \"#2a3f5f\"}}, \"ternary\": {\"aaxis\": {\"gridcolor\": \"white\", \"linecolor\": \"white\", \"ticks\": \"\"}, \"baxis\": {\"gridcolor\": \"white\", \"linecolor\": \"white\", \"ticks\": \"\"}, \"bgcolor\": \"#E5ECF6\", \"caxis\": {\"gridcolor\": \"white\", \"linecolor\": \"white\", \"ticks\": \"\"}}, \"title\": {\"x\": 0.05}, \"xaxis\": {\"automargin\": true, \"gridcolor\": \"white\", \"linecolor\": \"white\", \"ticks\": \"\", \"title\": {\"standoff\": 15}, \"zerolinecolor\": \"white\", \"zerolinewidth\": 2}, \"yaxis\": {\"automargin\": true, \"gridcolor\": \"white\", \"linecolor\": \"white\", \"ticks\": \"\", \"title\": {\"standoff\": 15}, \"zerolinecolor\": \"white\", \"zerolinewidth\": 2}}}, \"title\": {\"text\": \"Toronto Neighbourhoods and Districts showing Essential Venues\"}},                        {\"responsive\": true}                    ).then(function(){\n",
       "                            \n",
       "var gd = document.getElementById('610d1255-860d-43fe-a136-27af85fd02af');\n",
       "var x = new MutationObserver(function (mutations, observer) {{\n",
       "        var display = window.getComputedStyle(gd).display;\n",
       "        if (!display || display === 'none') {{\n",
       "            console.log([gd, 'removed!']);\n",
       "            Plotly.purge(gd);\n",
       "            observer.disconnect();\n",
       "        }}\n",
       "}});\n",
       "\n",
       "// Listen for the removal of the full notebook cells\n",
       "var notebookContainer = gd.closest('#notebook-container');\n",
       "if (notebookContainer) {{\n",
       "    x.observe(notebookContainer, {childList: true});\n",
       "}}\n",
       "\n",
       "// Listen for the clearing of the current output cell\n",
       "var outputEl = gd.closest('.output');\n",
       "if (outputEl) {{\n",
       "    x.observe(outputEl, {childList: true});\n",
       "}}\n",
       "\n",
       "                        })                };                });            </script>        </div>"
      ]
     },
     "metadata": {},
     "output_type": "display_data"
    }
   ],
   "source": [
    "venues_chart = px.sunburst(\n",
    "    essential_venues,\n",
    "    path=['District', 'Neighbourhood Name'],\n",
    "    values='Total Essential Venues',\n",
    "    title='Toronto Neighbourhoods and Districts showing Essential Venues',\n",
    "    hover_name='Neighbourhood Name')\n",
    "\n",
    "venues_chart.update_layout(margin=dict(t=40, l=0, r=0, b=0))\n",
    "venues_chart.show()"
   ]
  },
  {
   "cell_type": "markdown",
   "metadata": {
    "deletable": false,
    "editable": false
   },
   "source": [
    "### Analysis Neighbourhood Clusters based on Total number of Essential Venues"
   ]
  },
  {
   "cell_type": "code",
   "execution_count": 33,
   "metadata": {},
   "outputs": [
    {
     "data": {
      "text/html": [
       "<div>\n",
       "<style scoped>\n",
       "    .dataframe tbody tr th:only-of-type {\n",
       "        vertical-align: middle;\n",
       "    }\n",
       "\n",
       "    .dataframe tbody tr th {\n",
       "        vertical-align: top;\n",
       "    }\n",
       "\n",
       "    .dataframe thead th {\n",
       "        text-align: right;\n",
       "    }\n",
       "</style>\n",
       "<table border=\"1\" class=\"dataframe\">\n",
       "  <thead>\n",
       "    <tr style=\"text-align: right;\">\n",
       "      <th></th>\n",
       "      <th>Cluster Labels</th>\n",
       "      <th>Mean</th>\n",
       "    </tr>\n",
       "  </thead>\n",
       "  <tbody>\n",
       "    <tr>\n",
       "      <th>0</th>\n",
       "      <td>0</td>\n",
       "      <td>1.81</td>\n",
       "    </tr>\n",
       "    <tr>\n",
       "      <th>1</th>\n",
       "      <td>1</td>\n",
       "      <td>19.36</td>\n",
       "    </tr>\n",
       "    <tr>\n",
       "      <th>2</th>\n",
       "      <td>2</td>\n",
       "      <td>7.59</td>\n",
       "    </tr>\n",
       "  </tbody>\n",
       "</table>\n",
       "</div>"
      ],
      "text/plain": [
       "   Cluster Labels  Mean\n",
       "0               0  1.81\n",
       "1               1 19.36\n",
       "2               2  7.59"
      ]
     },
     "execution_count": 33,
     "metadata": {},
     "output_type": "execute_result"
    }
   ],
   "source": [
    "# Get the mean number of essential venues per cluster\n",
    "temp5 = total_venues.groupby('Cluster Labels').mean().reset_index()\n",
    "temp5.rename(columns={'Total':'Mean'},inplace=True)\n",
    "temp5.head()"
   ]
  },
  {
   "cell_type": "markdown",
   "metadata": {},
   "source": [
    "We can see from the results above that Cluster 0 has the neighbourhoods with an average of 2 essential venues while Cluster 1 and 2 have 19 and 8 venues respectively."
   ]
  },
  {
   "cell_type": "code",
   "execution_count": 34,
   "metadata": {},
   "outputs": [
    {
     "name": "stdout",
     "output_type": "stream",
     "text": [
      "Neighbourhoods in Cluster 2 have 5-13 venues\n",
      "Neighbourhoods in Cluster 1 have 14-28 venues\n",
      "Neighbourhoods in Cluster 2 have 0-4 venues\n"
     ]
    }
   ],
   "source": [
    "print('Neighbourhoods in Cluster 2 have {}-{} venues'.format(\n",
    "    total_venues.loc[total_venues['Cluster Labels'] == 2, 'Total'].min(),\n",
    "    total_venues.loc[total_venues['Cluster Labels'] == 2, 'Total'].max()))\n",
    "print('Neighbourhoods in Cluster 1 have {}-{} venues'.format(\n",
    "    total_venues.loc[total_venues['Cluster Labels'] == 1, 'Total'].min(),\n",
    "    total_venues.loc[total_venues['Cluster Labels'] == 1, 'Total'].max()))\n",
    "print('Neighbourhoods in Cluster 2 have {}-{} venues'.format(\n",
    "    total_venues.loc[total_venues['Cluster Labels'] == 0, 'Total'].min(),\n",
    "    total_venues.loc[total_venues['Cluster Labels'] == 0, 'Total'].max()))"
   ]
  },
  {
   "cell_type": "markdown",
   "metadata": {
    "deletable": false,
    "editable": false
   },
   "source": [
    "### Neighbourhoods Venues Density Map\n",
    "This plot was moved to the Final Map plot in [Section 12](#13.-Final-Results-and-Visualizations)"
   ]
  },
  {
   "cell_type": "code",
   "execution_count": 35,
   "metadata": {},
   "outputs": [],
   "source": [
    "# Set index to Neighbourhood ID to match the index in the GeoJSON file created below\n",
    "toronto_venues_map=toronto_venues_map.set_index('Neighbourhood ID')\n",
    "# Rename column 'Cluster Labels' column to aid Visualization \n",
    "toronto_venues_map.rename(columns={'Cluster Labels': 'Venues Density'},\n",
    "                          inplace=True)\n",
    "# Change cluster label values to String values for better visualization\n",
    "toronto_venues_map['Venues Density'] = toronto_venues_map[\n",
    "    'Venues Density'].replace([0, 1, 2], [\"Low\", \"High\", \"Mid\"])"
   ]
  },
  {
   "cell_type": "code",
   "execution_count": 36,
   "metadata": {},
   "outputs": [],
   "source": [
    "# Convert Geopandas to GeoJSON file for use on Plotly visualizations\n",
    "toronto_json= toronto_gdf\n",
    "toronto_json= toronto_json.set_index('Neighbourhood ID')\n",
    "toronto_json = toronto_json.to_crs(epsg=4326) # convert the coordinate reference system to lat/long\n",
    "toronto_json = toronto_json.__geo_interface__ "
   ]
  },
  {
   "cell_type": "markdown",
   "metadata": {
    "deletable": false,
    "editable": false
   },
   "source": [
    "## 10. Import and Clean Primary Benchmarks Datasets"
   ]
  },
  {
   "cell_type": "markdown",
   "metadata": {
    "deletable": false,
    "editable": false
   },
   "source": [
    "The primary benchmarks are Unemployment, Crime and COVID-19 rates. These were in with excel or csv formats and were read in a Pandas dataframe."
   ]
  },
  {
   "cell_type": "markdown",
   "metadata": {},
   "source": [
    "### COVID-19 Rate Dataset"
   ]
  },
  {
   "cell_type": "code",
   "execution_count": 37,
   "metadata": {
    "scrolled": true
   },
   "outputs": [
    {
     "data": {
      "text/html": [
       "<div>\n",
       "<style scoped>\n",
       "    .dataframe tbody tr th:only-of-type {\n",
       "        vertical-align: middle;\n",
       "    }\n",
       "\n",
       "    .dataframe tbody tr th {\n",
       "        vertical-align: top;\n",
       "    }\n",
       "\n",
       "    .dataframe thead th {\n",
       "        text-align: right;\n",
       "    }\n",
       "</style>\n",
       "<table border=\"1\" class=\"dataframe\">\n",
       "  <thead>\n",
       "    <tr style=\"text-align: right;\">\n",
       "      <th></th>\n",
       "      <th>Neighbourhood ID</th>\n",
       "      <th>Covid-19 Rate</th>\n",
       "    </tr>\n",
       "  </thead>\n",
       "  <tbody>\n",
       "    <tr>\n",
       "      <th>0</th>\n",
       "      <td>138</td>\n",
       "      <td>943.98</td>\n",
       "    </tr>\n",
       "    <tr>\n",
       "      <th>1</th>\n",
       "      <td>47</td>\n",
       "      <td>428.82</td>\n",
       "    </tr>\n",
       "    <tr>\n",
       "      <th>2</th>\n",
       "      <td>38</td>\n",
       "      <td>519.67</td>\n",
       "    </tr>\n",
       "    <tr>\n",
       "      <th>3</th>\n",
       "      <td>9</td>\n",
       "      <td>1,017.06</td>\n",
       "    </tr>\n",
       "    <tr>\n",
       "      <th>4</th>\n",
       "      <td>44</td>\n",
       "      <td>1,048.65</td>\n",
       "    </tr>\n",
       "  </tbody>\n",
       "</table>\n",
       "</div>"
      ],
      "text/plain": [
       "   Neighbourhood ID  Covid-19 Rate\n",
       "0               138         943.98\n",
       "1                47         428.82\n",
       "2                38         519.67\n",
       "3                 9       1,017.06\n",
       "4                44       1,048.65"
      ]
     },
     "execution_count": 37,
     "metadata": {},
     "output_type": "execute_result"
    }
   ],
   "source": [
    "# Read dataframe into a Pandas dataframe\n",
    "covid_rate = pd.read_excel(r'C:\\Users\\Osas\\Downloads\\Data analysis\\Capstone\\CityofToronto_COVID-19_NeighbourhoodData.xlsx',\n",
    "                            sheet_name='All Cases and Rates by Neighbou')\n",
    "# Drop missing values. This is of no consequence to our dataset\n",
    "covid_rate.dropna(axis=0, inplace=True)\n",
    "covid_rate = covid_rate.astype({\"Neighbourhood ID\": int})\n",
    "# Extract relevant columns\n",
    "cols = ['Neighbourhood Name', 'Neighbourhood ID', 'Rate per 100,000 people']\n",
    "covid_rate = covid_rate[cols]\n",
    "covid_rate.columns = ['Neighbourhood Name', 'Neighbourhood ID', 'Covid-19 Rate']\n",
    "# Only Neighbourhood ID and COVID-19 rate were important as we do a merge operation later\n",
    "covid_rate = covid_rate[['Neighbourhood ID', 'Covid-19 Rate']]\n",
    "covid_rate.head()"
   ]
  },
  {
   "cell_type": "markdown",
   "metadata": {},
   "source": [
    "### Unemployment Rate Dataset\n",
    "This dataset was part of a larger Census dataset as we will see below. I locate the exact row that had my data and used the row number to slice the dataframe."
   ]
  },
  {
   "cell_type": "code",
   "execution_count": 38,
   "metadata": {},
   "outputs": [
    {
     "data": {
      "text/html": [
       "<div>\n",
       "<style scoped>\n",
       "    .dataframe tbody tr th:only-of-type {\n",
       "        vertical-align: middle;\n",
       "    }\n",
       "\n",
       "    .dataframe tbody tr th {\n",
       "        vertical-align: top;\n",
       "    }\n",
       "\n",
       "    .dataframe thead th {\n",
       "        text-align: right;\n",
       "    }\n",
       "</style>\n",
       "<table border=\"1\" class=\"dataframe\">\n",
       "  <thead>\n",
       "    <tr style=\"text-align: right;\">\n",
       "      <th></th>\n",
       "      <th>_id</th>\n",
       "      <th>Category</th>\n",
       "      <th>Topic</th>\n",
       "      <th>Data Source</th>\n",
       "      <th>Characteristic</th>\n",
       "      <th>City of Toronto</th>\n",
       "      <th>Agincourt North</th>\n",
       "      <th>Agincourt South-Malvern West</th>\n",
       "      <th>Alderwood</th>\n",
       "      <th>Annex</th>\n",
       "      <th>Banbury-Don Mills</th>\n",
       "      <th>Bathurst Manor</th>\n",
       "      <th>Bay Street Corridor</th>\n",
       "      <th>Bayview Village</th>\n",
       "      <th>Bayview Woods-Steeles</th>\n",
       "      <th>Bedford Park-Nortown</th>\n",
       "      <th>Beechborough-Greenbrook</th>\n",
       "      <th>Bendale</th>\n",
       "      <th>Birchcliffe-Cliffside</th>\n",
       "      <th>Black Creek</th>\n",
       "      <th>Blake-Jones</th>\n",
       "      <th>Briar Hill-Belgravia</th>\n",
       "      <th>Bridle Path-Sunnybrook-York Mills</th>\n",
       "      <th>Broadview North</th>\n",
       "      <th>Brookhaven-Amesbury</th>\n",
       "      <th>Cabbagetown-South St. James Town</th>\n",
       "      <th>Caledonia-Fairbank</th>\n",
       "      <th>Casa Loma</th>\n",
       "      <th>Centennial Scarborough</th>\n",
       "      <th>Church-Yonge Corridor</th>\n",
       "      <th>Clairlea-Birchmount</th>\n",
       "      <th>Clanton Park</th>\n",
       "      <th>Cliffcrest</th>\n",
       "      <th>Corso Italia-Davenport</th>\n",
       "      <th>Danforth</th>\n",
       "      <th>Danforth East York</th>\n",
       "      <th>Don Valley Village</th>\n",
       "      <th>Dorset Park</th>\n",
       "      <th>Dovercourt-Wallace Emerson-Junction</th>\n",
       "      <th>Downsview-Roding-CFB</th>\n",
       "      <th>Dufferin Grove</th>\n",
       "      <th>East End-Danforth</th>\n",
       "      <th>Edenbridge-Humber Valley</th>\n",
       "      <th>Eglinton East</th>\n",
       "      <th>Elms-Old Rexdale</th>\n",
       "      <th>Englemount-Lawrence</th>\n",
       "      <th>Eringate-Centennial-West Deane</th>\n",
       "      <th>Etobicoke West Mall</th>\n",
       "      <th>Flemingdon Park</th>\n",
       "      <th>Forest Hill North</th>\n",
       "      <th>Forest Hill South</th>\n",
       "      <th>Glenfield-Jane Heights</th>\n",
       "      <th>Greenwood-Coxwell</th>\n",
       "      <th>Guildwood</th>\n",
       "      <th>Henry Farm</th>\n",
       "      <th>High Park North</th>\n",
       "      <th>High Park-Swansea</th>\n",
       "      <th>Highland Creek</th>\n",
       "      <th>Hillcrest Village</th>\n",
       "      <th>Humber Heights-Westmount</th>\n",
       "      <th>Humber Summit</th>\n",
       "      <th>Humbermede</th>\n",
       "      <th>Humewood-Cedarvale</th>\n",
       "      <th>Ionview</th>\n",
       "      <th>Islington-City Centre West</th>\n",
       "      <th>Junction Area</th>\n",
       "      <th>Keelesdale-Eglinton West</th>\n",
       "      <th>Kennedy Park</th>\n",
       "      <th>Kensington-Chinatown</th>\n",
       "      <th>Kingsview Village-The Westway</th>\n",
       "      <th>Kingsway South</th>\n",
       "      <th>Lambton Baby Point</th>\n",
       "      <th>L'Amoreaux</th>\n",
       "      <th>Lansing-Westgate</th>\n",
       "      <th>Lawrence Park North</th>\n",
       "      <th>Lawrence Park South</th>\n",
       "      <th>Leaside-Bennington</th>\n",
       "      <th>Little Portugal</th>\n",
       "      <th>Long Branch</th>\n",
       "      <th>Malvern</th>\n",
       "      <th>Maple Leaf</th>\n",
       "      <th>Markland Wood</th>\n",
       "      <th>Milliken</th>\n",
       "      <th>Mimico (includes Humber Bay Shores)</th>\n",
       "      <th>Morningside</th>\n",
       "      <th>Moss Park</th>\n",
       "      <th>Mount Dennis</th>\n",
       "      <th>Mount Olive-Silverstone-Jamestown</th>\n",
       "      <th>Mount Pleasant East</th>\n",
       "      <th>Mount Pleasant West</th>\n",
       "      <th>New Toronto</th>\n",
       "      <th>Newtonbrook East</th>\n",
       "      <th>Newtonbrook West</th>\n",
       "      <th>Niagara</th>\n",
       "      <th>North Riverdale</th>\n",
       "      <th>North St. James Town</th>\n",
       "      <th>Oakridge</th>\n",
       "      <th>Oakwood Village</th>\n",
       "      <th>O'Connor-Parkview</th>\n",
       "      <th>Old East York</th>\n",
       "      <th>Palmerston-Little Italy</th>\n",
       "      <th>Parkwoods-Donalda</th>\n",
       "      <th>Pelmo Park-Humberlea</th>\n",
       "      <th>Playter Estates-Danforth</th>\n",
       "      <th>Pleasant View</th>\n",
       "      <th>Princess-Rosethorn</th>\n",
       "      <th>Regent Park</th>\n",
       "      <th>Rexdale-Kipling</th>\n",
       "      <th>Rockcliffe-Smythe</th>\n",
       "      <th>Roncesvalles</th>\n",
       "      <th>Rosedale-Moore Park</th>\n",
       "      <th>Rouge</th>\n",
       "      <th>Runnymede-Bloor West Village</th>\n",
       "      <th>Rustic</th>\n",
       "      <th>Scarborough Village</th>\n",
       "      <th>South Parkdale</th>\n",
       "      <th>South Riverdale</th>\n",
       "      <th>St.Andrew-Windfields</th>\n",
       "      <th>Steeles</th>\n",
       "      <th>Stonegate-Queensway</th>\n",
       "      <th>Tam O'Shanter-Sullivan</th>\n",
       "      <th>Taylor-Massey</th>\n",
       "      <th>The Beaches</th>\n",
       "      <th>Thistletown-Beaumond Heights</th>\n",
       "      <th>Thorncliffe Park</th>\n",
       "      <th>Trinity-Bellwoods</th>\n",
       "      <th>University</th>\n",
       "      <th>Victoria Village</th>\n",
       "      <th>Waterfront Communities-The Island</th>\n",
       "      <th>West Hill</th>\n",
       "      <th>West Humber-Clairville</th>\n",
       "      <th>Westminster-Branson</th>\n",
       "      <th>Weston</th>\n",
       "      <th>Weston-Pelham Park</th>\n",
       "      <th>Wexford/Maryvale</th>\n",
       "      <th>Willowdale East</th>\n",
       "      <th>Willowdale West</th>\n",
       "      <th>Willowridge-Martingrove-Richview</th>\n",
       "      <th>Woburn</th>\n",
       "      <th>Woodbine Corridor</th>\n",
       "      <th>Woodbine-Lumsden</th>\n",
       "      <th>Wychwood</th>\n",
       "      <th>Yonge-Eglinton</th>\n",
       "      <th>Yonge-St.Clair</th>\n",
       "      <th>York University Heights</th>\n",
       "      <th>Yorkdale-Glen Park</th>\n",
       "    </tr>\n",
       "  </thead>\n",
       "  <tbody>\n",
       "    <tr>\n",
       "      <th>0</th>\n",
       "      <td>1</td>\n",
       "      <td>Neighbourhood Information</td>\n",
       "      <td>Neighbourhood Information</td>\n",
       "      <td>City of Toronto</td>\n",
       "      <td>Neighbourhood Number</td>\n",
       "      <td>NaN</td>\n",
       "      <td>129</td>\n",
       "      <td>128</td>\n",
       "      <td>20</td>\n",
       "      <td>95</td>\n",
       "      <td>42</td>\n",
       "      <td>34</td>\n",
       "      <td>76</td>\n",
       "      <td>52</td>\n",
       "      <td>49</td>\n",
       "      <td>39</td>\n",
       "      <td>112</td>\n",
       "      <td>127</td>\n",
       "      <td>122</td>\n",
       "      <td>24</td>\n",
       "      <td>69</td>\n",
       "      <td>108</td>\n",
       "      <td>41</td>\n",
       "      <td>57</td>\n",
       "      <td>30</td>\n",
       "      <td>71</td>\n",
       "      <td>109</td>\n",
       "      <td>96</td>\n",
       "      <td>133</td>\n",
       "      <td>75</td>\n",
       "      <td>120</td>\n",
       "      <td>33</td>\n",
       "      <td>123</td>\n",
       "      <td>92</td>\n",
       "      <td>66</td>\n",
       "      <td>59</td>\n",
       "      <td>47</td>\n",
       "      <td>126</td>\n",
       "      <td>93</td>\n",
       "      <td>26</td>\n",
       "      <td>83</td>\n",
       "      <td>62</td>\n",
       "      <td>9</td>\n",
       "      <td>138</td>\n",
       "      <td>5</td>\n",
       "      <td>32</td>\n",
       "      <td>11</td>\n",
       "      <td>13</td>\n",
       "      <td>44</td>\n",
       "      <td>102</td>\n",
       "      <td>101</td>\n",
       "      <td>25</td>\n",
       "      <td>65</td>\n",
       "      <td>140</td>\n",
       "      <td>53</td>\n",
       "      <td>88</td>\n",
       "      <td>87</td>\n",
       "      <td>134</td>\n",
       "      <td>48</td>\n",
       "      <td>8</td>\n",
       "      <td>21</td>\n",
       "      <td>22</td>\n",
       "      <td>106</td>\n",
       "      <td>125</td>\n",
       "      <td>14</td>\n",
       "      <td>90</td>\n",
       "      <td>110</td>\n",
       "      <td>124</td>\n",
       "      <td>78</td>\n",
       "      <td>6</td>\n",
       "      <td>15</td>\n",
       "      <td>114</td>\n",
       "      <td>117</td>\n",
       "      <td>38</td>\n",
       "      <td>105</td>\n",
       "      <td>103</td>\n",
       "      <td>56</td>\n",
       "      <td>84</td>\n",
       "      <td>19</td>\n",
       "      <td>132</td>\n",
       "      <td>29</td>\n",
       "      <td>12</td>\n",
       "      <td>130</td>\n",
       "      <td>17</td>\n",
       "      <td>135</td>\n",
       "      <td>73</td>\n",
       "      <td>115</td>\n",
       "      <td>2</td>\n",
       "      <td>99</td>\n",
       "      <td>104</td>\n",
       "      <td>18</td>\n",
       "      <td>50</td>\n",
       "      <td>36</td>\n",
       "      <td>82</td>\n",
       "      <td>68</td>\n",
       "      <td>74</td>\n",
       "      <td>121</td>\n",
       "      <td>107</td>\n",
       "      <td>54</td>\n",
       "      <td>58</td>\n",
       "      <td>80</td>\n",
       "      <td>45</td>\n",
       "      <td>23</td>\n",
       "      <td>67</td>\n",
       "      <td>46</td>\n",
       "      <td>10</td>\n",
       "      <td>72</td>\n",
       "      <td>4</td>\n",
       "      <td>111</td>\n",
       "      <td>86</td>\n",
       "      <td>98</td>\n",
       "      <td>131</td>\n",
       "      <td>89</td>\n",
       "      <td>28</td>\n",
       "      <td>139</td>\n",
       "      <td>85</td>\n",
       "      <td>70</td>\n",
       "      <td>40</td>\n",
       "      <td>116</td>\n",
       "      <td>16</td>\n",
       "      <td>118</td>\n",
       "      <td>61</td>\n",
       "      <td>63</td>\n",
       "      <td>3</td>\n",
       "      <td>55</td>\n",
       "      <td>81</td>\n",
       "      <td>79</td>\n",
       "      <td>43</td>\n",
       "      <td>77</td>\n",
       "      <td>136</td>\n",
       "      <td>1</td>\n",
       "      <td>35</td>\n",
       "      <td>113</td>\n",
       "      <td>91</td>\n",
       "      <td>119</td>\n",
       "      <td>51</td>\n",
       "      <td>37</td>\n",
       "      <td>7</td>\n",
       "      <td>137</td>\n",
       "      <td>64</td>\n",
       "      <td>60</td>\n",
       "      <td>94</td>\n",
       "      <td>100</td>\n",
       "      <td>97</td>\n",
       "      <td>27</td>\n",
       "      <td>31</td>\n",
       "    </tr>\n",
       "    <tr>\n",
       "      <th>1</th>\n",
       "      <td>2</td>\n",
       "      <td>Neighbourhood Information</td>\n",
       "      <td>Neighbourhood Information</td>\n",
       "      <td>City of Toronto</td>\n",
       "      <td>TSNS2020 Designation</td>\n",
       "      <td>NaN</td>\n",
       "      <td>No Designation</td>\n",
       "      <td>No Designation</td>\n",
       "      <td>No Designation</td>\n",
       "      <td>No Designation</td>\n",
       "      <td>No Designation</td>\n",
       "      <td>No Designation</td>\n",
       "      <td>No Designation</td>\n",
       "      <td>No Designation</td>\n",
       "      <td>No Designation</td>\n",
       "      <td>No Designation</td>\n",
       "      <td>NIA</td>\n",
       "      <td>No Designation</td>\n",
       "      <td>No Designation</td>\n",
       "      <td>NIA</td>\n",
       "      <td>No Designation</td>\n",
       "      <td>No Designation</td>\n",
       "      <td>No Designation</td>\n",
       "      <td>No Designation</td>\n",
       "      <td>No Designation</td>\n",
       "      <td>No Designation</td>\n",
       "      <td>No Designation</td>\n",
       "      <td>No Designation</td>\n",
       "      <td>No Designation</td>\n",
       "      <td>No Designation</td>\n",
       "      <td>No Designation</td>\n",
       "      <td>No Designation</td>\n",
       "      <td>No Designation</td>\n",
       "      <td>No Designation</td>\n",
       "      <td>No Designation</td>\n",
       "      <td>No Designation</td>\n",
       "      <td>No Designation</td>\n",
       "      <td>Emerging Neighbourhood</td>\n",
       "      <td>No Designation</td>\n",
       "      <td>NIA</td>\n",
       "      <td>No Designation</td>\n",
       "      <td>No Designation</td>\n",
       "      <td>No Designation</td>\n",
       "      <td>NIA</td>\n",
       "      <td>NIA</td>\n",
       "      <td>Emerging Neighbourhood</td>\n",
       "      <td>No Designation</td>\n",
       "      <td>No Designation</td>\n",
       "      <td>NIA</td>\n",
       "      <td>No Designation</td>\n",
       "      <td>No Designation</td>\n",
       "      <td>NIA</td>\n",
       "      <td>No Designation</td>\n",
       "      <td>No Designation</td>\n",
       "      <td>No Designation</td>\n",
       "      <td>No Designation</td>\n",
       "      <td>No Designation</td>\n",
       "      <td>No Designation</td>\n",
       "      <td>No Designation</td>\n",
       "      <td>Emerging Neighbourhood</td>\n",
       "      <td>NIA</td>\n",
       "      <td>NIA</td>\n",
       "      <td>No Designation</td>\n",
       "      <td>NIA</td>\n",
       "      <td>No Designation</td>\n",
       "      <td>No Designation</td>\n",
       "      <td>NIA</td>\n",
       "      <td>NIA</td>\n",
       "      <td>No Designation</td>\n",
       "      <td>NIA</td>\n",
       "      <td>No Designation</td>\n",
       "      <td>No Designation</td>\n",
       "      <td>Emerging Neighbourhood</td>\n",
       "      <td>No Designation</td>\n",
       "      <td>No Designation</td>\n",
       "      <td>No Designation</td>\n",
       "      <td>No Designation</td>\n",
       "      <td>No Designation</td>\n",
       "      <td>No Designation</td>\n",
       "      <td>Emerging Neighbourhood</td>\n",
       "      <td>No Designation</td>\n",
       "      <td>No Designation</td>\n",
       "      <td>No Designation</td>\n",
       "      <td>No Designation</td>\n",
       "      <td>NIA</td>\n",
       "      <td>No Designation</td>\n",
       "      <td>NIA</td>\n",
       "      <td>NIA</td>\n",
       "      <td>No Designation</td>\n",
       "      <td>No Designation</td>\n",
       "      <td>No Designation</td>\n",
       "      <td>No Designation</td>\n",
       "      <td>No Designation</td>\n",
       "      <td>No Designation</td>\n",
       "      <td>No Designation</td>\n",
       "      <td>No Designation</td>\n",
       "      <td>NIA</td>\n",
       "      <td>No Designation</td>\n",
       "      <td>No Designation</td>\n",
       "      <td>No Designation</td>\n",
       "      <td>No Designation</td>\n",
       "      <td>No Designation</td>\n",
       "      <td>No Designation</td>\n",
       "      <td>No Designation</td>\n",
       "      <td>No Designation</td>\n",
       "      <td>No Designation</td>\n",
       "      <td>NIA</td>\n",
       "      <td>No Designation</td>\n",
       "      <td>NIA</td>\n",
       "      <td>No Designation</td>\n",
       "      <td>No Designation</td>\n",
       "      <td>No Designation</td>\n",
       "      <td>No Designation</td>\n",
       "      <td>NIA</td>\n",
       "      <td>NIA</td>\n",
       "      <td>NIA</td>\n",
       "      <td>No Designation</td>\n",
       "      <td>No Designation</td>\n",
       "      <td>Emerging Neighbourhood</td>\n",
       "      <td>No Designation</td>\n",
       "      <td>No Designation</td>\n",
       "      <td>NIA</td>\n",
       "      <td>No Designation</td>\n",
       "      <td>NIA</td>\n",
       "      <td>NIA</td>\n",
       "      <td>No Designation</td>\n",
       "      <td>No Designation</td>\n",
       "      <td>NIA</td>\n",
       "      <td>No Designation</td>\n",
       "      <td>NIA</td>\n",
       "      <td>No Designation</td>\n",
       "      <td>Emerging Neighbourhood</td>\n",
       "      <td>NIA</td>\n",
       "      <td>NIA</td>\n",
       "      <td>No Designation</td>\n",
       "      <td>No Designation</td>\n",
       "      <td>No Designation</td>\n",
       "      <td>No Designation</td>\n",
       "      <td>NIA</td>\n",
       "      <td>No Designation</td>\n",
       "      <td>No Designation</td>\n",
       "      <td>No Designation</td>\n",
       "      <td>No Designation</td>\n",
       "      <td>No Designation</td>\n",
       "      <td>NIA</td>\n",
       "      <td>Emerging Neighbourhood</td>\n",
       "    </tr>\n",
       "    <tr>\n",
       "      <th>2</th>\n",
       "      <td>3</td>\n",
       "      <td>Population</td>\n",
       "      <td>Population and dwellings</td>\n",
       "      <td>Census Profile 98-316-X2016001</td>\n",
       "      <td>Population, 2016</td>\n",
       "      <td>2,731,571</td>\n",
       "      <td>29,113</td>\n",
       "      <td>23,757</td>\n",
       "      <td>12,054</td>\n",
       "      <td>30,526</td>\n",
       "      <td>27,695</td>\n",
       "      <td>15,873</td>\n",
       "      <td>25,797</td>\n",
       "      <td>21,396</td>\n",
       "      <td>13,154</td>\n",
       "      <td>23,236</td>\n",
       "      <td>6,577</td>\n",
       "      <td>29,960</td>\n",
       "      <td>22,291</td>\n",
       "      <td>21,737</td>\n",
       "      <td>7,727</td>\n",
       "      <td>14,257</td>\n",
       "      <td>9,266</td>\n",
       "      <td>11,499</td>\n",
       "      <td>17,757</td>\n",
       "      <td>11,669</td>\n",
       "      <td>9,955</td>\n",
       "      <td>10,968</td>\n",
       "      <td>13,362</td>\n",
       "      <td>31,340</td>\n",
       "      <td>26,984</td>\n",
       "      <td>16,472</td>\n",
       "      <td>15,935</td>\n",
       "      <td>14,133</td>\n",
       "      <td>9,666</td>\n",
       "      <td>17,180</td>\n",
       "      <td>27,051</td>\n",
       "      <td>25,003</td>\n",
       "      <td>36,625</td>\n",
       "      <td>35,052</td>\n",
       "      <td>11,785</td>\n",
       "      <td>21,381</td>\n",
       "      <td>15,535</td>\n",
       "      <td>22,776</td>\n",
       "      <td>9,456</td>\n",
       "      <td>22,372</td>\n",
       "      <td>18,588</td>\n",
       "      <td>11,848</td>\n",
       "      <td>21,933</td>\n",
       "      <td>12,806</td>\n",
       "      <td>10,732</td>\n",
       "      <td>30,491</td>\n",
       "      <td>14,417</td>\n",
       "      <td>9,917</td>\n",
       "      <td>15,723</td>\n",
       "      <td>22,162</td>\n",
       "      <td>23,925</td>\n",
       "      <td>12,494</td>\n",
       "      <td>16,934</td>\n",
       "      <td>10,948</td>\n",
       "      <td>12,416</td>\n",
       "      <td>15,545</td>\n",
       "      <td>14,365</td>\n",
       "      <td>13,641</td>\n",
       "      <td>43,965</td>\n",
       "      <td>14,366</td>\n",
       "      <td>11,058</td>\n",
       "      <td>17,123</td>\n",
       "      <td>17,945</td>\n",
       "      <td>22,000</td>\n",
       "      <td>9,271</td>\n",
       "      <td>7,985</td>\n",
       "      <td>43,993</td>\n",
       "      <td>16,164</td>\n",
       "      <td>14,607</td>\n",
       "      <td>15,179</td>\n",
       "      <td>16,828</td>\n",
       "      <td>15,559</td>\n",
       "      <td>10,084</td>\n",
       "      <td>43,794</td>\n",
       "      <td>10,111</td>\n",
       "      <td>10,554</td>\n",
       "      <td>26,572</td>\n",
       "      <td>33,964</td>\n",
       "      <td>17,455</td>\n",
       "      <td>20,506</td>\n",
       "      <td>13,593</td>\n",
       "      <td>32,954</td>\n",
       "      <td>16,775</td>\n",
       "      <td>29,658</td>\n",
       "      <td>11,463</td>\n",
       "      <td>16,097</td>\n",
       "      <td>23,831</td>\n",
       "      <td>31,180</td>\n",
       "      <td>11,916</td>\n",
       "      <td>18,615</td>\n",
       "      <td>13,845</td>\n",
       "      <td>21,210</td>\n",
       "      <td>18,675</td>\n",
       "      <td>9,233</td>\n",
       "      <td>13,826</td>\n",
       "      <td>34,805</td>\n",
       "      <td>10,722</td>\n",
       "      <td>7,804</td>\n",
       "      <td>15,818</td>\n",
       "      <td>11,051</td>\n",
       "      <td>10,803</td>\n",
       "      <td>10,529</td>\n",
       "      <td>22,246</td>\n",
       "      <td>14,974</td>\n",
       "      <td>20,923</td>\n",
       "      <td>46,496</td>\n",
       "      <td>10,070</td>\n",
       "      <td>9,941</td>\n",
       "      <td>16,724</td>\n",
       "      <td>21,849</td>\n",
       "      <td>27,876</td>\n",
       "      <td>17,812</td>\n",
       "      <td>24,623</td>\n",
       "      <td>25,051</td>\n",
       "      <td>27,446</td>\n",
       "      <td>15,683</td>\n",
       "      <td>21,567</td>\n",
       "      <td>10,360</td>\n",
       "      <td>21,108</td>\n",
       "      <td>16,556</td>\n",
       "      <td>7,607</td>\n",
       "      <td>17,510</td>\n",
       "      <td>65,913</td>\n",
       "      <td>27,392</td>\n",
       "      <td>33,312</td>\n",
       "      <td>26,274</td>\n",
       "      <td>17,992</td>\n",
       "      <td>11,098</td>\n",
       "      <td>27,917</td>\n",
       "      <td>50,434</td>\n",
       "      <td>16,936</td>\n",
       "      <td>22,156</td>\n",
       "      <td>53,485</td>\n",
       "      <td>12,541</td>\n",
       "      <td>7,865</td>\n",
       "      <td>14,349</td>\n",
       "      <td>11,817</td>\n",
       "      <td>12,528</td>\n",
       "      <td>27,593</td>\n",
       "      <td>14,804</td>\n",
       "    </tr>\n",
       "    <tr>\n",
       "      <th>3</th>\n",
       "      <td>4</td>\n",
       "      <td>Population</td>\n",
       "      <td>Population and dwellings</td>\n",
       "      <td>Census Profile 98-316-X2016001</td>\n",
       "      <td>Population, 2011</td>\n",
       "      <td>2,615,060</td>\n",
       "      <td>30,279</td>\n",
       "      <td>21,988</td>\n",
       "      <td>11,904</td>\n",
       "      <td>29,177</td>\n",
       "      <td>26,918</td>\n",
       "      <td>15,434</td>\n",
       "      <td>19,348</td>\n",
       "      <td>17,671</td>\n",
       "      <td>13,530</td>\n",
       "      <td>23,185</td>\n",
       "      <td>6,488</td>\n",
       "      <td>27,876</td>\n",
       "      <td>21,856</td>\n",
       "      <td>22,057</td>\n",
       "      <td>7,763</td>\n",
       "      <td>14,302</td>\n",
       "      <td>8,713</td>\n",
       "      <td>11,563</td>\n",
       "      <td>17,787</td>\n",
       "      <td>12,053</td>\n",
       "      <td>9,851</td>\n",
       "      <td>10,487</td>\n",
       "      <td>13,093</td>\n",
       "      <td>28,349</td>\n",
       "      <td>24,770</td>\n",
       "      <td>14,612</td>\n",
       "      <td>15,703</td>\n",
       "      <td>13,743</td>\n",
       "      <td>9,444</td>\n",
       "      <td>16,712</td>\n",
       "      <td>26,739</td>\n",
       "      <td>24,363</td>\n",
       "      <td>34,631</td>\n",
       "      <td>34,659</td>\n",
       "      <td>11,449</td>\n",
       "      <td>20,839</td>\n",
       "      <td>14,943</td>\n",
       "      <td>22,829</td>\n",
       "      <td>9,550</td>\n",
       "      <td>22,086</td>\n",
       "      <td>18,810</td>\n",
       "      <td>10,927</td>\n",
       "      <td>22,168</td>\n",
       "      <td>12,474</td>\n",
       "      <td>10,926</td>\n",
       "      <td>31,390</td>\n",
       "      <td>14,083</td>\n",
       "      <td>9,816</td>\n",
       "      <td>11,333</td>\n",
       "      <td>21,292</td>\n",
       "      <td>21,740</td>\n",
       "      <td>13,097</td>\n",
       "      <td>17,656</td>\n",
       "      <td>10,583</td>\n",
       "      <td>12,525</td>\n",
       "      <td>15,853</td>\n",
       "      <td>14,108</td>\n",
       "      <td>13,091</td>\n",
       "      <td>38,084</td>\n",
       "      <td>14,027</td>\n",
       "      <td>10,638</td>\n",
       "      <td>17,058</td>\n",
       "      <td>18,495</td>\n",
       "      <td>21,723</td>\n",
       "      <td>9,170</td>\n",
       "      <td>7,921</td>\n",
       "      <td>44,919</td>\n",
       "      <td>14,642</td>\n",
       "      <td>14,541</td>\n",
       "      <td>15,070</td>\n",
       "      <td>17,011</td>\n",
       "      <td>12,050</td>\n",
       "      <td>9,632</td>\n",
       "      <td>45,086</td>\n",
       "      <td>10,197</td>\n",
       "      <td>10,436</td>\n",
       "      <td>27,167</td>\n",
       "      <td>26,541</td>\n",
       "      <td>17,587</td>\n",
       "      <td>16,306</td>\n",
       "      <td>13,145</td>\n",
       "      <td>32,788</td>\n",
       "      <td>15,982</td>\n",
       "      <td>28,593</td>\n",
       "      <td>10,900</td>\n",
       "      <td>16,423</td>\n",
       "      <td>23,052</td>\n",
       "      <td>21,274</td>\n",
       "      <td>12,191</td>\n",
       "      <td>17,832</td>\n",
       "      <td>13,497</td>\n",
       "      <td>21,073</td>\n",
       "      <td>18,316</td>\n",
       "      <td>9,118</td>\n",
       "      <td>13,746</td>\n",
       "      <td>34,617</td>\n",
       "      <td>8,710</td>\n",
       "      <td>7,653</td>\n",
       "      <td>16,144</td>\n",
       "      <td>11,197</td>\n",
       "      <td>10,007</td>\n",
       "      <td>10,488</td>\n",
       "      <td>22,267</td>\n",
       "      <td>15,050</td>\n",
       "      <td>20,631</td>\n",
       "      <td>45,912</td>\n",
       "      <td>9,632</td>\n",
       "      <td>9,951</td>\n",
       "      <td>16,609</td>\n",
       "      <td>21,251</td>\n",
       "      <td>25,642</td>\n",
       "      <td>17,958</td>\n",
       "      <td>25,017</td>\n",
       "      <td>24,691</td>\n",
       "      <td>27,398</td>\n",
       "      <td>15,594</td>\n",
       "      <td>21,130</td>\n",
       "      <td>10,138</td>\n",
       "      <td>19,225</td>\n",
       "      <td>16,802</td>\n",
       "      <td>7,782</td>\n",
       "      <td>17,182</td>\n",
       "      <td>43,361</td>\n",
       "      <td>26,547</td>\n",
       "      <td>34,100</td>\n",
       "      <td>25,446</td>\n",
       "      <td>18,170</td>\n",
       "      <td>12,010</td>\n",
       "      <td>27,018</td>\n",
       "      <td>45,041</td>\n",
       "      <td>15,004</td>\n",
       "      <td>21,343</td>\n",
       "      <td>53,350</td>\n",
       "      <td>11,703</td>\n",
       "      <td>7,826</td>\n",
       "      <td>13,986</td>\n",
       "      <td>10,578</td>\n",
       "      <td>11,652</td>\n",
       "      <td>27,713</td>\n",
       "      <td>14,687</td>\n",
       "    </tr>\n",
       "    <tr>\n",
       "      <th>4</th>\n",
       "      <td>5</td>\n",
       "      <td>Population</td>\n",
       "      <td>Population and dwellings</td>\n",
       "      <td>Census Profile 98-316-X2016001</td>\n",
       "      <td>Population Change 2011-2016</td>\n",
       "      <td>4.50%</td>\n",
       "      <td>-3.90%</td>\n",
       "      <td>8.00%</td>\n",
       "      <td>1.30%</td>\n",
       "      <td>4.60%</td>\n",
       "      <td>2.90%</td>\n",
       "      <td>2.80%</td>\n",
       "      <td>33.30%</td>\n",
       "      <td>21.10%</td>\n",
       "      <td>-2.80%</td>\n",
       "      <td>0.20%</td>\n",
       "      <td>1.40%</td>\n",
       "      <td>7.50%</td>\n",
       "      <td>2.00%</td>\n",
       "      <td>-1.50%</td>\n",
       "      <td>-0.50%</td>\n",
       "      <td>-0.30%</td>\n",
       "      <td>6.30%</td>\n",
       "      <td>-0.60%</td>\n",
       "      <td>-0.20%</td>\n",
       "      <td>-3.20%</td>\n",
       "      <td>1.10%</td>\n",
       "      <td>4.60%</td>\n",
       "      <td>2.10%</td>\n",
       "      <td>10.60%</td>\n",
       "      <td>8.90%</td>\n",
       "      <td>12.70%</td>\n",
       "      <td>1.50%</td>\n",
       "      <td>2.80%</td>\n",
       "      <td>2.40%</td>\n",
       "      <td>2.80%</td>\n",
       "      <td>1.20%</td>\n",
       "      <td>2.60%</td>\n",
       "      <td>5.80%</td>\n",
       "      <td>1.10%</td>\n",
       "      <td>2.90%</td>\n",
       "      <td>2.60%</td>\n",
       "      <td>4.00%</td>\n",
       "      <td>-0.20%</td>\n",
       "      <td>-1.00%</td>\n",
       "      <td>1.30%</td>\n",
       "      <td>-1.20%</td>\n",
       "      <td>8.40%</td>\n",
       "      <td>-1.10%</td>\n",
       "      <td>2.70%</td>\n",
       "      <td>-1.80%</td>\n",
       "      <td>-2.90%</td>\n",
       "      <td>2.40%</td>\n",
       "      <td>1.00%</td>\n",
       "      <td>38.70%</td>\n",
       "      <td>4.10%</td>\n",
       "      <td>10.10%</td>\n",
       "      <td>-4.60%</td>\n",
       "      <td>-4.10%</td>\n",
       "      <td>3.40%</td>\n",
       "      <td>-0.90%</td>\n",
       "      <td>-1.90%</td>\n",
       "      <td>1.80%</td>\n",
       "      <td>4.20%</td>\n",
       "      <td>15.40%</td>\n",
       "      <td>2.40%</td>\n",
       "      <td>3.90%</td>\n",
       "      <td>0.40%</td>\n",
       "      <td>-3.00%</td>\n",
       "      <td>1.30%</td>\n",
       "      <td>1.10%</td>\n",
       "      <td>0.80%</td>\n",
       "      <td>-2.10%</td>\n",
       "      <td>10.40%</td>\n",
       "      <td>0.50%</td>\n",
       "      <td>0.70%</td>\n",
       "      <td>-1.10%</td>\n",
       "      <td>29.10%</td>\n",
       "      <td>4.70%</td>\n",
       "      <td>-2.90%</td>\n",
       "      <td>-0.80%</td>\n",
       "      <td>1.10%</td>\n",
       "      <td>-2.20%</td>\n",
       "      <td>28.00%</td>\n",
       "      <td>-0.80%</td>\n",
       "      <td>25.80%</td>\n",
       "      <td>3.40%</td>\n",
       "      <td>0.50%</td>\n",
       "      <td>5.00%</td>\n",
       "      <td>3.70%</td>\n",
       "      <td>5.20%</td>\n",
       "      <td>-2.00%</td>\n",
       "      <td>3.40%</td>\n",
       "      <td>46.60%</td>\n",
       "      <td>-2.30%</td>\n",
       "      <td>4.40%</td>\n",
       "      <td>2.60%</td>\n",
       "      <td>0.70%</td>\n",
       "      <td>2.00%</td>\n",
       "      <td>1.30%</td>\n",
       "      <td>0.60%</td>\n",
       "      <td>0.50%</td>\n",
       "      <td>23.10%</td>\n",
       "      <td>2.00%</td>\n",
       "      <td>-2.00%</td>\n",
       "      <td>-1.30%</td>\n",
       "      <td>8.00%</td>\n",
       "      <td>0.40%</td>\n",
       "      <td>-0.10%</td>\n",
       "      <td>-0.50%</td>\n",
       "      <td>1.40%</td>\n",
       "      <td>1.30%</td>\n",
       "      <td>4.50%</td>\n",
       "      <td>-0.10%</td>\n",
       "      <td>0.70%</td>\n",
       "      <td>2.80%</td>\n",
       "      <td>8.70%</td>\n",
       "      <td>-0.80%</td>\n",
       "      <td>-1.60%</td>\n",
       "      <td>1.50%</td>\n",
       "      <td>0.20%</td>\n",
       "      <td>0.60%</td>\n",
       "      <td>2.10%</td>\n",
       "      <td>2.20%</td>\n",
       "      <td>9.80%</td>\n",
       "      <td>-1.50%</td>\n",
       "      <td>-2.20%</td>\n",
       "      <td>1.90%</td>\n",
       "      <td>52.00%</td>\n",
       "      <td>3.20%</td>\n",
       "      <td>-2.30%</td>\n",
       "      <td>3.30%</td>\n",
       "      <td>-1.00%</td>\n",
       "      <td>-7.60%</td>\n",
       "      <td>3.30%</td>\n",
       "      <td>12.00%</td>\n",
       "      <td>12.90%</td>\n",
       "      <td>3.80%</td>\n",
       "      <td>0.30%</td>\n",
       "      <td>7.20%</td>\n",
       "      <td>0.50%</td>\n",
       "      <td>2.60%</td>\n",
       "      <td>11.70%</td>\n",
       "      <td>7.50%</td>\n",
       "      <td>-0.40%</td>\n",
       "      <td>0.80%</td>\n",
       "    </tr>\n",
       "  </tbody>\n",
       "</table>\n",
       "</div>"
      ],
      "text/plain": [
       "   _id                   Category                      Topic  \\\n",
       "0    1  Neighbourhood Information  Neighbourhood Information   \n",
       "1    2  Neighbourhood Information  Neighbourhood Information   \n",
       "2    3                 Population   Population and dwellings   \n",
       "3    4                 Population   Population and dwellings   \n",
       "4    5                 Population   Population and dwellings   \n",
       "\n",
       "                      Data Source               Characteristic  \\\n",
       "0                 City of Toronto         Neighbourhood Number   \n",
       "1                 City of Toronto         TSNS2020 Designation   \n",
       "2  Census Profile 98-316-X2016001             Population, 2016   \n",
       "3  Census Profile 98-316-X2016001             Population, 2011   \n",
       "4  Census Profile 98-316-X2016001  Population Change 2011-2016   \n",
       "\n",
       "  City of Toronto Agincourt North Agincourt South-Malvern West  \\\n",
       "0             NaN             129                          128   \n",
       "1             NaN  No Designation               No Designation   \n",
       "2       2,731,571          29,113                       23,757   \n",
       "3       2,615,060          30,279                       21,988   \n",
       "4           4.50%          -3.90%                        8.00%   \n",
       "\n",
       "        Alderwood           Annex Banbury-Don Mills  Bathurst Manor  \\\n",
       "0              20              95                42              34   \n",
       "1  No Designation  No Designation    No Designation  No Designation   \n",
       "2          12,054          30,526            27,695          15,873   \n",
       "3          11,904          29,177            26,918          15,434   \n",
       "4           1.30%           4.60%             2.90%           2.80%   \n",
       "\n",
       "  Bay Street Corridor Bayview Village Bayview Woods-Steeles  \\\n",
       "0                  76              52                    49   \n",
       "1      No Designation  No Designation        No Designation   \n",
       "2              25,797          21,396                13,154   \n",
       "3              19,348          17,671                13,530   \n",
       "4              33.30%          21.10%                -2.80%   \n",
       "\n",
       "  Bedford Park-Nortown Beechborough-Greenbrook         Bendale  \\\n",
       "0                   39                     112             127   \n",
       "1       No Designation                     NIA  No Designation   \n",
       "2               23,236                   6,577          29,960   \n",
       "3               23,185                   6,488          27,876   \n",
       "4                0.20%                   1.40%           7.50%   \n",
       "\n",
       "  Birchcliffe-Cliffside Black Creek     Blake-Jones Briar Hill-Belgravia  \\\n",
       "0                   122          24              69                  108   \n",
       "1        No Designation         NIA  No Designation       No Designation   \n",
       "2                22,291      21,737           7,727               14,257   \n",
       "3                21,856      22,057           7,763               14,302   \n",
       "4                 2.00%      -1.50%          -0.50%               -0.30%   \n",
       "\n",
       "  Bridle Path-Sunnybrook-York Mills Broadview North Brookhaven-Amesbury  \\\n",
       "0                                41              57                  30   \n",
       "1                    No Designation  No Designation      No Designation   \n",
       "2                             9,266          11,499              17,757   \n",
       "3                             8,713          11,563              17,787   \n",
       "4                             6.30%          -0.60%              -0.20%   \n",
       "\n",
       "  Cabbagetown-South St. James Town Caledonia-Fairbank       Casa Loma  \\\n",
       "0                               71                109              96   \n",
       "1                   No Designation     No Designation  No Designation   \n",
       "2                           11,669              9,955          10,968   \n",
       "3                           12,053              9,851          10,487   \n",
       "4                           -3.20%              1.10%           4.60%   \n",
       "\n",
       "  Centennial Scarborough Church-Yonge Corridor Clairlea-Birchmount  \\\n",
       "0                    133                    75                 120   \n",
       "1         No Designation        No Designation      No Designation   \n",
       "2                 13,362                31,340              26,984   \n",
       "3                 13,093                28,349              24,770   \n",
       "4                  2.10%                10.60%               8.90%   \n",
       "\n",
       "     Clanton Park      Cliffcrest Corso Italia-Davenport        Danforth  \\\n",
       "0              33             123                     92              66   \n",
       "1  No Designation  No Designation         No Designation  No Designation   \n",
       "2          16,472          15,935                 14,133           9,666   \n",
       "3          14,612          15,703                 13,743           9,444   \n",
       "4          12.70%           1.50%                  2.80%           2.40%   \n",
       "\n",
       "  Danforth East York Don Valley Village             Dorset Park  \\\n",
       "0                 59                 47                     126   \n",
       "1     No Designation     No Designation  Emerging Neighbourhood   \n",
       "2             17,180             27,051                  25,003   \n",
       "3             16,712             26,739                  24,363   \n",
       "4              2.80%              1.20%                   2.60%   \n",
       "\n",
       "  Dovercourt-Wallace Emerson-Junction Downsview-Roding-CFB  Dufferin Grove  \\\n",
       "0                                  93                   26              83   \n",
       "1                      No Designation                  NIA  No Designation   \n",
       "2                              36,625               35,052          11,785   \n",
       "3                              34,631               34,659          11,449   \n",
       "4                               5.80%                1.10%           2.90%   \n",
       "\n",
       "  East End-Danforth Edenbridge-Humber Valley Eglinton East Elms-Old Rexdale  \\\n",
       "0                62                        9           138                5   \n",
       "1    No Designation           No Designation           NIA              NIA   \n",
       "2            21,381                   15,535        22,776            9,456   \n",
       "3            20,839                   14,943        22,829            9,550   \n",
       "4             2.60%                    4.00%        -0.20%           -1.00%   \n",
       "\n",
       "      Englemount-Lawrence Eringate-Centennial-West Deane Etobicoke West Mall  \\\n",
       "0                      32                             11                  13   \n",
       "1  Emerging Neighbourhood                 No Designation      No Designation   \n",
       "2                  22,372                         18,588              11,848   \n",
       "3                  22,086                         18,810              10,927   \n",
       "4                   1.30%                         -1.20%               8.40%   \n",
       "\n",
       "  Flemingdon Park Forest Hill North Forest Hill South Glenfield-Jane Heights  \\\n",
       "0              44               102               101                     25   \n",
       "1             NIA    No Designation    No Designation                    NIA   \n",
       "2          21,933            12,806            10,732                 30,491   \n",
       "3          22,168            12,474            10,926                 31,390   \n",
       "4          -1.10%             2.70%            -1.80%                 -2.90%   \n",
       "\n",
       "  Greenwood-Coxwell       Guildwood      Henry Farm High Park North  \\\n",
       "0                65             140              53              88   \n",
       "1    No Designation  No Designation  No Designation  No Designation   \n",
       "2            14,417           9,917          15,723          22,162   \n",
       "3            14,083           9,816          11,333          21,292   \n",
       "4             2.40%           1.00%          38.70%           4.10%   \n",
       "\n",
       "  High Park-Swansea  Highland Creek Hillcrest Village  \\\n",
       "0                87             134                48   \n",
       "1    No Designation  No Designation    No Designation   \n",
       "2            23,925          12,494            16,934   \n",
       "3            21,740          13,097            17,656   \n",
       "4            10.10%          -4.60%            -4.10%   \n",
       "\n",
       "  Humber Heights-Westmount Humber Summit Humbermede Humewood-Cedarvale  \\\n",
       "0                        8            21         22                106   \n",
       "1   Emerging Neighbourhood           NIA        NIA     No Designation   \n",
       "2                   10,948        12,416     15,545             14,365   \n",
       "3                   10,583        12,525     15,853             14,108   \n",
       "4                    3.40%        -0.90%     -1.90%              1.80%   \n",
       "\n",
       "  Ionview Islington-City Centre West   Junction Area Keelesdale-Eglinton West  \\\n",
       "0     125                         14              90                      110   \n",
       "1     NIA             No Designation  No Designation                      NIA   \n",
       "2  13,641                     43,965          14,366                   11,058   \n",
       "3  13,091                     38,084          14,027                   10,638   \n",
       "4   4.20%                     15.40%           2.40%                    3.90%   \n",
       "\n",
       "  Kennedy Park Kensington-Chinatown Kingsview Village-The Westway  \\\n",
       "0          124                   78                             6   \n",
       "1          NIA       No Designation                           NIA   \n",
       "2       17,123               17,945                        22,000   \n",
       "3       17,058               18,495                        21,723   \n",
       "4        0.40%               -3.00%                         1.30%   \n",
       "\n",
       "   Kingsway South Lambton Baby Point              L'Amoreaux Lansing-Westgate  \\\n",
       "0              15                114                     117               38   \n",
       "1  No Designation     No Designation  Emerging Neighbourhood   No Designation   \n",
       "2           9,271              7,985                  43,993           16,164   \n",
       "3           9,170              7,921                  44,919           14,642   \n",
       "4           1.10%              0.80%                  -2.10%           10.40%   \n",
       "\n",
       "  Lawrence Park North Lawrence Park South Leaside-Bennington Little Portugal  \\\n",
       "0                 105                 103                 56              84   \n",
       "1      No Designation      No Designation     No Designation  No Designation   \n",
       "2              14,607              15,179             16,828          15,559   \n",
       "3              14,541              15,070             17,011          12,050   \n",
       "4               0.50%               0.70%             -1.10%          29.10%   \n",
       "\n",
       "      Long Branch                 Malvern      Maple Leaf   Markland Wood  \\\n",
       "0              19                     132              29              12   \n",
       "1  No Designation  Emerging Neighbourhood  No Designation  No Designation   \n",
       "2          10,084                  43,794          10,111          10,554   \n",
       "3           9,632                  45,086          10,197          10,436   \n",
       "4           4.70%                  -2.90%          -0.80%           1.10%   \n",
       "\n",
       "         Milliken Mimico (includes Humber Bay Shores) Morningside  \\\n",
       "0             130                                  17         135   \n",
       "1  No Designation                      No Designation         NIA   \n",
       "2          26,572                              33,964      17,455   \n",
       "3          27,167                              26,541      17,587   \n",
       "4          -2.20%                              28.00%      -0.80%   \n",
       "\n",
       "        Moss Park Mount Dennis Mount Olive-Silverstone-Jamestown  \\\n",
       "0              73          115                                 2   \n",
       "1  No Designation          NIA                               NIA   \n",
       "2          20,506       13,593                            32,954   \n",
       "3          16,306       13,145                            32,788   \n",
       "4          25.80%        3.40%                             0.50%   \n",
       "\n",
       "  Mount Pleasant East Mount Pleasant West     New Toronto Newtonbrook East  \\\n",
       "0                  99                 104              18               50   \n",
       "1      No Designation      No Designation  No Designation   No Designation   \n",
       "2              16,775              29,658          11,463           16,097   \n",
       "3              15,982              28,593          10,900           16,423   \n",
       "4               5.00%               3.70%           5.20%           -2.00%   \n",
       "\n",
       "  Newtonbrook West         Niagara North Riverdale North St. James Town  \\\n",
       "0               36              82              68                   74   \n",
       "1   No Designation  No Designation  No Designation       No Designation   \n",
       "2           23,831          31,180          11,916               18,615   \n",
       "3           23,052          21,274          12,191               17,832   \n",
       "4            3.40%          46.60%          -2.30%                4.40%   \n",
       "\n",
       "  Oakridge Oakwood Village O'Connor-Parkview   Old East York  \\\n",
       "0      121             107                54              58   \n",
       "1      NIA  No Designation    No Designation  No Designation   \n",
       "2   13,845          21,210            18,675           9,233   \n",
       "3   13,497          21,073            18,316           9,118   \n",
       "4    2.60%           0.70%             2.00%           1.30%   \n",
       "\n",
       "  Palmerston-Little Italy Parkwoods-Donalda Pelmo Park-Humberlea  \\\n",
       "0                      80                45                   23   \n",
       "1          No Designation    No Designation       No Designation   \n",
       "2                  13,826            34,805               10,722   \n",
       "3                  13,746            34,617                8,710   \n",
       "4                   0.60%             0.50%               23.10%   \n",
       "\n",
       "  Playter Estates-Danforth   Pleasant View Princess-Rosethorn Regent Park  \\\n",
       "0                       67              46                 10          72   \n",
       "1           No Designation  No Designation     No Designation         NIA   \n",
       "2                    7,804          15,818             11,051      10,803   \n",
       "3                    7,653          16,144             11,197      10,007   \n",
       "4                    2.00%          -2.00%             -1.30%       8.00%   \n",
       "\n",
       "  Rexdale-Kipling Rockcliffe-Smythe    Roncesvalles Rosedale-Moore Park  \\\n",
       "0               4               111              86                  98   \n",
       "1  No Designation               NIA  No Designation      No Designation   \n",
       "2          10,529            22,246          14,974              20,923   \n",
       "3          10,488            22,267          15,050              20,631   \n",
       "4           0.40%            -0.10%          -0.50%               1.40%   \n",
       "\n",
       "            Rouge Runnymede-Bloor West Village  Rustic Scarborough Village  \\\n",
       "0             131                           89      28                 139   \n",
       "1  No Designation               No Designation     NIA                 NIA   \n",
       "2          46,496                       10,070   9,941              16,724   \n",
       "3          45,912                        9,632   9,951              16,609   \n",
       "4           1.30%                        4.50%  -0.10%               0.70%   \n",
       "\n",
       "  South Parkdale South Riverdale St.Andrew-Windfields                 Steeles  \\\n",
       "0             85              70                   40                     116   \n",
       "1            NIA  No Designation       No Designation  Emerging Neighbourhood   \n",
       "2         21,849          27,876               17,812                  24,623   \n",
       "3         21,251          25,642               17,958                  25,017   \n",
       "4          2.80%           8.70%               -0.80%                  -1.60%   \n",
       "\n",
       "  Stonegate-Queensway Tam O'Shanter-Sullivan Taylor-Massey     The Beaches  \\\n",
       "0                  16                    118            61              63   \n",
       "1      No Designation         No Designation           NIA  No Designation   \n",
       "2              25,051                 27,446        15,683          21,567   \n",
       "3              24,691                 27,398        15,594          21,130   \n",
       "4               1.50%                  0.20%         0.60%           2.10%   \n",
       "\n",
       "  Thistletown-Beaumond Heights Thorncliffe Park Trinity-Bellwoods  \\\n",
       "0                            3               55                81   \n",
       "1                          NIA              NIA    No Designation   \n",
       "2                       10,360           21,108            16,556   \n",
       "3                       10,138           19,225            16,802   \n",
       "4                        2.20%            9.80%            -1.50%   \n",
       "\n",
       "       University Victoria Village Waterfront Communities-The Island  \\\n",
       "0              79               43                                77   \n",
       "1  No Designation              NIA                    No Designation   \n",
       "2           7,607           17,510                            65,913   \n",
       "3           7,782           17,182                            43,361   \n",
       "4          -2.20%            1.90%                            52.00%   \n",
       "\n",
       "  West Hill West Humber-Clairville     Westminster-Branson  Weston  \\\n",
       "0       136                      1                      35     113   \n",
       "1       NIA         No Designation  Emerging Neighbourhood     NIA   \n",
       "2    27,392                 33,312                  26,274  17,992   \n",
       "3    26,547                 34,100                  25,446  18,170   \n",
       "4     3.20%                 -2.30%                   3.30%  -1.00%   \n",
       "\n",
       "  Weston-Pelham Park Wexford/Maryvale Willowdale East Willowdale West  \\\n",
       "0                 91              119              51              37   \n",
       "1                NIA   No Designation  No Designation  No Designation   \n",
       "2             11,098           27,917          50,434          16,936   \n",
       "3             12,010           27,018          45,041          15,004   \n",
       "4             -7.60%            3.30%          12.00%          12.90%   \n",
       "\n",
       "  Willowridge-Martingrove-Richview  Woburn Woodbine Corridor Woodbine-Lumsden  \\\n",
       "0                                7     137                64               60   \n",
       "1                   No Designation     NIA    No Designation   No Designation   \n",
       "2                           22,156  53,485            12,541            7,865   \n",
       "3                           21,343  53,350            11,703            7,826   \n",
       "4                            3.80%   0.30%             7.20%            0.50%   \n",
       "\n",
       "         Wychwood  Yonge-Eglinton  Yonge-St.Clair York University Heights  \\\n",
       "0              94             100              97                      27   \n",
       "1  No Designation  No Designation  No Designation                     NIA   \n",
       "2          14,349          11,817          12,528                  27,593   \n",
       "3          13,986          10,578          11,652                  27,713   \n",
       "4           2.60%          11.70%           7.50%                  -0.40%   \n",
       "\n",
       "       Yorkdale-Glen Park  \n",
       "0                      31  \n",
       "1  Emerging Neighbourhood  \n",
       "2                  14,804  \n",
       "3                  14,687  \n",
       "4                   0.80%  "
      ]
     },
     "execution_count": 38,
     "metadata": {},
     "output_type": "execute_result"
    }
   ],
   "source": [
    "# Import Census dataset\n",
    "dem_data = pd.read_csv(r'C:\\Users\\Osas\\Downloads\\Data analysis\\Capstone\\Employment & Demographics - 2016.csv')\n",
    "dem_data.head() # Display first 5 rows"
   ]
  },
  {
   "cell_type": "code",
   "execution_count": 39,
   "metadata": {},
   "outputs": [
    {
     "data": {
      "text/plain": [
       "[1890]"
      ]
     },
     "execution_count": 39,
     "metadata": {},
     "output_type": "execute_result"
    }
   ],
   "source": [
    "# Obtain the row number for Unemployment rate to allow us extract it from the dataframe\n",
    "dem_data.index[dem_data['Characteristic'] == 'Unemployment rate'].tolist()"
   ]
  },
  {
   "cell_type": "code",
   "execution_count": 40,
   "metadata": {},
   "outputs": [
    {
     "data": {
      "text/html": [
       "<div>\n",
       "<style scoped>\n",
       "    .dataframe tbody tr th:only-of-type {\n",
       "        vertical-align: middle;\n",
       "    }\n",
       "\n",
       "    .dataframe tbody tr th {\n",
       "        vertical-align: top;\n",
       "    }\n",
       "\n",
       "    .dataframe thead th {\n",
       "        text-align: right;\n",
       "    }\n",
       "</style>\n",
       "<table border=\"1\" class=\"dataframe\">\n",
       "  <thead>\n",
       "    <tr style=\"text-align: right;\">\n",
       "      <th></th>\n",
       "      <th>Characteristic</th>\n",
       "      <th>City of Toronto</th>\n",
       "      <th>Agincourt North</th>\n",
       "      <th>Agincourt South-Malvern West</th>\n",
       "      <th>Alderwood</th>\n",
       "      <th>Annex</th>\n",
       "      <th>Banbury-Don Mills</th>\n",
       "      <th>Bathurst Manor</th>\n",
       "      <th>Bay Street Corridor</th>\n",
       "      <th>Bayview Village</th>\n",
       "      <th>Bayview Woods-Steeles</th>\n",
       "      <th>Bedford Park-Nortown</th>\n",
       "      <th>Beechborough-Greenbrook</th>\n",
       "      <th>Bendale</th>\n",
       "      <th>Birchcliffe-Cliffside</th>\n",
       "      <th>Black Creek</th>\n",
       "      <th>Blake-Jones</th>\n",
       "      <th>Briar Hill-Belgravia</th>\n",
       "      <th>Bridle Path-Sunnybrook-York Mills</th>\n",
       "      <th>Broadview North</th>\n",
       "      <th>Brookhaven-Amesbury</th>\n",
       "      <th>Cabbagetown-South St. James Town</th>\n",
       "      <th>Caledonia-Fairbank</th>\n",
       "      <th>Casa Loma</th>\n",
       "      <th>Centennial Scarborough</th>\n",
       "      <th>Church-Yonge Corridor</th>\n",
       "      <th>Clairlea-Birchmount</th>\n",
       "      <th>Clanton Park</th>\n",
       "      <th>Cliffcrest</th>\n",
       "      <th>Corso Italia-Davenport</th>\n",
       "      <th>Danforth</th>\n",
       "      <th>Danforth East York</th>\n",
       "      <th>Don Valley Village</th>\n",
       "      <th>Dorset Park</th>\n",
       "      <th>Dovercourt-Wallace Emerson-Junction</th>\n",
       "      <th>Downsview-Roding-CFB</th>\n",
       "      <th>Dufferin Grove</th>\n",
       "      <th>East End-Danforth</th>\n",
       "      <th>Edenbridge-Humber Valley</th>\n",
       "      <th>Eglinton East</th>\n",
       "      <th>Elms-Old Rexdale</th>\n",
       "      <th>Englemount-Lawrence</th>\n",
       "      <th>Eringate-Centennial-West Deane</th>\n",
       "      <th>Etobicoke West Mall</th>\n",
       "      <th>Flemingdon Park</th>\n",
       "      <th>Forest Hill North</th>\n",
       "      <th>Forest Hill South</th>\n",
       "      <th>Glenfield-Jane Heights</th>\n",
       "      <th>Greenwood-Coxwell</th>\n",
       "      <th>Guildwood</th>\n",
       "      <th>Henry Farm</th>\n",
       "      <th>High Park North</th>\n",
       "      <th>High Park-Swansea</th>\n",
       "      <th>Highland Creek</th>\n",
       "      <th>Hillcrest Village</th>\n",
       "      <th>Humber Heights-Westmount</th>\n",
       "      <th>Humber Summit</th>\n",
       "      <th>Humbermede</th>\n",
       "      <th>Humewood-Cedarvale</th>\n",
       "      <th>Ionview</th>\n",
       "      <th>Islington-City Centre West</th>\n",
       "      <th>Junction Area</th>\n",
       "      <th>Keelesdale-Eglinton West</th>\n",
       "      <th>Kennedy Park</th>\n",
       "      <th>Kensington-Chinatown</th>\n",
       "      <th>Kingsview Village-The Westway</th>\n",
       "      <th>Kingsway South</th>\n",
       "      <th>Lambton Baby Point</th>\n",
       "      <th>L'Amoreaux</th>\n",
       "      <th>Lansing-Westgate</th>\n",
       "      <th>Lawrence Park North</th>\n",
       "      <th>Lawrence Park South</th>\n",
       "      <th>Leaside-Bennington</th>\n",
       "      <th>Little Portugal</th>\n",
       "      <th>Long Branch</th>\n",
       "      <th>Malvern</th>\n",
       "      <th>Maple Leaf</th>\n",
       "      <th>Markland Wood</th>\n",
       "      <th>Milliken</th>\n",
       "      <th>Mimico (includes Humber Bay Shores)</th>\n",
       "      <th>Morningside</th>\n",
       "      <th>Moss Park</th>\n",
       "      <th>Mount Dennis</th>\n",
       "      <th>Mount Olive-Silverstone-Jamestown</th>\n",
       "      <th>Mount Pleasant East</th>\n",
       "      <th>Mount Pleasant West</th>\n",
       "      <th>New Toronto</th>\n",
       "      <th>Newtonbrook East</th>\n",
       "      <th>Newtonbrook West</th>\n",
       "      <th>Niagara</th>\n",
       "      <th>North Riverdale</th>\n",
       "      <th>North St. James Town</th>\n",
       "      <th>Oakridge</th>\n",
       "      <th>Oakwood Village</th>\n",
       "      <th>O'Connor-Parkview</th>\n",
       "      <th>Old East York</th>\n",
       "      <th>Palmerston-Little Italy</th>\n",
       "      <th>Parkwoods-Donalda</th>\n",
       "      <th>Pelmo Park-Humberlea</th>\n",
       "      <th>Playter Estates-Danforth</th>\n",
       "      <th>Pleasant View</th>\n",
       "      <th>Princess-Rosethorn</th>\n",
       "      <th>Regent Park</th>\n",
       "      <th>Rexdale-Kipling</th>\n",
       "      <th>Rockcliffe-Smythe</th>\n",
       "      <th>Roncesvalles</th>\n",
       "      <th>Rosedale-Moore Park</th>\n",
       "      <th>Rouge</th>\n",
       "      <th>Runnymede-Bloor West Village</th>\n",
       "      <th>Rustic</th>\n",
       "      <th>Scarborough Village</th>\n",
       "      <th>South Parkdale</th>\n",
       "      <th>South Riverdale</th>\n",
       "      <th>St.Andrew-Windfields</th>\n",
       "      <th>Steeles</th>\n",
       "      <th>Stonegate-Queensway</th>\n",
       "      <th>Tam O'Shanter-Sullivan</th>\n",
       "      <th>Taylor-Massey</th>\n",
       "      <th>The Beaches</th>\n",
       "      <th>Thistletown-Beaumond Heights</th>\n",
       "      <th>Thorncliffe Park</th>\n",
       "      <th>Trinity-Bellwoods</th>\n",
       "      <th>University</th>\n",
       "      <th>Victoria Village</th>\n",
       "      <th>Waterfront Communities-The Island</th>\n",
       "      <th>West Hill</th>\n",
       "      <th>West Humber-Clairville</th>\n",
       "      <th>Westminster-Branson</th>\n",
       "      <th>Weston</th>\n",
       "      <th>Weston-Pelham Park</th>\n",
       "      <th>Wexford/Maryvale</th>\n",
       "      <th>Willowdale East</th>\n",
       "      <th>Willowdale West</th>\n",
       "      <th>Willowridge-Martingrove-Richview</th>\n",
       "      <th>Woburn</th>\n",
       "      <th>Woodbine Corridor</th>\n",
       "      <th>Woodbine-Lumsden</th>\n",
       "      <th>Wychwood</th>\n",
       "      <th>Yonge-Eglinton</th>\n",
       "      <th>Yonge-St.Clair</th>\n",
       "      <th>York University Heights</th>\n",
       "      <th>Yorkdale-Glen Park</th>\n",
       "    </tr>\n",
       "  </thead>\n",
       "  <tbody>\n",
       "    <tr>\n",
       "      <th>0</th>\n",
       "      <td>Neighbourhood Number</td>\n",
       "      <td>NaN</td>\n",
       "      <td>129</td>\n",
       "      <td>128</td>\n",
       "      <td>20</td>\n",
       "      <td>95</td>\n",
       "      <td>42</td>\n",
       "      <td>34</td>\n",
       "      <td>76</td>\n",
       "      <td>52</td>\n",
       "      <td>49</td>\n",
       "      <td>39</td>\n",
       "      <td>112</td>\n",
       "      <td>127</td>\n",
       "      <td>122</td>\n",
       "      <td>24</td>\n",
       "      <td>69</td>\n",
       "      <td>108</td>\n",
       "      <td>41</td>\n",
       "      <td>57</td>\n",
       "      <td>30</td>\n",
       "      <td>71</td>\n",
       "      <td>109</td>\n",
       "      <td>96</td>\n",
       "      <td>133</td>\n",
       "      <td>75</td>\n",
       "      <td>120</td>\n",
       "      <td>33</td>\n",
       "      <td>123</td>\n",
       "      <td>92</td>\n",
       "      <td>66</td>\n",
       "      <td>59</td>\n",
       "      <td>47</td>\n",
       "      <td>126</td>\n",
       "      <td>93</td>\n",
       "      <td>26</td>\n",
       "      <td>83</td>\n",
       "      <td>62</td>\n",
       "      <td>9</td>\n",
       "      <td>138</td>\n",
       "      <td>5</td>\n",
       "      <td>32</td>\n",
       "      <td>11</td>\n",
       "      <td>13</td>\n",
       "      <td>44</td>\n",
       "      <td>102</td>\n",
       "      <td>101</td>\n",
       "      <td>25</td>\n",
       "      <td>65</td>\n",
       "      <td>140</td>\n",
       "      <td>53</td>\n",
       "      <td>88</td>\n",
       "      <td>87</td>\n",
       "      <td>134</td>\n",
       "      <td>48</td>\n",
       "      <td>8</td>\n",
       "      <td>21</td>\n",
       "      <td>22</td>\n",
       "      <td>106</td>\n",
       "      <td>125</td>\n",
       "      <td>14</td>\n",
       "      <td>90</td>\n",
       "      <td>110</td>\n",
       "      <td>124</td>\n",
       "      <td>78</td>\n",
       "      <td>6</td>\n",
       "      <td>15</td>\n",
       "      <td>114</td>\n",
       "      <td>117</td>\n",
       "      <td>38</td>\n",
       "      <td>105</td>\n",
       "      <td>103</td>\n",
       "      <td>56</td>\n",
       "      <td>84</td>\n",
       "      <td>19</td>\n",
       "      <td>132</td>\n",
       "      <td>29</td>\n",
       "      <td>12</td>\n",
       "      <td>130</td>\n",
       "      <td>17</td>\n",
       "      <td>135</td>\n",
       "      <td>73</td>\n",
       "      <td>115</td>\n",
       "      <td>2</td>\n",
       "      <td>99</td>\n",
       "      <td>104</td>\n",
       "      <td>18</td>\n",
       "      <td>50</td>\n",
       "      <td>36</td>\n",
       "      <td>82</td>\n",
       "      <td>68</td>\n",
       "      <td>74</td>\n",
       "      <td>121</td>\n",
       "      <td>107</td>\n",
       "      <td>54</td>\n",
       "      <td>58</td>\n",
       "      <td>80</td>\n",
       "      <td>45</td>\n",
       "      <td>23</td>\n",
       "      <td>67</td>\n",
       "      <td>46</td>\n",
       "      <td>10</td>\n",
       "      <td>72</td>\n",
       "      <td>4</td>\n",
       "      <td>111</td>\n",
       "      <td>86</td>\n",
       "      <td>98</td>\n",
       "      <td>131</td>\n",
       "      <td>89</td>\n",
       "      <td>28</td>\n",
       "      <td>139</td>\n",
       "      <td>85</td>\n",
       "      <td>70</td>\n",
       "      <td>40</td>\n",
       "      <td>116</td>\n",
       "      <td>16</td>\n",
       "      <td>118</td>\n",
       "      <td>61</td>\n",
       "      <td>63</td>\n",
       "      <td>3</td>\n",
       "      <td>55</td>\n",
       "      <td>81</td>\n",
       "      <td>79</td>\n",
       "      <td>43</td>\n",
       "      <td>77</td>\n",
       "      <td>136</td>\n",
       "      <td>1</td>\n",
       "      <td>35</td>\n",
       "      <td>113</td>\n",
       "      <td>91</td>\n",
       "      <td>119</td>\n",
       "      <td>51</td>\n",
       "      <td>37</td>\n",
       "      <td>7</td>\n",
       "      <td>137</td>\n",
       "      <td>64</td>\n",
       "      <td>60</td>\n",
       "      <td>94</td>\n",
       "      <td>100</td>\n",
       "      <td>97</td>\n",
       "      <td>27</td>\n",
       "      <td>31</td>\n",
       "    </tr>\n",
       "    <tr>\n",
       "      <th>1890</th>\n",
       "      <td>Unemployment rate</td>\n",
       "      <td>8.2</td>\n",
       "      <td>9.8</td>\n",
       "      <td>9.8</td>\n",
       "      <td>6.1</td>\n",
       "      <td>6.7</td>\n",
       "      <td>7.2</td>\n",
       "      <td>7.2</td>\n",
       "      <td>10.2</td>\n",
       "      <td>7.7</td>\n",
       "      <td>8</td>\n",
       "      <td>5.5</td>\n",
       "      <td>11.4</td>\n",
       "      <td>8.8</td>\n",
       "      <td>8.8</td>\n",
       "      <td>12.7</td>\n",
       "      <td>8.5</td>\n",
       "      <td>8.7</td>\n",
       "      <td>8</td>\n",
       "      <td>8.2</td>\n",
       "      <td>10</td>\n",
       "      <td>8</td>\n",
       "      <td>7.2</td>\n",
       "      <td>6.6</td>\n",
       "      <td>7.6</td>\n",
       "      <td>8.5</td>\n",
       "      <td>8.7</td>\n",
       "      <td>6.1</td>\n",
       "      <td>9.7</td>\n",
       "      <td>7.2</td>\n",
       "      <td>6.2</td>\n",
       "      <td>6.9</td>\n",
       "      <td>9.6</td>\n",
       "      <td>9.7</td>\n",
       "      <td>7.2</td>\n",
       "      <td>7.9</td>\n",
       "      <td>7.5</td>\n",
       "      <td>8.2</td>\n",
       "      <td>6.1</td>\n",
       "      <td>10.8</td>\n",
       "      <td>10</td>\n",
       "      <td>8.9</td>\n",
       "      <td>7.4</td>\n",
       "      <td>7.9</td>\n",
       "      <td>10.6</td>\n",
       "      <td>7.4</td>\n",
       "      <td>5.6</td>\n",
       "      <td>11.5</td>\n",
       "      <td>7.2</td>\n",
       "      <td>7.9</td>\n",
       "      <td>10.3</td>\n",
       "      <td>7.1</td>\n",
       "      <td>6</td>\n",
       "      <td>8.5</td>\n",
       "      <td>8.3</td>\n",
       "      <td>7.4</td>\n",
       "      <td>9.6</td>\n",
       "      <td>10.2</td>\n",
       "      <td>7.1</td>\n",
       "      <td>8.8</td>\n",
       "      <td>7.3</td>\n",
       "      <td>5.6</td>\n",
       "      <td>8.6</td>\n",
       "      <td>9.1</td>\n",
       "      <td>8.2</td>\n",
       "      <td>9.9</td>\n",
       "      <td>7.5</td>\n",
       "      <td>7.6</td>\n",
       "      <td>10.9</td>\n",
       "      <td>7.2</td>\n",
       "      <td>6.4</td>\n",
       "      <td>7.5</td>\n",
       "      <td>6.9</td>\n",
       "      <td>6.4</td>\n",
       "      <td>7.1</td>\n",
       "      <td>10.5</td>\n",
       "      <td>8.1</td>\n",
       "      <td>6.2</td>\n",
       "      <td>9.5</td>\n",
       "      <td>6.2</td>\n",
       "      <td>11.4</td>\n",
       "      <td>6.9</td>\n",
       "      <td>10.8</td>\n",
       "      <td>12.1</td>\n",
       "      <td>6.9</td>\n",
       "      <td>6.7</td>\n",
       "      <td>8.7</td>\n",
       "      <td>8.8</td>\n",
       "      <td>8.4</td>\n",
       "      <td>4.5</td>\n",
       "      <td>5.3</td>\n",
       "      <td>10.4</td>\n",
       "      <td>14.6</td>\n",
       "      <td>6.8</td>\n",
       "      <td>10.1</td>\n",
       "      <td>5</td>\n",
       "      <td>6.8</td>\n",
       "      <td>9.2</td>\n",
       "      <td>6</td>\n",
       "      <td>6.4</td>\n",
       "      <td>10</td>\n",
       "      <td>6</td>\n",
       "      <td>9.6</td>\n",
       "      <td>10.9</td>\n",
       "      <td>9.2</td>\n",
       "      <td>6.7</td>\n",
       "      <td>6</td>\n",
       "      <td>8.2</td>\n",
       "      <td>5.1</td>\n",
       "      <td>9.1</td>\n",
       "      <td>13</td>\n",
       "      <td>8.6</td>\n",
       "      <td>6.5</td>\n",
       "      <td>8.3</td>\n",
       "      <td>9.5</td>\n",
       "      <td>6.7</td>\n",
       "      <td>9.1</td>\n",
       "      <td>11.5</td>\n",
       "      <td>5.7</td>\n",
       "      <td>10.4</td>\n",
       "      <td>12.6</td>\n",
       "      <td>6.1</td>\n",
       "      <td>8.3</td>\n",
       "      <td>10.1</td>\n",
       "      <td>5.2</td>\n",
       "      <td>11.6</td>\n",
       "      <td>9.6</td>\n",
       "      <td>9.2</td>\n",
       "      <td>10.6</td>\n",
       "      <td>8.5</td>\n",
       "      <td>9</td>\n",
       "      <td>8.5</td>\n",
       "      <td>9.8</td>\n",
       "      <td>8.5</td>\n",
       "      <td>10.6</td>\n",
       "      <td>7.7</td>\n",
       "      <td>6.6</td>\n",
       "      <td>5.2</td>\n",
       "      <td>6.9</td>\n",
       "      <td>5.9</td>\n",
       "      <td>10.7</td>\n",
       "      <td>8</td>\n",
       "    </tr>\n",
       "  </tbody>\n",
       "</table>\n",
       "</div>"
      ],
      "text/plain": [
       "            Characteristic City of Toronto Agincourt North  \\\n",
       "0     Neighbourhood Number             NaN             129   \n",
       "1890     Unemployment rate             8.2             9.8   \n",
       "\n",
       "     Agincourt South-Malvern West Alderwood Annex Banbury-Don Mills  \\\n",
       "0                             128        20    95                42   \n",
       "1890                          9.8       6.1   6.7               7.2   \n",
       "\n",
       "     Bathurst Manor Bay Street Corridor Bayview Village Bayview Woods-Steeles  \\\n",
       "0                34                  76              52                    49   \n",
       "1890            7.2                10.2             7.7                     8   \n",
       "\n",
       "     Bedford Park-Nortown Beechborough-Greenbrook Bendale  \\\n",
       "0                      39                     112     127   \n",
       "1890                  5.5                    11.4     8.8   \n",
       "\n",
       "     Birchcliffe-Cliffside Black Creek Blake-Jones Briar Hill-Belgravia  \\\n",
       "0                      122          24          69                  108   \n",
       "1890                   8.8        12.7         8.5                  8.7   \n",
       "\n",
       "     Bridle Path-Sunnybrook-York Mills Broadview North Brookhaven-Amesbury  \\\n",
       "0                                   41              57                  30   \n",
       "1890                                 8             8.2                  10   \n",
       "\n",
       "     Cabbagetown-South St. James Town Caledonia-Fairbank Casa Loma  \\\n",
       "0                                  71                109        96   \n",
       "1890                                8                7.2       6.6   \n",
       "\n",
       "     Centennial Scarborough Church-Yonge Corridor Clairlea-Birchmount  \\\n",
       "0                       133                    75                 120   \n",
       "1890                    7.6                   8.5                 8.7   \n",
       "\n",
       "     Clanton Park Cliffcrest Corso Italia-Davenport Danforth  \\\n",
       "0              33        123                     92       66   \n",
       "1890          6.1        9.7                    7.2      6.2   \n",
       "\n",
       "     Danforth East York Don Valley Village Dorset Park  \\\n",
       "0                    59                 47         126   \n",
       "1890                6.9                9.6         9.7   \n",
       "\n",
       "     Dovercourt-Wallace Emerson-Junction Downsview-Roding-CFB Dufferin Grove  \\\n",
       "0                                     93                   26             83   \n",
       "1890                                 7.2                  7.9            7.5   \n",
       "\n",
       "     East End-Danforth Edenbridge-Humber Valley Eglinton East  \\\n",
       "0                   62                        9           138   \n",
       "1890               8.2                      6.1          10.8   \n",
       "\n",
       "     Elms-Old Rexdale Englemount-Lawrence Eringate-Centennial-West Deane  \\\n",
       "0                   5                  32                             11   \n",
       "1890               10                 8.9                            7.4   \n",
       "\n",
       "     Etobicoke West Mall Flemingdon Park Forest Hill North Forest Hill South  \\\n",
       "0                     13              44               102               101   \n",
       "1890                 7.9            10.6               7.4               5.6   \n",
       "\n",
       "     Glenfield-Jane Heights Greenwood-Coxwell Guildwood Henry Farm  \\\n",
       "0                        25                65       140         53   \n",
       "1890                   11.5               7.2       7.9       10.3   \n",
       "\n",
       "     High Park North High Park-Swansea Highland Creek Hillcrest Village  \\\n",
       "0                 88                87            134                48   \n",
       "1890             7.1                 6            8.5               8.3   \n",
       "\n",
       "     Humber Heights-Westmount Humber Summit Humbermede Humewood-Cedarvale  \\\n",
       "0                           8            21         22                106   \n",
       "1890                      7.4           9.6       10.2                7.1   \n",
       "\n",
       "     Ionview Islington-City Centre West Junction Area  \\\n",
       "0        125                         14            90   \n",
       "1890     8.8                        7.3           5.6   \n",
       "\n",
       "     Keelesdale-Eglinton West Kennedy Park Kensington-Chinatown  \\\n",
       "0                         110          124                   78   \n",
       "1890                      8.6          9.1                  8.2   \n",
       "\n",
       "     Kingsview Village-The Westway Kingsway South Lambton Baby Point  \\\n",
       "0                                6             15                114   \n",
       "1890                           9.9            7.5                7.6   \n",
       "\n",
       "     L'Amoreaux Lansing-Westgate Lawrence Park North Lawrence Park South  \\\n",
       "0           117               38                 105                 103   \n",
       "1890       10.9              7.2                 6.4                 7.5   \n",
       "\n",
       "     Leaside-Bennington Little Portugal Long Branch Malvern Maple Leaf  \\\n",
       "0                    56              84          19     132         29   \n",
       "1890                6.9             6.4         7.1    10.5        8.1   \n",
       "\n",
       "     Markland Wood Milliken Mimico (includes Humber Bay Shores) Morningside  \\\n",
       "0               12      130                                  17         135   \n",
       "1890           6.2      9.5                                 6.2        11.4   \n",
       "\n",
       "     Moss Park Mount Dennis Mount Olive-Silverstone-Jamestown  \\\n",
       "0           73          115                                 2   \n",
       "1890       6.9         10.8                              12.1   \n",
       "\n",
       "     Mount Pleasant East Mount Pleasant West New Toronto Newtonbrook East  \\\n",
       "0                     99                 104          18               50   \n",
       "1890                 6.9                 6.7         8.7              8.8   \n",
       "\n",
       "     Newtonbrook West Niagara North Riverdale North St. James Town Oakridge  \\\n",
       "0                  36      82              68                   74      121   \n",
       "1890              8.4     4.5             5.3                 10.4     14.6   \n",
       "\n",
       "     Oakwood Village O'Connor-Parkview Old East York Palmerston-Little Italy  \\\n",
       "0                107                54            58                      80   \n",
       "1890             6.8              10.1             5                     6.8   \n",
       "\n",
       "     Parkwoods-Donalda Pelmo Park-Humberlea Playter Estates-Danforth  \\\n",
       "0                   45                   23                       67   \n",
       "1890               9.2                    6                      6.4   \n",
       "\n",
       "     Pleasant View Princess-Rosethorn Regent Park Rexdale-Kipling  \\\n",
       "0               46                 10          72               4   \n",
       "1890            10                  6         9.6            10.9   \n",
       "\n",
       "     Rockcliffe-Smythe Roncesvalles Rosedale-Moore Park Rouge  \\\n",
       "0                  111           86                  98   131   \n",
       "1890               9.2          6.7                   6   8.2   \n",
       "\n",
       "     Runnymede-Bloor West Village Rustic Scarborough Village South Parkdale  \\\n",
       "0                              89     28                 139             85   \n",
       "1890                          5.1    9.1                  13            8.6   \n",
       "\n",
       "     South Riverdale St.Andrew-Windfields Steeles Stonegate-Queensway  \\\n",
       "0                 70                   40     116                  16   \n",
       "1890             6.5                  8.3     9.5                 6.7   \n",
       "\n",
       "     Tam O'Shanter-Sullivan Taylor-Massey The Beaches  \\\n",
       "0                       118            61          63   \n",
       "1890                    9.1          11.5         5.7   \n",
       "\n",
       "     Thistletown-Beaumond Heights Thorncliffe Park Trinity-Bellwoods  \\\n",
       "0                               3               55                81   \n",
       "1890                         10.4             12.6               6.1   \n",
       "\n",
       "     University Victoria Village Waterfront Communities-The Island West Hill  \\\n",
       "0            79               43                                77       136   \n",
       "1890        8.3             10.1                               5.2      11.6   \n",
       "\n",
       "     West Humber-Clairville Westminster-Branson Weston Weston-Pelham Park  \\\n",
       "0                         1                  35    113                 91   \n",
       "1890                    9.6                 9.2   10.6                8.5   \n",
       "\n",
       "     Wexford/Maryvale Willowdale East Willowdale West  \\\n",
       "0                 119              51              37   \n",
       "1890                9             8.5             9.8   \n",
       "\n",
       "     Willowridge-Martingrove-Richview Woburn Woodbine Corridor  \\\n",
       "0                                   7    137                64   \n",
       "1890                              8.5   10.6               7.7   \n",
       "\n",
       "     Woodbine-Lumsden Wychwood Yonge-Eglinton Yonge-St.Clair  \\\n",
       "0                  60       94            100             97   \n",
       "1890              6.6      5.2            6.9            5.9   \n",
       "\n",
       "     York University Heights Yorkdale-Glen Park  \n",
       "0                         27                 31  \n",
       "1890                    10.7                  8  "
      ]
     },
     "execution_count": 40,
     "metadata": {},
     "output_type": "execute_result"
    }
   ],
   "source": [
    "# Slice demographics dataframe to obtain Unemployment rates per Neighbourhood\n",
    "emp_data=dem_data.iloc[lambda df: [0,1890], 4:]\n",
    "emp_data.head()"
   ]
  },
  {
   "cell_type": "code",
   "execution_count": 41,
   "metadata": {},
   "outputs": [
    {
     "data": {
      "text/html": [
       "<div>\n",
       "<style scoped>\n",
       "    .dataframe tbody tr th:only-of-type {\n",
       "        vertical-align: middle;\n",
       "    }\n",
       "\n",
       "    .dataframe tbody tr th {\n",
       "        vertical-align: top;\n",
       "    }\n",
       "\n",
       "    .dataframe thead th {\n",
       "        text-align: right;\n",
       "    }\n",
       "</style>\n",
       "<table border=\"1\" class=\"dataframe\">\n",
       "  <thead>\n",
       "    <tr style=\"text-align: right;\">\n",
       "      <th></th>\n",
       "      <th>Neighbourhood Name</th>\n",
       "      <th>Neighbourhood ID</th>\n",
       "      <th>Unemployment Rate</th>\n",
       "    </tr>\n",
       "  </thead>\n",
       "  <tbody>\n",
       "    <tr>\n",
       "      <th>0</th>\n",
       "      <td>Agincourt North</td>\n",
       "      <td>129</td>\n",
       "      <td>9.80</td>\n",
       "    </tr>\n",
       "    <tr>\n",
       "      <th>1</th>\n",
       "      <td>Agincourt South-Malvern West</td>\n",
       "      <td>128</td>\n",
       "      <td>9.80</td>\n",
       "    </tr>\n",
       "    <tr>\n",
       "      <th>2</th>\n",
       "      <td>Alderwood</td>\n",
       "      <td>20</td>\n",
       "      <td>6.10</td>\n",
       "    </tr>\n",
       "    <tr>\n",
       "      <th>3</th>\n",
       "      <td>Annex</td>\n",
       "      <td>95</td>\n",
       "      <td>6.70</td>\n",
       "    </tr>\n",
       "    <tr>\n",
       "      <th>4</th>\n",
       "      <td>Banbury-Don Mills</td>\n",
       "      <td>42</td>\n",
       "      <td>7.20</td>\n",
       "    </tr>\n",
       "  </tbody>\n",
       "</table>\n",
       "</div>"
      ],
      "text/plain": [
       "             Neighbourhood Name  Neighbourhood ID  Unemployment Rate\n",
       "0               Agincourt North               129               9.80\n",
       "1  Agincourt South-Malvern West               128               9.80\n",
       "2                     Alderwood                20               6.10\n",
       "3                         Annex                95               6.70\n",
       "4             Banbury-Don Mills                42               7.20"
      ]
     },
     "execution_count": 41,
     "metadata": {},
     "output_type": "execute_result"
    }
   ],
   "source": [
    "# Drop irrelevant columns\n",
    "emp_data.drop(labels='City of Toronto',axis=1, inplace=True)\n",
    "emp_data.rename(columns={'Characteristic':'Neighbourhood Name'}, inplace=True)\n",
    "# Set index and Transpose\n",
    "emp_data=emp_data.set_index('Neighbourhood Name').T\n",
    "emp_data.reset_index(inplace = True)\n",
    "# Re-order columns\n",
    "emp_data.columns = ['Neighbourhood Name', 'Neighbourhood ID', 'Unemployment Rate']\n",
    "# Set Neighbourhood ID and Unemployment Rate to numeric type\n",
    "emp_data['Neighbourhood ID']=emp_data['Neighbourhood ID'].apply(pd.to_numeric) \n",
    "emp_data['Unemployment Rate']=emp_data['Unemployment Rate'].apply(pd.to_numeric) \n",
    "emp_data.head()"
   ]
  },
  {
   "cell_type": "markdown",
   "metadata": {},
   "source": [
    "### Crime Rate Dataset"
   ]
  },
  {
   "cell_type": "code",
   "execution_count": 42,
   "metadata": {},
   "outputs": [
    {
     "data": {
      "text/html": [
       "<div>\n",
       "<style scoped>\n",
       "    .dataframe tbody tr th:only-of-type {\n",
       "        vertical-align: middle;\n",
       "    }\n",
       "\n",
       "    .dataframe tbody tr th {\n",
       "        vertical-align: top;\n",
       "    }\n",
       "\n",
       "    .dataframe thead th {\n",
       "        text-align: right;\n",
       "    }\n",
       "</style>\n",
       "<table border=\"1\" class=\"dataframe\">\n",
       "  <thead>\n",
       "    <tr style=\"text-align: right;\">\n",
       "      <th></th>\n",
       "      <th>_id</th>\n",
       "      <th>OBJECTID</th>\n",
       "      <th>Neighbourhood</th>\n",
       "      <th>Hood_ID</th>\n",
       "      <th>Population</th>\n",
       "      <th>Assault_2014</th>\n",
       "      <th>Assault_2015</th>\n",
       "      <th>Assault_2016</th>\n",
       "      <th>Assault_2017</th>\n",
       "      <th>Assault_2018</th>\n",
       "      <th>Assault_2019</th>\n",
       "      <th>Assault_AVG</th>\n",
       "      <th>Assault_CHG</th>\n",
       "      <th>Assault_Rate_2019</th>\n",
       "      <th>AutoTheft_2014</th>\n",
       "      <th>AutoTheft_2015</th>\n",
       "      <th>AutoTheft_2016</th>\n",
       "      <th>AutoTheft_2017</th>\n",
       "      <th>AutoTheft_2018</th>\n",
       "      <th>AutoTheft_2019</th>\n",
       "      <th>AutoTheft_AVG</th>\n",
       "      <th>AutoTheft_CHG</th>\n",
       "      <th>AutoTheft_Rate_2019</th>\n",
       "      <th>BreakandEnter_2014</th>\n",
       "      <th>BreakandEnter_2015</th>\n",
       "      <th>BreakandEnter_2016</th>\n",
       "      <th>BreakandEnter_2017</th>\n",
       "      <th>BreakandEnter_2018</th>\n",
       "      <th>BreakandEnter_2019</th>\n",
       "      <th>BreakandEnter_AVG</th>\n",
       "      <th>BreakandEnter_CHG</th>\n",
       "      <th>BreakandEnter_Rate_2019</th>\n",
       "      <th>Homicide_2014</th>\n",
       "      <th>Homicide_2015</th>\n",
       "      <th>Homicide_2016</th>\n",
       "      <th>Homicide_2017</th>\n",
       "      <th>Homicide_2018</th>\n",
       "      <th>Homicide_2019</th>\n",
       "      <th>Homicide_AVG</th>\n",
       "      <th>Homicide_CHG</th>\n",
       "      <th>Homicide_Rate_2019</th>\n",
       "      <th>Robbery_2014</th>\n",
       "      <th>Robbery_2015</th>\n",
       "      <th>Robbery_2016</th>\n",
       "      <th>Robbery_2017</th>\n",
       "      <th>Robbery_2018</th>\n",
       "      <th>Robbery_2019</th>\n",
       "      <th>Robbery_AVG</th>\n",
       "      <th>Robbery_CHG</th>\n",
       "      <th>Robbery_Rate_2019</th>\n",
       "      <th>TheftOver_2014</th>\n",
       "      <th>TheftOver_2015</th>\n",
       "      <th>TheftOver_2016</th>\n",
       "      <th>TheftOver_2017</th>\n",
       "      <th>TheftOver_2018</th>\n",
       "      <th>TheftOver_2019</th>\n",
       "      <th>TheftOver_AVG</th>\n",
       "      <th>TheftOver_CHG</th>\n",
       "      <th>TheftOver_Rate_2019</th>\n",
       "      <th>Shape__Area</th>\n",
       "      <th>Shape__Length</th>\n",
       "      <th>geometry</th>\n",
       "    </tr>\n",
       "  </thead>\n",
       "  <tbody>\n",
       "    <tr>\n",
       "      <th>0</th>\n",
       "      <td>1</td>\n",
       "      <td>16</td>\n",
       "      <td>South Parkdale</td>\n",
       "      <td>85</td>\n",
       "      <td>21849</td>\n",
       "      <td>202</td>\n",
       "      <td>226</td>\n",
       "      <td>231</td>\n",
       "      <td>229</td>\n",
       "      <td>220</td>\n",
       "      <td>251</td>\n",
       "      <td>226.50</td>\n",
       "      <td>0.14</td>\n",
       "      <td>1,148.80</td>\n",
       "      <td>13</td>\n",
       "      <td>20</td>\n",
       "      <td>23</td>\n",
       "      <td>19</td>\n",
       "      <td>17</td>\n",
       "      <td>20</td>\n",
       "      <td>18.70</td>\n",
       "      <td>0.18</td>\n",
       "      <td>91.50</td>\n",
       "      <td>45</td>\n",
       "      <td>51</td>\n",
       "      <td>71</td>\n",
       "      <td>58</td>\n",
       "      <td>78</td>\n",
       "      <td>89</td>\n",
       "      <td>65.30</td>\n",
       "      <td>0.14</td>\n",
       "      <td>407.30</td>\n",
       "      <td>0</td>\n",
       "      <td>0</td>\n",
       "      <td>1</td>\n",
       "      <td>0</td>\n",
       "      <td>0</td>\n",
       "      <td>1</td>\n",
       "      <td>0.30</td>\n",
       "      <td>1.00</td>\n",
       "      <td>4.60</td>\n",
       "      <td>24</td>\n",
       "      <td>35</td>\n",
       "      <td>41</td>\n",
       "      <td>30</td>\n",
       "      <td>35</td>\n",
       "      <td>33</td>\n",
       "      <td>33.00</td>\n",
       "      <td>-0.06</td>\n",
       "      <td>151.00</td>\n",
       "      <td>6</td>\n",
       "      <td>4</td>\n",
       "      <td>9</td>\n",
       "      <td>10</td>\n",
       "      <td>9</td>\n",
       "      <td>22</td>\n",
       "      <td>10.00</td>\n",
       "      <td>1.44</td>\n",
       "      <td>100.70</td>\n",
       "      <td>2,286,974.07</td>\n",
       "      <td>10,802.83</td>\n",
       "      <td>{u'type': u'Polygon', u'coordinates': (((-79.4...</td>\n",
       "    </tr>\n",
       "    <tr>\n",
       "      <th>1</th>\n",
       "      <td>2</td>\n",
       "      <td>17</td>\n",
       "      <td>South Riverdale</td>\n",
       "      <td>70</td>\n",
       "      <td>27876</td>\n",
       "      <td>215</td>\n",
       "      <td>207</td>\n",
       "      <td>236</td>\n",
       "      <td>243</td>\n",
       "      <td>304</td>\n",
       "      <td>261</td>\n",
       "      <td>244.30</td>\n",
       "      <td>-0.14</td>\n",
       "      <td>936.30</td>\n",
       "      <td>18</td>\n",
       "      <td>23</td>\n",
       "      <td>27</td>\n",
       "      <td>37</td>\n",
       "      <td>40</td>\n",
       "      <td>40</td>\n",
       "      <td>30.80</td>\n",
       "      <td>0.00</td>\n",
       "      <td>143.50</td>\n",
       "      <td>89</td>\n",
       "      <td>98</td>\n",
       "      <td>148</td>\n",
       "      <td>94</td>\n",
       "      <td>91</td>\n",
       "      <td>133</td>\n",
       "      <td>108.80</td>\n",
       "      <td>0.46</td>\n",
       "      <td>477.10</td>\n",
       "      <td>1</td>\n",
       "      <td>0</td>\n",
       "      <td>3</td>\n",
       "      <td>5</td>\n",
       "      <td>2</td>\n",
       "      <td>0</td>\n",
       "      <td>1.80</td>\n",
       "      <td>-1.00</td>\n",
       "      <td>0.00</td>\n",
       "      <td>64</td>\n",
       "      <td>42</td>\n",
       "      <td>49</td>\n",
       "      <td>64</td>\n",
       "      <td>40</td>\n",
       "      <td>35</td>\n",
       "      <td>49.00</td>\n",
       "      <td>-0.13</td>\n",
       "      <td>125.60</td>\n",
       "      <td>18</td>\n",
       "      <td>16</td>\n",
       "      <td>22</td>\n",
       "      <td>27</td>\n",
       "      <td>24</td>\n",
       "      <td>21</td>\n",
       "      <td>21.30</td>\n",
       "      <td>-0.13</td>\n",
       "      <td>75.30</td>\n",
       "      <td>10,964,573.83</td>\n",
       "      <td>43,080.72</td>\n",
       "      <td>{u'type': u'Polygon', u'coordinates': (((-79.3...</td>\n",
       "    </tr>\n",
       "    <tr>\n",
       "      <th>2</th>\n",
       "      <td>3</td>\n",
       "      <td>18</td>\n",
       "      <td>St.Andrew-Windfields</td>\n",
       "      <td>40</td>\n",
       "      <td>17812</td>\n",
       "      <td>53</td>\n",
       "      <td>41</td>\n",
       "      <td>48</td>\n",
       "      <td>45</td>\n",
       "      <td>55</td>\n",
       "      <td>58</td>\n",
       "      <td>50.00</td>\n",
       "      <td>0.05</td>\n",
       "      <td>325.60</td>\n",
       "      <td>15</td>\n",
       "      <td>25</td>\n",
       "      <td>10</td>\n",
       "      <td>15</td>\n",
       "      <td>21</td>\n",
       "      <td>35</td>\n",
       "      <td>20.20</td>\n",
       "      <td>0.67</td>\n",
       "      <td>196.50</td>\n",
       "      <td>81</td>\n",
       "      <td>79</td>\n",
       "      <td>57</td>\n",
       "      <td>91</td>\n",
       "      <td>81</td>\n",
       "      <td>83</td>\n",
       "      <td>78.70</td>\n",
       "      <td>0.02</td>\n",
       "      <td>466.00</td>\n",
       "      <td>1</td>\n",
       "      <td>0</td>\n",
       "      <td>0</td>\n",
       "      <td>2</td>\n",
       "      <td>0</td>\n",
       "      <td>0</td>\n",
       "      <td>0.50</td>\n",
       "      <td>0.00</td>\n",
       "      <td>0.00</td>\n",
       "      <td>8</td>\n",
       "      <td>5</td>\n",
       "      <td>14</td>\n",
       "      <td>0</td>\n",
       "      <td>4</td>\n",
       "      <td>12</td>\n",
       "      <td>7.20</td>\n",
       "      <td>2.00</td>\n",
       "      <td>67.40</td>\n",
       "      <td>10</td>\n",
       "      <td>14</td>\n",
       "      <td>8</td>\n",
       "      <td>7</td>\n",
       "      <td>6</td>\n",
       "      <td>6</td>\n",
       "      <td>8.50</td>\n",
       "      <td>0.00</td>\n",
       "      <td>33.70</td>\n",
       "      <td>7,299,579.76</td>\n",
       "      <td>13,026.00</td>\n",
       "      <td>{u'type': u'Polygon', u'coordinates': (((-79.3...</td>\n",
       "    </tr>\n",
       "    <tr>\n",
       "      <th>3</th>\n",
       "      <td>4</td>\n",
       "      <td>19</td>\n",
       "      <td>Taylor-Massey</td>\n",
       "      <td>61</td>\n",
       "      <td>15683</td>\n",
       "      <td>127</td>\n",
       "      <td>92</td>\n",
       "      <td>97</td>\n",
       "      <td>107</td>\n",
       "      <td>123</td>\n",
       "      <td>122</td>\n",
       "      <td>111.30</td>\n",
       "      <td>-0.01</td>\n",
       "      <td>777.90</td>\n",
       "      <td>11</td>\n",
       "      <td>9</td>\n",
       "      <td>7</td>\n",
       "      <td>5</td>\n",
       "      <td>12</td>\n",
       "      <td>12</td>\n",
       "      <td>9.30</td>\n",
       "      <td>0.00</td>\n",
       "      <td>76.50</td>\n",
       "      <td>31</td>\n",
       "      <td>71</td>\n",
       "      <td>43</td>\n",
       "      <td>27</td>\n",
       "      <td>41</td>\n",
       "      <td>63</td>\n",
       "      <td>46.00</td>\n",
       "      <td>0.54</td>\n",
       "      <td>401.70</td>\n",
       "      <td>0</td>\n",
       "      <td>1</td>\n",
       "      <td>1</td>\n",
       "      <td>1</td>\n",
       "      <td>0</td>\n",
       "      <td>1</td>\n",
       "      <td>0.70</td>\n",
       "      <td>1.00</td>\n",
       "      <td>6.40</td>\n",
       "      <td>24</td>\n",
       "      <td>37</td>\n",
       "      <td>16</td>\n",
       "      <td>20</td>\n",
       "      <td>16</td>\n",
       "      <td>13</td>\n",
       "      <td>21.00</td>\n",
       "      <td>-0.19</td>\n",
       "      <td>82.90</td>\n",
       "      <td>4</td>\n",
       "      <td>3</td>\n",
       "      <td>5</td>\n",
       "      <td>2</td>\n",
       "      <td>4</td>\n",
       "      <td>3</td>\n",
       "      <td>3.50</td>\n",
       "      <td>-0.25</td>\n",
       "      <td>19.10</td>\n",
       "      <td>1,062,970.04</td>\n",
       "      <td>5,940.70</td>\n",
       "      <td>{u'type': u'Polygon', u'coordinates': (((-79.2...</td>\n",
       "    </tr>\n",
       "    <tr>\n",
       "      <th>4</th>\n",
       "      <td>5</td>\n",
       "      <td>20</td>\n",
       "      <td>Humber Summit</td>\n",
       "      <td>21</td>\n",
       "      <td>12416</td>\n",
       "      <td>76</td>\n",
       "      <td>89</td>\n",
       "      <td>118</td>\n",
       "      <td>116</td>\n",
       "      <td>109</td>\n",
       "      <td>118</td>\n",
       "      <td>104.30</td>\n",
       "      <td>0.08</td>\n",
       "      <td>950.40</td>\n",
       "      <td>66</td>\n",
       "      <td>42</td>\n",
       "      <td>62</td>\n",
       "      <td>83</td>\n",
       "      <td>106</td>\n",
       "      <td>135</td>\n",
       "      <td>82.30</td>\n",
       "      <td>0.27</td>\n",
       "      <td>1,087.30</td>\n",
       "      <td>54</td>\n",
       "      <td>44</td>\n",
       "      <td>41</td>\n",
       "      <td>40</td>\n",
       "      <td>56</td>\n",
       "      <td>57</td>\n",
       "      <td>48.70</td>\n",
       "      <td>0.02</td>\n",
       "      <td>459.10</td>\n",
       "      <td>0</td>\n",
       "      <td>1</td>\n",
       "      <td>0</td>\n",
       "      <td>2</td>\n",
       "      <td>1</td>\n",
       "      <td>3</td>\n",
       "      <td>1.20</td>\n",
       "      <td>2.00</td>\n",
       "      <td>24.20</td>\n",
       "      <td>22</td>\n",
       "      <td>23</td>\n",
       "      <td>23</td>\n",
       "      <td>27</td>\n",
       "      <td>31</td>\n",
       "      <td>28</td>\n",
       "      <td>25.70</td>\n",
       "      <td>-0.10</td>\n",
       "      <td>225.50</td>\n",
       "      <td>15</td>\n",
       "      <td>16</td>\n",
       "      <td>18</td>\n",
       "      <td>18</td>\n",
       "      <td>15</td>\n",
       "      <td>22</td>\n",
       "      <td>17.30</td>\n",
       "      <td>0.47</td>\n",
       "      <td>177.20</td>\n",
       "      <td>7,966,905.40</td>\n",
       "      <td>12,608.57</td>\n",
       "      <td>{u'type': u'Polygon', u'coordinates': (((-79.5...</td>\n",
       "    </tr>\n",
       "  </tbody>\n",
       "</table>\n",
       "</div>"
      ],
      "text/plain": [
       "   _id  OBJECTID         Neighbourhood  Hood_ID  Population  Assault_2014  \\\n",
       "0    1        16        South Parkdale       85       21849           202   \n",
       "1    2        17       South Riverdale       70       27876           215   \n",
       "2    3        18  St.Andrew-Windfields       40       17812            53   \n",
       "3    4        19         Taylor-Massey       61       15683           127   \n",
       "4    5        20         Humber Summit       21       12416            76   \n",
       "\n",
       "   Assault_2015  Assault_2016  Assault_2017  Assault_2018  Assault_2019  \\\n",
       "0           226           231           229           220           251   \n",
       "1           207           236           243           304           261   \n",
       "2            41            48            45            55            58   \n",
       "3            92            97           107           123           122   \n",
       "4            89           118           116           109           118   \n",
       "\n",
       "   Assault_AVG  Assault_CHG  Assault_Rate_2019  AutoTheft_2014  \\\n",
       "0       226.50         0.14           1,148.80              13   \n",
       "1       244.30        -0.14             936.30              18   \n",
       "2        50.00         0.05             325.60              15   \n",
       "3       111.30        -0.01             777.90              11   \n",
       "4       104.30         0.08             950.40              66   \n",
       "\n",
       "   AutoTheft_2015  AutoTheft_2016  AutoTheft_2017  AutoTheft_2018  \\\n",
       "0              20              23              19              17   \n",
       "1              23              27              37              40   \n",
       "2              25              10              15              21   \n",
       "3               9               7               5              12   \n",
       "4              42              62              83             106   \n",
       "\n",
       "   AutoTheft_2019  AutoTheft_AVG  AutoTheft_CHG  AutoTheft_Rate_2019  \\\n",
       "0              20          18.70           0.18                91.50   \n",
       "1              40          30.80           0.00               143.50   \n",
       "2              35          20.20           0.67               196.50   \n",
       "3              12           9.30           0.00                76.50   \n",
       "4             135          82.30           0.27             1,087.30   \n",
       "\n",
       "   BreakandEnter_2014  BreakandEnter_2015  BreakandEnter_2016  \\\n",
       "0                  45                  51                  71   \n",
       "1                  89                  98                 148   \n",
       "2                  81                  79                  57   \n",
       "3                  31                  71                  43   \n",
       "4                  54                  44                  41   \n",
       "\n",
       "   BreakandEnter_2017  BreakandEnter_2018  BreakandEnter_2019  \\\n",
       "0                  58                  78                  89   \n",
       "1                  94                  91                 133   \n",
       "2                  91                  81                  83   \n",
       "3                  27                  41                  63   \n",
       "4                  40                  56                  57   \n",
       "\n",
       "   BreakandEnter_AVG  BreakandEnter_CHG  BreakandEnter_Rate_2019  \\\n",
       "0              65.30               0.14                   407.30   \n",
       "1             108.80               0.46                   477.10   \n",
       "2              78.70               0.02                   466.00   \n",
       "3              46.00               0.54                   401.70   \n",
       "4              48.70               0.02                   459.10   \n",
       "\n",
       "   Homicide_2014  Homicide_2015  Homicide_2016  Homicide_2017  Homicide_2018  \\\n",
       "0              0              0              1              0              0   \n",
       "1              1              0              3              5              2   \n",
       "2              1              0              0              2              0   \n",
       "3              0              1              1              1              0   \n",
       "4              0              1              0              2              1   \n",
       "\n",
       "   Homicide_2019  Homicide_AVG  Homicide_CHG  Homicide_Rate_2019  \\\n",
       "0              1          0.30          1.00                4.60   \n",
       "1              0          1.80         -1.00                0.00   \n",
       "2              0          0.50          0.00                0.00   \n",
       "3              1          0.70          1.00                6.40   \n",
       "4              3          1.20          2.00               24.20   \n",
       "\n",
       "   Robbery_2014  Robbery_2015  Robbery_2016  Robbery_2017  Robbery_2018  \\\n",
       "0            24            35            41            30            35   \n",
       "1            64            42            49            64            40   \n",
       "2             8             5            14             0             4   \n",
       "3            24            37            16            20            16   \n",
       "4            22            23            23            27            31   \n",
       "\n",
       "   Robbery_2019  Robbery_AVG  Robbery_CHG  Robbery_Rate_2019  TheftOver_2014  \\\n",
       "0            33        33.00        -0.06             151.00               6   \n",
       "1            35        49.00        -0.13             125.60              18   \n",
       "2            12         7.20         2.00              67.40              10   \n",
       "3            13        21.00        -0.19              82.90               4   \n",
       "4            28        25.70        -0.10             225.50              15   \n",
       "\n",
       "   TheftOver_2015  TheftOver_2016  TheftOver_2017  TheftOver_2018  \\\n",
       "0               4               9              10               9   \n",
       "1              16              22              27              24   \n",
       "2              14               8               7               6   \n",
       "3               3               5               2               4   \n",
       "4              16              18              18              15   \n",
       "\n",
       "   TheftOver_2019  TheftOver_AVG  TheftOver_CHG  TheftOver_Rate_2019  \\\n",
       "0              22          10.00           1.44               100.70   \n",
       "1              21          21.30          -0.13                75.30   \n",
       "2               6           8.50           0.00                33.70   \n",
       "3               3           3.50          -0.25                19.10   \n",
       "4              22          17.30           0.47               177.20   \n",
       "\n",
       "    Shape__Area  Shape__Length  \\\n",
       "0  2,286,974.07      10,802.83   \n",
       "1 10,964,573.83      43,080.72   \n",
       "2  7,299,579.76      13,026.00   \n",
       "3  1,062,970.04       5,940.70   \n",
       "4  7,966,905.40      12,608.57   \n",
       "\n",
       "                                            geometry  \n",
       "0  {u'type': u'Polygon', u'coordinates': (((-79.4...  \n",
       "1  {u'type': u'Polygon', u'coordinates': (((-79.3...  \n",
       "2  {u'type': u'Polygon', u'coordinates': (((-79.3...  \n",
       "3  {u'type': u'Polygon', u'coordinates': (((-79.2...  \n",
       "4  {u'type': u'Polygon', u'coordinates': (((-79.5...  "
      ]
     },
     "execution_count": 42,
     "metadata": {},
     "output_type": "execute_result"
    }
   ],
   "source": [
    "crime_data_raw = pd.read_csv(r'C:\\Users\\Osas\\Downloads\\Data analysis\\Capstone\\Neighbourhood Crime Rates.csv')\n",
    "crime_data_raw.head()"
   ]
  },
  {
   "cell_type": "code",
   "execution_count": 43,
   "metadata": {},
   "outputs": [
    {
     "data": {
      "text/html": [
       "<div>\n",
       "<style scoped>\n",
       "    .dataframe tbody tr th:only-of-type {\n",
       "        vertical-align: middle;\n",
       "    }\n",
       "\n",
       "    .dataframe tbody tr th {\n",
       "        vertical-align: top;\n",
       "    }\n",
       "\n",
       "    .dataframe thead th {\n",
       "        text-align: right;\n",
       "    }\n",
       "</style>\n",
       "<table border=\"1\" class=\"dataframe\">\n",
       "  <thead>\n",
       "    <tr style=\"text-align: right;\">\n",
       "      <th></th>\n",
       "      <th>_id</th>\n",
       "      <th>OBJECTID</th>\n",
       "      <th>Neighbourhood</th>\n",
       "      <th>Hood_ID</th>\n",
       "      <th>Population</th>\n",
       "      <th>Assault_2014</th>\n",
       "      <th>Assault_2015</th>\n",
       "      <th>Assault_2016</th>\n",
       "      <th>Assault_2017</th>\n",
       "      <th>Assault_2018</th>\n",
       "      <th>Assault_2019</th>\n",
       "      <th>Assault_AVG</th>\n",
       "      <th>Assault_CHG</th>\n",
       "      <th>Assault_Rate_2019</th>\n",
       "      <th>AutoTheft_2014</th>\n",
       "      <th>AutoTheft_2015</th>\n",
       "      <th>AutoTheft_2016</th>\n",
       "      <th>AutoTheft_2017</th>\n",
       "      <th>AutoTheft_2018</th>\n",
       "      <th>AutoTheft_2019</th>\n",
       "      <th>AutoTheft_AVG</th>\n",
       "      <th>AutoTheft_CHG</th>\n",
       "      <th>AutoTheft_Rate_2019</th>\n",
       "      <th>BreakandEnter_2014</th>\n",
       "      <th>BreakandEnter_2015</th>\n",
       "      <th>BreakandEnter_2016</th>\n",
       "      <th>BreakandEnter_2017</th>\n",
       "      <th>BreakandEnter_2018</th>\n",
       "      <th>BreakandEnter_2019</th>\n",
       "      <th>BreakandEnter_AVG</th>\n",
       "      <th>BreakandEnter_CHG</th>\n",
       "      <th>BreakandEnter_Rate_2019</th>\n",
       "      <th>Homicide_2014</th>\n",
       "      <th>Homicide_2015</th>\n",
       "      <th>Homicide_2016</th>\n",
       "      <th>Homicide_2017</th>\n",
       "      <th>Homicide_2018</th>\n",
       "      <th>Homicide_2019</th>\n",
       "      <th>Homicide_AVG</th>\n",
       "      <th>Homicide_CHG</th>\n",
       "      <th>Homicide_Rate_2019</th>\n",
       "      <th>Robbery_2014</th>\n",
       "      <th>Robbery_2015</th>\n",
       "      <th>Robbery_2016</th>\n",
       "      <th>Robbery_2017</th>\n",
       "      <th>Robbery_2018</th>\n",
       "      <th>Robbery_2019</th>\n",
       "      <th>Robbery_AVG</th>\n",
       "      <th>Robbery_CHG</th>\n",
       "      <th>Robbery_Rate_2019</th>\n",
       "      <th>TheftOver_2014</th>\n",
       "      <th>TheftOver_2015</th>\n",
       "      <th>TheftOver_2016</th>\n",
       "      <th>TheftOver_2017</th>\n",
       "      <th>TheftOver_2018</th>\n",
       "      <th>TheftOver_2019</th>\n",
       "      <th>TheftOver_AVG</th>\n",
       "      <th>TheftOver_CHG</th>\n",
       "      <th>TheftOver_Rate_2019</th>\n",
       "      <th>Shape__Area</th>\n",
       "      <th>Shape__Length</th>\n",
       "      <th>geometry</th>\n",
       "      <th>Crime_Rate</th>\n",
       "    </tr>\n",
       "  </thead>\n",
       "  <tbody>\n",
       "    <tr>\n",
       "      <th>0</th>\n",
       "      <td>1</td>\n",
       "      <td>16</td>\n",
       "      <td>South Parkdale</td>\n",
       "      <td>85</td>\n",
       "      <td>21849</td>\n",
       "      <td>202</td>\n",
       "      <td>226</td>\n",
       "      <td>231</td>\n",
       "      <td>229</td>\n",
       "      <td>220</td>\n",
       "      <td>251</td>\n",
       "      <td>226.50</td>\n",
       "      <td>0.14</td>\n",
       "      <td>1,148.80</td>\n",
       "      <td>13</td>\n",
       "      <td>20</td>\n",
       "      <td>23</td>\n",
       "      <td>19</td>\n",
       "      <td>17</td>\n",
       "      <td>20</td>\n",
       "      <td>18.70</td>\n",
       "      <td>0.18</td>\n",
       "      <td>91.50</td>\n",
       "      <td>45</td>\n",
       "      <td>51</td>\n",
       "      <td>71</td>\n",
       "      <td>58</td>\n",
       "      <td>78</td>\n",
       "      <td>89</td>\n",
       "      <td>65.30</td>\n",
       "      <td>0.14</td>\n",
       "      <td>407.30</td>\n",
       "      <td>0</td>\n",
       "      <td>0</td>\n",
       "      <td>1</td>\n",
       "      <td>0</td>\n",
       "      <td>0</td>\n",
       "      <td>1</td>\n",
       "      <td>0.30</td>\n",
       "      <td>1.00</td>\n",
       "      <td>4.60</td>\n",
       "      <td>24</td>\n",
       "      <td>35</td>\n",
       "      <td>41</td>\n",
       "      <td>30</td>\n",
       "      <td>35</td>\n",
       "      <td>33</td>\n",
       "      <td>33.00</td>\n",
       "      <td>-0.06</td>\n",
       "      <td>151.00</td>\n",
       "      <td>6</td>\n",
       "      <td>4</td>\n",
       "      <td>9</td>\n",
       "      <td>10</td>\n",
       "      <td>9</td>\n",
       "      <td>22</td>\n",
       "      <td>10.00</td>\n",
       "      <td>1.44</td>\n",
       "      <td>100.70</td>\n",
       "      <td>2,286,974.07</td>\n",
       "      <td>10,802.83</td>\n",
       "      <td>{u'type': u'Polygon', u'coordinates': (((-79.4...</td>\n",
       "      <td>1,903.98</td>\n",
       "    </tr>\n",
       "    <tr>\n",
       "      <th>1</th>\n",
       "      <td>2</td>\n",
       "      <td>17</td>\n",
       "      <td>South Riverdale</td>\n",
       "      <td>70</td>\n",
       "      <td>27876</td>\n",
       "      <td>215</td>\n",
       "      <td>207</td>\n",
       "      <td>236</td>\n",
       "      <td>243</td>\n",
       "      <td>304</td>\n",
       "      <td>261</td>\n",
       "      <td>244.30</td>\n",
       "      <td>-0.14</td>\n",
       "      <td>936.30</td>\n",
       "      <td>18</td>\n",
       "      <td>23</td>\n",
       "      <td>27</td>\n",
       "      <td>37</td>\n",
       "      <td>40</td>\n",
       "      <td>40</td>\n",
       "      <td>30.80</td>\n",
       "      <td>0.00</td>\n",
       "      <td>143.50</td>\n",
       "      <td>89</td>\n",
       "      <td>98</td>\n",
       "      <td>148</td>\n",
       "      <td>94</td>\n",
       "      <td>91</td>\n",
       "      <td>133</td>\n",
       "      <td>108.80</td>\n",
       "      <td>0.46</td>\n",
       "      <td>477.10</td>\n",
       "      <td>1</td>\n",
       "      <td>0</td>\n",
       "      <td>3</td>\n",
       "      <td>5</td>\n",
       "      <td>2</td>\n",
       "      <td>0</td>\n",
       "      <td>1.80</td>\n",
       "      <td>-1.00</td>\n",
       "      <td>0.00</td>\n",
       "      <td>64</td>\n",
       "      <td>42</td>\n",
       "      <td>49</td>\n",
       "      <td>64</td>\n",
       "      <td>40</td>\n",
       "      <td>35</td>\n",
       "      <td>49.00</td>\n",
       "      <td>-0.13</td>\n",
       "      <td>125.60</td>\n",
       "      <td>18</td>\n",
       "      <td>16</td>\n",
       "      <td>22</td>\n",
       "      <td>27</td>\n",
       "      <td>24</td>\n",
       "      <td>21</td>\n",
       "      <td>21.30</td>\n",
       "      <td>-0.13</td>\n",
       "      <td>75.30</td>\n",
       "      <td>10,964,573.83</td>\n",
       "      <td>43,080.72</td>\n",
       "      <td>{u'type': u'Polygon', u'coordinates': (((-79.3...</td>\n",
       "      <td>1,757.78</td>\n",
       "    </tr>\n",
       "    <tr>\n",
       "      <th>2</th>\n",
       "      <td>3</td>\n",
       "      <td>18</td>\n",
       "      <td>St.Andrew-Windfields</td>\n",
       "      <td>40</td>\n",
       "      <td>17812</td>\n",
       "      <td>53</td>\n",
       "      <td>41</td>\n",
       "      <td>48</td>\n",
       "      <td>45</td>\n",
       "      <td>55</td>\n",
       "      <td>58</td>\n",
       "      <td>50.00</td>\n",
       "      <td>0.05</td>\n",
       "      <td>325.60</td>\n",
       "      <td>15</td>\n",
       "      <td>25</td>\n",
       "      <td>10</td>\n",
       "      <td>15</td>\n",
       "      <td>21</td>\n",
       "      <td>35</td>\n",
       "      <td>20.20</td>\n",
       "      <td>0.67</td>\n",
       "      <td>196.50</td>\n",
       "      <td>81</td>\n",
       "      <td>79</td>\n",
       "      <td>57</td>\n",
       "      <td>91</td>\n",
       "      <td>81</td>\n",
       "      <td>83</td>\n",
       "      <td>78.70</td>\n",
       "      <td>0.02</td>\n",
       "      <td>466.00</td>\n",
       "      <td>1</td>\n",
       "      <td>0</td>\n",
       "      <td>0</td>\n",
       "      <td>2</td>\n",
       "      <td>0</td>\n",
       "      <td>0</td>\n",
       "      <td>0.50</td>\n",
       "      <td>0.00</td>\n",
       "      <td>0.00</td>\n",
       "      <td>8</td>\n",
       "      <td>5</td>\n",
       "      <td>14</td>\n",
       "      <td>0</td>\n",
       "      <td>4</td>\n",
       "      <td>12</td>\n",
       "      <td>7.20</td>\n",
       "      <td>2.00</td>\n",
       "      <td>67.40</td>\n",
       "      <td>10</td>\n",
       "      <td>14</td>\n",
       "      <td>8</td>\n",
       "      <td>7</td>\n",
       "      <td>6</td>\n",
       "      <td>6</td>\n",
       "      <td>8.50</td>\n",
       "      <td>0.00</td>\n",
       "      <td>33.70</td>\n",
       "      <td>7,299,579.76</td>\n",
       "      <td>13,026.00</td>\n",
       "      <td>{u'type': u'Polygon', u'coordinates': (((-79.3...</td>\n",
       "      <td>1,089.15</td>\n",
       "    </tr>\n",
       "    <tr>\n",
       "      <th>3</th>\n",
       "      <td>4</td>\n",
       "      <td>19</td>\n",
       "      <td>Taylor-Massey</td>\n",
       "      <td>61</td>\n",
       "      <td>15683</td>\n",
       "      <td>127</td>\n",
       "      <td>92</td>\n",
       "      <td>97</td>\n",
       "      <td>107</td>\n",
       "      <td>123</td>\n",
       "      <td>122</td>\n",
       "      <td>111.30</td>\n",
       "      <td>-0.01</td>\n",
       "      <td>777.90</td>\n",
       "      <td>11</td>\n",
       "      <td>9</td>\n",
       "      <td>7</td>\n",
       "      <td>5</td>\n",
       "      <td>12</td>\n",
       "      <td>12</td>\n",
       "      <td>9.30</td>\n",
       "      <td>0.00</td>\n",
       "      <td>76.50</td>\n",
       "      <td>31</td>\n",
       "      <td>71</td>\n",
       "      <td>43</td>\n",
       "      <td>27</td>\n",
       "      <td>41</td>\n",
       "      <td>63</td>\n",
       "      <td>46.00</td>\n",
       "      <td>0.54</td>\n",
       "      <td>401.70</td>\n",
       "      <td>0</td>\n",
       "      <td>1</td>\n",
       "      <td>1</td>\n",
       "      <td>1</td>\n",
       "      <td>0</td>\n",
       "      <td>1</td>\n",
       "      <td>0.70</td>\n",
       "      <td>1.00</td>\n",
       "      <td>6.40</td>\n",
       "      <td>24</td>\n",
       "      <td>37</td>\n",
       "      <td>16</td>\n",
       "      <td>20</td>\n",
       "      <td>16</td>\n",
       "      <td>13</td>\n",
       "      <td>21.00</td>\n",
       "      <td>-0.19</td>\n",
       "      <td>82.90</td>\n",
       "      <td>4</td>\n",
       "      <td>3</td>\n",
       "      <td>5</td>\n",
       "      <td>2</td>\n",
       "      <td>4</td>\n",
       "      <td>3</td>\n",
       "      <td>3.50</td>\n",
       "      <td>-0.25</td>\n",
       "      <td>19.10</td>\n",
       "      <td>1,062,970.04</td>\n",
       "      <td>5,940.70</td>\n",
       "      <td>{u'type': u'Polygon', u'coordinates': (((-79.2...</td>\n",
       "      <td>1,364.53</td>\n",
       "    </tr>\n",
       "    <tr>\n",
       "      <th>4</th>\n",
       "      <td>5</td>\n",
       "      <td>20</td>\n",
       "      <td>Humber Summit</td>\n",
       "      <td>21</td>\n",
       "      <td>12416</td>\n",
       "      <td>76</td>\n",
       "      <td>89</td>\n",
       "      <td>118</td>\n",
       "      <td>116</td>\n",
       "      <td>109</td>\n",
       "      <td>118</td>\n",
       "      <td>104.30</td>\n",
       "      <td>0.08</td>\n",
       "      <td>950.40</td>\n",
       "      <td>66</td>\n",
       "      <td>42</td>\n",
       "      <td>62</td>\n",
       "      <td>83</td>\n",
       "      <td>106</td>\n",
       "      <td>135</td>\n",
       "      <td>82.30</td>\n",
       "      <td>0.27</td>\n",
       "      <td>1,087.30</td>\n",
       "      <td>54</td>\n",
       "      <td>44</td>\n",
       "      <td>41</td>\n",
       "      <td>40</td>\n",
       "      <td>56</td>\n",
       "      <td>57</td>\n",
       "      <td>48.70</td>\n",
       "      <td>0.02</td>\n",
       "      <td>459.10</td>\n",
       "      <td>0</td>\n",
       "      <td>1</td>\n",
       "      <td>0</td>\n",
       "      <td>2</td>\n",
       "      <td>1</td>\n",
       "      <td>3</td>\n",
       "      <td>1.20</td>\n",
       "      <td>2.00</td>\n",
       "      <td>24.20</td>\n",
       "      <td>22</td>\n",
       "      <td>23</td>\n",
       "      <td>23</td>\n",
       "      <td>27</td>\n",
       "      <td>31</td>\n",
       "      <td>28</td>\n",
       "      <td>25.70</td>\n",
       "      <td>-0.10</td>\n",
       "      <td>225.50</td>\n",
       "      <td>15</td>\n",
       "      <td>16</td>\n",
       "      <td>18</td>\n",
       "      <td>18</td>\n",
       "      <td>15</td>\n",
       "      <td>22</td>\n",
       "      <td>17.30</td>\n",
       "      <td>0.47</td>\n",
       "      <td>177.20</td>\n",
       "      <td>7,966,905.40</td>\n",
       "      <td>12,608.57</td>\n",
       "      <td>{u'type': u'Polygon', u'coordinates': (((-79.5...</td>\n",
       "      <td>2,923.65</td>\n",
       "    </tr>\n",
       "  </tbody>\n",
       "</table>\n",
       "</div>"
      ],
      "text/plain": [
       "   _id  OBJECTID         Neighbourhood  Hood_ID  Population  Assault_2014  \\\n",
       "0    1        16        South Parkdale       85       21849           202   \n",
       "1    2        17       South Riverdale       70       27876           215   \n",
       "2    3        18  St.Andrew-Windfields       40       17812            53   \n",
       "3    4        19         Taylor-Massey       61       15683           127   \n",
       "4    5        20         Humber Summit       21       12416            76   \n",
       "\n",
       "   Assault_2015  Assault_2016  Assault_2017  Assault_2018  Assault_2019  \\\n",
       "0           226           231           229           220           251   \n",
       "1           207           236           243           304           261   \n",
       "2            41            48            45            55            58   \n",
       "3            92            97           107           123           122   \n",
       "4            89           118           116           109           118   \n",
       "\n",
       "   Assault_AVG  Assault_CHG  Assault_Rate_2019  AutoTheft_2014  \\\n",
       "0       226.50         0.14           1,148.80              13   \n",
       "1       244.30        -0.14             936.30              18   \n",
       "2        50.00         0.05             325.60              15   \n",
       "3       111.30        -0.01             777.90              11   \n",
       "4       104.30         0.08             950.40              66   \n",
       "\n",
       "   AutoTheft_2015  AutoTheft_2016  AutoTheft_2017  AutoTheft_2018  \\\n",
       "0              20              23              19              17   \n",
       "1              23              27              37              40   \n",
       "2              25              10              15              21   \n",
       "3               9               7               5              12   \n",
       "4              42              62              83             106   \n",
       "\n",
       "   AutoTheft_2019  AutoTheft_AVG  AutoTheft_CHG  AutoTheft_Rate_2019  \\\n",
       "0              20          18.70           0.18                91.50   \n",
       "1              40          30.80           0.00               143.50   \n",
       "2              35          20.20           0.67               196.50   \n",
       "3              12           9.30           0.00                76.50   \n",
       "4             135          82.30           0.27             1,087.30   \n",
       "\n",
       "   BreakandEnter_2014  BreakandEnter_2015  BreakandEnter_2016  \\\n",
       "0                  45                  51                  71   \n",
       "1                  89                  98                 148   \n",
       "2                  81                  79                  57   \n",
       "3                  31                  71                  43   \n",
       "4                  54                  44                  41   \n",
       "\n",
       "   BreakandEnter_2017  BreakandEnter_2018  BreakandEnter_2019  \\\n",
       "0                  58                  78                  89   \n",
       "1                  94                  91                 133   \n",
       "2                  91                  81                  83   \n",
       "3                  27                  41                  63   \n",
       "4                  40                  56                  57   \n",
       "\n",
       "   BreakandEnter_AVG  BreakandEnter_CHG  BreakandEnter_Rate_2019  \\\n",
       "0              65.30               0.14                   407.30   \n",
       "1             108.80               0.46                   477.10   \n",
       "2              78.70               0.02                   466.00   \n",
       "3              46.00               0.54                   401.70   \n",
       "4              48.70               0.02                   459.10   \n",
       "\n",
       "   Homicide_2014  Homicide_2015  Homicide_2016  Homicide_2017  Homicide_2018  \\\n",
       "0              0              0              1              0              0   \n",
       "1              1              0              3              5              2   \n",
       "2              1              0              0              2              0   \n",
       "3              0              1              1              1              0   \n",
       "4              0              1              0              2              1   \n",
       "\n",
       "   Homicide_2019  Homicide_AVG  Homicide_CHG  Homicide_Rate_2019  \\\n",
       "0              1          0.30          1.00                4.60   \n",
       "1              0          1.80         -1.00                0.00   \n",
       "2              0          0.50          0.00                0.00   \n",
       "3              1          0.70          1.00                6.40   \n",
       "4              3          1.20          2.00               24.20   \n",
       "\n",
       "   Robbery_2014  Robbery_2015  Robbery_2016  Robbery_2017  Robbery_2018  \\\n",
       "0            24            35            41            30            35   \n",
       "1            64            42            49            64            40   \n",
       "2             8             5            14             0             4   \n",
       "3            24            37            16            20            16   \n",
       "4            22            23            23            27            31   \n",
       "\n",
       "   Robbery_2019  Robbery_AVG  Robbery_CHG  Robbery_Rate_2019  TheftOver_2014  \\\n",
       "0            33        33.00        -0.06             151.00               6   \n",
       "1            35        49.00        -0.13             125.60              18   \n",
       "2            12         7.20         2.00              67.40              10   \n",
       "3            13        21.00        -0.19              82.90               4   \n",
       "4            28        25.70        -0.10             225.50              15   \n",
       "\n",
       "   TheftOver_2015  TheftOver_2016  TheftOver_2017  TheftOver_2018  \\\n",
       "0               4               9              10               9   \n",
       "1              16              22              27              24   \n",
       "2              14               8               7               6   \n",
       "3               3               5               2               4   \n",
       "4              16              18              18              15   \n",
       "\n",
       "   TheftOver_2019  TheftOver_AVG  TheftOver_CHG  TheftOver_Rate_2019  \\\n",
       "0              22          10.00           1.44               100.70   \n",
       "1              21          21.30          -0.13                75.30   \n",
       "2               6           8.50           0.00                33.70   \n",
       "3               3           3.50          -0.25                19.10   \n",
       "4              22          17.30           0.47               177.20   \n",
       "\n",
       "    Shape__Area  Shape__Length  \\\n",
       "0  2,286,974.07      10,802.83   \n",
       "1 10,964,573.83      43,080.72   \n",
       "2  7,299,579.76      13,026.00   \n",
       "3  1,062,970.04       5,940.70   \n",
       "4  7,966,905.40      12,608.57   \n",
       "\n",
       "                                            geometry  Crime_Rate  \n",
       "0  {u'type': u'Polygon', u'coordinates': (((-79.4...    1,903.98  \n",
       "1  {u'type': u'Polygon', u'coordinates': (((-79.3...    1,757.78  \n",
       "2  {u'type': u'Polygon', u'coordinates': (((-79.3...    1,089.15  \n",
       "3  {u'type': u'Polygon', u'coordinates': (((-79.2...    1,364.53  \n",
       "4  {u'type': u'Polygon', u'coordinates': (((-79.5...    2,923.65  "
      ]
     },
     "execution_count": 43,
     "metadata": {},
     "output_type": "execute_result"
    }
   ],
   "source": [
    "crime_data = crime_data_raw.copy(deep=True)\n",
    "# Assign variable name to list of relevant columns\n",
    "col_list = ['Assault_2019', 'AutoTheft_2019', 'BreakandEnter_2019', 'Homicide_2019',\n",
    "            'Robbery_2019', 'TheftOver_2019']\n",
    "# Obtain Crime rate for each neighbourhood\n",
    "crime_data['Crime_Rate'] = 100000 * (crime_data[col_list].sum(axis=1) /\n",
    "                                     crime_data['Population'])\n",
    "crime_data.head()"
   ]
  },
  {
   "cell_type": "code",
   "execution_count": 44,
   "metadata": {
    "scrolled": true
   },
   "outputs": [
    {
     "data": {
      "text/html": [
       "<div>\n",
       "<style scoped>\n",
       "    .dataframe tbody tr th:only-of-type {\n",
       "        vertical-align: middle;\n",
       "    }\n",
       "\n",
       "    .dataframe tbody tr th {\n",
       "        vertical-align: top;\n",
       "    }\n",
       "\n",
       "    .dataframe thead th {\n",
       "        text-align: right;\n",
       "    }\n",
       "</style>\n",
       "<table border=\"1\" class=\"dataframe\">\n",
       "  <thead>\n",
       "    <tr style=\"text-align: right;\">\n",
       "      <th></th>\n",
       "      <th>Neighbourhood ID</th>\n",
       "      <th>Crime Rate</th>\n",
       "    </tr>\n",
       "  </thead>\n",
       "  <tbody>\n",
       "    <tr>\n",
       "      <th>0</th>\n",
       "      <td>85</td>\n",
       "      <td>1,903.98</td>\n",
       "    </tr>\n",
       "    <tr>\n",
       "      <th>1</th>\n",
       "      <td>70</td>\n",
       "      <td>1,757.78</td>\n",
       "    </tr>\n",
       "    <tr>\n",
       "      <th>2</th>\n",
       "      <td>40</td>\n",
       "      <td>1,089.15</td>\n",
       "    </tr>\n",
       "    <tr>\n",
       "      <th>3</th>\n",
       "      <td>61</td>\n",
       "      <td>1,364.53</td>\n",
       "    </tr>\n",
       "    <tr>\n",
       "      <th>4</th>\n",
       "      <td>21</td>\n",
       "      <td>2,923.65</td>\n",
       "    </tr>\n",
       "  </tbody>\n",
       "</table>\n",
       "</div>"
      ],
      "text/plain": [
       "   Neighbourhood ID  Crime Rate\n",
       "0                85    1,903.98\n",
       "1                70    1,757.78\n",
       "2                40    1,089.15\n",
       "3                61    1,364.53\n",
       "4                21    2,923.65"
      ]
     },
     "execution_count": 44,
     "metadata": {},
     "output_type": "execute_result"
    }
   ],
   "source": [
    "# Extract only relevant columns from Crime dataset\n",
    "cols=['Neighbourhood','Hood_ID','Crime_Rate']\n",
    "crime_data=crime_data[cols]\n",
    "crime_data.columns=['Neighbourhood Name', 'Neighbourhood ID', 'Crime Rate']\n",
    "crime_data=crime_data[['Neighbourhood ID', 'Crime Rate']]\n",
    "crime_data.head()"
   ]
  },
  {
   "cell_type": "markdown",
   "metadata": {},
   "source": [
    "### Merge Primary Benchmarks Datasets"
   ]
  },
  {
   "cell_type": "code",
   "execution_count": 45,
   "metadata": {},
   "outputs": [],
   "source": [
    "# Merge unemployment and crime data first with Neighbourhood ID as primary key\n",
    "cluster_data=pd.merge(emp_data, crime_data, on=['Neighbourhood ID'])"
   ]
  },
  {
   "cell_type": "code",
   "execution_count": 46,
   "metadata": {},
   "outputs": [
    {
     "data": {
      "text/html": [
       "<div>\n",
       "<style scoped>\n",
       "    .dataframe tbody tr th:only-of-type {\n",
       "        vertical-align: middle;\n",
       "    }\n",
       "\n",
       "    .dataframe tbody tr th {\n",
       "        vertical-align: top;\n",
       "    }\n",
       "\n",
       "    .dataframe thead th {\n",
       "        text-align: right;\n",
       "    }\n",
       "</style>\n",
       "<table border=\"1\" class=\"dataframe\">\n",
       "  <thead>\n",
       "    <tr style=\"text-align: right;\">\n",
       "      <th></th>\n",
       "      <th>Neighbourhood Name</th>\n",
       "      <th>Neighbourhood ID</th>\n",
       "      <th>Unemployment Rate</th>\n",
       "      <th>Crime Rate</th>\n",
       "      <th>Covid-19 Rate</th>\n",
       "    </tr>\n",
       "  </thead>\n",
       "  <tbody>\n",
       "    <tr>\n",
       "      <th>0</th>\n",
       "      <td>Agincourt North</td>\n",
       "      <td>129</td>\n",
       "      <td>9.80</td>\n",
       "      <td>735.07</td>\n",
       "      <td>542.71</td>\n",
       "    </tr>\n",
       "    <tr>\n",
       "      <th>1</th>\n",
       "      <td>Agincourt South-Malvern West</td>\n",
       "      <td>128</td>\n",
       "      <td>9.80</td>\n",
       "      <td>1,384.85</td>\n",
       "      <td>479.86</td>\n",
       "    </tr>\n",
       "    <tr>\n",
       "      <th>2</th>\n",
       "      <td>Alderwood</td>\n",
       "      <td>20</td>\n",
       "      <td>6.10</td>\n",
       "      <td>730.05</td>\n",
       "      <td>696.86</td>\n",
       "    </tr>\n",
       "    <tr>\n",
       "      <th>3</th>\n",
       "      <td>Annex</td>\n",
       "      <td>95</td>\n",
       "      <td>6.70</td>\n",
       "      <td>1,978.64</td>\n",
       "      <td>782.94</td>\n",
       "    </tr>\n",
       "    <tr>\n",
       "      <th>4</th>\n",
       "      <td>Banbury-Don Mills</td>\n",
       "      <td>42</td>\n",
       "      <td>7.20</td>\n",
       "      <td>797.98</td>\n",
       "      <td>314.14</td>\n",
       "    </tr>\n",
       "  </tbody>\n",
       "</table>\n",
       "</div>"
      ],
      "text/plain": [
       "             Neighbourhood Name  Neighbourhood ID  Unemployment Rate  \\\n",
       "0               Agincourt North               129               9.80   \n",
       "1  Agincourt South-Malvern West               128               9.80   \n",
       "2                     Alderwood                20               6.10   \n",
       "3                         Annex                95               6.70   \n",
       "4             Banbury-Don Mills                42               7.20   \n",
       "\n",
       "   Crime Rate  Covid-19 Rate  \n",
       "0      735.07         542.71  \n",
       "1    1,384.85         479.86  \n",
       "2      730.05         696.86  \n",
       "3    1,978.64         782.94  \n",
       "4      797.98         314.14  "
      ]
     },
     "execution_count": 46,
     "metadata": {},
     "output_type": "execute_result"
    }
   ],
   "source": [
    "# Merge above dataframe with COVID-19 dataset\n",
    "cluster_data=pd.merge(cluster_data, covid_rate, on=['Neighbourhood ID'])\n",
    "cluster_data.head()"
   ]
  },
  {
   "cell_type": "markdown",
   "metadata": {},
   "source": [
    "## 11. Data Exploration (Part 2)"
   ]
  },
  {
   "cell_type": "markdown",
   "metadata": {},
   "source": [
    "### Descriptive Statistics for Primary Benchmarks"
   ]
  },
  {
   "cell_type": "code",
   "execution_count": 47,
   "metadata": {},
   "outputs": [
    {
     "data": {
      "text/html": [
       "<div>\n",
       "<style scoped>\n",
       "    .dataframe tbody tr th:only-of-type {\n",
       "        vertical-align: middle;\n",
       "    }\n",
       "\n",
       "    .dataframe tbody tr th {\n",
       "        vertical-align: top;\n",
       "    }\n",
       "\n",
       "    .dataframe thead th {\n",
       "        text-align: right;\n",
       "    }\n",
       "</style>\n",
       "<table border=\"1\" class=\"dataframe\">\n",
       "  <thead>\n",
       "    <tr style=\"text-align: right;\">\n",
       "      <th></th>\n",
       "      <th>Neighbourhood ID</th>\n",
       "      <th>Unemployment Rate</th>\n",
       "      <th>Crime Rate</th>\n",
       "      <th>Covid-19 Rate</th>\n",
       "    </tr>\n",
       "  </thead>\n",
       "  <tbody>\n",
       "    <tr>\n",
       "      <th>count</th>\n",
       "      <td>140.00</td>\n",
       "      <td>140.00</td>\n",
       "      <td>140.00</td>\n",
       "      <td>140.00</td>\n",
       "    </tr>\n",
       "    <tr>\n",
       "      <th>mean</th>\n",
       "      <td>70.50</td>\n",
       "      <td>8.30</td>\n",
       "      <td>1,378.40</td>\n",
       "      <td>913.01</td>\n",
       "    </tr>\n",
       "    <tr>\n",
       "      <th>std</th>\n",
       "      <td>40.56</td>\n",
       "      <td>1.90</td>\n",
       "      <td>797.68</td>\n",
       "      <td>584.55</td>\n",
       "    </tr>\n",
       "    <tr>\n",
       "      <th>min</th>\n",
       "      <td>1.00</td>\n",
       "      <td>4.50</td>\n",
       "      <td>504.18</td>\n",
       "      <td>236.47</td>\n",
       "    </tr>\n",
       "    <tr>\n",
       "      <th>25%</th>\n",
       "      <td>35.75</td>\n",
       "      <td>6.90</td>\n",
       "      <td>869.21</td>\n",
       "      <td>449.91</td>\n",
       "    </tr>\n",
       "    <tr>\n",
       "      <th>50%</th>\n",
       "      <td>70.50</td>\n",
       "      <td>8.20</td>\n",
       "      <td>1,232.85</td>\n",
       "      <td>756.24</td>\n",
       "    </tr>\n",
       "    <tr>\n",
       "      <th>75%</th>\n",
       "      <td>105.25</td>\n",
       "      <td>9.62</td>\n",
       "      <td>1,532.33</td>\n",
       "      <td>1,129.27</td>\n",
       "    </tr>\n",
       "    <tr>\n",
       "      <th>max</th>\n",
       "      <td>140.00</td>\n",
       "      <td>14.60</td>\n",
       "      <td>5,314.57</td>\n",
       "      <td>2,812.36</td>\n",
       "    </tr>\n",
       "  </tbody>\n",
       "</table>\n",
       "</div>"
      ],
      "text/plain": [
       "       Neighbourhood ID  Unemployment Rate  Crime Rate  Covid-19 Rate\n",
       "count            140.00             140.00      140.00         140.00\n",
       "mean              70.50               8.30    1,378.40         913.01\n",
       "std               40.56               1.90      797.68         584.55\n",
       "min                1.00               4.50      504.18         236.47\n",
       "25%               35.75               6.90      869.21         449.91\n",
       "50%               70.50               8.20    1,232.85         756.24\n",
       "75%              105.25               9.62    1,532.33       1,129.27\n",
       "max              140.00              14.60    5,314.57       2,812.36"
      ]
     },
     "execution_count": 47,
     "metadata": {},
     "output_type": "execute_result"
    }
   ],
   "source": [
    "# Get Descriptive stats of the dataframe\n",
    "cluster_data.describe()"
   ]
  },
  {
   "cell_type": "markdown",
   "metadata": {},
   "source": [
    "Based on the dataframe above, we can see that the average Unemployment rate for City of Toronto is 8.3% for 2019. Average number of crimes committed per 100,000 people is 1378 and 1 in 100 persons has contracted COVID-19 as of October 2020."
   ]
  },
  {
   "cell_type": "markdown",
   "metadata": {},
   "source": [
    "### Bubble Plot for Primary Benchmarks"
   ]
  },
  {
   "cell_type": "code",
   "execution_count": 48,
   "metadata": {},
   "outputs": [
    {
     "data": {
      "text/html": [
       "<div>\n",
       "<style scoped>\n",
       "    .dataframe tbody tr th:only-of-type {\n",
       "        vertical-align: middle;\n",
       "    }\n",
       "\n",
       "    .dataframe tbody tr th {\n",
       "        vertical-align: top;\n",
       "    }\n",
       "\n",
       "    .dataframe thead th {\n",
       "        text-align: right;\n",
       "    }\n",
       "</style>\n",
       "<table border=\"1\" class=\"dataframe\">\n",
       "  <thead>\n",
       "    <tr style=\"text-align: right;\">\n",
       "      <th></th>\n",
       "      <th>Neighbourhood Name</th>\n",
       "      <th>Neighbourhood ID</th>\n",
       "      <th>Unemployment Rate</th>\n",
       "      <th>Crime Rate</th>\n",
       "      <th>Covid-19 Rate</th>\n",
       "      <th>District</th>\n",
       "    </tr>\n",
       "  </thead>\n",
       "  <tbody>\n",
       "    <tr>\n",
       "      <th>0</th>\n",
       "      <td>Agincourt North</td>\n",
       "      <td>129</td>\n",
       "      <td>9.80</td>\n",
       "      <td>735.07</td>\n",
       "      <td>542.71</td>\n",
       "      <td>Scarborough</td>\n",
       "    </tr>\n",
       "    <tr>\n",
       "      <th>1</th>\n",
       "      <td>Agincourt South-Malvern West</td>\n",
       "      <td>128</td>\n",
       "      <td>9.80</td>\n",
       "      <td>1,384.85</td>\n",
       "      <td>479.86</td>\n",
       "      <td>Scarborough</td>\n",
       "    </tr>\n",
       "    <tr>\n",
       "      <th>2</th>\n",
       "      <td>Alderwood</td>\n",
       "      <td>20</td>\n",
       "      <td>6.10</td>\n",
       "      <td>730.05</td>\n",
       "      <td>696.86</td>\n",
       "      <td>Etobicoke</td>\n",
       "    </tr>\n",
       "    <tr>\n",
       "      <th>3</th>\n",
       "      <td>Annex</td>\n",
       "      <td>95</td>\n",
       "      <td>6.70</td>\n",
       "      <td>1,978.64</td>\n",
       "      <td>782.94</td>\n",
       "      <td>Old Toronto</td>\n",
       "    </tr>\n",
       "    <tr>\n",
       "      <th>4</th>\n",
       "      <td>Banbury-Don Mills</td>\n",
       "      <td>42</td>\n",
       "      <td>7.20</td>\n",
       "      <td>797.98</td>\n",
       "      <td>314.14</td>\n",
       "      <td>North York</td>\n",
       "    </tr>\n",
       "  </tbody>\n",
       "</table>\n",
       "</div>"
      ],
      "text/plain": [
       "             Neighbourhood Name  Neighbourhood ID  Unemployment Rate  \\\n",
       "0               Agincourt North               129               9.80   \n",
       "1  Agincourt South-Malvern West               128               9.80   \n",
       "2                     Alderwood                20               6.10   \n",
       "3                         Annex                95               6.70   \n",
       "4             Banbury-Don Mills                42               7.20   \n",
       "\n",
       "   Crime Rate  Covid-19 Rate     District  \n",
       "0      735.07         542.71  Scarborough  \n",
       "1    1,384.85         479.86  Scarborough  \n",
       "2      730.05         696.86    Etobicoke  \n",
       "3    1,978.64         782.94  Old Toronto  \n",
       "4      797.98         314.14   North York  "
      ]
     },
     "execution_count": 48,
     "metadata": {},
     "output_type": "execute_result"
    }
   ],
   "source": [
    "bubble_data = pd.merge(cluster_data,districts, on='Neighbourhood ID')\n",
    "bubble_data.head()"
   ]
  },
  {
   "cell_type": "code",
   "execution_count": 49,
   "metadata": {},
   "outputs": [
    {
     "data": {
      "application/vnd.plotly.v1+json": {
       "config": {
        "plotlyServerURL": "https://plotly.com"
       },
       "data": [
        {
         "customdata": [
          [
           9.8,
           735.0668086421873,
           542.712877409
          ],
          [
           9.8,
           1384.8549901081788,
           479.858568001
          ],
          [
           8.8,
           1411.882510013351,
           971.29506008
          ],
          [
           8.8,
           1422.098604818088,
           1112.556637208
          ],
          [
           7.6,
           748.39095943721,
           441.550666068
          ],
          [
           8.7,
           1723.2434034983694,
           1126.593536911
          ],
          [
           9.7,
           1418.2616881079384,
           633.824913712
          ],
          [
           9.7,
           1311.842578890533,
           1191.856977163
          ],
          [
           10.8,
           1391.815946610467,
           943.976115209
          ],
          [
           7.9,
           504.1847332862761,
           1804.981345165
          ],
          [
           8.5,
           1032.4955978869857,
           856.411077317
          ],
          [
           8.8,
           872.3700608459791,
           579.136426948
          ],
          [
           9.1,
           1886.351690708404,
           1016.177071775
          ],
          [
           10.9,
           861.5006932921146,
           475.075580206
          ],
          [
           10.5,
           1153.1259989952962,
           915.650545737
          ],
          [
           9.5,
           1392.4431732650912,
           391.389432485
          ],
          [
           11.4,
           1334.8610713262674,
           1627.040962475
          ],
          [
           14.6,
           1820.151679306609,
           1032.863849765
          ],
          [
           8.2,
           802.2195457673779,
           1025.894700619
          ],
          [
           13,
           1572.5902894044489,
           1219.803874671
          ],
          [
           9.5,
           629.4927506802583,
           377.695650408
          ],
          [
           9.1,
           852.5832543904394,
           575.675872623
          ],
          [
           11.6,
           2303.592289719626,
           784.900700935
          ],
          [
           9,
           1604.7569581258729,
           530.142923667
          ],
          [
           10.6,
           1237.7302047302983,
           975.97457231
          ]
         ],
         "hovertemplate": "<b>%{hovertext}</b><br><br>District=Scarborough<br>Unemployment Rate=%{customdata[0]:.2f}<br>Covid-19 Rate=%{customdata[2]:.2f}<br>Crime Rate=%{customdata[1]:.2f}<extra></extra>",
         "hovertext": [
          "Agincourt North",
          "Agincourt South-Malvern West",
          "Bendale",
          "Birchcliffe-Cliffside",
          "Centennial Scarborough",
          "Clairlea-Birchmount",
          "Cliffcrest",
          "Dorset Park",
          "Eglinton East",
          "Guildwood",
          "Highland Creek",
          "Ionview",
          "Kennedy Park",
          "L'Amoreaux",
          "Malvern",
          "Milliken",
          "Morningside",
          "Oakridge",
          "Rouge",
          "Scarborough Village",
          "Steeles",
          "Tam O'Shanter-Sullivan",
          "West Hill",
          "Wexford/Maryvale",
          "Woburn"
         ],
         "legendgroup": "Scarborough",
         "marker": {
          "color": "#636efa",
          "size": [
           735.0668086421873,
           1384.8549901081788,
           1411.882510013351,
           1422.098604818088,
           748.39095943721,
           1723.2434034983694,
           1418.2616881079384,
           1311.842578890533,
           1391.815946610467,
           504.1847332862761,
           1032.4955978869857,
           872.3700608459791,
           1886.351690708404,
           861.5006932921146,
           1153.1259989952962,
           1392.4431732650912,
           1334.8610713262674,
           1820.151679306609,
           802.2195457673779,
           1572.5902894044489,
           629.4927506802583,
           852.5832543904394,
           2303.592289719626,
           1604.7569581258729,
           1237.7302047302983
          ],
          "sizemode": "area",
          "sizeref": 2.6244797342211768,
          "symbol": "circle"
         },
         "mode": "markers",
         "name": "Scarborough",
         "orientation": "v",
         "showlegend": true,
         "type": "scatter",
         "x": [
          9.8,
          9.8,
          8.8,
          8.8,
          7.6,
          8.7,
          9.7,
          9.7,
          10.8,
          7.9,
          8.5,
          8.8,
          9.1,
          10.9,
          10.5,
          9.5,
          11.4,
          14.6,
          8.2,
          13,
          9.5,
          9.1,
          11.6,
          9,
          10.6
         ],
         "xaxis": "x",
         "y": [
          542.712877409,
          479.858568001,
          971.29506008,
          1112.556637208,
          441.550666068,
          1126.593536911,
          633.824913712,
          1191.856977163,
          943.976115209,
          1804.981345165,
          856.411077317,
          579.136426948,
          1016.177071775,
          475.075580206,
          915.650545737,
          391.389432485,
          1627.040962475,
          1032.863849765,
          1025.894700619,
          1219.803874671,
          377.695650408,
          575.675872623,
          784.900700935,
          530.142923667,
          975.97457231
         ],
         "yaxis": "y"
        },
        {
         "customdata": [
          [
           6.1,
           730.0481168076986,
           696.864111498
          ],
          [
           6.1,
           791.7605407145155,
           1017.058255552
          ],
          [
           10,
           1300.7614213197971,
           1660.321489002
          ],
          [
           7.4,
           661.7172369270497,
           715.515386271
          ],
          [
           7.9,
           734.3011478730588,
           1316.677920324
          ],
          [
           7.4,
           739.8611618560468,
           2082.572159299
          ],
          [
           7.3,
           1344.2511088365745,
           1198.680768793
          ],
          [
           9.9,
           786.3636363636365,
           2154.545454545
          ],
          [
           7.5,
           1046.2733254233633,
           657.965699493
          ],
          [
           7.1,
           1309.0043633478779,
           535.501785006
          ],
          [
           6.2,
           634.8303960583665,
           464.278946371
          ],
          [
           6.2,
           1469.20268519609,
           747.85066541
          ],
          [
           12.1,
           1392.85064028646,
           2312.314134855
          ],
          [
           8.7,
           1526.6509639710373,
           1099.188694059
          ],
          [
           6,
           977.2871233372546,
           443.39878744
          ],
          [
           10.9,
           1472.1246082249027,
           1814.037420458
          ],
          [
           6.7,
           822.3224621771586,
           447.087940601
          ],
          [
           10.4,
           1418.918918918919,
           1679.536679537
          ],
          [
           9.6,
           3043.9481268011527,
           2176.392891451
          ],
          [
           8.5,
           983.9321177107781,
           1105.795269904
          ]
         ],
         "hovertemplate": "<b>%{hovertext}</b><br><br>District=Etobicoke<br>Unemployment Rate=%{customdata[0]:.2f}<br>Covid-19 Rate=%{customdata[2]:.2f}<br>Crime Rate=%{customdata[1]:.2f}<extra></extra>",
         "hovertext": [
          "Alderwood",
          "Edenbridge-Humber Valley",
          "Elms-Old Rexdale",
          "Eringate-Centennial-West Deane",
          "Etobicoke West Mall",
          "Humber Heights-Westmount",
          "Islington-City Centre West",
          "Kingsview Village-The Westway",
          "Kingsway South",
          "Long Branch",
          "Markland Wood",
          "Mimico (includes Humber Bay Shores)",
          "Mount Olive-Silverstone-Jamestown",
          "New Toronto",
          "Princess-Rosethorn",
          "Rexdale-Kipling",
          "Stonegate-Queensway",
          "Thistletown-Beaumond Heights",
          "West Humber-Clairville",
          "Willowridge-Martingrove-Richview"
         ],
         "legendgroup": "Etobicoke",
         "marker": {
          "color": "#EF553B",
          "size": [
           730.0481168076986,
           791.7605407145155,
           1300.7614213197971,
           661.7172369270497,
           734.3011478730588,
           739.8611618560468,
           1344.2511088365745,
           786.3636363636365,
           1046.2733254233633,
           1309.0043633478779,
           634.8303960583665,
           1469.20268519609,
           1392.85064028646,
           1526.6509639710373,
           977.2871233372546,
           1472.1246082249027,
           822.3224621771586,
           1418.918918918919,
           3043.9481268011527,
           983.9321177107781
          ],
          "sizemode": "area",
          "sizeref": 2.6244797342211768,
          "symbol": "circle"
         },
         "mode": "markers",
         "name": "Etobicoke",
         "orientation": "v",
         "showlegend": true,
         "type": "scatter",
         "x": [
          6.1,
          6.1,
          10,
          7.4,
          7.9,
          7.4,
          7.3,
          9.9,
          7.5,
          7.1,
          6.2,
          6.2,
          12.1,
          8.7,
          6,
          10.9,
          6.7,
          10.4,
          9.6,
          8.5
         ],
         "xaxis": "x",
         "y": [
          696.864111498,
          1017.058255552,
          1660.321489002,
          715.515386271,
          1316.677920324,
          2082.572159299,
          1198.680768793,
          2154.545454545,
          657.965699493,
          535.501785006,
          464.278946371,
          747.85066541,
          2312.314134855,
          1099.188694059,
          443.39878744,
          1814.037420458,
          447.087940601,
          1679.536679537,
          2176.392891451,
          1105.795269904
         ],
         "yaxis": "y"
        },
        {
         "customdata": [
          [
           6.7,
           1978.6411583568108,
           782.939133853
          ],
          [
           10.2,
           5314.571461797883,
           488.42888708
          ],
          [
           8.5,
           1410.6380225184419,
           375.307363789
          ],
          [
           8,
           2373.8109520952953,
           865.541177479
          ],
          [
           6.6,
           911.7432530999271,
           474.106491612
          ],
          [
           8.5,
           4537.332482450543,
           749.840459477
          ],
          [
           7.2,
           1294.841859477818,
           750.017689096
          ],
          [
           6.2,
           1500.103455410718,
           537.968135733
          ],
          [
           7.2,
           1504.4368600682594,
           554.266211604
          ],
          [
           7.5,
           1552.8213831141281,
           823.080186678
          ],
          [
           8.2,
           1398.4378653945091,
           350.778728778
          ],
          [
           7.4,
           968.296111197876,
           491.956895205
          ],
          [
           5.6,
           941.1106969809914,
           409.988818487
          ],
          [
           7.2,
           1505.1675105777902,
           450.856627592
          ],
          [
           7.1,
           888.90894323617,
           410.612760581
          ],
          [
           6,
           1028.2131661442006,
           547.544409613
          ],
          [
           5.6,
           1252.958373938466,
           682.166225811
          ],
          [
           8.2,
           4307.606575647813,
           919.476177208
          ],
          [
           6.4,
           595.6048469911686,
           253.303210789
          ],
          [
           7.5,
           902.5627511693788,
           368.930759602
          ],
          [
           6.4,
           1144.0323928273026,
           1054.052316987
          ],
          [
           6.9,
           5281.381059202185,
           1472.739685946
          ],
          [
           6.9,
           763.0402384500745,
           286.140089419
          ],
          [
           6.7,
           991.300829455796,
           842.94288219
          ],
          [
           4.5,
           1581.1417575368828,
           779.345734445
          ],
          [
           5.3,
           1418.2611614635784,
           360.859348775
          ],
          [
           10.4,
           1993.0163846360463,
           1488.047273704
          ],
          [
           6.8,
           1374.2224793866628,
           433.964993491
          ],
          [
           6.4,
           1781.1378780112761,
           820.092260379
          ],
          [
           9.6,
           2425.2522447468295,
           777.561788392
          ],
          [
           6.7,
           1549.3522104981969,
           560.972352077
          ],
          [
           6,
           1319.1224967738851,
           301.104048177
          ],
          [
           5.1,
           1161.8669314796425,
           347.567030785
          ],
          [
           8.6,
           1903.9772987322074,
           1469.174790608
          ],
          [
           6.5,
           1757.784474099584,
           294.159850768
          ],
          [
           5.7,
           848.5185700375574,
           236.472388371
          ],
          [
           6.1,
           1751.6308287025852,
           543.609567528
          ],
          [
           8.3,
           3194.4261864072564,
           762.45563297
          ],
          [
           5.2,
           2139.1834691183835,
           816.227451337
          ],
          [
           8.5,
           1486.754370156785,
           928.09515228
          ],
          [
           7.7,
           1227.9722510166653,
           303.006139861
          ],
          [
           5.2,
           961.7394940413967,
           857.202592515
          ],
          [
           6.9,
           1565.5411695015653,
           321.5706186
          ],
          [
           5.9,
           646.551724137931,
           375.159642401
          ]
         ],
         "hovertemplate": "<b>%{hovertext}</b><br><br>District=Old Toronto<br>Unemployment Rate=%{customdata[0]:.2f}<br>Covid-19 Rate=%{customdata[2]:.2f}<br>Crime Rate=%{customdata[1]:.2f}<extra></extra>",
         "hovertext": [
          "Annex",
          "Bay Street Corridor",
          "Blake-Jones",
          "Cabbagetown-South St. James Town",
          "Casa Loma",
          "Church-Yonge Corridor",
          "Corso Italia-Davenport",
          "Danforth",
          "Dovercourt-Wallace Emerson-Junction",
          "Dufferin Grove",
          "East End-Danforth",
          "Forest Hill North",
          "Forest Hill South",
          "Greenwood-Coxwell",
          "High Park North",
          "High Park-Swansea",
          "Junction Area",
          "Kensington-Chinatown",
          "Lawrence Park North",
          "Lawrence Park South",
          "Little Portugal",
          "Moss Park",
          "Mount Pleasant East",
          "Mount Pleasant West",
          "Niagara",
          "North Riverdale",
          "North St. James Town",
          "Palmerston-Little Italy",
          "Playter Estates-Danforth",
          "Regent Park",
          "Roncesvalles",
          "Rosedale-Moore Park",
          "Runnymede-Bloor West Village",
          "South Parkdale",
          "South Riverdale",
          "The Beaches",
          "Trinity-Bellwoods",
          "University",
          "Waterfront Communities-The Island",
          "Weston-Pelham Park",
          "Woodbine Corridor",
          "Wychwood",
          "Yonge-Eglinton",
          "Yonge-St.Clair"
         ],
         "legendgroup": "Old Toronto",
         "marker": {
          "color": "#00cc96",
          "size": [
           1978.6411583568108,
           5314.571461797883,
           1410.6380225184419,
           2373.8109520952953,
           911.7432530999271,
           4537.332482450543,
           1294.841859477818,
           1500.103455410718,
           1504.4368600682594,
           1552.8213831141281,
           1398.4378653945091,
           968.296111197876,
           941.1106969809914,
           1505.1675105777902,
           888.90894323617,
           1028.2131661442006,
           1252.958373938466,
           4307.606575647813,
           595.6048469911686,
           902.5627511693788,
           1144.0323928273026,
           5281.381059202185,
           763.0402384500745,
           991.300829455796,
           1581.1417575368828,
           1418.2611614635784,
           1993.0163846360463,
           1374.2224793866628,
           1781.1378780112761,
           2425.2522447468295,
           1549.3522104981969,
           1319.1224967738851,
           1161.8669314796425,
           1903.9772987322074,
           1757.784474099584,
           848.5185700375574,
           1751.6308287025852,
           3194.4261864072564,
           2139.1834691183835,
           1486.754370156785,
           1227.9722510166653,
           961.7394940413967,
           1565.5411695015653,
           646.551724137931
          ],
          "sizemode": "area",
          "sizeref": 2.6244797342211768,
          "symbol": "circle"
         },
         "mode": "markers",
         "name": "Old Toronto",
         "orientation": "v",
         "showlegend": true,
         "type": "scatter",
         "x": [
          6.7,
          10.2,
          8.5,
          8,
          6.6,
          8.5,
          7.2,
          6.2,
          7.2,
          7.5,
          8.2,
          7.4,
          5.6,
          7.2,
          7.1,
          6,
          5.6,
          8.2,
          6.4,
          7.5,
          6.4,
          6.9,
          6.9,
          6.7,
          4.5,
          5.3,
          10.4,
          6.8,
          6.4,
          9.6,
          6.7,
          6,
          5.1,
          8.6,
          6.5,
          5.7,
          6.1,
          8.3,
          5.2,
          8.5,
          7.7,
          5.2,
          6.9,
          5.9
         ],
         "xaxis": "x",
         "y": [
          782.939133853,
          488.42888708,
          375.307363789,
          865.541177479,
          474.106491612,
          749.840459477,
          750.017689096,
          537.968135733,
          554.266211604,
          823.080186678,
          350.778728778,
          491.956895205,
          409.988818487,
          450.856627592,
          410.612760581,
          547.544409613,
          682.166225811,
          919.476177208,
          253.303210789,
          368.930759602,
          1054.052316987,
          1472.739685946,
          286.140089419,
          842.94288219,
          779.345734445,
          360.859348775,
          1488.047273704,
          433.964993491,
          820.092260379,
          777.561788392,
          560.972352077,
          301.104048177,
          347.567030785,
          1469.174790608,
          294.159850768,
          236.472388371,
          543.609567528,
          762.45563297,
          816.227451337,
          928.09515228,
          303.006139861,
          857.202592515,
          321.5706186,
          375.159642401
         ],
         "yaxis": "y"
        },
        {
         "customdata": [
          [
           7.2,
           797.9779743636036,
           314.136125654
          ],
          [
           7.2,
           711.9007119007119,
           1310.401310401
          ],
          [
           7.7,
           780.5197233127687,
           364.554122266
          ],
          [
           8,
           691.8047742131671,
           1087.121788049
          ],
          [
           5.5,
           1075.9166810122224,
           710.105009468
          ],
          [
           12.7,
           1674.5641072825138,
           2014.997469752
          ],
          [
           8,
           1316.6414849989208,
           345.348586229
          ],
          [
           10,
           1193.8953652080868,
           1588.106099003
          ],
          [
           6.1,
           1189.898008742108,
           679.941719281
          ],
          [
           9.6,
           913.0900890909763,
           428.819636982
          ],
          [
           7.9,
           2279.4705009699874,
           1968.503937008
          ],
          [
           8.9,
           871.625245843018,
           1256.034328625
          ],
          [
           10.6,
           875.3932430584052,
           1048.648155747
          ],
          [
           11.5,
           1744.7771473549572,
           2397.428749467
          ],
          [
           10.3,
           1055.7781593843415,
           852.25465878
          ],
          [
           8.3,
           915.3182945553324,
           572.812094012
          ],
          [
           9.6,
           2923.646907216495,
           1675.257731959
          ],
          [
           10.2,
           2090.7044065615955,
           1884.850434223
          ],
          [
           7.2,
           1020.7869339272457,
           519.673348181
          ],
          [
           8.1,
           801.1077044802689,
           2423.103550588
          ],
          [
           8.8,
           1031.248058644468,
           291.979872026
          ],
          [
           8.4,
           1292.4342243296546,
           1477.067684948
          ],
          [
           9.2,
           861.94512282718,
           551.644878609
          ],
          [
           6,
           1762.7308337996642,
           1594.851706771
          ],
          [
           10,
           625.8692628650904,
           354.027057782
          ],
          [
           9.1,
           1156.825269087617,
           1549.139925561
          ],
          [
           8.3,
           1089.153379743993,
           247.02447788
          ],
          [
           10.1,
           1313.535122786979,
           713.877784123
          ],
          [
           9.2,
           776.4329755651976,
           1339.72748725
          ],
          [
           8.5,
           747.5115993179205,
           281.556093112
          ],
          [
           9.8,
           1192.7255550307038,
           501.889466226
          ],
          [
           10.7,
           2641.9744138006013,
           2308.556517957
          ],
          [
           8,
           2877.6006484733857,
           2168.332883005
          ]
         ],
         "hovertemplate": "<b>%{hovertext}</b><br><br>District=North York<br>Unemployment Rate=%{customdata[0]:.2f}<br>Covid-19 Rate=%{customdata[2]:.2f}<br>Crime Rate=%{customdata[1]:.2f}<extra></extra>",
         "hovertext": [
          "Banbury-Don Mills",
          "Bathurst Manor",
          "Bayview Village",
          "Bayview Woods-Steeles",
          "Bedford Park-Nortown",
          "Black Creek",
          "Bridle Path-Sunnybrook-York Mills",
          "Brookhaven-Amesbury",
          "Clanton Park",
          "Don Valley Village",
          "Downsview-Roding-CFB",
          "Englemount-Lawrence",
          "Flemingdon Park",
          "Glenfield-Jane Heights",
          "Henry Farm",
          "Hillcrest Village",
          "Humber Summit",
          "Humbermede",
          "Lansing-Westgate",
          "Maple Leaf",
          "Newtonbrook East",
          "Newtonbrook West",
          "Parkwoods-Donalda",
          "Pelmo Park-Humberlea",
          "Pleasant View",
          "Rustic",
          "St.Andrew-Windfields",
          "Victoria Village",
          "Westminster-Branson",
          "Willowdale East",
          "Willowdale West",
          "York University Heights",
          "Yorkdale-Glen Park"
         ],
         "legendgroup": "North York",
         "marker": {
          "color": "#ab63fa",
          "size": [
           797.9779743636036,
           711.9007119007119,
           780.5197233127687,
           691.8047742131671,
           1075.9166810122224,
           1674.5641072825138,
           1316.6414849989208,
           1193.8953652080868,
           1189.898008742108,
           913.0900890909763,
           2279.4705009699874,
           871.625245843018,
           875.3932430584052,
           1744.7771473549572,
           1055.7781593843415,
           915.3182945553324,
           2923.646907216495,
           2090.7044065615955,
           1020.7869339272457,
           801.1077044802689,
           1031.248058644468,
           1292.4342243296546,
           861.94512282718,
           1762.7308337996642,
           625.8692628650904,
           1156.825269087617,
           1089.153379743993,
           1313.535122786979,
           776.4329755651976,
           747.5115993179205,
           1192.7255550307038,
           2641.9744138006013,
           2877.6006484733857
          ],
          "sizemode": "area",
          "sizeref": 2.6244797342211768,
          "symbol": "circle"
         },
         "mode": "markers",
         "name": "North York",
         "orientation": "v",
         "showlegend": true,
         "type": "scatter",
         "x": [
          7.2,
          7.2,
          7.7,
          8,
          5.5,
          12.7,
          8,
          10,
          6.1,
          9.6,
          7.9,
          8.9,
          10.6,
          11.5,
          10.3,
          8.3,
          9.6,
          10.2,
          7.2,
          8.1,
          8.8,
          8.4,
          9.2,
          6,
          10,
          9.1,
          8.3,
          10.1,
          9.2,
          8.5,
          9.8,
          10.7,
          8
         ],
         "xaxis": "x",
         "y": [
          314.136125654,
          1310.401310401,
          364.554122266,
          1087.121788049,
          710.105009468,
          2014.997469752,
          345.348586229,
          1588.106099003,
          679.941719281,
          428.819636982,
          1968.503937008,
          1256.034328625,
          1048.648155747,
          2397.428749467,
          852.25465878,
          572.812094012,
          1675.257731959,
          1884.850434223,
          519.673348181,
          2423.103550588,
          291.979872026,
          1477.067684948,
          551.644878609,
          1594.851706771,
          354.027057782,
          1549.139925561,
          247.02447788,
          713.877784123,
          1339.72748725,
          281.556093112,
          501.889466226,
          2308.556517957,
          2168.332883005
         ],
         "yaxis": "y"
        },
        {
         "customdata": [
          [
           11.4,
           1596.4725558765394,
           2174.243576099
          ],
          [
           8.7,
           1276.5658974538824,
           1080.171143999
          ],
          [
           7.2,
           1215.4696132596684,
           743.345052737
          ],
          [
           7.1,
           710.059171597633,
           334.145492517
          ],
          [
           8.6,
           1202.749140893471,
           1094.230421414
          ],
          [
           7.6,
           763.9323731997496,
           413.27489042
          ],
          [
           10.8,
           1074.0822482159936,
           2192.304862797
          ],
          [
           6.8,
           1343.7057991513439,
           928.807166431
          ],
          [
           9.2,
           1128.292726782343,
           1137.283107075
          ],
          [
           10.6,
           1861.9386393952868,
           2812.361049355
          ]
         ],
         "hovertemplate": "<b>%{hovertext}</b><br><br>District=York<br>Unemployment Rate=%{customdata[0]:.2f}<br>Covid-19 Rate=%{customdata[2]:.2f}<br>Crime Rate=%{customdata[1]:.2f}<extra></extra>",
         "hovertext": [
          "Beechborough-Greenbrook",
          "Briar Hill-Belgravia",
          "Caledonia-Fairbank",
          "Humewood-Cedarvale",
          "Keelesdale-Eglinton West",
          "Lambton Baby Point",
          "Mount Dennis",
          "Oakwood Village",
          "Rockcliffe-Smythe",
          "Weston"
         ],
         "legendgroup": "York",
         "marker": {
          "color": "#FFA15A",
          "size": [
           1596.4725558765394,
           1276.5658974538824,
           1215.4696132596684,
           710.059171597633,
           1202.749140893471,
           763.9323731997496,
           1074.0822482159936,
           1343.7057991513439,
           1128.292726782343,
           1861.9386393952868
          ],
          "sizemode": "area",
          "sizeref": 2.6244797342211768,
          "symbol": "circle"
         },
         "mode": "markers",
         "name": "York",
         "orientation": "v",
         "showlegend": true,
         "type": "scatter",
         "x": [
          11.4,
          8.7,
          7.2,
          7.1,
          8.6,
          7.6,
          10.8,
          6.8,
          9.2,
          10.6
         ],
         "xaxis": "x",
         "y": [
          2174.243576099,
          1080.171143999,
          743.345052737,
          334.145492517,
          1094.230421414,
          413.27489042,
          2192.304862797,
          928.807166431,
          1137.283107075,
          2812.361049355
         ],
         "yaxis": "y"
        },
        {
         "customdata": [
          [
           8.2,
           1008.783372467171,
           426.124010784
          ],
          [
           6.9,
           750.8731082654249,
           378.346915017
          ],
          [
           6.9,
           689.3273116234847,
           291.181364393
          ],
          [
           10.1,
           1344.0428380187418,
           578.313253012
          ],
          [
           5,
           801.4729773638037,
           476.551500054
          ],
          [
           11.5,
           1364.534846649238,
           835.299368743
          ],
          [
           12.6,
           819.5944665529657,
           980.670835702
          ],
          [
           6.6,
           699.3006993006993,
           445.009535919
          ]
         ],
         "hovertemplate": "<b>%{hovertext}</b><br><br>District=East York<br>Unemployment Rate=%{customdata[0]:.2f}<br>Covid-19 Rate=%{customdata[2]:.2f}<br>Crime Rate=%{customdata[1]:.2f}<extra></extra>",
         "hovertext": [
          "Broadview North",
          "Danforth East York",
          "Leaside-Bennington",
          "O'Connor-Parkview",
          "Old East York",
          "Taylor-Massey",
          "Thorncliffe Park",
          "Woodbine-Lumsden"
         ],
         "legendgroup": "East York",
         "marker": {
          "color": "#19d3f3",
          "size": [
           1008.783372467171,
           750.8731082654249,
           689.3273116234847,
           1344.0428380187418,
           801.4729773638037,
           1364.534846649238,
           819.5944665529657,
           699.3006993006993
          ],
          "sizemode": "area",
          "sizeref": 2.6244797342211768,
          "symbol": "circle"
         },
         "mode": "markers",
         "name": "East York",
         "orientation": "v",
         "showlegend": true,
         "type": "scatter",
         "x": [
          8.2,
          6.9,
          6.9,
          10.1,
          5,
          11.5,
          12.6,
          6.6
         ],
         "xaxis": "x",
         "y": [
          426.124010784,
          378.346915017,
          291.181364393,
          578.313253012,
          476.551500054,
          835.299368743,
          980.670835702,
          445.009535919
         ],
         "yaxis": "y"
        }
       ],
       "layout": {
        "height": 600,
        "legend": {
         "itemsizing": "constant",
         "title": {
          "text": "District"
         },
         "tracegroupgap": 0
        },
        "margin": {
         "b": 0,
         "l": 0,
         "r": 0,
         "t": 75
        },
        "template": {
         "data": {
          "bar": [
           {
            "error_x": {
             "color": "#2a3f5f"
            },
            "error_y": {
             "color": "#2a3f5f"
            },
            "marker": {
             "line": {
              "color": "#E5ECF6",
              "width": 0.5
             }
            },
            "type": "bar"
           }
          ],
          "barpolar": [
           {
            "marker": {
             "line": {
              "color": "#E5ECF6",
              "width": 0.5
             }
            },
            "type": "barpolar"
           }
          ],
          "carpet": [
           {
            "aaxis": {
             "endlinecolor": "#2a3f5f",
             "gridcolor": "white",
             "linecolor": "white",
             "minorgridcolor": "white",
             "startlinecolor": "#2a3f5f"
            },
            "baxis": {
             "endlinecolor": "#2a3f5f",
             "gridcolor": "white",
             "linecolor": "white",
             "minorgridcolor": "white",
             "startlinecolor": "#2a3f5f"
            },
            "type": "carpet"
           }
          ],
          "choropleth": [
           {
            "colorbar": {
             "outlinewidth": 0,
             "ticks": ""
            },
            "type": "choropleth"
           }
          ],
          "contour": [
           {
            "colorbar": {
             "outlinewidth": 0,
             "ticks": ""
            },
            "colorscale": [
             [
              0,
              "#0d0887"
             ],
             [
              0.1111111111111111,
              "#46039f"
             ],
             [
              0.2222222222222222,
              "#7201a8"
             ],
             [
              0.3333333333333333,
              "#9c179e"
             ],
             [
              0.4444444444444444,
              "#bd3786"
             ],
             [
              0.5555555555555556,
              "#d8576b"
             ],
             [
              0.6666666666666666,
              "#ed7953"
             ],
             [
              0.7777777777777778,
              "#fb9f3a"
             ],
             [
              0.8888888888888888,
              "#fdca26"
             ],
             [
              1,
              "#f0f921"
             ]
            ],
            "type": "contour"
           }
          ],
          "contourcarpet": [
           {
            "colorbar": {
             "outlinewidth": 0,
             "ticks": ""
            },
            "type": "contourcarpet"
           }
          ],
          "heatmap": [
           {
            "colorbar": {
             "outlinewidth": 0,
             "ticks": ""
            },
            "colorscale": [
             [
              0,
              "#0d0887"
             ],
             [
              0.1111111111111111,
              "#46039f"
             ],
             [
              0.2222222222222222,
              "#7201a8"
             ],
             [
              0.3333333333333333,
              "#9c179e"
             ],
             [
              0.4444444444444444,
              "#bd3786"
             ],
             [
              0.5555555555555556,
              "#d8576b"
             ],
             [
              0.6666666666666666,
              "#ed7953"
             ],
             [
              0.7777777777777778,
              "#fb9f3a"
             ],
             [
              0.8888888888888888,
              "#fdca26"
             ],
             [
              1,
              "#f0f921"
             ]
            ],
            "type": "heatmap"
           }
          ],
          "heatmapgl": [
           {
            "colorbar": {
             "outlinewidth": 0,
             "ticks": ""
            },
            "colorscale": [
             [
              0,
              "#0d0887"
             ],
             [
              0.1111111111111111,
              "#46039f"
             ],
             [
              0.2222222222222222,
              "#7201a8"
             ],
             [
              0.3333333333333333,
              "#9c179e"
             ],
             [
              0.4444444444444444,
              "#bd3786"
             ],
             [
              0.5555555555555556,
              "#d8576b"
             ],
             [
              0.6666666666666666,
              "#ed7953"
             ],
             [
              0.7777777777777778,
              "#fb9f3a"
             ],
             [
              0.8888888888888888,
              "#fdca26"
             ],
             [
              1,
              "#f0f921"
             ]
            ],
            "type": "heatmapgl"
           }
          ],
          "histogram": [
           {
            "marker": {
             "colorbar": {
              "outlinewidth": 0,
              "ticks": ""
             }
            },
            "type": "histogram"
           }
          ],
          "histogram2d": [
           {
            "colorbar": {
             "outlinewidth": 0,
             "ticks": ""
            },
            "colorscale": [
             [
              0,
              "#0d0887"
             ],
             [
              0.1111111111111111,
              "#46039f"
             ],
             [
              0.2222222222222222,
              "#7201a8"
             ],
             [
              0.3333333333333333,
              "#9c179e"
             ],
             [
              0.4444444444444444,
              "#bd3786"
             ],
             [
              0.5555555555555556,
              "#d8576b"
             ],
             [
              0.6666666666666666,
              "#ed7953"
             ],
             [
              0.7777777777777778,
              "#fb9f3a"
             ],
             [
              0.8888888888888888,
              "#fdca26"
             ],
             [
              1,
              "#f0f921"
             ]
            ],
            "type": "histogram2d"
           }
          ],
          "histogram2dcontour": [
           {
            "colorbar": {
             "outlinewidth": 0,
             "ticks": ""
            },
            "colorscale": [
             [
              0,
              "#0d0887"
             ],
             [
              0.1111111111111111,
              "#46039f"
             ],
             [
              0.2222222222222222,
              "#7201a8"
             ],
             [
              0.3333333333333333,
              "#9c179e"
             ],
             [
              0.4444444444444444,
              "#bd3786"
             ],
             [
              0.5555555555555556,
              "#d8576b"
             ],
             [
              0.6666666666666666,
              "#ed7953"
             ],
             [
              0.7777777777777778,
              "#fb9f3a"
             ],
             [
              0.8888888888888888,
              "#fdca26"
             ],
             [
              1,
              "#f0f921"
             ]
            ],
            "type": "histogram2dcontour"
           }
          ],
          "mesh3d": [
           {
            "colorbar": {
             "outlinewidth": 0,
             "ticks": ""
            },
            "type": "mesh3d"
           }
          ],
          "parcoords": [
           {
            "line": {
             "colorbar": {
              "outlinewidth": 0,
              "ticks": ""
             }
            },
            "type": "parcoords"
           }
          ],
          "pie": [
           {
            "automargin": true,
            "type": "pie"
           }
          ],
          "scatter": [
           {
            "marker": {
             "colorbar": {
              "outlinewidth": 0,
              "ticks": ""
             }
            },
            "type": "scatter"
           }
          ],
          "scatter3d": [
           {
            "line": {
             "colorbar": {
              "outlinewidth": 0,
              "ticks": ""
             }
            },
            "marker": {
             "colorbar": {
              "outlinewidth": 0,
              "ticks": ""
             }
            },
            "type": "scatter3d"
           }
          ],
          "scattercarpet": [
           {
            "marker": {
             "colorbar": {
              "outlinewidth": 0,
              "ticks": ""
             }
            },
            "type": "scattercarpet"
           }
          ],
          "scattergeo": [
           {
            "marker": {
             "colorbar": {
              "outlinewidth": 0,
              "ticks": ""
             }
            },
            "type": "scattergeo"
           }
          ],
          "scattergl": [
           {
            "marker": {
             "colorbar": {
              "outlinewidth": 0,
              "ticks": ""
             }
            },
            "type": "scattergl"
           }
          ],
          "scattermapbox": [
           {
            "marker": {
             "colorbar": {
              "outlinewidth": 0,
              "ticks": ""
             }
            },
            "type": "scattermapbox"
           }
          ],
          "scatterpolar": [
           {
            "marker": {
             "colorbar": {
              "outlinewidth": 0,
              "ticks": ""
             }
            },
            "type": "scatterpolar"
           }
          ],
          "scatterpolargl": [
           {
            "marker": {
             "colorbar": {
              "outlinewidth": 0,
              "ticks": ""
             }
            },
            "type": "scatterpolargl"
           }
          ],
          "scatterternary": [
           {
            "marker": {
             "colorbar": {
              "outlinewidth": 0,
              "ticks": ""
             }
            },
            "type": "scatterternary"
           }
          ],
          "surface": [
           {
            "colorbar": {
             "outlinewidth": 0,
             "ticks": ""
            },
            "colorscale": [
             [
              0,
              "#0d0887"
             ],
             [
              0.1111111111111111,
              "#46039f"
             ],
             [
              0.2222222222222222,
              "#7201a8"
             ],
             [
              0.3333333333333333,
              "#9c179e"
             ],
             [
              0.4444444444444444,
              "#bd3786"
             ],
             [
              0.5555555555555556,
              "#d8576b"
             ],
             [
              0.6666666666666666,
              "#ed7953"
             ],
             [
              0.7777777777777778,
              "#fb9f3a"
             ],
             [
              0.8888888888888888,
              "#fdca26"
             ],
             [
              1,
              "#f0f921"
             ]
            ],
            "type": "surface"
           }
          ],
          "table": [
           {
            "cells": {
             "fill": {
              "color": "#EBF0F8"
             },
             "line": {
              "color": "white"
             }
            },
            "header": {
             "fill": {
              "color": "#C8D4E3"
             },
             "line": {
              "color": "white"
             }
            },
            "type": "table"
           }
          ]
         },
         "layout": {
          "annotationdefaults": {
           "arrowcolor": "#2a3f5f",
           "arrowhead": 0,
           "arrowwidth": 1
          },
          "coloraxis": {
           "colorbar": {
            "outlinewidth": 0,
            "ticks": ""
           }
          },
          "colorscale": {
           "diverging": [
            [
             0,
             "#8e0152"
            ],
            [
             0.1,
             "#c51b7d"
            ],
            [
             0.2,
             "#de77ae"
            ],
            [
             0.3,
             "#f1b6da"
            ],
            [
             0.4,
             "#fde0ef"
            ],
            [
             0.5,
             "#f7f7f7"
            ],
            [
             0.6,
             "#e6f5d0"
            ],
            [
             0.7,
             "#b8e186"
            ],
            [
             0.8,
             "#7fbc41"
            ],
            [
             0.9,
             "#4d9221"
            ],
            [
             1,
             "#276419"
            ]
           ],
           "sequential": [
            [
             0,
             "#0d0887"
            ],
            [
             0.1111111111111111,
             "#46039f"
            ],
            [
             0.2222222222222222,
             "#7201a8"
            ],
            [
             0.3333333333333333,
             "#9c179e"
            ],
            [
             0.4444444444444444,
             "#bd3786"
            ],
            [
             0.5555555555555556,
             "#d8576b"
            ],
            [
             0.6666666666666666,
             "#ed7953"
            ],
            [
             0.7777777777777778,
             "#fb9f3a"
            ],
            [
             0.8888888888888888,
             "#fdca26"
            ],
            [
             1,
             "#f0f921"
            ]
           ],
           "sequentialminus": [
            [
             0,
             "#0d0887"
            ],
            [
             0.1111111111111111,
             "#46039f"
            ],
            [
             0.2222222222222222,
             "#7201a8"
            ],
            [
             0.3333333333333333,
             "#9c179e"
            ],
            [
             0.4444444444444444,
             "#bd3786"
            ],
            [
             0.5555555555555556,
             "#d8576b"
            ],
            [
             0.6666666666666666,
             "#ed7953"
            ],
            [
             0.7777777777777778,
             "#fb9f3a"
            ],
            [
             0.8888888888888888,
             "#fdca26"
            ],
            [
             1,
             "#f0f921"
            ]
           ]
          },
          "colorway": [
           "#636efa",
           "#EF553B",
           "#00cc96",
           "#ab63fa",
           "#FFA15A",
           "#19d3f3",
           "#FF6692",
           "#B6E880",
           "#FF97FF",
           "#FECB52"
          ],
          "font": {
           "color": "#2a3f5f"
          },
          "geo": {
           "bgcolor": "white",
           "lakecolor": "white",
           "landcolor": "#E5ECF6",
           "showlakes": true,
           "showland": true,
           "subunitcolor": "white"
          },
          "hoverlabel": {
           "align": "left"
          },
          "hovermode": "closest",
          "mapbox": {
           "style": "light"
          },
          "paper_bgcolor": "white",
          "plot_bgcolor": "#E5ECF6",
          "polar": {
           "angularaxis": {
            "gridcolor": "white",
            "linecolor": "white",
            "ticks": ""
           },
           "bgcolor": "#E5ECF6",
           "radialaxis": {
            "gridcolor": "white",
            "linecolor": "white",
            "ticks": ""
           }
          },
          "scene": {
           "xaxis": {
            "backgroundcolor": "#E5ECF6",
            "gridcolor": "white",
            "gridwidth": 2,
            "linecolor": "white",
            "showbackground": true,
            "ticks": "",
            "zerolinecolor": "white"
           },
           "yaxis": {
            "backgroundcolor": "#E5ECF6",
            "gridcolor": "white",
            "gridwidth": 2,
            "linecolor": "white",
            "showbackground": true,
            "ticks": "",
            "zerolinecolor": "white"
           },
           "zaxis": {
            "backgroundcolor": "#E5ECF6",
            "gridcolor": "white",
            "gridwidth": 2,
            "linecolor": "white",
            "showbackground": true,
            "ticks": "",
            "zerolinecolor": "white"
           }
          },
          "shapedefaults": {
           "line": {
            "color": "#2a3f5f"
           }
          },
          "ternary": {
           "aaxis": {
            "gridcolor": "white",
            "linecolor": "white",
            "ticks": ""
           },
           "baxis": {
            "gridcolor": "white",
            "linecolor": "white",
            "ticks": ""
           },
           "bgcolor": "#E5ECF6",
           "caxis": {
            "gridcolor": "white",
            "linecolor": "white",
            "ticks": ""
           }
          },
          "title": {
           "x": 0.05
          },
          "xaxis": {
           "automargin": true,
           "gridcolor": "white",
           "linecolor": "white",
           "ticks": "",
           "title": {
            "standoff": 15
           },
           "zerolinecolor": "white",
           "zerolinewidth": 2
          },
          "yaxis": {
           "automargin": true,
           "gridcolor": "white",
           "linecolor": "white",
           "ticks": "",
           "title": {
            "standoff": 15
           },
           "zerolinecolor": "white",
           "zerolinewidth": 2
          }
         }
        },
        "title": {
         "text": "Exploring Toronto Neighbourhoods using Primary Benchmarks"
        },
        "width": 800,
        "xaxis": {
         "anchor": "y",
         "domain": [
          0,
          1
         ],
         "title": {
          "text": "Unemployment Rate"
         }
        },
        "yaxis": {
         "anchor": "x",
         "domain": [
          0,
          1
         ],
         "title": {
          "text": "Covid-19 Rate"
         }
        }
       }
      },
      "text/html": [
       "<div>                            <div id=\"a35292a6-8d96-47df-8841-e8e9326346de\" class=\"plotly-graph-div\" style=\"height:600px; width:800px;\"></div>            <script type=\"text/javascript\">                require([\"plotly\"], function(Plotly) {                    window.PLOTLYENV=window.PLOTLYENV || {};                                    if (document.getElementById(\"a35292a6-8d96-47df-8841-e8e9326346de\")) {                    Plotly.newPlot(                        \"a35292a6-8d96-47df-8841-e8e9326346de\",                        [{\"customdata\": [[9.8, 735.0668086421873, 542.712877409], [9.8, 1384.8549901081788, 479.858568001], [8.8, 1411.882510013351, 971.29506008], [8.8, 1422.098604818088, 1112.556637208], [7.6, 748.39095943721, 441.550666068], [8.7, 1723.2434034983694, 1126.593536911], [9.7, 1418.2616881079384, 633.824913712], [9.7, 1311.842578890533, 1191.856977163], [10.8, 1391.815946610467, 943.976115209], [7.9, 504.1847332862761, 1804.981345165], [8.5, 1032.4955978869857, 856.411077317], [8.8, 872.3700608459791, 579.136426948], [9.1, 1886.351690708404, 1016.177071775], [10.9, 861.5006932921146, 475.075580206], [10.5, 1153.1259989952962, 915.650545737], [9.5, 1392.4431732650912, 391.389432485], [11.4, 1334.8610713262674, 1627.040962475], [14.6, 1820.151679306609, 1032.863849765], [8.2, 802.2195457673779, 1025.894700619], [13.0, 1572.5902894044489, 1219.803874671], [9.5, 629.4927506802583, 377.695650408], [9.1, 852.5832543904394, 575.675872623], [11.6, 2303.592289719626, 784.900700935], [9.0, 1604.7569581258729, 530.142923667], [10.6, 1237.7302047302983, 975.97457231]], \"hovertemplate\": \"<b>%{hovertext}</b><br><br>District=Scarborough<br>Unemployment Rate=%{customdata[0]:.2f}<br>Covid-19 Rate=%{customdata[2]:.2f}<br>Crime Rate=%{customdata[1]:.2f}<extra></extra>\", \"hovertext\": [\"Agincourt North\", \"Agincourt South-Malvern West\", \"Bendale\", \"Birchcliffe-Cliffside\", \"Centennial Scarborough\", \"Clairlea-Birchmount\", \"Cliffcrest\", \"Dorset Park\", \"Eglinton East\", \"Guildwood\", \"Highland Creek\", \"Ionview\", \"Kennedy Park\", \"L'Amoreaux\", \"Malvern\", \"Milliken\", \"Morningside\", \"Oakridge\", \"Rouge\", \"Scarborough Village\", \"Steeles\", \"Tam O'Shanter-Sullivan\", \"West Hill\", \"Wexford/Maryvale\", \"Woburn\"], \"legendgroup\": \"Scarborough\", \"marker\": {\"color\": \"#636efa\", \"size\": [735.0668086421873, 1384.8549901081788, 1411.882510013351, 1422.098604818088, 748.39095943721, 1723.2434034983694, 1418.2616881079384, 1311.842578890533, 1391.815946610467, 504.1847332862761, 1032.4955978869857, 872.3700608459791, 1886.351690708404, 861.5006932921146, 1153.1259989952962, 1392.4431732650912, 1334.8610713262674, 1820.151679306609, 802.2195457673779, 1572.5902894044489, 629.4927506802583, 852.5832543904394, 2303.592289719626, 1604.7569581258729, 1237.7302047302983], \"sizemode\": \"area\", \"sizeref\": 2.6244797342211768, \"symbol\": \"circle\"}, \"mode\": \"markers\", \"name\": \"Scarborough\", \"orientation\": \"v\", \"showlegend\": true, \"type\": \"scatter\", \"x\": [9.8, 9.8, 8.8, 8.8, 7.6, 8.7, 9.7, 9.7, 10.8, 7.9, 8.5, 8.8, 9.1, 10.9, 10.5, 9.5, 11.4, 14.6, 8.2, 13.0, 9.5, 9.1, 11.6, 9.0, 10.6], \"xaxis\": \"x\", \"y\": [542.712877409, 479.858568001, 971.29506008, 1112.556637208, 441.550666068, 1126.593536911, 633.824913712, 1191.856977163, 943.976115209, 1804.981345165, 856.411077317, 579.136426948, 1016.177071775, 475.075580206, 915.650545737, 391.389432485, 1627.040962475, 1032.863849765, 1025.894700619, 1219.803874671, 377.695650408, 575.675872623, 784.900700935, 530.142923667, 975.97457231], \"yaxis\": \"y\"}, {\"customdata\": [[6.1, 730.0481168076986, 696.864111498], [6.1, 791.7605407145155, 1017.058255552], [10.0, 1300.7614213197971, 1660.321489002], [7.4, 661.7172369270497, 715.515386271], [7.9, 734.3011478730588, 1316.677920324], [7.4, 739.8611618560468, 2082.572159299], [7.3, 1344.2511088365745, 1198.680768793], [9.9, 786.3636363636365, 2154.545454545], [7.5, 1046.2733254233633, 657.965699493], [7.1, 1309.0043633478779, 535.501785006], [6.2, 634.8303960583665, 464.278946371], [6.2, 1469.20268519609, 747.85066541], [12.1, 1392.85064028646, 2312.314134855], [8.7, 1526.6509639710373, 1099.188694059], [6.0, 977.2871233372546, 443.39878744], [10.9, 1472.1246082249027, 1814.037420458], [6.7, 822.3224621771586, 447.087940601], [10.4, 1418.918918918919, 1679.536679537], [9.6, 3043.9481268011527, 2176.392891451], [8.5, 983.9321177107781, 1105.795269904]], \"hovertemplate\": \"<b>%{hovertext}</b><br><br>District=Etobicoke<br>Unemployment Rate=%{customdata[0]:.2f}<br>Covid-19 Rate=%{customdata[2]:.2f}<br>Crime Rate=%{customdata[1]:.2f}<extra></extra>\", \"hovertext\": [\"Alderwood\", \"Edenbridge-Humber Valley\", \"Elms-Old Rexdale\", \"Eringate-Centennial-West Deane\", \"Etobicoke West Mall\", \"Humber Heights-Westmount\", \"Islington-City Centre West\", \"Kingsview Village-The Westway\", \"Kingsway South\", \"Long Branch\", \"Markland Wood\", \"Mimico (includes Humber Bay Shores)\", \"Mount Olive-Silverstone-Jamestown\", \"New Toronto\", \"Princess-Rosethorn\", \"Rexdale-Kipling\", \"Stonegate-Queensway\", \"Thistletown-Beaumond Heights\", \"West Humber-Clairville\", \"Willowridge-Martingrove-Richview\"], \"legendgroup\": \"Etobicoke\", \"marker\": {\"color\": \"#EF553B\", \"size\": [730.0481168076986, 791.7605407145155, 1300.7614213197971, 661.7172369270497, 734.3011478730588, 739.8611618560468, 1344.2511088365745, 786.3636363636365, 1046.2733254233633, 1309.0043633478779, 634.8303960583665, 1469.20268519609, 1392.85064028646, 1526.6509639710373, 977.2871233372546, 1472.1246082249027, 822.3224621771586, 1418.918918918919, 3043.9481268011527, 983.9321177107781], \"sizemode\": \"area\", \"sizeref\": 2.6244797342211768, \"symbol\": \"circle\"}, \"mode\": \"markers\", \"name\": \"Etobicoke\", \"orientation\": \"v\", \"showlegend\": true, \"type\": \"scatter\", \"x\": [6.1, 6.1, 10.0, 7.4, 7.9, 7.4, 7.3, 9.9, 7.5, 7.1, 6.2, 6.2, 12.1, 8.7, 6.0, 10.9, 6.7, 10.4, 9.6, 8.5], \"xaxis\": \"x\", \"y\": [696.864111498, 1017.058255552, 1660.321489002, 715.515386271, 1316.677920324, 2082.572159299, 1198.680768793, 2154.545454545, 657.965699493, 535.501785006, 464.278946371, 747.85066541, 2312.314134855, 1099.188694059, 443.39878744, 1814.037420458, 447.087940601, 1679.536679537, 2176.392891451, 1105.795269904], \"yaxis\": \"y\"}, {\"customdata\": [[6.7, 1978.6411583568108, 782.939133853], [10.2, 5314.571461797883, 488.42888708], [8.5, 1410.6380225184419, 375.307363789], [8.0, 2373.8109520952953, 865.541177479], [6.6, 911.7432530999271, 474.106491612], [8.5, 4537.332482450543, 749.840459477], [7.2, 1294.841859477818, 750.017689096], [6.2, 1500.103455410718, 537.968135733], [7.2, 1504.4368600682594, 554.266211604], [7.5, 1552.8213831141281, 823.080186678], [8.2, 1398.4378653945091, 350.778728778], [7.4, 968.296111197876, 491.956895205], [5.6, 941.1106969809914, 409.988818487], [7.2, 1505.1675105777902, 450.856627592], [7.1, 888.90894323617, 410.612760581], [6.0, 1028.2131661442006, 547.544409613], [5.6, 1252.958373938466, 682.166225811], [8.2, 4307.606575647813, 919.476177208], [6.4, 595.6048469911686, 253.303210789], [7.5, 902.5627511693788, 368.930759602], [6.4, 1144.0323928273026, 1054.052316987], [6.9, 5281.381059202185, 1472.739685946], [6.9, 763.0402384500745, 286.140089419], [6.7, 991.300829455796, 842.94288219], [4.5, 1581.1417575368828, 779.345734445], [5.3, 1418.2611614635784, 360.859348775], [10.4, 1993.0163846360463, 1488.047273704], [6.8, 1374.2224793866628, 433.964993491], [6.4, 1781.1378780112761, 820.092260379], [9.6, 2425.2522447468295, 777.561788392], [6.7, 1549.3522104981969, 560.972352077], [6.0, 1319.1224967738851, 301.104048177], [5.1, 1161.8669314796425, 347.567030785], [8.6, 1903.9772987322074, 1469.174790608], [6.5, 1757.784474099584, 294.159850768], [5.7, 848.5185700375574, 236.472388371], [6.1, 1751.6308287025852, 543.609567528], [8.3, 3194.4261864072564, 762.45563297], [5.2, 2139.1834691183835, 816.227451337], [8.5, 1486.754370156785, 928.09515228], [7.7, 1227.9722510166653, 303.006139861], [5.2, 961.7394940413967, 857.202592515], [6.9, 1565.5411695015653, 321.5706186], [5.9, 646.551724137931, 375.159642401]], \"hovertemplate\": \"<b>%{hovertext}</b><br><br>District=Old Toronto<br>Unemployment Rate=%{customdata[0]:.2f}<br>Covid-19 Rate=%{customdata[2]:.2f}<br>Crime Rate=%{customdata[1]:.2f}<extra></extra>\", \"hovertext\": [\"Annex\", \"Bay Street Corridor\", \"Blake-Jones\", \"Cabbagetown-South St. James Town\", \"Casa Loma\", \"Church-Yonge Corridor\", \"Corso Italia-Davenport\", \"Danforth\", \"Dovercourt-Wallace Emerson-Junction\", \"Dufferin Grove\", \"East End-Danforth\", \"Forest Hill North\", \"Forest Hill South\", \"Greenwood-Coxwell\", \"High Park North\", \"High Park-Swansea\", \"Junction Area\", \"Kensington-Chinatown\", \"Lawrence Park North\", \"Lawrence Park South\", \"Little Portugal\", \"Moss Park\", \"Mount Pleasant East\", \"Mount Pleasant West\", \"Niagara\", \"North Riverdale\", \"North St. James Town\", \"Palmerston-Little Italy\", \"Playter Estates-Danforth\", \"Regent Park\", \"Roncesvalles\", \"Rosedale-Moore Park\", \"Runnymede-Bloor West Village\", \"South Parkdale\", \"South Riverdale\", \"The Beaches\", \"Trinity-Bellwoods\", \"University\", \"Waterfront Communities-The Island\", \"Weston-Pelham Park\", \"Woodbine Corridor\", \"Wychwood\", \"Yonge-Eglinton\", \"Yonge-St.Clair\"], \"legendgroup\": \"Old Toronto\", \"marker\": {\"color\": \"#00cc96\", \"size\": [1978.6411583568108, 5314.571461797883, 1410.6380225184419, 2373.8109520952953, 911.7432530999271, 4537.332482450543, 1294.841859477818, 1500.103455410718, 1504.4368600682594, 1552.8213831141281, 1398.4378653945091, 968.296111197876, 941.1106969809914, 1505.1675105777902, 888.90894323617, 1028.2131661442006, 1252.958373938466, 4307.606575647813, 595.6048469911686, 902.5627511693788, 1144.0323928273026, 5281.381059202185, 763.0402384500745, 991.300829455796, 1581.1417575368828, 1418.2611614635784, 1993.0163846360463, 1374.2224793866628, 1781.1378780112761, 2425.2522447468295, 1549.3522104981969, 1319.1224967738851, 1161.8669314796425, 1903.9772987322074, 1757.784474099584, 848.5185700375574, 1751.6308287025852, 3194.4261864072564, 2139.1834691183835, 1486.754370156785, 1227.9722510166653, 961.7394940413967, 1565.5411695015653, 646.551724137931], \"sizemode\": \"area\", \"sizeref\": 2.6244797342211768, \"symbol\": \"circle\"}, \"mode\": \"markers\", \"name\": \"Old Toronto\", \"orientation\": \"v\", \"showlegend\": true, \"type\": \"scatter\", \"x\": [6.7, 10.2, 8.5, 8.0, 6.6, 8.5, 7.2, 6.2, 7.2, 7.5, 8.2, 7.4, 5.6, 7.2, 7.1, 6.0, 5.6, 8.2, 6.4, 7.5, 6.4, 6.9, 6.9, 6.7, 4.5, 5.3, 10.4, 6.8, 6.4, 9.6, 6.7, 6.0, 5.1, 8.6, 6.5, 5.7, 6.1, 8.3, 5.2, 8.5, 7.7, 5.2, 6.9, 5.9], \"xaxis\": \"x\", \"y\": [782.939133853, 488.42888708, 375.307363789, 865.541177479, 474.106491612, 749.840459477, 750.017689096, 537.968135733, 554.266211604, 823.080186678, 350.778728778, 491.956895205, 409.988818487, 450.856627592, 410.612760581, 547.544409613, 682.166225811, 919.476177208, 253.303210789, 368.930759602, 1054.052316987, 1472.739685946, 286.140089419, 842.94288219, 779.345734445, 360.859348775, 1488.047273704, 433.964993491, 820.092260379, 777.561788392, 560.972352077, 301.104048177, 347.567030785, 1469.174790608, 294.159850768, 236.472388371, 543.609567528, 762.45563297, 816.227451337, 928.09515228, 303.006139861, 857.202592515, 321.5706186, 375.159642401], \"yaxis\": \"y\"}, {\"customdata\": [[7.2, 797.9779743636036, 314.136125654], [7.2, 711.9007119007119, 1310.401310401], [7.7, 780.5197233127687, 364.554122266], [8.0, 691.8047742131671, 1087.121788049], [5.5, 1075.9166810122224, 710.105009468], [12.7, 1674.5641072825138, 2014.997469752], [8.0, 1316.6414849989208, 345.348586229], [10.0, 1193.8953652080868, 1588.106099003], [6.1, 1189.898008742108, 679.941719281], [9.6, 913.0900890909763, 428.819636982], [7.9, 2279.4705009699874, 1968.503937008], [8.9, 871.625245843018, 1256.034328625], [10.6, 875.3932430584052, 1048.648155747], [11.5, 1744.7771473549572, 2397.428749467], [10.3, 1055.7781593843415, 852.25465878], [8.3, 915.3182945553324, 572.812094012], [9.6, 2923.646907216495, 1675.257731959], [10.2, 2090.7044065615955, 1884.850434223], [7.2, 1020.7869339272457, 519.673348181], [8.1, 801.1077044802689, 2423.103550588], [8.8, 1031.248058644468, 291.979872026], [8.4, 1292.4342243296546, 1477.067684948], [9.2, 861.94512282718, 551.644878609], [6.0, 1762.7308337996642, 1594.851706771], [10.0, 625.8692628650904, 354.027057782], [9.1, 1156.825269087617, 1549.139925561], [8.3, 1089.153379743993, 247.02447788], [10.1, 1313.535122786979, 713.877784123], [9.2, 776.4329755651976, 1339.72748725], [8.5, 747.5115993179205, 281.556093112], [9.8, 1192.7255550307038, 501.889466226], [10.7, 2641.9744138006013, 2308.556517957], [8.0, 2877.6006484733857, 2168.332883005]], \"hovertemplate\": \"<b>%{hovertext}</b><br><br>District=North York<br>Unemployment Rate=%{customdata[0]:.2f}<br>Covid-19 Rate=%{customdata[2]:.2f}<br>Crime Rate=%{customdata[1]:.2f}<extra></extra>\", \"hovertext\": [\"Banbury-Don Mills\", \"Bathurst Manor\", \"Bayview Village\", \"Bayview Woods-Steeles\", \"Bedford Park-Nortown\", \"Black Creek\", \"Bridle Path-Sunnybrook-York Mills\", \"Brookhaven-Amesbury\", \"Clanton Park\", \"Don Valley Village\", \"Downsview-Roding-CFB\", \"Englemount-Lawrence\", \"Flemingdon Park\", \"Glenfield-Jane Heights\", \"Henry Farm\", \"Hillcrest Village\", \"Humber Summit\", \"Humbermede\", \"Lansing-Westgate\", \"Maple Leaf\", \"Newtonbrook East\", \"Newtonbrook West\", \"Parkwoods-Donalda\", \"Pelmo Park-Humberlea\", \"Pleasant View\", \"Rustic\", \"St.Andrew-Windfields\", \"Victoria Village\", \"Westminster-Branson\", \"Willowdale East\", \"Willowdale West\", \"York University Heights\", \"Yorkdale-Glen Park\"], \"legendgroup\": \"North York\", \"marker\": {\"color\": \"#ab63fa\", \"size\": [797.9779743636036, 711.9007119007119, 780.5197233127687, 691.8047742131671, 1075.9166810122224, 1674.5641072825138, 1316.6414849989208, 1193.8953652080868, 1189.898008742108, 913.0900890909763, 2279.4705009699874, 871.625245843018, 875.3932430584052, 1744.7771473549572, 1055.7781593843415, 915.3182945553324, 2923.646907216495, 2090.7044065615955, 1020.7869339272457, 801.1077044802689, 1031.248058644468, 1292.4342243296546, 861.94512282718, 1762.7308337996642, 625.8692628650904, 1156.825269087617, 1089.153379743993, 1313.535122786979, 776.4329755651976, 747.5115993179205, 1192.7255550307038, 2641.9744138006013, 2877.6006484733857], \"sizemode\": \"area\", \"sizeref\": 2.6244797342211768, \"symbol\": \"circle\"}, \"mode\": \"markers\", \"name\": \"North York\", \"orientation\": \"v\", \"showlegend\": true, \"type\": \"scatter\", \"x\": [7.2, 7.2, 7.7, 8.0, 5.5, 12.7, 8.0, 10.0, 6.1, 9.6, 7.9, 8.9, 10.6, 11.5, 10.3, 8.3, 9.6, 10.2, 7.2, 8.1, 8.8, 8.4, 9.2, 6.0, 10.0, 9.1, 8.3, 10.1, 9.2, 8.5, 9.8, 10.7, 8.0], \"xaxis\": \"x\", \"y\": [314.136125654, 1310.401310401, 364.554122266, 1087.121788049, 710.105009468, 2014.997469752, 345.348586229, 1588.106099003, 679.941719281, 428.819636982, 1968.503937008, 1256.034328625, 1048.648155747, 2397.428749467, 852.25465878, 572.812094012, 1675.257731959, 1884.850434223, 519.673348181, 2423.103550588, 291.979872026, 1477.067684948, 551.644878609, 1594.851706771, 354.027057782, 1549.139925561, 247.02447788, 713.877784123, 1339.72748725, 281.556093112, 501.889466226, 2308.556517957, 2168.332883005], \"yaxis\": \"y\"}, {\"customdata\": [[11.4, 1596.4725558765394, 2174.243576099], [8.7, 1276.5658974538824, 1080.171143999], [7.2, 1215.4696132596684, 743.345052737], [7.1, 710.059171597633, 334.145492517], [8.6, 1202.749140893471, 1094.230421414], [7.6, 763.9323731997496, 413.27489042], [10.8, 1074.0822482159936, 2192.304862797], [6.8, 1343.7057991513439, 928.807166431], [9.2, 1128.292726782343, 1137.283107075], [10.6, 1861.9386393952868, 2812.361049355]], \"hovertemplate\": \"<b>%{hovertext}</b><br><br>District=York<br>Unemployment Rate=%{customdata[0]:.2f}<br>Covid-19 Rate=%{customdata[2]:.2f}<br>Crime Rate=%{customdata[1]:.2f}<extra></extra>\", \"hovertext\": [\"Beechborough-Greenbrook\", \"Briar Hill-Belgravia\", \"Caledonia-Fairbank\", \"Humewood-Cedarvale\", \"Keelesdale-Eglinton West\", \"Lambton Baby Point\", \"Mount Dennis\", \"Oakwood Village\", \"Rockcliffe-Smythe\", \"Weston\"], \"legendgroup\": \"York\", \"marker\": {\"color\": \"#FFA15A\", \"size\": [1596.4725558765394, 1276.5658974538824, 1215.4696132596684, 710.059171597633, 1202.749140893471, 763.9323731997496, 1074.0822482159936, 1343.7057991513439, 1128.292726782343, 1861.9386393952868], \"sizemode\": \"area\", \"sizeref\": 2.6244797342211768, \"symbol\": \"circle\"}, \"mode\": \"markers\", \"name\": \"York\", \"orientation\": \"v\", \"showlegend\": true, \"type\": \"scatter\", \"x\": [11.4, 8.7, 7.2, 7.1, 8.6, 7.6, 10.8, 6.8, 9.2, 10.6], \"xaxis\": \"x\", \"y\": [2174.243576099, 1080.171143999, 743.345052737, 334.145492517, 1094.230421414, 413.27489042, 2192.304862797, 928.807166431, 1137.283107075, 2812.361049355], \"yaxis\": \"y\"}, {\"customdata\": [[8.2, 1008.783372467171, 426.124010784], [6.9, 750.8731082654249, 378.346915017], [6.9, 689.3273116234847, 291.181364393], [10.1, 1344.0428380187418, 578.313253012], [5.0, 801.4729773638037, 476.551500054], [11.5, 1364.534846649238, 835.299368743], [12.6, 819.5944665529657, 980.670835702], [6.6, 699.3006993006993, 445.009535919]], \"hovertemplate\": \"<b>%{hovertext}</b><br><br>District=East York<br>Unemployment Rate=%{customdata[0]:.2f}<br>Covid-19 Rate=%{customdata[2]:.2f}<br>Crime Rate=%{customdata[1]:.2f}<extra></extra>\", \"hovertext\": [\"Broadview North\", \"Danforth East York\", \"Leaside-Bennington\", \"O'Connor-Parkview\", \"Old East York\", \"Taylor-Massey\", \"Thorncliffe Park\", \"Woodbine-Lumsden\"], \"legendgroup\": \"East York\", \"marker\": {\"color\": \"#19d3f3\", \"size\": [1008.783372467171, 750.8731082654249, 689.3273116234847, 1344.0428380187418, 801.4729773638037, 1364.534846649238, 819.5944665529657, 699.3006993006993], \"sizemode\": \"area\", \"sizeref\": 2.6244797342211768, \"symbol\": \"circle\"}, \"mode\": \"markers\", \"name\": \"East York\", \"orientation\": \"v\", \"showlegend\": true, \"type\": \"scatter\", \"x\": [8.2, 6.9, 6.9, 10.1, 5.0, 11.5, 12.6, 6.6], \"xaxis\": \"x\", \"y\": [426.124010784, 378.346915017, 291.181364393, 578.313253012, 476.551500054, 835.299368743, 980.670835702, 445.009535919], \"yaxis\": \"y\"}],                        {\"height\": 600, \"legend\": {\"itemsizing\": \"constant\", \"title\": {\"text\": \"District\"}, \"tracegroupgap\": 0}, \"margin\": {\"b\": 0, \"l\": 0, \"r\": 0, \"t\": 75}, \"template\": {\"data\": {\"bar\": [{\"error_x\": {\"color\": \"#2a3f5f\"}, \"error_y\": {\"color\": \"#2a3f5f\"}, \"marker\": {\"line\": {\"color\": \"#E5ECF6\", \"width\": 0.5}}, \"type\": \"bar\"}], \"barpolar\": [{\"marker\": {\"line\": {\"color\": \"#E5ECF6\", \"width\": 0.5}}, \"type\": \"barpolar\"}], \"carpet\": [{\"aaxis\": {\"endlinecolor\": \"#2a3f5f\", \"gridcolor\": \"white\", \"linecolor\": \"white\", \"minorgridcolor\": \"white\", \"startlinecolor\": \"#2a3f5f\"}, \"baxis\": {\"endlinecolor\": \"#2a3f5f\", \"gridcolor\": \"white\", \"linecolor\": \"white\", \"minorgridcolor\": \"white\", \"startlinecolor\": \"#2a3f5f\"}, \"type\": \"carpet\"}], \"choropleth\": [{\"colorbar\": {\"outlinewidth\": 0, \"ticks\": \"\"}, \"type\": \"choropleth\"}], \"contour\": [{\"colorbar\": {\"outlinewidth\": 0, \"ticks\": \"\"}, \"colorscale\": [[0.0, \"#0d0887\"], [0.1111111111111111, \"#46039f\"], [0.2222222222222222, \"#7201a8\"], [0.3333333333333333, \"#9c179e\"], [0.4444444444444444, \"#bd3786\"], [0.5555555555555556, \"#d8576b\"], [0.6666666666666666, \"#ed7953\"], [0.7777777777777778, \"#fb9f3a\"], [0.8888888888888888, \"#fdca26\"], [1.0, \"#f0f921\"]], \"type\": \"contour\"}], \"contourcarpet\": [{\"colorbar\": {\"outlinewidth\": 0, \"ticks\": \"\"}, \"type\": \"contourcarpet\"}], \"heatmap\": [{\"colorbar\": {\"outlinewidth\": 0, \"ticks\": \"\"}, \"colorscale\": [[0.0, \"#0d0887\"], [0.1111111111111111, \"#46039f\"], [0.2222222222222222, \"#7201a8\"], [0.3333333333333333, \"#9c179e\"], [0.4444444444444444, \"#bd3786\"], [0.5555555555555556, \"#d8576b\"], [0.6666666666666666, \"#ed7953\"], [0.7777777777777778, \"#fb9f3a\"], [0.8888888888888888, \"#fdca26\"], [1.0, \"#f0f921\"]], \"type\": \"heatmap\"}], \"heatmapgl\": [{\"colorbar\": {\"outlinewidth\": 0, \"ticks\": \"\"}, \"colorscale\": [[0.0, \"#0d0887\"], [0.1111111111111111, \"#46039f\"], [0.2222222222222222, \"#7201a8\"], [0.3333333333333333, \"#9c179e\"], [0.4444444444444444, \"#bd3786\"], [0.5555555555555556, \"#d8576b\"], [0.6666666666666666, \"#ed7953\"], [0.7777777777777778, \"#fb9f3a\"], [0.8888888888888888, \"#fdca26\"], [1.0, \"#f0f921\"]], \"type\": \"heatmapgl\"}], \"histogram\": [{\"marker\": {\"colorbar\": {\"outlinewidth\": 0, \"ticks\": \"\"}}, \"type\": \"histogram\"}], \"histogram2d\": [{\"colorbar\": {\"outlinewidth\": 0, \"ticks\": \"\"}, \"colorscale\": [[0.0, \"#0d0887\"], [0.1111111111111111, \"#46039f\"], [0.2222222222222222, \"#7201a8\"], [0.3333333333333333, \"#9c179e\"], [0.4444444444444444, \"#bd3786\"], [0.5555555555555556, \"#d8576b\"], [0.6666666666666666, \"#ed7953\"], [0.7777777777777778, \"#fb9f3a\"], [0.8888888888888888, \"#fdca26\"], [1.0, \"#f0f921\"]], \"type\": \"histogram2d\"}], \"histogram2dcontour\": [{\"colorbar\": {\"outlinewidth\": 0, \"ticks\": \"\"}, \"colorscale\": [[0.0, \"#0d0887\"], [0.1111111111111111, \"#46039f\"], [0.2222222222222222, \"#7201a8\"], [0.3333333333333333, \"#9c179e\"], [0.4444444444444444, \"#bd3786\"], [0.5555555555555556, \"#d8576b\"], [0.6666666666666666, \"#ed7953\"], [0.7777777777777778, \"#fb9f3a\"], [0.8888888888888888, \"#fdca26\"], [1.0, \"#f0f921\"]], \"type\": \"histogram2dcontour\"}], \"mesh3d\": [{\"colorbar\": {\"outlinewidth\": 0, \"ticks\": \"\"}, \"type\": \"mesh3d\"}], \"parcoords\": [{\"line\": {\"colorbar\": {\"outlinewidth\": 0, \"ticks\": \"\"}}, \"type\": \"parcoords\"}], \"pie\": [{\"automargin\": true, \"type\": \"pie\"}], \"scatter\": [{\"marker\": {\"colorbar\": {\"outlinewidth\": 0, \"ticks\": \"\"}}, \"type\": \"scatter\"}], \"scatter3d\": [{\"line\": {\"colorbar\": {\"outlinewidth\": 0, \"ticks\": \"\"}}, \"marker\": {\"colorbar\": {\"outlinewidth\": 0, \"ticks\": \"\"}}, \"type\": \"scatter3d\"}], \"scattercarpet\": [{\"marker\": {\"colorbar\": {\"outlinewidth\": 0, \"ticks\": \"\"}}, \"type\": \"scattercarpet\"}], \"scattergeo\": [{\"marker\": {\"colorbar\": {\"outlinewidth\": 0, \"ticks\": \"\"}}, \"type\": \"scattergeo\"}], \"scattergl\": [{\"marker\": {\"colorbar\": {\"outlinewidth\": 0, \"ticks\": \"\"}}, \"type\": \"scattergl\"}], \"scattermapbox\": [{\"marker\": {\"colorbar\": {\"outlinewidth\": 0, \"ticks\": \"\"}}, \"type\": \"scattermapbox\"}], \"scatterpolar\": [{\"marker\": {\"colorbar\": {\"outlinewidth\": 0, \"ticks\": \"\"}}, \"type\": \"scatterpolar\"}], \"scatterpolargl\": [{\"marker\": {\"colorbar\": {\"outlinewidth\": 0, \"ticks\": \"\"}}, \"type\": \"scatterpolargl\"}], \"scatterternary\": [{\"marker\": {\"colorbar\": {\"outlinewidth\": 0, \"ticks\": \"\"}}, \"type\": \"scatterternary\"}], \"surface\": [{\"colorbar\": {\"outlinewidth\": 0, \"ticks\": \"\"}, \"colorscale\": [[0.0, \"#0d0887\"], [0.1111111111111111, \"#46039f\"], [0.2222222222222222, \"#7201a8\"], [0.3333333333333333, \"#9c179e\"], [0.4444444444444444, \"#bd3786\"], [0.5555555555555556, \"#d8576b\"], [0.6666666666666666, \"#ed7953\"], [0.7777777777777778, \"#fb9f3a\"], [0.8888888888888888, \"#fdca26\"], [1.0, \"#f0f921\"]], \"type\": \"surface\"}], \"table\": [{\"cells\": {\"fill\": {\"color\": \"#EBF0F8\"}, \"line\": {\"color\": \"white\"}}, \"header\": {\"fill\": {\"color\": \"#C8D4E3\"}, \"line\": {\"color\": \"white\"}}, \"type\": \"table\"}]}, \"layout\": {\"annotationdefaults\": {\"arrowcolor\": \"#2a3f5f\", \"arrowhead\": 0, \"arrowwidth\": 1}, \"coloraxis\": {\"colorbar\": {\"outlinewidth\": 0, \"ticks\": \"\"}}, \"colorscale\": {\"diverging\": [[0, \"#8e0152\"], [0.1, \"#c51b7d\"], [0.2, \"#de77ae\"], [0.3, \"#f1b6da\"], [0.4, \"#fde0ef\"], [0.5, \"#f7f7f7\"], [0.6, \"#e6f5d0\"], [0.7, \"#b8e186\"], [0.8, \"#7fbc41\"], [0.9, \"#4d9221\"], [1, \"#276419\"]], \"sequential\": [[0.0, \"#0d0887\"], [0.1111111111111111, \"#46039f\"], [0.2222222222222222, \"#7201a8\"], [0.3333333333333333, \"#9c179e\"], [0.4444444444444444, \"#bd3786\"], [0.5555555555555556, \"#d8576b\"], [0.6666666666666666, \"#ed7953\"], [0.7777777777777778, \"#fb9f3a\"], [0.8888888888888888, \"#fdca26\"], [1.0, \"#f0f921\"]], \"sequentialminus\": [[0.0, \"#0d0887\"], [0.1111111111111111, \"#46039f\"], [0.2222222222222222, \"#7201a8\"], [0.3333333333333333, \"#9c179e\"], [0.4444444444444444, \"#bd3786\"], [0.5555555555555556, \"#d8576b\"], [0.6666666666666666, \"#ed7953\"], [0.7777777777777778, \"#fb9f3a\"], [0.8888888888888888, \"#fdca26\"], [1.0, \"#f0f921\"]]}, \"colorway\": [\"#636efa\", \"#EF553B\", \"#00cc96\", \"#ab63fa\", \"#FFA15A\", \"#19d3f3\", \"#FF6692\", \"#B6E880\", \"#FF97FF\", \"#FECB52\"], \"font\": {\"color\": \"#2a3f5f\"}, \"geo\": {\"bgcolor\": \"white\", \"lakecolor\": \"white\", \"landcolor\": \"#E5ECF6\", \"showlakes\": true, \"showland\": true, \"subunitcolor\": \"white\"}, \"hoverlabel\": {\"align\": \"left\"}, \"hovermode\": \"closest\", \"mapbox\": {\"style\": \"light\"}, \"paper_bgcolor\": \"white\", \"plot_bgcolor\": \"#E5ECF6\", \"polar\": {\"angularaxis\": {\"gridcolor\": \"white\", \"linecolor\": \"white\", \"ticks\": \"\"}, \"bgcolor\": \"#E5ECF6\", \"radialaxis\": {\"gridcolor\": \"white\", \"linecolor\": \"white\", \"ticks\": \"\"}}, \"scene\": {\"xaxis\": {\"backgroundcolor\": \"#E5ECF6\", \"gridcolor\": \"white\", \"gridwidth\": 2, \"linecolor\": \"white\", \"showbackground\": true, \"ticks\": \"\", \"zerolinecolor\": \"white\"}, \"yaxis\": {\"backgroundcolor\": \"#E5ECF6\", \"gridcolor\": \"white\", \"gridwidth\": 2, \"linecolor\": \"white\", \"showbackground\": true, \"ticks\": \"\", \"zerolinecolor\": \"white\"}, \"zaxis\": {\"backgroundcolor\": \"#E5ECF6\", \"gridcolor\": \"white\", \"gridwidth\": 2, \"linecolor\": \"white\", \"showbackground\": true, \"ticks\": \"\", \"zerolinecolor\": \"white\"}}, \"shapedefaults\": {\"line\": {\"color\": \"#2a3f5f\"}}, \"ternary\": {\"aaxis\": {\"gridcolor\": \"white\", \"linecolor\": \"white\", \"ticks\": \"\"}, \"baxis\": {\"gridcolor\": \"white\", \"linecolor\": \"white\", \"ticks\": \"\"}, \"bgcolor\": \"#E5ECF6\", \"caxis\": {\"gridcolor\": \"white\", \"linecolor\": \"white\", \"ticks\": \"\"}}, \"title\": {\"x\": 0.05}, \"xaxis\": {\"automargin\": true, \"gridcolor\": \"white\", \"linecolor\": \"white\", \"ticks\": \"\", \"title\": {\"standoff\": 15}, \"zerolinecolor\": \"white\", \"zerolinewidth\": 2}, \"yaxis\": {\"automargin\": true, \"gridcolor\": \"white\", \"linecolor\": \"white\", \"ticks\": \"\", \"title\": {\"standoff\": 15}, \"zerolinecolor\": \"white\", \"zerolinewidth\": 2}}}, \"title\": {\"text\": \"Exploring Toronto Neighbourhoods using Primary Benchmarks\"}, \"width\": 800, \"xaxis\": {\"anchor\": \"y\", \"domain\": [0.0, 1.0], \"title\": {\"text\": \"Unemployment Rate\"}}, \"yaxis\": {\"anchor\": \"x\", \"domain\": [0.0, 1.0], \"title\": {\"text\": \"Covid-19 Rate\"}}},                        {\"responsive\": true}                    ).then(function(){\n",
       "                            \n",
       "var gd = document.getElementById('a35292a6-8d96-47df-8841-e8e9326346de');\n",
       "var x = new MutationObserver(function (mutations, observer) {{\n",
       "        var display = window.getComputedStyle(gd).display;\n",
       "        if (!display || display === 'none') {{\n",
       "            console.log([gd, 'removed!']);\n",
       "            Plotly.purge(gd);\n",
       "            observer.disconnect();\n",
       "        }}\n",
       "}});\n",
       "\n",
       "// Listen for the removal of the full notebook cells\n",
       "var notebookContainer = gd.closest('#notebook-container');\n",
       "if (notebookContainer) {{\n",
       "    x.observe(notebookContainer, {childList: true});\n",
       "}}\n",
       "\n",
       "// Listen for the clearing of the current output cell\n",
       "var outputEl = gd.closest('.output');\n",
       "if (outputEl) {{\n",
       "    x.observe(outputEl, {childList: true});\n",
       "}}\n",
       "\n",
       "                        })                };                });            </script>        </div>"
      ]
     },
     "metadata": {},
     "output_type": "display_data"
    }
   ],
   "source": [
    "bubble_chart = px.scatter(bubble_data, # Dataframe\n",
    "                        x=\"Unemployment Rate\", # Column name for x-values\n",
    "                        y=\"Covid-19 Rate\", # Column name for y-values\n",
    "                        size=\"Crime Rate\", # column name for size of bubble\n",
    "                        color=\"District\", # Column name for Legend\n",
    "                        hover_data=({\n",
    "                        'Unemployment Rate': ':.2f', # Set the no. of decimal places\n",
    "                        'Crime Rate': ':.2f',\n",
    "                        'Covid-19 Rate': ':.2f'}),\n",
    "                        hover_name=\"Neighbourhood Name\",\n",
    "                        size_max=45, # maximum bubble size\n",
    "                        title='Exploring Toronto Neighbourhoods using Primary Benchmarks')\n",
    "bubble_chart.update_layout(width=800,\n",
    "                           height=600,\n",
    "                           margin={\"r\": 0,\"t\": 75, \"l\": 0, \"b\": 0})\n",
    "bubble_chart.show()"
   ]
  },
  {
   "cell_type": "markdown",
   "metadata": {
    "deletable": false,
    "editable": false
   },
   "source": [
    "We can see that Neighbourhoods with highest crime rate are in Old Toronto while the neighbourhood with the highest unemployment rate is in Oakridge, Scarborough District. Hover on the plot and Click/Tap on the legend on the Bubble chart to isolate a district and explore further."
   ]
  },
  {
   "cell_type": "markdown",
   "metadata": {
    "deletable": false,
    "editable": false
   },
   "source": [
    "## 11. Clustering Neighbourhoods by Primary Benchmarks"
   ]
  },
  {
   "cell_type": "markdown",
   "metadata": {
    "deletable": false,
    "editable": false
   },
   "source": [
    "### Determine Optimum Number of Clusters with Elbow Method"
   ]
  },
  {
   "cell_type": "code",
   "execution_count": 50,
   "metadata": {},
   "outputs": [],
   "source": [
    "Cluster_data=cluster_data.copy(deep=True) # make a new dataframe for clustering\n",
    "# Drop columns not required for the clustering algorithm\n",
    "Clustering_1 = Cluster_data.drop(labels=['Neighbourhood Name','Neighbourhood ID'], axis=1)\n",
    "\n",
    "# Use Elbow Method to get optimum number of clusters. Same process as used for Clustering in Section 8\n",
    "distortions = []\n",
    "K = range(1,10)\n",
    "for k in K:\n",
    "    kmeanModel = KMeans(n_clusters=k)\n",
    "    kmeanModel.fit(Clustering_1)\n",
    "    distortions.append(kmeanModel.inertia_)"
   ]
  },
  {
   "cell_type": "code",
   "execution_count": 51,
   "metadata": {},
   "outputs": [
    {
     "name": "stdout",
     "output_type": "stream",
     "text": [
      "The optimum number of clusters is: 3\n"
     ]
    }
   ],
   "source": [
    "from kneed import KneeLocator\n",
    "kl = KneeLocator(range(1, 10), distortions, curve=\"convex\", direction=\"decreasing\")\n",
    "print('The optimum number of clusters is: ' + str(kl.elbow))"
   ]
  },
  {
   "cell_type": "code",
   "execution_count": 52,
   "metadata": {},
   "outputs": [
    {
     "data": {
      "text/plain": [
       "array([1, 1, 1, 1, 1, 1, 2, 1, 1, 1])"
      ]
     },
     "execution_count": 52,
     "metadata": {},
     "output_type": "execute_result"
    }
   ],
   "source": [
    "# set number of clusters\n",
    "kclusters = 3\n",
    "\n",
    "# run k-means clustering\n",
    "kmeans = KMeans(n_clusters=kclusters, random_state=0).fit(Clustering_1)\n",
    "\n",
    "# check cluster labels generated for each row in the dataframe\n",
    "kmeans.labels_[0:10] "
   ]
  },
  {
   "cell_type": "markdown",
   "metadata": {
    "deletable": false,
    "editable": false
   },
   "source": [
    "### Analyzing Neighbourhood Clusters based on Primary Benchmarks"
   ]
  },
  {
   "cell_type": "code",
   "execution_count": 53,
   "metadata": {},
   "outputs": [
    {
     "data": {
      "text/html": [
       "<div>\n",
       "<style scoped>\n",
       "    .dataframe tbody tr th:only-of-type {\n",
       "        vertical-align: middle;\n",
       "    }\n",
       "\n",
       "    .dataframe tbody tr th {\n",
       "        vertical-align: top;\n",
       "    }\n",
       "\n",
       "    .dataframe thead th {\n",
       "        text-align: right;\n",
       "    }\n",
       "</style>\n",
       "<table border=\"1\" class=\"dataframe\">\n",
       "  <thead>\n",
       "    <tr style=\"text-align: right;\">\n",
       "      <th></th>\n",
       "      <th>Neighbourhood Name</th>\n",
       "      <th>Neighbourhood ID</th>\n",
       "      <th>Cluster Labels</th>\n",
       "      <th>Unemployment Rate</th>\n",
       "      <th>Crime Rate</th>\n",
       "      <th>Covid-19 Rate</th>\n",
       "    </tr>\n",
       "  </thead>\n",
       "  <tbody>\n",
       "    <tr>\n",
       "      <th>0</th>\n",
       "      <td>Agincourt North</td>\n",
       "      <td>129</td>\n",
       "      <td>1</td>\n",
       "      <td>9.80</td>\n",
       "      <td>735.07</td>\n",
       "      <td>542.71</td>\n",
       "    </tr>\n",
       "    <tr>\n",
       "      <th>1</th>\n",
       "      <td>Agincourt South-Malvern West</td>\n",
       "      <td>128</td>\n",
       "      <td>1</td>\n",
       "      <td>9.80</td>\n",
       "      <td>1,384.85</td>\n",
       "      <td>479.86</td>\n",
       "    </tr>\n",
       "    <tr>\n",
       "      <th>2</th>\n",
       "      <td>Alderwood</td>\n",
       "      <td>20</td>\n",
       "      <td>1</td>\n",
       "      <td>6.10</td>\n",
       "      <td>730.05</td>\n",
       "      <td>696.86</td>\n",
       "    </tr>\n",
       "    <tr>\n",
       "      <th>3</th>\n",
       "      <td>Annex</td>\n",
       "      <td>95</td>\n",
       "      <td>1</td>\n",
       "      <td>6.70</td>\n",
       "      <td>1,978.64</td>\n",
       "      <td>782.94</td>\n",
       "    </tr>\n",
       "    <tr>\n",
       "      <th>4</th>\n",
       "      <td>Banbury-Don Mills</td>\n",
       "      <td>42</td>\n",
       "      <td>1</td>\n",
       "      <td>7.20</td>\n",
       "      <td>797.98</td>\n",
       "      <td>314.14</td>\n",
       "    </tr>\n",
       "  </tbody>\n",
       "</table>\n",
       "</div>"
      ],
      "text/plain": [
       "             Neighbourhood Name  Neighbourhood ID  Cluster Labels  \\\n",
       "0               Agincourt North               129               1   \n",
       "1  Agincourt South-Malvern West               128               1   \n",
       "2                     Alderwood                20               1   \n",
       "3                         Annex                95               1   \n",
       "4             Banbury-Don Mills                42               1   \n",
       "\n",
       "   Unemployment Rate  Crime Rate  Covid-19 Rate  \n",
       "0               9.80      735.07         542.71  \n",
       "1               9.80    1,384.85         479.86  \n",
       "2               6.10      730.05         696.86  \n",
       "3               6.70    1,978.64         782.94  \n",
       "4               7.20      797.98         314.14  "
      ]
     },
     "execution_count": 53,
     "metadata": {},
     "output_type": "execute_result"
    }
   ],
   "source": [
    "# add clustering labels to original dataframe\n",
    "Cluster_data.insert(2, 'Cluster Labels', kmeans.labels_)\n",
    "Cluster_data.head()"
   ]
  },
  {
   "cell_type": "code",
   "execution_count": 54,
   "metadata": {},
   "outputs": [
    {
     "data": {
      "text/html": [
       "<div>\n",
       "<style scoped>\n",
       "    .dataframe tbody tr th:only-of-type {\n",
       "        vertical-align: middle;\n",
       "    }\n",
       "\n",
       "    .dataframe tbody tr th {\n",
       "        vertical-align: top;\n",
       "    }\n",
       "\n",
       "    .dataframe thead th {\n",
       "        text-align: right;\n",
       "    }\n",
       "</style>\n",
       "<table border=\"1\" class=\"dataframe\">\n",
       "  <thead>\n",
       "    <tr style=\"text-align: right;\">\n",
       "      <th></th>\n",
       "      <th>Neighbourhood ID</th>\n",
       "      <th>Unemployment Rate</th>\n",
       "      <th>Crime Rate</th>\n",
       "      <th>Covid-19 Rate</th>\n",
       "    </tr>\n",
       "    <tr>\n",
       "      <th>Cluster Labels</th>\n",
       "      <th></th>\n",
       "      <th></th>\n",
       "      <th></th>\n",
       "      <th></th>\n",
       "    </tr>\n",
       "  </thead>\n",
       "  <tbody>\n",
       "    <tr>\n",
       "      <th>0</th>\n",
       "      <td>43.27</td>\n",
       "      <td>9.75</td>\n",
       "      <td>1,648.58</td>\n",
       "      <td>1,942.23</td>\n",
       "    </tr>\n",
       "    <tr>\n",
       "      <th>1</th>\n",
       "      <td>76.73</td>\n",
       "      <td>7.95</td>\n",
       "      <td>1,169.51</td>\n",
       "      <td>669.09</td>\n",
       "    </tr>\n",
       "    <tr>\n",
       "      <th>2</th>\n",
       "      <td>76.20</td>\n",
       "      <td>8.42</td>\n",
       "      <td>4,527.06</td>\n",
       "      <td>878.59</td>\n",
       "    </tr>\n",
       "  </tbody>\n",
       "</table>\n",
       "</div>"
      ],
      "text/plain": [
       "                Neighbourhood ID  Unemployment Rate  Crime Rate  Covid-19 Rate\n",
       "Cluster Labels                                                                \n",
       "0                          43.27               9.75    1,648.58       1,942.23\n",
       "1                          76.73               7.95    1,169.51         669.09\n",
       "2                          76.20               8.42    4,527.06         878.59"
      ]
     },
     "execution_count": 54,
     "metadata": {},
     "output_type": "execute_result"
    }
   ],
   "source": [
    "# Get the mean rate of each Cluster\n",
    "Cluster_data.groupby('Cluster Labels').mean()"
   ]
  },
  {
   "cell_type": "markdown",
   "metadata": {},
   "source": [
    "We can see from the above that Cluster 1 have the lowest primary benchmarks. This cluster was then used in the second clustering attempt using Secondary benchmark"
   ]
  },
  {
   "cell_type": "markdown",
   "metadata": {},
   "source": [
    "### Visualizing Neighbourhood Clusters based on Primary Benchmarks"
   ]
  },
  {
   "cell_type": "code",
   "execution_count": 55,
   "metadata": {},
   "outputs": [
    {
     "data": {
      "text/html": [
       "<div>\n",
       "<style scoped>\n",
       "    .dataframe tbody tr th:only-of-type {\n",
       "        vertical-align: middle;\n",
       "    }\n",
       "\n",
       "    .dataframe tbody tr th {\n",
       "        vertical-align: top;\n",
       "    }\n",
       "\n",
       "    .dataframe thead th {\n",
       "        text-align: right;\n",
       "    }\n",
       "</style>\n",
       "<table border=\"1\" class=\"dataframe\">\n",
       "  <thead>\n",
       "    <tr style=\"text-align: right;\">\n",
       "      <th></th>\n",
       "      <th>Cluster Labels</th>\n",
       "      <th>Total Neighbourhoods</th>\n",
       "    </tr>\n",
       "  </thead>\n",
       "  <tbody>\n",
       "    <tr>\n",
       "      <th>1</th>\n",
       "      <td>Low</td>\n",
       "      <td>109</td>\n",
       "    </tr>\n",
       "    <tr>\n",
       "      <th>0</th>\n",
       "      <td>Mid</td>\n",
       "      <td>26</td>\n",
       "    </tr>\n",
       "    <tr>\n",
       "      <th>2</th>\n",
       "      <td>High</td>\n",
       "      <td>5</td>\n",
       "    </tr>\n",
       "  </tbody>\n",
       "</table>\n",
       "</div>"
      ],
      "text/plain": [
       "  Cluster Labels  Total Neighbourhoods\n",
       "1            Low                   109\n",
       "0            Mid                    26\n",
       "2           High                     5"
      ]
     },
     "execution_count": 55,
     "metadata": {},
     "output_type": "execute_result"
    }
   ],
   "source": [
    "# Prepare bar-chart dataset. \n",
    "Bardata1=Cluster_data.groupby('Cluster Labels').count()\n",
    "Bardata1.reset_index(inplace=True)\n",
    "Bardata1=Bardata1[['Cluster Labels','Neighbourhood Name']] # Extract relevant columns for plot\n",
    "Bardata1.columns=(['Cluster Labels','Total Neighbourhoods'])\n",
    "\n",
    "# Change Cluster labels to categorical values for seamless visualization\n",
    "Bardata1[\"Cluster Labels\"] = pd.Categorical(Bardata1[\"Cluster Labels\"], [1, 0, 2]) \n",
    "Bardata1.sort_values(\"Cluster Labels\", inplace=True)\n",
    "# Rename cluster labels based on outcome for easy visualization\n",
    "Bardata1[\"Cluster Labels\"]=Bardata1[\"Cluster Labels\"].replace([1, 0, 2], \n",
    "           [\"Low\", \"Mid\", \"High\"])\n",
    "Bardata1"
   ]
  },
  {
   "cell_type": "code",
   "execution_count": 56,
   "metadata": {
    "scrolled": false
   },
   "outputs": [
    {
     "data": {
      "application/vnd.plotly.v1+json": {
       "config": {
        "plotlyServerURL": "https://plotly.com"
       },
       "data": [
        {
         "alignmentgroup": "True",
         "hovertemplate": "Cluster Labels=%{x}<br>Total Neighbourhoods=%{text}<extra></extra>",
         "legendgroup": "Low",
         "marker": {
          "color": "#636efa"
         },
         "name": "Low",
         "offsetgroup": "Low",
         "orientation": "v",
         "showlegend": true,
         "text": [
          109
         ],
         "textposition": "auto",
         "type": "bar",
         "x": [
          "Low"
         ],
         "xaxis": "x",
         "y": [
          109
         ],
         "yaxis": "y"
        },
        {
         "alignmentgroup": "True",
         "hovertemplate": "Cluster Labels=%{x}<br>Total Neighbourhoods=%{text}<extra></extra>",
         "legendgroup": "Mid",
         "marker": {
          "color": "#EF553B"
         },
         "name": "Mid",
         "offsetgroup": "Mid",
         "orientation": "v",
         "showlegend": true,
         "text": [
          26
         ],
         "textposition": "auto",
         "type": "bar",
         "x": [
          "Mid"
         ],
         "xaxis": "x",
         "y": [
          26
         ],
         "yaxis": "y"
        },
        {
         "alignmentgroup": "True",
         "hovertemplate": "Cluster Labels=%{x}<br>Total Neighbourhoods=%{text}<extra></extra>",
         "legendgroup": "High",
         "marker": {
          "color": "#00cc96"
         },
         "name": "High",
         "offsetgroup": "High",
         "orientation": "v",
         "showlegend": true,
         "text": [
          5
         ],
         "textposition": "auto",
         "type": "bar",
         "x": [
          "High"
         ],
         "xaxis": "x",
         "y": [
          5
         ],
         "yaxis": "y"
        }
       ],
       "layout": {
        "barmode": "relative",
        "legend": {
         "title": {
          "text": "Cluster Labels"
         },
         "tracegroupgap": 0
        },
        "margin": {
         "b": 0,
         "l": 0,
         "r": 0,
         "t": 30
        },
        "template": {
         "data": {
          "bar": [
           {
            "error_x": {
             "color": "#2a3f5f"
            },
            "error_y": {
             "color": "#2a3f5f"
            },
            "marker": {
             "line": {
              "color": "#E5ECF6",
              "width": 0.5
             }
            },
            "type": "bar"
           }
          ],
          "barpolar": [
           {
            "marker": {
             "line": {
              "color": "#E5ECF6",
              "width": 0.5
             }
            },
            "type": "barpolar"
           }
          ],
          "carpet": [
           {
            "aaxis": {
             "endlinecolor": "#2a3f5f",
             "gridcolor": "white",
             "linecolor": "white",
             "minorgridcolor": "white",
             "startlinecolor": "#2a3f5f"
            },
            "baxis": {
             "endlinecolor": "#2a3f5f",
             "gridcolor": "white",
             "linecolor": "white",
             "minorgridcolor": "white",
             "startlinecolor": "#2a3f5f"
            },
            "type": "carpet"
           }
          ],
          "choropleth": [
           {
            "colorbar": {
             "outlinewidth": 0,
             "ticks": ""
            },
            "type": "choropleth"
           }
          ],
          "contour": [
           {
            "colorbar": {
             "outlinewidth": 0,
             "ticks": ""
            },
            "colorscale": [
             [
              0,
              "#0d0887"
             ],
             [
              0.1111111111111111,
              "#46039f"
             ],
             [
              0.2222222222222222,
              "#7201a8"
             ],
             [
              0.3333333333333333,
              "#9c179e"
             ],
             [
              0.4444444444444444,
              "#bd3786"
             ],
             [
              0.5555555555555556,
              "#d8576b"
             ],
             [
              0.6666666666666666,
              "#ed7953"
             ],
             [
              0.7777777777777778,
              "#fb9f3a"
             ],
             [
              0.8888888888888888,
              "#fdca26"
             ],
             [
              1,
              "#f0f921"
             ]
            ],
            "type": "contour"
           }
          ],
          "contourcarpet": [
           {
            "colorbar": {
             "outlinewidth": 0,
             "ticks": ""
            },
            "type": "contourcarpet"
           }
          ],
          "heatmap": [
           {
            "colorbar": {
             "outlinewidth": 0,
             "ticks": ""
            },
            "colorscale": [
             [
              0,
              "#0d0887"
             ],
             [
              0.1111111111111111,
              "#46039f"
             ],
             [
              0.2222222222222222,
              "#7201a8"
             ],
             [
              0.3333333333333333,
              "#9c179e"
             ],
             [
              0.4444444444444444,
              "#bd3786"
             ],
             [
              0.5555555555555556,
              "#d8576b"
             ],
             [
              0.6666666666666666,
              "#ed7953"
             ],
             [
              0.7777777777777778,
              "#fb9f3a"
             ],
             [
              0.8888888888888888,
              "#fdca26"
             ],
             [
              1,
              "#f0f921"
             ]
            ],
            "type": "heatmap"
           }
          ],
          "heatmapgl": [
           {
            "colorbar": {
             "outlinewidth": 0,
             "ticks": ""
            },
            "colorscale": [
             [
              0,
              "#0d0887"
             ],
             [
              0.1111111111111111,
              "#46039f"
             ],
             [
              0.2222222222222222,
              "#7201a8"
             ],
             [
              0.3333333333333333,
              "#9c179e"
             ],
             [
              0.4444444444444444,
              "#bd3786"
             ],
             [
              0.5555555555555556,
              "#d8576b"
             ],
             [
              0.6666666666666666,
              "#ed7953"
             ],
             [
              0.7777777777777778,
              "#fb9f3a"
             ],
             [
              0.8888888888888888,
              "#fdca26"
             ],
             [
              1,
              "#f0f921"
             ]
            ],
            "type": "heatmapgl"
           }
          ],
          "histogram": [
           {
            "marker": {
             "colorbar": {
              "outlinewidth": 0,
              "ticks": ""
             }
            },
            "type": "histogram"
           }
          ],
          "histogram2d": [
           {
            "colorbar": {
             "outlinewidth": 0,
             "ticks": ""
            },
            "colorscale": [
             [
              0,
              "#0d0887"
             ],
             [
              0.1111111111111111,
              "#46039f"
             ],
             [
              0.2222222222222222,
              "#7201a8"
             ],
             [
              0.3333333333333333,
              "#9c179e"
             ],
             [
              0.4444444444444444,
              "#bd3786"
             ],
             [
              0.5555555555555556,
              "#d8576b"
             ],
             [
              0.6666666666666666,
              "#ed7953"
             ],
             [
              0.7777777777777778,
              "#fb9f3a"
             ],
             [
              0.8888888888888888,
              "#fdca26"
             ],
             [
              1,
              "#f0f921"
             ]
            ],
            "type": "histogram2d"
           }
          ],
          "histogram2dcontour": [
           {
            "colorbar": {
             "outlinewidth": 0,
             "ticks": ""
            },
            "colorscale": [
             [
              0,
              "#0d0887"
             ],
             [
              0.1111111111111111,
              "#46039f"
             ],
             [
              0.2222222222222222,
              "#7201a8"
             ],
             [
              0.3333333333333333,
              "#9c179e"
             ],
             [
              0.4444444444444444,
              "#bd3786"
             ],
             [
              0.5555555555555556,
              "#d8576b"
             ],
             [
              0.6666666666666666,
              "#ed7953"
             ],
             [
              0.7777777777777778,
              "#fb9f3a"
             ],
             [
              0.8888888888888888,
              "#fdca26"
             ],
             [
              1,
              "#f0f921"
             ]
            ],
            "type": "histogram2dcontour"
           }
          ],
          "mesh3d": [
           {
            "colorbar": {
             "outlinewidth": 0,
             "ticks": ""
            },
            "type": "mesh3d"
           }
          ],
          "parcoords": [
           {
            "line": {
             "colorbar": {
              "outlinewidth": 0,
              "ticks": ""
             }
            },
            "type": "parcoords"
           }
          ],
          "pie": [
           {
            "automargin": true,
            "type": "pie"
           }
          ],
          "scatter": [
           {
            "marker": {
             "colorbar": {
              "outlinewidth": 0,
              "ticks": ""
             }
            },
            "type": "scatter"
           }
          ],
          "scatter3d": [
           {
            "line": {
             "colorbar": {
              "outlinewidth": 0,
              "ticks": ""
             }
            },
            "marker": {
             "colorbar": {
              "outlinewidth": 0,
              "ticks": ""
             }
            },
            "type": "scatter3d"
           }
          ],
          "scattercarpet": [
           {
            "marker": {
             "colorbar": {
              "outlinewidth": 0,
              "ticks": ""
             }
            },
            "type": "scattercarpet"
           }
          ],
          "scattergeo": [
           {
            "marker": {
             "colorbar": {
              "outlinewidth": 0,
              "ticks": ""
             }
            },
            "type": "scattergeo"
           }
          ],
          "scattergl": [
           {
            "marker": {
             "colorbar": {
              "outlinewidth": 0,
              "ticks": ""
             }
            },
            "type": "scattergl"
           }
          ],
          "scattermapbox": [
           {
            "marker": {
             "colorbar": {
              "outlinewidth": 0,
              "ticks": ""
             }
            },
            "type": "scattermapbox"
           }
          ],
          "scatterpolar": [
           {
            "marker": {
             "colorbar": {
              "outlinewidth": 0,
              "ticks": ""
             }
            },
            "type": "scatterpolar"
           }
          ],
          "scatterpolargl": [
           {
            "marker": {
             "colorbar": {
              "outlinewidth": 0,
              "ticks": ""
             }
            },
            "type": "scatterpolargl"
           }
          ],
          "scatterternary": [
           {
            "marker": {
             "colorbar": {
              "outlinewidth": 0,
              "ticks": ""
             }
            },
            "type": "scatterternary"
           }
          ],
          "surface": [
           {
            "colorbar": {
             "outlinewidth": 0,
             "ticks": ""
            },
            "colorscale": [
             [
              0,
              "#0d0887"
             ],
             [
              0.1111111111111111,
              "#46039f"
             ],
             [
              0.2222222222222222,
              "#7201a8"
             ],
             [
              0.3333333333333333,
              "#9c179e"
             ],
             [
              0.4444444444444444,
              "#bd3786"
             ],
             [
              0.5555555555555556,
              "#d8576b"
             ],
             [
              0.6666666666666666,
              "#ed7953"
             ],
             [
              0.7777777777777778,
              "#fb9f3a"
             ],
             [
              0.8888888888888888,
              "#fdca26"
             ],
             [
              1,
              "#f0f921"
             ]
            ],
            "type": "surface"
           }
          ],
          "table": [
           {
            "cells": {
             "fill": {
              "color": "#EBF0F8"
             },
             "line": {
              "color": "white"
             }
            },
            "header": {
             "fill": {
              "color": "#C8D4E3"
             },
             "line": {
              "color": "white"
             }
            },
            "type": "table"
           }
          ]
         },
         "layout": {
          "annotationdefaults": {
           "arrowcolor": "#2a3f5f",
           "arrowhead": 0,
           "arrowwidth": 1
          },
          "coloraxis": {
           "colorbar": {
            "outlinewidth": 0,
            "ticks": ""
           }
          },
          "colorscale": {
           "diverging": [
            [
             0,
             "#8e0152"
            ],
            [
             0.1,
             "#c51b7d"
            ],
            [
             0.2,
             "#de77ae"
            ],
            [
             0.3,
             "#f1b6da"
            ],
            [
             0.4,
             "#fde0ef"
            ],
            [
             0.5,
             "#f7f7f7"
            ],
            [
             0.6,
             "#e6f5d0"
            ],
            [
             0.7,
             "#b8e186"
            ],
            [
             0.8,
             "#7fbc41"
            ],
            [
             0.9,
             "#4d9221"
            ],
            [
             1,
             "#276419"
            ]
           ],
           "sequential": [
            [
             0,
             "#0d0887"
            ],
            [
             0.1111111111111111,
             "#46039f"
            ],
            [
             0.2222222222222222,
             "#7201a8"
            ],
            [
             0.3333333333333333,
             "#9c179e"
            ],
            [
             0.4444444444444444,
             "#bd3786"
            ],
            [
             0.5555555555555556,
             "#d8576b"
            ],
            [
             0.6666666666666666,
             "#ed7953"
            ],
            [
             0.7777777777777778,
             "#fb9f3a"
            ],
            [
             0.8888888888888888,
             "#fdca26"
            ],
            [
             1,
             "#f0f921"
            ]
           ],
           "sequentialminus": [
            [
             0,
             "#0d0887"
            ],
            [
             0.1111111111111111,
             "#46039f"
            ],
            [
             0.2222222222222222,
             "#7201a8"
            ],
            [
             0.3333333333333333,
             "#9c179e"
            ],
            [
             0.4444444444444444,
             "#bd3786"
            ],
            [
             0.5555555555555556,
             "#d8576b"
            ],
            [
             0.6666666666666666,
             "#ed7953"
            ],
            [
             0.7777777777777778,
             "#fb9f3a"
            ],
            [
             0.8888888888888888,
             "#fdca26"
            ],
            [
             1,
             "#f0f921"
            ]
           ]
          },
          "colorway": [
           "#636efa",
           "#EF553B",
           "#00cc96",
           "#ab63fa",
           "#FFA15A",
           "#19d3f3",
           "#FF6692",
           "#B6E880",
           "#FF97FF",
           "#FECB52"
          ],
          "font": {
           "color": "#2a3f5f"
          },
          "geo": {
           "bgcolor": "white",
           "lakecolor": "white",
           "landcolor": "#E5ECF6",
           "showlakes": true,
           "showland": true,
           "subunitcolor": "white"
          },
          "hoverlabel": {
           "align": "left"
          },
          "hovermode": "closest",
          "mapbox": {
           "style": "light"
          },
          "paper_bgcolor": "white",
          "plot_bgcolor": "#E5ECF6",
          "polar": {
           "angularaxis": {
            "gridcolor": "white",
            "linecolor": "white",
            "ticks": ""
           },
           "bgcolor": "#E5ECF6",
           "radialaxis": {
            "gridcolor": "white",
            "linecolor": "white",
            "ticks": ""
           }
          },
          "scene": {
           "xaxis": {
            "backgroundcolor": "#E5ECF6",
            "gridcolor": "white",
            "gridwidth": 2,
            "linecolor": "white",
            "showbackground": true,
            "ticks": "",
            "zerolinecolor": "white"
           },
           "yaxis": {
            "backgroundcolor": "#E5ECF6",
            "gridcolor": "white",
            "gridwidth": 2,
            "linecolor": "white",
            "showbackground": true,
            "ticks": "",
            "zerolinecolor": "white"
           },
           "zaxis": {
            "backgroundcolor": "#E5ECF6",
            "gridcolor": "white",
            "gridwidth": 2,
            "linecolor": "white",
            "showbackground": true,
            "ticks": "",
            "zerolinecolor": "white"
           }
          },
          "shapedefaults": {
           "line": {
            "color": "#2a3f5f"
           }
          },
          "ternary": {
           "aaxis": {
            "gridcolor": "white",
            "linecolor": "white",
            "ticks": ""
           },
           "baxis": {
            "gridcolor": "white",
            "linecolor": "white",
            "ticks": ""
           },
           "bgcolor": "#E5ECF6",
           "caxis": {
            "gridcolor": "white",
            "linecolor": "white",
            "ticks": ""
           }
          },
          "title": {
           "x": 0.05
          },
          "xaxis": {
           "automargin": true,
           "gridcolor": "white",
           "linecolor": "white",
           "ticks": "",
           "title": {
            "standoff": 15
           },
           "zerolinecolor": "white",
           "zerolinewidth": 2
          },
          "yaxis": {
           "automargin": true,
           "gridcolor": "white",
           "linecolor": "white",
           "ticks": "",
           "title": {
            "standoff": 15
           },
           "zerolinecolor": "white",
           "zerolinewidth": 2
          }
         }
        },
        "title": {
         "text": "Clustering Distribution using Primary Benchmarks"
        },
        "xaxis": {
         "anchor": "y",
         "categoryarray": [
          "1",
          "0",
          "2",
          "Low",
          "Mid",
          "High"
         ],
         "categoryorder": "array",
         "domain": [
          0,
          1
         ],
         "title": {
          "text": "Cluster Labels"
         },
         "type": "category"
        },
        "yaxis": {
         "anchor": "x",
         "domain": [
          0,
          1
         ],
         "title": {
          "text": "Total Neighbourhoods"
         }
        }
       }
      },
      "text/html": [
       "<div>                            <div id=\"4f47fda2-61fd-49a2-b106-efc3353b6255\" class=\"plotly-graph-div\" style=\"height:525px; width:100%;\"></div>            <script type=\"text/javascript\">                require([\"plotly\"], function(Plotly) {                    window.PLOTLYENV=window.PLOTLYENV || {};                                    if (document.getElementById(\"4f47fda2-61fd-49a2-b106-efc3353b6255\")) {                    Plotly.newPlot(                        \"4f47fda2-61fd-49a2-b106-efc3353b6255\",                        [{\"alignmentgroup\": \"True\", \"hovertemplate\": \"Cluster Labels=%{x}<br>Total Neighbourhoods=%{text}<extra></extra>\", \"legendgroup\": \"Low\", \"marker\": {\"color\": \"#636efa\"}, \"name\": \"Low\", \"offsetgroup\": \"Low\", \"orientation\": \"v\", \"showlegend\": true, \"text\": [109.0], \"textposition\": \"auto\", \"type\": \"bar\", \"x\": [\"Low\"], \"xaxis\": \"x\", \"y\": [109], \"yaxis\": \"y\"}, {\"alignmentgroup\": \"True\", \"hovertemplate\": \"Cluster Labels=%{x}<br>Total Neighbourhoods=%{text}<extra></extra>\", \"legendgroup\": \"Mid\", \"marker\": {\"color\": \"#EF553B\"}, \"name\": \"Mid\", \"offsetgroup\": \"Mid\", \"orientation\": \"v\", \"showlegend\": true, \"text\": [26.0], \"textposition\": \"auto\", \"type\": \"bar\", \"x\": [\"Mid\"], \"xaxis\": \"x\", \"y\": [26], \"yaxis\": \"y\"}, {\"alignmentgroup\": \"True\", \"hovertemplate\": \"Cluster Labels=%{x}<br>Total Neighbourhoods=%{text}<extra></extra>\", \"legendgroup\": \"High\", \"marker\": {\"color\": \"#00cc96\"}, \"name\": \"High\", \"offsetgroup\": \"High\", \"orientation\": \"v\", \"showlegend\": true, \"text\": [5.0], \"textposition\": \"auto\", \"type\": \"bar\", \"x\": [\"High\"], \"xaxis\": \"x\", \"y\": [5], \"yaxis\": \"y\"}],                        {\"barmode\": \"relative\", \"legend\": {\"title\": {\"text\": \"Cluster Labels\"}, \"tracegroupgap\": 0}, \"margin\": {\"b\": 0, \"l\": 0, \"r\": 0, \"t\": 30}, \"template\": {\"data\": {\"bar\": [{\"error_x\": {\"color\": \"#2a3f5f\"}, \"error_y\": {\"color\": \"#2a3f5f\"}, \"marker\": {\"line\": {\"color\": \"#E5ECF6\", \"width\": 0.5}}, \"type\": \"bar\"}], \"barpolar\": [{\"marker\": {\"line\": {\"color\": \"#E5ECF6\", \"width\": 0.5}}, \"type\": \"barpolar\"}], \"carpet\": [{\"aaxis\": {\"endlinecolor\": \"#2a3f5f\", \"gridcolor\": \"white\", \"linecolor\": \"white\", \"minorgridcolor\": \"white\", \"startlinecolor\": \"#2a3f5f\"}, \"baxis\": {\"endlinecolor\": \"#2a3f5f\", \"gridcolor\": \"white\", \"linecolor\": \"white\", \"minorgridcolor\": \"white\", \"startlinecolor\": \"#2a3f5f\"}, \"type\": \"carpet\"}], \"choropleth\": [{\"colorbar\": {\"outlinewidth\": 0, \"ticks\": \"\"}, \"type\": \"choropleth\"}], \"contour\": [{\"colorbar\": {\"outlinewidth\": 0, \"ticks\": \"\"}, \"colorscale\": [[0.0, \"#0d0887\"], [0.1111111111111111, \"#46039f\"], [0.2222222222222222, \"#7201a8\"], [0.3333333333333333, \"#9c179e\"], [0.4444444444444444, \"#bd3786\"], [0.5555555555555556, \"#d8576b\"], [0.6666666666666666, \"#ed7953\"], [0.7777777777777778, \"#fb9f3a\"], [0.8888888888888888, \"#fdca26\"], [1.0, \"#f0f921\"]], \"type\": \"contour\"}], \"contourcarpet\": [{\"colorbar\": {\"outlinewidth\": 0, \"ticks\": \"\"}, \"type\": \"contourcarpet\"}], \"heatmap\": [{\"colorbar\": {\"outlinewidth\": 0, \"ticks\": \"\"}, \"colorscale\": [[0.0, \"#0d0887\"], [0.1111111111111111, \"#46039f\"], [0.2222222222222222, \"#7201a8\"], [0.3333333333333333, \"#9c179e\"], [0.4444444444444444, \"#bd3786\"], [0.5555555555555556, \"#d8576b\"], [0.6666666666666666, \"#ed7953\"], [0.7777777777777778, \"#fb9f3a\"], [0.8888888888888888, \"#fdca26\"], [1.0, \"#f0f921\"]], \"type\": \"heatmap\"}], \"heatmapgl\": [{\"colorbar\": {\"outlinewidth\": 0, \"ticks\": \"\"}, \"colorscale\": [[0.0, \"#0d0887\"], [0.1111111111111111, \"#46039f\"], [0.2222222222222222, \"#7201a8\"], [0.3333333333333333, \"#9c179e\"], [0.4444444444444444, \"#bd3786\"], [0.5555555555555556, \"#d8576b\"], [0.6666666666666666, \"#ed7953\"], [0.7777777777777778, \"#fb9f3a\"], [0.8888888888888888, \"#fdca26\"], [1.0, \"#f0f921\"]], \"type\": \"heatmapgl\"}], \"histogram\": [{\"marker\": {\"colorbar\": {\"outlinewidth\": 0, \"ticks\": \"\"}}, \"type\": \"histogram\"}], \"histogram2d\": [{\"colorbar\": {\"outlinewidth\": 0, \"ticks\": \"\"}, \"colorscale\": [[0.0, \"#0d0887\"], [0.1111111111111111, \"#46039f\"], [0.2222222222222222, \"#7201a8\"], [0.3333333333333333, \"#9c179e\"], [0.4444444444444444, \"#bd3786\"], [0.5555555555555556, \"#d8576b\"], [0.6666666666666666, \"#ed7953\"], [0.7777777777777778, \"#fb9f3a\"], [0.8888888888888888, \"#fdca26\"], [1.0, \"#f0f921\"]], \"type\": \"histogram2d\"}], \"histogram2dcontour\": [{\"colorbar\": {\"outlinewidth\": 0, \"ticks\": \"\"}, \"colorscale\": [[0.0, \"#0d0887\"], [0.1111111111111111, \"#46039f\"], [0.2222222222222222, \"#7201a8\"], [0.3333333333333333, \"#9c179e\"], [0.4444444444444444, \"#bd3786\"], [0.5555555555555556, \"#d8576b\"], [0.6666666666666666, \"#ed7953\"], [0.7777777777777778, \"#fb9f3a\"], [0.8888888888888888, \"#fdca26\"], [1.0, \"#f0f921\"]], \"type\": \"histogram2dcontour\"}], \"mesh3d\": [{\"colorbar\": {\"outlinewidth\": 0, \"ticks\": \"\"}, \"type\": \"mesh3d\"}], \"parcoords\": [{\"line\": {\"colorbar\": {\"outlinewidth\": 0, \"ticks\": \"\"}}, \"type\": \"parcoords\"}], \"pie\": [{\"automargin\": true, \"type\": \"pie\"}], \"scatter\": [{\"marker\": {\"colorbar\": {\"outlinewidth\": 0, \"ticks\": \"\"}}, \"type\": \"scatter\"}], \"scatter3d\": [{\"line\": {\"colorbar\": {\"outlinewidth\": 0, \"ticks\": \"\"}}, \"marker\": {\"colorbar\": {\"outlinewidth\": 0, \"ticks\": \"\"}}, \"type\": \"scatter3d\"}], \"scattercarpet\": [{\"marker\": {\"colorbar\": {\"outlinewidth\": 0, \"ticks\": \"\"}}, \"type\": \"scattercarpet\"}], \"scattergeo\": [{\"marker\": {\"colorbar\": {\"outlinewidth\": 0, \"ticks\": \"\"}}, \"type\": \"scattergeo\"}], \"scattergl\": [{\"marker\": {\"colorbar\": {\"outlinewidth\": 0, \"ticks\": \"\"}}, \"type\": \"scattergl\"}], \"scattermapbox\": [{\"marker\": {\"colorbar\": {\"outlinewidth\": 0, \"ticks\": \"\"}}, \"type\": \"scattermapbox\"}], \"scatterpolar\": [{\"marker\": {\"colorbar\": {\"outlinewidth\": 0, \"ticks\": \"\"}}, \"type\": \"scatterpolar\"}], \"scatterpolargl\": [{\"marker\": {\"colorbar\": {\"outlinewidth\": 0, \"ticks\": \"\"}}, \"type\": \"scatterpolargl\"}], \"scatterternary\": [{\"marker\": {\"colorbar\": {\"outlinewidth\": 0, \"ticks\": \"\"}}, \"type\": \"scatterternary\"}], \"surface\": [{\"colorbar\": {\"outlinewidth\": 0, \"ticks\": \"\"}, \"colorscale\": [[0.0, \"#0d0887\"], [0.1111111111111111, \"#46039f\"], [0.2222222222222222, \"#7201a8\"], [0.3333333333333333, \"#9c179e\"], [0.4444444444444444, \"#bd3786\"], [0.5555555555555556, \"#d8576b\"], [0.6666666666666666, \"#ed7953\"], [0.7777777777777778, \"#fb9f3a\"], [0.8888888888888888, \"#fdca26\"], [1.0, \"#f0f921\"]], \"type\": \"surface\"}], \"table\": [{\"cells\": {\"fill\": {\"color\": \"#EBF0F8\"}, \"line\": {\"color\": \"white\"}}, \"header\": {\"fill\": {\"color\": \"#C8D4E3\"}, \"line\": {\"color\": \"white\"}}, \"type\": \"table\"}]}, \"layout\": {\"annotationdefaults\": {\"arrowcolor\": \"#2a3f5f\", \"arrowhead\": 0, \"arrowwidth\": 1}, \"coloraxis\": {\"colorbar\": {\"outlinewidth\": 0, \"ticks\": \"\"}}, \"colorscale\": {\"diverging\": [[0, \"#8e0152\"], [0.1, \"#c51b7d\"], [0.2, \"#de77ae\"], [0.3, \"#f1b6da\"], [0.4, \"#fde0ef\"], [0.5, \"#f7f7f7\"], [0.6, \"#e6f5d0\"], [0.7, \"#b8e186\"], [0.8, \"#7fbc41\"], [0.9, \"#4d9221\"], [1, \"#276419\"]], \"sequential\": [[0.0, \"#0d0887\"], [0.1111111111111111, \"#46039f\"], [0.2222222222222222, \"#7201a8\"], [0.3333333333333333, \"#9c179e\"], [0.4444444444444444, \"#bd3786\"], [0.5555555555555556, \"#d8576b\"], [0.6666666666666666, \"#ed7953\"], [0.7777777777777778, \"#fb9f3a\"], [0.8888888888888888, \"#fdca26\"], [1.0, \"#f0f921\"]], \"sequentialminus\": [[0.0, \"#0d0887\"], [0.1111111111111111, \"#46039f\"], [0.2222222222222222, \"#7201a8\"], [0.3333333333333333, \"#9c179e\"], [0.4444444444444444, \"#bd3786\"], [0.5555555555555556, \"#d8576b\"], [0.6666666666666666, \"#ed7953\"], [0.7777777777777778, \"#fb9f3a\"], [0.8888888888888888, \"#fdca26\"], [1.0, \"#f0f921\"]]}, \"colorway\": [\"#636efa\", \"#EF553B\", \"#00cc96\", \"#ab63fa\", \"#FFA15A\", \"#19d3f3\", \"#FF6692\", \"#B6E880\", \"#FF97FF\", \"#FECB52\"], \"font\": {\"color\": \"#2a3f5f\"}, \"geo\": {\"bgcolor\": \"white\", \"lakecolor\": \"white\", \"landcolor\": \"#E5ECF6\", \"showlakes\": true, \"showland\": true, \"subunitcolor\": \"white\"}, \"hoverlabel\": {\"align\": \"left\"}, \"hovermode\": \"closest\", \"mapbox\": {\"style\": \"light\"}, \"paper_bgcolor\": \"white\", \"plot_bgcolor\": \"#E5ECF6\", \"polar\": {\"angularaxis\": {\"gridcolor\": \"white\", \"linecolor\": \"white\", \"ticks\": \"\"}, \"bgcolor\": \"#E5ECF6\", \"radialaxis\": {\"gridcolor\": \"white\", \"linecolor\": \"white\", \"ticks\": \"\"}}, \"scene\": {\"xaxis\": {\"backgroundcolor\": \"#E5ECF6\", \"gridcolor\": \"white\", \"gridwidth\": 2, \"linecolor\": \"white\", \"showbackground\": true, \"ticks\": \"\", \"zerolinecolor\": \"white\"}, \"yaxis\": {\"backgroundcolor\": \"#E5ECF6\", \"gridcolor\": \"white\", \"gridwidth\": 2, \"linecolor\": \"white\", \"showbackground\": true, \"ticks\": \"\", \"zerolinecolor\": \"white\"}, \"zaxis\": {\"backgroundcolor\": \"#E5ECF6\", \"gridcolor\": \"white\", \"gridwidth\": 2, \"linecolor\": \"white\", \"showbackground\": true, \"ticks\": \"\", \"zerolinecolor\": \"white\"}}, \"shapedefaults\": {\"line\": {\"color\": \"#2a3f5f\"}}, \"ternary\": {\"aaxis\": {\"gridcolor\": \"white\", \"linecolor\": \"white\", \"ticks\": \"\"}, \"baxis\": {\"gridcolor\": \"white\", \"linecolor\": \"white\", \"ticks\": \"\"}, \"bgcolor\": \"#E5ECF6\", \"caxis\": {\"gridcolor\": \"white\", \"linecolor\": \"white\", \"ticks\": \"\"}}, \"title\": {\"x\": 0.05}, \"xaxis\": {\"automargin\": true, \"gridcolor\": \"white\", \"linecolor\": \"white\", \"ticks\": \"\", \"title\": {\"standoff\": 15}, \"zerolinecolor\": \"white\", \"zerolinewidth\": 2}, \"yaxis\": {\"automargin\": true, \"gridcolor\": \"white\", \"linecolor\": \"white\", \"ticks\": \"\", \"title\": {\"standoff\": 15}, \"zerolinecolor\": \"white\", \"zerolinewidth\": 2}}}, \"title\": {\"text\": \"Clustering Distribution using Primary Benchmarks\"}, \"xaxis\": {\"anchor\": \"y\", \"categoryarray\": [\"1\", \"0\", \"2\", \"Low\", \"Mid\", \"High\"], \"categoryorder\": \"array\", \"domain\": [0.0, 1.0], \"title\": {\"text\": \"Cluster Labels\"}, \"type\": \"category\"}, \"yaxis\": {\"anchor\": \"x\", \"domain\": [0.0, 1.0], \"title\": {\"text\": \"Total Neighbourhoods\"}}},                        {\"responsive\": true}                    ).then(function(){\n",
       "                            \n",
       "var gd = document.getElementById('4f47fda2-61fd-49a2-b106-efc3353b6255');\n",
       "var x = new MutationObserver(function (mutations, observer) {{\n",
       "        var display = window.getComputedStyle(gd).display;\n",
       "        if (!display || display === 'none') {{\n",
       "            console.log([gd, 'removed!']);\n",
       "            Plotly.purge(gd);\n",
       "            observer.disconnect();\n",
       "        }}\n",
       "}});\n",
       "\n",
       "// Listen for the removal of the full notebook cells\n",
       "var notebookContainer = gd.closest('#notebook-container');\n",
       "if (notebookContainer) {{\n",
       "    x.observe(notebookContainer, {childList: true});\n",
       "}}\n",
       "\n",
       "// Listen for the clearing of the current output cell\n",
       "var outputEl = gd.closest('.output');\n",
       "if (outputEl) {{\n",
       "    x.observe(outputEl, {childList: true});\n",
       "}}\n",
       "\n",
       "                        })                };                });            </script>        </div>"
      ]
     },
     "metadata": {},
     "output_type": "display_data"
    }
   ],
   "source": [
    "# Barchart for Clustering using Primary benchmarks done with Plotly Express\n",
    "cluster_barchart = px.bar(Bardata1, x=\"Cluster Labels\", y=\"Total Neighbourhoods\",  color=\"Cluster Labels\", \n",
    "                          text='Total Neighbourhoods', category_orders={\"Cluster Labels\": [\"1\", \"0\", \"2\"]})\n",
    "\n",
    "    \n",
    "cluster_barchart.update_xaxes(type='category')\n",
    "cluster_barchart.update_layout(title = 'Clustering Distribution using Primary Benchmarks',\n",
    "                         margin={\"r\":0,\"t\":30,\"l\":0,\"b\":0})\n",
    "cluster_barchart.show()"
   ]
  },
  {
   "cell_type": "markdown",
   "metadata": {},
   "source": [
    "## 12. Clustering using Secondary Benchmark (Housing Prices)"
   ]
  },
  {
   "cell_type": "markdown",
   "metadata": {
    "deletable": false,
    "editable": false
   },
   "source": [
    "Using the outcome of the clustering attempt in Section 11, the 109 neighbourhoods in the Low Cluster were further grouped based on their Housing prices (for one-bedroom apartment). The Housing prices were considered as secondary benchmark. The outcome of this final clustering attempt was used to generate the final Neighbourhood Desirability Index."
   ]
  },
  {
   "cell_type": "code",
   "execution_count": 57,
   "metadata": {},
   "outputs": [
    {
     "data": {
      "text/html": [
       "<div>\n",
       "<style scoped>\n",
       "    .dataframe tbody tr th:only-of-type {\n",
       "        vertical-align: middle;\n",
       "    }\n",
       "\n",
       "    .dataframe tbody tr th {\n",
       "        vertical-align: top;\n",
       "    }\n",
       "\n",
       "    .dataframe thead th {\n",
       "        text-align: right;\n",
       "    }\n",
       "</style>\n",
       "<table border=\"1\" class=\"dataframe\">\n",
       "  <thead>\n",
       "    <tr style=\"text-align: right;\">\n",
       "      <th></th>\n",
       "      <th>Neighbourhood Name</th>\n",
       "      <th>Neighbourhood ID</th>\n",
       "    </tr>\n",
       "  </thead>\n",
       "  <tbody>\n",
       "    <tr>\n",
       "      <th>0</th>\n",
       "      <td>Agincourt North</td>\n",
       "      <td>129</td>\n",
       "    </tr>\n",
       "    <tr>\n",
       "      <th>1</th>\n",
       "      <td>Agincourt South-Malvern West</td>\n",
       "      <td>128</td>\n",
       "    </tr>\n",
       "    <tr>\n",
       "      <th>2</th>\n",
       "      <td>Alderwood</td>\n",
       "      <td>20</td>\n",
       "    </tr>\n",
       "    <tr>\n",
       "      <th>3</th>\n",
       "      <td>Annex</td>\n",
       "      <td>95</td>\n",
       "    </tr>\n",
       "    <tr>\n",
       "      <th>4</th>\n",
       "      <td>Banbury-Don Mills</td>\n",
       "      <td>42</td>\n",
       "    </tr>\n",
       "  </tbody>\n",
       "</table>\n",
       "</div>"
      ],
      "text/plain": [
       "             Neighbourhood Name  Neighbourhood ID\n",
       "0               Agincourt North               129\n",
       "1  Agincourt South-Malvern West               128\n",
       "2                     Alderwood                20\n",
       "3                         Annex                95\n",
       "4             Banbury-Don Mills                42"
      ]
     },
     "execution_count": 57,
     "metadata": {},
     "output_type": "execute_result"
    }
   ],
   "source": [
    "# Create a new dataframe for Neighbourhoods in the \"Low\" Cluster from section 11\n",
    "BestCluster=Cluster_data[Cluster_data['Cluster Labels'] == 1].copy(deep=True)\n",
    "# Extract only relevant columns\n",
    "Best_Cluster=BestCluster.drop(columns=['Cluster Labels', 'Unemployment Rate', 'Crime Rate','Covid-19 Rate'])\n",
    "Best_Cluster.head()"
   ]
  },
  {
   "cell_type": "markdown",
   "metadata": {
    "deletable": false,
    "editable": false
   },
   "source": [
    "### Housing Prices Dataset"
   ]
  },
  {
   "cell_type": "code",
   "execution_count": 58,
   "metadata": {},
   "outputs": [
    {
     "data": {
      "text/html": [
       "<div>\n",
       "<style scoped>\n",
       "    .dataframe tbody tr th:only-of-type {\n",
       "        vertical-align: middle;\n",
       "    }\n",
       "\n",
       "    .dataframe tbody tr th {\n",
       "        vertical-align: top;\n",
       "    }\n",
       "\n",
       "    .dataframe thead th {\n",
       "        text-align: right;\n",
       "    }\n",
       "</style>\n",
       "<table border=\"1\" class=\"dataframe\">\n",
       "  <thead>\n",
       "    <tr style=\"text-align: right;\">\n",
       "      <th></th>\n",
       "      <th>Neighbourhood ID</th>\n",
       "      <th>Neighbourhood Name</th>\n",
       "      <th>Median Rent</th>\n",
       "    </tr>\n",
       "  </thead>\n",
       "  <tbody>\n",
       "    <tr>\n",
       "      <th>0</th>\n",
       "      <td>129</td>\n",
       "      <td>Agincourt North</td>\n",
       "      <td>$1,750</td>\n",
       "    </tr>\n",
       "    <tr>\n",
       "      <th>1</th>\n",
       "      <td>128</td>\n",
       "      <td>Agincourt South-Malvern West</td>\n",
       "      <td>$1,750</td>\n",
       "    </tr>\n",
       "    <tr>\n",
       "      <th>2</th>\n",
       "      <td>20</td>\n",
       "      <td>Alderwood</td>\n",
       "      <td>$1,750</td>\n",
       "    </tr>\n",
       "    <tr>\n",
       "      <th>3</th>\n",
       "      <td>95</td>\n",
       "      <td>Annex</td>\n",
       "      <td>$949</td>\n",
       "    </tr>\n",
       "    <tr>\n",
       "      <th>4</th>\n",
       "      <td>42</td>\n",
       "      <td>Banbury-Don Mills</td>\n",
       "      <td>$949</td>\n",
       "    </tr>\n",
       "  </tbody>\n",
       "</table>\n",
       "</div>"
      ],
      "text/plain": [
       "   Neighbourhood ID            Neighbourhood Name Median Rent\n",
       "0               129               Agincourt North      $1,750\n",
       "1               128  Agincourt South-Malvern West      $1,750\n",
       "2                20                     Alderwood      $1,750\n",
       "3                95                         Annex        $949\n",
       "4                42             Banbury-Don Mills        $949"
      ]
     },
     "execution_count": 58,
     "metadata": {},
     "output_type": "execute_result"
    }
   ],
   "source": [
    "housing=pd.read_excel(r'C:\\Users\\Osas\\Downloads\\Data analysis\\Capstone\\Housing.xlsx',sheet_name='Sheet1')\n",
    "housing.head()"
   ]
  },
  {
   "cell_type": "code",
   "execution_count": 59,
   "metadata": {},
   "outputs": [
    {
     "data": {
      "text/html": [
       "<div>\n",
       "<style scoped>\n",
       "    .dataframe tbody tr th:only-of-type {\n",
       "        vertical-align: middle;\n",
       "    }\n",
       "\n",
       "    .dataframe tbody tr th {\n",
       "        vertical-align: top;\n",
       "    }\n",
       "\n",
       "    .dataframe thead th {\n",
       "        text-align: right;\n",
       "    }\n",
       "</style>\n",
       "<table border=\"1\" class=\"dataframe\">\n",
       "  <thead>\n",
       "    <tr style=\"text-align: right;\">\n",
       "      <th></th>\n",
       "      <th>Neighbourhood Name</th>\n",
       "      <th>Neighbourhood ID</th>\n",
       "      <th>Median Rent</th>\n",
       "    </tr>\n",
       "  </thead>\n",
       "  <tbody>\n",
       "    <tr>\n",
       "      <th>0</th>\n",
       "      <td>Agincourt North</td>\n",
       "      <td>129</td>\n",
       "      <td>1,750.00</td>\n",
       "    </tr>\n",
       "    <tr>\n",
       "      <th>1</th>\n",
       "      <td>Agincourt South-Malvern West</td>\n",
       "      <td>128</td>\n",
       "      <td>1,750.00</td>\n",
       "    </tr>\n",
       "    <tr>\n",
       "      <th>2</th>\n",
       "      <td>Alderwood</td>\n",
       "      <td>20</td>\n",
       "      <td>1,750.00</td>\n",
       "    </tr>\n",
       "    <tr>\n",
       "      <th>3</th>\n",
       "      <td>Annex</td>\n",
       "      <td>95</td>\n",
       "      <td>949.00</td>\n",
       "    </tr>\n",
       "    <tr>\n",
       "      <th>4</th>\n",
       "      <td>Banbury-Don Mills</td>\n",
       "      <td>42</td>\n",
       "      <td>949.00</td>\n",
       "    </tr>\n",
       "  </tbody>\n",
       "</table>\n",
       "</div>"
      ],
      "text/plain": [
       "             Neighbourhood Name  Neighbourhood ID  Median Rent\n",
       "0               Agincourt North               129     1,750.00\n",
       "1  Agincourt South-Malvern West               128     1,750.00\n",
       "2                     Alderwood                20     1,750.00\n",
       "3                         Annex                95       949.00\n",
       "4             Banbury-Don Mills                42       949.00"
      ]
     },
     "execution_count": 59,
     "metadata": {},
     "output_type": "execute_result"
    }
   ],
   "source": [
    "# Remove the $ for the Rent column and drop the Neighbourhood Name column\n",
    "housing['Median Rent']=housing['Median Rent'].replace('[\\$,]', '', regex=True).astype(float)\n",
    "housing.drop(columns=['Neighbourhood Name'], inplace=True)\n",
    "# Merge with Best Cluster dataframe\n",
    "Best_Cluster=Best_Cluster.merge(housing,on=['Neighbourhood ID'])\n",
    "Best_Cluster.head()"
   ]
  },
  {
   "cell_type": "markdown",
   "metadata": {
    "deletable": false,
    "editable": false
   },
   "source": [
    "### Determine Optimum Number of Clusters with Elbow Method"
   ]
  },
  {
   "cell_type": "code",
   "execution_count": 60,
   "metadata": {},
   "outputs": [
    {
     "name": "stdout",
     "output_type": "stream",
     "text": [
      "The optimum number of clusters is: 3\n"
     ]
    }
   ],
   "source": [
    "Clustering_2 = Best_Cluster.drop(labels=['Neighbourhood Name','Neighbourhood ID'], axis=1)\n",
    "distortions2 = []\n",
    "K = range(1,10)\n",
    "for k in K:\n",
    "    kmeanModel = KMeans(n_clusters=k)\n",
    "    kmeanModel.fit(Clustering_2)\n",
    "    distortions2.append(kmeanModel.inertia_)\n",
    "from kneed import KneeLocator\n",
    "kl = KneeLocator(range(1, 10), distortions2, curve=\"convex\", direction=\"decreasing\")\n",
    "print('The optimum number of clusters is: ' + str(kl.elbow))"
   ]
  },
  {
   "cell_type": "code",
   "execution_count": 61,
   "metadata": {},
   "outputs": [
    {
     "data": {
      "text/plain": [
       "array([2, 2, 2, 0, 0, 2, 1, 1, 2, 2])"
      ]
     },
     "execution_count": 61,
     "metadata": {},
     "output_type": "execute_result"
    }
   ],
   "source": [
    "# set number of clusters\n",
    "kclusters = 3\n",
    "# run k-means clustering\n",
    "kmeans = KMeans(n_clusters=kclusters, random_state=0).fit(Clustering_2)\n",
    "# check cluster labels generated for each row in the dataframe\n",
    "kmeans.labels_[0:10] "
   ]
  },
  {
   "cell_type": "markdown",
   "metadata": {
    "deletable": false,
    "editable": false
   },
   "source": [
    "### Analyzing Neighbourhood Clusters based on Secondary Benchmark"
   ]
  },
  {
   "cell_type": "code",
   "execution_count": 62,
   "metadata": {},
   "outputs": [
    {
     "data": {
      "text/html": [
       "<div>\n",
       "<style scoped>\n",
       "    .dataframe tbody tr th:only-of-type {\n",
       "        vertical-align: middle;\n",
       "    }\n",
       "\n",
       "    .dataframe tbody tr th {\n",
       "        vertical-align: top;\n",
       "    }\n",
       "\n",
       "    .dataframe thead th {\n",
       "        text-align: right;\n",
       "    }\n",
       "</style>\n",
       "<table border=\"1\" class=\"dataframe\">\n",
       "  <thead>\n",
       "    <tr style=\"text-align: right;\">\n",
       "      <th></th>\n",
       "      <th>Neighbourhood Name</th>\n",
       "      <th>Neighbourhood ID</th>\n",
       "      <th>Cluster Labels</th>\n",
       "      <th>Median Rent</th>\n",
       "    </tr>\n",
       "  </thead>\n",
       "  <tbody>\n",
       "    <tr>\n",
       "      <th>0</th>\n",
       "      <td>Agincourt North</td>\n",
       "      <td>129</td>\n",
       "      <td>2</td>\n",
       "      <td>1,750.00</td>\n",
       "    </tr>\n",
       "    <tr>\n",
       "      <th>1</th>\n",
       "      <td>Agincourt South-Malvern West</td>\n",
       "      <td>128</td>\n",
       "      <td>2</td>\n",
       "      <td>1,750.00</td>\n",
       "    </tr>\n",
       "    <tr>\n",
       "      <th>2</th>\n",
       "      <td>Alderwood</td>\n",
       "      <td>20</td>\n",
       "      <td>2</td>\n",
       "      <td>1,750.00</td>\n",
       "    </tr>\n",
       "    <tr>\n",
       "      <th>3</th>\n",
       "      <td>Annex</td>\n",
       "      <td>95</td>\n",
       "      <td>0</td>\n",
       "      <td>949.00</td>\n",
       "    </tr>\n",
       "    <tr>\n",
       "      <th>4</th>\n",
       "      <td>Banbury-Don Mills</td>\n",
       "      <td>42</td>\n",
       "      <td>0</td>\n",
       "      <td>949.00</td>\n",
       "    </tr>\n",
       "  </tbody>\n",
       "</table>\n",
       "</div>"
      ],
      "text/plain": [
       "             Neighbourhood Name  Neighbourhood ID  Cluster Labels  Median Rent\n",
       "0               Agincourt North               129               2     1,750.00\n",
       "1  Agincourt South-Malvern West               128               2     1,750.00\n",
       "2                     Alderwood                20               2     1,750.00\n",
       "3                         Annex                95               0       949.00\n",
       "4             Banbury-Don Mills                42               0       949.00"
      ]
     },
     "execution_count": 62,
     "metadata": {},
     "output_type": "execute_result"
    }
   ],
   "source": [
    "# Insert Cluster labels to original dataframe\n",
    "Best_Cluster.insert(2, 'Cluster Labels', kmeans.labels_)\n",
    "Best_Cluster.head()"
   ]
  },
  {
   "cell_type": "code",
   "execution_count": 63,
   "metadata": {},
   "outputs": [
    {
     "data": {
      "text/html": [
       "<div>\n",
       "<style scoped>\n",
       "    .dataframe tbody tr th:only-of-type {\n",
       "        vertical-align: middle;\n",
       "    }\n",
       "\n",
       "    .dataframe tbody tr th {\n",
       "        vertical-align: top;\n",
       "    }\n",
       "\n",
       "    .dataframe thead th {\n",
       "        text-align: right;\n",
       "    }\n",
       "</style>\n",
       "<table border=\"1\" class=\"dataframe\">\n",
       "  <thead>\n",
       "    <tr style=\"text-align: right;\">\n",
       "      <th></th>\n",
       "      <th>Neighbourhood ID</th>\n",
       "      <th>Median Rent</th>\n",
       "    </tr>\n",
       "    <tr>\n",
       "      <th>Cluster Labels</th>\n",
       "      <th></th>\n",
       "      <th></th>\n",
       "    </tr>\n",
       "  </thead>\n",
       "  <tbody>\n",
       "    <tr>\n",
       "      <th>0</th>\n",
       "      <td>73.86</td>\n",
       "      <td>990.57</td>\n",
       "    </tr>\n",
       "    <tr>\n",
       "      <th>1</th>\n",
       "      <td>70.40</td>\n",
       "      <td>2,070.25</td>\n",
       "    </tr>\n",
       "    <tr>\n",
       "      <th>2</th>\n",
       "      <td>78.52</td>\n",
       "      <td>1,700.07</td>\n",
       "    </tr>\n",
       "  </tbody>\n",
       "</table>\n",
       "</div>"
      ],
      "text/plain": [
       "                Neighbourhood ID  Median Rent\n",
       "Cluster Labels                               \n",
       "0                          73.86       990.57\n",
       "1                          70.40     2,070.25\n",
       "2                          78.52     1,700.07"
      ]
     },
     "execution_count": 63,
     "metadata": {},
     "output_type": "execute_result"
    }
   ],
   "source": [
    "Best_Cluster.groupby('Cluster Labels').mean()"
   ]
  },
  {
   "cell_type": "markdown",
   "metadata": {
    "deletable": false,
    "editable": false
   },
   "source": [
    "From the dataframe above, we can see that neighbourhoods in Cluster 0 have the lowest housing prices while neighbourhoods in Cluster 2 and 1 are the mid and high range respectively."
   ]
  },
  {
   "cell_type": "code",
   "execution_count": 64,
   "metadata": {},
   "outputs": [
    {
     "data": {
      "text/html": [
       "<div>\n",
       "<style scoped>\n",
       "    .dataframe tbody tr th:only-of-type {\n",
       "        vertical-align: middle;\n",
       "    }\n",
       "\n",
       "    .dataframe tbody tr th {\n",
       "        vertical-align: top;\n",
       "    }\n",
       "\n",
       "    .dataframe thead th {\n",
       "        text-align: right;\n",
       "    }\n",
       "</style>\n",
       "<table border=\"1\" class=\"dataframe\">\n",
       "  <thead>\n",
       "    <tr style=\"text-align: right;\">\n",
       "      <th></th>\n",
       "      <th>Neighbourhood Name</th>\n",
       "      <th>Neighbourhood ID</th>\n",
       "      <th>Cluster Labels</th>\n",
       "      <th>Median Rent</th>\n",
       "    </tr>\n",
       "  </thead>\n",
       "  <tbody>\n",
       "    <tr>\n",
       "      <th>0</th>\n",
       "      <td>Agincourt North</td>\n",
       "      <td>129</td>\n",
       "      <td>1</td>\n",
       "      <td>1,750.00</td>\n",
       "    </tr>\n",
       "    <tr>\n",
       "      <th>1</th>\n",
       "      <td>Agincourt South-Malvern West</td>\n",
       "      <td>128</td>\n",
       "      <td>1</td>\n",
       "      <td>1,750.00</td>\n",
       "    </tr>\n",
       "    <tr>\n",
       "      <th>2</th>\n",
       "      <td>Alderwood</td>\n",
       "      <td>20</td>\n",
       "      <td>1</td>\n",
       "      <td>1,750.00</td>\n",
       "    </tr>\n",
       "    <tr>\n",
       "      <th>3</th>\n",
       "      <td>Annex</td>\n",
       "      <td>95</td>\n",
       "      <td>0</td>\n",
       "      <td>949.00</td>\n",
       "    </tr>\n",
       "    <tr>\n",
       "      <th>4</th>\n",
       "      <td>Banbury-Don Mills</td>\n",
       "      <td>42</td>\n",
       "      <td>0</td>\n",
       "      <td>949.00</td>\n",
       "    </tr>\n",
       "  </tbody>\n",
       "</table>\n",
       "</div>"
      ],
      "text/plain": [
       "             Neighbourhood Name  Neighbourhood ID  Cluster Labels  Median Rent\n",
       "0               Agincourt North               129               1     1,750.00\n",
       "1  Agincourt South-Malvern West               128               1     1,750.00\n",
       "2                     Alderwood                20               1     1,750.00\n",
       "3                         Annex                95               0       949.00\n",
       "4             Banbury-Don Mills                42               0       949.00"
      ]
     },
     "execution_count": 64,
     "metadata": {},
     "output_type": "execute_result"
    }
   ],
   "source": [
    "# For better visualization, replace Cluster label values 1 and 2 so that they are in ascending order\n",
    "Best_Cluster['Cluster Labels']=Best_Cluster['Cluster Labels'].replace(to_replace=[1,2], value=[2,1])\n",
    "Best_Cluster.head()"
   ]
  },
  {
   "cell_type": "markdown",
   "metadata": {
    "deletable": false,
    "editable": false
   },
   "source": [
    "### Visualizing Neighbourhood Clusters based on Secondary Benchmarks"
   ]
  },
  {
   "cell_type": "code",
   "execution_count": 65,
   "metadata": {},
   "outputs": [
    {
     "data": {
      "text/html": [
       "<div>\n",
       "<style scoped>\n",
       "    .dataframe tbody tr th:only-of-type {\n",
       "        vertical-align: middle;\n",
       "    }\n",
       "\n",
       "    .dataframe tbody tr th {\n",
       "        vertical-align: top;\n",
       "    }\n",
       "\n",
       "    .dataframe thead th {\n",
       "        text-align: right;\n",
       "    }\n",
       "</style>\n",
       "<table border=\"1\" class=\"dataframe\">\n",
       "  <thead>\n",
       "    <tr style=\"text-align: right;\">\n",
       "      <th></th>\n",
       "      <th>Cluster Labels</th>\n",
       "      <th>Total Neighbourhoods</th>\n",
       "    </tr>\n",
       "  </thead>\n",
       "  <tbody>\n",
       "    <tr>\n",
       "      <th>0</th>\n",
       "      <td>Low</td>\n",
       "      <td>7</td>\n",
       "    </tr>\n",
       "    <tr>\n",
       "      <th>1</th>\n",
       "      <td>Mid</td>\n",
       "      <td>82</td>\n",
       "    </tr>\n",
       "    <tr>\n",
       "      <th>2</th>\n",
       "      <td>High</td>\n",
       "      <td>20</td>\n",
       "    </tr>\n",
       "  </tbody>\n",
       "</table>\n",
       "</div>"
      ],
      "text/plain": [
       "  Cluster Labels  Total Neighbourhoods\n",
       "0            Low                     7\n",
       "1            Mid                    82\n",
       "2           High                    20"
      ]
     },
     "execution_count": 65,
     "metadata": {},
     "output_type": "execute_result"
    }
   ],
   "source": [
    "# Group neighbourhoods from Clustering attempt with Secondary benchmark\n",
    "Bardata2=Best_Cluster.copy(deep=True)\n",
    "Bardata2=Best_Cluster.groupby('Cluster Labels').count()\n",
    "Bardata2.reset_index(inplace=True)\n",
    "Bardata2=Bardata2[['Cluster Labels','Neighbourhood Name']]\n",
    "# Rename columns\n",
    "Bardata2.columns=(['Cluster Labels','Total Neighbourhoods'])\n",
    "# Rename cluster labels\n",
    "Bardata2[\"Cluster Labels\"]=Bardata2[\"Cluster Labels\"].replace([0, 1, 2], \n",
    "           [\"Low\", \"Mid\", \"High\"])\n",
    "Bardata2"
   ]
  },
  {
   "cell_type": "code",
   "execution_count": 66,
   "metadata": {},
   "outputs": [
    {
     "data": {
      "application/vnd.plotly.v1+json": {
       "config": {
        "plotlyServerURL": "https://plotly.com"
       },
       "data": [
        {
         "alignmentgroup": "True",
         "hovertemplate": "Cluster Labels=%{x}<br>Total Neighbourhoods=%{text}<extra></extra>",
         "legendgroup": "Low",
         "marker": {
          "color": "#636efa"
         },
         "name": "Low",
         "offsetgroup": "Low",
         "orientation": "v",
         "showlegend": true,
         "text": [
          7
         ],
         "textposition": "auto",
         "type": "bar",
         "x": [
          "Low"
         ],
         "xaxis": "x",
         "y": [
          7
         ],
         "yaxis": "y"
        },
        {
         "alignmentgroup": "True",
         "hovertemplate": "Cluster Labels=%{x}<br>Total Neighbourhoods=%{text}<extra></extra>",
         "legendgroup": "Mid",
         "marker": {
          "color": "#EF553B"
         },
         "name": "Mid",
         "offsetgroup": "Mid",
         "orientation": "v",
         "showlegend": true,
         "text": [
          82
         ],
         "textposition": "auto",
         "type": "bar",
         "x": [
          "Mid"
         ],
         "xaxis": "x",
         "y": [
          82
         ],
         "yaxis": "y"
        },
        {
         "alignmentgroup": "True",
         "hovertemplate": "Cluster Labels=%{x}<br>Total Neighbourhoods=%{text}<extra></extra>",
         "legendgroup": "High",
         "marker": {
          "color": "#00cc96"
         },
         "name": "High",
         "offsetgroup": "High",
         "orientation": "v",
         "showlegend": true,
         "text": [
          20
         ],
         "textposition": "auto",
         "type": "bar",
         "x": [
          "High"
         ],
         "xaxis": "x",
         "y": [
          20
         ],
         "yaxis": "y"
        }
       ],
       "layout": {
        "barmode": "relative",
        "legend": {
         "title": {
          "text": "Cluster Labels"
         },
         "tracegroupgap": 0
        },
        "margin": {
         "b": 0,
         "l": 0,
         "r": 0,
         "t": 30
        },
        "template": {
         "data": {
          "bar": [
           {
            "error_x": {
             "color": "#2a3f5f"
            },
            "error_y": {
             "color": "#2a3f5f"
            },
            "marker": {
             "line": {
              "color": "#E5ECF6",
              "width": 0.5
             }
            },
            "type": "bar"
           }
          ],
          "barpolar": [
           {
            "marker": {
             "line": {
              "color": "#E5ECF6",
              "width": 0.5
             }
            },
            "type": "barpolar"
           }
          ],
          "carpet": [
           {
            "aaxis": {
             "endlinecolor": "#2a3f5f",
             "gridcolor": "white",
             "linecolor": "white",
             "minorgridcolor": "white",
             "startlinecolor": "#2a3f5f"
            },
            "baxis": {
             "endlinecolor": "#2a3f5f",
             "gridcolor": "white",
             "linecolor": "white",
             "minorgridcolor": "white",
             "startlinecolor": "#2a3f5f"
            },
            "type": "carpet"
           }
          ],
          "choropleth": [
           {
            "colorbar": {
             "outlinewidth": 0,
             "ticks": ""
            },
            "type": "choropleth"
           }
          ],
          "contour": [
           {
            "colorbar": {
             "outlinewidth": 0,
             "ticks": ""
            },
            "colorscale": [
             [
              0,
              "#0d0887"
             ],
             [
              0.1111111111111111,
              "#46039f"
             ],
             [
              0.2222222222222222,
              "#7201a8"
             ],
             [
              0.3333333333333333,
              "#9c179e"
             ],
             [
              0.4444444444444444,
              "#bd3786"
             ],
             [
              0.5555555555555556,
              "#d8576b"
             ],
             [
              0.6666666666666666,
              "#ed7953"
             ],
             [
              0.7777777777777778,
              "#fb9f3a"
             ],
             [
              0.8888888888888888,
              "#fdca26"
             ],
             [
              1,
              "#f0f921"
             ]
            ],
            "type": "contour"
           }
          ],
          "contourcarpet": [
           {
            "colorbar": {
             "outlinewidth": 0,
             "ticks": ""
            },
            "type": "contourcarpet"
           }
          ],
          "heatmap": [
           {
            "colorbar": {
             "outlinewidth": 0,
             "ticks": ""
            },
            "colorscale": [
             [
              0,
              "#0d0887"
             ],
             [
              0.1111111111111111,
              "#46039f"
             ],
             [
              0.2222222222222222,
              "#7201a8"
             ],
             [
              0.3333333333333333,
              "#9c179e"
             ],
             [
              0.4444444444444444,
              "#bd3786"
             ],
             [
              0.5555555555555556,
              "#d8576b"
             ],
             [
              0.6666666666666666,
              "#ed7953"
             ],
             [
              0.7777777777777778,
              "#fb9f3a"
             ],
             [
              0.8888888888888888,
              "#fdca26"
             ],
             [
              1,
              "#f0f921"
             ]
            ],
            "type": "heatmap"
           }
          ],
          "heatmapgl": [
           {
            "colorbar": {
             "outlinewidth": 0,
             "ticks": ""
            },
            "colorscale": [
             [
              0,
              "#0d0887"
             ],
             [
              0.1111111111111111,
              "#46039f"
             ],
             [
              0.2222222222222222,
              "#7201a8"
             ],
             [
              0.3333333333333333,
              "#9c179e"
             ],
             [
              0.4444444444444444,
              "#bd3786"
             ],
             [
              0.5555555555555556,
              "#d8576b"
             ],
             [
              0.6666666666666666,
              "#ed7953"
             ],
             [
              0.7777777777777778,
              "#fb9f3a"
             ],
             [
              0.8888888888888888,
              "#fdca26"
             ],
             [
              1,
              "#f0f921"
             ]
            ],
            "type": "heatmapgl"
           }
          ],
          "histogram": [
           {
            "marker": {
             "colorbar": {
              "outlinewidth": 0,
              "ticks": ""
             }
            },
            "type": "histogram"
           }
          ],
          "histogram2d": [
           {
            "colorbar": {
             "outlinewidth": 0,
             "ticks": ""
            },
            "colorscale": [
             [
              0,
              "#0d0887"
             ],
             [
              0.1111111111111111,
              "#46039f"
             ],
             [
              0.2222222222222222,
              "#7201a8"
             ],
             [
              0.3333333333333333,
              "#9c179e"
             ],
             [
              0.4444444444444444,
              "#bd3786"
             ],
             [
              0.5555555555555556,
              "#d8576b"
             ],
             [
              0.6666666666666666,
              "#ed7953"
             ],
             [
              0.7777777777777778,
              "#fb9f3a"
             ],
             [
              0.8888888888888888,
              "#fdca26"
             ],
             [
              1,
              "#f0f921"
             ]
            ],
            "type": "histogram2d"
           }
          ],
          "histogram2dcontour": [
           {
            "colorbar": {
             "outlinewidth": 0,
             "ticks": ""
            },
            "colorscale": [
             [
              0,
              "#0d0887"
             ],
             [
              0.1111111111111111,
              "#46039f"
             ],
             [
              0.2222222222222222,
              "#7201a8"
             ],
             [
              0.3333333333333333,
              "#9c179e"
             ],
             [
              0.4444444444444444,
              "#bd3786"
             ],
             [
              0.5555555555555556,
              "#d8576b"
             ],
             [
              0.6666666666666666,
              "#ed7953"
             ],
             [
              0.7777777777777778,
              "#fb9f3a"
             ],
             [
              0.8888888888888888,
              "#fdca26"
             ],
             [
              1,
              "#f0f921"
             ]
            ],
            "type": "histogram2dcontour"
           }
          ],
          "mesh3d": [
           {
            "colorbar": {
             "outlinewidth": 0,
             "ticks": ""
            },
            "type": "mesh3d"
           }
          ],
          "parcoords": [
           {
            "line": {
             "colorbar": {
              "outlinewidth": 0,
              "ticks": ""
             }
            },
            "type": "parcoords"
           }
          ],
          "pie": [
           {
            "automargin": true,
            "type": "pie"
           }
          ],
          "scatter": [
           {
            "marker": {
             "colorbar": {
              "outlinewidth": 0,
              "ticks": ""
             }
            },
            "type": "scatter"
           }
          ],
          "scatter3d": [
           {
            "line": {
             "colorbar": {
              "outlinewidth": 0,
              "ticks": ""
             }
            },
            "marker": {
             "colorbar": {
              "outlinewidth": 0,
              "ticks": ""
             }
            },
            "type": "scatter3d"
           }
          ],
          "scattercarpet": [
           {
            "marker": {
             "colorbar": {
              "outlinewidth": 0,
              "ticks": ""
             }
            },
            "type": "scattercarpet"
           }
          ],
          "scattergeo": [
           {
            "marker": {
             "colorbar": {
              "outlinewidth": 0,
              "ticks": ""
             }
            },
            "type": "scattergeo"
           }
          ],
          "scattergl": [
           {
            "marker": {
             "colorbar": {
              "outlinewidth": 0,
              "ticks": ""
             }
            },
            "type": "scattergl"
           }
          ],
          "scattermapbox": [
           {
            "marker": {
             "colorbar": {
              "outlinewidth": 0,
              "ticks": ""
             }
            },
            "type": "scattermapbox"
           }
          ],
          "scatterpolar": [
           {
            "marker": {
             "colorbar": {
              "outlinewidth": 0,
              "ticks": ""
             }
            },
            "type": "scatterpolar"
           }
          ],
          "scatterpolargl": [
           {
            "marker": {
             "colorbar": {
              "outlinewidth": 0,
              "ticks": ""
             }
            },
            "type": "scatterpolargl"
           }
          ],
          "scatterternary": [
           {
            "marker": {
             "colorbar": {
              "outlinewidth": 0,
              "ticks": ""
             }
            },
            "type": "scatterternary"
           }
          ],
          "surface": [
           {
            "colorbar": {
             "outlinewidth": 0,
             "ticks": ""
            },
            "colorscale": [
             [
              0,
              "#0d0887"
             ],
             [
              0.1111111111111111,
              "#46039f"
             ],
             [
              0.2222222222222222,
              "#7201a8"
             ],
             [
              0.3333333333333333,
              "#9c179e"
             ],
             [
              0.4444444444444444,
              "#bd3786"
             ],
             [
              0.5555555555555556,
              "#d8576b"
             ],
             [
              0.6666666666666666,
              "#ed7953"
             ],
             [
              0.7777777777777778,
              "#fb9f3a"
             ],
             [
              0.8888888888888888,
              "#fdca26"
             ],
             [
              1,
              "#f0f921"
             ]
            ],
            "type": "surface"
           }
          ],
          "table": [
           {
            "cells": {
             "fill": {
              "color": "#EBF0F8"
             },
             "line": {
              "color": "white"
             }
            },
            "header": {
             "fill": {
              "color": "#C8D4E3"
             },
             "line": {
              "color": "white"
             }
            },
            "type": "table"
           }
          ]
         },
         "layout": {
          "annotationdefaults": {
           "arrowcolor": "#2a3f5f",
           "arrowhead": 0,
           "arrowwidth": 1
          },
          "coloraxis": {
           "colorbar": {
            "outlinewidth": 0,
            "ticks": ""
           }
          },
          "colorscale": {
           "diverging": [
            [
             0,
             "#8e0152"
            ],
            [
             0.1,
             "#c51b7d"
            ],
            [
             0.2,
             "#de77ae"
            ],
            [
             0.3,
             "#f1b6da"
            ],
            [
             0.4,
             "#fde0ef"
            ],
            [
             0.5,
             "#f7f7f7"
            ],
            [
             0.6,
             "#e6f5d0"
            ],
            [
             0.7,
             "#b8e186"
            ],
            [
             0.8,
             "#7fbc41"
            ],
            [
             0.9,
             "#4d9221"
            ],
            [
             1,
             "#276419"
            ]
           ],
           "sequential": [
            [
             0,
             "#0d0887"
            ],
            [
             0.1111111111111111,
             "#46039f"
            ],
            [
             0.2222222222222222,
             "#7201a8"
            ],
            [
             0.3333333333333333,
             "#9c179e"
            ],
            [
             0.4444444444444444,
             "#bd3786"
            ],
            [
             0.5555555555555556,
             "#d8576b"
            ],
            [
             0.6666666666666666,
             "#ed7953"
            ],
            [
             0.7777777777777778,
             "#fb9f3a"
            ],
            [
             0.8888888888888888,
             "#fdca26"
            ],
            [
             1,
             "#f0f921"
            ]
           ],
           "sequentialminus": [
            [
             0,
             "#0d0887"
            ],
            [
             0.1111111111111111,
             "#46039f"
            ],
            [
             0.2222222222222222,
             "#7201a8"
            ],
            [
             0.3333333333333333,
             "#9c179e"
            ],
            [
             0.4444444444444444,
             "#bd3786"
            ],
            [
             0.5555555555555556,
             "#d8576b"
            ],
            [
             0.6666666666666666,
             "#ed7953"
            ],
            [
             0.7777777777777778,
             "#fb9f3a"
            ],
            [
             0.8888888888888888,
             "#fdca26"
            ],
            [
             1,
             "#f0f921"
            ]
           ]
          },
          "colorway": [
           "#636efa",
           "#EF553B",
           "#00cc96",
           "#ab63fa",
           "#FFA15A",
           "#19d3f3",
           "#FF6692",
           "#B6E880",
           "#FF97FF",
           "#FECB52"
          ],
          "font": {
           "color": "#2a3f5f"
          },
          "geo": {
           "bgcolor": "white",
           "lakecolor": "white",
           "landcolor": "#E5ECF6",
           "showlakes": true,
           "showland": true,
           "subunitcolor": "white"
          },
          "hoverlabel": {
           "align": "left"
          },
          "hovermode": "closest",
          "mapbox": {
           "style": "light"
          },
          "paper_bgcolor": "white",
          "plot_bgcolor": "#E5ECF6",
          "polar": {
           "angularaxis": {
            "gridcolor": "white",
            "linecolor": "white",
            "ticks": ""
           },
           "bgcolor": "#E5ECF6",
           "radialaxis": {
            "gridcolor": "white",
            "linecolor": "white",
            "ticks": ""
           }
          },
          "scene": {
           "xaxis": {
            "backgroundcolor": "#E5ECF6",
            "gridcolor": "white",
            "gridwidth": 2,
            "linecolor": "white",
            "showbackground": true,
            "ticks": "",
            "zerolinecolor": "white"
           },
           "yaxis": {
            "backgroundcolor": "#E5ECF6",
            "gridcolor": "white",
            "gridwidth": 2,
            "linecolor": "white",
            "showbackground": true,
            "ticks": "",
            "zerolinecolor": "white"
           },
           "zaxis": {
            "backgroundcolor": "#E5ECF6",
            "gridcolor": "white",
            "gridwidth": 2,
            "linecolor": "white",
            "showbackground": true,
            "ticks": "",
            "zerolinecolor": "white"
           }
          },
          "shapedefaults": {
           "line": {
            "color": "#2a3f5f"
           }
          },
          "ternary": {
           "aaxis": {
            "gridcolor": "white",
            "linecolor": "white",
            "ticks": ""
           },
           "baxis": {
            "gridcolor": "white",
            "linecolor": "white",
            "ticks": ""
           },
           "bgcolor": "#E5ECF6",
           "caxis": {
            "gridcolor": "white",
            "linecolor": "white",
            "ticks": ""
           }
          },
          "title": {
           "x": 0.05
          },
          "xaxis": {
           "automargin": true,
           "gridcolor": "white",
           "linecolor": "white",
           "ticks": "",
           "title": {
            "standoff": 15
           },
           "zerolinecolor": "white",
           "zerolinewidth": 2
          },
          "yaxis": {
           "automargin": true,
           "gridcolor": "white",
           "linecolor": "white",
           "ticks": "",
           "title": {
            "standoff": 15
           },
           "zerolinecolor": "white",
           "zerolinewidth": 2
          }
         }
        },
        "title": {
         "text": "Clustering Distribution of \"Best\" Neighbourhoods using Housing Prices"
        },
        "xaxis": {
         "anchor": "y",
         "categoryarray": [
          "0",
          "1",
          "2",
          "Low",
          "Mid",
          "High"
         ],
         "categoryorder": "array",
         "domain": [
          0,
          1
         ],
         "title": {
          "text": "Cluster Labels"
         },
         "type": "category"
        },
        "yaxis": {
         "anchor": "x",
         "domain": [
          0,
          1
         ],
         "title": {
          "text": "Total Neighbourhoods"
         }
        }
       }
      },
      "text/html": [
       "<div>                            <div id=\"30ea4c1f-35eb-4819-9e81-d4002e7eebbe\" class=\"plotly-graph-div\" style=\"height:525px; width:100%;\"></div>            <script type=\"text/javascript\">                require([\"plotly\"], function(Plotly) {                    window.PLOTLYENV=window.PLOTLYENV || {};                                    if (document.getElementById(\"30ea4c1f-35eb-4819-9e81-d4002e7eebbe\")) {                    Plotly.newPlot(                        \"30ea4c1f-35eb-4819-9e81-d4002e7eebbe\",                        [{\"alignmentgroup\": \"True\", \"hovertemplate\": \"Cluster Labels=%{x}<br>Total Neighbourhoods=%{text}<extra></extra>\", \"legendgroup\": \"Low\", \"marker\": {\"color\": \"#636efa\"}, \"name\": \"Low\", \"offsetgroup\": \"Low\", \"orientation\": \"v\", \"showlegend\": true, \"text\": [7.0], \"textposition\": \"auto\", \"type\": \"bar\", \"x\": [\"Low\"], \"xaxis\": \"x\", \"y\": [7], \"yaxis\": \"y\"}, {\"alignmentgroup\": \"True\", \"hovertemplate\": \"Cluster Labels=%{x}<br>Total Neighbourhoods=%{text}<extra></extra>\", \"legendgroup\": \"Mid\", \"marker\": {\"color\": \"#EF553B\"}, \"name\": \"Mid\", \"offsetgroup\": \"Mid\", \"orientation\": \"v\", \"showlegend\": true, \"text\": [82.0], \"textposition\": \"auto\", \"type\": \"bar\", \"x\": [\"Mid\"], \"xaxis\": \"x\", \"y\": [82], \"yaxis\": \"y\"}, {\"alignmentgroup\": \"True\", \"hovertemplate\": \"Cluster Labels=%{x}<br>Total Neighbourhoods=%{text}<extra></extra>\", \"legendgroup\": \"High\", \"marker\": {\"color\": \"#00cc96\"}, \"name\": \"High\", \"offsetgroup\": \"High\", \"orientation\": \"v\", \"showlegend\": true, \"text\": [20.0], \"textposition\": \"auto\", \"type\": \"bar\", \"x\": [\"High\"], \"xaxis\": \"x\", \"y\": [20], \"yaxis\": \"y\"}],                        {\"barmode\": \"relative\", \"legend\": {\"title\": {\"text\": \"Cluster Labels\"}, \"tracegroupgap\": 0}, \"margin\": {\"b\": 0, \"l\": 0, \"r\": 0, \"t\": 30}, \"template\": {\"data\": {\"bar\": [{\"error_x\": {\"color\": \"#2a3f5f\"}, \"error_y\": {\"color\": \"#2a3f5f\"}, \"marker\": {\"line\": {\"color\": \"#E5ECF6\", \"width\": 0.5}}, \"type\": \"bar\"}], \"barpolar\": [{\"marker\": {\"line\": {\"color\": \"#E5ECF6\", \"width\": 0.5}}, \"type\": \"barpolar\"}], \"carpet\": [{\"aaxis\": {\"endlinecolor\": \"#2a3f5f\", \"gridcolor\": \"white\", \"linecolor\": \"white\", \"minorgridcolor\": \"white\", \"startlinecolor\": \"#2a3f5f\"}, \"baxis\": {\"endlinecolor\": \"#2a3f5f\", \"gridcolor\": \"white\", \"linecolor\": \"white\", \"minorgridcolor\": \"white\", \"startlinecolor\": \"#2a3f5f\"}, \"type\": \"carpet\"}], \"choropleth\": [{\"colorbar\": {\"outlinewidth\": 0, \"ticks\": \"\"}, \"type\": \"choropleth\"}], \"contour\": [{\"colorbar\": {\"outlinewidth\": 0, \"ticks\": \"\"}, \"colorscale\": [[0.0, \"#0d0887\"], [0.1111111111111111, \"#46039f\"], [0.2222222222222222, \"#7201a8\"], [0.3333333333333333, \"#9c179e\"], [0.4444444444444444, \"#bd3786\"], [0.5555555555555556, \"#d8576b\"], [0.6666666666666666, \"#ed7953\"], [0.7777777777777778, \"#fb9f3a\"], [0.8888888888888888, \"#fdca26\"], [1.0, \"#f0f921\"]], \"type\": \"contour\"}], \"contourcarpet\": [{\"colorbar\": {\"outlinewidth\": 0, \"ticks\": \"\"}, \"type\": \"contourcarpet\"}], \"heatmap\": [{\"colorbar\": {\"outlinewidth\": 0, \"ticks\": \"\"}, \"colorscale\": [[0.0, \"#0d0887\"], [0.1111111111111111, \"#46039f\"], [0.2222222222222222, \"#7201a8\"], [0.3333333333333333, \"#9c179e\"], [0.4444444444444444, \"#bd3786\"], [0.5555555555555556, \"#d8576b\"], [0.6666666666666666, \"#ed7953\"], [0.7777777777777778, \"#fb9f3a\"], [0.8888888888888888, \"#fdca26\"], [1.0, \"#f0f921\"]], \"type\": \"heatmap\"}], \"heatmapgl\": [{\"colorbar\": {\"outlinewidth\": 0, \"ticks\": \"\"}, \"colorscale\": [[0.0, \"#0d0887\"], [0.1111111111111111, \"#46039f\"], [0.2222222222222222, \"#7201a8\"], [0.3333333333333333, \"#9c179e\"], [0.4444444444444444, \"#bd3786\"], [0.5555555555555556, \"#d8576b\"], [0.6666666666666666, \"#ed7953\"], [0.7777777777777778, \"#fb9f3a\"], [0.8888888888888888, \"#fdca26\"], [1.0, \"#f0f921\"]], \"type\": \"heatmapgl\"}], \"histogram\": [{\"marker\": {\"colorbar\": {\"outlinewidth\": 0, \"ticks\": \"\"}}, \"type\": \"histogram\"}], \"histogram2d\": [{\"colorbar\": {\"outlinewidth\": 0, \"ticks\": \"\"}, \"colorscale\": [[0.0, \"#0d0887\"], [0.1111111111111111, \"#46039f\"], [0.2222222222222222, \"#7201a8\"], [0.3333333333333333, \"#9c179e\"], [0.4444444444444444, \"#bd3786\"], [0.5555555555555556, \"#d8576b\"], [0.6666666666666666, \"#ed7953\"], [0.7777777777777778, \"#fb9f3a\"], [0.8888888888888888, \"#fdca26\"], [1.0, \"#f0f921\"]], \"type\": \"histogram2d\"}], \"histogram2dcontour\": [{\"colorbar\": {\"outlinewidth\": 0, \"ticks\": \"\"}, \"colorscale\": [[0.0, \"#0d0887\"], [0.1111111111111111, \"#46039f\"], [0.2222222222222222, \"#7201a8\"], [0.3333333333333333, \"#9c179e\"], [0.4444444444444444, \"#bd3786\"], [0.5555555555555556, \"#d8576b\"], [0.6666666666666666, \"#ed7953\"], [0.7777777777777778, \"#fb9f3a\"], [0.8888888888888888, \"#fdca26\"], [1.0, \"#f0f921\"]], \"type\": \"histogram2dcontour\"}], \"mesh3d\": [{\"colorbar\": {\"outlinewidth\": 0, \"ticks\": \"\"}, \"type\": \"mesh3d\"}], \"parcoords\": [{\"line\": {\"colorbar\": {\"outlinewidth\": 0, \"ticks\": \"\"}}, \"type\": \"parcoords\"}], \"pie\": [{\"automargin\": true, \"type\": \"pie\"}], \"scatter\": [{\"marker\": {\"colorbar\": {\"outlinewidth\": 0, \"ticks\": \"\"}}, \"type\": \"scatter\"}], \"scatter3d\": [{\"line\": {\"colorbar\": {\"outlinewidth\": 0, \"ticks\": \"\"}}, \"marker\": {\"colorbar\": {\"outlinewidth\": 0, \"ticks\": \"\"}}, \"type\": \"scatter3d\"}], \"scattercarpet\": [{\"marker\": {\"colorbar\": {\"outlinewidth\": 0, \"ticks\": \"\"}}, \"type\": \"scattercarpet\"}], \"scattergeo\": [{\"marker\": {\"colorbar\": {\"outlinewidth\": 0, \"ticks\": \"\"}}, \"type\": \"scattergeo\"}], \"scattergl\": [{\"marker\": {\"colorbar\": {\"outlinewidth\": 0, \"ticks\": \"\"}}, \"type\": \"scattergl\"}], \"scattermapbox\": [{\"marker\": {\"colorbar\": {\"outlinewidth\": 0, \"ticks\": \"\"}}, \"type\": \"scattermapbox\"}], \"scatterpolar\": [{\"marker\": {\"colorbar\": {\"outlinewidth\": 0, \"ticks\": \"\"}}, \"type\": \"scatterpolar\"}], \"scatterpolargl\": [{\"marker\": {\"colorbar\": {\"outlinewidth\": 0, \"ticks\": \"\"}}, \"type\": \"scatterpolargl\"}], \"scatterternary\": [{\"marker\": {\"colorbar\": {\"outlinewidth\": 0, \"ticks\": \"\"}}, \"type\": \"scatterternary\"}], \"surface\": [{\"colorbar\": {\"outlinewidth\": 0, \"ticks\": \"\"}, \"colorscale\": [[0.0, \"#0d0887\"], [0.1111111111111111, \"#46039f\"], [0.2222222222222222, \"#7201a8\"], [0.3333333333333333, \"#9c179e\"], [0.4444444444444444, \"#bd3786\"], [0.5555555555555556, \"#d8576b\"], [0.6666666666666666, \"#ed7953\"], [0.7777777777777778, \"#fb9f3a\"], [0.8888888888888888, \"#fdca26\"], [1.0, \"#f0f921\"]], \"type\": \"surface\"}], \"table\": [{\"cells\": {\"fill\": {\"color\": \"#EBF0F8\"}, \"line\": {\"color\": \"white\"}}, \"header\": {\"fill\": {\"color\": \"#C8D4E3\"}, \"line\": {\"color\": \"white\"}}, \"type\": \"table\"}]}, \"layout\": {\"annotationdefaults\": {\"arrowcolor\": \"#2a3f5f\", \"arrowhead\": 0, \"arrowwidth\": 1}, \"coloraxis\": {\"colorbar\": {\"outlinewidth\": 0, \"ticks\": \"\"}}, \"colorscale\": {\"diverging\": [[0, \"#8e0152\"], [0.1, \"#c51b7d\"], [0.2, \"#de77ae\"], [0.3, \"#f1b6da\"], [0.4, \"#fde0ef\"], [0.5, \"#f7f7f7\"], [0.6, \"#e6f5d0\"], [0.7, \"#b8e186\"], [0.8, \"#7fbc41\"], [0.9, \"#4d9221\"], [1, \"#276419\"]], \"sequential\": [[0.0, \"#0d0887\"], [0.1111111111111111, \"#46039f\"], [0.2222222222222222, \"#7201a8\"], [0.3333333333333333, \"#9c179e\"], [0.4444444444444444, \"#bd3786\"], [0.5555555555555556, \"#d8576b\"], [0.6666666666666666, \"#ed7953\"], [0.7777777777777778, \"#fb9f3a\"], [0.8888888888888888, \"#fdca26\"], [1.0, \"#f0f921\"]], \"sequentialminus\": [[0.0, \"#0d0887\"], [0.1111111111111111, \"#46039f\"], [0.2222222222222222, \"#7201a8\"], [0.3333333333333333, \"#9c179e\"], [0.4444444444444444, \"#bd3786\"], [0.5555555555555556, \"#d8576b\"], [0.6666666666666666, \"#ed7953\"], [0.7777777777777778, \"#fb9f3a\"], [0.8888888888888888, \"#fdca26\"], [1.0, \"#f0f921\"]]}, \"colorway\": [\"#636efa\", \"#EF553B\", \"#00cc96\", \"#ab63fa\", \"#FFA15A\", \"#19d3f3\", \"#FF6692\", \"#B6E880\", \"#FF97FF\", \"#FECB52\"], \"font\": {\"color\": \"#2a3f5f\"}, \"geo\": {\"bgcolor\": \"white\", \"lakecolor\": \"white\", \"landcolor\": \"#E5ECF6\", \"showlakes\": true, \"showland\": true, \"subunitcolor\": \"white\"}, \"hoverlabel\": {\"align\": \"left\"}, \"hovermode\": \"closest\", \"mapbox\": {\"style\": \"light\"}, \"paper_bgcolor\": \"white\", \"plot_bgcolor\": \"#E5ECF6\", \"polar\": {\"angularaxis\": {\"gridcolor\": \"white\", \"linecolor\": \"white\", \"ticks\": \"\"}, \"bgcolor\": \"#E5ECF6\", \"radialaxis\": {\"gridcolor\": \"white\", \"linecolor\": \"white\", \"ticks\": \"\"}}, \"scene\": {\"xaxis\": {\"backgroundcolor\": \"#E5ECF6\", \"gridcolor\": \"white\", \"gridwidth\": 2, \"linecolor\": \"white\", \"showbackground\": true, \"ticks\": \"\", \"zerolinecolor\": \"white\"}, \"yaxis\": {\"backgroundcolor\": \"#E5ECF6\", \"gridcolor\": \"white\", \"gridwidth\": 2, \"linecolor\": \"white\", \"showbackground\": true, \"ticks\": \"\", \"zerolinecolor\": \"white\"}, \"zaxis\": {\"backgroundcolor\": \"#E5ECF6\", \"gridcolor\": \"white\", \"gridwidth\": 2, \"linecolor\": \"white\", \"showbackground\": true, \"ticks\": \"\", \"zerolinecolor\": \"white\"}}, \"shapedefaults\": {\"line\": {\"color\": \"#2a3f5f\"}}, \"ternary\": {\"aaxis\": {\"gridcolor\": \"white\", \"linecolor\": \"white\", \"ticks\": \"\"}, \"baxis\": {\"gridcolor\": \"white\", \"linecolor\": \"white\", \"ticks\": \"\"}, \"bgcolor\": \"#E5ECF6\", \"caxis\": {\"gridcolor\": \"white\", \"linecolor\": \"white\", \"ticks\": \"\"}}, \"title\": {\"x\": 0.05}, \"xaxis\": {\"automargin\": true, \"gridcolor\": \"white\", \"linecolor\": \"white\", \"ticks\": \"\", \"title\": {\"standoff\": 15}, \"zerolinecolor\": \"white\", \"zerolinewidth\": 2}, \"yaxis\": {\"automargin\": true, \"gridcolor\": \"white\", \"linecolor\": \"white\", \"ticks\": \"\", \"title\": {\"standoff\": 15}, \"zerolinecolor\": \"white\", \"zerolinewidth\": 2}}}, \"title\": {\"text\": \"Clustering Distribution of \\\"Best\\\" Neighbourhoods using Housing Prices\"}, \"xaxis\": {\"anchor\": \"y\", \"categoryarray\": [\"0\", \"1\", \"2\", \"Low\", \"Mid\", \"High\"], \"categoryorder\": \"array\", \"domain\": [0.0, 1.0], \"title\": {\"text\": \"Cluster Labels\"}, \"type\": \"category\"}, \"yaxis\": {\"anchor\": \"x\", \"domain\": [0.0, 1.0], \"title\": {\"text\": \"Total Neighbourhoods\"}}},                        {\"responsive\": true}                    ).then(function(){\n",
       "                            \n",
       "var gd = document.getElementById('30ea4c1f-35eb-4819-9e81-d4002e7eebbe');\n",
       "var x = new MutationObserver(function (mutations, observer) {{\n",
       "        var display = window.getComputedStyle(gd).display;\n",
       "        if (!display || display === 'none') {{\n",
       "            console.log([gd, 'removed!']);\n",
       "            Plotly.purge(gd);\n",
       "            observer.disconnect();\n",
       "        }}\n",
       "}});\n",
       "\n",
       "// Listen for the removal of the full notebook cells\n",
       "var notebookContainer = gd.closest('#notebook-container');\n",
       "if (notebookContainer) {{\n",
       "    x.observe(notebookContainer, {childList: true});\n",
       "}}\n",
       "\n",
       "// Listen for the clearing of the current output cell\n",
       "var outputEl = gd.closest('.output');\n",
       "if (outputEl) {{\n",
       "    x.observe(outputEl, {childList: true});\n",
       "}}\n",
       "\n",
       "                        })                };                });            </script>        </div>"
      ]
     },
     "metadata": {},
     "output_type": "display_data"
    }
   ],
   "source": [
    "# Bar chart from Clustering using Secondary benchmark\n",
    "cluster_barchart2 = px.bar(Bardata2, x=\"Cluster Labels\", y=\"Total Neighbourhoods\",  color=\"Cluster Labels\", \n",
    "                          text='Total Neighbourhoods', category_orders={\"Cluster Labels\": [\"0\", \"1\", \"2\"]})\n",
    "              \n",
    "cluster_barchart2.update_xaxes(type='category')\n",
    "cluster_barchart2.update_layout(title = 'Clustering Distribution of \"Best\" Neighbourhoods using Housing Prices',\n",
    "                         margin={\"r\":0,\"t\":30,\"l\":0,\"b\":0})\n",
    "cluster_barchart2.show()"
   ]
  },
  {
   "cell_type": "markdown",
   "metadata": {
    "deletable": false,
    "editable": false
   },
   "source": [
    "## 13. Final Results and Visualizations"
   ]
  },
  {
   "cell_type": "markdown",
   "metadata": {
    "deletable": false,
    "editable": false
   },
   "source": [
    "The results from the second clustering attempt in Secction 12 were used to rank the neighbourhoods into 4 categories. The neighbourhoods that belonged to the “Mid” and “High” clusters using _primary benchmarks_ were classified as the **_Least desirable_** neighbourhoods while those with \"Low\", \"Mid\" and \"High\" clusters using housing prices were classified as **_Most Desirable, Desirable and Semi-Desirable_** respectively."
   ]
  },
  {
   "cell_type": "code",
   "execution_count": 67,
   "metadata": {
    "scrolled": true
   },
   "outputs": [
    {
     "data": {
      "text/html": [
       "<div>\n",
       "<style scoped>\n",
       "    .dataframe tbody tr th:only-of-type {\n",
       "        vertical-align: middle;\n",
       "    }\n",
       "\n",
       "    .dataframe tbody tr th {\n",
       "        vertical-align: top;\n",
       "    }\n",
       "\n",
       "    .dataframe thead th {\n",
       "        text-align: right;\n",
       "    }\n",
       "</style>\n",
       "<table border=\"1\" class=\"dataframe\">\n",
       "  <thead>\n",
       "    <tr style=\"text-align: right;\">\n",
       "      <th></th>\n",
       "      <th>Neighbourhood Name</th>\n",
       "      <th>LONGITUDE</th>\n",
       "      <th>LATITUDE</th>\n",
       "      <th>Shape__Area</th>\n",
       "      <th>Shape__Length</th>\n",
       "      <th>geometry</th>\n",
       "      <th>Neighbourhood Desirability Index</th>\n",
       "    </tr>\n",
       "    <tr>\n",
       "      <th>Neighbourhood ID</th>\n",
       "      <th></th>\n",
       "      <th></th>\n",
       "      <th></th>\n",
       "      <th></th>\n",
       "      <th></th>\n",
       "      <th></th>\n",
       "      <th></th>\n",
       "    </tr>\n",
       "  </thead>\n",
       "  <tbody>\n",
       "    <tr>\n",
       "      <th>94</th>\n",
       "      <td>Wychwood</td>\n",
       "      <td>-79.43</td>\n",
       "      <td>43.68</td>\n",
       "      <td>3,217,959.61</td>\n",
       "      <td>7,515.78</td>\n",
       "      <td>POLYGON ((-79.43592 43.68015, -79.43492 43.680...</td>\n",
       "      <td>1</td>\n",
       "    </tr>\n",
       "    <tr>\n",
       "      <th>100</th>\n",
       "      <td>Yonge-Eglinton</td>\n",
       "      <td>-79.40</td>\n",
       "      <td>43.70</td>\n",
       "      <td>3,160,333.99</td>\n",
       "      <td>7,872.02</td>\n",
       "      <td>POLYGON ((-79.41096 43.70408, -79.40962 43.704...</td>\n",
       "      <td>1</td>\n",
       "    </tr>\n",
       "    <tr>\n",
       "      <th>97</th>\n",
       "      <td>Yonge-St.Clair</td>\n",
       "      <td>-79.40</td>\n",
       "      <td>43.69</td>\n",
       "      <td>2,222,464.27</td>\n",
       "      <td>8,130.41</td>\n",
       "      <td>POLYGON ((-79.39119 43.68108, -79.39141 43.680...</td>\n",
       "      <td>1</td>\n",
       "    </tr>\n",
       "    <tr>\n",
       "      <th>27</th>\n",
       "      <td>York University Heights</td>\n",
       "      <td>-79.49</td>\n",
       "      <td>43.77</td>\n",
       "      <td>25,418,210.12</td>\n",
       "      <td>25,632.34</td>\n",
       "      <td>POLYGON ((-79.50529 43.75987, -79.50488 43.759...</td>\n",
       "      <td>3</td>\n",
       "    </tr>\n",
       "    <tr>\n",
       "      <th>31</th>\n",
       "      <td>Yorkdale-Glen Park</td>\n",
       "      <td>-79.46</td>\n",
       "      <td>43.71</td>\n",
       "      <td>11,566,687.56</td>\n",
       "      <td>13,953.41</td>\n",
       "      <td>POLYGON ((-79.43969 43.70561, -79.44011 43.705...</td>\n",
       "      <td>3</td>\n",
       "    </tr>\n",
       "  </tbody>\n",
       "</table>\n",
       "</div>"
      ],
      "text/plain": [
       "                       Neighbourhood Name  LONGITUDE  LATITUDE   Shape__Area  \\\n",
       "Neighbourhood ID                                                               \n",
       "94                               Wychwood     -79.43     43.68  3,217,959.61   \n",
       "100                        Yonge-Eglinton     -79.40     43.70  3,160,333.99   \n",
       "97                         Yonge-St.Clair     -79.40     43.69  2,222,464.27   \n",
       "27                York University Heights     -79.49     43.77 25,418,210.12   \n",
       "31                     Yorkdale-Glen Park     -79.46     43.71 11,566,687.56   \n",
       "\n",
       "                  Shape__Length  \\\n",
       "Neighbourhood ID                  \n",
       "94                     7,515.78   \n",
       "100                    7,872.02   \n",
       "97                     8,130.41   \n",
       "27                    25,632.34   \n",
       "31                    13,953.41   \n",
       "\n",
       "                                                           geometry  \\\n",
       "Neighbourhood ID                                                      \n",
       "94                POLYGON ((-79.43592 43.68015, -79.43492 43.680...   \n",
       "100               POLYGON ((-79.41096 43.70408, -79.40962 43.704...   \n",
       "97                POLYGON ((-79.39119 43.68108, -79.39141 43.680...   \n",
       "27                POLYGON ((-79.50529 43.75987, -79.50488 43.759...   \n",
       "31                POLYGON ((-79.43969 43.70561, -79.44011 43.705...   \n",
       "\n",
       "                  Neighbourhood Desirability Index  \n",
       "Neighbourhood ID                                    \n",
       "94                                               1  \n",
       "100                                              1  \n",
       "97                                               1  \n",
       "27                                               3  \n",
       "31                                               3  "
      ]
     },
     "execution_count": 67,
     "metadata": {},
     "output_type": "execute_result"
    }
   ],
   "source": [
    "# Get results from clustering attempts using secondary benchmark in a new datframe\n",
    "Best_Cluster1=Best_Cluster[['Neighbourhood ID','Cluster Labels']].copy(deep=True)\n",
    "# Create a copy of the Geopandas dataframe to help with final map visualization\n",
    "housing_map=toronto_gdf.copy(deep=True)\n",
    "# Join the Best_Cluster1 with the Geopandas dataframe\n",
    "housing_map = housing_map.join(Best_Cluster1.set_index('Neighbourhood ID'), on='Neighbourhood ID')\n",
    "# Set index to Neighbourhood ID. This is helpful for map visualizations\n",
    "housing_map=housing_map.set_index('Neighbourhood ID')\n",
    "# For neighbourhoods in Mid and High Clusters from Section 11, they will have NaN values\n",
    "# The NaN values are now replaced with number 3 so they become the 4 clusters\n",
    "housing_map['Cluster Labels']=housing_map['Cluster Labels'].fillna(value=3)\n",
    "# Rename Cluster Labels column\n",
    "housing_map.rename(columns={'Cluster Labels': 'Neighbourhood Desirability Index'},inplace=True)\n",
    "# Change column data type\n",
    "housing_map['Neighbourhood Desirability Index']=housing_map['Neighbourhood Desirability Index'].astype('int64')\n",
    "housing_map.head()"
   ]
  },
  {
   "cell_type": "markdown",
   "metadata": {
    "deletable": false,
    "editable": false
   },
   "source": [
    "### Final distribution of Toronto Neighbourhoods"
   ]
  },
  {
   "cell_type": "code",
   "execution_count": 68,
   "metadata": {},
   "outputs": [
    {
     "data": {
      "application/vnd.plotly.v1+json": {
       "config": {
        "plotlyServerURL": "https://plotly.com"
       },
       "data": [
        {
         "alignmentgroup": "True",
         "bingroup": "x",
         "hovertemplate": "Neighbourhood Desirability Index=%{x}<br>count=%{y}<extra></extra>",
         "legendgroup": "Desirable",
         "marker": {
          "color": "#636efa"
         },
         "name": "Desirable",
         "offsetgroup": "Desirable",
         "orientation": "v",
         "showlegend": true,
         "type": "histogram",
         "x": [
          "Desirable",
          "Desirable",
          "Desirable",
          "Desirable",
          "Desirable",
          "Desirable",
          "Desirable",
          "Desirable",
          "Desirable",
          "Desirable",
          "Desirable",
          "Desirable",
          "Desirable",
          "Desirable",
          "Desirable",
          "Desirable",
          "Desirable",
          "Desirable",
          "Desirable",
          "Desirable",
          "Desirable",
          "Desirable",
          "Desirable",
          "Desirable",
          "Desirable",
          "Desirable",
          "Desirable",
          "Desirable",
          "Desirable",
          "Desirable",
          "Desirable",
          "Desirable",
          "Desirable",
          "Desirable",
          "Desirable",
          "Desirable",
          "Desirable",
          "Desirable",
          "Desirable",
          "Desirable",
          "Desirable",
          "Desirable",
          "Desirable",
          "Desirable",
          "Desirable",
          "Desirable",
          "Desirable",
          "Desirable",
          "Desirable",
          "Desirable",
          "Desirable",
          "Desirable",
          "Desirable",
          "Desirable",
          "Desirable",
          "Desirable",
          "Desirable",
          "Desirable",
          "Desirable",
          "Desirable",
          "Desirable",
          "Desirable",
          "Desirable",
          "Desirable",
          "Desirable",
          "Desirable",
          "Desirable",
          "Desirable",
          "Desirable",
          "Desirable",
          "Desirable",
          "Desirable",
          "Desirable",
          "Desirable",
          "Desirable",
          "Desirable",
          "Desirable",
          "Desirable",
          "Desirable",
          "Desirable",
          "Desirable",
          "Desirable"
         ],
         "xaxis": "x",
         "yaxis": "y"
        },
        {
         "alignmentgroup": "True",
         "bingroup": "x",
         "hovertemplate": "Neighbourhood Desirability Index=%{x}<br>count=%{y}<extra></extra>",
         "legendgroup": "Least Desirable",
         "marker": {
          "color": "#EF553B"
         },
         "name": "Least Desirable",
         "offsetgroup": "Least Desirable",
         "orientation": "v",
         "showlegend": true,
         "type": "histogram",
         "x": [
          "Least Desirable",
          "Least Desirable",
          "Least Desirable",
          "Least Desirable",
          "Least Desirable",
          "Least Desirable",
          "Least Desirable",
          "Least Desirable",
          "Least Desirable",
          "Least Desirable",
          "Least Desirable",
          "Least Desirable",
          "Least Desirable",
          "Least Desirable",
          "Least Desirable",
          "Least Desirable",
          "Least Desirable",
          "Least Desirable",
          "Least Desirable",
          "Least Desirable",
          "Least Desirable",
          "Least Desirable",
          "Least Desirable",
          "Least Desirable",
          "Least Desirable",
          "Least Desirable",
          "Least Desirable",
          "Least Desirable",
          "Least Desirable",
          "Least Desirable",
          "Least Desirable"
         ],
         "xaxis": "x",
         "yaxis": "y"
        },
        {
         "alignmentgroup": "True",
         "bingroup": "x",
         "hovertemplate": "Neighbourhood Desirability Index=%{x}<br>count=%{y}<extra></extra>",
         "legendgroup": "Semi-Desirable",
         "marker": {
          "color": "#00cc96"
         },
         "name": "Semi-Desirable",
         "offsetgroup": "Semi-Desirable",
         "orientation": "v",
         "showlegend": true,
         "type": "histogram",
         "x": [
          "Semi-Desirable",
          "Semi-Desirable",
          "Semi-Desirable",
          "Semi-Desirable",
          "Semi-Desirable",
          "Semi-Desirable",
          "Semi-Desirable",
          "Semi-Desirable",
          "Semi-Desirable",
          "Semi-Desirable",
          "Semi-Desirable",
          "Semi-Desirable",
          "Semi-Desirable",
          "Semi-Desirable",
          "Semi-Desirable",
          "Semi-Desirable",
          "Semi-Desirable",
          "Semi-Desirable",
          "Semi-Desirable",
          "Semi-Desirable"
         ],
         "xaxis": "x",
         "yaxis": "y"
        },
        {
         "alignmentgroup": "True",
         "bingroup": "x",
         "hovertemplate": "Neighbourhood Desirability Index=%{x}<br>count=%{y}<extra></extra>",
         "legendgroup": "Most Desirable",
         "marker": {
          "color": "#ab63fa"
         },
         "name": "Most Desirable",
         "offsetgroup": "Most Desirable",
         "orientation": "v",
         "showlegend": true,
         "type": "histogram",
         "x": [
          "Most Desirable",
          "Most Desirable",
          "Most Desirable",
          "Most Desirable",
          "Most Desirable",
          "Most Desirable",
          "Most Desirable"
         ],
         "xaxis": "x",
         "yaxis": "y"
        }
       ],
       "layout": {
        "barmode": "relative",
        "legend": {
         "title": {
          "text": "Neighbourhood Desirability Index"
         },
         "tracegroupgap": 0
        },
        "template": {
         "data": {
          "bar": [
           {
            "error_x": {
             "color": "#2a3f5f"
            },
            "error_y": {
             "color": "#2a3f5f"
            },
            "marker": {
             "line": {
              "color": "#E5ECF6",
              "width": 0.5
             }
            },
            "type": "bar"
           }
          ],
          "barpolar": [
           {
            "marker": {
             "line": {
              "color": "#E5ECF6",
              "width": 0.5
             }
            },
            "type": "barpolar"
           }
          ],
          "carpet": [
           {
            "aaxis": {
             "endlinecolor": "#2a3f5f",
             "gridcolor": "white",
             "linecolor": "white",
             "minorgridcolor": "white",
             "startlinecolor": "#2a3f5f"
            },
            "baxis": {
             "endlinecolor": "#2a3f5f",
             "gridcolor": "white",
             "linecolor": "white",
             "minorgridcolor": "white",
             "startlinecolor": "#2a3f5f"
            },
            "type": "carpet"
           }
          ],
          "choropleth": [
           {
            "colorbar": {
             "outlinewidth": 0,
             "ticks": ""
            },
            "type": "choropleth"
           }
          ],
          "contour": [
           {
            "colorbar": {
             "outlinewidth": 0,
             "ticks": ""
            },
            "colorscale": [
             [
              0,
              "#0d0887"
             ],
             [
              0.1111111111111111,
              "#46039f"
             ],
             [
              0.2222222222222222,
              "#7201a8"
             ],
             [
              0.3333333333333333,
              "#9c179e"
             ],
             [
              0.4444444444444444,
              "#bd3786"
             ],
             [
              0.5555555555555556,
              "#d8576b"
             ],
             [
              0.6666666666666666,
              "#ed7953"
             ],
             [
              0.7777777777777778,
              "#fb9f3a"
             ],
             [
              0.8888888888888888,
              "#fdca26"
             ],
             [
              1,
              "#f0f921"
             ]
            ],
            "type": "contour"
           }
          ],
          "contourcarpet": [
           {
            "colorbar": {
             "outlinewidth": 0,
             "ticks": ""
            },
            "type": "contourcarpet"
           }
          ],
          "heatmap": [
           {
            "colorbar": {
             "outlinewidth": 0,
             "ticks": ""
            },
            "colorscale": [
             [
              0,
              "#0d0887"
             ],
             [
              0.1111111111111111,
              "#46039f"
             ],
             [
              0.2222222222222222,
              "#7201a8"
             ],
             [
              0.3333333333333333,
              "#9c179e"
             ],
             [
              0.4444444444444444,
              "#bd3786"
             ],
             [
              0.5555555555555556,
              "#d8576b"
             ],
             [
              0.6666666666666666,
              "#ed7953"
             ],
             [
              0.7777777777777778,
              "#fb9f3a"
             ],
             [
              0.8888888888888888,
              "#fdca26"
             ],
             [
              1,
              "#f0f921"
             ]
            ],
            "type": "heatmap"
           }
          ],
          "heatmapgl": [
           {
            "colorbar": {
             "outlinewidth": 0,
             "ticks": ""
            },
            "colorscale": [
             [
              0,
              "#0d0887"
             ],
             [
              0.1111111111111111,
              "#46039f"
             ],
             [
              0.2222222222222222,
              "#7201a8"
             ],
             [
              0.3333333333333333,
              "#9c179e"
             ],
             [
              0.4444444444444444,
              "#bd3786"
             ],
             [
              0.5555555555555556,
              "#d8576b"
             ],
             [
              0.6666666666666666,
              "#ed7953"
             ],
             [
              0.7777777777777778,
              "#fb9f3a"
             ],
             [
              0.8888888888888888,
              "#fdca26"
             ],
             [
              1,
              "#f0f921"
             ]
            ],
            "type": "heatmapgl"
           }
          ],
          "histogram": [
           {
            "marker": {
             "colorbar": {
              "outlinewidth": 0,
              "ticks": ""
             }
            },
            "type": "histogram"
           }
          ],
          "histogram2d": [
           {
            "colorbar": {
             "outlinewidth": 0,
             "ticks": ""
            },
            "colorscale": [
             [
              0,
              "#0d0887"
             ],
             [
              0.1111111111111111,
              "#46039f"
             ],
             [
              0.2222222222222222,
              "#7201a8"
             ],
             [
              0.3333333333333333,
              "#9c179e"
             ],
             [
              0.4444444444444444,
              "#bd3786"
             ],
             [
              0.5555555555555556,
              "#d8576b"
             ],
             [
              0.6666666666666666,
              "#ed7953"
             ],
             [
              0.7777777777777778,
              "#fb9f3a"
             ],
             [
              0.8888888888888888,
              "#fdca26"
             ],
             [
              1,
              "#f0f921"
             ]
            ],
            "type": "histogram2d"
           }
          ],
          "histogram2dcontour": [
           {
            "colorbar": {
             "outlinewidth": 0,
             "ticks": ""
            },
            "colorscale": [
             [
              0,
              "#0d0887"
             ],
             [
              0.1111111111111111,
              "#46039f"
             ],
             [
              0.2222222222222222,
              "#7201a8"
             ],
             [
              0.3333333333333333,
              "#9c179e"
             ],
             [
              0.4444444444444444,
              "#bd3786"
             ],
             [
              0.5555555555555556,
              "#d8576b"
             ],
             [
              0.6666666666666666,
              "#ed7953"
             ],
             [
              0.7777777777777778,
              "#fb9f3a"
             ],
             [
              0.8888888888888888,
              "#fdca26"
             ],
             [
              1,
              "#f0f921"
             ]
            ],
            "type": "histogram2dcontour"
           }
          ],
          "mesh3d": [
           {
            "colorbar": {
             "outlinewidth": 0,
             "ticks": ""
            },
            "type": "mesh3d"
           }
          ],
          "parcoords": [
           {
            "line": {
             "colorbar": {
              "outlinewidth": 0,
              "ticks": ""
             }
            },
            "type": "parcoords"
           }
          ],
          "pie": [
           {
            "automargin": true,
            "type": "pie"
           }
          ],
          "scatter": [
           {
            "marker": {
             "colorbar": {
              "outlinewidth": 0,
              "ticks": ""
             }
            },
            "type": "scatter"
           }
          ],
          "scatter3d": [
           {
            "line": {
             "colorbar": {
              "outlinewidth": 0,
              "ticks": ""
             }
            },
            "marker": {
             "colorbar": {
              "outlinewidth": 0,
              "ticks": ""
             }
            },
            "type": "scatter3d"
           }
          ],
          "scattercarpet": [
           {
            "marker": {
             "colorbar": {
              "outlinewidth": 0,
              "ticks": ""
             }
            },
            "type": "scattercarpet"
           }
          ],
          "scattergeo": [
           {
            "marker": {
             "colorbar": {
              "outlinewidth": 0,
              "ticks": ""
             }
            },
            "type": "scattergeo"
           }
          ],
          "scattergl": [
           {
            "marker": {
             "colorbar": {
              "outlinewidth": 0,
              "ticks": ""
             }
            },
            "type": "scattergl"
           }
          ],
          "scattermapbox": [
           {
            "marker": {
             "colorbar": {
              "outlinewidth": 0,
              "ticks": ""
             }
            },
            "type": "scattermapbox"
           }
          ],
          "scatterpolar": [
           {
            "marker": {
             "colorbar": {
              "outlinewidth": 0,
              "ticks": ""
             }
            },
            "type": "scatterpolar"
           }
          ],
          "scatterpolargl": [
           {
            "marker": {
             "colorbar": {
              "outlinewidth": 0,
              "ticks": ""
             }
            },
            "type": "scatterpolargl"
           }
          ],
          "scatterternary": [
           {
            "marker": {
             "colorbar": {
              "outlinewidth": 0,
              "ticks": ""
             }
            },
            "type": "scatterternary"
           }
          ],
          "surface": [
           {
            "colorbar": {
             "outlinewidth": 0,
             "ticks": ""
            },
            "colorscale": [
             [
              0,
              "#0d0887"
             ],
             [
              0.1111111111111111,
              "#46039f"
             ],
             [
              0.2222222222222222,
              "#7201a8"
             ],
             [
              0.3333333333333333,
              "#9c179e"
             ],
             [
              0.4444444444444444,
              "#bd3786"
             ],
             [
              0.5555555555555556,
              "#d8576b"
             ],
             [
              0.6666666666666666,
              "#ed7953"
             ],
             [
              0.7777777777777778,
              "#fb9f3a"
             ],
             [
              0.8888888888888888,
              "#fdca26"
             ],
             [
              1,
              "#f0f921"
             ]
            ],
            "type": "surface"
           }
          ],
          "table": [
           {
            "cells": {
             "fill": {
              "color": "#EBF0F8"
             },
             "line": {
              "color": "white"
             }
            },
            "header": {
             "fill": {
              "color": "#C8D4E3"
             },
             "line": {
              "color": "white"
             }
            },
            "type": "table"
           }
          ]
         },
         "layout": {
          "annotationdefaults": {
           "arrowcolor": "#2a3f5f",
           "arrowhead": 0,
           "arrowwidth": 1
          },
          "coloraxis": {
           "colorbar": {
            "outlinewidth": 0,
            "ticks": ""
           }
          },
          "colorscale": {
           "diverging": [
            [
             0,
             "#8e0152"
            ],
            [
             0.1,
             "#c51b7d"
            ],
            [
             0.2,
             "#de77ae"
            ],
            [
             0.3,
             "#f1b6da"
            ],
            [
             0.4,
             "#fde0ef"
            ],
            [
             0.5,
             "#f7f7f7"
            ],
            [
             0.6,
             "#e6f5d0"
            ],
            [
             0.7,
             "#b8e186"
            ],
            [
             0.8,
             "#7fbc41"
            ],
            [
             0.9,
             "#4d9221"
            ],
            [
             1,
             "#276419"
            ]
           ],
           "sequential": [
            [
             0,
             "#0d0887"
            ],
            [
             0.1111111111111111,
             "#46039f"
            ],
            [
             0.2222222222222222,
             "#7201a8"
            ],
            [
             0.3333333333333333,
             "#9c179e"
            ],
            [
             0.4444444444444444,
             "#bd3786"
            ],
            [
             0.5555555555555556,
             "#d8576b"
            ],
            [
             0.6666666666666666,
             "#ed7953"
            ],
            [
             0.7777777777777778,
             "#fb9f3a"
            ],
            [
             0.8888888888888888,
             "#fdca26"
            ],
            [
             1,
             "#f0f921"
            ]
           ],
           "sequentialminus": [
            [
             0,
             "#0d0887"
            ],
            [
             0.1111111111111111,
             "#46039f"
            ],
            [
             0.2222222222222222,
             "#7201a8"
            ],
            [
             0.3333333333333333,
             "#9c179e"
            ],
            [
             0.4444444444444444,
             "#bd3786"
            ],
            [
             0.5555555555555556,
             "#d8576b"
            ],
            [
             0.6666666666666666,
             "#ed7953"
            ],
            [
             0.7777777777777778,
             "#fb9f3a"
            ],
            [
             0.8888888888888888,
             "#fdca26"
            ],
            [
             1,
             "#f0f921"
            ]
           ]
          },
          "colorway": [
           "#636efa",
           "#EF553B",
           "#00cc96",
           "#ab63fa",
           "#FFA15A",
           "#19d3f3",
           "#FF6692",
           "#B6E880",
           "#FF97FF",
           "#FECB52"
          ],
          "font": {
           "color": "#2a3f5f"
          },
          "geo": {
           "bgcolor": "white",
           "lakecolor": "white",
           "landcolor": "#E5ECF6",
           "showlakes": true,
           "showland": true,
           "subunitcolor": "white"
          },
          "hoverlabel": {
           "align": "left"
          },
          "hovermode": "closest",
          "mapbox": {
           "style": "light"
          },
          "paper_bgcolor": "white",
          "plot_bgcolor": "#E5ECF6",
          "polar": {
           "angularaxis": {
            "gridcolor": "white",
            "linecolor": "white",
            "ticks": ""
           },
           "bgcolor": "#E5ECF6",
           "radialaxis": {
            "gridcolor": "white",
            "linecolor": "white",
            "ticks": ""
           }
          },
          "scene": {
           "xaxis": {
            "backgroundcolor": "#E5ECF6",
            "gridcolor": "white",
            "gridwidth": 2,
            "linecolor": "white",
            "showbackground": true,
            "ticks": "",
            "zerolinecolor": "white"
           },
           "yaxis": {
            "backgroundcolor": "#E5ECF6",
            "gridcolor": "white",
            "gridwidth": 2,
            "linecolor": "white",
            "showbackground": true,
            "ticks": "",
            "zerolinecolor": "white"
           },
           "zaxis": {
            "backgroundcolor": "#E5ECF6",
            "gridcolor": "white",
            "gridwidth": 2,
            "linecolor": "white",
            "showbackground": true,
            "ticks": "",
            "zerolinecolor": "white"
           }
          },
          "shapedefaults": {
           "line": {
            "color": "#2a3f5f"
           }
          },
          "ternary": {
           "aaxis": {
            "gridcolor": "white",
            "linecolor": "white",
            "ticks": ""
           },
           "baxis": {
            "gridcolor": "white",
            "linecolor": "white",
            "ticks": ""
           },
           "bgcolor": "#E5ECF6",
           "caxis": {
            "gridcolor": "white",
            "linecolor": "white",
            "ticks": ""
           }
          },
          "title": {
           "x": 0.05
          },
          "xaxis": {
           "automargin": true,
           "gridcolor": "white",
           "linecolor": "white",
           "ticks": "",
           "title": {
            "standoff": 15
           },
           "zerolinecolor": "white",
           "zerolinewidth": 2
          },
          "yaxis": {
           "automargin": true,
           "gridcolor": "white",
           "linecolor": "white",
           "ticks": "",
           "title": {
            "standoff": 15
           },
           "zerolinecolor": "white",
           "zerolinewidth": 2
          }
         }
        },
        "title": {
         "text": "Distribution of Toronto Neighbourhoods based on Desirabilty Index"
        },
        "xaxis": {
         "anchor": "y",
         "categoryarray": [
          "Desirable",
          "Least Desirable",
          "Semi-Desirable",
          "Most Desirable"
         ],
         "categoryorder": "array",
         "domain": [
          0,
          1
         ],
         "title": {
          "text": "Neighbourhood Desirability Index"
         }
        },
        "yaxis": {
         "anchor": "x",
         "domain": [
          0,
          1
         ],
         "title": {
          "standoff": 1,
          "text": "Total Neighbourhoods"
         }
        }
       }
      },
      "text/html": [
       "<div>                            <div id=\"472b3cf1-2e41-455d-93c8-4dd6f07798b5\" class=\"plotly-graph-div\" style=\"height:525px; width:100%;\"></div>            <script type=\"text/javascript\">                require([\"plotly\"], function(Plotly) {                    window.PLOTLYENV=window.PLOTLYENV || {};                                    if (document.getElementById(\"472b3cf1-2e41-455d-93c8-4dd6f07798b5\")) {                    Plotly.newPlot(                        \"472b3cf1-2e41-455d-93c8-4dd6f07798b5\",                        [{\"alignmentgroup\": \"True\", \"bingroup\": \"x\", \"hovertemplate\": \"Neighbourhood Desirability Index=%{x}<br>count=%{y}<extra></extra>\", \"legendgroup\": \"Desirable\", \"marker\": {\"color\": \"#636efa\"}, \"name\": \"Desirable\", \"offsetgroup\": \"Desirable\", \"orientation\": \"v\", \"showlegend\": true, \"type\": \"histogram\", \"x\": [\"Desirable\", \"Desirable\", \"Desirable\", \"Desirable\", \"Desirable\", \"Desirable\", \"Desirable\", \"Desirable\", \"Desirable\", \"Desirable\", \"Desirable\", \"Desirable\", \"Desirable\", \"Desirable\", \"Desirable\", \"Desirable\", \"Desirable\", \"Desirable\", \"Desirable\", \"Desirable\", \"Desirable\", \"Desirable\", \"Desirable\", \"Desirable\", \"Desirable\", \"Desirable\", \"Desirable\", \"Desirable\", \"Desirable\", \"Desirable\", \"Desirable\", \"Desirable\", \"Desirable\", \"Desirable\", \"Desirable\", \"Desirable\", \"Desirable\", \"Desirable\", \"Desirable\", \"Desirable\", \"Desirable\", \"Desirable\", \"Desirable\", \"Desirable\", \"Desirable\", \"Desirable\", \"Desirable\", \"Desirable\", \"Desirable\", \"Desirable\", \"Desirable\", \"Desirable\", \"Desirable\", \"Desirable\", \"Desirable\", \"Desirable\", \"Desirable\", \"Desirable\", \"Desirable\", \"Desirable\", \"Desirable\", \"Desirable\", \"Desirable\", \"Desirable\", \"Desirable\", \"Desirable\", \"Desirable\", \"Desirable\", \"Desirable\", \"Desirable\", \"Desirable\", \"Desirable\", \"Desirable\", \"Desirable\", \"Desirable\", \"Desirable\", \"Desirable\", \"Desirable\", \"Desirable\", \"Desirable\", \"Desirable\", \"Desirable\"], \"xaxis\": \"x\", \"yaxis\": \"y\"}, {\"alignmentgroup\": \"True\", \"bingroup\": \"x\", \"hovertemplate\": \"Neighbourhood Desirability Index=%{x}<br>count=%{y}<extra></extra>\", \"legendgroup\": \"Least Desirable\", \"marker\": {\"color\": \"#EF553B\"}, \"name\": \"Least Desirable\", \"offsetgroup\": \"Least Desirable\", \"orientation\": \"v\", \"showlegend\": true, \"type\": \"histogram\", \"x\": [\"Least Desirable\", \"Least Desirable\", \"Least Desirable\", \"Least Desirable\", \"Least Desirable\", \"Least Desirable\", \"Least Desirable\", \"Least Desirable\", \"Least Desirable\", \"Least Desirable\", \"Least Desirable\", \"Least Desirable\", \"Least Desirable\", \"Least Desirable\", \"Least Desirable\", \"Least Desirable\", \"Least Desirable\", \"Least Desirable\", \"Least Desirable\", \"Least Desirable\", \"Least Desirable\", \"Least Desirable\", \"Least Desirable\", \"Least Desirable\", \"Least Desirable\", \"Least Desirable\", \"Least Desirable\", \"Least Desirable\", \"Least Desirable\", \"Least Desirable\", \"Least Desirable\"], \"xaxis\": \"x\", \"yaxis\": \"y\"}, {\"alignmentgroup\": \"True\", \"bingroup\": \"x\", \"hovertemplate\": \"Neighbourhood Desirability Index=%{x}<br>count=%{y}<extra></extra>\", \"legendgroup\": \"Semi-Desirable\", \"marker\": {\"color\": \"#00cc96\"}, \"name\": \"Semi-Desirable\", \"offsetgroup\": \"Semi-Desirable\", \"orientation\": \"v\", \"showlegend\": true, \"type\": \"histogram\", \"x\": [\"Semi-Desirable\", \"Semi-Desirable\", \"Semi-Desirable\", \"Semi-Desirable\", \"Semi-Desirable\", \"Semi-Desirable\", \"Semi-Desirable\", \"Semi-Desirable\", \"Semi-Desirable\", \"Semi-Desirable\", \"Semi-Desirable\", \"Semi-Desirable\", \"Semi-Desirable\", \"Semi-Desirable\", \"Semi-Desirable\", \"Semi-Desirable\", \"Semi-Desirable\", \"Semi-Desirable\", \"Semi-Desirable\", \"Semi-Desirable\"], \"xaxis\": \"x\", \"yaxis\": \"y\"}, {\"alignmentgroup\": \"True\", \"bingroup\": \"x\", \"hovertemplate\": \"Neighbourhood Desirability Index=%{x}<br>count=%{y}<extra></extra>\", \"legendgroup\": \"Most Desirable\", \"marker\": {\"color\": \"#ab63fa\"}, \"name\": \"Most Desirable\", \"offsetgroup\": \"Most Desirable\", \"orientation\": \"v\", \"showlegend\": true, \"type\": \"histogram\", \"x\": [\"Most Desirable\", \"Most Desirable\", \"Most Desirable\", \"Most Desirable\", \"Most Desirable\", \"Most Desirable\", \"Most Desirable\"], \"xaxis\": \"x\", \"yaxis\": \"y\"}],                        {\"barmode\": \"relative\", \"legend\": {\"title\": {\"text\": \"Neighbourhood Desirability Index\"}, \"tracegroupgap\": 0}, \"template\": {\"data\": {\"bar\": [{\"error_x\": {\"color\": \"#2a3f5f\"}, \"error_y\": {\"color\": \"#2a3f5f\"}, \"marker\": {\"line\": {\"color\": \"#E5ECF6\", \"width\": 0.5}}, \"type\": \"bar\"}], \"barpolar\": [{\"marker\": {\"line\": {\"color\": \"#E5ECF6\", \"width\": 0.5}}, \"type\": \"barpolar\"}], \"carpet\": [{\"aaxis\": {\"endlinecolor\": \"#2a3f5f\", \"gridcolor\": \"white\", \"linecolor\": \"white\", \"minorgridcolor\": \"white\", \"startlinecolor\": \"#2a3f5f\"}, \"baxis\": {\"endlinecolor\": \"#2a3f5f\", \"gridcolor\": \"white\", \"linecolor\": \"white\", \"minorgridcolor\": \"white\", \"startlinecolor\": \"#2a3f5f\"}, \"type\": \"carpet\"}], \"choropleth\": [{\"colorbar\": {\"outlinewidth\": 0, \"ticks\": \"\"}, \"type\": \"choropleth\"}], \"contour\": [{\"colorbar\": {\"outlinewidth\": 0, \"ticks\": \"\"}, \"colorscale\": [[0.0, \"#0d0887\"], [0.1111111111111111, \"#46039f\"], [0.2222222222222222, \"#7201a8\"], [0.3333333333333333, \"#9c179e\"], [0.4444444444444444, \"#bd3786\"], [0.5555555555555556, \"#d8576b\"], [0.6666666666666666, \"#ed7953\"], [0.7777777777777778, \"#fb9f3a\"], [0.8888888888888888, \"#fdca26\"], [1.0, \"#f0f921\"]], \"type\": \"contour\"}], \"contourcarpet\": [{\"colorbar\": {\"outlinewidth\": 0, \"ticks\": \"\"}, \"type\": \"contourcarpet\"}], \"heatmap\": [{\"colorbar\": {\"outlinewidth\": 0, \"ticks\": \"\"}, \"colorscale\": [[0.0, \"#0d0887\"], [0.1111111111111111, \"#46039f\"], [0.2222222222222222, \"#7201a8\"], [0.3333333333333333, \"#9c179e\"], [0.4444444444444444, \"#bd3786\"], [0.5555555555555556, \"#d8576b\"], [0.6666666666666666, \"#ed7953\"], [0.7777777777777778, \"#fb9f3a\"], [0.8888888888888888, \"#fdca26\"], [1.0, \"#f0f921\"]], \"type\": \"heatmap\"}], \"heatmapgl\": [{\"colorbar\": {\"outlinewidth\": 0, \"ticks\": \"\"}, \"colorscale\": [[0.0, \"#0d0887\"], [0.1111111111111111, \"#46039f\"], [0.2222222222222222, \"#7201a8\"], [0.3333333333333333, \"#9c179e\"], [0.4444444444444444, \"#bd3786\"], [0.5555555555555556, \"#d8576b\"], [0.6666666666666666, \"#ed7953\"], [0.7777777777777778, \"#fb9f3a\"], [0.8888888888888888, \"#fdca26\"], [1.0, \"#f0f921\"]], \"type\": \"heatmapgl\"}], \"histogram\": [{\"marker\": {\"colorbar\": {\"outlinewidth\": 0, \"ticks\": \"\"}}, \"type\": \"histogram\"}], \"histogram2d\": [{\"colorbar\": {\"outlinewidth\": 0, \"ticks\": \"\"}, \"colorscale\": [[0.0, \"#0d0887\"], [0.1111111111111111, \"#46039f\"], [0.2222222222222222, \"#7201a8\"], [0.3333333333333333, \"#9c179e\"], [0.4444444444444444, \"#bd3786\"], [0.5555555555555556, \"#d8576b\"], [0.6666666666666666, \"#ed7953\"], [0.7777777777777778, \"#fb9f3a\"], [0.8888888888888888, \"#fdca26\"], [1.0, \"#f0f921\"]], \"type\": \"histogram2d\"}], \"histogram2dcontour\": [{\"colorbar\": {\"outlinewidth\": 0, \"ticks\": \"\"}, \"colorscale\": [[0.0, \"#0d0887\"], [0.1111111111111111, \"#46039f\"], [0.2222222222222222, \"#7201a8\"], [0.3333333333333333, \"#9c179e\"], [0.4444444444444444, \"#bd3786\"], [0.5555555555555556, \"#d8576b\"], [0.6666666666666666, \"#ed7953\"], [0.7777777777777778, \"#fb9f3a\"], [0.8888888888888888, \"#fdca26\"], [1.0, \"#f0f921\"]], \"type\": \"histogram2dcontour\"}], \"mesh3d\": [{\"colorbar\": {\"outlinewidth\": 0, \"ticks\": \"\"}, \"type\": \"mesh3d\"}], \"parcoords\": [{\"line\": {\"colorbar\": {\"outlinewidth\": 0, \"ticks\": \"\"}}, \"type\": \"parcoords\"}], \"pie\": [{\"automargin\": true, \"type\": \"pie\"}], \"scatter\": [{\"marker\": {\"colorbar\": {\"outlinewidth\": 0, \"ticks\": \"\"}}, \"type\": \"scatter\"}], \"scatter3d\": [{\"line\": {\"colorbar\": {\"outlinewidth\": 0, \"ticks\": \"\"}}, \"marker\": {\"colorbar\": {\"outlinewidth\": 0, \"ticks\": \"\"}}, \"type\": \"scatter3d\"}], \"scattercarpet\": [{\"marker\": {\"colorbar\": {\"outlinewidth\": 0, \"ticks\": \"\"}}, \"type\": \"scattercarpet\"}], \"scattergeo\": [{\"marker\": {\"colorbar\": {\"outlinewidth\": 0, \"ticks\": \"\"}}, \"type\": \"scattergeo\"}], \"scattergl\": [{\"marker\": {\"colorbar\": {\"outlinewidth\": 0, \"ticks\": \"\"}}, \"type\": \"scattergl\"}], \"scattermapbox\": [{\"marker\": {\"colorbar\": {\"outlinewidth\": 0, \"ticks\": \"\"}}, \"type\": \"scattermapbox\"}], \"scatterpolar\": [{\"marker\": {\"colorbar\": {\"outlinewidth\": 0, \"ticks\": \"\"}}, \"type\": \"scatterpolar\"}], \"scatterpolargl\": [{\"marker\": {\"colorbar\": {\"outlinewidth\": 0, \"ticks\": \"\"}}, \"type\": \"scatterpolargl\"}], \"scatterternary\": [{\"marker\": {\"colorbar\": {\"outlinewidth\": 0, \"ticks\": \"\"}}, \"type\": \"scatterternary\"}], \"surface\": [{\"colorbar\": {\"outlinewidth\": 0, \"ticks\": \"\"}, \"colorscale\": [[0.0, \"#0d0887\"], [0.1111111111111111, \"#46039f\"], [0.2222222222222222, \"#7201a8\"], [0.3333333333333333, \"#9c179e\"], [0.4444444444444444, \"#bd3786\"], [0.5555555555555556, \"#d8576b\"], [0.6666666666666666, \"#ed7953\"], [0.7777777777777778, \"#fb9f3a\"], [0.8888888888888888, \"#fdca26\"], [1.0, \"#f0f921\"]], \"type\": \"surface\"}], \"table\": [{\"cells\": {\"fill\": {\"color\": \"#EBF0F8\"}, \"line\": {\"color\": \"white\"}}, \"header\": {\"fill\": {\"color\": \"#C8D4E3\"}, \"line\": {\"color\": \"white\"}}, \"type\": \"table\"}]}, \"layout\": {\"annotationdefaults\": {\"arrowcolor\": \"#2a3f5f\", \"arrowhead\": 0, \"arrowwidth\": 1}, \"coloraxis\": {\"colorbar\": {\"outlinewidth\": 0, \"ticks\": \"\"}}, \"colorscale\": {\"diverging\": [[0, \"#8e0152\"], [0.1, \"#c51b7d\"], [0.2, \"#de77ae\"], [0.3, \"#f1b6da\"], [0.4, \"#fde0ef\"], [0.5, \"#f7f7f7\"], [0.6, \"#e6f5d0\"], [0.7, \"#b8e186\"], [0.8, \"#7fbc41\"], [0.9, \"#4d9221\"], [1, \"#276419\"]], \"sequential\": [[0.0, \"#0d0887\"], [0.1111111111111111, \"#46039f\"], [0.2222222222222222, \"#7201a8\"], [0.3333333333333333, \"#9c179e\"], [0.4444444444444444, \"#bd3786\"], [0.5555555555555556, \"#d8576b\"], [0.6666666666666666, \"#ed7953\"], [0.7777777777777778, \"#fb9f3a\"], [0.8888888888888888, \"#fdca26\"], [1.0, \"#f0f921\"]], \"sequentialminus\": [[0.0, \"#0d0887\"], [0.1111111111111111, \"#46039f\"], [0.2222222222222222, \"#7201a8\"], [0.3333333333333333, \"#9c179e\"], [0.4444444444444444, \"#bd3786\"], [0.5555555555555556, \"#d8576b\"], [0.6666666666666666, \"#ed7953\"], [0.7777777777777778, \"#fb9f3a\"], [0.8888888888888888, \"#fdca26\"], [1.0, \"#f0f921\"]]}, \"colorway\": [\"#636efa\", \"#EF553B\", \"#00cc96\", \"#ab63fa\", \"#FFA15A\", \"#19d3f3\", \"#FF6692\", \"#B6E880\", \"#FF97FF\", \"#FECB52\"], \"font\": {\"color\": \"#2a3f5f\"}, \"geo\": {\"bgcolor\": \"white\", \"lakecolor\": \"white\", \"landcolor\": \"#E5ECF6\", \"showlakes\": true, \"showland\": true, \"subunitcolor\": \"white\"}, \"hoverlabel\": {\"align\": \"left\"}, \"hovermode\": \"closest\", \"mapbox\": {\"style\": \"light\"}, \"paper_bgcolor\": \"white\", \"plot_bgcolor\": \"#E5ECF6\", \"polar\": {\"angularaxis\": {\"gridcolor\": \"white\", \"linecolor\": \"white\", \"ticks\": \"\"}, \"bgcolor\": \"#E5ECF6\", \"radialaxis\": {\"gridcolor\": \"white\", \"linecolor\": \"white\", \"ticks\": \"\"}}, \"scene\": {\"xaxis\": {\"backgroundcolor\": \"#E5ECF6\", \"gridcolor\": \"white\", \"gridwidth\": 2, \"linecolor\": \"white\", \"showbackground\": true, \"ticks\": \"\", \"zerolinecolor\": \"white\"}, \"yaxis\": {\"backgroundcolor\": \"#E5ECF6\", \"gridcolor\": \"white\", \"gridwidth\": 2, \"linecolor\": \"white\", \"showbackground\": true, \"ticks\": \"\", \"zerolinecolor\": \"white\"}, \"zaxis\": {\"backgroundcolor\": \"#E5ECF6\", \"gridcolor\": \"white\", \"gridwidth\": 2, \"linecolor\": \"white\", \"showbackground\": true, \"ticks\": \"\", \"zerolinecolor\": \"white\"}}, \"shapedefaults\": {\"line\": {\"color\": \"#2a3f5f\"}}, \"ternary\": {\"aaxis\": {\"gridcolor\": \"white\", \"linecolor\": \"white\", \"ticks\": \"\"}, \"baxis\": {\"gridcolor\": \"white\", \"linecolor\": \"white\", \"ticks\": \"\"}, \"bgcolor\": \"#E5ECF6\", \"caxis\": {\"gridcolor\": \"white\", \"linecolor\": \"white\", \"ticks\": \"\"}}, \"title\": {\"x\": 0.05}, \"xaxis\": {\"automargin\": true, \"gridcolor\": \"white\", \"linecolor\": \"white\", \"ticks\": \"\", \"title\": {\"standoff\": 15}, \"zerolinecolor\": \"white\", \"zerolinewidth\": 2}, \"yaxis\": {\"automargin\": true, \"gridcolor\": \"white\", \"linecolor\": \"white\", \"ticks\": \"\", \"title\": {\"standoff\": 15}, \"zerolinecolor\": \"white\", \"zerolinewidth\": 2}}}, \"title\": {\"text\": \"Distribution of Toronto Neighbourhoods based on Desirabilty Index\"}, \"xaxis\": {\"anchor\": \"y\", \"categoryarray\": [\"Desirable\", \"Least Desirable\", \"Semi-Desirable\", \"Most Desirable\"], \"categoryorder\": \"array\", \"domain\": [0.0, 1.0], \"title\": {\"text\": \"Neighbourhood Desirability Index\"}}, \"yaxis\": {\"anchor\": \"x\", \"domain\": [0.0, 1.0], \"title\": {\"standoff\": 1, \"text\": \"Total Neighbourhoods\"}}},                        {\"responsive\": true}                    ).then(function(){\n",
       "                            \n",
       "var gd = document.getElementById('472b3cf1-2e41-455d-93c8-4dd6f07798b5');\n",
       "var x = new MutationObserver(function (mutations, observer) {{\n",
       "        var display = window.getComputedStyle(gd).display;\n",
       "        if (!display || display === 'none') {{\n",
       "            console.log([gd, 'removed!']);\n",
       "            Plotly.purge(gd);\n",
       "            observer.disconnect();\n",
       "        }}\n",
       "}});\n",
       "\n",
       "// Listen for the removal of the full notebook cells\n",
       "var notebookContainer = gd.closest('#notebook-container');\n",
       "if (notebookContainer) {{\n",
       "    x.observe(notebookContainer, {childList: true});\n",
       "}}\n",
       "\n",
       "// Listen for the clearing of the current output cell\n",
       "var outputEl = gd.closest('.output');\n",
       "if (outputEl) {{\n",
       "    x.observe(outputEl, {childList: true});\n",
       "}}\n",
       "\n",
       "                        })                };                });            </script>        </div>"
      ]
     },
     "metadata": {},
     "output_type": "display_data"
    }
   ],
   "source": [
    "# Show distribution of all neighbourhoods\n",
    "hist_data=housing_map.copy(deep=True)\n",
    "hist_data['Neighbourhood Desirability Index']=hist_data['Neighbourhood Desirability Index'].replace([0, 1, 2, 3], \n",
    "           [\"Most Desirable\",\"Desirable\",\"Semi-Desirable\",\"Least Desirable\"])\n",
    "# I used the historgram type here because I wanted it to automatically compute the count for each category\n",
    "Hist = px.histogram(hist_data, x=\"Neighbourhood Desirability Index\", color = \"Neighbourhood Desirability Index\", \n",
    "                   title ='Distribution of Toronto Neighbourhoods based on Desirabilty Index')\n",
    "Hist.update_yaxes(title_text='Total Neighbourhoods', title_standoff=1)\n",
    "Hist.show()"
   ]
  },
  {
   "cell_type": "markdown",
   "metadata": {},
   "source": [
    "From the plot above, we can see that only 7 neighbourhoods fell into the **Most Desirable index** rank while about 59% of the Toronto neighbourhoods were grouped into the **Desirable** category based on their medium housing prices and relatively low crime, COVID-19 and Crime rates. "
   ]
  },
  {
   "cell_type": "markdown",
   "metadata": {
    "deletable": false,
    "editable": false
   },
   "source": [
    "### Merging Essential Venues and Neighbourhood Desirability Index Datasets\n",
    "\n",
    "In order to satisfy my curiosity, I wanted to know if neighbourhoods that had high number of *essential venues* were also in the *Most Desirable/Desirable* Category. This was achieved with the lines of code below."
   ]
  },
  {
   "cell_type": "code",
   "execution_count": 75,
   "metadata": {
    "scrolled": true
   },
   "outputs": [
    {
     "data": {
      "text/html": [
       "<div>\n",
       "<style scoped>\n",
       "    .dataframe tbody tr th:only-of-type {\n",
       "        vertical-align: middle;\n",
       "    }\n",
       "\n",
       "    .dataframe tbody tr th {\n",
       "        vertical-align: top;\n",
       "    }\n",
       "\n",
       "    .dataframe thead th {\n",
       "        text-align: right;\n",
       "    }\n",
       "</style>\n",
       "<table border=\"1\" class=\"dataframe\">\n",
       "  <thead>\n",
       "    <tr style=\"text-align: right;\">\n",
       "      <th></th>\n",
       "      <th>Neighbourhood Name</th>\n",
       "      <th>Neighbourhood Desirability Index</th>\n",
       "      <th>Total</th>\n",
       "    </tr>\n",
       "  </thead>\n",
       "  <tbody>\n",
       "    <tr>\n",
       "      <th>3</th>\n",
       "      <td>Mount Pleasant West</td>\n",
       "      <td>Desirable</td>\n",
       "      <td>28</td>\n",
       "    </tr>\n",
       "    <tr>\n",
       "      <th>1</th>\n",
       "      <td>Yonge-St.Clair</td>\n",
       "      <td>Desirable</td>\n",
       "      <td>23</td>\n",
       "    </tr>\n",
       "    <tr>\n",
       "      <th>10</th>\n",
       "      <td>Greenwood-Coxwell</td>\n",
       "      <td>Desirable</td>\n",
       "      <td>20</td>\n",
       "    </tr>\n",
       "    <tr>\n",
       "      <th>4</th>\n",
       "      <td>Playter Estates-Danforth</td>\n",
       "      <td>Desirable</td>\n",
       "      <td>19</td>\n",
       "    </tr>\n",
       "    <tr>\n",
       "      <th>2</th>\n",
       "      <td>Lawrence Park North</td>\n",
       "      <td>Desirable</td>\n",
       "      <td>17</td>\n",
       "    </tr>\n",
       "    <tr>\n",
       "      <th>6</th>\n",
       "      <td>Agincourt South-Malvern West</td>\n",
       "      <td>Desirable</td>\n",
       "      <td>17</td>\n",
       "    </tr>\n",
       "    <tr>\n",
       "      <th>9</th>\n",
       "      <td>Dufferin Grove</td>\n",
       "      <td>Desirable</td>\n",
       "      <td>17</td>\n",
       "    </tr>\n",
       "    <tr>\n",
       "      <th>7</th>\n",
       "      <td>Cabbagetown-South St. James Town</td>\n",
       "      <td>Desirable</td>\n",
       "      <td>16</td>\n",
       "    </tr>\n",
       "    <tr>\n",
       "      <th>0</th>\n",
       "      <td>Yonge-Eglinton</td>\n",
       "      <td>Desirable</td>\n",
       "      <td>15</td>\n",
       "    </tr>\n",
       "    <tr>\n",
       "      <th>5</th>\n",
       "      <td>The Beaches</td>\n",
       "      <td>Desirable</td>\n",
       "      <td>12</td>\n",
       "    </tr>\n",
       "    <tr>\n",
       "      <th>8</th>\n",
       "      <td>Danforth</td>\n",
       "      <td>Desirable</td>\n",
       "      <td>10</td>\n",
       "    </tr>\n",
       "  </tbody>\n",
       "</table>\n",
       "</div>"
      ],
      "text/plain": [
       "                  Neighbourhood Name Neighbourhood Desirability Index  Total\n",
       "3                Mount Pleasant West                        Desirable     28\n",
       "1                     Yonge-St.Clair                        Desirable     23\n",
       "10                 Greenwood-Coxwell                        Desirable     20\n",
       "4           Playter Estates-Danforth                        Desirable     19\n",
       "2                Lawrence Park North                        Desirable     17\n",
       "6       Agincourt South-Malvern West                        Desirable     17\n",
       "9                     Dufferin Grove                        Desirable     17\n",
       "7   Cabbagetown-South St. James Town                        Desirable     16\n",
       "0                     Yonge-Eglinton                        Desirable     15\n",
       "5                        The Beaches                        Desirable     12\n",
       "8                           Danforth                        Desirable     10"
      ]
     },
     "execution_count": 75,
     "metadata": {},
     "output_type": "execute_result"
    }
   ],
   "source": [
    "options = [0,1] \n",
    "\n",
    "df1=housing_map[housing_map['Neighbourhood Desirability Index'].isin(options)]\n",
    "\n",
    "df2=total_venues.sort_values(by=['Total'], ascending=False).head(20)\n",
    "\n",
    "result= pd.merge(df1, df2, how='inner', on=['Neighbourhood Name'])\n",
    "result=result.sort_values(by=['Total'], ascending=False)\n",
    "result['Neighbourhood Desirability Index']=result['Neighbourhood Desirability Index'].replace([0, 1], \n",
    "           [\"Most Desirable\",\"Desirable\"])\n",
    "cols=['Neighbourhood Name', 'Neighbourhood Desirability Index', 'Total']\n",
    "result = result[cols]\n",
    "result"
   ]
  },
  {
   "cell_type": "markdown",
   "metadata": {
    "deletable": false,
    "editable": false
   },
   "source": [
    "We can see that none of the neighbourhoods with high venue density fell into the Most Desirable Category. This is expected because with proximity to essential venues, housing prices increase. However, some of the neighbourhoods fell into the desirable category as seen above. "
   ]
  },
  {
   "cell_type": "markdown",
   "metadata": {
    "deletable": false,
    "editable": false
   },
   "source": [
    "### Final Toronto Neighbourhoods Map\n",
    "This map merged the two outcomes i.e. **'Neighbourhood Desirability Index' and \"Venues Density\"** with all the major datasets into one choropleth map. This was achieved using the line of code below"
   ]
  },
  {
   "cell_type": "markdown",
   "metadata": {
    "deletable": false,
    "editable": false
   },
   "source": [
    "#### Defining Colour Scale for Discrete Neighbourhood Desirability Index and Venues Density Maps\n",
    "Due to the nature of Plotly library, we cannot define or customize colour bars for categorical variables on the Choropleth Graph Objects trace. Thanks to research, I learned the code below from *Kyle Pastor's* Medium article on how to create a colour scale for discrete/categorical variables and use on Plotly Graph objects. P.S. I had done the plots using Plotly Express and it worked fine with the categorical variables but for some reason, Graph objects does not allow this."
   ]
  },
  {
   "cell_type": "code",
   "execution_count": 76,
   "metadata": {},
   "outputs": [],
   "source": [
    "def generateDiscreteColourScale(colour_set):\n",
    "    #colour set is a list of lists\n",
    "    colour_output = []\n",
    "    num_colours = len(colour_set)\n",
    "    divisions = 1./num_colours\n",
    "    c_index = 0.\n",
    "    # Loop over the colour set\n",
    "    for cset in colour_set:\n",
    "        num_subs = len(cset)\n",
    "        sub_divisions = divisions/num_subs\n",
    "        # Loop over the sub colours in this set\n",
    "        for subcset in cset:\n",
    "            colour_output.append((c_index,subcset))\n",
    "            colour_output.append((c_index + sub_divisions-\n",
    "                .001,subcset))\n",
    "            c_index = c_index + sub_divisions\n",
    "    colour_output[-1]=(1,colour_output[-1][1])\n",
    "    return colour_output\n",
    "\n",
    "color_schemes = [\n",
    "    ['rgb(254,224,210)'],\n",
    "    ['rgb(244,165,130)'],\n",
    "    ['rgb(214,96,77)'],\n",
    "    ['rgb(178,24,43)']\n",
    "]\n",
    "\n",
    "color_schemes2 = [\n",
    "    ['rgb(254,196,79)'] ,\n",
    "    ['rgb(254,153,41)'],\n",
    "    ['rgb(204,76,2)']\n",
    "]\n",
    "colorscale = generateDiscreteColourScale(color_schemes) # Colour scheme for Neighbourhood Desirability Index map\n",
    "colorscale2 = generateDiscreteColourScale(color_schemes2) # Colour scehme for Venues Denisty Map"
   ]
  },
  {
   "cell_type": "markdown",
   "metadata": {
    "deletable": false,
    "editable": false
   },
   "source": [
    "#### Essential Venues Dataset"
   ]
  },
  {
   "cell_type": "code",
   "execution_count": 77,
   "metadata": {},
   "outputs": [],
   "source": [
    "# Copy original dataframe\n",
    "venuesmap=toronto_venues_map.copy(deep=True)\n",
    "# Convert the categorical values from earlier to numerical values to allow us visualize on the choropleth map\n",
    "venuesmap['Venues Density']=venuesmap['Venues Density'].replace([\"Low\",\"Mid\",\"High\"],[0, 1, 2])"
   ]
  },
  {
   "cell_type": "markdown",
   "metadata": {
    "deletable": false,
    "editable": false
   },
   "source": [
    "#### Primary Benchmarks Dataset "
   ]
  },
  {
   "cell_type": "code",
   "execution_count": 78,
   "metadata": {},
   "outputs": [],
   "source": [
    "# Copy orignal dataframe\n",
    "cluster_map=cluster_data.copy(deep=True)\n",
    "# Rename Columns. This is not necessary\n",
    "cluster_map.columns=['Neighbourhood_Name','Neighbourhood ID','Unemployment_Rate','Crime_Rate','Covid_19_Rate']\n",
    "# Set index to Neighbourhood ID. Same as GeoJSON dataset\n",
    "cluster_map=cluster_map.set_index('Neighbourhood ID')"
   ]
  },
  {
   "cell_type": "markdown",
   "metadata": {
    "deletable": false,
    "editable": false
   },
   "source": [
    "### Final Choropleth Map "
   ]
  },
  {
   "cell_type": "markdown",
   "metadata": {
    "deletable": false,
    "editable": false
   },
   "source": [
    "This was done using Plotly Graph Objects library. I also added dropdown lists for all the datasets and for various Map styles."
   ]
  },
  {
   "cell_type": "code",
   "execution_count": null,
   "metadata": {},
   "outputs": [],
   "source": [
    "# Initialize Layout\n",
    "final_map = go.Figure()\n",
    "\n",
    "# Add Traces\n",
    "\n",
    "# Add the 1st trace for Neighbourhood Desirability Index\n",
    "final_map.add_trace(\n",
    "    go.Choroplethmapbox(\n",
    "        geojson=toronto_json, # GeoJSON file\n",
    "        locations=housing_map.index, #index needs to be same as id element of GeoJSON\n",
    "        z=housing_map['Neighbourhood Desirability Index'], # set colour value\n",
    "        text=housing_map['Neighbourhood Name'], # sets the hover information for each datapoint\n",
    "        colorbar=dict(thickness=20, # sets attributes for the colour scale\n",
    "                      ticklen=3,\n",
    "                      outlinewidth=0,\n",
    "                      title=\"Neighbourhood Desirability Index\", # title of colour bar\n",
    "                      tickmode='array',\n",
    "                      nticks=4,\n",
    "                      tickvals=[0.2, 1, 2, 2.8], # set tick values that need to be renamed\n",
    "                      ticktext=[ \"Most Desirable\", \"Desirable\", \"Semi-Desirable\",\n",
    "                          \"Least Desirable\"]), # set tick text to replace tick values\n",
    "        marker_line_width=1,\n",
    "        marker_opacity=0.7,\n",
    "        colorscale=colorscale,  # set colourscale that was defined\n",
    "        hovertemplate=\"<b>%{text}</b><br>\" + \"Desirability Index: %{z}<br>\" +\n",
    "        \"<extra></extra>\", # sets the text format shown when you hover over each shape\n",
    "        visible=True)) # plot will be visible upon rendering\n",
    "\n",
    "# Add the 2nd trace for Unemployment Rate\n",
    "final_map.add_trace(\n",
    "    go.Choroplethmapbox(\n",
    "        geojson=toronto_json,  #GeoJSON\n",
    "        locations=cluster_map.index, #index needs to be same as id element of GeoJSON \n",
    "        z=cluster_map.Unemployment_Rate,  #sets the color value\n",
    "        text=cluster_map.Neighbourhood_Name,  #sets text for each shape\n",
    "        colorbar=dict(thickness=20,\n",
    "                      ticklen=3,\n",
    "                      outlinewidth=0,\n",
    "                      title=\"Unemployment Rate\", # title of colour bar\n",
    "                      ticksuffix='%'),  #adjusts the format of the colorbar\n",
    "        marker_line_width=1,\n",
    "        marker_opacity=0.7,\n",
    "        colorscale=\"Viridis_r\",  # set colour scale\n",
    "        hovertemplate=\"<b>%{text}</b><br>\" + \"Unemployment Rate: %{z}<br>\" +\n",
    "        \"<extra></extra>\", # sets the text format shown when you hover over each shape\n",
    "        visible=False))  # plot will not be visible upon rendering\n",
    "\n",
    "# Add the 3rd trace for Crime rate\n",
    "final_map.add_trace(\n",
    "    go.Choroplethmapbox(\n",
    "        geojson=toronto_json,\n",
    "        locations=cluster_map.index,  \n",
    "        z=cluster_map.Crime_Rate,\n",
    "        text=cluster_map.Neighbourhood_Name,\n",
    "        colorbar=dict(thickness=20,\n",
    "                      ticklen=3,\n",
    "                      outlinewidth=0,\n",
    "                      title=\"Crime Rate\"),\n",
    "        marker_line_width=1,\n",
    "        marker_opacity=0.7,\n",
    "        colorscale=\"YlOrRd\",\n",
    "        hovertemplate=\"<b>%{text}</b><br>\" + \"Crime Rate: %{z}<br>\" +\n",
    "        \"<extra></extra>\",\n",
    "        visible=False))\n",
    "\n",
    "# Add the 4th trace for COVID_19 rate\n",
    "final_map.add_trace(\n",
    "    go.Choroplethmapbox(\n",
    "        geojson=toronto_json,\n",
    "        locations=cluster_map.\n",
    "        index,\n",
    "        z=cluster_map.Covid_19_Rate,\n",
    "        text=cluster_map.Neighbourhood_Name,\n",
    "        colorbar=dict(\n",
    "            thickness=20, ticklen=3, outlinewidth=0,\n",
    "            title=\"Covid-19 Rate\"),\n",
    "        marker_line_width=1,\n",
    "        marker_opacity=0.7,\n",
    "        colorscale=\"ice_r\",\n",
    "        hovertemplate=\"<b>%{text}</b><br>\" + \"Covid-19 Rate: %{z}<br>\" +\n",
    "        \"<extra></extra>\",\n",
    "        visible=False))\n",
    "\n",
    "# Add the 5th trace for Essential Venues Density\n",
    "final_map.add_trace(\n",
    "    go.Choroplethmapbox(\n",
    "        geojson=toronto_json,\n",
    "        locations=venuesmap.index,\n",
    "        z=venuesmap['Venues Density'],\n",
    "        text=venuesmap['Neighbourhood Name'],\n",
    "        colorbar=dict(thickness=20,\n",
    "                      ticklen=3,\n",
    "                      outlinewidth=0,\n",
    "                      title=\"Venues Density\",\n",
    "                      tickmode='array',\n",
    "                      nticks=4,\n",
    "                      tickvals=[0.2, 1, 1.8],\n",
    "                      ticktext=[\"Low\", \"Mid\", \"High\"]),\n",
    "        marker_line_width=1,\n",
    "        marker_opacity=0.7,\n",
    "        colorscale=colorscale2,  # set colourscale that was defined\n",
    "        hovertemplate=\"<b>%{text}</b><br>\" + \"Desirability Index: %{z}<br>\" +\n",
    "        \"<extra></extra>\",\n",
    "        visible=False))\n",
    "\n",
    "# Create drop-down menus for all the datasets\n",
    "final_map.update_layout(\n",
    "    updatemenus=[\n",
    "        dict(\n",
    "            type=\"dropdown\",  # Create type of menu\n",
    "            direction=\"down\", # Create direction of dropdown menu\n",
    "            showactive=True, # Show the selected label\n",
    "            x=0.75,          # Set up horizontal position of the menu\n",
    "            xanchor=\"left\", # refernce point for x position\n",
    "            y=1.0,         # Set up vertical position of the menu\n",
    "            yanchor=\"top\", # Reference point for y position\n",
    "            buttons=list([\n",
    "                dict(label=\"Desirability Index\", # Sets the Menu Option label\n",
    "                     method=\"update\", # updates the entire plot\n",
    "                     args=[{\n",
    "                         \"visible\": [True, False, False, False, False] # Sets the visibility when menu option is selected\n",
    "                     }, {\n",
    "                         \"title\": \"Toronto Neighbourhoods Desirability Index\"\n",
    "                     }]),\n",
    "                dict(label=\"Unemployment Rate\",\n",
    "                     method=\"update\",\n",
    "                     args=[{\n",
    "                         \"visible\": [False, True, False, False, False]\n",
    "                     }, {\n",
    "                         \"title\":\n",
    "                         \"Unemployment Rate in Toronto Neighbourhoods\"\n",
    "                     }]),\n",
    "                dict(\n",
    "                    label=\"Crime Rate\",\n",
    "                    method=\"update\",\n",
    "                    args=[{\n",
    "                        \"visible\": [False, False, True, False, False]\n",
    "                    }, {\n",
    "                        \"title\":\n",
    "                        \"Crime Rate in Toronto Neighbourhoods (per 100,000 people)\"\n",
    "                    }]),\n",
    "                dict(\n",
    "                    label=\"Covid-19 Rate\",\n",
    "                    method=\"update\",\n",
    "                    args=[{\n",
    "                        \"visible\": [False, False, False, True, False]\n",
    "                    }, {\n",
    "                        \"title\":\n",
    "                        \"Covid-19 Rate in Toronto Neighbourhoods (per 100,000 people)\"\n",
    "                    }]),\n",
    "                dict(label=\"Venues Density\",\n",
    "                     method=\"update\",\n",
    "                     args=[{\n",
    "                         \"visible\": [False, False, False, False, True]\n",
    "                     }, {\n",
    "                         \"title\": \"Toronto Neighbourhoods Venue Density\"\n",
    "                     }]),\n",
    "                dict(label=\"Clear All\",\n",
    "                     method=\"update\",\n",
    "                     args=[{\n",
    "                         \"visible\": [False, False, False, False, False]\n",
    "                     }, {\n",
    "                         \"title\": \"Toronto Neighbourhoods\"\n",
    "                     }])\n",
    "            ])),\n",
    " \n",
    "        \n",
    "# Menu options for Map styles\n",
    "        \n",
    "        dict(type=\"dropdown\",\n",
    "             direction=\"up\",\n",
    "             showactive=True,\n",
    "             x=0.75,\n",
    "             xanchor='left',\n",
    "             y=0.0,\n",
    "             yanchor='bottom',\n",
    "             buttons=list([\n",
    "                 dict(args=['mapbox.style', 'dark'],\n",
    "                      label='Dark',\n",
    "                      method='relayout'),\n",
    "                 dict(args=['mapbox.style', 'light'],\n",
    "                      label='Light',\n",
    "                      method='relayout'),\n",
    "                 dict(args=['mapbox.style', 'satellite'],\n",
    "                      label='Satellite',\n",
    "                      method='relayout'),\n",
    "                 dict(args=['mapbox.style', 'streets'],\n",
    "                      label='Streets',\n",
    "                      method='relayout')\n",
    "             ]))\n",
    "    ],\n",
    "    title={\n",
    "        'text': f\"Toronto Neighbourhoods Desirability Index\", # Inital plot title\n",
    "        'font': {'size': 20},\n",
    "        'xanchor': 'left'}, \n",
    "    mapbox1=dict(domain={'x': [0, 1], 'y': [0, 1]},\n",
    "                 center=dict(lat=tor_lat, lon=tor_lon),\n",
    "                 accesstoken=MAPBOX_ACCESSTOKEN,\n",
    "                 zoom=9.5,\n",
    "                 bearing=-12),\n",
    "    margin=dict(l=0, r=0, t=40, b=0))\n",
    "\n",
    "final_map.show()"
   ]
  }
 ],
 "metadata": {
  "kernelspec": {
   "display_name": "Python 3 (ipykernel)",
   "language": "python",
   "name": "python3"
  },
  "language_info": {
   "codemirror_mode": {
    "name": "ipython",
    "version": 3
   },
   "file_extension": ".py",
   "mimetype": "text/x-python",
   "name": "python",
   "nbconvert_exporter": "python",
   "pygments_lexer": "ipython3",
   "version": "3.10.5"
  }
 },
 "nbformat": 4,
 "nbformat_minor": 4
}
